{
 "cells": [
  {
   "cell_type": "markdown",
   "metadata": {},
   "source": [
    "# Library"
   ]
  },
  {
   "cell_type": "code",
   "execution_count": null,
   "metadata": {},
   "outputs": [],
   "source": [
    "import pandas as pd\n",
    "import numpy as np\n",
    "\n",
    "import matplotlib.pyplot as plt\n",
    "import seaborn as sns"
   ]
  },
  {
   "cell_type": "markdown",
   "metadata": {},
   "source": [
    "# Data"
   ]
  },
  {
   "cell_type": "code",
   "execution_count": null,
   "metadata": {},
   "outputs": [],
   "source": [
    "train = pd.read_csv('../data/train.csv', index_col=0)\n",
    "test = pd.read_csv('../data/test.csv', index_col=0)"
   ]
  },
  {
   "cell_type": "markdown",
   "metadata": {},
   "source": [
    "# describe"
   ]
  },
  {
   "cell_type": "code",
   "execution_count": null,
   "metadata": {},
   "outputs": [],
   "source": [
    "# データの概観\n",
    "print(\"Train dataset shape:\", train.shape)\n",
    "print(\"Test dataset shape:\", test.shape)\n",
    "\n",
    "# 最初の5行を表示\n",
    "print(train.head())\n",
    "\n",
    "# データ情報の表示\n",
    "train.info()\n",
    "\n",
    "# 基本統計量の表示\n",
    "print(train.describe())"
   ]
  },
  {
   "cell_type": "markdown",
   "metadata": {},
   "source": [
    "# 欠損値確認"
   ]
  },
  {
   "cell_type": "code",
   "execution_count": null,
   "metadata": {},
   "outputs": [],
   "source": [
    "# 欠損値の確認\n",
    "print(train.isnull().sum())"
   ]
  },
  {
   "cell_type": "markdown",
   "metadata": {},
   "source": [
    "# catの頻度分布"
   ]
  },
  {
   "cell_type": "code",
   "execution_count": null,
   "metadata": {},
   "outputs": [],
   "source": [
    "# カテゴリカルデータの頻度分布\n",
    "print(train['Sector'].value_counts())"
   ]
  },
  {
   "cell_type": "markdown",
   "metadata": {},
   "source": [
    "# numのヒストグラム"
   ]
  },
  {
   "cell_type": "code",
   "execution_count": null,
   "metadata": {},
   "outputs": [],
   "source": [
    "# 数値データのヒストグラム\n",
    "train.hist(bins=50, figsize=(20,15))\n",
    "plt.show()"
   ]
  },
  {
   "cell_type": "markdown",
   "metadata": {},
   "source": [
    "# 相関行列"
   ]
  },
  {
   "cell_type": "code",
   "execution_count": null,
   "metadata": {},
   "outputs": [],
   "source": [
    "# 相関行列の表示\n",
    "corr_matrix = train.corr()\n",
    "print(corr_matrix)\n",
    "\n",
    "# 相関行列のヒートマップ\n",
    "plt.figure(figsize=(10,8))\n",
    "sns.heatmap(corr_matrix, annot=True, fmt=\".2f\")\n",
    "plt.show()"
   ]
  },
  {
   "cell_type": "markdown",
   "metadata": {},
   "source": [
    "# 説明変数それぞれ"
   ]
  },
  {
   "cell_type": "markdown",
   "metadata": {},
   "source": [
    "### データフィールドの概要\n",
    "\n",
    "| ヘッダ名称         | 値例          | データ型 | 説明                                                       |\n",
    "|------------------|--------------|--------|----------------------------------------------------------|\n",
    "| City             | BILLINGS     | str    | 借り手の会社の所在地（市）                                     |\n",
    "| State            | FL           | str    | 借り手の会社の所在地（州）                                     |\n",
    "| BankState        | IL           | str    | 貸し手の所在地（州）                                          |\n",
    "| Sector(*)        | 0            | int    | 産業分類コード (詳細は後述)                                   |\n",
    "| Term             | 120          | int    | 融資の期間（月）                                              |\n",
    "| NoEmp            | 2            | int    | 融資を受ける前の事業の従業員数                                  |\n",
    "| NewExist         | 1.0          | float  | 新規ビジネスかどうか (*1 = 既存のビジネス、2 = 新規ビジネス)     |\n",
    "| CreateJob        | 1            | int    | 企業が融資資金を使用して創出すると予想される雇用の数                |\n",
    "| RetainedJob      | 0            | int    | 融資を受けたことで企業が維持すると予想される雇用の数                |\n",
    "| FranchiseCode    | 21           | int    | どのブランドのフランチャイズであるかを識別する一意の5桁のコード (*0または1は非フランチャイズを意味する) |\n",
    "| UrbanRural       | 1            | int    | *1 = 都市部、2 = 田舎、0 = 未定義                             |\n",
    "| RevLineCr        | N            | str    | リボルビング信用枠か (*Y = はい、N = いいえ)                     |\n",
    "| LowDoc           | N            | str    | 15 万ドル未満のローンを 1 ページの短い申請で処理できるプログラムか (*Y = はい、N = いいえ) |\n",
    "| DisbursementDate | 12-Jan-05    | str    | 融資の支払日                                                  |\n",
    "| DisbursementGross| $80,000.00   | str    | 銀行によって支払われた金額                                      |\n",
    "| GrAppv           | $108,000.00  | str    | 銀行によって承認されたローンの総額                               |\n",
    "| SBA_Appv         | $102,000.00  | str    | SBAが保証する承認されたローンの金額                             |\n",
    "| ApprovalDate     | 30-Sep-94    | str    | 米国中小企業庁の承認日                                         |\n",
    "| ApprovalFY       | 1994         | int    | 承認された財務年度                                             |\n",
    "| MIS_Status       | 1            | int    | ローンの状態(目的変数) (*0 = 債務不履行、1 = 完済)                |"
   ]
  },
  {
   "cell_type": "markdown",
   "metadata": {},
   "source": [
    "### 産業分類コードの意味\n",
    "\n",
    "| カテゴリ | 意味                       | カテゴリ | 意味                     |\n",
    "|---------|--------------------------|---------|------------------------|\n",
    "| 11      | 農業、林業、漁業、狩猟       | 53      | 不動産、賃貸・リース       |\n",
    "| 21      | 鉱業、採石業、石油・天然ガス採掘 | 54      | 専門的、科学的、技術的サービス |\n",
    "| 22      | 公共事業（電力、ガス、水道）   | 55      | 企業経営管理               |\n",
    "| 23      | 建設業                     | 56      | 行政支援、廃棄物・浄化サービス |\n",
    "| 31~33   | 製造業                     | 61      | 教育サービス               |\n",
    "| 42      | 卸売業                     | 62      | 医療、社会援助             |\n",
    "| 44~45   | 小売業                     | 71      | 芸術、娯楽、レクリエーション |\n",
    "| 48~49   | 運輸業、倉庫業               | 72      | 宿泊、飲食サービス         |\n",
    "| 51      | 情報産業                   | 81      | その他（公共行政を除く）   |\n",
    "| 52      | 金融、保険                 | 92      | 公共行政                   |"
   ]
  },
  {
   "cell_type": "code",
   "execution_count": null,
   "metadata": {},
   "outputs": [],
   "source": [
    "# 散布図の表示（例：'Term' と 'NoEmp' の関係）\n",
    "plt.figure(figsize=(8,6))\n",
    "sns.scatterplot(x='Term', y='NoEmp', data=train)\n",
    "plt.xlabel('Loan Term in Months')\n",
    "plt.ylabel('Number of Employees')\n",
    "plt.title('Relationship between Loan Term and Number of Employees')\n",
    "plt.show()\n",
    "\n",
    "# ボックスプロットの表示（例：'Sector' による 'NoEmp' の分布）\n",
    "plt.figure(figsize=(12,8))\n",
    "sns.boxplot(x='Sector', y='NoEmp', data=train)\n",
    "plt.xlabel('Sector')\n",
    "plt.ylabel('Number of Employees')\n",
    "plt.title('Distribution of Number of Employees by Sector')\n",
    "plt.xticks(rotation=45)\n",
    "plt.show()"
   ]
  }
 ],
 "metadata": {
  "language_info": {
   "name": "python"
  }
 },
 "nbformat": 4,
 "nbformat_minor": 2
}
