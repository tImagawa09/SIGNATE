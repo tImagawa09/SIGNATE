{
 "cells": [
  {
   "cell_type": "markdown",
   "metadata": {},
   "source": [
    "# Library"
   ]
  },
  {
   "cell_type": "code",
   "execution_count": 11,
   "metadata": {},
   "outputs": [],
   "source": [
    "import numpy as np\n",
    "import pandas as pd\n",
    "import seaborn as sns\n",
    "import matplotlib.pyplot as plt\n",
    "import optuna\n",
    "\n",
    "from datetime import datetime\n",
    "from sklearn.metrics import confusion_matrix, accuracy_score\n",
    "from sklearn.linear_model import LogisticRegression\n",
    "from sklearn.model_selection import train_test_split\n",
    "from sklearn.metrics import f1_score\n",
    "\n",
    "import lightgbm as lgb\n",
    "from sklearn.model_selection import train_test_split"
   ]
  },
  {
   "cell_type": "markdown",
   "metadata": {},
   "source": [
    "# Data Loading"
   ]
  },
  {
   "cell_type": "code",
   "execution_count": 12,
   "metadata": {},
   "outputs": [],
   "source": [
    "train = pd.read_csv('../data/train.csv')\n",
    "test = pd.read_csv('../data/test.csv')"
   ]
  },
  {
   "cell_type": "markdown",
   "metadata": {},
   "source": [
    "# Feature"
   ]
  },
  {
   "cell_type": "markdown",
   "metadata": {},
   "source": [
    "- 各特長量の説明\n",
    "\n",
    "| ヘッダ名称            | データ型 | 説明                                                       |\n",
    "|---------------------|-------|----------------------------------------------------------|\n",
    "| gameId             | int   | ゲームID                                                    |\n",
    "| blueFirstBlood      | int   | ゲームの最初のキル。青チームが最初のキルを行った場合は1、それ以外の場合は0 |\n",
    "| blueKills           | int   | 青チームによって殺された敵の数                                     |\n",
    "| blueDeaths          | int   | 青チームの死亡者数                                            |\n",
    "| blueAssists         | int   | 青チームのキルアシストの数                                      |\n",
    "| blueEliteMonsters   | int   | 青チームによって殺されたエリートモンスターの数（ドラゴンとヘラルド）       |\n",
    "| blueDragons         | int   | 青チームによって殺されたドラゴンの数                               |\n",
    "| blueTotalGold       | int   | 青チームの得たゴールド合計                                       |\n",
    "| blueTotalExperience | int   | 青チームの得た経験値合計                                       |\n",
    "| blueWins            | int   | 目的変数（青チームが勝った場合は1、それ以外の場合は0。）                |\n"
   ]
  },
  {
   "cell_type": "markdown",
   "metadata": {},
   "source": [
    "# Feature Engineering"
   ]
  },
  {
   "cell_type": "markdown",
   "metadata": {},
   "source": [
    "- Add new feature"
   ]
  },
  {
   "cell_type": "code",
   "execution_count": 13,
   "metadata": {},
   "outputs": [],
   "source": [
    "def create_features(df):\n",
    "    # キルとデスの比率\n",
    "    df['killDeathRatio'] = df['blueKills'] / (df['blueDeaths'] + 1)  # ゼロ除算を防ぐために+1\n",
    "\n",
    "    # アシストの割合\n",
    "    df['assistRate'] = df['blueAssists'] / (df['blueKills'] + 1)\n",
    "\n",
    "    # ヘラルドの討伐数\n",
    "    df['blueHerald'] = df['blueEliteMonsters'] - df['blueDragons']\n",
    "    # blueHerald列の負の値を0で置き換え\n",
    "    df['blueHerald'] = df['blueHerald'].clip(lower=0)\n",
    "\n",
    "    # エリートモンスターとドラゴンの比率\n",
    "    df['eliteMonsterDragonRatio'] = df['blueEliteMonsters'] / (df['blueDragons'] + 1)\n",
    "    # エリートモンスターとヘラルドの比率\n",
    "    df['eliteMonsterHeraldRatio'] = df['blueEliteMonsters'] / (df['blueHerald'] + 1)\n",
    "\n",
    "    # ゴールドと経験値の対数変換\n",
    "    df['logTotalGold'] = np.log1p(df['blueTotalGold'])\n",
    "    df['logTotalExperience'] = np.log1p(df['blueTotalExperience'])\n",
    "\n",
    "    # 初期キルの影響\n",
    "    df['firstBloodKillRatio'] = df['blueFirstBlood'] * df['blueKills']\n",
    "    \n",
    "    # キル、デス、アシストの合計\n",
    "    df['totalCombatPoints'] = df['blueKills'] + df['blueDeaths'] + df['blueAssists']\n",
    "\n",
    "    # キル・デス・アシスト比率\n",
    "    total_combat_actions = df['blueKills'] + df['blueDeaths'] + df['blueAssists']\n",
    "    df['killRatio'] = df['blueKills'] / total_combat_actions\n",
    "    df['deathRatio'] = df['blueDeaths'] / total_combat_actions\n",
    "    df['assistRatio'] = df['blueAssists'] / total_combat_actions\n",
    "\n",
    "    # チームの総合力\n",
    "    df['teamStrength'] = df['blueKills'] + df['blueAssists'] + df['blueEliteMonsters']\n",
    "\n",
    "    return df"
   ]
  },
  {
   "cell_type": "markdown",
   "metadata": {},
   "source": [
    "# model"
   ]
  },
  {
   "cell_type": "markdown",
   "metadata": {},
   "source": [
    "- data"
   ]
  },
  {
   "cell_type": "code",
   "execution_count": 14,
   "metadata": {},
   "outputs": [],
   "source": [
    "# データの準備\n",
    "X = train.drop(['blueWins', 'gameId'], axis=1)\n",
    "y = train['blueWins']\n",
    "X_train, X_val, y_train, y_val = train_test_split(X, y, test_size=0.2, random_state=0)\n",
    "\n",
    "test_drop_gameId = test.drop('gameId', axis=1)"
   ]
  },
  {
   "cell_type": "markdown",
   "metadata": {},
   "source": [
    "- optuna"
   ]
  },
  {
   "cell_type": "code",
   "execution_count": 15,
   "metadata": {},
   "outputs": [
    {
     "name": "stderr",
     "output_type": "stream",
     "text": [
      "[I 2024-01-22 12:46:07,641] A new study created in memory with name: no-name-9d232555-242e-47a8-b5af-2d97053ba674\n"
     ]
    },
    {
     "name": "stdout",
     "output_type": "stream",
     "text": [
      "Training until validation scores don't improve for 50 rounds\n"
     ]
    },
    {
     "name": "stderr",
     "output_type": "stream",
     "text": [
      "[I 2024-01-22 12:46:08,264] Trial 0 finished with value: 0.8025 and parameters: {'lambda_l1': 0.001563880422307558, 'lambda_l2': 0.0003053748063124683, 'num_leaves': 6, 'feature_fraction': 0.7052287532824972, 'bagging_fraction': 0.8536071514044961, 'bagging_freq': 4, 'min_child_samples': 55}. Best is trial 0 with value: 0.8025.\n"
     ]
    },
    {
     "name": "stdout",
     "output_type": "stream",
     "text": [
      "Early stopping, best iteration is:\n",
      "[188]\tvalid_0's binary_error: 0.1975\n",
      "Training until validation scores don't improve for 50 rounds\n"
     ]
    },
    {
     "name": "stderr",
     "output_type": "stream",
     "text": [
      "[I 2024-01-22 12:46:08,596] Trial 1 finished with value: 0.808125 and parameters: {'lambda_l1': 4.9814494320025316e-05, 'lambda_l2': 0.02271150685992115, 'num_leaves': 150, 'feature_fraction': 0.6308929916189836, 'bagging_fraction': 0.9691809583904215, 'bagging_freq': 5, 'min_child_samples': 49}. Best is trial 1 with value: 0.808125.\n",
      "[I 2024-01-22 12:46:08,728] Trial 2 finished with value: 0.809375 and parameters: {'lambda_l1': 0.0003465631157802406, 'lambda_l2': 0.004268732075661603, 'num_leaves': 101, 'feature_fraction': 0.8952339752215954, 'bagging_fraction': 0.6709701782690868, 'bagging_freq': 5, 'min_child_samples': 69}. Best is trial 2 with value: 0.809375.\n"
     ]
    },
    {
     "name": "stdout",
     "output_type": "stream",
     "text": [
      "Early stopping, best iteration is:\n",
      "[64]\tvalid_0's binary_error: 0.191875\n",
      "Training until validation scores don't improve for 50 rounds\n",
      "Early stopping, best iteration is:\n",
      "[62]\tvalid_0's binary_error: 0.190625\n",
      "Training until validation scores don't improve for 50 rounds\n"
     ]
    },
    {
     "name": "stderr",
     "output_type": "stream",
     "text": [
      "[I 2024-01-22 12:46:08,858] Trial 3 finished with value: 0.81 and parameters: {'lambda_l1': 1.0771048716072127e-06, 'lambda_l2': 4.170707688323676e-07, 'num_leaves': 146, 'feature_fraction': 0.9428500278271443, 'bagging_fraction': 0.6907300198066866, 'bagging_freq': 5, 'min_child_samples': 79}. Best is trial 3 with value: 0.81.\n",
      "[I 2024-01-22 12:46:08,994] Trial 4 finished with value: 0.813125 and parameters: {'lambda_l1': 3.029694941458209e-07, 'lambda_l2': 0.0003465633789852924, 'num_leaves': 255, 'feature_fraction': 0.8972220112625833, 'bagging_fraction': 0.6153147293584453, 'bagging_freq': 5, 'min_child_samples': 47}. Best is trial 4 with value: 0.813125.\n",
      "[I 2024-01-22 12:46:09,027] Trial 5 finished with value: 0.760625 and parameters: {'lambda_l1': 0.7450161674319324, 'lambda_l2': 1.402290209562465e-07, 'num_leaves': 2, 'feature_fraction': 0.9608739439635942, 'bagging_fraction': 0.9584864187136946, 'bagging_freq': 6, 'min_child_samples': 14}. Best is trial 4 with value: 0.813125.\n"
     ]
    },
    {
     "name": "stdout",
     "output_type": "stream",
     "text": [
      "Early stopping, best iteration is:\n",
      "[62]\tvalid_0's binary_error: 0.19\n",
      "Training until validation scores don't improve for 50 rounds\n",
      "Early stopping, best iteration is:\n",
      "[56]\tvalid_0's binary_error: 0.186875\n",
      "Training until validation scores don't improve for 50 rounds\n",
      "Early stopping, best iteration is:\n",
      "[42]\tvalid_0's binary_error: 0.239375\n"
     ]
    },
    {
     "name": "stderr",
     "output_type": "stream",
     "text": [
      "[I 2024-01-22 12:46:09,208] Trial 6 finished with value: 0.81 and parameters: {'lambda_l1': 0.1226479108012396, 'lambda_l2': 1.9979676337035588, 'num_leaves': 253, 'feature_fraction': 0.6081440923074581, 'bagging_fraction': 0.8295158843121694, 'bagging_freq': 3, 'min_child_samples': 79}. Best is trial 4 with value: 0.813125.\n"
     ]
    },
    {
     "name": "stdout",
     "output_type": "stream",
     "text": [
      "Training until validation scores don't improve for 50 rounds\n",
      "Early stopping, best iteration is:\n",
      "[101]\tvalid_0's binary_error: 0.19\n",
      "Training until validation scores don't improve for 50 rounds\n"
     ]
    },
    {
     "name": "stderr",
     "output_type": "stream",
     "text": [
      "[I 2024-01-22 12:46:09,348] Trial 7 finished with value: 0.809375 and parameters: {'lambda_l1': 1.9352458588788064e-08, 'lambda_l2': 1.9815133487238913e-08, 'num_leaves': 70, 'feature_fraction': 0.6411742182933802, 'bagging_fraction': 0.41774547812021057, 'bagging_freq': 2, 'min_child_samples': 69}. Best is trial 4 with value: 0.813125.\n",
      "[I 2024-01-22 12:46:09,493] Trial 8 finished with value: 0.808125 and parameters: {'lambda_l1': 0.036917151896419316, 'lambda_l2': 0.14577941877124448, 'num_leaves': 58, 'feature_fraction': 0.5056713652131745, 'bagging_fraction': 0.649427906619215, 'bagging_freq': 5, 'min_child_samples': 21}. Best is trial 4 with value: 0.813125.\n"
     ]
    },
    {
     "name": "stdout",
     "output_type": "stream",
     "text": [
      "Early stopping, best iteration is:\n",
      "[94]\tvalid_0's binary_error: 0.190625\n",
      "Training until validation scores don't improve for 50 rounds\n",
      "Early stopping, best iteration is:\n",
      "[69]\tvalid_0's binary_error: 0.191875\n",
      "Training until validation scores don't improve for 50 rounds\n"
     ]
    },
    {
     "name": "stderr",
     "output_type": "stream",
     "text": [
      "[I 2024-01-22 12:46:09,649] Trial 9 finished with value: 0.81125 and parameters: {'lambda_l1': 4.93801954096852, 'lambda_l2': 1.5585082092637506e-06, 'num_leaves': 79, 'feature_fraction': 0.966445091221835, 'bagging_fraction': 0.8209650858711339, 'bagging_freq': 3, 'min_child_samples': 48}. Best is trial 4 with value: 0.813125.\n"
     ]
    },
    {
     "name": "stdout",
     "output_type": "stream",
     "text": [
      "Early stopping, best iteration is:\n",
      "[128]\tvalid_0's binary_error: 0.18875\n",
      "Training until validation scores don't improve for 50 rounds\n",
      "Early stopping, best iteration is:\n",
      "[49]\tvalid_0's binary_error: 0.195625\n"
     ]
    },
    {
     "name": "stderr",
     "output_type": "stream",
     "text": [
      "[I 2024-01-22 12:46:09,824] Trial 10 finished with value: 0.804375 and parameters: {'lambda_l1': 1.6531981853871957e-08, 'lambda_l2': 4.1188718925037726e-05, 'num_leaves': 236, 'feature_fraction': 0.8166095369812834, 'bagging_fraction': 0.5201241468812725, 'bagging_freq': 7, 'min_child_samples': 30}. Best is trial 4 with value: 0.813125.\n",
      "[I 2024-01-22 12:46:10,041] Trial 11 finished with value: 0.806875 and parameters: {'lambda_l1': 5.290941831013883, 'lambda_l2': 2.2398002000140747e-05, 'num_leaves': 193, 'feature_fraction': 0.9951815123800605, 'bagging_fraction': 0.7954732781687168, 'bagging_freq': 1, 'min_child_samples': 40}. Best is trial 4 with value: 0.813125.\n"
     ]
    },
    {
     "name": "stdout",
     "output_type": "stream",
     "text": [
      "Training until validation scores don't improve for 50 rounds\n",
      "Early stopping, best iteration is:\n",
      "[90]\tvalid_0's binary_error: 0.193125\n"
     ]
    },
    {
     "name": "stderr",
     "output_type": "stream",
     "text": [
      "[I 2024-01-22 12:46:10,200] Trial 12 finished with value: 0.81375 and parameters: {'lambda_l1': 1.186978190646608e-05, 'lambda_l2': 3.869979838657362e-06, 'num_leaves': 186, 'feature_fraction': 0.8441820367532297, 'bagging_fraction': 0.5797353026567583, 'bagging_freq': 3, 'min_child_samples': 95}. Best is trial 12 with value: 0.81375.\n"
     ]
    },
    {
     "name": "stdout",
     "output_type": "stream",
     "text": [
      "Training until validation scores don't improve for 50 rounds\n",
      "Early stopping, best iteration is:\n",
      "[74]\tvalid_0's binary_error: 0.18625\n",
      "Training until validation scores don't improve for 50 rounds\n"
     ]
    },
    {
     "name": "stderr",
     "output_type": "stream",
     "text": [
      "[I 2024-01-22 12:46:10,394] Trial 13 finished with value: 0.81375 and parameters: {'lambda_l1': 3.3875811988657373e-06, 'lambda_l2': 1.0316553066205027e-05, 'num_leaves': 208, 'feature_fraction': 0.8220704004712547, 'bagging_fraction': 0.5774498047639594, 'bagging_freq': 3, 'min_child_samples': 98}. Best is trial 12 with value: 0.81375.\n",
      "[I 2024-01-22 12:46:10,542] Trial 14 finished with value: 0.8125 and parameters: {'lambda_l1': 5.6036567594631514e-06, 'lambda_l2': 3.52534921253493e-06, 'num_leaves': 194, 'feature_fraction': 0.7983848243757429, 'bagging_fraction': 0.5573546265225439, 'bagging_freq': 3, 'min_child_samples': 93}. Best is trial 12 with value: 0.81375.\n"
     ]
    },
    {
     "name": "stdout",
     "output_type": "stream",
     "text": [
      "Early stopping, best iteration is:\n",
      "[119]\tvalid_0's binary_error: 0.18625\n",
      "Training until validation scores don't improve for 50 rounds\n",
      "Early stopping, best iteration is:\n",
      "[90]\tvalid_0's binary_error: 0.1875\n"
     ]
    },
    {
     "name": "stderr",
     "output_type": "stream",
     "text": [
      "[I 2024-01-22 12:46:10,742] Trial 15 finished with value: 0.81 and parameters: {'lambda_l1': 1.630726703816234e-05, 'lambda_l2': 8.802989537632994e-06, 'num_leaves': 207, 'feature_fraction': 0.7826206104570198, 'bagging_fraction': 0.5159759724554234, 'bagging_freq': 1, 'min_child_samples': 100}. Best is trial 12 with value: 0.81375.\n"
     ]
    },
    {
     "name": "stdout",
     "output_type": "stream",
     "text": [
      "Training until validation scores don't improve for 50 rounds\n",
      "Early stopping, best iteration is:\n",
      "[123]\tvalid_0's binary_error: 0.19\n"
     ]
    },
    {
     "name": "stderr",
     "output_type": "stream",
     "text": [
      "[I 2024-01-22 12:46:10,908] Trial 16 finished with value: 0.81 and parameters: {'lambda_l1': 0.00014812585011987503, 'lambda_l2': 2.8516236579003514e-08, 'num_leaves': 170, 'feature_fraction': 0.8520166770004054, 'bagging_fraction': 0.5839864648295917, 'bagging_freq': 2, 'min_child_samples': 87}. Best is trial 12 with value: 0.81375.\n"
     ]
    },
    {
     "name": "stdout",
     "output_type": "stream",
     "text": [
      "Training until validation scores don't improve for 50 rounds\n",
      "Early stopping, best iteration is:\n",
      "[81]\tvalid_0's binary_error: 0.19\n",
      "Training until validation scores don't improve for 50 rounds\n"
     ]
    },
    {
     "name": "stderr",
     "output_type": "stream",
     "text": [
      "[I 2024-01-22 12:46:11,065] Trial 17 finished with value: 0.81 and parameters: {'lambda_l1': 1.519440295040223e-06, 'lambda_l2': 6.842741483309732e-07, 'num_leaves': 215, 'feature_fraction': 0.746579683542848, 'bagging_fraction': 0.4476441324063005, 'bagging_freq': 2, 'min_child_samples': 64}. Best is trial 12 with value: 0.81375.\n",
      "[I 2024-01-22 12:46:11,228] Trial 18 finished with value: 0.805625 and parameters: {'lambda_l1': 0.0022205661960450333, 'lambda_l2': 8.466499321834543e-05, 'num_leaves': 117, 'feature_fraction': 0.8577020183277284, 'bagging_fraction': 0.7249529289804356, 'bagging_freq': 3, 'min_child_samples': 100}. Best is trial 12 with value: 0.81375.\n"
     ]
    },
    {
     "name": "stdout",
     "output_type": "stream",
     "text": [
      "Early stopping, best iteration is:\n",
      "[49]\tvalid_0's binary_error: 0.19\n",
      "Training until validation scores don't improve for 50 rounds\n",
      "Early stopping, best iteration is:\n",
      "[78]\tvalid_0's binary_error: 0.194375\n"
     ]
    },
    {
     "name": "stderr",
     "output_type": "stream",
     "text": [
      "[I 2024-01-22 12:46:11,362] Trial 19 finished with value: 0.80625 and parameters: {'lambda_l1': 1.8212644101123024e-05, 'lambda_l2': 4.0999215723887824e-06, 'num_leaves': 168, 'feature_fraction': 0.7363014106320026, 'bagging_fraction': 0.4776274978705962, 'bagging_freq': 4, 'min_child_samples': 87}. Best is trial 12 with value: 0.81375.\n"
     ]
    },
    {
     "name": "stdout",
     "output_type": "stream",
     "text": [
      "Training until validation scores don't improve for 50 rounds\n",
      "Early stopping, best iteration is:\n",
      "[53]\tvalid_0's binary_error: 0.19375\n",
      "Training until validation scores don't improve for 50 rounds\n"
     ]
    },
    {
     "name": "stderr",
     "output_type": "stream",
     "text": [
      "[I 2024-01-22 12:46:11,575] Trial 20 finished with value: 0.811875 and parameters: {'lambda_l1': 1.5524264367704962e-07, 'lambda_l2': 1.079594217146029e-07, 'num_leaves': 228, 'feature_fraction': 0.7853060934917557, 'bagging_fraction': 0.5969260471424551, 'bagging_freq': 4, 'min_child_samples': 77}. Best is trial 12 with value: 0.81375.\n",
      "[I 2024-01-22 12:46:11,727] Trial 21 finished with value: 0.805 and parameters: {'lambda_l1': 5.986060300056866e-07, 'lambda_l2': 0.00041726369994159705, 'num_leaves': 253, 'feature_fraction': 0.9168994827955825, 'bagging_fraction': 0.6174790460210142, 'bagging_freq': 6, 'min_child_samples': 37}. Best is trial 12 with value: 0.81375.\n"
     ]
    },
    {
     "name": "stdout",
     "output_type": "stream",
     "text": [
      "Early stopping, best iteration is:\n",
      "[113]\tvalid_0's binary_error: 0.188125\n",
      "Training until validation scores don't improve for 50 rounds\n",
      "Early stopping, best iteration is:\n",
      "[29]\tvalid_0's binary_error: 0.195\n"
     ]
    },
    {
     "name": "stderr",
     "output_type": "stream",
     "text": [
      "[I 2024-01-22 12:46:11,881] Trial 22 finished with value: 0.8075 and parameters: {'lambda_l1': 1.8820044546216881e-07, 'lambda_l2': 0.00047812861720295305, 'num_leaves': 183, 'feature_fraction': 0.8814953578648433, 'bagging_fraction': 0.5466512684968227, 'bagging_freq': 4, 'min_child_samples': 60}. Best is trial 12 with value: 0.81375.\n"
     ]
    },
    {
     "name": "stdout",
     "output_type": "stream",
     "text": [
      "Training until validation scores don't improve for 50 rounds\n",
      "Early stopping, best iteration is:\n",
      "[41]\tvalid_0's binary_error: 0.1925\n",
      "Training until validation scores don't improve for 50 rounds\n"
     ]
    },
    {
     "name": "stderr",
     "output_type": "stream",
     "text": [
      "[I 2024-01-22 12:46:12,062] Trial 23 finished with value: 0.815625 and parameters: {'lambda_l1': 6.584263407732149e-06, 'lambda_l2': 9.006191795058722e-06, 'num_leaves': 226, 'feature_fraction': 0.8356729328977948, 'bagging_fraction': 0.6266989768035969, 'bagging_freq': 3, 'min_child_samples': 92}. Best is trial 23 with value: 0.815625.\n",
      "[I 2024-01-22 12:46:12,232] Trial 24 finished with value: 0.813125 and parameters: {'lambda_l1': 4.2589943234743936e-06, 'lambda_l2': 9.445584105993533e-06, 'num_leaves': 217, 'feature_fraction': 0.8048046584227394, 'bagging_fraction': 0.4806823379795743, 'bagging_freq': 2, 'min_child_samples': 90}. Best is trial 23 with value: 0.815625.\n"
     ]
    },
    {
     "name": "stdout",
     "output_type": "stream",
     "text": [
      "Early stopping, best iteration is:\n",
      "[83]\tvalid_0's binary_error: 0.184375\n",
      "Training until validation scores don't improve for 50 rounds\n",
      "Early stopping, best iteration is:\n",
      "[113]\tvalid_0's binary_error: 0.186875\n"
     ]
    },
    {
     "name": "stderr",
     "output_type": "stream",
     "text": [
      "[I 2024-01-22 12:46:12,408] Trial 25 finished with value: 0.81125 and parameters: {'lambda_l1': 3.4050336301960583e-06, 'lambda_l2': 1.394183831679873e-06, 'num_leaves': 152, 'feature_fraction': 0.8447304782496925, 'bagging_fraction': 0.6336801332251859, 'bagging_freq': 3, 'min_child_samples': 96}. Best is trial 23 with value: 0.815625.\n"
     ]
    },
    {
     "name": "stdout",
     "output_type": "stream",
     "text": [
      "Training until validation scores don't improve for 50 rounds\n",
      "Early stopping, best iteration is:\n",
      "[119]\tvalid_0's binary_error: 0.18875\n",
      "Training until validation scores don't improve for 50 rounds\n"
     ]
    },
    {
     "name": "stderr",
     "output_type": "stream",
     "text": [
      "[I 2024-01-22 12:46:12,590] Trial 26 finished with value: 0.80875 and parameters: {'lambda_l1': 2.8124982993156295e-05, 'lambda_l2': 1.5160371161295328e-05, 'num_leaves': 231, 'feature_fraction': 0.8438954788320853, 'bagging_fraction': 0.5654676466056116, 'bagging_freq': 2, 'min_child_samples': 80}. Best is trial 23 with value: 0.815625.\n"
     ]
    },
    {
     "name": "stdout",
     "output_type": "stream",
     "text": [
      "Early stopping, best iteration is:\n",
      "[48]\tvalid_0's binary_error: 0.19125\n",
      "Training until validation scores don't improve for 50 rounds\n"
     ]
    },
    {
     "name": "stderr",
     "output_type": "stream",
     "text": [
      "[I 2024-01-22 12:46:12,828] Trial 27 finished with value: 0.815 and parameters: {'lambda_l1': 0.00012637069548822468, 'lambda_l2': 5.6355006291864536e-05, 'num_leaves': 176, 'feature_fraction': 0.9224252753832992, 'bagging_fraction': 0.720603165944357, 'bagging_freq': 3, 'min_child_samples': 85}. Best is trial 23 with value: 0.815625.\n"
     ]
    },
    {
     "name": "stdout",
     "output_type": "stream",
     "text": [
      "Early stopping, best iteration is:\n",
      "[83]\tvalid_0's binary_error: 0.185\n",
      "Training until validation scores don't improve for 50 rounds\n"
     ]
    },
    {
     "name": "stderr",
     "output_type": "stream",
     "text": [
      "[I 2024-01-22 12:46:13,057] Trial 28 finished with value: 0.8125 and parameters: {'lambda_l1': 0.00010200117666558497, 'lambda_l2': 7.321814632151555e-05, 'num_leaves': 123, 'feature_fraction': 0.9327171946328251, 'bagging_fraction': 0.6988294342175867, 'bagging_freq': 1, 'min_child_samples': 85}. Best is trial 23 with value: 0.815625.\n"
     ]
    },
    {
     "name": "stdout",
     "output_type": "stream",
     "text": [
      "Early stopping, best iteration is:\n",
      "[85]\tvalid_0's binary_error: 0.1875\n",
      "Training until validation scores don't improve for 50 rounds\n",
      "Early stopping, best iteration is:\n",
      "[62]\tvalid_0's binary_error: 0.19\n"
     ]
    },
    {
     "name": "stderr",
     "output_type": "stream",
     "text": [
      "[I 2024-01-22 12:46:13,257] Trial 29 finished with value: 0.81 and parameters: {'lambda_l1': 0.0007244527297069351, 'lambda_l2': 0.0018055811677866935, 'num_leaves': 33, 'feature_fraction': 0.9997426121240655, 'bagging_fraction': 0.7154638203745696, 'bagging_freq': 4, 'min_child_samples': 70}. Best is trial 23 with value: 0.815625.\n",
      "[I 2024-01-22 12:46:13,423] Trial 30 finished with value: 0.80875 and parameters: {'lambda_l1': 0.0035482482423541497, 'lambda_l2': 8.593665531499438e-05, 'num_leaves': 170, 'feature_fraction': 0.9039966848755381, 'bagging_fraction': 0.7657410313812792, 'bagging_freq': 3, 'min_child_samples': 58}. Best is trial 23 with value: 0.815625.\n"
     ]
    },
    {
     "name": "stdout",
     "output_type": "stream",
     "text": [
      "Training until validation scores don't improve for 50 rounds\n",
      "Early stopping, best iteration is:\n",
      "[39]\tvalid_0's binary_error: 0.19125\n",
      "Training until validation scores don't improve for 50 rounds\n"
     ]
    },
    {
     "name": "stderr",
     "output_type": "stream",
     "text": [
      "[I 2024-01-22 12:46:13,591] Trial 31 finished with value: 0.811875 and parameters: {'lambda_l1': 1.1019695059703383e-05, 'lambda_l2': 4.3070237776403245e-06, 'num_leaves': 200, 'feature_fraction': 0.8738902301427621, 'bagging_fraction': 0.6564781834875042, 'bagging_freq': 3, 'min_child_samples': 94}. Best is trial 23 with value: 0.815625.\n",
      "[I 2024-01-22 12:46:13,742] Trial 32 finished with value: 0.810625 and parameters: {'lambda_l1': 0.00012891447423285938, 'lambda_l2': 3.863754392915365e-05, 'num_leaves': 177, 'feature_fraction': 0.828833900609569, 'bagging_fraction': 0.6045795322145585, 'bagging_freq': 4, 'min_child_samples': 100}. Best is trial 23 with value: 0.815625.\n"
     ]
    },
    {
     "name": "stdout",
     "output_type": "stream",
     "text": [
      "Early stopping, best iteration is:\n",
      "[71]\tvalid_0's binary_error: 0.188125\n",
      "Training until validation scores don't improve for 50 rounds\n",
      "Early stopping, best iteration is:\n",
      "[66]\tvalid_0's binary_error: 0.189375\n"
     ]
    },
    {
     "name": "stderr",
     "output_type": "stream",
     "text": [
      "[I 2024-01-22 12:46:13,955] Trial 33 finished with value: 0.811875 and parameters: {'lambda_l1': 5.425752214251133e-05, 'lambda_l2': 1.1163688537051559e-05, 'num_leaves': 159, 'feature_fraction': 0.9144426615621615, 'bagging_fraction': 0.6605367565672108, 'bagging_freq': 2, 'min_child_samples': 83}. Best is trial 23 with value: 0.815625.\n"
     ]
    },
    {
     "name": "stdout",
     "output_type": "stream",
     "text": [
      "Training until validation scores don't improve for 50 rounds\n",
      "Early stopping, best iteration is:\n",
      "[120]\tvalid_0's binary_error: 0.188125\n"
     ]
    },
    {
     "name": "stderr",
     "output_type": "stream",
     "text": [
      "[I 2024-01-22 12:46:14,189] Trial 34 finished with value: 0.813125 and parameters: {'lambda_l1': 3.160118262393861e-05, 'lambda_l2': 0.00014321504372471458, 'num_leaves': 141, 'feature_fraction': 0.8810087450771823, 'bagging_fraction': 0.738538834124228, 'bagging_freq': 3, 'min_child_samples': 92}. Best is trial 23 with value: 0.815625.\n"
     ]
    },
    {
     "name": "stdout",
     "output_type": "stream",
     "text": [
      "Training until validation scores don't improve for 50 rounds\n",
      "Early stopping, best iteration is:\n",
      "[90]\tvalid_0's binary_error: 0.186875\n",
      "Training until validation scores don't improve for 50 rounds\n",
      "Early stopping, best iteration is:\n",
      "[119]\tvalid_0's binary_error: 0.188125\n"
     ]
    },
    {
     "name": "stderr",
     "output_type": "stream",
     "text": [
      "[I 2024-01-22 12:46:14,482] Trial 35 finished with value: 0.811875 and parameters: {'lambda_l1': 1.5548658300984314e-06, 'lambda_l2': 3.5895751186531145e-07, 'num_leaves': 184, 'feature_fraction': 0.9382455215192137, 'bagging_fraction': 0.6734272073651258, 'bagging_freq': 4, 'min_child_samples': 74}. Best is trial 23 with value: 0.815625.\n",
      "[I 2024-01-22 12:46:14,705] Trial 36 finished with value: 0.80875 and parameters: {'lambda_l1': 0.00031504649463718373, 'lambda_l2': 1.7028010504611762e-06, 'num_leaves': 217, 'feature_fraction': 0.7729405115370926, 'bagging_fraction': 0.638023620666509, 'bagging_freq': 3, 'min_child_samples': 89}. Best is trial 23 with value: 0.815625.\n"
     ]
    },
    {
     "name": "stdout",
     "output_type": "stream",
     "text": [
      "Training until validation scores don't improve for 50 rounds\n",
      "Early stopping, best iteration is:\n",
      "[108]\tvalid_0's binary_error: 0.19125\n"
     ]
    },
    {
     "name": "stderr",
     "output_type": "stream",
     "text": [
      "[I 2024-01-22 12:46:14,863] Trial 37 finished with value: 0.80625 and parameters: {'lambda_l1': 7.891423042869876e-06, 'lambda_l2': 2.4240226576489147e-05, 'num_leaves': 239, 'feature_fraction': 0.8297299125950582, 'bagging_fraction': 0.5740654899455768, 'bagging_freq': 2, 'min_child_samples': 95}. Best is trial 23 with value: 0.815625.\n"
     ]
    },
    {
     "name": "stdout",
     "output_type": "stream",
     "text": [
      "Training until validation scores don't improve for 50 rounds\n",
      "Early stopping, best iteration is:\n",
      "[55]\tvalid_0's binary_error: 0.19375\n",
      "Training until validation scores don't improve for 50 rounds\n"
     ]
    },
    {
     "name": "stderr",
     "output_type": "stream",
     "text": [
      "[I 2024-01-22 12:46:15,116] Trial 38 finished with value: 0.81 and parameters: {'lambda_l1': 4.748520149670796e-05, 'lambda_l2': 0.00021711757588069718, 'num_leaves': 104, 'feature_fraction': 0.6993276786275977, 'bagging_fraction': 0.683462318028074, 'bagging_freq': 5, 'min_child_samples': 73}. Best is trial 23 with value: 0.815625.\n",
      "[I 2024-01-22 12:46:15,305] Trial 39 finished with value: 0.8125 and parameters: {'lambda_l1': 2.906114420146286e-06, 'lambda_l2': 0.0014732065871559349, 'num_leaves': 141, 'feature_fraction': 0.8879545900410906, 'bagging_fraction': 0.617911262375437, 'bagging_freq': 3, 'min_child_samples': 82}. Best is trial 23 with value: 0.815625.\n"
     ]
    },
    {
     "name": "stdout",
     "output_type": "stream",
     "text": [
      "Early stopping, best iteration is:\n",
      "[69]\tvalid_0's binary_error: 0.19\n",
      "Training until validation scores don't improve for 50 rounds\n",
      "Early stopping, best iteration is:\n",
      "[80]\tvalid_0's binary_error: 0.1875\n"
     ]
    },
    {
     "name": "stderr",
     "output_type": "stream",
     "text": [
      "[I 2024-01-22 12:46:15,561] Trial 40 finished with value: 0.79375 and parameters: {'lambda_l1': 5.488946163521542e-07, 'lambda_l2': 3.429859909131766e-07, 'num_leaves': 208, 'feature_fraction': 0.9538758453262682, 'bagging_fraction': 0.885934874863621, 'bagging_freq': 5, 'min_child_samples': 5}. Best is trial 23 with value: 0.815625.\n"
     ]
    },
    {
     "name": "stdout",
     "output_type": "stream",
     "text": [
      "Training until validation scores don't improve for 50 rounds\n",
      "Early stopping, best iteration is:\n",
      "[13]\tvalid_0's binary_error: 0.20625\n"
     ]
    },
    {
     "name": "stderr",
     "output_type": "stream",
     "text": [
      "[I 2024-01-22 12:46:15,770] Trial 41 finished with value: 0.808125 and parameters: {'lambda_l1': 1.29189284416127e-05, 'lambda_l2': 0.0002259757145014252, 'num_leaves': 225, 'feature_fraction': 0.9063932388904214, 'bagging_fraction': 0.6000009149698068, 'bagging_freq': 6, 'min_child_samples': 50}. Best is trial 23 with value: 0.815625.\n"
     ]
    },
    {
     "name": "stdout",
     "output_type": "stream",
     "text": [
      "Training until validation scores don't improve for 50 rounds\n",
      "Early stopping, best iteration is:\n",
      "[37]\tvalid_0's binary_error: 0.191875\n",
      "Training until validation scores don't improve for 50 rounds\n"
     ]
    },
    {
     "name": "stderr",
     "output_type": "stream",
     "text": [
      "[I 2024-01-22 12:46:16,022] Trial 42 finished with value: 0.81125 and parameters: {'lambda_l1': 2.02224938194228e-07, 'lambda_l2': 4.0394473751287345e-05, 'num_leaves': 245, 'feature_fraction': 0.868886709972896, 'bagging_fraction': 0.6403713255459291, 'bagging_freq': 4, 'min_child_samples': 46}. Best is trial 23 with value: 0.815625.\n"
     ]
    },
    {
     "name": "stdout",
     "output_type": "stream",
     "text": [
      "Early stopping, best iteration is:\n",
      "[56]\tvalid_0's binary_error: 0.18875\n",
      "Training until validation scores don't improve for 50 rounds\n"
     ]
    },
    {
     "name": "stderr",
     "output_type": "stream",
     "text": [
      "[I 2024-01-22 12:46:16,307] Trial 43 finished with value: 0.81 and parameters: {'lambda_l1': 4.9929132488081896e-06, 'lambda_l2': 0.007074516736862917, 'num_leaves': 247, 'feature_fraction': 0.8321723820764902, 'bagging_fraction': 0.6936934531336789, 'bagging_freq': 5, 'min_child_samples': 42}. Best is trial 23 with value: 0.815625.\n"
     ]
    },
    {
     "name": "stdout",
     "output_type": "stream",
     "text": [
      "Early stopping, best iteration is:\n",
      "[35]\tvalid_0's binary_error: 0.19\n",
      "Training until validation scores don't improve for 50 rounds\n"
     ]
    },
    {
     "name": "stderr",
     "output_type": "stream",
     "text": [
      "[I 2024-01-22 12:46:16,532] Trial 44 finished with value: 0.806875 and parameters: {'lambda_l1': 4.7081852218093306e-08, 'lambda_l2': 8.99786912740035e-06, 'num_leaves': 196, 'feature_fraction': 0.9582602885677017, 'bagging_fraction': 0.549021849860419, 'bagging_freq': 6, 'min_child_samples': 55}. Best is trial 23 with value: 0.815625.\n"
     ]
    },
    {
     "name": "stdout",
     "output_type": "stream",
     "text": [
      "Early stopping, best iteration is:\n",
      "[84]\tvalid_0's binary_error: 0.193125\n",
      "Training until validation scores don't improve for 50 rounds\n"
     ]
    },
    {
     "name": "stderr",
     "output_type": "stream",
     "text": [
      "[I 2024-01-22 12:46:16,746] Trial 45 finished with value: 0.808125 and parameters: {'lambda_l1': 1.0176896056635492e-06, 'lambda_l2': 2.6207144757028946e-05, 'num_leaves': 204, 'feature_fraction': 0.8126349227547981, 'bagging_fraction': 0.5862148685143669, 'bagging_freq': 3, 'min_child_samples': 27}. Best is trial 23 with value: 0.815625.\n"
     ]
    },
    {
     "name": "stdout",
     "output_type": "stream",
     "text": [
      "Early stopping, best iteration is:\n",
      "[41]\tvalid_0's binary_error: 0.191875\n",
      "Training until validation scores don't improve for 50 rounds\n"
     ]
    },
    {
     "name": "stderr",
     "output_type": "stream",
     "text": [
      "[I 2024-01-22 12:46:17,010] Trial 46 finished with value: 0.813125 and parameters: {'lambda_l1': 1.0909866431684328e-05, 'lambda_l2': 0.0006845394975713752, 'num_leaves': 226, 'feature_fraction': 0.9251404817171031, 'bagging_fraction': 0.6686416303896977, 'bagging_freq': 4, 'min_child_samples': 63}. Best is trial 23 with value: 0.815625.\n",
      "[I 2024-01-22 12:46:17,189] Trial 47 finished with value: 0.81 and parameters: {'lambda_l1': 1.9518914835839043e-06, 'lambda_l2': 0.00011772601084741288, 'num_leaves': 186, 'feature_fraction': 0.9795784062706036, 'bagging_fraction': 0.5276693220867075, 'bagging_freq': 2, 'min_child_samples': 97}. Best is trial 23 with value: 0.815625.\n"
     ]
    },
    {
     "name": "stdout",
     "output_type": "stream",
     "text": [
      "Early stopping, best iteration is:\n",
      "[66]\tvalid_0's binary_error: 0.186875\n",
      "Training until validation scores don't improve for 50 rounds\n",
      "Early stopping, best iteration is:\n",
      "[116]\tvalid_0's binary_error: 0.19\n"
     ]
    },
    {
     "name": "stderr",
     "output_type": "stream",
     "text": [
      "[I 2024-01-22 12:46:17,391] Trial 48 finished with value: 0.80875 and parameters: {'lambda_l1': 7.208018274814384e-07, 'lambda_l2': 2.505937531672533e-06, 'num_leaves': 254, 'feature_fraction': 0.8583870187308695, 'bagging_fraction': 0.6289276173201434, 'bagging_freq': 5, 'min_child_samples': 90}. Best is trial 23 with value: 0.815625.\n"
     ]
    },
    {
     "name": "stdout",
     "output_type": "stream",
     "text": [
      "Training until validation scores don't improve for 50 rounds\n",
      "Early stopping, best iteration is:\n",
      "[60]\tvalid_0's binary_error: 0.19125\n",
      "Training until validation scores don't improve for 50 rounds\n"
     ]
    },
    {
     "name": "stderr",
     "output_type": "stream",
     "text": [
      "[I 2024-01-22 12:46:17,619] Trial 49 finished with value: 0.80625 and parameters: {'lambda_l1': 6.59640311845207e-05, 'lambda_l2': 6.170063819962605e-06, 'num_leaves': 216, 'feature_fraction': 0.903159233069216, 'bagging_fraction': 0.5794019294871663, 'bagging_freq': 7, 'min_child_samples': 32}. Best is trial 23 with value: 0.815625.\n",
      "[I 2024-01-22 12:46:17,794] Trial 50 finished with value: 0.81 and parameters: {'lambda_l1': 2.6636429997497363e-05, 'lambda_l2': 7.985549865188302e-07, 'num_leaves': 160, 'feature_fraction': 0.9662435712338088, 'bagging_fraction': 0.6185162909175084, 'bagging_freq': 3, 'min_child_samples': 76}. Best is trial 23 with value: 0.815625.\n"
     ]
    },
    {
     "name": "stdout",
     "output_type": "stream",
     "text": [
      "Early stopping, best iteration is:\n",
      "[33]\tvalid_0's binary_error: 0.19375\n",
      "Training until validation scores don't improve for 50 rounds\n",
      "Early stopping, best iteration is:\n",
      "[75]\tvalid_0's binary_error: 0.19\n"
     ]
    },
    {
     "name": "stderr",
     "output_type": "stream",
     "text": [
      "[I 2024-01-22 12:46:18,020] Trial 51 finished with value: 0.816875 and parameters: {'lambda_l1': 4.803535904524661e-06, 'lambda_l2': 1.4043315797509275e-05, 'num_leaves': 235, 'feature_fraction': 0.8152870162651998, 'bagging_fraction': 0.4908932197079734, 'bagging_freq': 2, 'min_child_samples': 90}. Best is trial 51 with value: 0.816875.\n"
     ]
    },
    {
     "name": "stdout",
     "output_type": "stream",
     "text": [
      "Training until validation scores don't improve for 50 rounds\n",
      "Early stopping, best iteration is:\n",
      "[160]\tvalid_0's binary_error: 0.183125\n"
     ]
    },
    {
     "name": "stderr",
     "output_type": "stream",
     "text": [
      "[I 2024-01-22 12:46:18,234] Trial 52 finished with value: 0.813125 and parameters: {'lambda_l1': 4.924197699952746e-06, 'lambda_l2': 1.7780310493149592e-05, 'num_leaves': 241, 'feature_fraction': 0.8068652675549293, 'bagging_fraction': 0.5006688339513949, 'bagging_freq': 2, 'min_child_samples': 85}. Best is trial 51 with value: 0.816875.\n"
     ]
    },
    {
     "name": "stdout",
     "output_type": "stream",
     "text": [
      "Training until validation scores don't improve for 50 rounds\n",
      "Early stopping, best iteration is:\n",
      "[117]\tvalid_0's binary_error: 0.186875\n"
     ]
    },
    {
     "name": "stderr",
     "output_type": "stream",
     "text": [
      "[I 2024-01-22 12:46:18,442] Trial 53 finished with value: 0.814375 and parameters: {'lambda_l1': 2.294064738705133e-06, 'lambda_l2': 5.558406796433182e-06, 'num_leaves': 229, 'feature_fraction': 0.8669606825257402, 'bagging_fraction': 0.5372375388786074, 'bagging_freq': 1, 'min_child_samples': 92}. Best is trial 51 with value: 0.816875.\n"
     ]
    },
    {
     "name": "stdout",
     "output_type": "stream",
     "text": [
      "Training until validation scores don't improve for 50 rounds\n",
      "Early stopping, best iteration is:\n",
      "[130]\tvalid_0's binary_error: 0.185625\n"
     ]
    },
    {
     "name": "stderr",
     "output_type": "stream",
     "text": [
      "[I 2024-01-22 12:46:18,653] Trial 54 finished with value: 0.80375 and parameters: {'lambda_l1': 1.470207788871862e-06, 'lambda_l2': 2.692635331862968e-06, 'num_leaves': 232, 'feature_fraction': 0.8603322343282663, 'bagging_fraction': 0.5393502470265134, 'bagging_freq': 1, 'min_child_samples': 98}. Best is trial 51 with value: 0.816875.\n"
     ]
    },
    {
     "name": "stdout",
     "output_type": "stream",
     "text": [
      "Training until validation scores don't improve for 50 rounds\n",
      "Early stopping, best iteration is:\n",
      "[70]\tvalid_0's binary_error: 0.19625\n"
     ]
    },
    {
     "name": "stderr",
     "output_type": "stream",
     "text": [
      "[I 2024-01-22 12:46:18,856] Trial 55 finished with value: 0.811875 and parameters: {'lambda_l1': 8.470635625059023e-06, 'lambda_l2': 5.332536458560969e-06, 'num_leaves': 222, 'feature_fraction': 0.774264345063579, 'bagging_fraction': 0.5035649302377474, 'bagging_freq': 1, 'min_child_samples': 92}. Best is trial 51 with value: 0.816875.\n"
     ]
    },
    {
     "name": "stdout",
     "output_type": "stream",
     "text": [
      "Training until validation scores don't improve for 50 rounds\n",
      "Early stopping, best iteration is:\n",
      "[132]\tvalid_0's binary_error: 0.188125\n",
      "Training until validation scores don't improve for 50 rounds\n"
     ]
    },
    {
     "name": "stderr",
     "output_type": "stream",
     "text": [
      "[I 2024-01-22 12:46:19,047] Trial 56 finished with value: 0.809375 and parameters: {'lambda_l1': 2.864491257186734e-06, 'lambda_l2': 1.6067006492794248e-05, 'num_leaves': 208, 'feature_fraction': 0.8258630144944673, 'bagging_fraction': 0.5617583139662556, 'bagging_freq': 2, 'min_child_samples': 87}. Best is trial 51 with value: 0.816875.\n",
      "[I 2024-01-22 12:46:19,234] Trial 57 finished with value: 0.803125 and parameters: {'lambda_l1': 3.783839421238449e-07, 'lambda_l2': 6.521355706949841e-05, 'num_leaves': 190, 'feature_fraction': 0.8892228665984052, 'bagging_fraction': 0.41033676684504194, 'bagging_freq': 1, 'min_child_samples': 82}. Best is trial 51 with value: 0.816875.\n"
     ]
    },
    {
     "name": "stdout",
     "output_type": "stream",
     "text": [
      "Early stopping, best iteration is:\n",
      "[61]\tvalid_0's binary_error: 0.190625\n",
      "Training until validation scores don't improve for 50 rounds\n",
      "Early stopping, best iteration is:\n",
      "[68]\tvalid_0's binary_error: 0.196875\n"
     ]
    },
    {
     "name": "stderr",
     "output_type": "stream",
     "text": [
      "[I 2024-01-22 12:46:19,444] Trial 58 finished with value: 0.811875 and parameters: {'lambda_l1': 9.155790420952027e-07, 'lambda_l2': 1.236937043199663e-06, 'num_leaves': 177, 'feature_fraction': 0.8517208576764894, 'bagging_fraction': 0.4499596734537128, 'bagging_freq': 1, 'min_child_samples': 94}. Best is trial 51 with value: 0.816875.\n"
     ]
    },
    {
     "name": "stdout",
     "output_type": "stream",
     "text": [
      "Training until validation scores don't improve for 50 rounds\n",
      "Early stopping, best iteration is:\n",
      "[137]\tvalid_0's binary_error: 0.188125\n"
     ]
    },
    {
     "name": "stderr",
     "output_type": "stream",
     "text": [
      "[I 2024-01-22 12:46:19,701] Trial 59 finished with value: 0.8075 and parameters: {'lambda_l1': 1.996470774742784e-05, 'lambda_l2': 5.426036519222627e-06, 'num_leaves': 236, 'feature_fraction': 0.8018221035229013, 'bagging_fraction': 0.5378531439565394, 'bagging_freq': 2, 'min_child_samples': 89}. Best is trial 51 with value: 0.816875.\n"
     ]
    },
    {
     "name": "stdout",
     "output_type": "stream",
     "text": [
      "Training until validation scores don't improve for 50 rounds\n",
      "Early stopping, best iteration is:\n",
      "[88]\tvalid_0's binary_error: 0.1925\n"
     ]
    },
    {
     "name": "stderr",
     "output_type": "stream",
     "text": [
      "[I 2024-01-22 12:46:19,886] Trial 60 finished with value: 0.813125 and parameters: {'lambda_l1': 0.00023012768580776081, 'lambda_l2': 4.4781427498804955e-05, 'num_leaves': 210, 'feature_fraction': 0.7503356565637931, 'bagging_fraction': 0.565191117809482, 'bagging_freq': 3, 'min_child_samples': 97}. Best is trial 51 with value: 0.816875.\n"
     ]
    },
    {
     "name": "stdout",
     "output_type": "stream",
     "text": [
      "Training until validation scores don't improve for 50 rounds\n",
      "Early stopping, best iteration is:\n",
      "[79]\tvalid_0's binary_error: 0.186875\n",
      "Training until validation scores don't improve for 50 rounds\n"
     ]
    },
    {
     "name": "stderr",
     "output_type": "stream",
     "text": [
      "[I 2024-01-22 12:46:20,117] Trial 61 finished with value: 0.806875 and parameters: {'lambda_l1': 2.8755501043384688e-06, 'lambda_l2': 1.1350645062686058e-05, 'num_leaves': 255, 'feature_fraction': 0.9271261606255226, 'bagging_fraction': 0.5199033897847167, 'bagging_freq': 3, 'min_child_samples': 79}. Best is trial 51 with value: 0.816875.\n"
     ]
    },
    {
     "name": "stdout",
     "output_type": "stream",
     "text": [
      "Early stopping, best iteration is:\n",
      "[123]\tvalid_0's binary_error: 0.193125\n",
      "Training until validation scores don't improve for 50 rounds\n"
     ]
    },
    {
     "name": "stderr",
     "output_type": "stream",
     "text": [
      "[I 2024-01-22 12:46:20,410] Trial 62 finished with value: 0.808125 and parameters: {'lambda_l1': 7.277048307165571e-06, 'lambda_l2': 2.3747436117123234e-05, 'num_leaves': 246, 'feature_fraction': 0.8679759487682756, 'bagging_fraction': 0.6517320099920372, 'bagging_freq': 2, 'min_child_samples': 92}. Best is trial 51 with value: 0.816875.\n",
      "[I 2024-01-22 12:46:20,576] Trial 63 finished with value: 0.8175 and parameters: {'lambda_l1': 3.054846636960414e-07, 'lambda_l2': 2.771097572171198e-06, 'num_leaves': 199, 'feature_fraction': 0.8919005720053171, 'bagging_fraction': 0.603269514763029, 'bagging_freq': 3, 'min_child_samples': 100}. Best is trial 63 with value: 0.8175.\n"
     ]
    },
    {
     "name": "stdout",
     "output_type": "stream",
     "text": [
      "Early stopping, best iteration is:\n",
      "[116]\tvalid_0's binary_error: 0.191875\n",
      "Training until validation scores don't improve for 50 rounds\n",
      "Early stopping, best iteration is:\n",
      "[90]\tvalid_0's binary_error: 0.1825\n"
     ]
    },
    {
     "name": "stderr",
     "output_type": "stream",
     "text": [
      "[I 2024-01-22 12:46:20,769] Trial 64 finished with value: 0.81375 and parameters: {'lambda_l1': 1.0645570009653998e-07, 'lambda_l2': 2.5525941884774365e-06, 'num_leaves': 200, 'feature_fraction': 0.8916702116843621, 'bagging_fraction': 0.6012811073292782, 'bagging_freq': 3, 'min_child_samples': 100}. Best is trial 63 with value: 0.8175.\n"
     ]
    },
    {
     "name": "stdout",
     "output_type": "stream",
     "text": [
      "Training until validation scores don't improve for 50 rounds\n",
      "Early stopping, best iteration is:\n",
      "[127]\tvalid_0's binary_error: 0.18625\n",
      "Training until validation scores don't improve for 50 rounds\n"
     ]
    },
    {
     "name": "stderr",
     "output_type": "stream",
     "text": [
      "[I 2024-01-22 12:46:20,952] Trial 65 finished with value: 0.810625 and parameters: {'lambda_l1': 2.668163654851693e-07, 'lambda_l2': 7.330048016414993e-06, 'num_leaves': 192, 'feature_fraction': 0.8362270895580075, 'bagging_fraction': 0.5865453248318073, 'bagging_freq': 3, 'min_child_samples': 85}. Best is trial 63 with value: 0.8175.\n",
      "[I 2024-01-22 12:46:21,104] Trial 66 finished with value: 0.809375 and parameters: {'lambda_l1': 1.6305090689135005e-05, 'lambda_l2': 8.631388059416238e-07, 'num_leaves': 221, 'feature_fraction': 0.8478670538935557, 'bagging_fraction': 0.5589225842708396, 'bagging_freq': 4, 'min_child_samples': 97}. Best is trial 63 with value: 0.8175.\n"
     ]
    },
    {
     "name": "stdout",
     "output_type": "stream",
     "text": [
      "Early stopping, best iteration is:\n",
      "[59]\tvalid_0's binary_error: 0.189375\n",
      "Training until validation scores don't improve for 50 rounds\n",
      "Early stopping, best iteration is:\n",
      "[73]\tvalid_0's binary_error: 0.190625\n"
     ]
    },
    {
     "name": "stderr",
     "output_type": "stream",
     "text": [
      "[I 2024-01-22 12:46:21,303] Trial 67 finished with value: 0.8075 and parameters: {'lambda_l1': 6.028989276865663e-07, 'lambda_l2': 3.4811562947481663e-06, 'num_leaves': 177, 'feature_fraction': 0.7926687740633195, 'bagging_fraction': 0.540152721372894, 'bagging_freq': 2, 'min_child_samples': 88}. Best is trial 63 with value: 0.8175.\n"
     ]
    },
    {
     "name": "stdout",
     "output_type": "stream",
     "text": [
      "Training until validation scores don't improve for 50 rounds\n",
      "Early stopping, best iteration is:\n",
      "[106]\tvalid_0's binary_error: 0.1925\n"
     ]
    },
    {
     "name": "stderr",
     "output_type": "stream",
     "text": [
      "[I 2024-01-22 12:46:21,507] Trial 68 finished with value: 0.811875 and parameters: {'lambda_l1': 2.0480016948052714e-06, 'lambda_l2': 1.498975613459021e-06, 'num_leaves': 212, 'feature_fraction': 0.9171247828687995, 'bagging_fraction': 0.6075813170237131, 'bagging_freq': 3, 'min_child_samples': 92}. Best is trial 63 with value: 0.8175.\n"
     ]
    },
    {
     "name": "stdout",
     "output_type": "stream",
     "text": [
      "Training until validation scores don't improve for 50 rounds\n",
      "Early stopping, best iteration is:\n",
      "[109]\tvalid_0's binary_error: 0.188125\n"
     ]
    },
    {
     "name": "stderr",
     "output_type": "stream",
     "text": [
      "[I 2024-01-22 12:46:21,770] Trial 69 finished with value: 0.81125 and parameters: {'lambda_l1': 5.1903695118828255e-06, 'lambda_l2': 1.591764585585801e-05, 'num_leaves': 201, 'feature_fraction': 0.8747487371044477, 'bagging_fraction': 0.4937175210579382, 'bagging_freq': 1, 'min_child_samples': 100}. Best is trial 63 with value: 0.8175.\n"
     ]
    },
    {
     "name": "stdout",
     "output_type": "stream",
     "text": [
      "Training until validation scores don't improve for 50 rounds\n",
      "Early stopping, best iteration is:\n",
      "[167]\tvalid_0's binary_error: 0.18875\n"
     ]
    },
    {
     "name": "stderr",
     "output_type": "stream",
     "text": [
      "[I 2024-01-22 12:46:22,007] Trial 70 finished with value: 0.81375 and parameters: {'lambda_l1': 3.478991574497748e-05, 'lambda_l2': 5.528161461700801e-07, 'num_leaves': 232, 'feature_fraction': 0.81966744623378, 'bagging_fraction': 0.57975325333932, 'bagging_freq': 3, 'min_child_samples': 94}. Best is trial 63 with value: 0.8175.\n"
     ]
    },
    {
     "name": "stdout",
     "output_type": "stream",
     "text": [
      "Training until validation scores don't improve for 50 rounds\n",
      "Early stopping, best iteration is:\n",
      "[73]\tvalid_0's binary_error: 0.18625\n"
     ]
    },
    {
     "name": "stderr",
     "output_type": "stream",
     "text": [
      "[I 2024-01-22 12:46:22,214] Trial 71 finished with value: 0.811875 and parameters: {'lambda_l1': 6.874492154415783e-08, 'lambda_l2': 3.2639183301585146e-06, 'num_leaves': 204, 'feature_fraction': 0.8940477854470659, 'bagging_fraction': 0.6068896245772207, 'bagging_freq': 3, 'min_child_samples': 100}. Best is trial 63 with value: 0.8175.\n"
     ]
    },
    {
     "name": "stdout",
     "output_type": "stream",
     "text": [
      "Training until validation scores don't improve for 50 rounds\n",
      "Early stopping, best iteration is:\n",
      "[91]\tvalid_0's binary_error: 0.188125\n",
      "Training until validation scores don't improve for 50 rounds\n"
     ]
    },
    {
     "name": "stderr",
     "output_type": "stream",
     "text": [
      "[I 2024-01-22 12:46:22,460] Trial 72 finished with value: 0.815625 and parameters: {'lambda_l1': 1.0853988175195165e-06, 'lambda_l2': 2.2843269949107923e-06, 'num_leaves': 163, 'feature_fraction': 0.8894092902205053, 'bagging_fraction': 0.6306472879452205, 'bagging_freq': 3, 'min_child_samples': 96}. Best is trial 63 with value: 0.8175.\n",
      "[I 2024-01-22 12:46:22,663] Trial 73 finished with value: 0.809375 and parameters: {'lambda_l1': 3.6892766132071107e-07, 'lambda_l2': 7.945510246974304e-06, 'num_leaves': 162, 'feature_fraction': 0.8442220070128913, 'bagging_fraction': 0.6293510780976819, 'bagging_freq': 4, 'min_child_samples': 95}. Best is trial 63 with value: 0.8175.\n"
     ]
    },
    {
     "name": "stdout",
     "output_type": "stream",
     "text": [
      "Early stopping, best iteration is:\n",
      "[138]\tvalid_0's binary_error: 0.184375\n",
      "Training until validation scores don't improve for 50 rounds\n",
      "Early stopping, best iteration is:\n",
      "[101]\tvalid_0's binary_error: 0.190625\n"
     ]
    },
    {
     "name": "stderr",
     "output_type": "stream",
     "text": [
      "[I 2024-01-22 12:46:22,853] Trial 74 finished with value: 0.806875 and parameters: {'lambda_l1': 1.3443386052959473e-06, 'lambda_l2': 1.9213706108394535e-06, 'num_leaves': 172, 'feature_fraction': 0.9418101526184097, 'bagging_fraction': 0.6512698671321007, 'bagging_freq': 3, 'min_child_samples': 91}. Best is trial 63 with value: 0.8175.\n"
     ]
    },
    {
     "name": "stdout",
     "output_type": "stream",
     "text": [
      "Training until validation scores don't improve for 50 rounds\n",
      "Early stopping, best iteration is:\n",
      "[58]\tvalid_0's binary_error: 0.193125\n",
      "Training until validation scores don't improve for 50 rounds\n"
     ]
    },
    {
     "name": "stderr",
     "output_type": "stream",
     "text": [
      "[I 2024-01-22 12:46:23,107] Trial 75 finished with value: 0.81625 and parameters: {'lambda_l1': 3.0409923227624136e-06, 'lambda_l2': 4.6462816399565806e-05, 'num_leaves': 144, 'feature_fraction': 0.8802778051047345, 'bagging_fraction': 0.6708499103455994, 'bagging_freq': 2, 'min_child_samples': 97}. Best is trial 63 with value: 0.8175.\n"
     ]
    },
    {
     "name": "stdout",
     "output_type": "stream",
     "text": [
      "Early stopping, best iteration is:\n",
      "[110]\tvalid_0's binary_error: 0.18375\n",
      "Training until validation scores don't improve for 50 rounds\n",
      "Early stopping, best iteration is:\n",
      "[86]\tvalid_0's binary_error: 0.189375\n"
     ]
    },
    {
     "name": "stderr",
     "output_type": "stream",
     "text": [
      "[I 2024-01-22 12:46:23,305] Trial 76 finished with value: 0.810625 and parameters: {'lambda_l1': 7.365675836938689e-05, 'lambda_l2': 4.197223829965556e-05, 'num_leaves': 151, 'feature_fraction': 0.9084511073285424, 'bagging_fraction': 0.7112600347155629, 'bagging_freq': 2, 'min_child_samples': 86}. Best is trial 63 with value: 0.8175.\n",
      "[I 2024-01-22 12:46:23,471] Trial 77 finished with value: 0.809375 and parameters: {'lambda_l1': 9.075753006658082e-06, 'lambda_l2': 7.421843121734831e-05, 'num_leaves': 139, 'feature_fraction': 0.871017064303607, 'bagging_fraction': 0.6757420504220074, 'bagging_freq': 2, 'min_child_samples': 82}. Best is trial 63 with value: 0.8175.\n"
     ]
    },
    {
     "name": "stdout",
     "output_type": "stream",
     "text": [
      "Training until validation scores don't improve for 50 rounds\n",
      "Early stopping, best iteration is:\n",
      "[66]\tvalid_0's binary_error: 0.190625\n",
      "Training until validation scores don't improve for 50 rounds\n"
     ]
    },
    {
     "name": "stderr",
     "output_type": "stream",
     "text": [
      "[I 2024-01-22 12:46:23,706] Trial 78 finished with value: 0.808125 and parameters: {'lambda_l1': 9.209193773615749e-07, 'lambda_l2': 4.875903802788405e-06, 'num_leaves': 133, 'feature_fraction': 0.9287467828868311, 'bagging_fraction': 0.6946535801017405, 'bagging_freq': 2, 'min_child_samples': 96}. Best is trial 63 with value: 0.8175.\n"
     ]
    },
    {
     "name": "stdout",
     "output_type": "stream",
     "text": [
      "Early stopping, best iteration is:\n",
      "[116]\tvalid_0's binary_error: 0.191875\n",
      "Training until validation scores don't improve for 50 rounds\n"
     ]
    },
    {
     "name": "stderr",
     "output_type": "stream",
     "text": [
      "[I 2024-01-22 12:46:24,001] Trial 79 finished with value: 0.81125 and parameters: {'lambda_l1': 3.1368701771478912e-06, 'lambda_l2': 2.0731114197255818e-07, 'num_leaves': 111, 'feature_fraction': 0.8825503361403337, 'bagging_fraction': 0.6605450767193596, 'bagging_freq': 1, 'min_child_samples': 90}. Best is trial 63 with value: 0.8175.\n",
      "[I 2024-01-22 12:46:24,171] Trial 80 finished with value: 0.81375 and parameters: {'lambda_l1': 1.5725606119886652e-05, 'lambda_l2': 2.3727552306761647e-05, 'num_leaves': 165, 'feature_fraction': 0.9017575841976372, 'bagging_fraction': 0.6413639348577019, 'bagging_freq': 3, 'min_child_samples': 95}. Best is trial 63 with value: 0.8175.\n"
     ]
    },
    {
     "name": "stdout",
     "output_type": "stream",
     "text": [
      "Early stopping, best iteration is:\n",
      "[84]\tvalid_0's binary_error: 0.18875\n",
      "Training until validation scores don't improve for 50 rounds\n",
      "Early stopping, best iteration is:\n",
      "[84]\tvalid_0's binary_error: 0.18625\n"
     ]
    },
    {
     "name": "stderr",
     "output_type": "stream",
     "text": [
      "[I 2024-01-22 12:46:24,377] Trial 81 finished with value: 0.8125 and parameters: {'lambda_l1': 5.390457581528011e-06, 'lambda_l2': 8.133473027173791e-06, 'num_leaves': 154, 'feature_fraction': 0.8358566792387926, 'bagging_fraction': 0.6195489607266498, 'bagging_freq': 3, 'min_child_samples': 98}. Best is trial 63 with value: 0.8175.\n"
     ]
    },
    {
     "name": "stdout",
     "output_type": "stream",
     "text": [
      "Training until validation scores don't improve for 50 rounds\n",
      "Early stopping, best iteration is:\n",
      "[137]\tvalid_0's binary_error: 0.1875\n"
     ]
    },
    {
     "name": "stderr",
     "output_type": "stream",
     "text": [
      "[I 2024-01-22 12:46:24,549] Trial 82 finished with value: 0.81 and parameters: {'lambda_l1': 2.074009009090925e-06, 'lambda_l2': 1.19691490002018e-05, 'num_leaves': 82, 'feature_fraction': 0.8647525000254137, 'bagging_fraction': 0.5898291088639185, 'bagging_freq': 3, 'min_child_samples': 98}. Best is trial 63 with value: 0.8175.\n"
     ]
    },
    {
     "name": "stdout",
     "output_type": "stream",
     "text": [
      "Training until validation scores don't improve for 50 rounds\n",
      "Early stopping, best iteration is:\n",
      "[70]\tvalid_0's binary_error: 0.19\n",
      "Training until validation scores don't improve for 50 rounds\n"
     ]
    },
    {
     "name": "stderr",
     "output_type": "stream",
     "text": [
      "[I 2024-01-22 12:46:24,767] Trial 83 finished with value: 0.81125 and parameters: {'lambda_l1': 1.2193403288941816e-06, 'lambda_l2': 1.0058384338706306e-06, 'num_leaves': 184, 'feature_fraction': 0.8150150276058284, 'bagging_fraction': 0.680980335635366, 'bagging_freq': 4, 'min_child_samples': 93}. Best is trial 63 with value: 0.8175.\n"
     ]
    },
    {
     "name": "stdout",
     "output_type": "stream",
     "text": [
      "Early stopping, best iteration is:\n",
      "[92]\tvalid_0's binary_error: 0.18875\n",
      "Training until validation scores don't improve for 50 rounds\n",
      "Early stopping, best iteration is:\n",
      "[135]\tvalid_0's binary_error: 0.1875\n"
     ]
    },
    {
     "name": "stderr",
     "output_type": "stream",
     "text": [
      "[I 2024-01-22 12:46:24,951] Trial 84 finished with value: 0.8125 and parameters: {'lambda_l1': 5.461286995424583e-07, 'lambda_l2': 3.301425184609634e-05, 'num_leaves': 15, 'feature_fraction': 0.8546201956528988, 'bagging_fraction': 0.5580828117733031, 'bagging_freq': 2, 'min_child_samples': 88}. Best is trial 63 with value: 0.8175.\n",
      "[I 2024-01-22 12:46:25,169] Trial 85 finished with value: 0.8125 and parameters: {'lambda_l1': 3.397251175006096e-06, 'lambda_l2': 4.36965258074432e-06, 'num_leaves': 126, 'feature_fraction': 0.8814074067966682, 'bagging_fraction': 0.5944583389971707, 'bagging_freq': 3, 'min_child_samples': 85}. Best is trial 63 with value: 0.8175.\n"
     ]
    },
    {
     "name": "stdout",
     "output_type": "stream",
     "text": [
      "Training until validation scores don't improve for 50 rounds\n",
      "Early stopping, best iteration is:\n",
      "[140]\tvalid_0's binary_error: 0.1875\n",
      "Training until validation scores don't improve for 50 rounds\n"
     ]
    },
    {
     "name": "stderr",
     "output_type": "stream",
     "text": [
      "[I 2024-01-22 12:46:25,373] Trial 86 finished with value: 0.816875 and parameters: {'lambda_l1': 3.3681792789703174e-05, 'lambda_l2': 2.0999515304998654e-06, 'num_leaves': 196, 'feature_fraction': 0.9478004762763271, 'bagging_fraction': 0.6351631452379138, 'bagging_freq': 2, 'min_child_samples': 91}. Best is trial 63 with value: 0.8175.\n"
     ]
    },
    {
     "name": "stdout",
     "output_type": "stream",
     "text": [
      "Early stopping, best iteration is:\n",
      "[84]\tvalid_0's binary_error: 0.183125\n",
      "Training until validation scores don't improve for 50 rounds\n"
     ]
    },
    {
     "name": "stderr",
     "output_type": "stream",
     "text": [
      "[I 2024-01-22 12:46:25,644] Trial 87 finished with value: 0.811875 and parameters: {'lambda_l1': 4.1128142316768576e-05, 'lambda_l2': 1.912142487630634e-06, 'num_leaves': 146, 'feature_fraction': 0.9398672562721909, 'bagging_fraction': 0.6661768594103464, 'bagging_freq': 2, 'min_child_samples': 90}. Best is trial 63 with value: 0.8175.\n"
     ]
    },
    {
     "name": "stdout",
     "output_type": "stream",
     "text": [
      "Early stopping, best iteration is:\n",
      "[94]\tvalid_0's binary_error: 0.188125\n",
      "Training until validation scores don't improve for 50 rounds\n"
     ]
    },
    {
     "name": "stderr",
     "output_type": "stream",
     "text": [
      "[I 2024-01-22 12:46:25,925] Trial 88 finished with value: 0.815625 and parameters: {'lambda_l1': 9.019319795659013e-05, 'lambda_l2': 1.5482292590554485e-05, 'num_leaves': 176, 'feature_fraction': 0.9511788780956666, 'bagging_fraction': 0.6304529691944788, 'bagging_freq': 2, 'min_child_samples': 79}. Best is trial 63 with value: 0.8175.\n"
     ]
    },
    {
     "name": "stdout",
     "output_type": "stream",
     "text": [
      "Early stopping, best iteration is:\n",
      "[97]\tvalid_0's binary_error: 0.184375\n",
      "Training until validation scores don't improve for 50 rounds\n"
     ]
    },
    {
     "name": "stderr",
     "output_type": "stream",
     "text": [
      "[I 2024-01-22 12:46:26,231] Trial 89 finished with value: 0.815625 and parameters: {'lambda_l1': 9.60736082915418e-05, 'lambda_l2': 1.2194567854200218e-05, 'num_leaves': 175, 'feature_fraction': 0.9508533551089405, 'bagging_fraction': 0.6314817645624615, 'bagging_freq': 2, 'min_child_samples': 79}. Best is trial 63 with value: 0.8175.\n"
     ]
    },
    {
     "name": "stdout",
     "output_type": "stream",
     "text": [
      "Early stopping, best iteration is:\n",
      "[91]\tvalid_0's binary_error: 0.184375\n",
      "Training until validation scores don't improve for 50 rounds\n"
     ]
    },
    {
     "name": "stderr",
     "output_type": "stream",
     "text": [
      "[I 2024-01-22 12:46:26,550] Trial 90 finished with value: 0.81125 and parameters: {'lambda_l1': 0.00010552239042891341, 'lambda_l2': 1.3664229646940944e-05, 'num_leaves': 171, 'feature_fraction': 0.9741483101947981, 'bagging_fraction': 0.6437897069958337, 'bagging_freq': 2, 'min_child_samples': 69}. Best is trial 63 with value: 0.8175.\n"
     ]
    },
    {
     "name": "stdout",
     "output_type": "stream",
     "text": [
      "Early stopping, best iteration is:\n",
      "[111]\tvalid_0's binary_error: 0.18875\n",
      "Training until validation scores don't improve for 50 rounds\n"
     ]
    },
    {
     "name": "stderr",
     "output_type": "stream",
     "text": [
      "[I 2024-01-22 12:46:26,780] Trial 91 finished with value: 0.81625 and parameters: {'lambda_l1': 0.00018176692562801652, 'lambda_l2': 0.0001503046882172566, 'num_leaves': 155, 'feature_fraction': 0.9435964332121042, 'bagging_fraction': 0.6285870136362391, 'bagging_freq': 2, 'min_child_samples': 79}. Best is trial 63 with value: 0.8175.\n"
     ]
    },
    {
     "name": "stdout",
     "output_type": "stream",
     "text": [
      "Early stopping, best iteration is:\n",
      "[95]\tvalid_0's binary_error: 0.18375\n",
      "Training until validation scores don't improve for 50 rounds\n"
     ]
    },
    {
     "name": "stderr",
     "output_type": "stream",
     "text": [
      "[I 2024-01-22 12:46:27,051] Trial 92 finished with value: 0.815 and parameters: {'lambda_l1': 0.000617021981552585, 'lambda_l2': 5.902186420681231e-05, 'num_leaves': 132, 'feature_fraction': 0.952608733414984, 'bagging_fraction': 0.6254240959349116, 'bagging_freq': 2, 'min_child_samples': 73}. Best is trial 63 with value: 0.8175.\n"
     ]
    },
    {
     "name": "stdout",
     "output_type": "stream",
     "text": [
      "Early stopping, best iteration is:\n",
      "[97]\tvalid_0's binary_error: 0.185\n",
      "Training until validation scores don't improve for 50 rounds\n",
      "Early stopping, best iteration is:\n",
      "[56]\tvalid_0's binary_error: 0.186875\n"
     ]
    },
    {
     "name": "stderr",
     "output_type": "stream",
     "text": [
      "[I 2024-01-22 12:46:27,256] Trial 93 finished with value: 0.813125 and parameters: {'lambda_l1': 0.0001722140521457741, 'lambda_l2': 0.0001225960793904945, 'num_leaves': 179, 'feature_fraction': 0.9884020115151095, 'bagging_fraction': 0.6329552844432416, 'bagging_freq': 2, 'min_child_samples': 77}. Best is trial 63 with value: 0.8175.\n",
      "[I 2024-01-22 12:46:27,564] Trial 94 finished with value: 0.8175 and parameters: {'lambda_l1': 7.739096084171747e-05, 'lambda_l2': 0.00020451391361783064, 'num_leaves': 160, 'feature_fraction': 0.9474229588089111, 'bagging_fraction': 0.6863882969844848, 'bagging_freq': 2, 'min_child_samples': 80}. Best is trial 63 with value: 0.8175.\n"
     ]
    },
    {
     "name": "stdout",
     "output_type": "stream",
     "text": [
      "Training until validation scores don't improve for 50 rounds\n",
      "Early stopping, best iteration is:\n",
      "[95]\tvalid_0's binary_error: 0.1825\n"
     ]
    },
    {
     "name": "stderr",
     "output_type": "stream",
     "text": [
      "[I 2024-01-22 12:46:27,804] Trial 95 finished with value: 0.81125 and parameters: {'lambda_l1': 7.211655521602707e-05, 'lambda_l2': 0.00021755806169883714, 'num_leaves': 154, 'feature_fraction': 0.9559275990288808, 'bagging_fraction': 0.6574128469592078, 'bagging_freq': 2, 'min_child_samples': 76}. Best is trial 63 with value: 0.8175.\n"
     ]
    },
    {
     "name": "stdout",
     "output_type": "stream",
     "text": [
      "Training until validation scores don't improve for 50 rounds\n",
      "Early stopping, best iteration is:\n",
      "[85]\tvalid_0's binary_error: 0.18875\n"
     ]
    },
    {
     "name": "stderr",
     "output_type": "stream",
     "text": [
      "[I 2024-01-22 12:46:28,080] Trial 96 finished with value: 0.810625 and parameters: {'lambda_l1': 2.3303978657726988e-05, 'lambda_l2': 3.094511800147511e-05, 'num_leaves': 157, 'feature_fraction': 0.9445145482156275, 'bagging_fraction': 0.6859537088611255, 'bagging_freq': 2, 'min_child_samples': 67}. Best is trial 63 with value: 0.8175.\n"
     ]
    },
    {
     "name": "stdout",
     "output_type": "stream",
     "text": [
      "Training until validation scores don't improve for 50 rounds\n",
      "Early stopping, best iteration is:\n",
      "[87]\tvalid_0's binary_error: 0.189375\n"
     ]
    },
    {
     "name": "stderr",
     "output_type": "stream",
     "text": [
      "[I 2024-01-22 12:46:28,350] Trial 97 finished with value: 0.81375 and parameters: {'lambda_l1': 0.00018504076173579182, 'lambda_l2': 0.00014363668159631958, 'num_leaves': 169, 'feature_fraction': 0.9811238717010364, 'bagging_fraction': 0.6132366209982544, 'bagging_freq': 2, 'min_child_samples': 80}. Best is trial 63 with value: 0.8175.\n"
     ]
    },
    {
     "name": "stdout",
     "output_type": "stream",
     "text": [
      "Training until validation scores don't improve for 50 rounds\n",
      "Early stopping, best iteration is:\n",
      "[63]\tvalid_0's binary_error: 0.18625\n"
     ]
    },
    {
     "name": "stderr",
     "output_type": "stream",
     "text": [
      "[I 2024-01-22 12:46:28,583] Trial 98 finished with value: 0.81125 and parameters: {'lambda_l1': 4.2050365769302764e-05, 'lambda_l2': 1.9088347241858725e-05, 'num_leaves': 147, 'feature_fraction': 0.9193301018251541, 'bagging_fraction': 0.6482419247217409, 'bagging_freq': 2, 'min_child_samples': 79}. Best is trial 63 with value: 0.8175.\n"
     ]
    },
    {
     "name": "stdout",
     "output_type": "stream",
     "text": [
      "Training until validation scores don't improve for 50 rounds\n",
      "Early stopping, best iteration is:\n",
      "[92]\tvalid_0's binary_error: 0.18875\n"
     ]
    },
    {
     "name": "stderr",
     "output_type": "stream",
     "text": [
      "[I 2024-01-22 12:46:28,867] Trial 99 finished with value: 0.818125 and parameters: {'lambda_l1': 9.129256965834418e-05, 'lambda_l2': 3.185072147986896e-05, 'num_leaves': 165, 'feature_fraction': 0.9613164587931166, 'bagging_fraction': 0.6317993707158505, 'bagging_freq': 2, 'min_child_samples': 84}. Best is trial 99 with value: 0.818125.\n"
     ]
    },
    {
     "name": "stdout",
     "output_type": "stream",
     "text": [
      "Training until validation scores don't improve for 50 rounds\n",
      "Early stopping, best iteration is:\n",
      "[116]\tvalid_0's binary_error: 0.181875\n"
     ]
    }
   ],
   "source": [
    "# Optunaでのハイパーパラメータチューニング\n",
    "def objective(trial):\n",
    "    param = {\n",
    "        'objective': 'binary',\n",
    "        'metric': 'binary_error',\n",
    "        'verbosity': -1,\n",
    "        'boosting_type': 'gbdt',\n",
    "        'lambda_l1': trial.suggest_float('lambda_l1', 1e-8, 10.0, log=True),\n",
    "        'lambda_l2': trial.suggest_float('lambda_l2', 1e-8, 10.0, log=True),\n",
    "        'num_leaves': trial.suggest_int('num_leaves', 2, 256),\n",
    "        'feature_fraction': trial.suggest_float('feature_fraction', 0.4, 1.0),\n",
    "        'bagging_fraction': trial.suggest_float('bagging_fraction', 0.4, 1.0),\n",
    "        'bagging_freq': trial.suggest_int('bagging_freq', 1, 7),\n",
    "        'min_child_samples': trial.suggest_int('min_child_samples', 5, 100)\n",
    "    }\n",
    "\n",
    "    lgb_train = lgb.Dataset(X_train, y_train)\n",
    "    lgb_val = lgb.Dataset(X_val, y_val, reference=lgb_train)\n",
    "\n",
    "    verbose_eval = 0\n",
    "    verbose = lgb.log_evaluation(verbose_eval)\n",
    "\n",
    "    # 早期停止の設定\n",
    "    early_stopping = lgb.early_stopping(stopping_rounds=50, verbose=True)\n",
    "    model = lgb.train(param, lgb_train, num_boost_round=5000, valid_sets=[lgb_val], callbacks=[early_stopping, verbose])\n",
    "    y_pred = model.predict(X_val, num_iteration=model.best_iteration)\n",
    "    y_pred = (y_pred > 0.5).astype(int)\n",
    "    accuracy = accuracy_score(y_val, y_pred)\n",
    "\n",
    "    return accuracy\n",
    "\n",
    "study = optuna.create_study(direction='maximize')\n",
    "study.optimize(objective, n_trials=100)\n",
    "\n",
    "# 最適なハイパーパラメータでモデルを再学習\n",
    "best_params = study.best_params\n",
    "best_params['objective'] = 'binary'\n",
    "best_params['metric'] = 'binary_error'\n",
    "best_params['verbosity'] = -1"
   ]
  },
  {
   "cell_type": "markdown",
   "metadata": {},
   "source": [
    "- add feature"
   ]
  },
  {
   "cell_type": "code",
   "execution_count": 16,
   "metadata": {},
   "outputs": [],
   "source": [
    "# 特徴量エンジニアリング関数\n",
    "def add_feature(df, feature_func):\n",
    "    return feature_func(df)\n",
    "\n",
    "feature_functions = {\n",
    "    'assistRate': lambda df: df.assign(assistRate=df['blueAssists'] / (df['blueKills'] + 1)),\n",
    "    'blueHerald': lambda df: df.assign(blueHerald=df['blueEliteMonsters'] - df['blueDragons']).assign(blueHerald=lambda x: x['blueHerald'].clip(lower=0)),\n",
    "    'eliteMonsterDragonRatio': lambda df: df.assign(eliteMonsterDragonRatio=df['blueEliteMonsters'] / (df['blueDragons'] + 1)),\n",
    "    'logTotalGold': lambda df: df.assign(logTotalGold=np.log1p(df['blueTotalGold'])),\n",
    "    'logTotalExperience': lambda df: df.assign(logTotalExperience=np.log1p(df['blueTotalExperience'])),\n",
    "    'firstBloodKillRatio': lambda df: df.assign(firstBloodKillRatio=df['blueFirstBlood'] * df['blueKills']),\n",
    "    'totalCombatPoints': lambda df: df.assign(totalCombatPoints=df['blueKills'] + df['blueDeaths'] + df['blueAssists']),\n",
    "    'combatRatios': lambda df: df.assign(killRatio=df['blueKills'] / (df['blueKills'] + df['blueDeaths'] + df['blueAssists']),\n",
    "                                           deathRatio=df['blueDeaths'] / (df['blueKills'] + df['blueDeaths'] + df['blueAssists']),\n",
    "                                           assistRatio=df['blueAssists'] / (df['blueKills'] + df['blueDeaths'] + df['blueAssists'])),\n",
    "    'teamStrength': lambda df: df.assign(teamStrength=df['blueKills'] + df['blueAssists'] + df['blueEliteMonsters']),\n",
    "    'dragonKillImpact': lambda df: df.assign(dragonKillImpact=df['blueDragons'] / (df['blueKills'] + 1)),\n",
    "    'eliteMonsterUtilization': lambda df: df.assign(eliteMonsterUtilization=df['blueEliteMonsters'] / (df['blueKills'] + df['blueAssists'] + 1)),\n",
    "    'goldExperienceRatio': lambda df: df.assign(goldExperienceRatio=df['blueTotalGold'] / (df['blueTotalExperience'] + 1)),\n",
    "    'teamEfficiency': lambda df: df.assign(teamEfficiency=(df['blueKills'] + df['blueAssists'] + df['blueEliteMonsters']) / (df['blueDeaths'] + 1)),\n",
    "    'killToMonsterRatio': lambda df: df.assign(killToMonsterRatio=df['blueKills'] / (df['blueEliteMonsters'] + 1)),\n",
    "    'avgGoldPerKill': lambda df: df.assign(avgGoldPerKill=df['blueTotalGold'] / (df['blueKills'] + 1)),\n",
    "    'expToKillRatio': lambda df: df.assign(expToKillRatio=df['blueTotalExperience'] / (df['blueKills'] + 1)),\n",
    "    'killsMinusDeaths': lambda df: df.assign(killsMinusDeaths=df['blueKills'] - df['blueDeaths']),\n",
    "    'killDeathRatio': lambda df: df.assign(killDeathRatio=df['blueKills'] / (df['blueKills'] + df['blueDeaths'])),\n",
    "    'avgExperiencePerKill': lambda df: df.assign(avgExperiencePerKill=df['blueTotalExperience'] / df['blueKills']),\n",
    "}"
   ]
  },
  {
   "cell_type": "markdown",
   "metadata": {},
   "source": [
    "- study_accuracy"
   ]
  },
  {
   "cell_type": "code",
   "execution_count": 17,
   "metadata": {},
   "outputs": [],
   "source": [
    "# 特徴量の影響を評価する関数\n",
    "def evaluate_feature_impact(feature_func):\n",
    "    # 特徴量を追加\n",
    "    X_train_modified = add_feature(X_train.copy(), feature_func)\n",
    "    X_val_modified = add_feature(X_val.copy(), feature_func)\n",
    "\n",
    "    # モデルの訓練\n",
    "    lgb_train = lgb.Dataset(X_train_modified, y_train)\n",
    "    lgb_val = lgb.Dataset(X_val_modified, y_val)\n",
    "    model = lgb.train(\n",
    "        best_params,\n",
    "        lgb_train,\n",
    "        valid_sets=lgb_val,\n",
    "        num_boost_round=100,\n",
    "        callbacks=[lgb.early_stopping(stopping_rounds=10)]\n",
    "    )\n",
    "\n",
    "    # 検証データに対する予測と精度の計算\n",
    "    y_pred = model.predict(X_val_modified, num_iteration=model.best_iteration)\n",
    "    y_pred = (y_pred > 0.5).astype(int)\n",
    "    accuracy = accuracy_score(y_val, y_pred)\n",
    "\n",
    "    return accuracy"
   ]
  },
  {
   "cell_type": "markdown",
   "metadata": {},
   "source": [
    "- 結果"
   ]
  },
  {
   "cell_type": "code",
   "execution_count": 18,
   "metadata": {},
   "outputs": [
    {
     "name": "stdout",
     "output_type": "stream",
     "text": [
      "Training until validation scores don't improve for 10 rounds\n",
      "Early stopping, best iteration is:\n",
      "[21]\tvalid_0's binary_error: 0.205\n",
      "assistRate_accuracy: 0.795\n",
      "Training until validation scores don't improve for 10 rounds\n"
     ]
    },
    {
     "name": "stdout",
     "output_type": "stream",
     "text": [
      "Early stopping, best iteration is:\n",
      "[21]\tvalid_0's binary_error: 0.2025\n",
      "blueHerald_accuracy: 0.7975\n",
      "Training until validation scores don't improve for 10 rounds\n",
      "Early stopping, best iteration is:\n",
      "[39]\tvalid_0's binary_error: 0.191875\n",
      "eliteMonsterDragonRatio_accuracy: 0.808125\n",
      "Training until validation scores don't improve for 10 rounds\n",
      "Early stopping, best iteration is:\n",
      "[21]\tvalid_0's binary_error: 0.2025\n",
      "logTotalGold_accuracy: 0.7975\n",
      "Training until validation scores don't improve for 10 rounds\n",
      "Early stopping, best iteration is:\n",
      "[21]\tvalid_0's binary_error: 0.2025\n",
      "logTotalExperience_accuracy: 0.7975\n",
      "Training until validation scores don't improve for 10 rounds\n",
      "Early stopping, best iteration is:\n",
      "[36]\tvalid_0's binary_error: 0.19\n",
      "firstBloodKillRatio_accuracy: 0.81\n",
      "Training until validation scores don't improve for 10 rounds\n",
      "Early stopping, best iteration is:\n",
      "[20]\tvalid_0's binary_error: 0.2075\n",
      "totalCombatPoints_accuracy: 0.7925\n",
      "Training until validation scores don't improve for 10 rounds\n",
      "Early stopping, best iteration is:\n",
      "[27]\tvalid_0's binary_error: 0.200625\n",
      "combatRatios_accuracy: 0.799375\n",
      "Training until validation scores don't improve for 10 rounds\n",
      "Early stopping, best iteration is:\n",
      "[59]\tvalid_0's binary_error: 0.18875\n",
      "teamStrength_accuracy: 0.81125\n",
      "Training until validation scores don't improve for 10 rounds\n",
      "Early stopping, best iteration is:\n",
      "[39]\tvalid_0's binary_error: 0.191875\n",
      "dragonKillImpact_accuracy: 0.808125\n",
      "Training until validation scores don't improve for 10 rounds\n",
      "Early stopping, best iteration is:\n",
      "[36]\tvalid_0's binary_error: 0.193125\n",
      "eliteMonsterUtilization_accuracy: 0.806875\n",
      "Training until validation scores don't improve for 10 rounds\n",
      "Early stopping, best iteration is:\n",
      "[34]\tvalid_0's binary_error: 0.195\n",
      "goldExperienceRatio_accuracy: 0.805\n",
      "Training until validation scores don't improve for 10 rounds\n",
      "Early stopping, best iteration is:\n",
      "[41]\tvalid_0's binary_error: 0.1975\n",
      "teamEfficiency_accuracy: 0.8025\n",
      "Training until validation scores don't improve for 10 rounds\n",
      "Early stopping, best iteration is:\n",
      "[37]\tvalid_0's binary_error: 0.19\n",
      "killToMonsterRatio_accuracy: 0.81\n",
      "Training until validation scores don't improve for 10 rounds\n",
      "Early stopping, best iteration is:\n",
      "[43]\tvalid_0's binary_error: 0.189375\n",
      "avgGoldPerKill_accuracy: 0.810625\n",
      "Training until validation scores don't improve for 10 rounds\n",
      "Early stopping, best iteration is:\n",
      "[22]\tvalid_0's binary_error: 0.203125\n",
      "expToKillRatio_accuracy: 0.796875\n",
      "Training until validation scores don't improve for 10 rounds\n",
      "Early stopping, best iteration is:\n",
      "[40]\tvalid_0's binary_error: 0.19625\n",
      "killsMinusDeaths_accuracy: 0.80375\n",
      "Training until validation scores don't improve for 10 rounds\n",
      "Early stopping, best iteration is:\n",
      "[8]\tvalid_0's binary_error: 0.21\n",
      "killDeathRatio_accuracy: 0.79\n",
      "Training until validation scores don't improve for 10 rounds\n",
      "Early stopping, best iteration is:\n",
      "[34]\tvalid_0's binary_error: 0.195625\n",
      "avgExperiencePerKill_accuracy: 0.804375\n"
     ]
    }
   ],
   "source": [
    "# 各特徴量の精度を計算し、結果を出力\n",
    "accuracy_results = {}\n",
    "for feature_name, feature_func in feature_functions.items():\n",
    "    accuracy = evaluate_feature_impact(feature_func)\n",
    "    accuracy_results[feature_name] = accuracy\n",
    "    print(f'{feature_name}_accuracy: {accuracy}')"
   ]
  },
  {
   "cell_type": "markdown",
   "metadata": {},
   "source": [
    "- 結果一覧"
   ]
  },
  {
   "cell_type": "code",
   "execution_count": 19,
   "metadata": {},
   "outputs": [
    {
     "name": "stdout",
     "output_type": "stream",
     "text": [
      "teamStrength: 0.81125\n",
      "avgGoldPerKill: 0.810625\n",
      "firstBloodKillRatio: 0.81\n",
      "killToMonsterRatio: 0.81\n",
      "eliteMonsterDragonRatio: 0.808125\n",
      "dragonKillImpact: 0.808125\n",
      "eliteMonsterUtilization: 0.806875\n",
      "goldExperienceRatio: 0.805\n",
      "avgExperiencePerKill: 0.804375\n",
      "killsMinusDeaths: 0.80375\n",
      "teamEfficiency: 0.8025\n",
      "combatRatios: 0.799375\n",
      "blueHerald: 0.7975\n",
      "logTotalGold: 0.7975\n",
      "logTotalExperience: 0.7975\n",
      "expToKillRatio: 0.796875\n",
      "assistRate: 0.795\n",
      "totalCombatPoints: 0.7925\n",
      "killDeathRatio: 0.79\n"
     ]
    }
   ],
   "source": [
    "# 精度が高い順に辞書を並べ替え\n",
    "sorted_accuracy_results = sorted(accuracy_results.items(), key=lambda x: x[1], reverse=True)\n",
    "\n",
    "# ソートされた結果を表示\n",
    "for feature_name, accuracy in sorted_accuracy_results:\n",
    "    print(f'{feature_name}: {accuracy}')"
   ]
  },
  {
   "cell_type": "markdown",
   "metadata": {},
   "source": [
    "- 関数作成"
   ]
  },
  {
   "cell_type": "code",
   "execution_count": 20,
   "metadata": {},
   "outputs": [],
   "source": [
    "def add_features(df):\n",
    "    \"\"\"\n",
    "    与えられたデータフレームに対して特徴量エンジニアリングを行う関数。\n",
    "\n",
    "    Args:\n",
    "    df (DataFrame): 特徴量エンジニアリングを行うデータフレーム\n",
    "\n",
    "    Returns:\n",
    "    DataFrame: 新しい特徴量が追加されたデータフレーム\n",
    "    \"\"\"\n",
    "\n",
    "    return df"
   ]
  },
  {
   "cell_type": "code",
   "execution_count": null,
   "metadata": {},
   "outputs": [],
   "source": []
  }
 ],
 "metadata": {
  "kernelspec": {
   "display_name": "Python 3",
   "language": "python",
   "name": "python3"
  },
  "language_info": {
   "codemirror_mode": {
    "name": "ipython",
    "version": 3
   },
   "file_extension": ".py",
   "mimetype": "text/x-python",
   "name": "python",
   "nbconvert_exporter": "python",
   "pygments_lexer": "ipython3",
   "version": "3.10.11"
  }
 },
 "nbformat": 4,
 "nbformat_minor": 2
}
