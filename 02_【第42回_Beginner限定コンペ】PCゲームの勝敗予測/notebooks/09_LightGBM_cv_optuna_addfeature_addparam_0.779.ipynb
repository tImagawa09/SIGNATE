{
 "cells": [
  {
   "cell_type": "markdown",
   "metadata": {},
   "source": [
    "# Library"
   ]
  },
  {
   "cell_type": "code",
   "execution_count": 1,
   "metadata": {},
   "outputs": [],
   "source": [
    "import numpy as np\n",
    "import pandas as pd\n",
    "import seaborn as sns\n",
    "import matplotlib.pyplot as plt\n",
    "import optuna\n",
    "\n",
    "\n",
    "from sklearn.metrics import confusion_matrix\n",
    "from sklearn.linear_model import LogisticRegression\n",
    "from sklearn.model_selection import train_test_split\n",
    "from sklearn.metrics import f1_score\n",
    "\n",
    "import lightgbm as lgb\n",
    "from sklearn.model_selection import train_test_split\n",
    "from sklearn.metrics import accuracy_score"
   ]
  },
  {
   "cell_type": "markdown",
   "metadata": {},
   "source": [
    "# Data Loading"
   ]
  },
  {
   "cell_type": "code",
   "execution_count": 2,
   "metadata": {},
   "outputs": [],
   "source": [
    "train = pd.read_csv('../data/train.csv')\n",
    "test = pd.read_csv('../data/test.csv')"
   ]
  },
  {
   "cell_type": "code",
   "execution_count": 3,
   "metadata": {},
   "outputs": [
    {
     "data": {
      "text/html": [
       "<div>\n",
       "<style scoped>\n",
       "    .dataframe tbody tr th:only-of-type {\n",
       "        vertical-align: middle;\n",
       "    }\n",
       "\n",
       "    .dataframe tbody tr th {\n",
       "        vertical-align: top;\n",
       "    }\n",
       "\n",
       "    .dataframe thead th {\n",
       "        text-align: right;\n",
       "    }\n",
       "</style>\n",
       "<table border=\"1\" class=\"dataframe\">\n",
       "  <thead>\n",
       "    <tr style=\"text-align: right;\">\n",
       "      <th></th>\n",
       "      <th>gameId</th>\n",
       "      <th>blueFirstBlood</th>\n",
       "      <th>blueKills</th>\n",
       "      <th>blueDeaths</th>\n",
       "      <th>blueAssists</th>\n",
       "      <th>blueEliteMonsters</th>\n",
       "      <th>blueDragons</th>\n",
       "      <th>blueTotalGold</th>\n",
       "      <th>blueTotalExperience</th>\n",
       "      <th>blueWins</th>\n",
       "    </tr>\n",
       "  </thead>\n",
       "  <tbody>\n",
       "    <tr>\n",
       "      <th>0</th>\n",
       "      <td>0</td>\n",
       "      <td>0</td>\n",
       "      <td>5</td>\n",
       "      <td>8</td>\n",
       "      <td>6</td>\n",
       "      <td>0</td>\n",
       "      <td>0</td>\n",
       "      <td>14536</td>\n",
       "      <td>17256</td>\n",
       "      <td>0</td>\n",
       "    </tr>\n",
       "    <tr>\n",
       "      <th>1</th>\n",
       "      <td>1</td>\n",
       "      <td>1</td>\n",
       "      <td>10</td>\n",
       "      <td>1</td>\n",
       "      <td>5</td>\n",
       "      <td>0</td>\n",
       "      <td>0</td>\n",
       "      <td>14536</td>\n",
       "      <td>17863</td>\n",
       "      <td>0</td>\n",
       "    </tr>\n",
       "    <tr>\n",
       "      <th>2</th>\n",
       "      <td>2</td>\n",
       "      <td>0</td>\n",
       "      <td>3</td>\n",
       "      <td>10</td>\n",
       "      <td>2</td>\n",
       "      <td>0</td>\n",
       "      <td>0</td>\n",
       "      <td>17409</td>\n",
       "      <td>17256</td>\n",
       "      <td>0</td>\n",
       "    </tr>\n",
       "    <tr>\n",
       "      <th>3</th>\n",
       "      <td>3</td>\n",
       "      <td>1</td>\n",
       "      <td>7</td>\n",
       "      <td>10</td>\n",
       "      <td>8</td>\n",
       "      <td>0</td>\n",
       "      <td>0</td>\n",
       "      <td>19558</td>\n",
       "      <td>18201</td>\n",
       "      <td>0</td>\n",
       "    </tr>\n",
       "    <tr>\n",
       "      <th>4</th>\n",
       "      <td>4</td>\n",
       "      <td>0</td>\n",
       "      <td>4</td>\n",
       "      <td>9</td>\n",
       "      <td>4</td>\n",
       "      <td>0</td>\n",
       "      <td>0</td>\n",
       "      <td>17409</td>\n",
       "      <td>17256</td>\n",
       "      <td>0</td>\n",
       "    </tr>\n",
       "    <tr>\n",
       "      <th>...</th>\n",
       "      <td>...</td>\n",
       "      <td>...</td>\n",
       "      <td>...</td>\n",
       "      <td>...</td>\n",
       "      <td>...</td>\n",
       "      <td>...</td>\n",
       "      <td>...</td>\n",
       "      <td>...</td>\n",
       "      <td>...</td>\n",
       "      <td>...</td>\n",
       "    </tr>\n",
       "    <tr>\n",
       "      <th>7995</th>\n",
       "      <td>9993</td>\n",
       "      <td>1</td>\n",
       "      <td>9</td>\n",
       "      <td>6</td>\n",
       "      <td>14</td>\n",
       "      <td>0</td>\n",
       "      <td>0</td>\n",
       "      <td>18513</td>\n",
       "      <td>18201</td>\n",
       "      <td>1</td>\n",
       "    </tr>\n",
       "    <tr>\n",
       "      <th>7996</th>\n",
       "      <td>9994</td>\n",
       "      <td>0</td>\n",
       "      <td>3</td>\n",
       "      <td>10</td>\n",
       "      <td>4</td>\n",
       "      <td>0</td>\n",
       "      <td>0</td>\n",
       "      <td>17381</td>\n",
       "      <td>19797</td>\n",
       "      <td>0</td>\n",
       "    </tr>\n",
       "    <tr>\n",
       "      <th>7997</th>\n",
       "      <td>9995</td>\n",
       "      <td>1</td>\n",
       "      <td>9</td>\n",
       "      <td>3</td>\n",
       "      <td>9</td>\n",
       "      <td>2</td>\n",
       "      <td>1</td>\n",
       "      <td>18274</td>\n",
       "      <td>18491</td>\n",
       "      <td>1</td>\n",
       "    </tr>\n",
       "    <tr>\n",
       "      <th>7998</th>\n",
       "      <td>9997</td>\n",
       "      <td>0</td>\n",
       "      <td>5</td>\n",
       "      <td>10</td>\n",
       "      <td>6</td>\n",
       "      <td>1</td>\n",
       "      <td>1</td>\n",
       "      <td>18274</td>\n",
       "      <td>18491</td>\n",
       "      <td>1</td>\n",
       "    </tr>\n",
       "    <tr>\n",
       "      <th>7999</th>\n",
       "      <td>9998</td>\n",
       "      <td>0</td>\n",
       "      <td>6</td>\n",
       "      <td>4</td>\n",
       "      <td>5</td>\n",
       "      <td>0</td>\n",
       "      <td>0</td>\n",
       "      <td>17409</td>\n",
       "      <td>17256</td>\n",
       "      <td>0</td>\n",
       "    </tr>\n",
       "  </tbody>\n",
       "</table>\n",
       "<p>8000 rows × 10 columns</p>\n",
       "</div>"
      ],
      "text/plain": [
       "      gameId  blueFirstBlood  blueKills  blueDeaths  blueAssists   \n",
       "0          0               0          5           8            6  \\\n",
       "1          1               1         10           1            5   \n",
       "2          2               0          3          10            2   \n",
       "3          3               1          7          10            8   \n",
       "4          4               0          4           9            4   \n",
       "...      ...             ...        ...         ...          ...   \n",
       "7995    9993               1          9           6           14   \n",
       "7996    9994               0          3          10            4   \n",
       "7997    9995               1          9           3            9   \n",
       "7998    9997               0          5          10            6   \n",
       "7999    9998               0          6           4            5   \n",
       "\n",
       "      blueEliteMonsters  blueDragons  blueTotalGold  blueTotalExperience   \n",
       "0                     0            0          14536                17256  \\\n",
       "1                     0            0          14536                17863   \n",
       "2                     0            0          17409                17256   \n",
       "3                     0            0          19558                18201   \n",
       "4                     0            0          17409                17256   \n",
       "...                 ...          ...            ...                  ...   \n",
       "7995                  0            0          18513                18201   \n",
       "7996                  0            0          17381                19797   \n",
       "7997                  2            1          18274                18491   \n",
       "7998                  1            1          18274                18491   \n",
       "7999                  0            0          17409                17256   \n",
       "\n",
       "      blueWins  \n",
       "0            0  \n",
       "1            0  \n",
       "2            0  \n",
       "3            0  \n",
       "4            0  \n",
       "...        ...  \n",
       "7995         1  \n",
       "7996         0  \n",
       "7997         1  \n",
       "7998         1  \n",
       "7999         0  \n",
       "\n",
       "[8000 rows x 10 columns]"
      ]
     },
     "execution_count": 3,
     "metadata": {},
     "output_type": "execute_result"
    }
   ],
   "source": [
    "train"
   ]
  },
  {
   "cell_type": "code",
   "execution_count": 4,
   "metadata": {},
   "outputs": [
    {
     "data": {
      "text/html": [
       "<div>\n",
       "<style scoped>\n",
       "    .dataframe tbody tr th:only-of-type {\n",
       "        vertical-align: middle;\n",
       "    }\n",
       "\n",
       "    .dataframe tbody tr th {\n",
       "        vertical-align: top;\n",
       "    }\n",
       "\n",
       "    .dataframe thead th {\n",
       "        text-align: right;\n",
       "    }\n",
       "</style>\n",
       "<table border=\"1\" class=\"dataframe\">\n",
       "  <thead>\n",
       "    <tr style=\"text-align: right;\">\n",
       "      <th></th>\n",
       "      <th>gameId</th>\n",
       "      <th>blueFirstBlood</th>\n",
       "      <th>blueKills</th>\n",
       "      <th>blueDeaths</th>\n",
       "      <th>blueAssists</th>\n",
       "      <th>blueEliteMonsters</th>\n",
       "      <th>blueDragons</th>\n",
       "      <th>blueTotalGold</th>\n",
       "      <th>blueTotalExperience</th>\n",
       "    </tr>\n",
       "  </thead>\n",
       "  <tbody>\n",
       "    <tr>\n",
       "      <th>0</th>\n",
       "      <td>9</td>\n",
       "      <td>0</td>\n",
       "      <td>7</td>\n",
       "      <td>6</td>\n",
       "      <td>6</td>\n",
       "      <td>0</td>\n",
       "      <td>0</td>\n",
       "      <td>16961</td>\n",
       "      <td>18201</td>\n",
       "    </tr>\n",
       "    <tr>\n",
       "      <th>1</th>\n",
       "      <td>15</td>\n",
       "      <td>0</td>\n",
       "      <td>6</td>\n",
       "      <td>6</td>\n",
       "      <td>6</td>\n",
       "      <td>2</td>\n",
       "      <td>1</td>\n",
       "      <td>18513</td>\n",
       "      <td>18021</td>\n",
       "    </tr>\n",
       "    <tr>\n",
       "      <th>2</th>\n",
       "      <td>18</td>\n",
       "      <td>1</td>\n",
       "      <td>6</td>\n",
       "      <td>4</td>\n",
       "      <td>3</td>\n",
       "      <td>0</td>\n",
       "      <td>0</td>\n",
       "      <td>13475</td>\n",
       "      <td>17256</td>\n",
       "    </tr>\n",
       "    <tr>\n",
       "      <th>3</th>\n",
       "      <td>23</td>\n",
       "      <td>0</td>\n",
       "      <td>5</td>\n",
       "      <td>4</td>\n",
       "      <td>7</td>\n",
       "      <td>0</td>\n",
       "      <td>0</td>\n",
       "      <td>17409</td>\n",
       "      <td>17256</td>\n",
       "    </tr>\n",
       "    <tr>\n",
       "      <th>4</th>\n",
       "      <td>31</td>\n",
       "      <td>0</td>\n",
       "      <td>10</td>\n",
       "      <td>8</td>\n",
       "      <td>9</td>\n",
       "      <td>0</td>\n",
       "      <td>0</td>\n",
       "      <td>18117</td>\n",
       "      <td>18472</td>\n",
       "    </tr>\n",
       "    <tr>\n",
       "      <th>...</th>\n",
       "      <td>...</td>\n",
       "      <td>...</td>\n",
       "      <td>...</td>\n",
       "      <td>...</td>\n",
       "      <td>...</td>\n",
       "      <td>...</td>\n",
       "      <td>...</td>\n",
       "      <td>...</td>\n",
       "      <td>...</td>\n",
       "    </tr>\n",
       "    <tr>\n",
       "      <th>1995</th>\n",
       "      <td>9971</td>\n",
       "      <td>0</td>\n",
       "      <td>6</td>\n",
       "      <td>3</td>\n",
       "      <td>7</td>\n",
       "      <td>0</td>\n",
       "      <td>0</td>\n",
       "      <td>17409</td>\n",
       "      <td>17256</td>\n",
       "    </tr>\n",
       "    <tr>\n",
       "      <th>1996</th>\n",
       "      <td>9980</td>\n",
       "      <td>0</td>\n",
       "      <td>4</td>\n",
       "      <td>4</td>\n",
       "      <td>4</td>\n",
       "      <td>0</td>\n",
       "      <td>0</td>\n",
       "      <td>17409</td>\n",
       "      <td>17256</td>\n",
       "    </tr>\n",
       "    <tr>\n",
       "      <th>1997</th>\n",
       "      <td>9983</td>\n",
       "      <td>1</td>\n",
       "      <td>6</td>\n",
       "      <td>3</td>\n",
       "      <td>3</td>\n",
       "      <td>1</td>\n",
       "      <td>1</td>\n",
       "      <td>18513</td>\n",
       "      <td>18201</td>\n",
       "    </tr>\n",
       "    <tr>\n",
       "      <th>1998</th>\n",
       "      <td>9996</td>\n",
       "      <td>1</td>\n",
       "      <td>10</td>\n",
       "      <td>9</td>\n",
       "      <td>9</td>\n",
       "      <td>1</td>\n",
       "      <td>1</td>\n",
       "      <td>18513</td>\n",
       "      <td>18201</td>\n",
       "    </tr>\n",
       "    <tr>\n",
       "      <th>1999</th>\n",
       "      <td>9999</td>\n",
       "      <td>0</td>\n",
       "      <td>7</td>\n",
       "      <td>11</td>\n",
       "      <td>8</td>\n",
       "      <td>0</td>\n",
       "      <td>0</td>\n",
       "      <td>18117</td>\n",
       "      <td>18201</td>\n",
       "    </tr>\n",
       "  </tbody>\n",
       "</table>\n",
       "<p>2000 rows × 9 columns</p>\n",
       "</div>"
      ],
      "text/plain": [
       "      gameId  blueFirstBlood  blueKills  blueDeaths  blueAssists   \n",
       "0          9               0          7           6            6  \\\n",
       "1         15               0          6           6            6   \n",
       "2         18               1          6           4            3   \n",
       "3         23               0          5           4            7   \n",
       "4         31               0         10           8            9   \n",
       "...      ...             ...        ...         ...          ...   \n",
       "1995    9971               0          6           3            7   \n",
       "1996    9980               0          4           4            4   \n",
       "1997    9983               1          6           3            3   \n",
       "1998    9996               1         10           9            9   \n",
       "1999    9999               0          7          11            8   \n",
       "\n",
       "      blueEliteMonsters  blueDragons  blueTotalGold  blueTotalExperience  \n",
       "0                     0            0          16961                18201  \n",
       "1                     2            1          18513                18021  \n",
       "2                     0            0          13475                17256  \n",
       "3                     0            0          17409                17256  \n",
       "4                     0            0          18117                18472  \n",
       "...                 ...          ...            ...                  ...  \n",
       "1995                  0            0          17409                17256  \n",
       "1996                  0            0          17409                17256  \n",
       "1997                  1            1          18513                18201  \n",
       "1998                  1            1          18513                18201  \n",
       "1999                  0            0          18117                18201  \n",
       "\n",
       "[2000 rows x 9 columns]"
      ]
     },
     "execution_count": 4,
     "metadata": {},
     "output_type": "execute_result"
    }
   ],
   "source": [
    "test"
   ]
  },
  {
   "cell_type": "markdown",
   "metadata": {},
   "source": [
    "# Feature"
   ]
  },
  {
   "cell_type": "markdown",
   "metadata": {},
   "source": [
    "- 各特長量の説明\n",
    "\n",
    "| ヘッダ名称            | データ型 | 説明                                                       |\n",
    "|---------------------|-------|----------------------------------------------------------|\n",
    "| gameId             | int   | ゲームID                                                    |\n",
    "| blueFirstBlood      | int   | ゲームの最初のキル。青チームが最初のキルを行った場合は1、それ以外の場合は0 |\n",
    "| blueKills           | int   | 青チームによって殺された敵の数                                     |\n",
    "| blueDeaths          | int   | 青チームの死亡者数                                            |\n",
    "| blueAssists         | int   | 青チームのキルアシストの数                                      |\n",
    "| blueEliteMonsters   | int   | 青チームによって殺されたエリートモンスターの数（ドラゴンとヘラルド）       |\n",
    "| blueDragons         | int   | 青チームによって殺されたドラゴンの数                               |\n",
    "| blueTotalGold       | int   | 青チームの得たゴールド合計                                       |\n",
    "| blueTotalExperience | int   | 青チームの得た経験値合計                                       |\n",
    "| blueWins            | int   | 目的変数（青チームが勝った場合は1、それ以外の場合は0。）                |\n"
   ]
  },
  {
   "cell_type": "markdown",
   "metadata": {},
   "source": [
    "# Feature Engineering"
   ]
  },
  {
   "cell_type": "markdown",
   "metadata": {},
   "source": [
    "- Add new feature"
   ]
  },
  {
   "cell_type": "code",
   "execution_count": 5,
   "metadata": {},
   "outputs": [],
   "source": [
    "def create_features(df):\n",
    "    \"\"\"\n",
    "    与えられたデータフレームに対して特徴量エンジニアリングを行う関数。\n",
    "\n",
    "    Args:\n",
    "    df (DataFrame): 特徴量エンジニアリングを行うデータフレーム\n",
    "\n",
    "    Returns:\n",
    "    DataFrame: 新しい特徴量が追加されたデータフレーム\n",
    "    \"\"\"\n",
    "    # キルとデスの比率\n",
    "    df['killDeathRatio'] = df['blueKills'] / (df['blueDeaths'] + 1)  # ゼロ除算を防ぐために+1\n",
    "\n",
    "    # アシストの割合\n",
    "    df['assistRate'] = df['blueAssists'] / (df['blueKills'] + 1)\n",
    "\n",
    "    # ヘラルドの討伐数\n",
    "    df['blueHerald'] = df['blueEliteMonsters'] - df['blueDragons']\n",
    "    # blueHerald列の負の値を0で置き換え\n",
    "    df['blueHerald'] = df['blueHerald'].clip(lower=0)\n",
    "\n",
    "    # エリートモンスターとドラゴンの比率\n",
    "    df['eliteMonsterDragonRatio'] = df['blueEliteMonsters'] / (df['blueDragons'] + 1)\n",
    "    # エリートモンスターとヘラルドの比率\n",
    "    df['eliteMonsterHeraldRatio'] = df['blueEliteMonsters'] / (df['blueHerald'] + 1)\n",
    "\n",
    "    # ゴールドと経験値の対数変換\n",
    "    df['logTotalGold'] = np.log1p(df['blueTotalGold'])\n",
    "    df['logTotalExperience'] = np.log1p(df['blueTotalExperience'])\n",
    "\n",
    "    # ゴールドと経験値の相互作用\n",
    "    df['goldXexperience'] = df['blueTotalGold'] * df['blueTotalExperience']\n",
    "\n",
    "    # 初期キルの影響\n",
    "    df['firstBloodKillRatio'] = df['blueFirstBlood'] * df['blueKills']\n",
    "    \n",
    "    # キル、デス、アシストの合計\n",
    "    df['totalCombatPoints'] = df['blueKills'] + df['blueDeaths'] + df['blueAssists']\n",
    "\n",
    "    # キル・デス・アシスト比率\n",
    "    total_combat_actions = df['blueKills'] + df['blueDeaths'] + df['blueAssists']\n",
    "    df['killRatio'] = df['blueKills'] / total_combat_actions\n",
    "    df['deathRatio'] = df['blueDeaths'] / total_combat_actions\n",
    "    df['assistRatio'] = df['blueAssists'] / total_combat_actions\n",
    "\n",
    "    # 効率的なリソース利用\n",
    "    df['goldPerKill'] = df['blueTotalGold'] / (df['blueKills'] + 1)  # ゼロ除算を防ぐために+1\n",
    "    df['experiencePerKill'] = df['blueTotalExperience'] / (df['blueKills'] + 1)  # ゼロ除算を防ぐために+1\n",
    "\n",
    "    # エリートモンスターの討伐効率\n",
    "    df['eliteMonstersPerGold'] = df['blueEliteMonsters'] / df['blueTotalGold']\n",
    "    df['eliteMonstersPerExperience'] = df['blueEliteMonsters'] / df['blueTotalExperience']\n",
    "\n",
    "    # チームの総合力\n",
    "    df['teamStrength'] = df['blueKills'] + df['blueAssists'] + df['blueEliteMonsters']\n",
    "\n",
    "    return df"
   ]
  },
  {
   "cell_type": "markdown",
   "metadata": {},
   "source": [
    "- Apply data"
   ]
  },
  {
   "cell_type": "code",
   "execution_count": 6,
   "metadata": {},
   "outputs": [],
   "source": [
    "train = create_features(train)\n",
    "test = create_features(test)"
   ]
  },
  {
   "cell_type": "markdown",
   "metadata": {},
   "source": [
    "# model"
   ]
  },
  {
   "cell_type": "markdown",
   "metadata": {},
   "source": [
    "- LightGBM"
   ]
  },
  {
   "cell_type": "code",
   "execution_count": 7,
   "metadata": {},
   "outputs": [
    {
     "name": "stderr",
     "output_type": "stream",
     "text": [
      "[I 2024-01-18 11:45:03,019] A new study created in memory with name: no-name-fcb97230-b54e-4502-8d5b-8c0552f7989e\n",
      "[I 2024-01-18 11:45:03,277] Trial 0 finished with value: 0.755625 and parameters: {'lambda_l1': 6.110575499542893e-05, 'lambda_l2': 3.3622471759407515e-06, 'num_leaves': 128, 'feature_fraction': 0.8022960668924319, 'bagging_fraction': 0.6735461703553447, 'bagging_freq': 3, 'min_child_samples': 27, 'learning_rate': 0.2109175947079513, 'max_depth': 1, 'subsample': 0.21454069041511906, 'colsample_bytree': 0.14187904940603546}. Best is trial 0 with value: 0.755625.\n"
     ]
    },
    {
     "name": "stderr",
     "output_type": "stream",
     "text": [
      "[I 2024-01-18 11:45:03,349] Trial 1 finished with value: 0.755625 and parameters: {'lambda_l1': 3.600120177570044e-07, 'lambda_l2': 1.4335983748287268e-06, 'num_leaves': 249, 'feature_fraction': 0.5285706780923433, 'bagging_fraction': 0.6473028131709921, 'bagging_freq': 6, 'min_child_samples': 78, 'learning_rate': 0.22019424915390415, 'max_depth': 1, 'subsample': 0.2894797505089553, 'colsample_bytree': 0.8560103070812332}. Best is trial 0 with value: 0.755625.\n"
     ]
    },
    {
     "name": "stdout",
     "output_type": "stream",
     "text": [
      "Training until validation scores don't improve for 10 rounds\n",
      "Early stopping, best iteration is:\n",
      "[1]\tvalid_0's binary_error: 0.244375\n",
      "Training until validation scores don't improve for 10 rounds\n",
      "Early stopping, best iteration is:\n",
      "[1]\tvalid_0's binary_error: 0.244375\n"
     ]
    },
    {
     "name": "stderr",
     "output_type": "stream",
     "text": [
      "[I 2024-01-18 11:45:03,384] Trial 2 finished with value: 0.755625 and parameters: {'lambda_l1': 6.750068903032758e-08, 'lambda_l2': 0.03346355647000886, 'num_leaves': 25, 'feature_fraction': 0.5589992666357977, 'bagging_fraction': 0.49855043452685166, 'bagging_freq': 2, 'min_child_samples': 19, 'learning_rate': 0.06587010802795222, 'max_depth': 1, 'subsample': 0.582765009346882, 'colsample_bytree': 0.9464848429014273}. Best is trial 0 with value: 0.755625.\n",
      "[I 2024-01-18 11:45:03,432] Trial 3 finished with value: 0.784375 and parameters: {'lambda_l1': 9.40277546542025e-05, 'lambda_l2': 8.237076557579097e-08, 'num_leaves': 134, 'feature_fraction': 0.6446375235060591, 'bagging_fraction': 0.7706695861126657, 'bagging_freq': 5, 'min_child_samples': 94, 'learning_rate': 0.01788207101271322, 'max_depth': 5, 'subsample': 0.27417925629846834, 'colsample_bytree': 0.4469622763615255}. Best is trial 3 with value: 0.784375.\n"
     ]
    },
    {
     "name": "stdout",
     "output_type": "stream",
     "text": [
      "Training until validation scores don't improve for 10 rounds\n",
      "Early stopping, best iteration is:\n",
      "[1]\tvalid_0's binary_error: 0.244375\n",
      "Training until validation scores don't improve for 10 rounds\n",
      "Early stopping, best iteration is:\n",
      "[12]\tvalid_0's binary_error: 0.215625\n",
      "Training until validation scores don't improve for 10 rounds\n"
     ]
    },
    {
     "name": "stderr",
     "output_type": "stream",
     "text": [
      "[I 2024-01-18 11:45:03,647] Trial 4 finished with value: 0.7875 and parameters: {'lambda_l1': 4.4202317955788475, 'lambda_l2': 1.7801339599969795e-07, 'num_leaves': 248, 'feature_fraction': 0.9546735264629388, 'bagging_fraction': 0.9042032180816152, 'bagging_freq': 4, 'min_child_samples': 88, 'learning_rate': 0.04071413721409523, 'max_depth': 12, 'subsample': 0.2700636693591645, 'colsample_bytree': 0.7609775558286452}. Best is trial 4 with value: 0.7875.\n",
      "[I 2024-01-18 11:45:03,774] Trial 5 finished with value: 0.79625 and parameters: {'lambda_l1': 0.242914813397648, 'lambda_l2': 4.2828893050645276e-06, 'num_leaves': 191, 'feature_fraction': 0.9291557162478008, 'bagging_fraction': 0.972488226640052, 'bagging_freq': 5, 'min_child_samples': 12, 'learning_rate': 0.1169391224778394, 'max_depth': 12, 'subsample': 0.520899615332048, 'colsample_bytree': 0.4118388766368587}. Best is trial 5 with value: 0.79625.\n"
     ]
    },
    {
     "name": "stdout",
     "output_type": "stream",
     "text": [
      "Early stopping, best iteration is:\n",
      "[36]\tvalid_0's binary_error: 0.2125\n",
      "Training until validation scores don't improve for 10 rounds\n",
      "Early stopping, best iteration is:\n",
      "[7]\tvalid_0's binary_error: 0.20375\n",
      "Training until validation scores don't improve for 10 rounds\n"
     ]
    },
    {
     "name": "stderr",
     "output_type": "stream",
     "text": [
      "[I 2024-01-18 11:45:03,856] Trial 6 finished with value: 0.8025 and parameters: {'lambda_l1': 0.25134265178418375, 'lambda_l2': 5.6275660079794445, 'num_leaves': 110, 'feature_fraction': 0.8638006071968688, 'bagging_fraction': 0.6203901520693044, 'bagging_freq': 4, 'min_child_samples': 71, 'learning_rate': 0.18523376285586296, 'max_depth': 10, 'subsample': 0.18056182514409747, 'colsample_bytree': 0.4798497239856886}. Best is trial 6 with value: 0.8025.\n",
      "[I 2024-01-18 11:45:04,041] Trial 7 finished with value: 0.783125 and parameters: {'lambda_l1': 1.2640022772047958e-06, 'lambda_l2': 7.081770180273942e-07, 'num_leaves': 184, 'feature_fraction': 0.6513607602007176, 'bagging_fraction': 0.818799191937453, 'bagging_freq': 3, 'min_child_samples': 12, 'learning_rate': 0.18798428739955694, 'max_depth': 13, 'subsample': 0.40337845056027943, 'colsample_bytree': 0.3379105815152643}. Best is trial 6 with value: 0.8025.\n"
     ]
    },
    {
     "name": "stdout",
     "output_type": "stream",
     "text": [
      "Early stopping, best iteration is:\n",
      "[24]\tvalid_0's binary_error: 0.1975\n",
      "Training until validation scores don't improve for 10 rounds\n",
      "Early stopping, best iteration is:\n",
      "[22]\tvalid_0's binary_error: 0.216875\n"
     ]
    },
    {
     "name": "stderr",
     "output_type": "stream",
     "text": [
      "[I 2024-01-18 11:45:04,066] Trial 8 finished with value: 0.755625 and parameters: {'lambda_l1': 1.4549805090886635e-05, 'lambda_l2': 9.250285612049835, 'num_leaves': 125, 'feature_fraction': 0.8041228512382728, 'bagging_fraction': 0.6216427311323374, 'bagging_freq': 6, 'min_child_samples': 73, 'learning_rate': 0.126057080982469, 'max_depth': 1, 'subsample': 0.913388703815381, 'colsample_bytree': 0.8470550905604528}. Best is trial 6 with value: 0.8025.\n",
      "[I 2024-01-18 11:45:04,146] Trial 9 finished with value: 0.793125 and parameters: {'lambda_l1': 3.638860982419637e-05, 'lambda_l2': 0.07508611463068514, 'num_leaves': 34, 'feature_fraction': 0.8237799249950156, 'bagging_fraction': 0.6174353914320247, 'bagging_freq': 3, 'min_child_samples': 37, 'learning_rate': 0.015771156647286202, 'max_depth': 11, 'subsample': 0.20683682681548735, 'colsample_bytree': 0.24162036357470187}. Best is trial 6 with value: 0.8025.\n",
      "[I 2024-01-18 11:45:04,247] Trial 10 finished with value: 0.79 and parameters: {'lambda_l1': 0.013222846766775853, 'lambda_l2': 0.00033725341779570366, 'num_leaves': 66, 'feature_fraction': 0.40955177823900124, 'bagging_fraction': 0.4212323859720906, 'bagging_freq': 1, 'min_child_samples': 58, 'learning_rate': 0.2832858216432125, 'max_depth': 8, 'subsample': 0.1530978677404916, 'colsample_bytree': 0.5840647534974267}. Best is trial 6 with value: 0.8025.\n"
     ]
    },
    {
     "name": "stdout",
     "output_type": "stream",
     "text": [
      "Training until validation scores don't improve for 10 rounds\n",
      "Early stopping, best iteration is:\n",
      "[1]\tvalid_0's binary_error: 0.244375\n",
      "Training until validation scores don't improve for 10 rounds\n",
      "Early stopping, best iteration is:\n",
      "[16]\tvalid_0's binary_error: 0.206875\n",
      "Training until validation scores don't improve for 10 rounds\n",
      "Early stopping, best iteration is:\n",
      "[9]\tvalid_0's binary_error: 0.21\n"
     ]
    },
    {
     "name": "stderr",
     "output_type": "stream",
     "text": [
      "[I 2024-01-18 11:45:04,429] Trial 11 finished with value: 0.80875 and parameters: {'lambda_l1': 0.05334840710908161, 'lambda_l2': 0.0001461281316983384, 'num_leaves': 187, 'feature_fraction': 0.924874453097023, 'bagging_fraction': 0.9716511413720046, 'bagging_freq': 7, 'min_child_samples': 54, 'learning_rate': 0.13396155976378238, 'max_depth': 15, 'subsample': 0.509436226391085, 'colsample_bytree': 0.5449909284377539}. Best is trial 11 with value: 0.80875.\n"
     ]
    },
    {
     "name": "stdout",
     "output_type": "stream",
     "text": [
      "Training until validation scores don't improve for 10 rounds\n",
      "Early stopping, best iteration is:\n",
      "[23]\tvalid_0's binary_error: 0.19125\n",
      "Training until validation scores don't improve for 10 rounds\n"
     ]
    },
    {
     "name": "stderr",
     "output_type": "stream",
     "text": [
      "[I 2024-01-18 11:45:04,562] Trial 12 finished with value: 0.805625 and parameters: {'lambda_l1': 0.00553799525391648, 'lambda_l2': 0.0003610004526164771, 'num_leaves': 171, 'feature_fraction': 0.9915824274647493, 'bagging_fraction': 0.9967517980101512, 'bagging_freq': 7, 'min_child_samples': 56, 'learning_rate': 0.1430007537305838, 'max_depth': 15, 'subsample': 0.12502427746606243, 'colsample_bytree': 0.6059647514955587}. Best is trial 11 with value: 0.80875.\n"
     ]
    },
    {
     "name": "stdout",
     "output_type": "stream",
     "text": [
      "Early stopping, best iteration is:\n",
      "[13]\tvalid_0's binary_error: 0.194375\n",
      "Training until validation scores don't improve for 10 rounds\n",
      "Early stopping, best iteration is:\n",
      "[20]\tvalid_0's binary_error: 0.1925\n"
     ]
    },
    {
     "name": "stderr",
     "output_type": "stream",
     "text": [
      "[I 2024-01-18 11:45:04,777] Trial 13 finished with value: 0.8075 and parameters: {'lambda_l1': 0.001176866746583443, 'lambda_l2': 9.824505066076227e-05, 'num_leaves': 193, 'feature_fraction': 0.9786842473293654, 'bagging_fraction': 0.9900837875646602, 'bagging_freq': 7, 'min_child_samples': 46, 'learning_rate': 0.11887352081718777, 'max_depth': 15, 'subsample': 0.67503703046162, 'colsample_bytree': 0.5925615890647294}. Best is trial 11 with value: 0.80875.\n",
      "[I 2024-01-18 11:45:04,963] Trial 14 finished with value: 0.803125 and parameters: {'lambda_l1': 0.0020523459864252905, 'lambda_l2': 2.4954123631411788e-05, 'num_leaves': 213, 'feature_fraction': 0.9922262555487562, 'bagging_fraction': 0.9039766571381934, 'bagging_freq': 7, 'min_child_samples': 36, 'learning_rate': 0.08768627375545315, 'max_depth': 14, 'subsample': 0.6849089146100703, 'colsample_bytree': 0.6792273140046841}. Best is trial 11 with value: 0.80875.\n"
     ]
    },
    {
     "name": "stdout",
     "output_type": "stream",
     "text": [
      "Training until validation scores don't improve for 10 rounds\n",
      "Early stopping, best iteration is:\n",
      "[16]\tvalid_0's binary_error: 0.196875\n",
      "Training until validation scores don't improve for 10 rounds\n",
      "Early stopping, best iteration is:\n",
      "[24]\tvalid_0's binary_error: 0.20125\n"
     ]
    },
    {
     "name": "stderr",
     "output_type": "stream",
     "text": [
      "[I 2024-01-18 11:45:05,074] Trial 15 finished with value: 0.79875 and parameters: {'lambda_l1': 0.003246724136380545, 'lambda_l2': 1.00553751454159e-08, 'num_leaves': 219, 'feature_fraction': 0.8926831167272051, 'bagging_fraction': 0.9131958940636782, 'bagging_freq': 7, 'min_child_samples': 43, 'learning_rate': 0.10316837410221186, 'max_depth': 5, 'subsample': 0.7408879542203888, 'colsample_bytree': 0.5479903594404174}. Best is trial 11 with value: 0.80875.\n",
      "[I 2024-01-18 11:45:05,239] Trial 16 finished with value: 0.805625 and parameters: {'lambda_l1': 0.0004920235979147769, 'lambda_l2': 5.446669857479031e-05, 'num_leaves': 158, 'feature_fraction': 0.9033525904862174, 'bagging_fraction': 0.9975411120822473, 'bagging_freq': 6, 'min_child_samples': 52, 'learning_rate': 0.1522295604131225, 'max_depth': 15, 'subsample': 0.44932331482074805, 'colsample_bytree': 0.6907507662204382}. Best is trial 11 with value: 0.80875.\n"
     ]
    },
    {
     "name": "stdout",
     "output_type": "stream",
     "text": [
      "Training until validation scores don't improve for 10 rounds\n",
      "Early stopping, best iteration is:\n",
      "[17]\tvalid_0's binary_error: 0.194375\n",
      "Training until validation scores don't improve for 10 rounds\n"
     ]
    },
    {
     "name": "stderr",
     "output_type": "stream",
     "text": [
      "[I 2024-01-18 11:45:05,496] Trial 17 finished with value: 0.8075 and parameters: {'lambda_l1': 0.05607418164660828, 'lambda_l2': 0.002378375995164389, 'num_leaves': 90, 'feature_fraction': 0.7411144362620923, 'bagging_fraction': 0.8349561644932518, 'bagging_freq': 5, 'min_child_samples': 49, 'learning_rate': 0.077427331741445, 'max_depth': 9, 'subsample': 0.6311685814852707, 'colsample_bytree': 0.5234014499591022}. Best is trial 11 with value: 0.80875.\n",
      "[I 2024-01-18 11:45:05,632] Trial 18 finished with value: 0.79875 and parameters: {'lambda_l1': 0.001217281918168892, 'lambda_l2': 2.2041207624737567e-05, 'num_leaves': 213, 'feature_fraction': 0.934673329119912, 'bagging_fraction': 0.7539945066224646, 'bagging_freq': 7, 'min_child_samples': 64, 'learning_rate': 0.11434762612483493, 'max_depth': 6, 'subsample': 0.7716717415200425, 'colsample_bytree': 0.37149480120007056}. Best is trial 11 with value: 0.80875.\n"
     ]
    },
    {
     "name": "stdout",
     "output_type": "stream",
     "text": [
      "Early stopping, best iteration is:\n",
      "[31]\tvalid_0's binary_error: 0.1925\n",
      "Training until validation scores don't improve for 10 rounds\n",
      "Early stopping, best iteration is:\n",
      "[21]\tvalid_0's binary_error: 0.20125\n"
     ]
    },
    {
     "name": "stderr",
     "output_type": "stream",
     "text": [
      "[I 2024-01-18 11:45:05,810] Trial 19 finished with value: 0.79875 and parameters: {'lambda_l1': 3.9170684992184994, 'lambda_l2': 0.003583168130710214, 'num_leaves': 156, 'feature_fraction': 0.8763172482885155, 'bagging_fraction': 0.9148515289033363, 'bagging_freq': 6, 'min_child_samples': 33, 'learning_rate': 0.06717871678551197, 'max_depth': 13, 'subsample': 0.5288685349234045, 'colsample_bytree': 0.662900179878412}. Best is trial 11 with value: 0.80875.\n"
     ]
    },
    {
     "name": "stdout",
     "output_type": "stream",
     "text": [
      "Training until validation scores don't improve for 10 rounds\n",
      "Early stopping, best iteration is:\n",
      "[31]\tvalid_0's binary_error: 0.20125\n",
      "Training until validation scores don't improve for 10 rounds\n",
      "Early stopping, best iteration is:\n",
      "[63]\tvalid_0's binary_error: 0.203125\n"
     ]
    },
    {
     "name": "stderr",
     "output_type": "stream",
     "text": [
      "[I 2024-01-18 11:45:05,937] Trial 20 finished with value: 0.796875 and parameters: {'lambda_l1': 0.02606129369558605, 'lambda_l2': 0.00010615210263925142, 'num_leaves': 198, 'feature_fraction': 0.9806737655731635, 'bagging_fraction': 0.9556576976243227, 'bagging_freq': 5, 'min_child_samples': 23, 'learning_rate': 0.14049326788280578, 'max_depth': 3, 'subsample': 0.403955962954567, 'colsample_bytree': 0.4983853246081126}. Best is trial 11 with value: 0.80875.\n",
      "[I 2024-01-18 11:45:06,116] Trial 21 finished with value: 0.806875 and parameters: {'lambda_l1': 0.08085120621296472, 'lambda_l2': 0.0017322463611967555, 'num_leaves': 85, 'feature_fraction': 0.7611723766205198, 'bagging_fraction': 0.8604815025855512, 'bagging_freq': 6, 'min_child_samples': 47, 'learning_rate': 0.0945747741042057, 'max_depth': 9, 'subsample': 0.6179362748140067, 'colsample_bytree': 0.536876528385271}. Best is trial 11 with value: 0.80875.\n"
     ]
    },
    {
     "name": "stdout",
     "output_type": "stream",
     "text": [
      "Training until validation scores don't improve for 10 rounds\n",
      "Early stopping, best iteration is:\n",
      "[31]\tvalid_0's binary_error: 0.193125\n",
      "Training until validation scores don't improve for 10 rounds\n"
     ]
    },
    {
     "name": "stderr",
     "output_type": "stream",
     "text": [
      "[I 2024-01-18 11:45:06,292] Trial 22 finished with value: 0.80625 and parameters: {'lambda_l1': 0.03094527998506786, 'lambda_l2': 0.0014002728474804902, 'num_leaves': 67, 'feature_fraction': 0.7473305194568547, 'bagging_fraction': 0.8415889215516306, 'bagging_freq': 5, 'min_child_samples': 45, 'learning_rate': 0.08570625024788597, 'max_depth': 15, 'subsample': 0.6457672835531884, 'colsample_bytree': 0.610363799800515}. Best is trial 11 with value: 0.80875.\n"
     ]
    },
    {
     "name": "stdout",
     "output_type": "stream",
     "text": [
      "Early stopping, best iteration is:\n",
      "[31]\tvalid_0's binary_error: 0.19375\n",
      "Training until validation scores don't improve for 10 rounds\n"
     ]
    },
    {
     "name": "stderr",
     "output_type": "stream",
     "text": [
      "[I 2024-01-18 11:45:06,500] Trial 23 finished with value: 0.8075 and parameters: {'lambda_l1': 0.0004041433999665082, 'lambda_l2': 1.4021754058908457e-05, 'num_leaves': 97, 'feature_fraction': 0.8484281279221765, 'bagging_fraction': 0.9527966740195625, 'bagging_freq': 7, 'min_child_samples': 64, 'learning_rate': 0.06488740822230553, 'max_depth': 10, 'subsample': 0.7941277522994694, 'colsample_bytree': 0.48653993585521627}. Best is trial 11 with value: 0.80875.\n",
      "[I 2024-01-18 11:45:06,673] Trial 24 finished with value: 0.800625 and parameters: {'lambda_l1': 0.39410842912371535, 'lambda_l2': 6.257243727910259e-05, 'num_leaves': 143, 'feature_fraction': 0.9156379686361485, 'bagging_fraction': 0.8512080329014845, 'bagging_freq': 6, 'min_child_samples': 51, 'learning_rate': 0.12862334176849843, 'max_depth': -1, 'subsample': 0.6987547006854093, 'colsample_bytree': 0.550383328741977}. Best is trial 11 with value: 0.80875.\n"
     ]
    },
    {
     "name": "stdout",
     "output_type": "stream",
     "text": [
      "Early stopping, best iteration is:\n",
      "[38]\tvalid_0's binary_error: 0.1925\n",
      "Training until validation scores don't improve for 10 rounds\n",
      "Early stopping, best iteration is:\n",
      "[29]\tvalid_0's binary_error: 0.199375\n"
     ]
    },
    {
     "name": "stderr",
     "output_type": "stream",
     "text": [
      "[I 2024-01-18 11:45:06,813] Trial 25 finished with value: 0.803125 and parameters: {'lambda_l1': 0.004390205001061816, 'lambda_l2': 0.00023844073365770823, 'num_leaves': 50, 'feature_fraction': 0.9526238059409375, 'bagging_fraction': 0.9355185088101275, 'bagging_freq': 4, 'min_child_samples': 61, 'learning_rate': 0.16430743089100855, 'max_depth': 7, 'subsample': 0.5903747951917095, 'colsample_bytree': 0.4286266198205615}. Best is trial 11 with value: 0.80875.\n",
      "[I 2024-01-18 11:45:06,916] Trial 26 finished with value: 0.765625 and parameters: {'lambda_l1': 0.06556136826237616, 'lambda_l2': 0.012682825832488417, 'num_leaves': 7, 'feature_fraction': 0.8658536134546504, 'bagging_fraction': 0.9972212920814003, 'bagging_freq': 7, 'min_child_samples': 39, 'learning_rate': 0.11340854856691267, 'max_depth': 13, 'subsample': 0.8372198439086889, 'colsample_bytree': 0.33485588410776346}. Best is trial 11 with value: 0.80875.\n"
     ]
    },
    {
     "name": "stdout",
     "output_type": "stream",
     "text": [
      "Training until validation scores don't improve for 10 rounds\n",
      "Early stopping, best iteration is:\n",
      "[12]\tvalid_0's binary_error: 0.196875\n",
      "Training until validation scores don't improve for 10 rounds\n",
      "Early stopping, best iteration is:\n",
      "[5]\tvalid_0's binary_error: 0.234375\n"
     ]
    },
    {
     "name": "stderr",
     "output_type": "stream",
     "text": [
      "[I 2024-01-18 11:45:07,104] Trial 27 finished with value: 0.80125 and parameters: {'lambda_l1': 0.009382342458350066, 'lambda_l2': 0.00045601053519306496, 'num_leaves': 235, 'feature_fraction': 0.7527289563532089, 'bagging_fraction': 0.8831103033743795, 'bagging_freq': 5, 'min_child_samples': 28, 'learning_rate': 0.04711582296817052, 'max_depth': 11, 'subsample': 0.6710464304081154, 'colsample_bytree': 0.637556894780388}. Best is trial 11 with value: 0.80875.\n"
     ]
    },
    {
     "name": "stdout",
     "output_type": "stream",
     "text": [
      "Training until validation scores don't improve for 10 rounds\n",
      "Early stopping, best iteration is:\n",
      "[18]\tvalid_0's binary_error: 0.19875\n",
      "Training until validation scores don't improve for 10 rounds\n"
     ]
    },
    {
     "name": "stderr",
     "output_type": "stream",
     "text": [
      "[I 2024-01-18 11:45:07,242] Trial 28 finished with value: 0.805625 and parameters: {'lambda_l1': 0.9630979277344577, 'lambda_l2': 0.007374607747180879, 'num_leaves': 170, 'feature_fraction': 0.998568814060339, 'bagging_fraction': 0.7999044383279862, 'bagging_freq': 7, 'min_child_samples': 81, 'learning_rate': 0.09479654794503209, 'max_depth': 14, 'subsample': 0.5297259277489398, 'colsample_bytree': 0.5203279341319816}. Best is trial 11 with value: 0.80875.\n",
      "[I 2024-01-18 11:45:07,375] Trial 29 finished with value: 0.788125 and parameters: {'lambda_l1': 0.059447254185416375, 'lambda_l2': 7.687953424467161e-06, 'num_leaves': 120, 'feature_fraction': 0.819655321714496, 'bagging_fraction': 0.9465479138230892, 'bagging_freq': 2, 'min_child_samples': 50, 'learning_rate': 0.1333860262278907, 'max_depth': 3, 'subsample': 0.9910294297114721, 'colsample_bytree': 0.1586020150408387}. Best is trial 11 with value: 0.80875.\n"
     ]
    },
    {
     "name": "stdout",
     "output_type": "stream",
     "text": [
      "Early stopping, best iteration is:\n",
      "[28]\tvalid_0's binary_error: 0.194375\n",
      "Training until validation scores don't improve for 10 rounds\n",
      "Early stopping, best iteration is:\n",
      "[39]\tvalid_0's binary_error: 0.211875\n"
     ]
    },
    {
     "name": "stderr",
     "output_type": "stream",
     "text": [
      "[I 2024-01-18 11:45:07,557] Trial 30 finished with value: 0.80625 and parameters: {'lambda_l1': 1.3779859281796691, 'lambda_l2': 0.0010476480023648177, 'num_leaves': 101, 'feature_fraction': 0.8957010880442698, 'bagging_fraction': 0.8683094845754025, 'bagging_freq': 4, 'min_child_samples': 67, 'learning_rate': 0.16261418925755816, 'max_depth': 14, 'subsample': 0.7169486537082319, 'colsample_bytree': 0.7254850313699196}. Best is trial 11 with value: 0.80875.\n"
     ]
    },
    {
     "name": "stdout",
     "output_type": "stream",
     "text": [
      "Training until validation scores don't improve for 10 rounds\n",
      "Early stopping, best iteration is:\n",
      "[23]\tvalid_0's binary_error: 0.19375\n"
     ]
    },
    {
     "name": "stderr",
     "output_type": "stream",
     "text": [
      "[I 2024-01-18 11:45:07,753] Trial 31 finished with value: 0.8025 and parameters: {'lambda_l1': 0.0004066359642213107, 'lambda_l2': 5.2798301955334006e-06, 'num_leaves': 91, 'feature_fraction': 0.8538795632572264, 'bagging_fraction': 0.9478192145849841, 'bagging_freq': 7, 'min_child_samples': 57, 'learning_rate': 0.07127009125535785, 'max_depth': 10, 'subsample': 0.797633161137712, 'colsample_bytree': 0.4864092462409906}. Best is trial 11 with value: 0.80875.\n"
     ]
    },
    {
     "name": "stdout",
     "output_type": "stream",
     "text": [
      "Training until validation scores don't improve for 10 rounds\n",
      "Early stopping, best iteration is:\n",
      "[17]\tvalid_0's binary_error: 0.1975\n"
     ]
    },
    {
     "name": "stderr",
     "output_type": "stream",
     "text": [
      "[I 2024-01-18 11:45:07,938] Trial 32 finished with value: 0.803125 and parameters: {'lambda_l1': 0.0008179560455192711, 'lambda_l2': 2.9859600021640416e-05, 'num_leaves': 74, 'feature_fraction': 0.9354623088295538, 'bagging_fraction': 0.9592066294698093, 'bagging_freq': 6, 'min_child_samples': 42, 'learning_rate': 0.08127201553270089, 'max_depth': 8, 'subsample': 0.6300107065979301, 'colsample_bytree': 0.5806364060944014}. Best is trial 11 with value: 0.80875.\n",
      "[I 2024-01-18 11:45:08,082] Trial 33 finished with value: 0.795 and parameters: {'lambda_l1': 0.00021985147962522023, 'lambda_l2': 0.00014795002018142092, 'num_leaves': 110, 'feature_fraction': 0.8324674157013892, 'bagging_fraction': 0.8836606790847974, 'bagging_freq': 7, 'min_child_samples': 68, 'learning_rate': 0.05586365255558369, 'max_depth': 9, 'subsample': 0.8206817648214128, 'colsample_bytree': 0.4759102644610784}. Best is trial 11 with value: 0.80875.\n"
     ]
    },
    {
     "name": "stdout",
     "output_type": "stream",
     "text": [
      "Training until validation scores don't improve for 10 rounds\n",
      "Early stopping, best iteration is:\n",
      "[7]\tvalid_0's binary_error: 0.196875\n",
      "Training until validation scores don't improve for 10 rounds\n",
      "Early stopping, best iteration is:\n",
      "[18]\tvalid_0's binary_error: 0.205\n"
     ]
    },
    {
     "name": "stderr",
     "output_type": "stream",
     "text": [
      "[I 2024-01-18 11:45:08,240] Trial 34 finished with value: 0.805625 and parameters: {'lambda_l1': 0.01028038038429401, 'lambda_l2': 9.665543351953152e-06, 'num_leaves': 145, 'feature_fraction': 0.7756783377133245, 'bagging_fraction': 0.9250990603648706, 'bagging_freq': 6, 'min_child_samples': 77, 'learning_rate': 0.10503677277812605, 'max_depth': 11, 'subsample': 0.7339832343097188, 'colsample_bytree': 0.6389779220893372}. Best is trial 11 with value: 0.80875.\n",
      "[I 2024-01-18 11:45:08,371] Trial 35 finished with value: 0.800625 and parameters: {'lambda_l1': 0.002227220548592939, 'lambda_l2': 1.645561579091684e-06, 'num_leaves': 44, 'feature_fraction': 0.7102631987075996, 'bagging_fraction': 0.9746446800670978, 'bagging_freq': 7, 'min_child_samples': 63, 'learning_rate': 0.03424560081454282, 'max_depth': 12, 'subsample': 0.580759405835581, 'colsample_bytree': 0.5705701956445839}. Best is trial 11 with value: 0.80875.\n"
     ]
    },
    {
     "name": "stdout",
     "output_type": "stream",
     "text": [
      "Training until validation scores don't improve for 10 rounds\n",
      "Early stopping, best iteration is:\n",
      "[20]\tvalid_0's binary_error: 0.194375\n",
      "Training until validation scores don't improve for 10 rounds\n",
      "Early stopping, best iteration is:\n",
      "[16]\tvalid_0's binary_error: 0.199375\n"
     ]
    },
    {
     "name": "stderr",
     "output_type": "stream",
     "text": [
      "[I 2024-01-18 11:45:08,499] Trial 36 finished with value: 0.794375 and parameters: {'lambda_l1': 0.0001691046284846955, 'lambda_l2': 0.00010871302267666404, 'num_leaves': 85, 'feature_fraction': 0.9633361986691465, 'bagging_fraction': 0.8942689736861221, 'bagging_freq': 6, 'min_child_samples': 32, 'learning_rate': 0.07073039759485743, 'max_depth': 7, 'subsample': 0.6551022049745548, 'colsample_bytree': 0.4106312961902815}. Best is trial 11 with value: 0.80875.\n",
      "[I 2024-01-18 11:45:08,653] Trial 37 finished with value: 0.796875 and parameters: {'lambda_l1': 5.9474310593034466e-05, 'lambda_l2': 1.4627583118960394e-05, 'num_leaves': 234, 'feature_fraction': 0.8490932307511445, 'bagging_fraction': 0.9317622508588449, 'bagging_freq': 5, 'min_child_samples': 95, 'learning_rate': 0.031189618147037954, 'max_depth': 10, 'subsample': 0.5737297834736697, 'colsample_bytree': 0.5229637434744229}. Best is trial 11 with value: 0.80875.\n"
     ]
    },
    {
     "name": "stdout",
     "output_type": "stream",
     "text": [
      "Training until validation scores don't improve for 10 rounds\n",
      "Early stopping, best iteration is:\n",
      "[11]\tvalid_0's binary_error: 0.205625\n",
      "Training until validation scores don't improve for 10 rounds\n",
      "Early stopping, best iteration is:\n",
      "[25]\tvalid_0's binary_error: 0.203125\n"
     ]
    },
    {
     "name": "stderr",
     "output_type": "stream",
     "text": [
      "[I 2024-01-18 11:45:08,956] Trial 38 finished with value: 0.79625 and parameters: {'lambda_l1': 0.0007654051507031589, 'lambda_l2': 3.1687646208575514e-06, 'num_leaves': 199, 'feature_fraction': 0.9153045176960808, 'bagging_fraction': 0.8278616283530625, 'bagging_freq': 2, 'min_child_samples': 5, 'learning_rate': 0.06007759898309102, 'max_depth': 12, 'subsample': 0.6169854702876849, 'colsample_bytree': 0.47554522670942734}. Best is trial 11 with value: 0.80875.\n"
     ]
    },
    {
     "name": "stdout",
     "output_type": "stream",
     "text": [
      "Training until validation scores don't improve for 10 rounds\n",
      "Early stopping, best iteration is:\n",
      "[33]\tvalid_0's binary_error: 0.20375\n"
     ]
    },
    {
     "name": "stderr",
     "output_type": "stream",
     "text": [
      "[I 2024-01-18 11:45:09,108] Trial 39 finished with value: 0.800625 and parameters: {'lambda_l1': 0.023816451415854797, 'lambda_l2': 6.307903906267311e-07, 'num_leaves': 182, 'feature_fraction': 0.7854250378346457, 'bagging_fraction': 0.9788165177094439, 'bagging_freq': 7, 'min_child_samples': 81, 'learning_rate': 0.04149306720114958, 'max_depth': 9, 'subsample': 0.48249013716890876, 'colsample_bytree': 0.7596872844806402}. Best is trial 11 with value: 0.80875.\n",
      "[I 2024-01-18 11:45:09,260] Trial 40 finished with value: 0.801875 and parameters: {'lambda_l1': 0.16098542868538215, 'lambda_l2': 5.2879262516113624e-05, 'num_leaves': 134, 'feature_fraction': 0.9470158858405784, 'bagging_fraction': 0.8757155911559389, 'bagging_freq': 5, 'min_child_samples': 54, 'learning_rate': 0.11827422934616133, 'max_depth': 13, 'subsample': 0.765849140866446, 'colsample_bytree': 0.6191282303650014}. Best is trial 11 with value: 0.80875.\n"
     ]
    },
    {
     "name": "stdout",
     "output_type": "stream",
     "text": [
      "Training until validation scores don't improve for 10 rounds\n",
      "Early stopping, best iteration is:\n",
      "[23]\tvalid_0's binary_error: 0.199375\n",
      "Training until validation scores don't improve for 10 rounds\n",
      "Early stopping, best iteration is:\n",
      "[10]\tvalid_0's binary_error: 0.198125\n"
     ]
    },
    {
     "name": "stderr",
     "output_type": "stream",
     "text": [
      "[I 2024-01-18 11:45:09,405] Trial 41 finished with value: 0.79875 and parameters: {'lambda_l1': 0.1445582872795581, 'lambda_l2': 0.0013808082463605152, 'num_leaves': 79, 'feature_fraction': 0.8070123891622856, 'bagging_fraction': 0.8496804960881038, 'bagging_freq': 6, 'min_child_samples': 50, 'learning_rate': 0.09754040514718797, 'max_depth': 8, 'subsample': 0.6169714997235525, 'colsample_bytree': 0.5280034408550899}. Best is trial 11 with value: 0.80875.\n",
      "[I 2024-01-18 11:45:09,571] Trial 42 finished with value: 0.806875 and parameters: {'lambda_l1': 0.06212737827877206, 'lambda_l2': 0.0008907575031878862, 'num_leaves': 90, 'feature_fraction': 0.7240816614923845, 'bagging_fraction': 0.9606349033913103, 'bagging_freq': 6, 'min_child_samples': 42, 'learning_rate': 0.07669819055807561, 'max_depth': 9, 'subsample': 0.5541434573928372, 'colsample_bytree': 0.44358901878653256}. Best is trial 11 with value: 0.80875.\n"
     ]
    },
    {
     "name": "stdout",
     "output_type": "stream",
     "text": [
      "Training until validation scores don't improve for 10 rounds\n",
      "Early stopping, best iteration is:\n",
      "[17]\tvalid_0's binary_error: 0.20125\n",
      "Training until validation scores don't improve for 10 rounds\n",
      "Early stopping, best iteration is:\n",
      "[7]\tvalid_0's binary_error: 0.193125\n"
     ]
    },
    {
     "name": "stderr",
     "output_type": "stream",
     "text": [
      "[I 2024-01-18 11:45:09,738] Trial 43 finished with value: 0.81 and parameters: {'lambda_l1': 0.008610162064654559, 'lambda_l2': 0.002785459912567286, 'num_leaves': 103, 'feature_fraction': 0.6716495734201551, 'bagging_fraction': 0.8014674637105226, 'bagging_freq': 6, 'min_child_samples': 48, 'learning_rate': 0.09452600020282505, 'max_depth': 6, 'subsample': 0.6844946195978034, 'colsample_bytree': 0.5514132490974251}. Best is trial 43 with value: 0.81.\n"
     ]
    },
    {
     "name": "stdout",
     "output_type": "stream",
     "text": [
      "Training until validation scores don't improve for 10 rounds\n",
      "Early stopping, best iteration is:\n",
      "[29]\tvalid_0's binary_error: 0.19\n",
      "Training until validation scores don't improve for 10 rounds\n"
     ]
    },
    {
     "name": "stderr",
     "output_type": "stream",
     "text": [
      "[I 2024-01-18 11:45:09,923] Trial 44 finished with value: 0.794375 and parameters: {'lambda_l1': 0.006080053631117911, 'lambda_l2': 0.03718558403082954, 'num_leaves': 109, 'feature_fraction': 0.6632148876222339, 'bagging_fraction': 0.7968241494820217, 'bagging_freq': 7, 'min_child_samples': 60, 'learning_rate': 0.05528696911986443, 'max_depth': 4, 'subsample': 0.6739152146999767, 'colsample_bytree': 0.5710612916153719}. Best is trial 43 with value: 0.81.\n",
      "[I 2024-01-18 11:45:10,081] Trial 45 finished with value: 0.801875 and parameters: {'lambda_l1': 0.0013092342481340375, 'lambda_l2': 0.0004473573868006466, 'num_leaves': 55, 'feature_fraction': 0.6754250859476075, 'bagging_fraction': 0.7237384563716706, 'bagging_freq': 7, 'min_child_samples': 47, 'learning_rate': 0.08339108441910753, 'max_depth': 6, 'subsample': 0.7357251995267149, 'colsample_bytree': 0.5977141531299163}. Best is trial 43 with value: 0.81.\n"
     ]
    },
    {
     "name": "stdout",
     "output_type": "stream",
     "text": [
      "Early stopping, best iteration is:\n",
      "[60]\tvalid_0's binary_error: 0.205625\n",
      "Training until validation scores don't improve for 10 rounds\n",
      "Early stopping, best iteration is:\n",
      "[43]\tvalid_0's binary_error: 0.198125\n"
     ]
    },
    {
     "name": "stderr",
     "output_type": "stream",
     "text": [
      "[I 2024-01-18 11:45:10,232] Trial 46 finished with value: 0.804375 and parameters: {'lambda_l1': 0.0030863174173858835, 'lambda_l2': 0.0047067801455433125, 'num_leaves': 97, 'feature_fraction': 0.6404222044226217, 'bagging_fraction': 0.904863404194383, 'bagging_freq': 6, 'min_child_samples': 72, 'learning_rate': 0.1077288626225723, 'max_depth': 6, 'subsample': 0.6918209923282527, 'colsample_bytree': 0.451193373102761}. Best is trial 43 with value: 0.81.\n",
      "[I 2024-01-18 11:45:10,351] Trial 47 finished with value: 0.795 and parameters: {'lambda_l1': 1.7739160556233375e-05, 'lambda_l2': 0.0002407939291041584, 'num_leaves': 122, 'feature_fraction': 0.8852344326488651, 'bagging_fraction': 0.9314384787412815, 'bagging_freq': 5, 'min_child_samples': 39, 'learning_rate': 0.12379759615992617, 'max_depth': 5, 'subsample': 0.871053103819964, 'colsample_bytree': 0.5089042861187946}. Best is trial 43 with value: 0.81.\n"
     ]
    },
    {
     "name": "stdout",
     "output_type": "stream",
     "text": [
      "Training until validation scores don't improve for 10 rounds\n",
      "Early stopping, best iteration is:\n",
      "[35]\tvalid_0's binary_error: 0.195625\n",
      "Training until validation scores don't improve for 10 rounds\n",
      "Early stopping, best iteration is:\n",
      "[3]\tvalid_0's binary_error: 0.205\n"
     ]
    },
    {
     "name": "stderr",
     "output_type": "stream",
     "text": [
      "[I 2024-01-18 11:45:10,527] Trial 48 finished with value: 0.803125 and parameters: {'lambda_l1': 0.00011999637781282526, 'lambda_l2': 3.291814456026538e-05, 'num_leaves': 253, 'feature_fraction': 0.9720520418833853, 'bagging_fraction': 0.8169317583762821, 'bagging_freq': 7, 'min_child_samples': 57, 'learning_rate': 0.09485359265842758, 'max_depth': 14, 'subsample': 0.7777159789974454, 'colsample_bytree': 0.6782359950043799}. Best is trial 43 with value: 0.81.\n"
     ]
    },
    {
     "name": "stdout",
     "output_type": "stream",
     "text": [
      "Training until validation scores don't improve for 10 rounds\n",
      "Early stopping, best iteration is:\n",
      "[20]\tvalid_0's binary_error: 0.196875\n",
      "Training until validation scores don't improve for 10 rounds\n"
     ]
    },
    {
     "name": "stderr",
     "output_type": "stream",
     "text": [
      "[I 2024-01-18 11:45:10,731] Trial 49 finished with value: 0.803125 and parameters: {'lambda_l1': 0.015225734437579103, 'lambda_l2': 0.15044429679057894, 'num_leaves': 112, 'feature_fraction': 0.612479237901621, 'bagging_fraction': 0.9783444709241705, 'bagging_freq': 7, 'min_child_samples': 65, 'learning_rate': 0.020744922414540373, 'max_depth': 11, 'subsample': 0.7027870085511003, 'colsample_bytree': 0.5701756938825269}. Best is trial 43 with value: 0.81.\n",
      "[I 2024-01-18 11:45:10,913] Trial 50 finished with value: 0.805625 and parameters: {'lambda_l1': 0.005900433919504579, 'lambda_l2': 0.00013888221349104876, 'num_leaves': 168, 'feature_fraction': 0.7961396622425995, 'bagging_fraction': 0.7623586858906736, 'bagging_freq': 6, 'min_child_samples': 53, 'learning_rate': 0.10954161692985394, 'max_depth': 15, 'subsample': 0.50154153571996, 'colsample_bytree': 0.6362869320416618}. Best is trial 43 with value: 0.81.\n"
     ]
    },
    {
     "name": "stdout",
     "output_type": "stream",
     "text": [
      "Early stopping, best iteration is:\n",
      "[32]\tvalid_0's binary_error: 0.196875\n",
      "Training until validation scores don't improve for 10 rounds\n",
      "Early stopping, best iteration is:\n",
      "[22]\tvalid_0's binary_error: 0.194375\n"
     ]
    },
    {
     "name": "stderr",
     "output_type": "stream",
     "text": [
      "[I 2024-01-18 11:45:11,124] Trial 51 finished with value: 0.805 and parameters: {'lambda_l1': 0.05265144215496262, 'lambda_l2': 0.0028618370088664253, 'num_leaves': 102, 'feature_fraction': 0.7666880475773534, 'bagging_fraction': 0.8615824559906033, 'bagging_freq': 6, 'min_child_samples': 47, 'learning_rate': 0.09185251016869152, 'max_depth': 8, 'subsample': 0.6532013878098122, 'colsample_bytree': 0.5375494686685689}. Best is trial 43 with value: 0.81.\n"
     ]
    },
    {
     "name": "stdout",
     "output_type": "stream",
     "text": [
      "Training until validation scores don't improve for 10 rounds\n",
      "Early stopping, best iteration is:\n",
      "[22]\tvalid_0's binary_error: 0.195\n"
     ]
    },
    {
     "name": "stderr",
     "output_type": "stream",
     "text": [
      "[I 2024-01-18 11:45:11,424] Trial 52 finished with value: 0.799375 and parameters: {'lambda_l1': 0.011695065973223144, 'lambda_l2': 0.0005189422576455941, 'num_leaves': 64, 'feature_fraction': 0.6978170038137093, 'bagging_fraction': 0.8969156403093023, 'bagging_freq': 6, 'min_child_samples': 45, 'learning_rate': 0.0761415192973851, 'max_depth': 9, 'subsample': 0.6061349298259314, 'colsample_bytree': 0.49903101678189365}. Best is trial 43 with value: 0.81.\n"
     ]
    },
    {
     "name": "stdout",
     "output_type": "stream",
     "text": [
      "Training until validation scores don't improve for 10 rounds\n",
      "Early stopping, best iteration is:\n",
      "[12]\tvalid_0's binary_error: 0.200625\n"
     ]
    },
    {
     "name": "stderr",
     "output_type": "stream",
     "text": [
      "[I 2024-01-18 11:45:11,657] Trial 53 finished with value: 0.805 and parameters: {'lambda_l1': 0.0021276989235004752, 'lambda_l2': 0.0014927727760250466, 'num_leaves': 77, 'feature_fraction': 0.7359158599205711, 'bagging_fraction': 0.9178252156341344, 'bagging_freq': 4, 'min_child_samples': 48, 'learning_rate': 0.10166801490144692, 'max_depth': 7, 'subsample': 0.5633624466258865, 'colsample_bytree': 0.5470178984397774}. Best is trial 43 with value: 0.81.\n"
     ]
    },
    {
     "name": "stdout",
     "output_type": "stream",
     "text": [
      "Training until validation scores don't improve for 10 rounds\n",
      "Early stopping, best iteration is:\n",
      "[20]\tvalid_0's binary_error: 0.195\n",
      "Training until validation scores don't improve for 10 rounds\n"
     ]
    },
    {
     "name": "stderr",
     "output_type": "stream",
     "text": [
      "[I 2024-01-18 11:45:11,839] Trial 54 finished with value: 0.8025 and parameters: {'lambda_l1': 0.00041425367159688266, 'lambda_l2': 0.0026758035744934927, 'num_leaves': 148, 'feature_fraction': 0.8353614420164001, 'bagging_fraction': 0.8316257691639535, 'bagging_freq': 5, 'min_child_samples': 35, 'learning_rate': 0.1214445896698022, 'max_depth': 10, 'subsample': 0.641994585502806, 'colsample_bytree': 0.591282768335869}. Best is trial 43 with value: 0.81.\n",
      "[I 2024-01-18 11:45:12,026] Trial 55 finished with value: 0.80375 and parameters: {'lambda_l1': 0.02431408168453658, 'lambda_l2': 0.011051901276348345, 'num_leaves': 133, 'feature_fraction': 0.765410724807024, 'bagging_fraction': 0.9982577129728779, 'bagging_freq': 7, 'min_child_samples': 55, 'learning_rate': 0.14252796035818063, 'max_depth': 7, 'subsample': 0.6034972129151351, 'colsample_bytree': 0.45813054045948787}. Best is trial 43 with value: 0.81.\n"
     ]
    },
    {
     "name": "stdout",
     "output_type": "stream",
     "text": [
      "Early stopping, best iteration is:\n",
      "[14]\tvalid_0's binary_error: 0.1975\n",
      "Training until validation scores don't improve for 10 rounds\n",
      "Early stopping, best iteration is:\n",
      "[16]\tvalid_0's binary_error: 0.19625\n"
     ]
    },
    {
     "name": "stderr",
     "output_type": "stream",
     "text": [
      "[I 2024-01-18 11:45:12,206] Trial 56 finished with value: 0.7825 and parameters: {'lambda_l1': 0.3471210466120455, 'lambda_l2': 1.5056701708747828e-05, 'num_leaves': 207, 'feature_fraction': 0.921949358305275, 'bagging_fraction': 0.8694231534099229, 'bagging_freq': 1, 'min_child_samples': 30, 'learning_rate': 0.08964053039357653, 'max_depth': 4, 'subsample': 0.5391992178773031, 'colsample_bytree': 0.4036696243245117}. Best is trial 43 with value: 0.81.\n",
      "[I 2024-01-18 11:45:12,355] Trial 57 finished with value: 0.798125 and parameters: {'lambda_l1': 0.15704373515932124, 'lambda_l2': 6.0236623900753743e-05, 'num_leaves': 182, 'feature_fraction': 0.8774093984797116, 'bagging_fraction': 0.9478286371301076, 'bagging_freq': 6, 'min_child_samples': 60, 'learning_rate': 0.06405925722949263, 'max_depth': 12, 'subsample': 0.715815196075148, 'colsample_bytree': 0.5026623738049469}. Best is trial 43 with value: 0.81.\n"
     ]
    },
    {
     "name": "stdout",
     "output_type": "stream",
     "text": [
      "Training until validation scores don't improve for 10 rounds\n",
      "Early stopping, best iteration is:\n",
      "[14]\tvalid_0's binary_error: 0.2175\n",
      "Training until validation scores don't improve for 10 rounds\n",
      "Early stopping, best iteration is:\n",
      "[8]\tvalid_0's binary_error: 0.201875\n"
     ]
    },
    {
     "name": "stderr",
     "output_type": "stream",
     "text": [
      "[I 2024-01-18 11:45:12,504] Trial 58 finished with value: 0.796875 and parameters: {'lambda_l1': 0.004740344894591099, 'lambda_l2': 0.0001834219738677121, 'num_leaves': 66, 'feature_fraction': 0.9730340519568603, 'bagging_fraction': 0.78174548599387, 'bagging_freq': 5, 'min_child_samples': 22, 'learning_rate': 0.12687410908578414, 'max_depth': 6, 'subsample': 0.7559578152516697, 'colsample_bytree': 0.5452371116312876}. Best is trial 43 with value: 0.81.\n"
     ]
    },
    {
     "name": "stdout",
     "output_type": "stream",
     "text": [
      "Training until validation scores don't improve for 10 rounds\n",
      "Early stopping, best iteration is:\n",
      "[20]\tvalid_0's binary_error: 0.203125\n",
      "Training until validation scores don't improve for 10 rounds\n"
     ]
    },
    {
     "name": "stderr",
     "output_type": "stream",
     "text": [
      "[I 2024-01-18 11:45:12,676] Trial 59 finished with value: 0.810625 and parameters: {'lambda_l1': 0.10624083475150486, 'lambda_l2': 0.0006470230931893058, 'num_leaves': 225, 'feature_fraction': 0.8054244076617562, 'bagging_fraction': 0.9150904724774989, 'bagging_freq': 7, 'min_child_samples': 40, 'learning_rate': 0.13442742420527787, 'max_depth': 15, 'subsample': 0.6663580622605733, 'colsample_bytree': 0.6571179154099678}. Best is trial 59 with value: 0.810625.\n"
     ]
    },
    {
     "name": "stdout",
     "output_type": "stream",
     "text": [
      "Early stopping, best iteration is:\n",
      "[13]\tvalid_0's binary_error: 0.189375\n",
      "Training until validation scores don't improve for 10 rounds\n"
     ]
    },
    {
     "name": "stderr",
     "output_type": "stream",
     "text": [
      "[I 2024-01-18 11:45:12,888] Trial 60 finished with value: 0.805625 and parameters: {'lambda_l1': 0.02837236089709748, 'lambda_l2': 0.0007983813388172179, 'num_leaves': 231, 'feature_fraction': 0.8098725958102005, 'bagging_fraction': 0.9120238623755654, 'bagging_freq': 7, 'min_child_samples': 36, 'learning_rate': 0.1321588975082927, 'max_depth': 15, 'subsample': 0.681731036308304, 'colsample_bytree': 0.7083574820734094}. Best is trial 59 with value: 0.810625.\n",
      "[I 2024-01-18 11:45:13,042] Trial 61 finished with value: 0.804375 and parameters: {'lambda_l1': 0.13281014172802175, 'lambda_l2': 0.00024985633029554386, 'num_leaves': 224, 'feature_fraction': 0.7869977453201689, 'bagging_fraction': 0.9765652708125042, 'bagging_freq': 7, 'min_child_samples': 41, 'learning_rate': 0.1096526578151945, 'max_depth': 14, 'subsample': 0.6645857230016333, 'colsample_bytree': 0.659118478165361}. Best is trial 59 with value: 0.810625.\n"
     ]
    },
    {
     "name": "stdout",
     "output_type": "stream",
     "text": [
      "Early stopping, best iteration is:\n",
      "[18]\tvalid_0's binary_error: 0.194375\n",
      "Training until validation scores don't improve for 10 rounds\n",
      "Early stopping, best iteration is:\n",
      "[10]\tvalid_0's binary_error: 0.195625\n"
     ]
    },
    {
     "name": "stderr",
     "output_type": "stream",
     "text": [
      "[I 2024-01-18 11:45:13,246] Trial 62 finished with value: 0.8025 and parameters: {'lambda_l1': 0.08902062528398502, 'lambda_l2': 8.579688328608937e-05, 'num_leaves': 193, 'feature_fraction': 0.7531467686224445, 'bagging_fraction': 0.8880245059096954, 'bagging_freq': 7, 'min_child_samples': 44, 'learning_rate': 0.08312399403480655, 'max_depth': 15, 'subsample': 0.6377724099135191, 'colsample_bytree': 0.5957293433522285}. Best is trial 59 with value: 0.810625.\n"
     ]
    },
    {
     "name": "stdout",
     "output_type": "stream",
     "text": [
      "Training until validation scores don't improve for 10 rounds\n",
      "Early stopping, best iteration is:\n",
      "[19]\tvalid_0's binary_error: 0.1975\n",
      "Training until validation scores don't improve for 10 rounds\n"
     ]
    },
    {
     "name": "stderr",
     "output_type": "stream",
     "text": [
      "[I 2024-01-18 11:45:13,429] Trial 63 finished with value: 0.80125 and parameters: {'lambda_l1': 0.5618845832510142, 'lambda_l2': 0.0004037827137303888, 'num_leaves': 85, 'feature_fraction': 0.8217952966781017, 'bagging_fraction': 0.8480389434076443, 'bagging_freq': 6, 'min_child_samples': 50, 'learning_rate': 0.15275854048923643, 'max_depth': 13, 'subsample': 0.5902787401834014, 'colsample_bytree': 0.6261573355351983}. Best is trial 59 with value: 0.810625.\n"
     ]
    },
    {
     "name": "stdout",
     "output_type": "stream",
     "text": [
      "Early stopping, best iteration is:\n",
      "[15]\tvalid_0's binary_error: 0.19875\n",
      "Training until validation scores don't improve for 10 rounds\n",
      "Early stopping, best iteration is:\n",
      "[22]\tvalid_0's binary_error: 0.19\n"
     ]
    },
    {
     "name": "stderr",
     "output_type": "stream",
     "text": [
      "[I 2024-01-18 11:45:13,841] Trial 64 finished with value: 0.81 and parameters: {'lambda_l1': 0.3119395340602476, 'lambda_l2': 0.002478207266111007, 'num_leaves': 241, 'feature_fraction': 0.8524007658333557, 'bagging_fraction': 0.9332279909858046, 'bagging_freq': 7, 'min_child_samples': 53, 'learning_rate': 0.11534091665662363, 'max_depth': 14, 'subsample': 0.7323883403566632, 'colsample_bytree': 0.5621213415874711}. Best is trial 59 with value: 0.810625.\n",
      "[I 2024-01-18 11:45:14,015] Trial 65 finished with value: 0.81 and parameters: {'lambda_l1': 0.2685903644837454, 'lambda_l2': 0.0007311117404520825, 'num_leaves': 244, 'feature_fraction': 0.8537428967903946, 'bagging_fraction': 0.9342509793670735, 'bagging_freq': 7, 'min_child_samples': 53, 'learning_rate': 0.143844129811692, 'max_depth': 14, 'subsample': 0.7314465156969322, 'colsample_bytree': 0.6639461831480459}. Best is trial 59 with value: 0.810625.\n"
     ]
    },
    {
     "name": "stdout",
     "output_type": "stream",
     "text": [
      "Training until validation scores don't improve for 10 rounds\n",
      "Early stopping, best iteration is:\n",
      "[19]\tvalid_0's binary_error: 0.19\n",
      "Training until validation scores don't improve for 10 rounds\n"
     ]
    },
    {
     "name": "stderr",
     "output_type": "stream",
     "text": [
      "[I 2024-01-18 11:45:14,276] Trial 66 finished with value: 0.808125 and parameters: {'lambda_l1': 0.26629105795197894, 'lambda_l2': 0.0006910466536217724, 'num_leaves': 246, 'feature_fraction': 0.9067549879897561, 'bagging_fraction': 0.9293030361635323, 'bagging_freq': 7, 'min_child_samples': 52, 'learning_rate': 0.13794532063347062, 'max_depth': 14, 'subsample': 0.72785757070584, 'colsample_bytree': 0.6602404726208477}. Best is trial 59 with value: 0.810625.\n",
      "[I 2024-01-18 11:45:14,442] Trial 67 finished with value: 0.815625 and parameters: {'lambda_l1': 0.25841723011283046, 'lambda_l2': 0.0007524718043693953, 'num_leaves': 246, 'feature_fraction': 0.903837887925065, 'bagging_fraction': 0.9365413907066116, 'bagging_freq': 7, 'min_child_samples': 53, 'learning_rate': 0.1375760568604262, 'max_depth': 14, 'subsample': 0.7399378183650571, 'colsample_bytree': 0.665467648723792}. Best is trial 67 with value: 0.815625.\n"
     ]
    },
    {
     "name": "stdout",
     "output_type": "stream",
     "text": [
      "Early stopping, best iteration is:\n",
      "[16]\tvalid_0's binary_error: 0.191875\n",
      "Training until validation scores don't improve for 10 rounds\n",
      "Early stopping, best iteration is:\n",
      "[16]\tvalid_0's binary_error: 0.184375\n"
     ]
    },
    {
     "name": "stderr",
     "output_type": "stream",
     "text": [
      "[I 2024-01-18 11:45:14,644] Trial 68 finished with value: 0.80625 and parameters: {'lambda_l1': 0.7302237362423263, 'lambda_l2': 0.0008307105631028993, 'num_leaves': 244, 'feature_fraction': 0.8984488859342663, 'bagging_fraction': 0.9348196617461713, 'bagging_freq': 7, 'min_child_samples': 53, 'learning_rate': 0.1381574873821615, 'max_depth': 13, 'subsample': 0.7483271164690167, 'colsample_bytree': 0.694602260157831}. Best is trial 67 with value: 0.815625.\n"
     ]
    },
    {
     "name": "stdout",
     "output_type": "stream",
     "text": [
      "Training until validation scores don't improve for 10 rounds\n",
      "Early stopping, best iteration is:\n",
      "[22]\tvalid_0's binary_error: 0.19375\n",
      "Training until validation scores don't improve for 10 rounds\n"
     ]
    },
    {
     "name": "stderr",
     "output_type": "stream",
     "text": [
      "[I 2024-01-18 11:45:14,880] Trial 69 finished with value: 0.804375 and parameters: {'lambda_l1': 0.2969606738121095, 'lambda_l2': 0.006321837706118474, 'num_leaves': 242, 'feature_fraction': 0.8666781187484461, 'bagging_fraction': 0.9129594357765536, 'bagging_freq': 7, 'min_child_samples': 58, 'learning_rate': 0.15123193925046854, 'max_depth': 14, 'subsample': 0.7172697402731074, 'colsample_bytree': 0.652380071778118}. Best is trial 67 with value: 0.815625.\n",
      "[I 2024-01-18 11:45:15,042] Trial 70 finished with value: 0.801875 and parameters: {'lambda_l1': 1.7828552660377628, 'lambda_l2': 0.0023121825560191342, 'num_leaves': 254, 'feature_fraction': 0.8890615532509869, 'bagging_fraction': 0.9640512243333457, 'bagging_freq': 7, 'min_child_samples': 55, 'learning_rate': 0.16927682923241827, 'max_depth': 15, 'subsample': 0.7880056034361285, 'colsample_bytree': 0.7218714824291803}. Best is trial 67 with value: 0.815625.\n"
     ]
    },
    {
     "name": "stdout",
     "output_type": "stream",
     "text": [
      "Early stopping, best iteration is:\n",
      "[23]\tvalid_0's binary_error: 0.195625\n",
      "Training until validation scores don't improve for 10 rounds\n",
      "Early stopping, best iteration is:\n",
      "[19]\tvalid_0's binary_error: 0.198125\n"
     ]
    },
    {
     "name": "stderr",
     "output_type": "stream",
     "text": [
      "[I 2024-01-18 11:45:15,226] Trial 71 finished with value: 0.81125 and parameters: {'lambda_l1': 0.27933903359096957, 'lambda_l2': 0.0005994462576456496, 'num_leaves': 221, 'feature_fraction': 0.9451788046191587, 'bagging_fraction': 0.9396906039717656, 'bagging_freq': 7, 'min_child_samples': 52, 'learning_rate': 0.1330264763875946, 'max_depth': 14, 'subsample': 0.6924396412277048, 'colsample_bytree': 0.6677251877482576}. Best is trial 67 with value: 0.815625.\n"
     ]
    },
    {
     "name": "stdout",
     "output_type": "stream",
     "text": [
      "Training until validation scores don't improve for 10 rounds\n",
      "Early stopping, best iteration is:\n",
      "[20]\tvalid_0's binary_error: 0.18875\n",
      "Training until validation scores don't improve for 10 rounds\n"
     ]
    },
    {
     "name": "stderr",
     "output_type": "stream",
     "text": [
      "[I 2024-01-18 11:45:15,424] Trial 72 finished with value: 0.809375 and parameters: {'lambda_l1': 0.2704043651603693, 'lambda_l2': 0.0005137041194638113, 'num_leaves': 224, 'feature_fraction': 0.9330165265035532, 'bagging_fraction': 0.946116644742531, 'bagging_freq': 7, 'min_child_samples': 52, 'learning_rate': 0.13344757911882046, 'max_depth': 14, 'subsample': 0.7277222460907443, 'colsample_bytree': 0.6730081001544472}. Best is trial 67 with value: 0.815625.\n"
     ]
    },
    {
     "name": "stdout",
     "output_type": "stream",
     "text": [
      "Early stopping, best iteration is:\n",
      "[23]\tvalid_0's binary_error: 0.190625\n",
      "Training until validation scores don't improve for 10 rounds\n"
     ]
    },
    {
     "name": "stderr",
     "output_type": "stream",
     "text": [
      "[I 2024-01-18 11:45:15,673] Trial 73 finished with value: 0.8075 and parameters: {'lambda_l1': 0.5161526920788302, 'lambda_l2': 0.00037362868705379833, 'num_leaves': 222, 'feature_fraction': 0.9328358302313046, 'bagging_fraction': 0.9421961155389466, 'bagging_freq': 7, 'min_child_samples': 61, 'learning_rate': 0.14540781308582434, 'max_depth': 14, 'subsample': 0.7015929321264913, 'colsample_bytree': 0.741825039664944}. Best is trial 67 with value: 0.815625.\n"
     ]
    },
    {
     "name": "stdout",
     "output_type": "stream",
     "text": [
      "Early stopping, best iteration is:\n",
      "[16]\tvalid_0's binary_error: 0.1925\n",
      "Training until validation scores don't improve for 10 rounds\n"
     ]
    },
    {
     "name": "stderr",
     "output_type": "stream",
     "text": [
      "[I 2024-01-18 11:45:15,893] Trial 74 finished with value: 0.80875 and parameters: {'lambda_l1': 2.0568402795352867, 'lambda_l2': 0.0014589734777921966, 'num_leaves': 212, 'feature_fraction': 0.9409038628991857, 'bagging_fraction': 0.9687862819741511, 'bagging_freq': 7, 'min_child_samples': 39, 'learning_rate': 0.13130326736604458, 'max_depth': 13, 'subsample': 0.7552180589309726, 'colsample_bytree': 0.7949846941207233}. Best is trial 67 with value: 0.815625.\n"
     ]
    },
    {
     "name": "stdout",
     "output_type": "stream",
     "text": [
      "Early stopping, best iteration is:\n",
      "[21]\tvalid_0's binary_error: 0.19125\n",
      "Training until validation scores don't improve for 10 rounds\n"
     ]
    },
    {
     "name": "stderr",
     "output_type": "stream",
     "text": [
      "[I 2024-01-18 11:45:16,110] Trial 75 finished with value: 0.804375 and parameters: {'lambda_l1': 0.6937182328715675, 'lambda_l2': 0.00028158503102195334, 'num_leaves': 228, 'feature_fraction': 0.922139985379707, 'bagging_fraction': 0.9020413432033553, 'bagging_freq': 7, 'min_child_samples': 68, 'learning_rate': 0.11410870846390278, 'max_depth': 15, 'subsample': 0.8099980073946195, 'colsample_bytree': 0.6921416564229983}. Best is trial 67 with value: 0.815625.\n"
     ]
    },
    {
     "name": "stdout",
     "output_type": "stream",
     "text": [
      "Early stopping, best iteration is:\n",
      "[29]\tvalid_0's binary_error: 0.195625\n",
      "Training until validation scores don't improve for 10 rounds\n"
     ]
    },
    {
     "name": "stderr",
     "output_type": "stream",
     "text": [
      "[I 2024-01-18 11:45:16,325] Trial 76 finished with value: 0.805625 and parameters: {'lambda_l1': 0.2613421454722866, 'lambda_l2': 0.004062354235435681, 'num_leaves': 237, 'feature_fraction': 0.86455267615544, 'bagging_fraction': 0.9529871756991525, 'bagging_freq': 3, 'min_child_samples': 49, 'learning_rate': 0.12225628657496469, 'max_depth': 14, 'subsample': 0.7742367288846634, 'colsample_bytree': 0.6275560602855423}. Best is trial 67 with value: 0.815625.\n"
     ]
    },
    {
     "name": "stdout",
     "output_type": "stream",
     "text": [
      "Early stopping, best iteration is:\n",
      "[16]\tvalid_0's binary_error: 0.194375\n",
      "Training until validation scores don't improve for 10 rounds\n"
     ]
    },
    {
     "name": "stderr",
     "output_type": "stream",
     "text": [
      "[I 2024-01-18 11:45:16,550] Trial 77 finished with value: 0.79875 and parameters: {'lambda_l1': 9.68682783720788, 'lambda_l2': 0.0006479823953067294, 'num_leaves': 206, 'feature_fraction': 0.9502227742378413, 'bagging_fraction': 0.9866409168376646, 'bagging_freq': 7, 'min_child_samples': 44, 'learning_rate': 0.1464909836080406, 'max_depth': 13, 'subsample': 0.6870153806534466, 'colsample_bytree': 0.6768260656166152}. Best is trial 67 with value: 0.815625.\n"
     ]
    },
    {
     "name": "stdout",
     "output_type": "stream",
     "text": [
      "Early stopping, best iteration is:\n",
      "[15]\tvalid_0's binary_error: 0.20125\n",
      "Training until validation scores don't improve for 10 rounds\n"
     ]
    },
    {
     "name": "stderr",
     "output_type": "stream",
     "text": [
      "[I 2024-01-18 11:45:16,810] Trial 78 finished with value: 0.805 and parameters: {'lambda_l1': 0.9863678567616104, 'lambda_l2': 0.001743127097846172, 'num_leaves': 239, 'feature_fraction': 0.9153395226508241, 'bagging_fraction': 0.9236349457488177, 'bagging_freq': 7, 'min_child_samples': 59, 'learning_rate': 0.15770194531894394, 'max_depth': 15, 'subsample': 0.7409355012671638, 'colsample_bytree': 0.6069499695595598}. Best is trial 67 with value: 0.815625.\n"
     ]
    },
    {
     "name": "stdout",
     "output_type": "stream",
     "text": [
      "Early stopping, best iteration is:\n",
      "[16]\tvalid_0's binary_error: 0.195\n",
      "Training until validation scores don't improve for 10 rounds\n"
     ]
    },
    {
     "name": "stderr",
     "output_type": "stream",
     "text": [
      "[I 2024-01-18 11:45:17,138] Trial 79 finished with value: 0.806875 and parameters: {'lambda_l1': 0.12594092939966273, 'lambda_l2': 0.00015533470266571926, 'num_leaves': 220, 'feature_fraction': 0.9606759029331164, 'bagging_fraction': 0.8892219898032123, 'bagging_freq': 7, 'min_child_samples': 56, 'learning_rate': 0.13722829511956103, 'max_depth': 14, 'subsample': 0.6573558201799575, 'colsample_bytree': 0.6512143499234678}. Best is trial 67 with value: 0.815625.\n"
     ]
    },
    {
     "name": "stdout",
     "output_type": "stream",
     "text": [
      "Early stopping, best iteration is:\n",
      "[19]\tvalid_0's binary_error: 0.193125\n",
      "Training until validation scores don't improve for 10 rounds\n"
     ]
    },
    {
     "name": "stderr",
     "output_type": "stream",
     "text": [
      "[I 2024-01-18 11:45:17,372] Trial 80 finished with value: 0.8025 and parameters: {'lambda_l1': 0.42044043106637496, 'lambda_l2': 0.0004975064705077806, 'num_leaves': 256, 'feature_fraction': 0.8411728231694715, 'bagging_fraction': 0.9438977920602514, 'bagging_freq': 6, 'min_child_samples': 52, 'learning_rate': 0.12610895006026918, 'max_depth': 15, 'subsample': 0.7134127281804369, 'colsample_bytree': 0.70224839155314}. Best is trial 67 with value: 0.815625.\n"
     ]
    },
    {
     "name": "stdout",
     "output_type": "stream",
     "text": [
      "Early stopping, best iteration is:\n",
      "[27]\tvalid_0's binary_error: 0.1975\n",
      "Training until validation scores don't improve for 10 rounds\n"
     ]
    },
    {
     "name": "stderr",
     "output_type": "stream",
     "text": [
      "[I 2024-01-18 11:45:17,588] Trial 81 finished with value: 0.804375 and parameters: {'lambda_l1': 1.9914287678151712, 'lambda_l2': 0.0011520531446297842, 'num_leaves': 211, 'feature_fraction': 0.9431708183691366, 'bagging_fraction': 0.9585826618831532, 'bagging_freq': 7, 'min_child_samples': 100, 'learning_rate': 0.13105846447841762, 'max_depth': 12, 'subsample': 0.7620407695246165, 'colsample_bytree': 0.7919413522641857}. Best is trial 67 with value: 0.815625.\n"
     ]
    },
    {
     "name": "stdout",
     "output_type": "stream",
     "text": [
      "Early stopping, best iteration is:\n",
      "[54]\tvalid_0's binary_error: 0.195625\n",
      "Training until validation scores don't improve for 10 rounds\n"
     ]
    },
    {
     "name": "stderr",
     "output_type": "stream",
     "text": [
      "[I 2024-01-18 11:45:17,878] Trial 82 finished with value: 0.80625 and parameters: {'lambda_l1': 0.0425234258496732, 'lambda_l2': 0.0020273004553834923, 'num_leaves': 217, 'feature_fraction': 0.9055034801073499, 'bagging_fraction': 0.9694875635935214, 'bagging_freq': 7, 'min_child_samples': 40, 'learning_rate': 0.11821151701145022, 'max_depth': 13, 'subsample': 0.741491831512028, 'colsample_bytree': 0.7781707530667515}. Best is trial 67 with value: 0.815625.\n"
     ]
    },
    {
     "name": "stdout",
     "output_type": "stream",
     "text": [
      "Early stopping, best iteration is:\n",
      "[21]\tvalid_0's binary_error: 0.19375\n",
      "Training until validation scores don't improve for 10 rounds\n"
     ]
    },
    {
     "name": "stderr",
     "output_type": "stream",
     "text": [
      "[I 2024-01-18 11:45:18,087] Trial 83 finished with value: 0.810625 and parameters: {'lambda_l1': 0.10046732038827916, 'lambda_l2': 0.0011924358648782091, 'num_leaves': 201, 'feature_fraction': 0.9347454840419753, 'bagging_fraction': 0.9834811460261962, 'bagging_freq': 7, 'min_child_samples': 38, 'learning_rate': 0.1371282128032035, 'max_depth': 13, 'subsample': 0.6867226963730672, 'colsample_bytree': 0.8173073020803837}. Best is trial 67 with value: 0.815625.\n",
      "[I 2024-01-18 11:45:18,290] Trial 84 finished with value: 0.808125 and parameters: {'lambda_l1': 0.09166033375470067, 'lambda_l2': 0.004004530621622945, 'num_leaves': 227, 'feature_fraction': 0.8832552512403888, 'bagging_fraction': 0.9993200138119879, 'bagging_freq': 7, 'min_child_samples': 46, 'learning_rate': 0.16974455459808638, 'max_depth': 14, 'subsample': 0.6753939347948417, 'colsample_bytree': 0.6134534880125804}. Best is trial 67 with value: 0.815625.\n"
     ]
    },
    {
     "name": "stdout",
     "output_type": "stream",
     "text": [
      "Early stopping, best iteration is:\n",
      "[15]\tvalid_0's binary_error: 0.189375\n",
      "Training until validation scores don't improve for 10 rounds\n",
      "Early stopping, best iteration is:\n",
      "[14]\tvalid_0's binary_error: 0.191875\n"
     ]
    },
    {
     "name": "stderr",
     "output_type": "stream",
     "text": [
      "[I 2024-01-18 11:45:18,486] Trial 85 finished with value: 0.805625 and parameters: {'lambda_l1': 0.2150834542152329, 'lambda_l2': 0.00028886458025822624, 'num_leaves': 201, 'feature_fraction': 0.8550609170468418, 'bagging_fraction': 0.9176876784415675, 'bagging_freq': 7, 'min_child_samples': 63, 'learning_rate': 0.13996242674828663, 'max_depth': 15, 'subsample': 0.8377521591547332, 'colsample_bytree': 0.8763916933046675}. Best is trial 67 with value: 0.815625.\n"
     ]
    },
    {
     "name": "stdout",
     "output_type": "stream",
     "text": [
      "Training until validation scores don't improve for 10 rounds\n",
      "Early stopping, best iteration is:\n",
      "[10]\tvalid_0's binary_error: 0.194375\n",
      "Training until validation scores don't improve for 10 rounds\n"
     ]
    },
    {
     "name": "stderr",
     "output_type": "stream",
     "text": [
      "[I 2024-01-18 11:45:18,866] Trial 86 finished with value: 0.80125 and parameters: {'lambda_l1': 0.04077688550852403, 'lambda_l2': 0.0011765660102550182, 'num_leaves': 248, 'feature_fraction': 0.9884907370093988, 'bagging_fraction': 0.9822684919876081, 'bagging_freq': 6, 'min_child_samples': 33, 'learning_rate': 0.14727288808320593, 'max_depth': 12, 'subsample': 0.6930706370603742, 'colsample_bytree': 0.5672805522139083}. Best is trial 67 with value: 0.815625.\n"
     ]
    },
    {
     "name": "stdout",
     "output_type": "stream",
     "text": [
      "Early stopping, best iteration is:\n",
      "[15]\tvalid_0's binary_error: 0.19875\n",
      "Training until validation scores don't improve for 10 rounds\n"
     ]
    },
    {
     "name": "stderr",
     "output_type": "stream",
     "text": [
      "[I 2024-01-18 11:45:19,088] Trial 87 finished with value: 0.810625 and parameters: {'lambda_l1': 0.08960789037353295, 'lambda_l2': 0.0006884012533004097, 'num_leaves': 229, 'feature_fraction': 0.9331260178590954, 'bagging_fraction': 0.8763428742298766, 'bagging_freq': 7, 'min_child_samples': 37, 'learning_rate': 0.10371597212627859, 'max_depth': 13, 'subsample': 0.7279409825411883, 'colsample_bytree': 0.674815432698872}. Best is trial 67 with value: 0.815625.\n"
     ]
    },
    {
     "name": "stdout",
     "output_type": "stream",
     "text": [
      "Early stopping, best iteration is:\n",
      "[20]\tvalid_0's binary_error: 0.189375\n",
      "Training until validation scores don't improve for 10 rounds\n"
     ]
    },
    {
     "name": "stderr",
     "output_type": "stream",
     "text": [
      "[I 2024-01-18 11:45:19,374] Trial 88 finished with value: 0.804375 and parameters: {'lambda_l1': 0.08628745605876277, 'lambda_l2': 0.0007416391498008451, 'num_leaves': 234, 'feature_fraction': 0.9589967945834511, 'bagging_fraction': 0.877782540338132, 'bagging_freq': 7, 'min_child_samples': 37, 'learning_rate': 0.1018615101152752, 'max_depth': 13, 'subsample': 0.7254820736686263, 'colsample_bytree': 0.6711804966225826}. Best is trial 67 with value: 0.815625.\n"
     ]
    },
    {
     "name": "stdout",
     "output_type": "stream",
     "text": [
      "Early stopping, best iteration is:\n",
      "[27]\tvalid_0's binary_error: 0.195625\n",
      "Training until validation scores don't improve for 10 rounds\n"
     ]
    },
    {
     "name": "stderr",
     "output_type": "stream",
     "text": [
      "[I 2024-01-18 11:45:19,598] Trial 89 finished with value: 0.80125 and parameters: {'lambda_l1': 0.2044144380060209, 'lambda_l2': 0.0030103387031627338, 'num_leaves': 240, 'feature_fraction': 0.8995953726297905, 'bagging_fraction': 0.898963904811719, 'bagging_freq': 7, 'min_child_samples': 25, 'learning_rate': 0.11564340038299858, 'max_depth': 12, 'subsample': 0.7799627032387355, 'colsample_bytree': 0.7352302747202347}. Best is trial 67 with value: 0.815625.\n"
     ]
    },
    {
     "name": "stdout",
     "output_type": "stream",
     "text": [
      "Early stopping, best iteration is:\n",
      "[16]\tvalid_0's binary_error: 0.19875\n",
      "Training until validation scores don't improve for 10 rounds\n",
      "Early stopping, best iteration is:\n",
      "[17]\tvalid_0's binary_error: 0.199375\n"
     ]
    },
    {
     "name": "stderr",
     "output_type": "stream",
     "text": [
      "[I 2024-01-18 11:45:19,800] Trial 90 finished with value: 0.800625 and parameters: {'lambda_l1': 0.4819167281537566, 'lambda_l2': 0.005917357906962454, 'num_leaves': 217, 'feature_fraction': 0.932536960114636, 'bagging_fraction': 0.9399735661737598, 'bagging_freq': 7, 'min_child_samples': 43, 'learning_rate': 0.10672018025409921, 'max_depth': 14, 'subsample': 0.63496493424839, 'colsample_bytree': 0.6354265046290122}. Best is trial 67 with value: 0.815625.\n",
      "[I 2024-01-18 11:45:20,015] Trial 91 finished with value: 0.804375 and parameters: {'lambda_l1': 0.09922348886560829, 'lambda_l2': 0.00020258299783594216, 'num_leaves': 230, 'feature_fraction': 0.9247887403865933, 'bagging_fraction': 0.9258482197610434, 'bagging_freq': 7, 'min_child_samples': 48, 'learning_rate': 0.12545915757980694, 'max_depth': 14, 'subsample': 0.6602897648758367, 'colsample_bytree': 0.708917109733422}. Best is trial 67 with value: 0.815625.\n"
     ]
    },
    {
     "name": "stdout",
     "output_type": "stream",
     "text": [
      "Training until validation scores don't improve for 10 rounds\n",
      "Early stopping, best iteration is:\n",
      "[19]\tvalid_0's binary_error: 0.195625\n",
      "Training until validation scores don't improve for 10 rounds\n"
     ]
    },
    {
     "name": "stderr",
     "output_type": "stream",
     "text": [
      "[I 2024-01-18 11:45:20,210] Trial 92 finished with value: 0.8075 and parameters: {'lambda_l1': 0.17233540602831238, 'lambda_l2': 0.00038292057331772557, 'num_leaves': 204, 'feature_fraction': 0.8745749899678842, 'bagging_fraction': 0.9597406160514923, 'bagging_freq': 7, 'min_child_samples': 29, 'learning_rate': 0.1347629808954974, 'max_depth': 13, 'subsample': 0.7027019117745692, 'colsample_bytree': 0.6063350099212735}. Best is trial 67 with value: 0.815625.\n"
     ]
    },
    {
     "name": "stdout",
     "output_type": "stream",
     "text": [
      "Early stopping, best iteration is:\n",
      "[8]\tvalid_0's binary_error: 0.1925\n",
      "Training until validation scores don't improve for 10 rounds\n"
     ]
    },
    {
     "name": "stderr",
     "output_type": "stream",
     "text": [
      "[I 2024-01-18 11:45:20,521] Trial 93 finished with value: 0.803125 and parameters: {'lambda_l1': 0.04559103346610787, 'lambda_l2': 0.001115144914772741, 'num_leaves': 188, 'feature_fraction': 0.9776649650588782, 'bagging_fraction': 0.9864262476440193, 'bagging_freq': 7, 'min_child_samples': 51, 'learning_rate': 0.11967644241778413, 'max_depth': 0, 'subsample': 0.7300064161496523, 'colsample_bytree': 0.684207277845445}. Best is trial 67 with value: 0.815625.\n"
     ]
    },
    {
     "name": "stdout",
     "output_type": "stream",
     "text": [
      "Early stopping, best iteration is:\n",
      "[21]\tvalid_0's binary_error: 0.196875\n",
      "Training until validation scores don't improve for 10 rounds\n"
     ]
    },
    {
     "name": "stderr",
     "output_type": "stream",
     "text": [
      "[I 2024-01-18 11:45:20,773] Trial 94 finished with value: 0.8025 and parameters: {'lambda_l1': 0.34047538475118677, 'lambda_l2': 0.0001107335142977333, 'num_leaves': 251, 'feature_fraction': 0.9114135575523009, 'bagging_fraction': 0.9097469368106594, 'bagging_freq': 6, 'min_child_samples': 55, 'learning_rate': 0.156664577300503, 'max_depth': 15, 'subsample': 0.679808425996037, 'colsample_bytree': 0.5589732326074673}. Best is trial 67 with value: 0.815625.\n"
     ]
    },
    {
     "name": "stdout",
     "output_type": "stream",
     "text": [
      "Early stopping, best iteration is:\n",
      "[12]\tvalid_0's binary_error: 0.1975\n",
      "Training until validation scores don't improve for 10 rounds\n"
     ]
    },
    {
     "name": "stderr",
     "output_type": "stream",
     "text": [
      "[I 2024-01-18 11:45:21,067] Trial 95 finished with value: 0.810625 and parameters: {'lambda_l1': 0.019359797644049413, 'lambda_l2': 0.00046213939347964473, 'num_leaves': 175, 'feature_fraction': 0.8901081367980614, 'bagging_fraction': 0.9433855483097028, 'bagging_freq': 7, 'min_child_samples': 46, 'learning_rate': 0.1121247640361458, 'max_depth': 14, 'subsample': 0.7976575354459335, 'colsample_bytree': 0.5793954622074253}. Best is trial 67 with value: 0.815625.\n",
      "[I 2024-01-18 11:45:21,252] Trial 96 finished with value: 0.798125 and parameters: {'lambda_l1': 0.015004912572953374, 'lambda_l2': 0.0006089232357269366, 'num_leaves': 176, 'feature_fraction': 0.8905247953228917, 'bagging_fraction': 0.942039735755871, 'bagging_freq': 7, 'min_child_samples': 32, 'learning_rate': 0.09968325880814602, 'max_depth': 14, 'subsample': 0.7997215160471218, 'colsample_bytree': 0.5843483521068791}. Best is trial 67 with value: 0.815625.\n"
     ]
    },
    {
     "name": "stdout",
     "output_type": "stream",
     "text": [
      "Early stopping, best iteration is:\n",
      "[11]\tvalid_0's binary_error: 0.189375\n",
      "Training until validation scores don't improve for 10 rounds\n",
      "Early stopping, best iteration is:\n",
      "[5]\tvalid_0's binary_error: 0.201875\n"
     ]
    },
    {
     "name": "stderr",
     "output_type": "stream",
     "text": [
      "[I 2024-01-18 11:45:21,436] Trial 97 finished with value: 0.800625 and parameters: {'lambda_l1': 0.01972838685368579, 'lambda_l2': 0.00169314816878143, 'num_leaves': 224, 'feature_fraction': 0.8577449341684272, 'bagging_fraction': 0.8615272038884884, 'bagging_freq': 7, 'min_child_samples': 38, 'learning_rate': 0.11317888865261203, 'max_depth': 13, 'subsample': 0.7668980169567521, 'colsample_bytree': 0.6427473207520763}. Best is trial 67 with value: 0.815625.\n"
     ]
    },
    {
     "name": "stdout",
     "output_type": "stream",
     "text": [
      "Training until validation scores don't improve for 10 rounds\n",
      "Early stopping, best iteration is:\n",
      "[9]\tvalid_0's binary_error: 0.199375\n",
      "Training until validation scores don't improve for 10 rounds\n"
     ]
    },
    {
     "name": "stderr",
     "output_type": "stream",
     "text": [
      "[I 2024-01-18 11:45:21,730] Trial 98 finished with value: 0.8075 and parameters: {'lambda_l1': 0.07200361360817625, 'lambda_l2': 0.009163487366992292, 'num_leaves': 248, 'feature_fraction': 0.8390215219559932, 'bagging_fraction': 0.8829386297327909, 'bagging_freq': 6, 'min_child_samples': 42, 'learning_rate': 0.1282162409554457, 'max_depth': 14, 'subsample': 0.7473002800442392, 'colsample_bytree': 0.6195766032540526}. Best is trial 67 with value: 0.815625.\n"
     ]
    },
    {
     "name": "stdout",
     "output_type": "stream",
     "text": [
      "Early stopping, best iteration is:\n",
      "[19]\tvalid_0's binary_error: 0.1925\n",
      "Training until validation scores don't improve for 10 rounds\n"
     ]
    },
    {
     "name": "stderr",
     "output_type": "stream",
     "text": [
      "[I 2024-01-18 11:45:21,999] Trial 99 finished with value: 0.803125 and parameters: {'lambda_l1': 0.12544462967887668, 'lambda_l2': 0.0023306711238854265, 'num_leaves': 233, 'feature_fraction': 0.8731767743780708, 'bagging_fraction': 0.9275802498664731, 'bagging_freq': 7, 'min_child_samples': 46, 'learning_rate': 0.10851758093834823, 'max_depth': 12, 'subsample': 0.7050844571426375, 'colsample_bytree': 0.6671922711833967}. Best is trial 67 with value: 0.815625.\n"
     ]
    },
    {
     "name": "stdout",
     "output_type": "stream",
     "text": [
      "Early stopping, best iteration is:\n",
      "[21]\tvalid_0's binary_error: 0.196875\n",
      "[1 1 0 ... 1 1 0]\n"
     ]
    }
   ],
   "source": [
    "\n",
    "\n",
    "# データの準備\n",
    "X = train.drop('blueWins', axis=1)\n",
    "y = train['blueWins']\n",
    "X_train, X_val, y_train, y_val = train_test_split(X, y, test_size=0.2, random_state=0)\n",
    "\n",
    "def objective(trial):\n",
    "    param = {\n",
    "        'objective': 'binary',\n",
    "        'metric': 'binary_error',\n",
    "        'verbosity': -1,\n",
    "        'boosting_type': 'gbdt',\n",
    "        'lambda_l1': trial.suggest_float('lambda_l1', 1e-8, 10.0, log=True),\n",
    "        'lambda_l2': trial.suggest_float('lambda_l2', 1e-8, 10.0, log=True),\n",
    "        'num_leaves': trial.suggest_int('num_leaves', 2, 256),\n",
    "        'feature_fraction': trial.suggest_float('feature_fraction', 0.4, 1.0),\n",
    "        'bagging_fraction': trial.suggest_float('bagging_fraction', 0.4, 1.0),\n",
    "        'bagging_freq': trial.suggest_int('bagging_freq', 1, 7),\n",
    "        'min_child_samples': trial.suggest_int('min_child_samples', 5, 100),\n",
    "        'learning_rate': trial.suggest_float('learning_rate', 0.01, 0.3),\n",
    "        'max_depth': trial.suggest_int('max_depth', -1, 15),\n",
    "        'subsample': trial.suggest_float('subsample', 0.1, 1.0),\n",
    "        'colsample_bytree': trial.suggest_float('colsample_bytree', 0.1, 1.0)\n",
    "    }\n",
    "\n",
    "    # 以前のコードと同じ\n",
    "    lgb_train = lgb.Dataset(X_train, y_train)\n",
    "    lgb_val = lgb.Dataset(X_val, y_val, reference=lgb_train)\n",
    "\n",
    "    verbose_eval = 0\n",
    "    verbose = lgb.log_evaluation(verbose_eval)\n",
    "    early_stopping = lgb.early_stopping(stopping_rounds=10, verbose=True)\n",
    "    model = lgb.train(param, lgb_train, num_boost_round=1000, valid_sets=[lgb_val], callbacks=[early_stopping, verbose])\n",
    "    \n",
    "    y_pred = model.predict(X_val, num_iteration=model.best_iteration)\n",
    "    y_pred = (y_pred > 0.5).astype(int)\n",
    "    accuracy = accuracy_score(y_val, y_pred)\n",
    "\n",
    "    return accuracy\n",
    "\n",
    "study = optuna.create_study(direction='maximize')\n",
    "study.optimize(objective, n_trials=100)\n",
    "\n",
    "# 最適なハイパーパラメータでモデルを再学習\n",
    "best_params = study.best_params\n",
    "best_params['objective'] = 'binary'\n",
    "best_params['metric'] = 'binary_error'\n",
    "best_params['verbosity'] = -1\n",
    "\n",
    "lgb_train = lgb.Dataset(X, y)\n",
    "model = lgb.train(best_params, lgb_train, num_boost_round=study.best_trial.number)\n",
    "\n",
    "# テストデータに対する予測\n",
    "y_test_pred = model.predict(test)\n",
    "y_test_pred_int = (y_test_pred > 0.5).astype(int)\n",
    "\n",
    "# 予測結果の表示\n",
    "print(y_test_pred_int)\n"
   ]
  },
  {
   "cell_type": "markdown",
   "metadata": {},
   "source": [
    "- testにy_test_pred結合"
   ]
  },
  {
   "cell_type": "code",
   "execution_count": 8,
   "metadata": {},
   "outputs": [],
   "source": [
    "output = '../data/output/submit_cv_oputuna_add_feature_addparams.csv'"
   ]
  },
  {
   "cell_type": "code",
   "execution_count": 9,
   "metadata": {},
   "outputs": [],
   "source": [
    "submit = pd.DataFrame({\n",
    "    '0': test['gameId'],\n",
    "    '1': y_test_pred_int\n",
    "})\n",
    "\n",
    "# カラムヘッダー消去して出力\n",
    "# ヘッダーなしでCSVファイルとして保存\n",
    "submit.to_csv(output, header=False, index=False)"
   ]
  },
  {
   "cell_type": "markdown",
   "metadata": {},
   "source": [
    "- 出力csvチェック"
   ]
  },
  {
   "cell_type": "code",
   "execution_count": 10,
   "metadata": {},
   "outputs": [],
   "source": [
    "check = pd.read_csv(output)"
   ]
  },
  {
   "cell_type": "code",
   "execution_count": 11,
   "metadata": {},
   "outputs": [
    {
     "data": {
      "text/html": [
       "<div>\n",
       "<style scoped>\n",
       "    .dataframe tbody tr th:only-of-type {\n",
       "        vertical-align: middle;\n",
       "    }\n",
       "\n",
       "    .dataframe tbody tr th {\n",
       "        vertical-align: top;\n",
       "    }\n",
       "\n",
       "    .dataframe thead th {\n",
       "        text-align: right;\n",
       "    }\n",
       "</style>\n",
       "<table border=\"1\" class=\"dataframe\">\n",
       "  <thead>\n",
       "    <tr style=\"text-align: right;\">\n",
       "      <th></th>\n",
       "      <th>9</th>\n",
       "      <th>1</th>\n",
       "    </tr>\n",
       "  </thead>\n",
       "  <tbody>\n",
       "    <tr>\n",
       "      <th>0</th>\n",
       "      <td>15</td>\n",
       "      <td>1</td>\n",
       "    </tr>\n",
       "    <tr>\n",
       "      <th>1</th>\n",
       "      <td>18</td>\n",
       "      <td>0</td>\n",
       "    </tr>\n",
       "    <tr>\n",
       "      <th>2</th>\n",
       "      <td>23</td>\n",
       "      <td>0</td>\n",
       "    </tr>\n",
       "    <tr>\n",
       "      <th>3</th>\n",
       "      <td>31</td>\n",
       "      <td>0</td>\n",
       "    </tr>\n",
       "    <tr>\n",
       "      <th>4</th>\n",
       "      <td>32</td>\n",
       "      <td>1</td>\n",
       "    </tr>\n",
       "    <tr>\n",
       "      <th>...</th>\n",
       "      <td>...</td>\n",
       "      <td>...</td>\n",
       "    </tr>\n",
       "    <tr>\n",
       "      <th>1994</th>\n",
       "      <td>9971</td>\n",
       "      <td>0</td>\n",
       "    </tr>\n",
       "    <tr>\n",
       "      <th>1995</th>\n",
       "      <td>9980</td>\n",
       "      <td>0</td>\n",
       "    </tr>\n",
       "    <tr>\n",
       "      <th>1996</th>\n",
       "      <td>9983</td>\n",
       "      <td>1</td>\n",
       "    </tr>\n",
       "    <tr>\n",
       "      <th>1997</th>\n",
       "      <td>9996</td>\n",
       "      <td>1</td>\n",
       "    </tr>\n",
       "    <tr>\n",
       "      <th>1998</th>\n",
       "      <td>9999</td>\n",
       "      <td>0</td>\n",
       "    </tr>\n",
       "  </tbody>\n",
       "</table>\n",
       "<p>1999 rows × 2 columns</p>\n",
       "</div>"
      ],
      "text/plain": [
       "         9  1\n",
       "0       15  1\n",
       "1       18  0\n",
       "2       23  0\n",
       "3       31  0\n",
       "4       32  1\n",
       "...    ... ..\n",
       "1994  9971  0\n",
       "1995  9980  0\n",
       "1996  9983  1\n",
       "1997  9996  1\n",
       "1998  9999  0\n",
       "\n",
       "[1999 rows x 2 columns]"
      ]
     },
     "execution_count": 11,
     "metadata": {},
     "output_type": "execute_result"
    }
   ],
   "source": [
    "check"
   ]
  },
  {
   "cell_type": "code",
   "execution_count": null,
   "metadata": {},
   "outputs": [],
   "source": []
  }
 ],
 "metadata": {
  "kernelspec": {
   "display_name": "Python 3",
   "language": "python",
   "name": "python3"
  },
  "language_info": {
   "codemirror_mode": {
    "name": "ipython",
    "version": 3
   },
   "file_extension": ".py",
   "mimetype": "text/x-python",
   "name": "python",
   "nbconvert_exporter": "python",
   "pygments_lexer": "ipython3",
   "version": "3.10.11"
  }
 },
 "nbformat": 4,
 "nbformat_minor": 2
}
