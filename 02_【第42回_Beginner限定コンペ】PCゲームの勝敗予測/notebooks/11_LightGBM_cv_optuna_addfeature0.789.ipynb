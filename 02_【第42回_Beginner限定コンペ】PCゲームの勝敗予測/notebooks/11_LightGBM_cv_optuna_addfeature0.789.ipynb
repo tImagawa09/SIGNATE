{
 "cells": [
  {
   "cell_type": "markdown",
   "metadata": {},
   "source": [
    "# Library"
   ]
  },
  {
   "cell_type": "code",
   "execution_count": 1,
   "metadata": {},
   "outputs": [],
   "source": [
    "import numpy as np\n",
    "import pandas as pd\n",
    "import seaborn as sns\n",
    "import matplotlib.pyplot as plt\n",
    "import optuna\n",
    "\n",
    "\n",
    "from sklearn.metrics import confusion_matrix\n",
    "from sklearn.linear_model import LogisticRegression\n",
    "from sklearn.model_selection import train_test_split, KFold\n",
    "from sklearn.metrics import f1_score\n",
    "\n",
    "import lightgbm as lgb\n",
    "from sklearn.model_selection import train_test_split\n",
    "from sklearn.metrics import accuracy_score"
   ]
  },
  {
   "cell_type": "markdown",
   "metadata": {},
   "source": [
    "# Data Loading"
   ]
  },
  {
   "cell_type": "code",
   "execution_count": 2,
   "metadata": {},
   "outputs": [],
   "source": [
    "train = pd.read_csv('../data/train.csv')\n",
    "test = pd.read_csv('../data/test.csv')"
   ]
  },
  {
   "cell_type": "code",
   "execution_count": 3,
   "metadata": {},
   "outputs": [
    {
     "data": {
      "text/html": [
       "<div>\n",
       "<style scoped>\n",
       "    .dataframe tbody tr th:only-of-type {\n",
       "        vertical-align: middle;\n",
       "    }\n",
       "\n",
       "    .dataframe tbody tr th {\n",
       "        vertical-align: top;\n",
       "    }\n",
       "\n",
       "    .dataframe thead th {\n",
       "        text-align: right;\n",
       "    }\n",
       "</style>\n",
       "<table border=\"1\" class=\"dataframe\">\n",
       "  <thead>\n",
       "    <tr style=\"text-align: right;\">\n",
       "      <th></th>\n",
       "      <th>gameId</th>\n",
       "      <th>blueFirstBlood</th>\n",
       "      <th>blueKills</th>\n",
       "      <th>blueDeaths</th>\n",
       "      <th>blueAssists</th>\n",
       "      <th>blueEliteMonsters</th>\n",
       "      <th>blueDragons</th>\n",
       "      <th>blueTotalGold</th>\n",
       "      <th>blueTotalExperience</th>\n",
       "      <th>blueWins</th>\n",
       "    </tr>\n",
       "  </thead>\n",
       "  <tbody>\n",
       "    <tr>\n",
       "      <th>0</th>\n",
       "      <td>0</td>\n",
       "      <td>0</td>\n",
       "      <td>5</td>\n",
       "      <td>8</td>\n",
       "      <td>6</td>\n",
       "      <td>0</td>\n",
       "      <td>0</td>\n",
       "      <td>14536</td>\n",
       "      <td>17256</td>\n",
       "      <td>0</td>\n",
       "    </tr>\n",
       "    <tr>\n",
       "      <th>1</th>\n",
       "      <td>1</td>\n",
       "      <td>1</td>\n",
       "      <td>10</td>\n",
       "      <td>1</td>\n",
       "      <td>5</td>\n",
       "      <td>0</td>\n",
       "      <td>0</td>\n",
       "      <td>14536</td>\n",
       "      <td>17863</td>\n",
       "      <td>0</td>\n",
       "    </tr>\n",
       "    <tr>\n",
       "      <th>2</th>\n",
       "      <td>2</td>\n",
       "      <td>0</td>\n",
       "      <td>3</td>\n",
       "      <td>10</td>\n",
       "      <td>2</td>\n",
       "      <td>0</td>\n",
       "      <td>0</td>\n",
       "      <td>17409</td>\n",
       "      <td>17256</td>\n",
       "      <td>0</td>\n",
       "    </tr>\n",
       "    <tr>\n",
       "      <th>3</th>\n",
       "      <td>3</td>\n",
       "      <td>1</td>\n",
       "      <td>7</td>\n",
       "      <td>10</td>\n",
       "      <td>8</td>\n",
       "      <td>0</td>\n",
       "      <td>0</td>\n",
       "      <td>19558</td>\n",
       "      <td>18201</td>\n",
       "      <td>0</td>\n",
       "    </tr>\n",
       "    <tr>\n",
       "      <th>4</th>\n",
       "      <td>4</td>\n",
       "      <td>0</td>\n",
       "      <td>4</td>\n",
       "      <td>9</td>\n",
       "      <td>4</td>\n",
       "      <td>0</td>\n",
       "      <td>0</td>\n",
       "      <td>17409</td>\n",
       "      <td>17256</td>\n",
       "      <td>0</td>\n",
       "    </tr>\n",
       "    <tr>\n",
       "      <th>...</th>\n",
       "      <td>...</td>\n",
       "      <td>...</td>\n",
       "      <td>...</td>\n",
       "      <td>...</td>\n",
       "      <td>...</td>\n",
       "      <td>...</td>\n",
       "      <td>...</td>\n",
       "      <td>...</td>\n",
       "      <td>...</td>\n",
       "      <td>...</td>\n",
       "    </tr>\n",
       "    <tr>\n",
       "      <th>7995</th>\n",
       "      <td>9993</td>\n",
       "      <td>1</td>\n",
       "      <td>9</td>\n",
       "      <td>6</td>\n",
       "      <td>14</td>\n",
       "      <td>0</td>\n",
       "      <td>0</td>\n",
       "      <td>18513</td>\n",
       "      <td>18201</td>\n",
       "      <td>1</td>\n",
       "    </tr>\n",
       "    <tr>\n",
       "      <th>7996</th>\n",
       "      <td>9994</td>\n",
       "      <td>0</td>\n",
       "      <td>3</td>\n",
       "      <td>10</td>\n",
       "      <td>4</td>\n",
       "      <td>0</td>\n",
       "      <td>0</td>\n",
       "      <td>17381</td>\n",
       "      <td>19797</td>\n",
       "      <td>0</td>\n",
       "    </tr>\n",
       "    <tr>\n",
       "      <th>7997</th>\n",
       "      <td>9995</td>\n",
       "      <td>1</td>\n",
       "      <td>9</td>\n",
       "      <td>3</td>\n",
       "      <td>9</td>\n",
       "      <td>2</td>\n",
       "      <td>1</td>\n",
       "      <td>18274</td>\n",
       "      <td>18491</td>\n",
       "      <td>1</td>\n",
       "    </tr>\n",
       "    <tr>\n",
       "      <th>7998</th>\n",
       "      <td>9997</td>\n",
       "      <td>0</td>\n",
       "      <td>5</td>\n",
       "      <td>10</td>\n",
       "      <td>6</td>\n",
       "      <td>1</td>\n",
       "      <td>1</td>\n",
       "      <td>18274</td>\n",
       "      <td>18491</td>\n",
       "      <td>1</td>\n",
       "    </tr>\n",
       "    <tr>\n",
       "      <th>7999</th>\n",
       "      <td>9998</td>\n",
       "      <td>0</td>\n",
       "      <td>6</td>\n",
       "      <td>4</td>\n",
       "      <td>5</td>\n",
       "      <td>0</td>\n",
       "      <td>0</td>\n",
       "      <td>17409</td>\n",
       "      <td>17256</td>\n",
       "      <td>0</td>\n",
       "    </tr>\n",
       "  </tbody>\n",
       "</table>\n",
       "<p>8000 rows × 10 columns</p>\n",
       "</div>"
      ],
      "text/plain": [
       "      gameId  blueFirstBlood  blueKills  blueDeaths  blueAssists   \n",
       "0          0               0          5           8            6  \\\n",
       "1          1               1         10           1            5   \n",
       "2          2               0          3          10            2   \n",
       "3          3               1          7          10            8   \n",
       "4          4               0          4           9            4   \n",
       "...      ...             ...        ...         ...          ...   \n",
       "7995    9993               1          9           6           14   \n",
       "7996    9994               0          3          10            4   \n",
       "7997    9995               1          9           3            9   \n",
       "7998    9997               0          5          10            6   \n",
       "7999    9998               0          6           4            5   \n",
       "\n",
       "      blueEliteMonsters  blueDragons  blueTotalGold  blueTotalExperience   \n",
       "0                     0            0          14536                17256  \\\n",
       "1                     0            0          14536                17863   \n",
       "2                     0            0          17409                17256   \n",
       "3                     0            0          19558                18201   \n",
       "4                     0            0          17409                17256   \n",
       "...                 ...          ...            ...                  ...   \n",
       "7995                  0            0          18513                18201   \n",
       "7996                  0            0          17381                19797   \n",
       "7997                  2            1          18274                18491   \n",
       "7998                  1            1          18274                18491   \n",
       "7999                  0            0          17409                17256   \n",
       "\n",
       "      blueWins  \n",
       "0            0  \n",
       "1            0  \n",
       "2            0  \n",
       "3            0  \n",
       "4            0  \n",
       "...        ...  \n",
       "7995         1  \n",
       "7996         0  \n",
       "7997         1  \n",
       "7998         1  \n",
       "7999         0  \n",
       "\n",
       "[8000 rows x 10 columns]"
      ]
     },
     "execution_count": 3,
     "metadata": {},
     "output_type": "execute_result"
    }
   ],
   "source": [
    "train"
   ]
  },
  {
   "cell_type": "code",
   "execution_count": 4,
   "metadata": {},
   "outputs": [
    {
     "data": {
      "text/html": [
       "<div>\n",
       "<style scoped>\n",
       "    .dataframe tbody tr th:only-of-type {\n",
       "        vertical-align: middle;\n",
       "    }\n",
       "\n",
       "    .dataframe tbody tr th {\n",
       "        vertical-align: top;\n",
       "    }\n",
       "\n",
       "    .dataframe thead th {\n",
       "        text-align: right;\n",
       "    }\n",
       "</style>\n",
       "<table border=\"1\" class=\"dataframe\">\n",
       "  <thead>\n",
       "    <tr style=\"text-align: right;\">\n",
       "      <th></th>\n",
       "      <th>gameId</th>\n",
       "      <th>blueFirstBlood</th>\n",
       "      <th>blueKills</th>\n",
       "      <th>blueDeaths</th>\n",
       "      <th>blueAssists</th>\n",
       "      <th>blueEliteMonsters</th>\n",
       "      <th>blueDragons</th>\n",
       "      <th>blueTotalGold</th>\n",
       "      <th>blueTotalExperience</th>\n",
       "    </tr>\n",
       "  </thead>\n",
       "  <tbody>\n",
       "    <tr>\n",
       "      <th>0</th>\n",
       "      <td>9</td>\n",
       "      <td>0</td>\n",
       "      <td>7</td>\n",
       "      <td>6</td>\n",
       "      <td>6</td>\n",
       "      <td>0</td>\n",
       "      <td>0</td>\n",
       "      <td>16961</td>\n",
       "      <td>18201</td>\n",
       "    </tr>\n",
       "    <tr>\n",
       "      <th>1</th>\n",
       "      <td>15</td>\n",
       "      <td>0</td>\n",
       "      <td>6</td>\n",
       "      <td>6</td>\n",
       "      <td>6</td>\n",
       "      <td>2</td>\n",
       "      <td>1</td>\n",
       "      <td>18513</td>\n",
       "      <td>18021</td>\n",
       "    </tr>\n",
       "    <tr>\n",
       "      <th>2</th>\n",
       "      <td>18</td>\n",
       "      <td>1</td>\n",
       "      <td>6</td>\n",
       "      <td>4</td>\n",
       "      <td>3</td>\n",
       "      <td>0</td>\n",
       "      <td>0</td>\n",
       "      <td>13475</td>\n",
       "      <td>17256</td>\n",
       "    </tr>\n",
       "    <tr>\n",
       "      <th>3</th>\n",
       "      <td>23</td>\n",
       "      <td>0</td>\n",
       "      <td>5</td>\n",
       "      <td>4</td>\n",
       "      <td>7</td>\n",
       "      <td>0</td>\n",
       "      <td>0</td>\n",
       "      <td>17409</td>\n",
       "      <td>17256</td>\n",
       "    </tr>\n",
       "    <tr>\n",
       "      <th>4</th>\n",
       "      <td>31</td>\n",
       "      <td>0</td>\n",
       "      <td>10</td>\n",
       "      <td>8</td>\n",
       "      <td>9</td>\n",
       "      <td>0</td>\n",
       "      <td>0</td>\n",
       "      <td>18117</td>\n",
       "      <td>18472</td>\n",
       "    </tr>\n",
       "    <tr>\n",
       "      <th>...</th>\n",
       "      <td>...</td>\n",
       "      <td>...</td>\n",
       "      <td>...</td>\n",
       "      <td>...</td>\n",
       "      <td>...</td>\n",
       "      <td>...</td>\n",
       "      <td>...</td>\n",
       "      <td>...</td>\n",
       "      <td>...</td>\n",
       "    </tr>\n",
       "    <tr>\n",
       "      <th>1995</th>\n",
       "      <td>9971</td>\n",
       "      <td>0</td>\n",
       "      <td>6</td>\n",
       "      <td>3</td>\n",
       "      <td>7</td>\n",
       "      <td>0</td>\n",
       "      <td>0</td>\n",
       "      <td>17409</td>\n",
       "      <td>17256</td>\n",
       "    </tr>\n",
       "    <tr>\n",
       "      <th>1996</th>\n",
       "      <td>9980</td>\n",
       "      <td>0</td>\n",
       "      <td>4</td>\n",
       "      <td>4</td>\n",
       "      <td>4</td>\n",
       "      <td>0</td>\n",
       "      <td>0</td>\n",
       "      <td>17409</td>\n",
       "      <td>17256</td>\n",
       "    </tr>\n",
       "    <tr>\n",
       "      <th>1997</th>\n",
       "      <td>9983</td>\n",
       "      <td>1</td>\n",
       "      <td>6</td>\n",
       "      <td>3</td>\n",
       "      <td>3</td>\n",
       "      <td>1</td>\n",
       "      <td>1</td>\n",
       "      <td>18513</td>\n",
       "      <td>18201</td>\n",
       "    </tr>\n",
       "    <tr>\n",
       "      <th>1998</th>\n",
       "      <td>9996</td>\n",
       "      <td>1</td>\n",
       "      <td>10</td>\n",
       "      <td>9</td>\n",
       "      <td>9</td>\n",
       "      <td>1</td>\n",
       "      <td>1</td>\n",
       "      <td>18513</td>\n",
       "      <td>18201</td>\n",
       "    </tr>\n",
       "    <tr>\n",
       "      <th>1999</th>\n",
       "      <td>9999</td>\n",
       "      <td>0</td>\n",
       "      <td>7</td>\n",
       "      <td>11</td>\n",
       "      <td>8</td>\n",
       "      <td>0</td>\n",
       "      <td>0</td>\n",
       "      <td>18117</td>\n",
       "      <td>18201</td>\n",
       "    </tr>\n",
       "  </tbody>\n",
       "</table>\n",
       "<p>2000 rows × 9 columns</p>\n",
       "</div>"
      ],
      "text/plain": [
       "      gameId  blueFirstBlood  blueKills  blueDeaths  blueAssists   \n",
       "0          9               0          7           6            6  \\\n",
       "1         15               0          6           6            6   \n",
       "2         18               1          6           4            3   \n",
       "3         23               0          5           4            7   \n",
       "4         31               0         10           8            9   \n",
       "...      ...             ...        ...         ...          ...   \n",
       "1995    9971               0          6           3            7   \n",
       "1996    9980               0          4           4            4   \n",
       "1997    9983               1          6           3            3   \n",
       "1998    9996               1         10           9            9   \n",
       "1999    9999               0          7          11            8   \n",
       "\n",
       "      blueEliteMonsters  blueDragons  blueTotalGold  blueTotalExperience  \n",
       "0                     0            0          16961                18201  \n",
       "1                     2            1          18513                18021  \n",
       "2                     0            0          13475                17256  \n",
       "3                     0            0          17409                17256  \n",
       "4                     0            0          18117                18472  \n",
       "...                 ...          ...            ...                  ...  \n",
       "1995                  0            0          17409                17256  \n",
       "1996                  0            0          17409                17256  \n",
       "1997                  1            1          18513                18201  \n",
       "1998                  1            1          18513                18201  \n",
       "1999                  0            0          18117                18201  \n",
       "\n",
       "[2000 rows x 9 columns]"
      ]
     },
     "execution_count": 4,
     "metadata": {},
     "output_type": "execute_result"
    }
   ],
   "source": [
    "test"
   ]
  },
  {
   "cell_type": "markdown",
   "metadata": {},
   "source": [
    "# Feature"
   ]
  },
  {
   "cell_type": "markdown",
   "metadata": {},
   "source": [
    "- 各特長量の説明\n",
    "\n",
    "| ヘッダ名称            | データ型 | 説明                                                       |\n",
    "|---------------------|-------|----------------------------------------------------------|\n",
    "| gameId             | int   | ゲームID                                                    |\n",
    "| blueFirstBlood      | int   | ゲームの最初のキル。青チームが最初のキルを行った場合は1、それ以外の場合は0 |\n",
    "| blueKills           | int   | 青チームによって殺された敵の数                                     |\n",
    "| blueDeaths          | int   | 青チームの死亡者数                                            |\n",
    "| blueAssists         | int   | 青チームのキルアシストの数                                      |\n",
    "| blueEliteMonsters   | int   | 青チームによって殺されたエリートモンスターの数（ドラゴンとヘラルド）       |\n",
    "| blueDragons         | int   | 青チームによって殺されたドラゴンの数                               |\n",
    "| blueTotalGold       | int   | 青チームの得たゴールド合計                                       |\n",
    "| blueTotalExperience | int   | 青チームの得た経験値合計                                       |\n",
    "| blueWins            | int   | 目的変数（青チームが勝った場合は1、それ以外の場合は0。）                |\n",
    "\n",
    "\n",
    "gameIdとgoldは相関無さそう"
   ]
  },
  {
   "cell_type": "markdown",
   "metadata": {},
   "source": [
    "# Feature Engineering"
   ]
  },
  {
   "cell_type": "markdown",
   "metadata": {},
   "source": [
    "- Add new feature"
   ]
  },
  {
   "cell_type": "code",
   "execution_count": 5,
   "metadata": {},
   "outputs": [],
   "source": [
    "def add_features(df):\n",
    "    df['assistRate'] = df['blueAssists'] / (df['blueKills'] + 1)\n",
    "    df['blueHerald'] = (df['blueEliteMonsters'] - df['blueDragons']).clip(lower=0)\n",
    "    df['eliteMonsterDragonRatio'] = df['blueEliteMonsters'] / (df['blueDragons'] + 1)\n",
    "    df['logTotalGold'] = np.log1p(df['blueTotalGold'])\n",
    "    df['logTotalExperience'] = np.log1p(df['blueTotalExperience'])\n",
    "    df['firstBloodKillRatio'] = df['blueFirstBlood'] * df['blueKills']\n",
    "    df['totalCombatPoints'] = df['blueKills'] + df['blueDeaths'] + df['blueAssists']\n",
    "\n",
    "    total_combat_actions = df['blueKills'] + df['blueDeaths'] + df['blueAssists']\n",
    "    df['killRatio'] = df['blueKills'] / total_combat_actions\n",
    "    df['deathRatio'] = df['blueDeaths'] / total_combat_actions\n",
    "    df['assistRatio'] = df['blueAssists'] / total_combat_actions\n",
    "\n",
    "    df['teamStrength'] = df['blueKills'] + df['blueAssists'] + df['blueEliteMonsters']\n",
    "    df['dragonKillImpact'] = df['blueDragons'] / (df['blueKills'] + 1)\n",
    "    df['eliteMonsterUtilization'] = df['blueEliteMonsters'] / (df['blueKills'] + df['blueAssists'] + 1)\n",
    "    df['goldExperienceRatio'] = df['blueTotalGold'] / (df['blueTotalExperience'] + 1)\n",
    "    df['teamEfficiency'] = (df['blueKills'] + df['blueAssists'] + df['blueEliteMonsters']) / (df['blueDeaths'] + 1)\n",
    "    df['killToMonsterRatio'] = df['blueKills'] / (df['blueEliteMonsters'] + 1)\n",
    "    df['avgGoldPerKill'] = df['blueTotalGold'] / (df['blueKills'] + 1)\n",
    "    df['expToKillRatio'] = df['blueTotalExperience'] / (df['blueKills'] + 1)\n",
    "    df['killsMinusDeaths'] = df['blueKills'] - df['blueDeaths']\n",
    "    df['killDeathRatio'] = df['blueKills'] / (df['blueKills'] + df['blueDeaths'])\n",
    "    df['avgExperiencePerKill'] = df['blueTotalExperience'] / (df['blueKills'] + 1)\n",
    "    df['killDeathDiff'] = (df['blueKills'] - df['blueDeaths']).clip(lower=0)\n",
    "    df['eliteMonsterHeraldRatio'] = df['blueEliteMonsters'] / (df['blueHerald'] + 1)\n",
    "    df['goldXexperience'] = np.log1p(df['blueTotalGold'] * df['blueTotalExperience'])\n",
    "    df['goldPerKill'] = df['blueTotalGold'] / (df['blueKills'] + 1)  # ゼロ除算を防ぐために+1\n",
    "    df['experiencePerKill'] = df['blueTotalExperience'] / (df['blueKills'] + 1)  # ゼロ除算を防ぐために+1\n",
    "    df['eliteMonstersPerGold'] = df['blueEliteMonsters'] / df['blueTotalGold']\n",
    "    df['eliteMonstersPerExperience'] = df['blueEliteMonsters'] / df['blueTotalExperience']\n",
    "\n",
    "    \n",
    "    return df"
   ]
  },
  {
   "cell_type": "markdown",
   "metadata": {},
   "source": [
    "- Apply data"
   ]
  },
  {
   "cell_type": "code",
   "execution_count": 6,
   "metadata": {},
   "outputs": [],
   "source": [
    "train = add_features(train)\n",
    "test = add_features(test)"
   ]
  },
  {
   "cell_type": "markdown",
   "metadata": {},
   "source": [
    "# model"
   ]
  },
  {
   "cell_type": "markdown",
   "metadata": {},
   "source": [
    "- LightGBM"
   ]
  },
  {
   "cell_type": "code",
   "execution_count": 7,
   "metadata": {},
   "outputs": [
    {
     "name": "stderr",
     "output_type": "stream",
     "text": [
      "[I 2024-01-25 09:33:04,048] A new study created in memory with name: no-name-ab8d2c68-1c2d-4788-a205-20761eae1d8d\n",
      "[I 2024-01-25 09:33:04,115] Trial 0 finished with value: 0.79875 and parameters: {'lambda_l1': 0.4009290218772377, 'lambda_l2': 0.0004396615017244955, 'num_leaves': 60, 'feature_fraction': 0.6201472238263483, 'bagging_fraction': 0.8924902874434768, 'bagging_freq': 6, 'min_child_samples': 74}. Best is trial 0 with value: 0.79875.\n",
      "[I 2024-01-25 09:33:04,167] Trial 1 finished with value: 0.789375 and parameters: {'lambda_l1': 1.0763856700487895, 'lambda_l2': 2.5283158844887416e-07, 'num_leaves': 80, 'feature_fraction': 0.5779005214777078, 'bagging_fraction': 0.43741639476747396, 'bagging_freq': 2, 'min_child_samples': 65}. Best is trial 0 with value: 0.79875.\n"
     ]
    },
    {
     "name": "stdout",
     "output_type": "stream",
     "text": [
      "Training until validation scores don't improve for 10 rounds\n",
      "Early stopping, best iteration is:\n",
      "[14]\tvalid_0's binary_error: 0.20125\n",
      "Training until validation scores don't improve for 10 rounds\n",
      "Early stopping, best iteration is:\n",
      "[14]\tvalid_0's binary_error: 0.210625\n",
      "Training until validation scores don't improve for 10 rounds\n",
      "Early stopping, best iteration is:\n",
      "[40]\tvalid_0's binary_error: 0.195625\n"
     ]
    },
    {
     "name": "stderr",
     "output_type": "stream",
     "text": [
      "[I 2024-01-25 09:33:04,338] Trial 2 finished with value: 0.804375 and parameters: {'lambda_l1': 2.3444748774623005e-05, 'lambda_l2': 0.00013041495968429525, 'num_leaves': 62, 'feature_fraction': 0.7717750010789071, 'bagging_fraction': 0.8262393175356348, 'bagging_freq': 5, 'min_child_samples': 95}. Best is trial 2 with value: 0.804375.\n",
      "[I 2024-01-25 09:33:04,448] Trial 3 finished with value: 0.801875 and parameters: {'lambda_l1': 0.0003853142886558033, 'lambda_l2': 1.636103107498399e-05, 'num_leaves': 121, 'feature_fraction': 0.5713210051898221, 'bagging_fraction': 0.9481695765366193, 'bagging_freq': 2, 'min_child_samples': 95}. Best is trial 2 with value: 0.804375.\n",
      "[I 2024-01-25 09:33:04,503] Trial 4 finished with value: 0.80125 and parameters: {'lambda_l1': 0.6644982038799359, 'lambda_l2': 0.019190597433624817, 'num_leaves': 85, 'feature_fraction': 0.7027154116059522, 'bagging_fraction': 0.6109266932521388, 'bagging_freq': 4, 'min_child_samples': 38}. Best is trial 2 with value: 0.804375.\n"
     ]
    },
    {
     "name": "stdout",
     "output_type": "stream",
     "text": [
      "Training until validation scores don't improve for 10 rounds\n",
      "Early stopping, best iteration is:\n",
      "[20]\tvalid_0's binary_error: 0.198125\n",
      "Training until validation scores don't improve for 10 rounds\n",
      "Early stopping, best iteration is:\n",
      "[15]\tvalid_0's binary_error: 0.19875\n",
      "Training until validation scores don't improve for 10 rounds\n"
     ]
    },
    {
     "name": "stderr",
     "output_type": "stream",
     "text": [
      "[I 2024-01-25 09:33:04,588] Trial 5 finished with value: 0.803125 and parameters: {'lambda_l1': 0.009625831017939979, 'lambda_l2': 1.0581785785525955e-08, 'num_leaves': 118, 'feature_fraction': 0.6297146598182902, 'bagging_fraction': 0.5617546055719753, 'bagging_freq': 4, 'min_child_samples': 68}. Best is trial 2 with value: 0.804375.\n",
      "[I 2024-01-25 09:33:04,628] Trial 6 finished with value: 0.78 and parameters: {'lambda_l1': 3.2613648908001025, 'lambda_l2': 0.013067091139271668, 'num_leaves': 152, 'feature_fraction': 0.4706588125464564, 'bagging_fraction': 0.587815494751776, 'bagging_freq': 1, 'min_child_samples': 84}. Best is trial 2 with value: 0.804375.\n",
      "[I 2024-01-25 09:33:04,694] Trial 7 finished with value: 0.7925 and parameters: {'lambda_l1': 6.666038275885567e-06, 'lambda_l2': 0.06599556012214772, 'num_leaves': 159, 'feature_fraction': 0.49837082082712697, 'bagging_fraction': 0.5391331658726705, 'bagging_freq': 3, 'min_child_samples': 92}. Best is trial 2 with value: 0.804375.\n"
     ]
    },
    {
     "name": "stdout",
     "output_type": "stream",
     "text": [
      "Early stopping, best iteration is:\n",
      "[18]\tvalid_0's binary_error: 0.196875\n",
      "Training until validation scores don't improve for 10 rounds\n",
      "Early stopping, best iteration is:\n",
      "[3]\tvalid_0's binary_error: 0.22\n",
      "Training until validation scores don't improve for 10 rounds\n",
      "Early stopping, best iteration is:\n",
      "[19]\tvalid_0's binary_error: 0.2075\n",
      "Training until validation scores don't improve for 10 rounds\n"
     ]
    },
    {
     "name": "stderr",
     "output_type": "stream",
     "text": [
      "[I 2024-01-25 09:33:04,787] Trial 8 finished with value: 0.8025 and parameters: {'lambda_l1': 5.936115070787962e-05, 'lambda_l2': 0.0010524996110790107, 'num_leaves': 166, 'feature_fraction': 0.8235936388765108, 'bagging_fraction': 0.9805957398164666, 'bagging_freq': 1, 'min_child_samples': 27}. Best is trial 2 with value: 0.804375.\n",
      "[I 2024-01-25 09:33:04,831] Trial 9 finished with value: 0.78875 and parameters: {'lambda_l1': 9.876448198725262e-08, 'lambda_l2': 2.1081471045270264e-06, 'num_leaves': 34, 'feature_fraction': 0.9670489162089578, 'bagging_fraction': 0.7775298202981378, 'bagging_freq': 6, 'min_child_samples': 59}. Best is trial 2 with value: 0.804375.\n",
      "[I 2024-01-25 09:33:04,958] Trial 10 finished with value: 0.795625 and parameters: {'lambda_l1': 1.1371675291264129e-08, 'lambda_l2': 7.064442369119786, 'num_leaves': 243, 'feature_fraction': 0.7801487519813584, 'bagging_fraction': 0.771993497613098, 'bagging_freq': 7, 'min_child_samples': 7}. Best is trial 2 with value: 0.804375.\n"
     ]
    },
    {
     "name": "stdout",
     "output_type": "stream",
     "text": [
      "Early stopping, best iteration is:\n",
      "[14]\tvalid_0's binary_error: 0.1975\n",
      "Training until validation scores don't improve for 10 rounds\n",
      "Early stopping, best iteration is:\n",
      "[3]\tvalid_0's binary_error: 0.21125\n",
      "Training until validation scores don't improve for 10 rounds\n",
      "Early stopping, best iteration is:\n",
      "[18]\tvalid_0's binary_error: 0.204375\n"
     ]
    },
    {
     "name": "stderr",
     "output_type": "stream",
     "text": [
      "[I 2024-01-25 09:33:05,071] Trial 11 finished with value: 0.8 and parameters: {'lambda_l1': 0.0072702909993815415, 'lambda_l2': 3.1221142409555343e-08, 'num_leaves': 14, 'feature_fraction': 0.7123289541770796, 'bagging_fraction': 0.7015786708220028, 'bagging_freq': 5, 'min_child_samples': 77}. Best is trial 2 with value: 0.804375.\n",
      "[I 2024-01-25 09:33:05,189] Trial 12 finished with value: 0.8075 and parameters: {'lambda_l1': 0.007645647998499773, 'lambda_l2': 1.7980232090640133e-08, 'num_leaves': 111, 'feature_fraction': 0.8627771591977715, 'bagging_fraction': 0.8439640912807145, 'bagging_freq': 4, 'min_child_samples': 47}. Best is trial 12 with value: 0.8075.\n"
     ]
    },
    {
     "name": "stdout",
     "output_type": "stream",
     "text": [
      "Training until validation scores don't improve for 10 rounds\n",
      "Early stopping, best iteration is:\n",
      "[50]\tvalid_0's binary_error: 0.2\n",
      "Training until validation scores don't improve for 10 rounds\n",
      "Early stopping, best iteration is:\n",
      "[18]\tvalid_0's binary_error: 0.1925\n"
     ]
    },
    {
     "name": "stderr",
     "output_type": "stream",
     "text": [
      "[I 2024-01-25 09:33:05,326] Trial 13 finished with value: 0.8075 and parameters: {'lambda_l1': 5.791500625872835e-06, 'lambda_l2': 1.618463456133574e-05, 'num_leaves': 214, 'feature_fraction': 0.8714640056680654, 'bagging_fraction': 0.8620356795021871, 'bagging_freq': 5, 'min_child_samples': 43}. Best is trial 12 with value: 0.8075.\n"
     ]
    },
    {
     "name": "stdout",
     "output_type": "stream",
     "text": [
      "Training until validation scores don't improve for 10 rounds\n",
      "Early stopping, best iteration is:\n",
      "[16]\tvalid_0's binary_error: 0.1925\n",
      "Training until validation scores don't improve for 10 rounds\n"
     ]
    },
    {
     "name": "stderr",
     "output_type": "stream",
     "text": [
      "[I 2024-01-25 09:33:05,500] Trial 14 finished with value: 0.80625 and parameters: {'lambda_l1': 1.2312081045226311e-06, 'lambda_l2': 2.2661055747429947e-06, 'num_leaves': 213, 'feature_fraction': 0.9041213237559478, 'bagging_fraction': 0.8781732067867306, 'bagging_freq': 5, 'min_child_samples': 47}. Best is trial 12 with value: 0.8075.\n",
      "[I 2024-01-25 09:33:05,627] Trial 15 finished with value: 0.803125 and parameters: {'lambda_l1': 0.0008090520259446754, 'lambda_l2': 1.028936365525141e-07, 'num_leaves': 200, 'feature_fraction': 0.8794031699598891, 'bagging_fraction': 0.9961826573641734, 'bagging_freq': 3, 'min_child_samples': 27}. Best is trial 12 with value: 0.8075.\n"
     ]
    },
    {
     "name": "stdout",
     "output_type": "stream",
     "text": [
      "Early stopping, best iteration is:\n",
      "[20]\tvalid_0's binary_error: 0.19375\n",
      "Training until validation scores don't improve for 10 rounds\n",
      "Early stopping, best iteration is:\n",
      "[12]\tvalid_0's binary_error: 0.196875\n"
     ]
    },
    {
     "name": "stderr",
     "output_type": "stream",
     "text": [
      "[I 2024-01-25 09:33:05,734] Trial 16 finished with value: 0.801875 and parameters: {'lambda_l1': 9.258492262983354e-07, 'lambda_l2': 9.215109704914182e-07, 'num_leaves': 242, 'feature_fraction': 0.9913844289460503, 'bagging_fraction': 0.891415301528107, 'bagging_freq': 7, 'min_child_samples': 46}. Best is trial 12 with value: 0.8075.\n",
      "[I 2024-01-25 09:33:05,870] Trial 17 finished with value: 0.8025 and parameters: {'lambda_l1': 0.005907260247626364, 'lambda_l2': 1.4605437926296915e-05, 'num_leaves': 193, 'feature_fraction': 0.8896579040179657, 'bagging_fraction': 0.8079899538178117, 'bagging_freq': 3, 'min_child_samples': 32}. Best is trial 12 with value: 0.8075.\n"
     ]
    },
    {
     "name": "stdout",
     "output_type": "stream",
     "text": [
      "Training until validation scores don't improve for 10 rounds\n",
      "Early stopping, best iteration is:\n",
      "[12]\tvalid_0's binary_error: 0.198125\n",
      "Training until validation scores don't improve for 10 rounds\n",
      "Early stopping, best iteration is:\n",
      "[22]\tvalid_0's binary_error: 0.1975\n"
     ]
    },
    {
     "name": "stderr",
     "output_type": "stream",
     "text": [
      "[I 2024-01-25 09:33:05,978] Trial 18 finished with value: 0.79375 and parameters: {'lambda_l1': 0.060209358474202106, 'lambda_l2': 1.3868979307184555e-08, 'num_leaves': 105, 'feature_fraction': 0.8329354646840744, 'bagging_fraction': 0.7384313573472628, 'bagging_freq': 6, 'min_child_samples': 12}. Best is trial 12 with value: 0.8075.\n",
      "[I 2024-01-25 09:33:06,069] Trial 19 finished with value: 0.800625 and parameters: {'lambda_l1': 0.00016333047708568698, 'lambda_l2': 1.2022301152213524e-07, 'num_leaves': 149, 'feature_fraction': 0.932576556813109, 'bagging_fraction': 0.6737007134059132, 'bagging_freq': 4, 'min_child_samples': 51}. Best is trial 12 with value: 0.8075.\n"
     ]
    },
    {
     "name": "stdout",
     "output_type": "stream",
     "text": [
      "Training until validation scores don't improve for 10 rounds\n",
      "Early stopping, best iteration is:\n",
      "[11]\tvalid_0's binary_error: 0.20625\n",
      "Training until validation scores don't improve for 10 rounds\n",
      "Early stopping, best iteration is:\n",
      "[13]\tvalid_0's binary_error: 0.199375\n"
     ]
    },
    {
     "name": "stderr",
     "output_type": "stream",
     "text": [
      "[I 2024-01-25 09:33:06,229] Trial 20 finished with value: 0.803125 and parameters: {'lambda_l1': 0.0014081719615149715, 'lambda_l2': 5.158312987272492e-07, 'num_leaves': 183, 'feature_fraction': 0.9920133806313416, 'bagging_fraction': 0.8396672842010939, 'bagging_freq': 5, 'min_child_samples': 36}. Best is trial 12 with value: 0.8075.\n",
      "[I 2024-01-25 09:33:06,367] Trial 21 finished with value: 0.806875 and parameters: {'lambda_l1': 3.4618159354592705e-06, 'lambda_l2': 4.244820851496397e-06, 'num_leaves': 220, 'feature_fraction': 0.9017002971101944, 'bagging_fraction': 0.8774297219199513, 'bagging_freq': 5, 'min_child_samples': 45}. Best is trial 12 with value: 0.8075.\n"
     ]
    },
    {
     "name": "stdout",
     "output_type": "stream",
     "text": [
      "Training until validation scores don't improve for 10 rounds\n",
      "Early stopping, best iteration is:\n",
      "[15]\tvalid_0's binary_error: 0.196875\n",
      "Training until validation scores don't improve for 10 rounds\n",
      "Early stopping, best iteration is:\n",
      "[19]\tvalid_0's binary_error: 0.193125\n"
     ]
    },
    {
     "name": "stderr",
     "output_type": "stream",
     "text": [
      "[I 2024-01-25 09:33:06,572] Trial 22 finished with value: 0.804375 and parameters: {'lambda_l1': 4.776191166479679e-06, 'lambda_l2': 2.0205674124267998e-05, 'num_leaves': 220, 'feature_fraction': 0.850841995409939, 'bagging_fraction': 0.919443739385177, 'bagging_freq': 5, 'min_child_samples': 57}. Best is trial 12 with value: 0.8075.\n",
      "[I 2024-01-25 09:33:06,718] Trial 23 finished with value: 0.8025 and parameters: {'lambda_l1': 5.067372633339313e-05, 'lambda_l2': 6.563140748272698e-08, 'num_leaves': 255, 'feature_fraction': 0.9173425313498315, 'bagging_fraction': 0.8452118964735323, 'bagging_freq': 6, 'min_child_samples': 43}. Best is trial 12 with value: 0.8075.\n"
     ]
    },
    {
     "name": "stdout",
     "output_type": "stream",
     "text": [
      "Training until validation scores don't improve for 10 rounds\n",
      "Early stopping, best iteration is:\n",
      "[11]\tvalid_0's binary_error: 0.195625\n",
      "Training until validation scores don't improve for 10 rounds\n",
      "Early stopping, best iteration is:\n",
      "[24]\tvalid_0's binary_error: 0.1975\n"
     ]
    },
    {
     "name": "stderr",
     "output_type": "stream",
     "text": [
      "[I 2024-01-25 09:33:06,831] Trial 24 finished with value: 0.800625 and parameters: {'lambda_l1': 1.2928433374536314e-05, 'lambda_l2': 3.7382129056490138e-06, 'num_leaves': 223, 'feature_fraction': 0.9313597394053076, 'bagging_fraction': 0.9405733570372886, 'bagging_freq': 4, 'min_child_samples': 56}. Best is trial 12 with value: 0.8075.\n",
      "[I 2024-01-25 09:33:06,933] Trial 25 finished with value: 0.796875 and parameters: {'lambda_l1': 0.00016814023136842613, 'lambda_l2': 7.736092438047773e-07, 'num_leaves': 135, 'feature_fraction': 0.7824365520835981, 'bagging_fraction': 0.8570411926443294, 'bagging_freq': 3, 'min_child_samples': 18}. Best is trial 12 with value: 0.8075.\n"
     ]
    },
    {
     "name": "stdout",
     "output_type": "stream",
     "text": [
      "Training until validation scores don't improve for 10 rounds\n",
      "Early stopping, best iteration is:\n",
      "[6]\tvalid_0's binary_error: 0.199375\n",
      "Training until validation scores don't improve for 10 rounds\n",
      "Early stopping, best iteration is:\n",
      "[5]\tvalid_0's binary_error: 0.203125\n"
     ]
    },
    {
     "name": "stderr",
     "output_type": "stream",
     "text": [
      "[I 2024-01-25 09:33:07,069] Trial 26 finished with value: 0.795625 and parameters: {'lambda_l1': 7.130257613870718e-07, 'lambda_l2': 1.4054621441526047e-07, 'num_leaves': 186, 'feature_fraction': 0.860351964602321, 'bagging_fraction': 0.7981038917338048, 'bagging_freq': 5, 'min_child_samples': 20}. Best is trial 12 with value: 0.8075.\n",
      "[I 2024-01-25 09:33:07,190] Trial 27 finished with value: 0.8075 and parameters: {'lambda_l1': 3.4565577118767038e-06, 'lambda_l2': 8.627358161897384e-05, 'num_leaves': 179, 'feature_fraction': 0.9530370361580172, 'bagging_fraction': 0.9027302836671065, 'bagging_freq': 4, 'min_child_samples': 41}. Best is trial 12 with value: 0.8075.\n"
     ]
    },
    {
     "name": "stdout",
     "output_type": "stream",
     "text": [
      "Training until validation scores don't improve for 10 rounds\n",
      "Early stopping, best iteration is:\n",
      "[12]\tvalid_0's binary_error: 0.204375\n",
      "Training until validation scores don't improve for 10 rounds\n",
      "Early stopping, best iteration is:\n",
      "[12]\tvalid_0's binary_error: 0.1925\n"
     ]
    },
    {
     "name": "stderr",
     "output_type": "stream",
     "text": [
      "[I 2024-01-25 09:33:07,311] Trial 28 finished with value: 0.8075 and parameters: {'lambda_l1': 3.259004760885217e-05, 'lambda_l2': 3.8739379946025545e-05, 'num_leaves': 137, 'feature_fraction': 0.9664863040964271, 'bagging_fraction': 0.9033117210625699, 'bagging_freq': 2, 'min_child_samples': 37}. Best is trial 12 with value: 0.8075.\n",
      "[I 2024-01-25 09:33:07,414] Trial 29 finished with value: 0.80125 and parameters: {'lambda_l1': 2.0425791674207399e-07, 'lambda_l2': 0.00038493563581510113, 'num_leaves': 171, 'feature_fraction': 0.9412101055387928, 'bagging_fraction': 0.9305585148674811, 'bagging_freq': 4, 'min_child_samples': 65}. Best is trial 12 with value: 0.8075.\n"
     ]
    },
    {
     "name": "stdout",
     "output_type": "stream",
     "text": [
      "Training until validation scores don't improve for 10 rounds\n",
      "Early stopping, best iteration is:\n",
      "[11]\tvalid_0's binary_error: 0.1925\n",
      "Training until validation scores don't improve for 10 rounds\n",
      "Early stopping, best iteration is:\n",
      "[12]\tvalid_0's binary_error: 0.19875\n"
     ]
    },
    {
     "name": "stderr",
     "output_type": "stream",
     "text": [
      "[I 2024-01-25 09:33:07,568] Trial 30 finished with value: 0.805625 and parameters: {'lambda_l1': 0.10539176882117453, 'lambda_l2': 9.222731712767644e-05, 'num_leaves': 91, 'feature_fraction': 0.8117857977535103, 'bagging_fraction': 0.9657072603183022, 'bagging_freq': 4, 'min_child_samples': 26}. Best is trial 12 with value: 0.8075.\n"
     ]
    },
    {
     "name": "stdout",
     "output_type": "stream",
     "text": [
      "Training until validation scores don't improve for 10 rounds\n",
      "Early stopping, best iteration is:\n",
      "[27]\tvalid_0's binary_error: 0.194375\n",
      "Training until validation scores don't improve for 10 rounds\n"
     ]
    },
    {
     "name": "stderr",
     "output_type": "stream",
     "text": [
      "[I 2024-01-25 09:33:07,709] Trial 31 finished with value: 0.803125 and parameters: {'lambda_l1': 2.882235958357305e-05, 'lambda_l2': 5.532551067954947e-05, 'num_leaves': 138, 'feature_fraction': 0.9629423474190192, 'bagging_fraction': 0.9067413763537248, 'bagging_freq': 2, 'min_child_samples': 39}. Best is trial 12 with value: 0.8075.\n",
      "[I 2024-01-25 09:33:07,811] Trial 32 finished with value: 0.796875 and parameters: {'lambda_l1': 8.592400718964483e-05, 'lambda_l2': 3.9322934222493884e-07, 'num_leaves': 107, 'feature_fraction': 0.8692352945756295, 'bagging_fraction': 0.8998254394675161, 'bagging_freq': 2, 'min_child_samples': 51}. Best is trial 12 with value: 0.8075.\n"
     ]
    },
    {
     "name": "stdout",
     "output_type": "stream",
     "text": [
      "Early stopping, best iteration is:\n",
      "[5]\tvalid_0's binary_error: 0.196875\n",
      "Training until validation scores don't improve for 10 rounds\n",
      "Early stopping, best iteration is:\n",
      "[10]\tvalid_0's binary_error: 0.203125\n",
      "Training until validation scores don't improve for 10 rounds\n"
     ]
    },
    {
     "name": "stderr",
     "output_type": "stream",
     "text": [
      "[I 2024-01-25 09:33:07,950] Trial 33 finished with value: 0.805625 and parameters: {'lambda_l1': 1.6404721654820602e-05, 'lambda_l2': 0.0010319188887976901, 'num_leaves': 59, 'feature_fraction': 0.9970912001087773, 'bagging_fraction': 0.8574585518998803, 'bagging_freq': 3, 'min_child_samples': 32}. Best is trial 12 with value: 0.8075.\n",
      "[I 2024-01-25 09:33:08,108] Trial 34 finished with value: 0.80875 and parameters: {'lambda_l1': 0.00031460009979928115, 'lambda_l2': 1.0917177489631408e-05, 'num_leaves': 125, 'feature_fraction': 0.95723453898861, 'bagging_fraction': 0.9668519217153666, 'bagging_freq': 1, 'min_child_samples': 62}. Best is trial 34 with value: 0.80875.\n"
     ]
    },
    {
     "name": "stdout",
     "output_type": "stream",
     "text": [
      "Early stopping, best iteration is:\n",
      "[28]\tvalid_0's binary_error: 0.194375\n",
      "Training until validation scores don't improve for 10 rounds\n",
      "Early stopping, best iteration is:\n",
      "[20]\tvalid_0's binary_error: 0.19125\n"
     ]
    },
    {
     "name": "stderr",
     "output_type": "stream",
     "text": [
      "[I 2024-01-25 09:33:08,210] Trial 35 finished with value: 0.803125 and parameters: {'lambda_l1': 0.0003383009250934005, 'lambda_l2': 7.114397514660693e-06, 'num_leaves': 69, 'feature_fraction': 0.896781247244309, 'bagging_fraction': 0.9555726338706668, 'bagging_freq': 1, 'min_child_samples': 62}. Best is trial 34 with value: 0.80875.\n",
      "[I 2024-01-25 09:33:08,367] Trial 36 finished with value: 0.80625 and parameters: {'lambda_l1': 0.0013850492012395421, 'lambda_l2': 0.00019998964889525762, 'num_leaves': 111, 'feature_fraction': 0.9411015952407755, 'bagging_fraction': 0.9942968941200613, 'bagging_freq': 6, 'min_child_samples': 73}. Best is trial 34 with value: 0.80875.\n"
     ]
    },
    {
     "name": "stdout",
     "output_type": "stream",
     "text": [
      "Training until validation scores don't improve for 10 rounds\n",
      "Early stopping, best iteration is:\n",
      "[9]\tvalid_0's binary_error: 0.196875\n",
      "Training until validation scores don't improve for 10 rounds\n",
      "Early stopping, best iteration is:\n",
      "[23]\tvalid_0's binary_error: 0.19375\n"
     ]
    },
    {
     "name": "stderr",
     "output_type": "stream",
     "text": [
      "[I 2024-01-25 09:33:08,513] Trial 37 finished with value: 0.80125 and parameters: {'lambda_l1': 0.0004899324840500996, 'lambda_l2': 1.3001887797738162e-05, 'num_leaves': 178, 'feature_fraction': 0.8448304492401816, 'bagging_fraction': 0.9387035397306287, 'bagging_freq': 4, 'min_child_samples': 53}. Best is trial 34 with value: 0.80875.\n"
     ]
    },
    {
     "name": "stdout",
     "output_type": "stream",
     "text": [
      "Training until validation scores don't improve for 10 rounds\n",
      "Early stopping, best iteration is:\n",
      "[8]\tvalid_0's binary_error: 0.19875\n",
      "Training until validation scores don't improve for 10 rounds\n"
     ]
    },
    {
     "name": "stderr",
     "output_type": "stream",
     "text": [
      "[I 2024-01-25 09:33:08,747] Trial 38 finished with value: 0.806875 and parameters: {'lambda_l1': 0.003290604041033396, 'lambda_l2': 3.3011075256109195e-07, 'num_leaves': 203, 'feature_fraction': 0.8079858824426938, 'bagging_fraction': 0.8244570855045135, 'bagging_freq': 3, 'min_child_samples': 70}. Best is trial 34 with value: 0.80875.\n",
      "[I 2024-01-25 09:33:08,873] Trial 39 finished with value: 0.81 and parameters: {'lambda_l1': 0.00013593870445086805, 'lambda_l2': 1.3055286129283043e-06, 'num_leaves': 90, 'feature_fraction': 0.7468836333709001, 'bagging_fraction': 0.9581486349356115, 'bagging_freq': 2, 'min_child_samples': 77}. Best is trial 39 with value: 0.81.\n"
     ]
    },
    {
     "name": "stdout",
     "output_type": "stream",
     "text": [
      "Early stopping, best iteration is:\n",
      "[37]\tvalid_0's binary_error: 0.193125\n",
      "Training until validation scores don't improve for 10 rounds\n",
      "Early stopping, best iteration is:\n",
      "[32]\tvalid_0's binary_error: 0.19\n",
      "Training until validation scores don't improve for 10 rounds\n"
     ]
    },
    {
     "name": "stderr",
     "output_type": "stream",
     "text": [
      "[I 2024-01-25 09:33:09,009] Trial 40 finished with value: 0.81125 and parameters: {'lambda_l1': 0.00012860100939647687, 'lambda_l2': 1.6526228072016892e-06, 'num_leaves': 94, 'feature_fraction': 0.7055653861750666, 'bagging_fraction': 0.9598907709351183, 'bagging_freq': 1, 'min_child_samples': 80}. Best is trial 40 with value: 0.81125.\n",
      "[I 2024-01-25 09:33:09,099] Trial 41 finished with value: 0.8025 and parameters: {'lambda_l1': 0.00014674583552786908, 'lambda_l2': 1.8054245324828534e-06, 'num_leaves': 84, 'feature_fraction': 0.7456212847290634, 'bagging_fraction': 0.9562483894403891, 'bagging_freq': 1, 'min_child_samples': 80}. Best is trial 40 with value: 0.81125.\n",
      "[I 2024-01-25 09:33:09,192] Trial 42 finished with value: 0.800625 and parameters: {'lambda_l1': 0.0003370983932027899, 'lambda_l2': 1.1814749877247259e-06, 'num_leaves': 96, 'feature_fraction': 0.6586843839434019, 'bagging_fraction': 0.9762597684940951, 'bagging_freq': 1, 'min_child_samples': 89}. Best is trial 40 with value: 0.81125.\n"
     ]
    },
    {
     "name": "stdout",
     "output_type": "stream",
     "text": [
      "Early stopping, best iteration is:\n",
      "[44]\tvalid_0's binary_error: 0.18875\n",
      "Training until validation scores don't improve for 10 rounds\n",
      "Early stopping, best iteration is:\n",
      "[9]\tvalid_0's binary_error: 0.1975\n",
      "Training until validation scores don't improve for 10 rounds\n",
      "Early stopping, best iteration is:\n",
      "[15]\tvalid_0's binary_error: 0.199375\n"
     ]
    },
    {
     "name": "stderr",
     "output_type": "stream",
     "text": [
      "[I 2024-01-25 09:33:09,301] Trial 43 finished with value: 0.805625 and parameters: {'lambda_l1': 8.815457303387908e-05, 'lambda_l2': 4.999688818385648e-06, 'num_leaves': 50, 'feature_fraction': 0.7142146881256778, 'bagging_fraction': 0.9970961631357819, 'bagging_freq': 1, 'min_child_samples': 98}. Best is trial 40 with value: 0.81125.\n",
      "[I 2024-01-25 09:33:09,395] Trial 44 finished with value: 0.800625 and parameters: {'lambda_l1': 0.021739194814472847, 'lambda_l2': 2.1760060516596664e-07, 'num_leaves': 121, 'feature_fraction': 0.7388551672543038, 'bagging_fraction': 0.9329732214729017, 'bagging_freq': 1, 'min_child_samples': 84}. Best is trial 40 with value: 0.81125.\n"
     ]
    },
    {
     "name": "stdout",
     "output_type": "stream",
     "text": [
      "Training until validation scores don't improve for 10 rounds\n",
      "Early stopping, best iteration is:\n",
      "[19]\tvalid_0's binary_error: 0.194375\n",
      "Training until validation scores don't improve for 10 rounds\n",
      "Early stopping, best iteration is:\n",
      "[15]\tvalid_0's binary_error: 0.199375\n",
      "Training until validation scores don't improve for 10 rounds\n"
     ]
    },
    {
     "name": "stderr",
     "output_type": "stream",
     "text": [
      "[I 2024-01-25 09:33:09,520] Trial 45 finished with value: 0.81 and parameters: {'lambda_l1': 0.002356964330668222, 'lambda_l2': 2.5043381205894976e-08, 'num_leaves': 72, 'feature_fraction': 0.6695597177846546, 'bagging_fraction': 0.9727094571752549, 'bagging_freq': 2, 'min_child_samples': 75}. Best is trial 40 with value: 0.81125.\n",
      "[I 2024-01-25 09:33:09,619] Trial 46 finished with value: 0.80125 and parameters: {'lambda_l1': 0.0026108013697659104, 'lambda_l2': 3.73130171259034e-08, 'num_leaves': 77, 'feature_fraction': 0.6637642291316465, 'bagging_fraction': 0.9607563449716439, 'bagging_freq': 2, 'min_child_samples': 76}. Best is trial 40 with value: 0.81125.\n"
     ]
    },
    {
     "name": "stdout",
     "output_type": "stream",
     "text": [
      "Early stopping, best iteration is:\n",
      "[32]\tvalid_0's binary_error: 0.19\n",
      "Training until validation scores don't improve for 10 rounds\n",
      "Early stopping, best iteration is:\n",
      "[9]\tvalid_0's binary_error: 0.19875\n",
      "Training until validation scores don't improve for 10 rounds\n"
     ]
    },
    {
     "name": "stderr",
     "output_type": "stream",
     "text": [
      "[I 2024-01-25 09:33:09,737] Trial 47 finished with value: 0.805 and parameters: {'lambda_l1': 0.0008537790850294873, 'lambda_l2': 1.9084373372982555e-08, 'num_leaves': 41, 'feature_fraction': 0.5884968649467422, 'bagging_fraction': 0.971615316539942, 'bagging_freq': 2, 'min_child_samples': 82}. Best is trial 40 with value: 0.81125.\n",
      "[I 2024-01-25 09:33:09,827] Trial 48 finished with value: 0.80125 and parameters: {'lambda_l1': 0.003009499102708645, 'lambda_l2': 3.6780461595300255e-08, 'num_leaves': 20, 'feature_fraction': 0.6774340614521147, 'bagging_fraction': 0.8789257291165619, 'bagging_freq': 1, 'min_child_samples': 68}. Best is trial 40 with value: 0.81125.\n",
      "[I 2024-01-25 09:33:09,926] Trial 49 finished with value: 0.8075 and parameters: {'lambda_l1': 0.01101660227728291, 'lambda_l2': 6.564513338387702e-08, 'num_leaves': 97, 'feature_fraction': 0.7469596170277051, 'bagging_fraction': 0.9998943286971259, 'bagging_freq': 2, 'min_child_samples': 88}. Best is trial 40 with value: 0.81125.\n"
     ]
    },
    {
     "name": "stdout",
     "output_type": "stream",
     "text": [
      "Early stopping, best iteration is:\n",
      "[38]\tvalid_0's binary_error: 0.195\n",
      "Training until validation scores don't improve for 10 rounds\n",
      "Early stopping, best iteration is:\n",
      "[25]\tvalid_0's binary_error: 0.19875\n",
      "Training until validation scores don't improve for 10 rounds\n",
      "Early stopping, best iteration is:\n",
      "[19]\tvalid_0's binary_error: 0.1925\n"
     ]
    },
    {
     "name": "stderr",
     "output_type": "stream",
     "text": [
      "[I 2024-01-25 09:33:10,030] Trial 50 finished with value: 0.805 and parameters: {'lambda_l1': 0.0004687635525658586, 'lambda_l2': 1.0614305092757143e-08, 'num_leaves': 74, 'feature_fraction': 0.6409303323203306, 'bagging_fraction': 0.9231915228503411, 'bagging_freq': 1, 'min_child_samples': 62}. Best is trial 40 with value: 0.81125.\n",
      "[I 2024-01-25 09:33:10,161] Trial 51 finished with value: 0.80875 and parameters: {'lambda_l1': 0.00019909250574723844, 'lambda_l2': 2.3688250433465697e-07, 'num_leaves': 122, 'feature_fraction': 0.6972131172564338, 'bagging_fraction': 0.9479522795857016, 'bagging_freq': 2, 'min_child_samples': 79}. Best is trial 40 with value: 0.81125.\n"
     ]
    },
    {
     "name": "stdout",
     "output_type": "stream",
     "text": [
      "Training until validation scores don't improve for 10 rounds\n",
      "Early stopping, best iteration is:\n",
      "[16]\tvalid_0's binary_error: 0.195\n",
      "Training until validation scores don't improve for 10 rounds\n",
      "Early stopping, best iteration is:\n",
      "[29]\tvalid_0's binary_error: 0.19125\n"
     ]
    },
    {
     "name": "stderr",
     "output_type": "stream",
     "text": [
      "[I 2024-01-25 09:33:10,280] Trial 52 finished with value: 0.804375 and parameters: {'lambda_l1': 0.0010589708714315994, 'lambda_l2': 3.555086055849133e-07, 'num_leaves': 127, 'feature_fraction': 0.6896881085489517, 'bagging_fraction': 0.9482828407685804, 'bagging_freq': 2, 'min_child_samples': 73}. Best is trial 40 with value: 0.81125.\n",
      "[I 2024-01-25 09:33:10,381] Trial 53 finished with value: 0.80125 and parameters: {'lambda_l1': 0.00024511983819760537, 'lambda_l2': 1.0339014893532601e-06, 'num_leaves': 114, 'feature_fraction': 0.7072333536668413, 'bagging_fraction': 0.9732496293810763, 'bagging_freq': 2, 'min_child_samples': 79}. Best is trial 40 with value: 0.81125.\n"
     ]
    },
    {
     "name": "stdout",
     "output_type": "stream",
     "text": [
      "Training until validation scores don't improve for 10 rounds\n",
      "Early stopping, best iteration is:\n",
      "[23]\tvalid_0's binary_error: 0.195625\n",
      "Training until validation scores don't improve for 10 rounds\n",
      "Early stopping, best iteration is:\n",
      "[13]\tvalid_0's binary_error: 0.19875\n",
      "Training until validation scores don't improve for 10 rounds\n"
     ]
    },
    {
     "name": "stderr",
     "output_type": "stream",
     "text": [
      "[I 2024-01-25 09:33:10,495] Trial 54 finished with value: 0.80125 and parameters: {'lambda_l1': 8.18551560925383e-05, 'lambda_l2': 1.6592031983355905e-07, 'num_leaves': 150, 'feature_fraction': 0.618407349995534, 'bagging_fraction': 0.9200314459263819, 'bagging_freq': 1, 'min_child_samples': 90}. Best is trial 40 with value: 0.81125.\n",
      "[I 2024-01-25 09:33:10,616] Trial 55 finished with value: 0.801875 and parameters: {'lambda_l1': 0.0006082659901828807, 'lambda_l2': 6.335303596982394e-08, 'num_leaves': 100, 'feature_fraction': 0.7741198800832017, 'bagging_fraction': 0.882857682109438, 'bagging_freq': 2, 'min_child_samples': 86}. Best is trial 40 with value: 0.81125.\n"
     ]
    },
    {
     "name": "stdout",
     "output_type": "stream",
     "text": [
      "Early stopping, best iteration is:\n",
      "[30]\tvalid_0's binary_error: 0.19875\n",
      "Training until validation scores don't improve for 10 rounds\n",
      "Early stopping, best iteration is:\n",
      "[11]\tvalid_0's binary_error: 0.198125\n",
      "Training until validation scores don't improve for 10 rounds\n"
     ]
    },
    {
     "name": "stderr",
     "output_type": "stream",
     "text": [
      "[I 2024-01-25 09:33:10,706] Trial 56 finished with value: 0.803125 and parameters: {'lambda_l1': 4.546152483105351e-05, 'lambda_l2': 2.3087666910227512e-08, 'num_leaves': 88, 'feature_fraction': 0.7184076149091498, 'bagging_fraction': 0.9441313135178996, 'bagging_freq': 3, 'min_child_samples': 94}. Best is trial 40 with value: 0.81125.\n",
      "[I 2024-01-25 09:33:10,805] Trial 57 finished with value: 0.8025 and parameters: {'lambda_l1': 0.0017568543266149445, 'lambda_l2': 5.962735131582252e-07, 'num_leaves': 123, 'feature_fraction': 0.7978638865246825, 'bagging_fraction': 0.9832493540404653, 'bagging_freq': 1, 'min_child_samples': 71}. Best is trial 40 with value: 0.81125.\n"
     ]
    },
    {
     "name": "stdout",
     "output_type": "stream",
     "text": [
      "Early stopping, best iteration is:\n",
      "[9]\tvalid_0's binary_error: 0.196875\n",
      "Training until validation scores don't improve for 10 rounds\n",
      "Early stopping, best iteration is:\n",
      "[10]\tvalid_0's binary_error: 0.1975\n",
      "Training until validation scores don't improve for 10 rounds\n"
     ]
    },
    {
     "name": "stderr",
     "output_type": "stream",
     "text": [
      "[I 2024-01-25 09:33:10,953] Trial 58 finished with value: 0.805625 and parameters: {'lambda_l1': 0.0047376473378685485, 'lambda_l2': 2.0157513980428908e-07, 'num_leaves': 65, 'feature_fraction': 0.8294328607192465, 'bagging_fraction': 0.92039808782272, 'bagging_freq': 2, 'min_child_samples': 66}. Best is trial 40 with value: 0.81125.\n",
      "[I 2024-01-25 09:33:11,077] Trial 59 finished with value: 0.806875 and parameters: {'lambda_l1': 0.0002338302575596674, 'lambda_l2': 6.655073970248344e-08, 'num_leaves': 57, 'feature_fraction': 0.7340041174824121, 'bagging_fraction': 0.9511604086895129, 'bagging_freq': 3, 'min_child_samples': 79}. Best is trial 40 with value: 0.81125.\n"
     ]
    },
    {
     "name": "stdout",
     "output_type": "stream",
     "text": [
      "Early stopping, best iteration is:\n",
      "[20]\tvalid_0's binary_error: 0.194375\n",
      "Training until validation scores don't improve for 10 rounds\n",
      "Early stopping, best iteration is:\n",
      "[28]\tvalid_0's binary_error: 0.193125\n",
      "Training until validation scores don't improve for 10 rounds\n"
     ]
    },
    {
     "name": "stderr",
     "output_type": "stream",
     "text": [
      "[I 2024-01-25 09:33:11,198] Trial 60 finished with value: 0.809375 and parameters: {'lambda_l1': 0.0007698316063598621, 'lambda_l2': 1.2047472219174766e-06, 'num_leaves': 160, 'feature_fraction': 0.680753871144187, 'bagging_fraction': 0.9738686839440042, 'bagging_freq': 7, 'min_child_samples': 61}. Best is trial 40 with value: 0.81125.\n",
      "[I 2024-01-25 09:33:11,331] Trial 61 finished with value: 0.80875 and parameters: {'lambda_l1': 0.0008129201330158856, 'lambda_l2': 2.426630560838982e-06, 'num_leaves': 162, 'feature_fraction': 0.6934822640955007, 'bagging_fraction': 0.9784340002747592, 'bagging_freq': 7, 'min_child_samples': 60}. Best is trial 40 with value: 0.81125.\n"
     ]
    },
    {
     "name": "stdout",
     "output_type": "stream",
     "text": [
      "Early stopping, best iteration is:\n",
      "[22]\tvalid_0's binary_error: 0.190625\n",
      "Training until validation scores don't improve for 10 rounds\n",
      "Early stopping, best iteration is:\n",
      "[19]\tvalid_0's binary_error: 0.19125\n"
     ]
    },
    {
     "name": "stderr",
     "output_type": "stream",
     "text": [
      "[I 2024-01-25 09:33:11,457] Trial 62 finished with value: 0.8075 and parameters: {'lambda_l1': 0.0006228478210330391, 'lambda_l2': 1.395206948828642e-06, 'num_leaves': 144, 'feature_fraction': 0.684126152199386, 'bagging_fraction': 0.9776970914304375, 'bagging_freq': 7, 'min_child_samples': 76}. Best is trial 40 with value: 0.81125.\n",
      "[I 2024-01-25 09:33:11,549] Trial 63 finished with value: 0.79625 and parameters: {'lambda_l1': 0.00013906370666591763, 'lambda_l2': 2.893020952973273e-06, 'num_leaves': 157, 'feature_fraction': 0.6956899329415525, 'bagging_fraction': 0.9816589948136099, 'bagging_freq': 7, 'min_child_samples': 62}. Best is trial 40 with value: 0.81125.\n"
     ]
    },
    {
     "name": "stdout",
     "output_type": "stream",
     "text": [
      "Training until validation scores don't improve for 10 rounds\n",
      "Early stopping, best iteration is:\n",
      "[20]\tvalid_0's binary_error: 0.1925\n",
      "Training until validation scores don't improve for 10 rounds\n",
      "Early stopping, best iteration is:\n",
      "[3]\tvalid_0's binary_error: 0.20375\n"
     ]
    },
    {
     "name": "stderr",
     "output_type": "stream",
     "text": [
      "[I 2024-01-25 09:33:11,650] Trial 64 finished with value: 0.80125 and parameters: {'lambda_l1': 0.0015381982386261915, 'lambda_l2': 2.1056720871863596e-06, 'num_leaves': 161, 'feature_fraction': 0.7575223652075376, 'bagging_fraction': 0.9997644003843206, 'bagging_freq': 7, 'min_child_samples': 59}. Best is trial 40 with value: 0.81125.\n",
      "[I 2024-01-25 09:33:11,755] Trial 65 finished with value: 0.80625 and parameters: {'lambda_l1': 0.0002528414168572989, 'lambda_l2': 6.00763510392515e-07, 'num_leaves': 132, 'feature_fraction': 0.7246422455309389, 'bagging_fraction': 0.9666275701068459, 'bagging_freq': 7, 'min_child_samples': 67}. Best is trial 40 with value: 0.81125.\n"
     ]
    },
    {
     "name": "stdout",
     "output_type": "stream",
     "text": [
      "Training until validation scores don't improve for 10 rounds\n",
      "Early stopping, best iteration is:\n",
      "[5]\tvalid_0's binary_error: 0.19875\n",
      "Training until validation scores don't improve for 10 rounds\n",
      "Early stopping, best iteration is:\n",
      "[12]\tvalid_0's binary_error: 0.19375\n"
     ]
    },
    {
     "name": "stderr",
     "output_type": "stream",
     "text": [
      "[I 2024-01-25 09:33:11,881] Trial 66 finished with value: 0.805625 and parameters: {'lambda_l1': 6.510062601795061e-05, 'lambda_l2': 8.00500910844324e-06, 'num_leaves': 144, 'feature_fraction': 0.7649548681977044, 'bagging_fraction': 0.9360866047880602, 'bagging_freq': 6, 'min_child_samples': 55}. Best is trial 40 with value: 0.81125.\n",
      "[I 2024-01-25 09:33:11,977] Trial 67 finished with value: 0.805 and parameters: {'lambda_l1': 0.0008237390588149247, 'lambda_l2': 2.7522035286895185e-06, 'num_leaves': 164, 'feature_fraction': 0.6978264451264062, 'bagging_fraction': 0.9105593341827304, 'bagging_freq': 1, 'min_child_samples': 70}. Best is trial 40 with value: 0.81125.\n"
     ]
    },
    {
     "name": "stdout",
     "output_type": "stream",
     "text": [
      "Training until validation scores don't improve for 10 rounds\n",
      "Early stopping, best iteration is:\n",
      "[21]\tvalid_0's binary_error: 0.194375\n",
      "Training until validation scores don't improve for 10 rounds\n",
      "Early stopping, best iteration is:\n",
      "[11]\tvalid_0's binary_error: 0.195\n"
     ]
    },
    {
     "name": "stderr",
     "output_type": "stream",
     "text": [
      "[I 2024-01-25 09:33:12,094] Trial 68 finished with value: 0.808125 and parameters: {'lambda_l1': 2.9052587863565622e-05, 'lambda_l2': 9.363116455349228e-07, 'num_leaves': 116, 'feature_fraction': 0.6671393357630133, 'bagging_fraction': 0.9546485349750021, 'bagging_freq': 2, 'min_child_samples': 59}. Best is trial 40 with value: 0.81125.\n",
      "[I 2024-01-25 09:33:12,208] Trial 69 finished with value: 0.810625 and parameters: {'lambda_l1': 0.0001193554296995601, 'lambda_l2': 3.503593232962135e-07, 'num_leaves': 172, 'feature_fraction': 0.6515707742548601, 'bagging_fraction': 0.891300674918983, 'bagging_freq': 7, 'min_child_samples': 82}. Best is trial 40 with value: 0.81125.\n"
     ]
    },
    {
     "name": "stdout",
     "output_type": "stream",
     "text": [
      "Training until validation scores don't improve for 10 rounds\n",
      "Early stopping, best iteration is:\n",
      "[16]\tvalid_0's binary_error: 0.191875\n",
      "Training until validation scores don't improve for 10 rounds\n",
      "Early stopping, best iteration is:\n",
      "[26]\tvalid_0's binary_error: 0.189375\n"
     ]
    },
    {
     "name": "stderr",
     "output_type": "stream",
     "text": [
      "[I 2024-01-25 09:33:12,339] Trial 70 finished with value: 0.80125 and parameters: {'lambda_l1': 1.2347729975555834e-05, 'lambda_l2': 4.2116297985841776e-07, 'num_leaves': 105, 'feature_fraction': 0.6230463810893778, 'bagging_fraction': 0.8959364250341644, 'bagging_freq': 6, 'min_child_samples': 86}. Best is trial 40 with value: 0.81125.\n"
     ]
    },
    {
     "name": "stdout",
     "output_type": "stream",
     "text": [
      "Training until validation scores don't improve for 10 rounds\n",
      "Early stopping, best iteration is:\n",
      "[26]\tvalid_0's binary_error: 0.19875\n",
      "Training until validation scores don't improve for 10 rounds\n",
      "Early stopping, best iteration is:\n",
      "[22]\tvalid_0's binary_error: 0.20125\n"
     ]
    },
    {
     "name": "stderr",
     "output_type": "stream",
     "text": [
      "[I 2024-01-25 09:33:12,495] Trial 71 finished with value: 0.79875 and parameters: {'lambda_l1': 0.00015228620032253518, 'lambda_l2': 2.517176775322641e-07, 'num_leaves': 194, 'feature_fraction': 0.6499174762227601, 'bagging_fraction': 0.9314832067313176, 'bagging_freq': 7, 'min_child_samples': 82}. Best is trial 40 with value: 0.81125.\n",
      "[I 2024-01-25 09:33:12,599] Trial 72 finished with value: 0.80375 and parameters: {'lambda_l1': 0.0004065792878014859, 'lambda_l2': 1.4217081239313866e-06, 'num_leaves': 171, 'feature_fraction': 0.6708433924587501, 'bagging_fraction': 0.963700755435597, 'bagging_freq': 7, 'min_child_samples': 75}. Best is trial 40 with value: 0.81125.\n",
      "[I 2024-01-25 09:33:12,724] Trial 73 finished with value: 0.80375 and parameters: {'lambda_l1': 0.00011254607269184315, 'lambda_l2': 5.592306949122758e-06, 'num_leaves': 82, 'feature_fraction': 0.7032918694734448, 'bagging_fraction': 0.98259815791922, 'bagging_freq': 7, 'min_child_samples': 49}. Best is trial 40 with value: 0.81125.\n"
     ]
    },
    {
     "name": "stdout",
     "output_type": "stream",
     "text": [
      "Training until validation scores don't improve for 10 rounds\n",
      "Early stopping, best iteration is:\n",
      "[14]\tvalid_0's binary_error: 0.19625\n",
      "Training until validation scores don't improve for 10 rounds\n",
      "Early stopping, best iteration is:\n",
      "[13]\tvalid_0's binary_error: 0.19625\n"
     ]
    },
    {
     "name": "stderr",
     "output_type": "stream",
     "text": [
      "[I 2024-01-25 09:33:12,843] Trial 74 finished with value: 0.805 and parameters: {'lambda_l1': 4.710007398040119e-05, 'lambda_l2': 3.4600207031083014e-06, 'num_leaves': 155, 'feature_fraction': 0.640148036532398, 'bagging_fraction': 0.9154121728004648, 'bagging_freq': 6, 'min_child_samples': 78}. Best is trial 40 with value: 0.81125.\n",
      "[I 2024-01-25 09:33:12,957] Trial 75 finished with value: 0.809375 and parameters: {'lambda_l1': 0.00024153489384331892, 'lambda_l2': 1.1702958198519451e-07, 'num_leaves': 169, 'feature_fraction': 0.6821550826505158, 'bagging_fraction': 0.9365341588724974, 'bagging_freq': 7, 'min_child_samples': 64}. Best is trial 40 with value: 0.81125.\n"
     ]
    },
    {
     "name": "stdout",
     "output_type": "stream",
     "text": [
      "Training until validation scores don't improve for 10 rounds\n",
      "Early stopping, best iteration is:\n",
      "[20]\tvalid_0's binary_error: 0.195\n",
      "Training until validation scores don't improve for 10 rounds\n",
      "Early stopping, best iteration is:\n",
      "[18]\tvalid_0's binary_error: 0.190625\n"
     ]
    },
    {
     "name": "stderr",
     "output_type": "stream",
     "text": [
      "[I 2024-01-25 09:33:13,093] Trial 76 finished with value: 0.80625 and parameters: {'lambda_l1': 0.00021584332753371338, 'lambda_l2': 1.2521376754396226e-07, 'num_leaves': 174, 'feature_fraction': 0.6558141573128963, 'bagging_fraction': 0.9455771172739866, 'bagging_freq': 1, 'min_child_samples': 64}. Best is trial 40 with value: 0.81125.\n",
      "[I 2024-01-25 09:33:13,211] Trial 77 finished with value: 0.80625 and parameters: {'lambda_l1': 0.0003655031163331761, 'lambda_l2': 6.080282851472043e-07, 'num_leaves': 142, 'feature_fraction': 0.6781052944242427, 'bagging_fraction': 0.8694959092390372, 'bagging_freq': 2, 'min_child_samples': 74}. Best is trial 40 with value: 0.81125.\n"
     ]
    },
    {
     "name": "stdout",
     "output_type": "stream",
     "text": [
      "Training until validation scores don't improve for 10 rounds\n",
      "Early stopping, best iteration is:\n",
      "[15]\tvalid_0's binary_error: 0.19375\n",
      "Training until validation scores don't improve for 10 rounds\n",
      "Early stopping, best iteration is:\n",
      "[19]\tvalid_0's binary_error: 0.19375\n"
     ]
    },
    {
     "name": "stderr",
     "output_type": "stream",
     "text": [
      "[I 2024-01-25 09:33:13,315] Trial 78 finished with value: 0.805625 and parameters: {'lambda_l1': 9.719784706651692e-05, 'lambda_l2': 1.0896042063373736e-07, 'num_leaves': 189, 'feature_fraction': 0.6036004766563491, 'bagging_fraction': 0.905915598385638, 'bagging_freq': 3, 'min_child_samples': 82}. Best is trial 40 with value: 0.81125.\n",
      "[I 2024-01-25 09:33:13,464] Trial 79 finished with value: 0.80875 and parameters: {'lambda_l1': 3.904363738370681e-05, 'lambda_l2': 2.3639659578587654e-07, 'num_leaves': 126, 'feature_fraction': 0.5699410557684375, 'bagging_fraction': 0.8850340351471293, 'bagging_freq': 6, 'min_child_samples': 71}. Best is trial 40 with value: 0.81125.\n"
     ]
    },
    {
     "name": "stdout",
     "output_type": "stream",
     "text": [
      "Training until validation scores don't improve for 10 rounds\n",
      "Early stopping, best iteration is:\n",
      "[13]\tvalid_0's binary_error: 0.194375\n",
      "Training until validation scores don't improve for 10 rounds\n",
      "Early stopping, best iteration is:\n",
      "[36]\tvalid_0's binary_error: 0.19125\n"
     ]
    },
    {
     "name": "stderr",
     "output_type": "stream",
     "text": [
      "[I 2024-01-25 09:33:13,608] Trial 80 finished with value: 0.8025 and parameters: {'lambda_l1': 0.001673525086375869, 'lambda_l2': 8.384842942756616e-07, 'num_leaves': 89, 'feature_fraction': 0.7294473204402251, 'bagging_fraction': 0.9339132787410648, 'bagging_freq': 7, 'min_child_samples': 93}. Best is trial 40 with value: 0.81125.\n",
      "[I 2024-01-25 09:33:13,728] Trial 81 finished with value: 0.805 and parameters: {'lambda_l1': 0.0007477303381201782, 'lambda_l2': 1.4420507047014863e-06, 'num_leaves': 202, 'feature_fraction': 0.6909302525160872, 'bagging_fraction': 0.9651263731150247, 'bagging_freq': 7, 'min_child_samples': 57}. Best is trial 40 with value: 0.81125.\n"
     ]
    },
    {
     "name": "stdout",
     "output_type": "stream",
     "text": [
      "Training until validation scores don't improve for 10 rounds\n",
      "Early stopping, best iteration is:\n",
      "[15]\tvalid_0's binary_error: 0.1975\n",
      "Training until validation scores don't improve for 10 rounds\n",
      "Early stopping, best iteration is:\n",
      "[16]\tvalid_0's binary_error: 0.195\n"
     ]
    },
    {
     "name": "stderr",
     "output_type": "stream",
     "text": [
      "[I 2024-01-25 09:33:13,842] Trial 82 finished with value: 0.803125 and parameters: {'lambda_l1': 0.0001939116691540884, 'lambda_l2': 4.1512550723312427e-07, 'num_leaves': 166, 'feature_fraction': 0.7148882525690565, 'bagging_fraction': 0.9815244994926585, 'bagging_freq': 7, 'min_child_samples': 68}. Best is trial 40 with value: 0.81125.\n",
      "[I 2024-01-25 09:33:13,962] Trial 83 finished with value: 0.804375 and parameters: {'lambda_l1': 0.00048452828420052164, 'lambda_l2': 1.990671784374764e-06, 'num_leaves': 151, 'feature_fraction': 0.6800100559767815, 'bagging_fraction': 0.9506418347484111, 'bagging_freq': 7, 'min_child_samples': 64}. Best is trial 40 with value: 0.81125.\n"
     ]
    },
    {
     "name": "stdout",
     "output_type": "stream",
     "text": [
      "Training until validation scores don't improve for 10 rounds\n",
      "Early stopping, best iteration is:\n",
      "[10]\tvalid_0's binary_error: 0.196875\n",
      "Training until validation scores don't improve for 10 rounds\n",
      "Early stopping, best iteration is:\n",
      "[21]\tvalid_0's binary_error: 0.195625\n"
     ]
    },
    {
     "name": "stderr",
     "output_type": "stream",
     "text": [
      "[I 2024-01-25 09:33:14,093] Trial 84 finished with value: 0.804375 and parameters: {'lambda_l1': 0.0010853682643105237, 'lambda_l2': 2.652392144282343e-05, 'num_leaves': 181, 'feature_fraction': 0.6481946262457511, 'bagging_fraction': 0.9221171454784285, 'bagging_freq': 6, 'min_child_samples': 59}. Best is trial 40 with value: 0.81125.\n",
      "[I 2024-01-25 09:33:14,240] Trial 85 finished with value: 0.808125 and parameters: {'lambda_l1': 6.09394784411097e-05, 'lambda_l2': 1.0090059997900946e-05, 'num_leaves': 73, 'feature_fraction': 0.7456507026588545, 'bagging_fraction': 0.9884379900364005, 'bagging_freq': 7, 'min_child_samples': 84}. Best is trial 40 with value: 0.81125.\n"
     ]
    },
    {
     "name": "stdout",
     "output_type": "stream",
     "text": [
      "Training until validation scores don't improve for 10 rounds\n",
      "Early stopping, best iteration is:\n",
      "[21]\tvalid_0's binary_error: 0.195625\n",
      "Training until validation scores don't improve for 10 rounds\n",
      "Early stopping, best iteration is:\n",
      "[42]\tvalid_0's binary_error: 0.191875\n"
     ]
    },
    {
     "name": "stderr",
     "output_type": "stream",
     "text": [
      "[I 2024-01-25 09:33:14,381] Trial 86 finished with value: 0.80625 and parameters: {'lambda_l1': 1.9337258804407214e-05, 'lambda_l2': 4.542689505981293e-06, 'num_leaves': 168, 'feature_fraction': 0.7042056093358343, 'bagging_fraction': 0.9650642102608961, 'bagging_freq': 1, 'min_child_samples': 54}. Best is trial 40 with value: 0.81125.\n",
      "[I 2024-01-25 09:33:14,476] Trial 87 finished with value: 0.799375 and parameters: {'lambda_l1': 0.0003072426728364812, 'lambda_l2': 2.996896776295427e-07, 'num_leaves': 130, 'feature_fraction': 0.8809926875739197, 'bagging_fraction': 0.9352960956771368, 'bagging_freq': 2, 'min_child_samples': 72}. Best is trial 40 with value: 0.81125.\n"
     ]
    },
    {
     "name": "stdout",
     "output_type": "stream",
     "text": [
      "Training until validation scores don't improve for 10 rounds\n",
      "Early stopping, best iteration is:\n",
      "[31]\tvalid_0's binary_error: 0.19375\n",
      "Training until validation scores don't improve for 10 rounds\n",
      "Early stopping, best iteration is:\n",
      "[7]\tvalid_0's binary_error: 0.200625\n"
     ]
    },
    {
     "name": "stderr",
     "output_type": "stream",
     "text": [
      "[I 2024-01-25 09:33:14,623] Trial 88 finished with value: 0.801875 and parameters: {'lambda_l1': 0.0024435737336495783, 'lambda_l2': 7.736788877317078e-07, 'num_leaves': 102, 'feature_fraction': 0.7232154556585125, 'bagging_fraction': 0.9547144513091829, 'bagging_freq': 7, 'min_child_samples': 76}. Best is trial 40 with value: 0.81125.\n",
      "[I 2024-01-25 09:33:14,743] Trial 89 finished with value: 0.806875 and parameters: {'lambda_l1': 0.00011848776366761986, 'lambda_l2': 1.438366690536529e-07, 'num_leaves': 94, 'feature_fraction': 0.6656035822002581, 'bagging_fraction': 0.8949341607452075, 'bagging_freq': 1, 'min_child_samples': 61}. Best is trial 40 with value: 0.81125.\n"
     ]
    },
    {
     "name": "stdout",
     "output_type": "stream",
     "text": [
      "Training until validation scores don't improve for 10 rounds\n",
      "Early stopping, best iteration is:\n",
      "[6]\tvalid_0's binary_error: 0.198125\n",
      "Training until validation scores don't improve for 10 rounds\n",
      "Early stopping, best iteration is:\n",
      "[20]\tvalid_0's binary_error: 0.193125\n"
     ]
    },
    {
     "name": "stderr",
     "output_type": "stream",
     "text": [
      "[I 2024-01-25 09:33:14,847] Trial 90 finished with value: 0.800625 and parameters: {'lambda_l1': 0.0009831425244540765, 'lambda_l2': 1.1322679877648606e-05, 'num_leaves': 160, 'feature_fraction': 0.6874075971606516, 'bagging_fraction': 0.9921284150239238, 'bagging_freq': 2, 'min_child_samples': 81}. Best is trial 40 with value: 0.81125.\n",
      "[I 2024-01-25 09:33:14,992] Trial 91 finished with value: 0.803125 and parameters: {'lambda_l1': 3.2631421882938374e-05, 'lambda_l2': 2.3476851649557708e-07, 'num_leaves': 111, 'feature_fraction': 0.5206191120316708, 'bagging_fraction': 0.945309151445158, 'bagging_freq': 6, 'min_child_samples': 69}. Best is trial 40 with value: 0.81125.\n"
     ]
    },
    {
     "name": "stdout",
     "output_type": "stream",
     "text": [
      "Training until validation scores don't improve for 10 rounds\n",
      "Early stopping, best iteration is:\n",
      "[10]\tvalid_0's binary_error: 0.199375\n",
      "Training until validation scores don't improve for 10 rounds\n",
      "Early stopping, best iteration is:\n",
      "[22]\tvalid_0's binary_error: 0.196875\n"
     ]
    },
    {
     "name": "stderr",
     "output_type": "stream",
     "text": [
      "[I 2024-01-25 09:33:15,124] Trial 92 finished with value: 0.81 and parameters: {'lambda_l1': 8.458756591144678e-05, 'lambda_l2': 8.143617391587409e-08, 'num_leaves': 126, 'feature_fraction': 0.5652172022885759, 'bagging_fraction': 0.9728803991657924, 'bagging_freq': 7, 'min_child_samples': 66}. Best is trial 40 with value: 0.81125.\n",
      "[I 2024-01-25 09:33:15,268] Trial 93 finished with value: 0.804375 and parameters: {'lambda_l1': 8.510177718688195e-05, 'lambda_l2': 5.0729406589619205e-08, 'num_leaves': 120, 'feature_fraction': 0.7087241341045515, 'bagging_fraction': 0.9787562497904059, 'bagging_freq': 7, 'min_child_samples': 65}. Best is trial 40 with value: 0.81125.\n"
     ]
    },
    {
     "name": "stdout",
     "output_type": "stream",
     "text": [
      "Training until validation scores don't improve for 10 rounds\n",
      "Early stopping, best iteration is:\n",
      "[21]\tvalid_0's binary_error: 0.19\n",
      "Training until validation scores don't improve for 10 rounds\n",
      "Early stopping, best iteration is:\n",
      "[17]\tvalid_0's binary_error: 0.195625\n"
     ]
    },
    {
     "name": "stderr",
     "output_type": "stream",
     "text": [
      "[I 2024-01-25 09:33:15,388] Trial 94 finished with value: 0.8025 and parameters: {'lambda_l1': 0.0001743371711589798, 'lambda_l2': 9.121167856909329e-08, 'num_leaves': 135, 'feature_fraction': 0.6431987970655444, 'bagging_fraction': 0.9723693443939291, 'bagging_freq': 7, 'min_child_samples': 78}. Best is trial 40 with value: 0.81125.\n",
      "[I 2024-01-25 09:33:15,496] Trial 95 finished with value: 0.801875 and parameters: {'lambda_l1': 0.00044349553318026466, 'lambda_l2': 1.701882194034374e-08, 'num_leaves': 144, 'feature_fraction': 0.6341371075744177, 'bagging_fraction': 0.925739747340746, 'bagging_freq': 7, 'min_child_samples': 87}. Best is trial 40 with value: 0.81125.\n"
     ]
    },
    {
     "name": "stdout",
     "output_type": "stream",
     "text": [
      "Training until validation scores don't improve for 10 rounds\n",
      "Early stopping, best iteration is:\n",
      "[16]\tvalid_0's binary_error: 0.1975\n",
      "Training until validation scores don't improve for 10 rounds\n",
      "Early stopping, best iteration is:\n",
      "[21]\tvalid_0's binary_error: 0.198125\n"
     ]
    },
    {
     "name": "stderr",
     "output_type": "stream",
     "text": [
      "[I 2024-01-25 09:33:15,623] Trial 96 finished with value: 0.81 and parameters: {'lambda_l1': 0.0002775580367058764, 'lambda_l2': 9.006131193532101e-08, 'num_leaves': 79, 'feature_fraction': 0.6607001118922315, 'bagging_fraction': 0.9984339844857447, 'bagging_freq': 7, 'min_child_samples': 61}. Best is trial 40 with value: 0.81125.\n"
     ]
    },
    {
     "name": "stdout",
     "output_type": "stream",
     "text": [
      "Training until validation scores don't improve for 10 rounds\n",
      "Early stopping, best iteration is:\n",
      "[20]\tvalid_0's binary_error: 0.19\n",
      "Training until validation scores don't improve for 10 rounds\n",
      "Early stopping, best iteration is:\n",
      "[27]\tvalid_0's binary_error: 0.190625\n"
     ]
    },
    {
     "name": "stderr",
     "output_type": "stream",
     "text": [
      "[I 2024-01-25 09:33:15,779] Trial 97 finished with value: 0.809375 and parameters: {'lambda_l1': 7.530981411301937e-05, 'lambda_l2': 3.990046111647027e-08, 'num_leaves': 80, 'feature_fraction': 0.6586859954097399, 'bagging_fraction': 0.9979930480557655, 'bagging_freq': 3, 'min_child_samples': 51}. Best is trial 40 with value: 0.81125.\n",
      "[I 2024-01-25 09:33:15,890] Trial 98 finished with value: 0.809375 and parameters: {'lambda_l1': 6.526836920378239e-05, 'lambda_l2': 3.054228856348146e-08, 'num_leaves': 52, 'feature_fraction': 0.6572493961763346, 'bagging_fraction': 0.9986865853285513, 'bagging_freq': 3, 'min_child_samples': 52}. Best is trial 40 with value: 0.81125.\n",
      "[I 2024-01-25 09:33:15,991] Trial 99 finished with value: 0.808125 and parameters: {'lambda_l1': 5.9297757325601724e-05, 'lambda_l2': 3.167959274408878e-08, 'num_leaves': 47, 'feature_fraction': 0.6750998097304525, 'bagging_fraction': 0.9995150425599568, 'bagging_freq': 3, 'min_child_samples': 51}. Best is trial 40 with value: 0.81125.\n"
     ]
    },
    {
     "name": "stdout",
     "output_type": "stream",
     "text": [
      "Training until validation scores don't improve for 10 rounds\n",
      "Early stopping, best iteration is:\n",
      "[15]\tvalid_0's binary_error: 0.190625\n",
      "Training until validation scores don't improve for 10 rounds\n",
      "Early stopping, best iteration is:\n",
      "[13]\tvalid_0's binary_error: 0.191875\n"
     ]
    },
    {
     "name": "stderr",
     "output_type": "stream",
     "text": [
      "[I 2024-01-25 09:33:16,068] A new study created in memory with name: no-name-05fa6521-0b4b-45d6-a4a3-277d1ec8219c\n",
      "[I 2024-01-25 09:33:16,206] Trial 0 finished with value: 0.8025 and parameters: {'lambda_l1': 3.3123238137451665, 'lambda_l2': 4.471264432172254e-06, 'num_leaves': 133, 'feature_fraction': 0.8379420917861568, 'bagging_fraction': 0.6622641791330106, 'bagging_freq': 5, 'min_child_samples': 34}. Best is trial 0 with value: 0.8025.\n"
     ]
    },
    {
     "name": "stdout",
     "output_type": "stream",
     "text": [
      "Training until validation scores don't improve for 10 rounds\n",
      "Early stopping, best iteration is:\n",
      "[52]\tvalid_0's binary_error: 0.1975\n",
      "Training until validation scores don't improve for 10 rounds\n"
     ]
    },
    {
     "name": "stderr",
     "output_type": "stream",
     "text": [
      "[I 2024-01-25 09:33:16,304] Trial 1 finished with value: 0.798125 and parameters: {'lambda_l1': 6.541607813813736e-05, 'lambda_l2': 0.04718116378107273, 'num_leaves': 206, 'feature_fraction': 0.814700153025081, 'bagging_fraction': 0.6357527690124218, 'bagging_freq': 3, 'min_child_samples': 60}. Best is trial 0 with value: 0.8025.\n",
      "[I 2024-01-25 09:33:16,413] Trial 2 finished with value: 0.7925 and parameters: {'lambda_l1': 0.03466142703344411, 'lambda_l2': 1.4367570455201643e-06, 'num_leaves': 9, 'feature_fraction': 0.5055887859123807, 'bagging_fraction': 0.7003524150950258, 'bagging_freq': 2, 'min_child_samples': 13}. Best is trial 0 with value: 0.8025.\n",
      "[I 2024-01-25 09:33:16,468] Trial 3 finished with value: 0.801875 and parameters: {'lambda_l1': 7.101919263539698e-08, 'lambda_l2': 7.083200193809697e-06, 'num_leaves': 63, 'feature_fraction': 0.9999602674940355, 'bagging_fraction': 0.6536044804164962, 'bagging_freq': 1, 'min_child_samples': 37}. Best is trial 0 with value: 0.8025.\n"
     ]
    },
    {
     "name": "stdout",
     "output_type": "stream",
     "text": [
      "Early stopping, best iteration is:\n",
      "[20]\tvalid_0's binary_error: 0.201875\n",
      "Training until validation scores don't improve for 10 rounds\n",
      "Early stopping, best iteration is:\n",
      "[47]\tvalid_0's binary_error: 0.2075\n",
      "Training until validation scores don't improve for 10 rounds\n",
      "Early stopping, best iteration is:\n",
      "[6]\tvalid_0's binary_error: 0.198125\n",
      "Training until validation scores don't improve for 10 rounds\n"
     ]
    },
    {
     "name": "stderr",
     "output_type": "stream",
     "text": [
      "[I 2024-01-25 09:33:16,538] Trial 4 finished with value: 0.80375 and parameters: {'lambda_l1': 0.1329437415953676, 'lambda_l2': 4.834178944677626e-07, 'num_leaves': 81, 'feature_fraction': 0.5611968918697268, 'bagging_fraction': 0.6762041023294043, 'bagging_freq': 3, 'min_child_samples': 41}. Best is trial 4 with value: 0.80375.\n",
      "[I 2024-01-25 09:33:16,694] Trial 5 finished with value: 0.79625 and parameters: {'lambda_l1': 4.629581609076803e-05, 'lambda_l2': 3.930900930091277e-08, 'num_leaves': 184, 'feature_fraction': 0.972055221331666, 'bagging_fraction': 0.8702396008739317, 'bagging_freq': 7, 'min_child_samples': 20}. Best is trial 4 with value: 0.80375.\n"
     ]
    },
    {
     "name": "stdout",
     "output_type": "stream",
     "text": [
      "Early stopping, best iteration is:\n",
      "[19]\tvalid_0's binary_error: 0.19625\n",
      "Training until validation scores don't improve for 10 rounds\n",
      "Early stopping, best iteration is:\n",
      "[16]\tvalid_0's binary_error: 0.20375\n",
      "Training until validation scores don't improve for 10 rounds\n"
     ]
    },
    {
     "name": "stderr",
     "output_type": "stream",
     "text": [
      "[I 2024-01-25 09:33:16,783] Trial 6 finished with value: 0.799375 and parameters: {'lambda_l1': 0.00013701116174390408, 'lambda_l2': 0.020929403704060153, 'num_leaves': 153, 'feature_fraction': 0.9463316317877606, 'bagging_fraction': 0.8739201904425147, 'bagging_freq': 5, 'min_child_samples': 67}. Best is trial 4 with value: 0.80375.\n",
      "[I 2024-01-25 09:33:16,856] Trial 7 finished with value: 0.79625 and parameters: {'lambda_l1': 2.9730052128294806e-05, 'lambda_l2': 0.006367994016769765, 'num_leaves': 165, 'feature_fraction': 0.8882091711753828, 'bagging_fraction': 0.7862875201550954, 'bagging_freq': 7, 'min_child_samples': 80}. Best is trial 4 with value: 0.80375.\n"
     ]
    },
    {
     "name": "stdout",
     "output_type": "stream",
     "text": [
      "Early stopping, best iteration is:\n",
      "[16]\tvalid_0's binary_error: 0.200625\n",
      "Training until validation scores don't improve for 10 rounds\n",
      "Early stopping, best iteration is:\n",
      "[15]\tvalid_0's binary_error: 0.20375\n",
      "Training until validation scores don't improve for 10 rounds\n"
     ]
    },
    {
     "name": "stderr",
     "output_type": "stream",
     "text": [
      "[I 2024-01-25 09:33:17,016] Trial 8 finished with value: 0.803125 and parameters: {'lambda_l1': 1.265144713477908e-05, 'lambda_l2': 7.4059548010171115e-06, 'num_leaves': 235, 'feature_fraction': 0.7396739942110613, 'bagging_fraction': 0.8381885314085156, 'bagging_freq': 7, 'min_child_samples': 28}. Best is trial 4 with value: 0.80375.\n",
      "[I 2024-01-25 09:33:17,060] Trial 9 finished with value: 0.8025 and parameters: {'lambda_l1': 0.9146583767347903, 'lambda_l2': 1.720010051750633, 'num_leaves': 28, 'feature_fraction': 0.9720433697470486, 'bagging_fraction': 0.893063664844677, 'bagging_freq': 1, 'min_child_samples': 34}. Best is trial 4 with value: 0.80375.\n",
      "[I 2024-01-25 09:33:17,155] Trial 10 finished with value: 0.79 and parameters: {'lambda_l1': 0.008032203541980379, 'lambda_l2': 1.401310061790452e-08, 'num_leaves': 90, 'feature_fraction': 0.5550648255652428, 'bagging_fraction': 0.5079268518938105, 'bagging_freq': 4, 'min_child_samples': 99}. Best is trial 4 with value: 0.80375.\n"
     ]
    },
    {
     "name": "stdout",
     "output_type": "stream",
     "text": [
      "Early stopping, best iteration is:\n",
      "[20]\tvalid_0's binary_error: 0.196875\n",
      "Training until validation scores don't improve for 10 rounds\n",
      "Early stopping, best iteration is:\n",
      "[10]\tvalid_0's binary_error: 0.1975\n",
      "Training until validation scores don't improve for 10 rounds\n",
      "Early stopping, best iteration is:\n",
      "[27]\tvalid_0's binary_error: 0.21\n"
     ]
    },
    {
     "name": "stderr",
     "output_type": "stream",
     "text": [
      "[I 2024-01-25 09:33:17,283] Trial 11 finished with value: 0.806875 and parameters: {'lambda_l1': 4.594797324123282e-07, 'lambda_l2': 0.00024490603156379935, 'num_leaves': 250, 'feature_fraction': 0.644885410519925, 'bagging_fraction': 0.9984563814748515, 'bagging_freq': 5, 'min_child_samples': 51}. Best is trial 11 with value: 0.806875.\n"
     ]
    },
    {
     "name": "stdout",
     "output_type": "stream",
     "text": [
      "Training until validation scores don't improve for 10 rounds\n",
      "Early stopping, best iteration is:\n",
      "[15]\tvalid_0's binary_error: 0.193125\n"
     ]
    },
    {
     "name": "stderr",
     "output_type": "stream",
     "text": [
      "[I 2024-01-25 09:33:17,591] Trial 12 finished with value: 0.809375 and parameters: {'lambda_l1': 1.0986886444114999e-08, 'lambda_l2': 0.0002089740304424346, 'num_leaves': 95, 'feature_fraction': 0.608298221418097, 'bagging_fraction': 0.9808580238546537, 'bagging_freq': 5, 'min_child_samples': 46}. Best is trial 12 with value: 0.809375.\n"
     ]
    },
    {
     "name": "stdout",
     "output_type": "stream",
     "text": [
      "Training until validation scores don't improve for 10 rounds\n",
      "Early stopping, best iteration is:\n",
      "[29]\tvalid_0's binary_error: 0.190625\n"
     ]
    },
    {
     "name": "stderr",
     "output_type": "stream",
     "text": [
      "[I 2024-01-25 09:33:17,708] Trial 13 finished with value: 0.804375 and parameters: {'lambda_l1': 5.446565814502425e-08, 'lambda_l2': 0.0001608507612387661, 'num_leaves': 239, 'feature_fraction': 0.6442702090551021, 'bagging_fraction': 0.9953688358745713, 'bagging_freq': 5, 'min_child_samples': 49}. Best is trial 12 with value: 0.809375.\n",
      "[I 2024-01-25 09:33:17,859] Trial 14 finished with value: 0.80875 and parameters: {'lambda_l1': 1.0984150171558588e-08, 'lambda_l2': 0.0005578392525161961, 'num_leaves': 110, 'feature_fraction': 0.41958173706175655, 'bagging_fraction': 0.9835381647943661, 'bagging_freq': 6, 'min_child_samples': 72}. Best is trial 12 with value: 0.809375.\n"
     ]
    },
    {
     "name": "stdout",
     "output_type": "stream",
     "text": [
      "Training until validation scores don't improve for 10 rounds\n",
      "Early stopping, best iteration is:\n",
      "[11]\tvalid_0's binary_error: 0.195625\n",
      "Training until validation scores don't improve for 10 rounds\n",
      "Early stopping, best iteration is:\n",
      "[41]\tvalid_0's binary_error: 0.19125\n"
     ]
    },
    {
     "name": "stderr",
     "output_type": "stream",
     "text": [
      "[I 2024-01-25 09:33:17,977] Trial 15 finished with value: 0.79125 and parameters: {'lambda_l1': 1.1044406490152825e-08, 'lambda_l2': 0.001399514264854654, 'num_leaves': 110, 'feature_fraction': 0.4300303251299209, 'bagging_fraction': 0.9438261945861721, 'bagging_freq': 6, 'min_child_samples': 76}. Best is trial 12 with value: 0.809375.\n"
     ]
    },
    {
     "name": "stdout",
     "output_type": "stream",
     "text": [
      "Training until validation scores don't improve for 10 rounds\n",
      "Early stopping, best iteration is:\n",
      "[6]\tvalid_0's binary_error: 0.20875\n",
      "Training until validation scores don't improve for 10 rounds\n",
      "Early stopping, best iteration is:\n",
      "[14]\tvalid_0's binary_error: 0.199375\n"
     ]
    },
    {
     "name": "stderr",
     "output_type": "stream",
     "text": [
      "[I 2024-01-25 09:33:18,129] Trial 16 finished with value: 0.800625 and parameters: {'lambda_l1': 2.964415537266169e-06, 'lambda_l2': 8.83946325845609e-05, 'num_leaves': 48, 'feature_fraction': 0.40839353243769966, 'bagging_fraction': 0.9534730524195636, 'bagging_freq': 6, 'min_child_samples': 93}. Best is trial 12 with value: 0.809375.\n",
      "[I 2024-01-25 09:33:18,272] Trial 17 finished with value: 0.804375 and parameters: {'lambda_l1': 1.0448064657611897e-06, 'lambda_l2': 4.819511963096499e-05, 'num_leaves': 104, 'feature_fraction': 0.476320610286343, 'bagging_fraction': 0.790795761551655, 'bagging_freq': 6, 'min_child_samples': 68}. Best is trial 12 with value: 0.809375.\n",
      "[I 2024-01-25 09:33:18,388] Trial 18 finished with value: 0.801875 and parameters: {'lambda_l1': 1.5839858388018914e-08, 'lambda_l2': 0.002419461622241713, 'num_leaves': 119, 'feature_fraction': 0.40249759539535657, 'bagging_fraction': 0.9325190652461992, 'bagging_freq': 4, 'min_child_samples': 84}. Best is trial 12 with value: 0.809375.\n"
     ]
    },
    {
     "name": "stdout",
     "output_type": "stream",
     "text": [
      "Training until validation scores don't improve for 10 rounds\n",
      "Early stopping, best iteration is:\n",
      "[35]\tvalid_0's binary_error: 0.195625\n",
      "Training until validation scores don't improve for 10 rounds\n",
      "Early stopping, best iteration is:\n",
      "[23]\tvalid_0's binary_error: 0.198125\n"
     ]
    },
    {
     "name": "stderr",
     "output_type": "stream",
     "text": [
      "[I 2024-01-25 09:33:18,608] Trial 19 finished with value: 0.795 and parameters: {'lambda_l1': 2.4172326091127223e-07, 'lambda_l2': 0.0697418589409873, 'num_leaves': 141, 'feature_fraction': 0.5983078286356769, 'bagging_fraction': 0.9168855370549324, 'bagging_freq': 6, 'min_child_samples': 5}. Best is trial 12 with value: 0.809375.\n"
     ]
    },
    {
     "name": "stdout",
     "output_type": "stream",
     "text": [
      "Training until validation scores don't improve for 10 rounds\n",
      "Early stopping, best iteration is:\n",
      "[19]\tvalid_0's binary_error: 0.205\n"
     ]
    },
    {
     "name": "stderr",
     "output_type": "stream",
     "text": [
      "[I 2024-01-25 09:33:18,778] Trial 20 finished with value: 0.8125 and parameters: {'lambda_l1': 3.107067945961552e-06, 'lambda_l2': 0.0011095785120184879, 'num_leaves': 71, 'feature_fraction': 0.5030124741087381, 'bagging_fraction': 0.9959013395060887, 'bagging_freq': 3, 'min_child_samples': 59}. Best is trial 20 with value: 0.8125.\n"
     ]
    },
    {
     "name": "stdout",
     "output_type": "stream",
     "text": [
      "Training until validation scores don't improve for 10 rounds\n",
      "Early stopping, best iteration is:\n",
      "[33]\tvalid_0's binary_error: 0.1875\n",
      "Training until validation scores don't improve for 10 rounds\n"
     ]
    },
    {
     "name": "stderr",
     "output_type": "stream",
     "text": [
      "[I 2024-01-25 09:33:18,932] Trial 21 finished with value: 0.808125 and parameters: {'lambda_l1': 1.9256291516116314e-07, 'lambda_l2': 0.000618649797418761, 'num_leaves': 73, 'feature_fraction': 0.4737753915092184, 'bagging_fraction': 0.9968024412104053, 'bagging_freq': 3, 'min_child_samples': 58}. Best is trial 20 with value: 0.8125.\n",
      "[I 2024-01-25 09:33:19,046] Trial 22 finished with value: 0.80875 and parameters: {'lambda_l1': 2.723347910533531e-06, 'lambda_l2': 3.436780414641558e-05, 'num_leaves': 36, 'feature_fraction': 0.5318630284628785, 'bagging_fraction': 0.9495038591510857, 'bagging_freq': 4, 'min_child_samples': 69}. Best is trial 20 with value: 0.8125.\n"
     ]
    },
    {
     "name": "stdout",
     "output_type": "stream",
     "text": [
      "Early stopping, best iteration is:\n",
      "[30]\tvalid_0's binary_error: 0.191875\n",
      "Training until validation scores don't improve for 10 rounds\n",
      "Early stopping, best iteration is:\n",
      "[30]\tvalid_0's binary_error: 0.19125\n",
      "Training until validation scores don't improve for 10 rounds\n"
     ]
    },
    {
     "name": "stderr",
     "output_type": "stream",
     "text": [
      "[I 2024-01-25 09:33:19,177] Trial 23 finished with value: 0.81125 and parameters: {'lambda_l1': 1.33271571552112e-08, 'lambda_l2': 0.0015423307765179356, 'num_leaves': 102, 'feature_fraction': 0.462834146237457, 'bagging_fraction': 0.9192848572649385, 'bagging_freq': 2, 'min_child_samples': 45}. Best is trial 20 with value: 0.8125.\n",
      "[I 2024-01-25 09:33:19,304] Trial 24 finished with value: 0.8075 and parameters: {'lambda_l1': 7.74181917199621e-07, 'lambda_l2': 0.002070352947545896, 'num_leaves': 66, 'feature_fraction': 0.4913741256434314, 'bagging_fraction': 0.9110691980044173, 'bagging_freq': 2, 'min_child_samples': 49}. Best is trial 20 with value: 0.8125.\n"
     ]
    },
    {
     "name": "stdout",
     "output_type": "stream",
     "text": [
      "Early stopping, best iteration is:\n",
      "[16]\tvalid_0's binary_error: 0.18875\n",
      "Training until validation scores don't improve for 10 rounds\n",
      "Early stopping, best iteration is:\n",
      "[17]\tvalid_0's binary_error: 0.1925\n",
      "Training until validation scores don't improve for 10 rounds\n"
     ]
    },
    {
     "name": "stderr",
     "output_type": "stream",
     "text": [
      "[I 2024-01-25 09:33:19,440] Trial 25 finished with value: 0.809375 and parameters: {'lambda_l1': 6.348406580727842e-08, 'lambda_l2': 0.008978221447410686, 'num_leaves': 92, 'feature_fraction': 0.5910725115962089, 'bagging_fraction': 0.8405267993327006, 'bagging_freq': 2, 'min_child_samples': 44}. Best is trial 20 with value: 0.8125.\n",
      "[I 2024-01-25 09:33:19,538] Trial 26 finished with value: 0.8 and parameters: {'lambda_l1': 5.839746596015252e-06, 'lambda_l2': 0.13397783333921323, 'num_leaves': 55, 'feature_fraction': 0.5257943282277995, 'bagging_fraction': 0.9566057000626476, 'bagging_freq': 3, 'min_child_samples': 59}. Best is trial 20 with value: 0.8125.\n"
     ]
    },
    {
     "name": "stdout",
     "output_type": "stream",
     "text": [
      "Early stopping, best iteration is:\n",
      "[13]\tvalid_0's binary_error: 0.190625\n",
      "Training until validation scores don't improve for 10 rounds\n",
      "Early stopping, best iteration is:\n",
      "[6]\tvalid_0's binary_error: 0.2\n"
     ]
    },
    {
     "name": "stderr",
     "output_type": "stream",
     "text": [
      "[I 2024-01-25 09:33:19,690] Trial 27 finished with value: 0.805625 and parameters: {'lambda_l1': 0.0007256013650609666, 'lambda_l2': 0.00025312965061340386, 'num_leaves': 20, 'feature_fraction': 0.443737904346036, 'bagging_fraction': 0.9145031451755312, 'bagging_freq': 2, 'min_child_samples': 24}. Best is trial 20 with value: 0.8125.\n",
      "[I 2024-01-25 09:33:19,850] Trial 28 finished with value: 0.8025 and parameters: {'lambda_l1': 1.1300410299459023e-07, 'lambda_l2': 2.9971141272663078e-05, 'num_leaves': 125, 'feature_fraction': 0.45559626336241243, 'bagging_fraction': 0.9492196179988268, 'bagging_freq': 1, 'min_child_samples': 56}. Best is trial 20 with value: 0.8125.\n"
     ]
    },
    {
     "name": "stdout",
     "output_type": "stream",
     "text": [
      "Training until validation scores don't improve for 10 rounds\n",
      "Early stopping, best iteration is:\n",
      "[14]\tvalid_0's binary_error: 0.194375\n",
      "Training until validation scores don't improve for 10 rounds\n",
      "Early stopping, best iteration is:\n",
      "[14]\tvalid_0's binary_error: 0.1975\n"
     ]
    },
    {
     "name": "stderr",
     "output_type": "stream",
     "text": [
      "[I 2024-01-25 09:33:20,045] Trial 29 finished with value: 0.808125 and parameters: {'lambda_l1': 1.6319234621051396e-06, 'lambda_l2': 0.004999742036674006, 'num_leaves': 135, 'feature_fraction': 0.5040226648681708, 'bagging_fraction': 0.8820102695420841, 'bagging_freq': 3, 'min_child_samples': 45}. Best is trial 20 with value: 0.8125.\n"
     ]
    },
    {
     "name": "stdout",
     "output_type": "stream",
     "text": [
      "Training until validation scores don't improve for 10 rounds\n",
      "Early stopping, best iteration is:\n",
      "[12]\tvalid_0's binary_error: 0.191875\n",
      "Training until validation scores don't improve for 10 rounds\n"
     ]
    },
    {
     "name": "stderr",
     "output_type": "stream",
     "text": [
      "[I 2024-01-25 09:33:20,198] Trial 30 finished with value: 0.809375 and parameters: {'lambda_l1': 3.722440627018341e-07, 'lambda_l2': 0.0009208135037100575, 'num_leaves': 93, 'feature_fraction': 0.4606304317925559, 'bagging_fraction': 0.9703762688797211, 'bagging_freq': 4, 'min_child_samples': 30}. Best is trial 20 with value: 0.8125.\n",
      "[I 2024-01-25 09:33:20,369] Trial 31 finished with value: 0.805625 and parameters: {'lambda_l1': 4.2410294386897554e-08, 'lambda_l2': 0.010616014293320616, 'num_leaves': 98, 'feature_fraction': 0.5737142230958747, 'bagging_fraction': 0.8470289389219019, 'bagging_freq': 2, 'min_child_samples': 42}. Best is trial 20 with value: 0.8125.\n"
     ]
    },
    {
     "name": "stdout",
     "output_type": "stream",
     "text": [
      "Early stopping, best iteration is:\n",
      "[21]\tvalid_0's binary_error: 0.190625\n",
      "Training until validation scores don't improve for 10 rounds\n",
      "Early stopping, best iteration is:\n",
      "[17]\tvalid_0's binary_error: 0.194375\n"
     ]
    },
    {
     "name": "stderr",
     "output_type": "stream",
     "text": [
      "[I 2024-01-25 09:33:20,541] Trial 32 finished with value: 0.805 and parameters: {'lambda_l1': 3.8483839871605996e-08, 'lambda_l2': 0.0222216658621828, 'num_leaves': 83, 'feature_fraction': 0.6063904556977642, 'bagging_fraction': 0.9102944695278072, 'bagging_freq': 2, 'min_child_samples': 62}. Best is trial 20 with value: 0.8125.\n",
      "[I 2024-01-25 09:33:20,680] Trial 33 finished with value: 0.81125 and parameters: {'lambda_l1': 9.592646960211519e-08, 'lambda_l2': 0.0025804927292512247, 'num_leaves': 45, 'feature_fraction': 0.524730646188506, 'bagging_fraction': 0.8272605822213185, 'bagging_freq': 2, 'min_child_samples': 38}. Best is trial 20 with value: 0.8125.\n"
     ]
    },
    {
     "name": "stdout",
     "output_type": "stream",
     "text": [
      "Training until validation scores don't improve for 10 rounds\n",
      "Early stopping, best iteration is:\n",
      "[12]\tvalid_0's binary_error: 0.195\n",
      "Training until validation scores don't improve for 10 rounds\n",
      "Early stopping, best iteration is:\n",
      "[26]\tvalid_0's binary_error: 0.18875\n"
     ]
    },
    {
     "name": "stderr",
     "output_type": "stream",
     "text": [
      "[I 2024-01-25 09:33:20,765] Trial 34 finished with value: 0.7725 and parameters: {'lambda_l1': 1.4885260751415124e-07, 'lambda_l2': 0.0006893247365975652, 'num_leaves': 5, 'feature_fraction': 0.5407516428987502, 'bagging_fraction': 0.8068750179851117, 'bagging_freq': 1, 'min_child_samples': 38}. Best is trial 20 with value: 0.8125.\n",
      "[I 2024-01-25 09:33:20,888] Trial 35 finished with value: 0.8025 and parameters: {'lambda_l1': 2.6126867735373375e-08, 'lambda_l2': 0.002998928260592293, 'num_leaves': 42, 'feature_fraction': 0.5108947682439537, 'bagging_fraction': 0.746263528389836, 'bagging_freq': 3, 'min_child_samples': 54}. Best is trial 20 with value: 0.8125.\n"
     ]
    },
    {
     "name": "stdout",
     "output_type": "stream",
     "text": [
      "Training until validation scores don't improve for 10 rounds\n",
      "Early stopping, best iteration is:\n",
      "[3]\tvalid_0's binary_error: 0.2275\n",
      "Training until validation scores don't improve for 10 rounds\n",
      "Early stopping, best iteration is:\n",
      "[29]\tvalid_0's binary_error: 0.1975\n"
     ]
    },
    {
     "name": "stderr",
     "output_type": "stream",
     "text": [
      "[I 2024-01-25 09:33:21,058] Trial 36 finished with value: 0.806875 and parameters: {'lambda_l1': 5.226214976682296e-07, 'lambda_l2': 0.0001680475675800383, 'num_leaves': 66, 'feature_fraction': 0.49586715013085203, 'bagging_fraction': 0.8855489347076131, 'bagging_freq': 3, 'min_child_samples': 32}. Best is trial 20 with value: 0.8125.\n"
     ]
    },
    {
     "name": "stdout",
     "output_type": "stream",
     "text": [
      "Training until validation scores don't improve for 10 rounds\n",
      "Early stopping, best iteration is:\n",
      "[22]\tvalid_0's binary_error: 0.193125\n",
      "Training until validation scores don't improve for 10 rounds\n"
     ]
    },
    {
     "name": "stderr",
     "output_type": "stream",
     "text": [
      "[I 2024-01-25 09:33:21,230] Trial 37 finished with value: 0.8025 and parameters: {'lambda_l1': 1.1223991203164255e-07, 'lambda_l2': 1.780753360197842e-05, 'num_leaves': 54, 'feature_fraction': 0.5355341964689093, 'bagging_fraction': 0.9753654412164239, 'bagging_freq': 2, 'min_child_samples': 14}. Best is trial 20 with value: 0.8125.\n",
      "[I 2024-01-25 09:33:21,328] Trial 38 finished with value: 0.799375 and parameters: {'lambda_l1': 2.4129520710565356e-08, 'lambda_l2': 0.00038963686152634257, 'num_leaves': 18, 'feature_fraction': 0.5672786566689153, 'bagging_fraction': 0.9274757746317916, 'bagging_freq': 4, 'min_child_samples': 62}. Best is trial 20 with value: 0.8125.\n"
     ]
    },
    {
     "name": "stdout",
     "output_type": "stream",
     "text": [
      "Early stopping, best iteration is:\n",
      "[22]\tvalid_0's binary_error: 0.1975\n",
      "Training until validation scores don't improve for 10 rounds\n",
      "Early stopping, best iteration is:\n",
      "[18]\tvalid_0's binary_error: 0.200625\n",
      "Training until validation scores don't improve for 10 rounds\n"
     ]
    },
    {
     "name": "stderr",
     "output_type": "stream",
     "text": [
      "[I 2024-01-25 09:33:21,449] Trial 39 finished with value: 0.81 and parameters: {'lambda_l1': 8.85034753697462e-06, 'lambda_l2': 9.896836073900195e-07, 'num_leaves': 178, 'feature_fraction': 0.4509229806143792, 'bagging_fraction': 0.8528864847222428, 'bagging_freq': 1, 'min_child_samples': 37}. Best is trial 20 with value: 0.8125.\n",
      "[I 2024-01-25 09:33:21,574] Trial 40 finished with value: 0.80875 and parameters: {'lambda_l1': 1.8175064440302562e-05, 'lambda_l2': 7.716925860033734e-07, 'num_leaves': 183, 'feature_fraction': 0.4365305565302804, 'bagging_fraction': 0.8622727037577703, 'bagging_freq': 1, 'min_child_samples': 39}. Best is trial 20 with value: 0.8125.\n"
     ]
    },
    {
     "name": "stdout",
     "output_type": "stream",
     "text": [
      "Early stopping, best iteration is:\n",
      "[14]\tvalid_0's binary_error: 0.19\n",
      "Training until validation scores don't improve for 10 rounds\n",
      "Early stopping, best iteration is:\n",
      "[16]\tvalid_0's binary_error: 0.19125\n",
      "Training until validation scores don't improve for 10 rounds\n"
     ]
    },
    {
     "name": "stderr",
     "output_type": "stream",
     "text": [
      "[I 2024-01-25 09:33:21,772] Trial 41 finished with value: 0.8075 and parameters: {'lambda_l1': 6.189001342862146e-06, 'lambda_l2': 3.6051560143522417e-06, 'num_leaves': 213, 'feature_fraction': 0.47601426875944586, 'bagging_fraction': 0.8210640473928503, 'bagging_freq': 1, 'min_child_samples': 47}. Best is trial 20 with value: 0.8125.\n"
     ]
    },
    {
     "name": "stdout",
     "output_type": "stream",
     "text": [
      "Early stopping, best iteration is:\n",
      "[27]\tvalid_0's binary_error: 0.1925\n",
      "Training until validation scores don't improve for 10 rounds\n"
     ]
    },
    {
     "name": "stderr",
     "output_type": "stream",
     "text": [
      "[I 2024-01-25 09:33:21,995] Trial 42 finished with value: 0.81 and parameters: {'lambda_l1': 1.0936876030564104e-08, 'lambda_l2': 9.10364755692963e-05, 'num_leaves': 155, 'feature_fraction': 0.5136548790450595, 'bagging_fraction': 0.8887453199169286, 'bagging_freq': 2, 'min_child_samples': 23}. Best is trial 20 with value: 0.8125.\n",
      "[I 2024-01-25 09:33:22,142] Trial 43 finished with value: 0.80875 and parameters: {'lambda_l1': 6.70732935009343e-05, 'lambda_l2': 1.0893546673627035e-07, 'num_leaves': 168, 'feature_fraction': 0.4488461517252472, 'bagging_fraction': 0.8606543814444017, 'bagging_freq': 2, 'min_child_samples': 23}. Best is trial 20 with value: 0.8125.\n"
     ]
    },
    {
     "name": "stdout",
     "output_type": "stream",
     "text": [
      "Early stopping, best iteration is:\n",
      "[12]\tvalid_0's binary_error: 0.19\n",
      "Training until validation scores don't improve for 10 rounds\n",
      "Early stopping, best iteration is:\n",
      "[14]\tvalid_0's binary_error: 0.19125\n"
     ]
    },
    {
     "name": "stderr",
     "output_type": "stream",
     "text": [
      "[I 2024-01-25 09:33:22,283] Trial 44 finished with value: 0.79 and parameters: {'lambda_l1': 2.797773580891529e-07, 'lambda_l2': 2.5616951249736246e-06, 'num_leaves': 201, 'feature_fraction': 0.5048502601332527, 'bagging_fraction': 0.7597682307959308, 'bagging_freq': 3, 'min_child_samples': 18}. Best is trial 20 with value: 0.8125.\n"
     ]
    },
    {
     "name": "stdout",
     "output_type": "stream",
     "text": [
      "Training until validation scores don't improve for 10 rounds\n",
      "Early stopping, best iteration is:\n",
      "[10]\tvalid_0's binary_error: 0.21\n",
      "Training until validation scores don't improve for 10 rounds\n"
     ]
    },
    {
     "name": "stderr",
     "output_type": "stream",
     "text": [
      "[I 2024-01-25 09:33:22,418] Trial 45 finished with value: 0.80375 and parameters: {'lambda_l1': 1.0726056761732252e-06, 'lambda_l2': 1.3168696943837723e-05, 'num_leaves': 147, 'feature_fraction': 0.47813036714323026, 'bagging_fraction': 0.880143970242758, 'bagging_freq': 1, 'min_child_samples': 27}. Best is trial 20 with value: 0.8125.\n",
      "[I 2024-01-25 09:33:22,523] Trial 46 finished with value: 0.801875 and parameters: {'lambda_l1': 7.920387235192277e-08, 'lambda_l2': 7.93933531907413e-05, 'num_leaves': 158, 'feature_fraction': 0.4288863987733365, 'bagging_fraction': 0.8261027663046633, 'bagging_freq': 2, 'min_child_samples': 34}. Best is trial 20 with value: 0.8125.\n"
     ]
    },
    {
     "name": "stdout",
     "output_type": "stream",
     "text": [
      "Early stopping, best iteration is:\n",
      "[14]\tvalid_0's binary_error: 0.19625\n",
      "Training until validation scores don't improve for 10 rounds\n",
      "Early stopping, best iteration is:\n",
      "[5]\tvalid_0's binary_error: 0.198125\n",
      "Training until validation scores don't improve for 10 rounds\n"
     ]
    },
    {
     "name": "stderr",
     "output_type": "stream",
     "text": [
      "[I 2024-01-25 09:33:22,662] Trial 47 finished with value: 0.81 and parameters: {'lambda_l1': 6.759018485653155e-08, 'lambda_l2': 8.485812464177549e-06, 'num_leaves': 183, 'feature_fraction': 0.5155345967707493, 'bagging_fraction': 0.899375323584404, 'bagging_freq': 2, 'min_child_samples': 36}. Best is trial 20 with value: 0.8125.\n",
      "[I 2024-01-25 09:33:22,809] Trial 48 finished with value: 0.795625 and parameters: {'lambda_l1': 2.5705353746589627e-08, 'lambda_l2': 0.0012106023521652703, 'num_leaves': 197, 'feature_fraction': 0.5512810570295562, 'bagging_fraction': 0.8585685866087926, 'bagging_freq': 1, 'min_child_samples': 8}. Best is trial 20 with value: 0.8125.\n"
     ]
    },
    {
     "name": "stdout",
     "output_type": "stream",
     "text": [
      "Early stopping, best iteration is:\n",
      "[18]\tvalid_0's binary_error: 0.19\n",
      "Training until validation scores don't improve for 10 rounds\n",
      "Early stopping, best iteration is:\n",
      "[7]\tvalid_0's binary_error: 0.204375\n"
     ]
    },
    {
     "name": "stderr",
     "output_type": "stream",
     "text": [
      "[I 2024-01-25 09:33:22,957] Trial 49 finished with value: 0.806875 and parameters: {'lambda_l1': 1.0477277428549218e-08, 'lambda_l2': 1.5672636673568482e-06, 'num_leaves': 218, 'feature_fraction': 0.40960717930054014, 'bagging_fraction': 0.8871677272275769, 'bagging_freq': 3, 'min_child_samples': 52}. Best is trial 20 with value: 0.8125.\n"
     ]
    },
    {
     "name": "stdout",
     "output_type": "stream",
     "text": [
      "Training until validation scores don't improve for 10 rounds\n",
      "Early stopping, best iteration is:\n",
      "[26]\tvalid_0's binary_error: 0.193125\n",
      "Training until validation scores don't improve for 10 rounds\n",
      "Early stopping, best iteration is:\n",
      "[13]\tvalid_0's binary_error: 0.2025\n"
     ]
    },
    {
     "name": "stderr",
     "output_type": "stream",
     "text": [
      "[I 2024-01-25 09:33:23,112] Trial 50 finished with value: 0.7975 and parameters: {'lambda_l1': 1.8996033138874955e-07, 'lambda_l2': 2.5288250607920834e-07, 'num_leaves': 175, 'feature_fraction': 0.46972246289669434, 'bagging_fraction': 0.9316414443606931, 'bagging_freq': 1, 'min_child_samples': 18}. Best is trial 20 with value: 0.8125.\n",
      "[I 2024-01-25 09:33:23,263] Trial 51 finished with value: 0.81125 and parameters: {'lambda_l1': 7.075667955448401e-08, 'lambda_l2': 9.364227009289222e-06, 'num_leaves': 180, 'feature_fraction': 0.5046875476763505, 'bagging_fraction': 0.8945569972361455, 'bagging_freq': 2, 'min_child_samples': 35}. Best is trial 20 with value: 0.8125.\n"
     ]
    },
    {
     "name": "stdout",
     "output_type": "stream",
     "text": [
      "Training until validation scores don't improve for 10 rounds\n",
      "Early stopping, best iteration is:\n",
      "[15]\tvalid_0's binary_error: 0.18875\n",
      "Training until validation scores don't improve for 10 rounds\n"
     ]
    },
    {
     "name": "stderr",
     "output_type": "stream",
     "text": [
      "[I 2024-01-25 09:33:23,455] Trial 52 finished with value: 0.806875 and parameters: {'lambda_l1': 5.277217949193712e-07, 'lambda_l2': 4.366462147687133e-06, 'num_leaves': 152, 'feature_fraction': 0.5246193913999811, 'bagging_fraction': 0.8286638588729225, 'bagging_freq': 2, 'min_child_samples': 26}. Best is trial 20 with value: 0.8125.\n"
     ]
    },
    {
     "name": "stdout",
     "output_type": "stream",
     "text": [
      "Early stopping, best iteration is:\n",
      "[20]\tvalid_0's binary_error: 0.193125\n",
      "Training until validation scores don't improve for 10 rounds\n"
     ]
    },
    {
     "name": "stderr",
     "output_type": "stream",
     "text": [
      "[I 2024-01-25 09:33:23,690] Trial 53 finished with value: 0.804375 and parameters: {'lambda_l1': 2.8247016491037046e-08, 'lambda_l2': 4.778105483984466e-05, 'num_leaves': 194, 'feature_fraction': 0.43396855276417867, 'bagging_fraction': 0.9010729068086236, 'bagging_freq': 2, 'min_child_samples': 41}. Best is trial 20 with value: 0.8125.\n",
      "[I 2024-01-25 09:33:23,856] Trial 54 finished with value: 0.804375 and parameters: {'lambda_l1': 6.789175450237388e-08, 'lambda_l2': 0.0003453836800529475, 'num_leaves': 164, 'feature_fraction': 0.4907893410477536, 'bagging_fraction': 0.9689662586789519, 'bagging_freq': 3, 'min_child_samples': 32}. Best is trial 20 with value: 0.8125.\n"
     ]
    },
    {
     "name": "stdout",
     "output_type": "stream",
     "text": [
      "Early stopping, best iteration is:\n",
      "[22]\tvalid_0's binary_error: 0.195625\n",
      "Training until validation scores don't improve for 10 rounds\n",
      "Early stopping, best iteration is:\n",
      "[12]\tvalid_0's binary_error: 0.195625\n"
     ]
    },
    {
     "name": "stderr",
     "output_type": "stream",
     "text": [
      "[I 2024-01-25 09:33:24,017] Trial 55 finished with value: 0.80375 and parameters: {'lambda_l1': 1.4471345147385839e-06, 'lambda_l2': 0.00010524713788163831, 'num_leaves': 81, 'feature_fraction': 0.5621886640407573, 'bagging_fraction': 0.933051863363207, 'bagging_freq': 1, 'min_child_samples': 36}. Best is trial 20 with value: 0.8125.\n"
     ]
    },
    {
     "name": "stdout",
     "output_type": "stream",
     "text": [
      "Training until validation scores don't improve for 10 rounds\n",
      "Early stopping, best iteration is:\n",
      "[17]\tvalid_0's binary_error: 0.19625\n",
      "Training until validation scores don't improve for 10 rounds\n"
     ]
    },
    {
     "name": "stderr",
     "output_type": "stream",
     "text": [
      "[I 2024-01-25 09:33:24,249] Trial 56 finished with value: 0.803125 and parameters: {'lambda_l1': 3.535149632331617e-07, 'lambda_l2': 1.6780069267276196e-05, 'num_leaves': 124, 'feature_fraction': 0.45245381750834696, 'bagging_fraction': 0.8577139367521799, 'bagging_freq': 2, 'min_child_samples': 21}. Best is trial 20 with value: 0.8125.\n",
      "[I 2024-01-25 09:33:24,410] Trial 57 finished with value: 0.805625 and parameters: {'lambda_l1': 1.587244580567028e-08, 'lambda_l2': 0.0036704497325813486, 'num_leaves': 139, 'feature_fraction': 0.4001810992053684, 'bagging_fraction': 0.8084191459580403, 'bagging_freq': 2, 'min_child_samples': 30}. Best is trial 20 with value: 0.8125.\n"
     ]
    },
    {
     "name": "stdout",
     "output_type": "stream",
     "text": [
      "Early stopping, best iteration is:\n",
      "[9]\tvalid_0's binary_error: 0.196875\n",
      "Training until validation scores don't improve for 10 rounds\n",
      "Early stopping, best iteration is:\n",
      "[15]\tvalid_0's binary_error: 0.194375\n"
     ]
    },
    {
     "name": "stderr",
     "output_type": "stream",
     "text": [
      "[I 2024-01-25 09:33:24,582] Trial 58 finished with value: 0.80375 and parameters: {'lambda_l1': 1.3357962256112046e-07, 'lambda_l2': 0.0010100157405214668, 'num_leaves': 170, 'feature_fraction': 0.4903409841477137, 'bagging_fraction': 0.8728871063887627, 'bagging_freq': 3, 'min_child_samples': 49}. Best is trial 20 with value: 0.8125.\n"
     ]
    },
    {
     "name": "stdout",
     "output_type": "stream",
     "text": [
      "Training until validation scores don't improve for 10 rounds\n",
      "Early stopping, best iteration is:\n",
      "[20]\tvalid_0's binary_error: 0.19625\n",
      "Training until validation scores don't improve for 10 rounds\n"
     ]
    },
    {
     "name": "stderr",
     "output_type": "stream",
     "text": [
      "[I 2024-01-25 09:33:24,726] Trial 59 finished with value: 0.804375 and parameters: {'lambda_l1': 1.0306868245795073e-08, 'lambda_l2': 0.002147154742817132, 'num_leaves': 115, 'feature_fraction': 0.6277168136142963, 'bagging_fraction': 0.9995700441455387, 'bagging_freq': 1, 'min_child_samples': 41}. Best is trial 20 with value: 0.8125.\n",
      "[I 2024-01-25 09:33:24,853] Trial 60 finished with value: 0.80125 and parameters: {'lambda_l1': 4.2166917981735796e-08, 'lambda_l2': 0.00011014510212551705, 'num_leaves': 28, 'feature_fraction': 0.541784972240632, 'bagging_fraction': 0.9428406552494758, 'bagging_freq': 2, 'min_child_samples': 13}. Best is trial 20 with value: 0.8125.\n"
     ]
    },
    {
     "name": "stdout",
     "output_type": "stream",
     "text": [
      "Early stopping, best iteration is:\n",
      "[6]\tvalid_0's binary_error: 0.195625\n",
      "Training until validation scores don't improve for 10 rounds\n",
      "Early stopping, best iteration is:\n",
      "[13]\tvalid_0's binary_error: 0.19875\n"
     ]
    },
    {
     "name": "stderr",
     "output_type": "stream",
     "text": [
      "[I 2024-01-25 09:33:25,027] Trial 61 finished with value: 0.81375 and parameters: {'lambda_l1': 6.887192848540345e-08, 'lambda_l2': 9.019324610442514e-06, 'num_leaves': 184, 'feature_fraction': 0.5150363689786607, 'bagging_fraction': 0.9006658162845315, 'bagging_freq': 2, 'min_child_samples': 36}. Best is trial 61 with value: 0.81375.\n"
     ]
    },
    {
     "name": "stdout",
     "output_type": "stream",
     "text": [
      "Training until validation scores don't improve for 10 rounds\n",
      "Early stopping, best iteration is:\n",
      "[13]\tvalid_0's binary_error: 0.18625\n",
      "Training until validation scores don't improve for 10 rounds\n"
     ]
    },
    {
     "name": "stderr",
     "output_type": "stream",
     "text": [
      "[I 2024-01-25 09:33:25,231] Trial 62 finished with value: 0.808125 and parameters: {'lambda_l1': 2.0450439084554498e-07, 'lambda_l2': 9.151639376053918e-06, 'num_leaves': 189, 'feature_fraction': 0.5243858083468569, 'bagging_fraction': 0.9000123621200923, 'bagging_freq': 2, 'min_child_samples': 38}. Best is trial 61 with value: 0.81375.\n",
      "[I 2024-01-25 09:33:25,403] Trial 63 finished with value: 0.806875 and parameters: {'lambda_l1': 8.293635579200896e-08, 'lambda_l2': 1.906080300908972e-06, 'num_leaves': 212, 'feature_fraction': 0.5800498405520114, 'bagging_fraction': 0.9195749388837219, 'bagging_freq': 2, 'min_child_samples': 44}. Best is trial 61 with value: 0.81375.\n"
     ]
    },
    {
     "name": "stdout",
     "output_type": "stream",
     "text": [
      "Early stopping, best iteration is:\n",
      "[20]\tvalid_0's binary_error: 0.191875\n",
      "Training until validation scores don't improve for 10 rounds\n",
      "Early stopping, best iteration is:\n",
      "[17]\tvalid_0's binary_error: 0.193125\n"
     ]
    },
    {
     "name": "stderr",
     "output_type": "stream",
     "text": [
      "[I 2024-01-25 09:33:25,642] Trial 64 finished with value: 0.81 and parameters: {'lambda_l1': 6.610972458459547e-07, 'lambda_l2': 7.405840853691263e-07, 'num_leaves': 175, 'feature_fraction': 0.4633961498272149, 'bagging_fraction': 0.9616902441553841, 'bagging_freq': 3, 'min_child_samples': 33}. Best is trial 61 with value: 0.81375.\n"
     ]
    },
    {
     "name": "stdout",
     "output_type": "stream",
     "text": [
      "Training until validation scores don't improve for 10 rounds\n",
      "Early stopping, best iteration is:\n",
      "[19]\tvalid_0's binary_error: 0.19\n",
      "Training until validation scores don't improve for 10 rounds\n"
     ]
    },
    {
     "name": "stderr",
     "output_type": "stream",
     "text": [
      "[I 2024-01-25 09:33:25,869] Trial 65 finished with value: 0.803125 and parameters: {'lambda_l1': 2.6027814496864203e-08, 'lambda_l2': 3.7466307466917813e-06, 'num_leaves': 227, 'feature_fraction': 0.5562551211692853, 'bagging_fraction': 0.8962196638564236, 'bagging_freq': 1, 'min_child_samples': 29}. Best is trial 61 with value: 0.81375.\n",
      "[I 2024-01-25 09:33:26,015] Trial 66 finished with value: 0.804375 and parameters: {'lambda_l1': 2.4897872019877377e-06, 'lambda_l2': 0.0003368854629554042, 'num_leaves': 159, 'feature_fraction': 0.5074612904683062, 'bagging_fraction': 0.8468710258957186, 'bagging_freq': 2, 'min_child_samples': 54}. Best is trial 61 with value: 0.81375.\n"
     ]
    },
    {
     "name": "stdout",
     "output_type": "stream",
     "text": [
      "Early stopping, best iteration is:\n",
      "[19]\tvalid_0's binary_error: 0.196875\n",
      "Training until validation scores don't improve for 10 rounds\n",
      "Early stopping, best iteration is:\n",
      "[11]\tvalid_0's binary_error: 0.195625\n"
     ]
    },
    {
     "name": "stderr",
     "output_type": "stream",
     "text": [
      "[I 2024-01-25 09:33:26,190] Trial 67 finished with value: 0.81 and parameters: {'lambda_l1': 4.5982887920117765e-08, 'lambda_l2': 3.264433776090165e-05, 'num_leaves': 74, 'feature_fraction': 0.4881547478635121, 'bagging_fraction': 0.9453732950600454, 'bagging_freq': 3, 'min_child_samples': 42}. Best is trial 61 with value: 0.81375.\n"
     ]
    },
    {
     "name": "stdout",
     "output_type": "stream",
     "text": [
      "Training until validation scores don't improve for 10 rounds\n",
      "Early stopping, best iteration is:\n",
      "[18]\tvalid_0's binary_error: 0.19\n",
      "Training until validation scores don't improve for 10 rounds\n"
     ]
    },
    {
     "name": "stderr",
     "output_type": "stream",
     "text": [
      "[I 2024-01-25 09:33:26,462] Trial 68 finished with value: 0.809375 and parameters: {'lambda_l1': 2.3147534014216915e-07, 'lambda_l2': 0.0017369865557722488, 'num_leaves': 176, 'feature_fraction': 0.4490786067383777, 'bagging_fraction': 0.977274609461396, 'bagging_freq': 2, 'min_child_samples': 66}. Best is trial 61 with value: 0.81375.\n",
      "[I 2024-01-25 09:33:26,619] Trial 69 finished with value: 0.804375 and parameters: {'lambda_l1': 1.7180287053673696e-08, 'lambda_l2': 6.729996664433326e-05, 'num_leaves': 59, 'feature_fraction': 0.4288152568238461, 'bagging_fraction': 0.920220043830913, 'bagging_freq': 4, 'min_child_samples': 47}. Best is trial 61 with value: 0.81375.\n"
     ]
    },
    {
     "name": "stdout",
     "output_type": "stream",
     "text": [
      "Early stopping, best iteration is:\n",
      "[40]\tvalid_0's binary_error: 0.190625\n",
      "Training until validation scores don't improve for 10 rounds\n",
      "Early stopping, best iteration is:\n",
      "[25]\tvalid_0's binary_error: 0.195625\n"
     ]
    },
    {
     "name": "stderr",
     "output_type": "stream",
     "text": [
      "[I 2024-01-25 09:33:26,785] Trial 70 finished with value: 0.8 and parameters: {'lambda_l1': 1.198367643891688e-07, 'lambda_l2': 6.063393937615616e-06, 'num_leaves': 144, 'feature_fraction': 0.5175619237617914, 'bagging_fraction': 0.877884484178461, 'bagging_freq': 1, 'min_child_samples': 51}. Best is trial 61 with value: 0.81375.\n"
     ]
    },
    {
     "name": "stdout",
     "output_type": "stream",
     "text": [
      "Training until validation scores don't improve for 10 rounds\n",
      "Early stopping, best iteration is:\n",
      "[20]\tvalid_0's binary_error: 0.2\n",
      "Training until validation scores don't improve for 10 rounds\n",
      "Early stopping, best iteration is:\n",
      "[10]\tvalid_0's binary_error: 0.19625\n"
     ]
    },
    {
     "name": "stderr",
     "output_type": "stream",
     "text": [
      "[I 2024-01-25 09:33:26,925] Trial 71 finished with value: 0.80375 and parameters: {'lambda_l1': 5.573918277023339e-08, 'lambda_l2': 2.029757785351467e-05, 'num_leaves': 186, 'feature_fraction': 0.514328501054396, 'bagging_fraction': 0.898668965115131, 'bagging_freq': 2, 'min_child_samples': 36}. Best is trial 61 with value: 0.81375.\n",
      "[I 2024-01-25 09:33:27,109] Trial 72 finished with value: 0.81125 and parameters: {'lambda_l1': 8.084021598182168e-08, 'lambda_l2': 8.635116481252296e-06, 'num_leaves': 182, 'feature_fraction': 0.5412473329747118, 'bagging_fraction': 0.9086813296771469, 'bagging_freq': 2, 'min_child_samples': 36}. Best is trial 61 with value: 0.81375.\n"
     ]
    },
    {
     "name": "stdout",
     "output_type": "stream",
     "text": [
      "Training until validation scores don't improve for 10 rounds\n",
      "Early stopping, best iteration is:\n",
      "[15]\tvalid_0's binary_error: 0.18875\n",
      "Training until validation scores don't improve for 10 rounds\n"
     ]
    },
    {
     "name": "stderr",
     "output_type": "stream",
     "text": [
      "[I 2024-01-25 09:33:27,281] Trial 73 finished with value: 0.805 and parameters: {'lambda_l1': 4.0546975323085057e-07, 'lambda_l2': 0.00017683436191776784, 'num_leaves': 202, 'feature_fraction': 0.5416330633485125, 'bagging_fraction': 0.8487328903609135, 'bagging_freq': 2, 'min_child_samples': 39}. Best is trial 61 with value: 0.81375.\n",
      "[I 2024-01-25 09:33:27,460] Trial 74 finished with value: 0.8025 and parameters: {'lambda_l1': 1.7799168917901325e-08, 'lambda_l2': 0.0005739952930942842, 'num_leaves': 130, 'feature_fraction': 0.4728783158792353, 'bagging_fraction': 0.8744386806944018, 'bagging_freq': 3, 'min_child_samples': 24}. Best is trial 61 with value: 0.81375.\n"
     ]
    },
    {
     "name": "stdout",
     "output_type": "stream",
     "text": [
      "Early stopping, best iteration is:\n",
      "[4]\tvalid_0's binary_error: 0.195\n",
      "Training until validation scores don't improve for 10 rounds\n",
      "Early stopping, best iteration is:\n",
      "[17]\tvalid_0's binary_error: 0.1975\n"
     ]
    },
    {
     "name": "stderr",
     "output_type": "stream",
     "text": [
      "[I 2024-01-25 09:33:27,597] Trial 75 finished with value: 0.801875 and parameters: {'lambda_l1': 9.255118743828585e-07, 'lambda_l2': 9.867298069588306e-06, 'num_leaves': 43, 'feature_fraction': 0.5821301475603937, 'bagging_fraction': 0.9533438773699358, 'bagging_freq': 2, 'min_child_samples': 44}. Best is trial 61 with value: 0.81375.\n"
     ]
    },
    {
     "name": "stdout",
     "output_type": "stream",
     "text": [
      "Training until validation scores don't improve for 10 rounds\n",
      "Early stopping, best iteration is:\n",
      "[11]\tvalid_0's binary_error: 0.198125\n",
      "Training until validation scores don't improve for 10 rounds\n"
     ]
    },
    {
     "name": "stderr",
     "output_type": "stream",
     "text": [
      "[I 2024-01-25 09:33:27,874] Trial 76 finished with value: 0.80875 and parameters: {'lambda_l1': 1.0781857824751308e-07, 'lambda_l2': 1.0081116542766146e-06, 'num_leaves': 101, 'feature_fraction': 0.4992062089497272, 'bagging_fraction': 0.9312356999250262, 'bagging_freq': 1, 'min_child_samples': 57}. Best is trial 61 with value: 0.81375.\n",
      "[I 2024-01-25 09:33:28,040] Trial 77 finished with value: 0.808125 and parameters: {'lambda_l1': 3.10278708317907e-08, 'lambda_l2': 2.7490426040823924e-06, 'num_leaves': 153, 'feature_fraction': 0.46291207020733627, 'bagging_fraction': 0.9818091677383329, 'bagging_freq': 2, 'min_child_samples': 34}. Best is trial 61 with value: 0.81375.\n"
     ]
    },
    {
     "name": "stdout",
     "output_type": "stream",
     "text": [
      "Early stopping, best iteration is:\n",
      "[36]\tvalid_0's binary_error: 0.19125\n",
      "Training until validation scores don't improve for 10 rounds\n",
      "Early stopping, best iteration is:\n",
      "[14]\tvalid_0's binary_error: 0.191875\n"
     ]
    },
    {
     "name": "stderr",
     "output_type": "stream",
     "text": [
      "[I 2024-01-25 09:33:28,253] Trial 78 finished with value: 0.806875 and parameters: {'lambda_l1': 5.772349366851808e-06, 'lambda_l2': 5.85661020679943e-06, 'num_leaves': 180, 'feature_fraction': 0.4842931005189625, 'bagging_fraction': 0.9147746572977813, 'bagging_freq': 3, 'min_child_samples': 31}. Best is trial 61 with value: 0.81375.\n"
     ]
    },
    {
     "name": "stdout",
     "output_type": "stream",
     "text": [
      "Training until validation scores don't improve for 10 rounds\n",
      "Early stopping, best iteration is:\n",
      "[24]\tvalid_0's binary_error: 0.193125\n"
     ]
    },
    {
     "name": "stderr",
     "output_type": "stream",
     "text": [
      "[I 2024-01-25 09:33:28,512] Trial 79 finished with value: 0.805 and parameters: {'lambda_l1': 4.64059436585608e-08, 'lambda_l2': 2.652158761961652e-05, 'num_leaves': 168, 'feature_fraction': 0.5377227948895371, 'bagging_fraction': 0.8426993753738025, 'bagging_freq': 2, 'min_child_samples': 27}. Best is trial 61 with value: 0.81375.\n"
     ]
    },
    {
     "name": "stdout",
     "output_type": "stream",
     "text": [
      "Training until validation scores don't improve for 10 rounds\n",
      "Early stopping, best iteration is:\n",
      "[14]\tvalid_0's binary_error: 0.195\n"
     ]
    },
    {
     "name": "stderr",
     "output_type": "stream",
     "text": [
      "[I 2024-01-25 09:33:28,696] Trial 80 finished with value: 0.800625 and parameters: {'lambda_l1': 2.6880785753140914e-07, 'lambda_l2': 4.0903511323046707e-05, 'num_leaves': 191, 'feature_fraction': 0.4186347728552677, 'bagging_fraction': 0.8690353835161373, 'bagging_freq': 1, 'min_child_samples': 61}. Best is trial 61 with value: 0.81375.\n"
     ]
    },
    {
     "name": "stdout",
     "output_type": "stream",
     "text": [
      "Training until validation scores don't improve for 10 rounds\n",
      "Early stopping, best iteration is:\n",
      "[7]\tvalid_0's binary_error: 0.199375\n",
      "Training until validation scores don't improve for 10 rounds\n",
      "Early stopping, best iteration is:\n",
      "[14]\tvalid_0's binary_error: 0.186875\n"
     ]
    },
    {
     "name": "stderr",
     "output_type": "stream",
     "text": [
      "[I 2024-01-25 09:33:28,852] Trial 81 finished with value: 0.813125 and parameters: {'lambda_l1': 6.64324062027442e-08, 'lambda_l2': 1.2565624490726377e-05, 'num_leaves': 207, 'feature_fraction': 0.5532232879901904, 'bagging_fraction': 0.8999209232373224, 'bagging_freq': 2, 'min_child_samples': 35}. Best is trial 61 with value: 0.81375.\n",
      "[I 2024-01-25 09:33:29,072] Trial 82 finished with value: 0.80875 and parameters: {'lambda_l1': 1.4736554261089411e-07, 'lambda_l2': 1.3149197245385409e-05, 'num_leaves': 210, 'feature_fraction': 0.5521431161886176, 'bagging_fraction': 0.8893974162060562, 'bagging_freq': 2, 'min_child_samples': 40}. Best is trial 61 with value: 0.81375.\n"
     ]
    },
    {
     "name": "stdout",
     "output_type": "stream",
     "text": [
      "Training until validation scores don't improve for 10 rounds\n",
      "Early stopping, best iteration is:\n",
      "[20]\tvalid_0's binary_error: 0.19125\n"
     ]
    },
    {
     "name": "stderr",
     "output_type": "stream",
     "text": [
      "[I 2024-01-25 09:33:29,278] Trial 83 finished with value: 0.811875 and parameters: {'lambda_l1': 1.999550709985688e-08, 'lambda_l2': 5.477562176643487e-05, 'num_leaves': 253, 'feature_fraction': 0.5271609628032412, 'bagging_fraction': 0.9076443909163074, 'bagging_freq': 2, 'min_child_samples': 35}. Best is trial 61 with value: 0.81375.\n"
     ]
    },
    {
     "name": "stdout",
     "output_type": "stream",
     "text": [
      "Training until validation scores don't improve for 10 rounds\n",
      "Early stopping, best iteration is:\n",
      "[17]\tvalid_0's binary_error: 0.188125\n",
      "Training until validation scores don't improve for 10 rounds\n"
     ]
    },
    {
     "name": "stderr",
     "output_type": "stream",
     "text": [
      "[I 2024-01-25 09:33:29,515] Trial 84 finished with value: 0.8125 and parameters: {'lambda_l1': 7.328744326474604e-08, 'lambda_l2': 2.4393849366647235e-05, 'num_leaves': 229, 'feature_fraction': 0.5709448525836232, 'bagging_fraction': 0.9077994534208638, 'bagging_freq': 2, 'min_child_samples': 43}. Best is trial 61 with value: 0.81375.\n",
      "[I 2024-01-25 09:33:29,692] Trial 85 finished with value: 0.80375 and parameters: {'lambda_l1': 7.960400035120582e-08, 'lambda_l2': 1.8086529399649558e-05, 'num_leaves': 242, 'feature_fraction': 0.5872435738175082, 'bagging_fraction': 0.961035127335964, 'bagging_freq': 2, 'min_child_samples': 46}. Best is trial 61 with value: 0.81375.\n"
     ]
    },
    {
     "name": "stdout",
     "output_type": "stream",
     "text": [
      "Early stopping, best iteration is:\n",
      "[16]\tvalid_0's binary_error: 0.1875\n",
      "Training until validation scores don't improve for 10 rounds\n",
      "Early stopping, best iteration is:\n",
      "[17]\tvalid_0's binary_error: 0.19625\n"
     ]
    },
    {
     "name": "stderr",
     "output_type": "stream",
     "text": [
      "[I 2024-01-25 09:33:29,940] Trial 86 finished with value: 0.8075 and parameters: {'lambda_l1': 3.795519462108893e-08, 'lambda_l2': 6.134673379369572e-05, 'num_leaves': 245, 'feature_fraction': 0.5703324068924925, 'bagging_fraction': 0.9407105534762965, 'bagging_freq': 2, 'min_child_samples': 34}. Best is trial 61 with value: 0.81375.\n"
     ]
    },
    {
     "name": "stdout",
     "output_type": "stream",
     "text": [
      "Training until validation scores don't improve for 10 rounds\n",
      "Early stopping, best iteration is:\n",
      "[10]\tvalid_0's binary_error: 0.1925\n",
      "Training until validation scores don't improve for 10 rounds\n"
     ]
    },
    {
     "name": "stderr",
     "output_type": "stream",
     "text": [
      "[I 2024-01-25 09:33:30,157] Trial 87 finished with value: 0.806875 and parameters: {'lambda_l1': 9.623569246259071e-08, 'lambda_l2': 0.00015781655339103143, 'num_leaves': 255, 'feature_fraction': 0.5342625354660351, 'bagging_fraction': 0.9133086423543935, 'bagging_freq': 3, 'min_child_samples': 43}. Best is trial 61 with value: 0.81375.\n",
      "[I 2024-01-25 09:33:30,341] Trial 88 finished with value: 0.809375 and parameters: {'lambda_l1': 1.619806458922505e-08, 'lambda_l2': 2.7624494638461363e-05, 'num_leaves': 231, 'feature_fraction': 0.6027778121952047, 'bagging_fraction': 0.9845831811606905, 'bagging_freq': 7, 'min_child_samples': 37}. Best is trial 61 with value: 0.81375.\n"
     ]
    },
    {
     "name": "stdout",
     "output_type": "stream",
     "text": [
      "Early stopping, best iteration is:\n",
      "[16]\tvalid_0's binary_error: 0.193125\n",
      "Training until validation scores don't improve for 10 rounds\n",
      "Early stopping, best iteration is:\n",
      "[14]\tvalid_0's binary_error: 0.190625\n"
     ]
    },
    {
     "name": "stderr",
     "output_type": "stream",
     "text": [
      "[I 2024-01-25 09:33:30,517] Trial 89 finished with value: 0.8075 and parameters: {'lambda_l1': 1.681518870365596e-07, 'lambda_l2': 5.807491831337343e-06, 'num_leaves': 221, 'feature_fraction': 0.5648964801837262, 'bagging_fraction': 0.9255593856776582, 'bagging_freq': 2, 'min_child_samples': 49}. Best is trial 61 with value: 0.81375.\n"
     ]
    },
    {
     "name": "stdout",
     "output_type": "stream",
     "text": [
      "Training until validation scores don't improve for 10 rounds\n",
      "Early stopping, best iteration is:\n",
      "[17]\tvalid_0's binary_error: 0.1925\n",
      "Training until validation scores don't improve for 10 rounds\n"
     ]
    },
    {
     "name": "stderr",
     "output_type": "stream",
     "text": [
      "[I 2024-01-25 09:33:30,724] Trial 90 finished with value: 0.805625 and parameters: {'lambda_l1': 5.408113382965702e-07, 'lambda_l2': 4.720676356937939e-05, 'num_leaves': 237, 'feature_fraction': 0.5004721343486306, 'bagging_fraction': 0.9591180818048959, 'bagging_freq': 3, 'min_child_samples': 85}. Best is trial 61 with value: 0.81375.\n"
     ]
    },
    {
     "name": "stdout",
     "output_type": "stream",
     "text": [
      "Early stopping, best iteration is:\n",
      "[27]\tvalid_0's binary_error: 0.194375\n",
      "Training until validation scores don't improve for 10 rounds\n",
      "Early stopping, best iteration is:\n",
      "[17]\tvalid_0's binary_error: 0.18875\n"
     ]
    },
    {
     "name": "stderr",
     "output_type": "stream",
     "text": [
      "[I 2024-01-25 09:33:30,917] Trial 91 finished with value: 0.81125 and parameters: {'lambda_l1': 2.180578045484953e-08, 'lambda_l2': 1.0732048095401708e-05, 'num_leaves': 224, 'feature_fraction': 0.48618047926862684, 'bagging_fraction': 0.9083230355632476, 'bagging_freq': 2, 'min_child_samples': 36}. Best is trial 61 with value: 0.81375.\n",
      "[I 2024-01-25 09:33:31,107] Trial 92 finished with value: 0.810625 and parameters: {'lambda_l1': 2.2680323439909475e-08, 'lambda_l2': 8.438096290495887e-06, 'num_leaves': 223, 'feature_fraction': 0.5233520918573474, 'bagging_fraction': 0.9068202368760953, 'bagging_freq': 2, 'min_child_samples': 40}. Best is trial 61 with value: 0.81375.\n"
     ]
    },
    {
     "name": "stdout",
     "output_type": "stream",
     "text": [
      "Training until validation scores don't improve for 10 rounds\n",
      "Early stopping, best iteration is:\n",
      "[15]\tvalid_0's binary_error: 0.189375\n",
      "Training until validation scores don't improve for 10 rounds\n"
     ]
    },
    {
     "name": "stderr",
     "output_type": "stream",
     "text": [
      "[I 2024-01-25 09:33:31,374] Trial 93 finished with value: 0.81 and parameters: {'lambda_l1': 5.092870435793466e-08, 'lambda_l2': 2.326176746074727e-05, 'num_leaves': 231, 'feature_fraction': 0.5496663730702896, 'bagging_fraction': 0.937621328712317, 'bagging_freq': 2, 'min_child_samples': 29}. Best is trial 61 with value: 0.81375.\n"
     ]
    },
    {
     "name": "stdout",
     "output_type": "stream",
     "text": [
      "Early stopping, best iteration is:\n",
      "[13]\tvalid_0's binary_error: 0.19\n",
      "Training until validation scores don't improve for 10 rounds\n"
     ]
    },
    {
     "name": "stderr",
     "output_type": "stream",
     "text": [
      "[I 2024-01-25 09:33:31,622] Trial 94 finished with value: 0.8125 and parameters: {'lambda_l1': 3.270501703191689e-08, 'lambda_l2': 1.201942065744946e-05, 'num_leaves': 252, 'feature_fraction': 0.4834203088816074, 'bagging_fraction': 0.8687024151224, 'bagging_freq': 2, 'min_child_samples': 35}. Best is trial 61 with value: 0.81375.\n",
      "[I 2024-01-25 09:33:31,800] Trial 95 finished with value: 0.8125 and parameters: {'lambda_l1': 7.40771706546042e-08, 'lambda_l2': 3.445844656283401e-06, 'num_leaves': 250, 'feature_fraction': 0.5276275812967899, 'bagging_fraction': 0.8822166306899403, 'bagging_freq': 2, 'min_child_samples': 31}. Best is trial 61 with value: 0.81375.\n"
     ]
    },
    {
     "name": "stdout",
     "output_type": "stream",
     "text": [
      "Early stopping, best iteration is:\n",
      "[18]\tvalid_0's binary_error: 0.1875\n",
      "Training until validation scores don't improve for 10 rounds\n",
      "Early stopping, best iteration is:\n",
      "[11]\tvalid_0's binary_error: 0.1875\n",
      "Training until validation scores don't improve for 10 rounds\n"
     ]
    },
    {
     "name": "stderr",
     "output_type": "stream",
     "text": [
      "[I 2024-01-25 09:33:32,295] Trial 96 finished with value: 0.809375 and parameters: {'lambda_l1': 3.347797501481201e-08, 'lambda_l2': 3.2070902293632795e-06, 'num_leaves': 250, 'feature_fraction': 0.5009369551392716, 'bagging_fraction': 0.8852632527399877, 'bagging_freq': 2, 'min_child_samples': 32}. Best is trial 61 with value: 0.81375.\n"
     ]
    },
    {
     "name": "stdout",
     "output_type": "stream",
     "text": [
      "Early stopping, best iteration is:\n",
      "[21]\tvalid_0's binary_error: 0.190625\n",
      "Training until validation scores don't improve for 10 rounds\n"
     ]
    },
    {
     "name": "stderr",
     "output_type": "stream",
     "text": [
      "[I 2024-01-25 09:33:32,591] Trial 97 finished with value: 0.80375 and parameters: {'lambda_l1': 2.8328791890218825e-07, 'lambda_l2': 1.3961028398733452e-05, 'num_leaves': 249, 'feature_fraction': 0.5269061591032986, 'bagging_fraction': 0.8665076136529748, 'bagging_freq': 2, 'min_child_samples': 42}. Best is trial 61 with value: 0.81375.\n"
     ]
    },
    {
     "name": "stdout",
     "output_type": "stream",
     "text": [
      "Early stopping, best iteration is:\n",
      "[16]\tvalid_0's binary_error: 0.19625\n",
      "Training until validation scores don't improve for 10 rounds\n"
     ]
    },
    {
     "name": "stderr",
     "output_type": "stream",
     "text": [
      "[I 2024-01-25 09:33:32,881] Trial 98 finished with value: 0.80375 and parameters: {'lambda_l1': 5.7611255965104335e-08, 'lambda_l2': 0.0014152112002744845, 'num_leaves': 254, 'feature_fraction': 0.4758455351351363, 'bagging_fraction': 0.8370504119092204, 'bagging_freq': 3, 'min_child_samples': 26}. Best is trial 61 with value: 0.81375.\n"
     ]
    },
    {
     "name": "stdout",
     "output_type": "stream",
     "text": [
      "Early stopping, best iteration is:\n",
      "[15]\tvalid_0's binary_error: 0.19625\n",
      "Training until validation scores don't improve for 10 rounds\n"
     ]
    },
    {
     "name": "stderr",
     "output_type": "stream",
     "text": [
      "[I 2024-01-25 09:33:33,083] Trial 99 finished with value: 0.809375 and parameters: {'lambda_l1': 1.440616285123319e-08, 'lambda_l2': 4.6981756149609e-06, 'num_leaves': 240, 'feature_fraction': 0.46370523019632864, 'bagging_fraction': 0.8635190405135416, 'bagging_freq': 2, 'min_child_samples': 48}. Best is trial 61 with value: 0.81375.\n"
     ]
    },
    {
     "name": "stdout",
     "output_type": "stream",
     "text": [
      "Early stopping, best iteration is:\n",
      "[13]\tvalid_0's binary_error: 0.190625\n"
     ]
    },
    {
     "name": "stderr",
     "output_type": "stream",
     "text": [
      "[I 2024-01-25 09:33:33,419] A new study created in memory with name: no-name-2ead6984-8d2d-4e62-9791-efc01b0d135b\n",
      "[I 2024-01-25 09:33:33,511] Trial 0 finished with value: 0.8 and parameters: {'lambda_l1': 2.2363296656984706, 'lambda_l2': 0.01942284825118439, 'num_leaves': 168, 'feature_fraction': 0.5837379675996057, 'bagging_fraction': 0.5683584532844921, 'bagging_freq': 7, 'min_child_samples': 10}. Best is trial 0 with value: 0.8.\n",
      "[I 2024-01-25 09:33:33,615] Trial 1 finished with value: 0.8 and parameters: {'lambda_l1': 0.06385985337984754, 'lambda_l2': 2.9087396530201123e-07, 'num_leaves': 43, 'feature_fraction': 0.40394949743502157, 'bagging_fraction': 0.6399982149017412, 'bagging_freq': 5, 'min_child_samples': 16}. Best is trial 0 with value: 0.8.\n"
     ]
    },
    {
     "name": "stdout",
     "output_type": "stream",
     "text": [
      "Training until validation scores don't improve for 10 rounds\n",
      "Early stopping, best iteration is:\n",
      "[3]\tvalid_0's binary_error: 0.2\n",
      "Training until validation scores don't improve for 10 rounds\n",
      "Early stopping, best iteration is:\n",
      "[19]\tvalid_0's binary_error: 0.2\n",
      "Training until validation scores don't improve for 10 rounds\n"
     ]
    },
    {
     "name": "stderr",
     "output_type": "stream",
     "text": [
      "[I 2024-01-25 09:33:33,820] Trial 2 finished with value: 0.800625 and parameters: {'lambda_l1': 1.267442802134208e-05, 'lambda_l2': 1.8616221574277112e-08, 'num_leaves': 178, 'feature_fraction': 0.9478908885482125, 'bagging_fraction': 0.748333046900161, 'bagging_freq': 1, 'min_child_samples': 36}. Best is trial 2 with value: 0.800625.\n",
      "[I 2024-01-25 09:33:33,902] Trial 3 finished with value: 0.79125 and parameters: {'lambda_l1': 3.770743491074738, 'lambda_l2': 0.17200708820299704, 'num_leaves': 64, 'feature_fraction': 0.944020379891831, 'bagging_fraction': 0.6300386451753616, 'bagging_freq': 6, 'min_child_samples': 76}. Best is trial 2 with value: 0.800625.\n"
     ]
    },
    {
     "name": "stdout",
     "output_type": "stream",
     "text": [
      "Early stopping, best iteration is:\n",
      "[18]\tvalid_0's binary_error: 0.199375\n",
      "Training until validation scores don't improve for 10 rounds\n",
      "Early stopping, best iteration is:\n",
      "[17]\tvalid_0's binary_error: 0.20875\n",
      "Training until validation scores don't improve for 10 rounds\n"
     ]
    },
    {
     "name": "stderr",
     "output_type": "stream",
     "text": [
      "[I 2024-01-25 09:33:34,286] Trial 4 finished with value: 0.78125 and parameters: {'lambda_l1': 3.550183901187873e-08, 'lambda_l2': 0.0002485076822141552, 'num_leaves': 226, 'feature_fraction': 0.9396629693845808, 'bagging_fraction': 0.7729256008628778, 'bagging_freq': 3, 'min_child_samples': 5}. Best is trial 2 with value: 0.800625.\n"
     ]
    },
    {
     "name": "stdout",
     "output_type": "stream",
     "text": [
      "Early stopping, best iteration is:\n",
      "[18]\tvalid_0's binary_error: 0.21875\n",
      "Training until validation scores don't improve for 10 rounds\n"
     ]
    },
    {
     "name": "stderr",
     "output_type": "stream",
     "text": [
      "[I 2024-01-25 09:33:34,505] Trial 5 finished with value: 0.80125 and parameters: {'lambda_l1': 2.1817820395519747e-07, 'lambda_l2': 9.235757998680058e-08, 'num_leaves': 248, 'feature_fraction': 0.9705718529727088, 'bagging_fraction': 0.8309319517576055, 'bagging_freq': 3, 'min_child_samples': 79}. Best is trial 5 with value: 0.80125.\n",
      "[I 2024-01-25 09:33:34,570] Trial 6 finished with value: 0.76875 and parameters: {'lambda_l1': 8.133985567548215e-07, 'lambda_l2': 3.4482595600595123, 'num_leaves': 4, 'feature_fraction': 0.8121162444550544, 'bagging_fraction': 0.7314552102337133, 'bagging_freq': 4, 'min_child_samples': 14}. Best is trial 5 with value: 0.80125.\n",
      "[I 2024-01-25 09:33:34,671] Trial 7 finished with value: 0.794375 and parameters: {'lambda_l1': 0.01541959196036222, 'lambda_l2': 8.003915807492226e-07, 'num_leaves': 10, 'feature_fraction': 0.45561277655590304, 'bagging_fraction': 0.6511967873830729, 'bagging_freq': 6, 'min_child_samples': 79}. Best is trial 5 with value: 0.80125.\n"
     ]
    },
    {
     "name": "stdout",
     "output_type": "stream",
     "text": [
      "Early stopping, best iteration is:\n",
      "[24]\tvalid_0's binary_error: 0.19875\n",
      "Training until validation scores don't improve for 10 rounds\n",
      "Early stopping, best iteration is:\n",
      "[13]\tvalid_0's binary_error: 0.23125\n",
      "Training until validation scores don't improve for 10 rounds\n",
      "Early stopping, best iteration is:\n",
      "[56]\tvalid_0's binary_error: 0.205625\n",
      "Training until validation scores don't improve for 10 rounds\n"
     ]
    },
    {
     "name": "stderr",
     "output_type": "stream",
     "text": [
      "[I 2024-01-25 09:33:34,957] Trial 8 finished with value: 0.80125 and parameters: {'lambda_l1': 4.807687443160832e-06, 'lambda_l2': 0.0015505597768405283, 'num_leaves': 120, 'feature_fraction': 0.4553403164070607, 'bagging_fraction': 0.717669340508506, 'bagging_freq': 2, 'min_child_samples': 73}. Best is trial 5 with value: 0.80125.\n",
      "[I 2024-01-25 09:33:35,061] Trial 9 finished with value: 0.8 and parameters: {'lambda_l1': 0.6098344210968571, 'lambda_l2': 0.00974897030956331, 'num_leaves': 21, 'feature_fraction': 0.7225106953824705, 'bagging_fraction': 0.7239929651125327, 'bagging_freq': 7, 'min_child_samples': 78}. Best is trial 5 with value: 0.80125.\n"
     ]
    },
    {
     "name": "stdout",
     "output_type": "stream",
     "text": [
      "Early stopping, best iteration is:\n",
      "[37]\tvalid_0's binary_error: 0.19875\n",
      "Training until validation scores don't improve for 10 rounds\n",
      "Early stopping, best iteration is:\n",
      "[23]\tvalid_0's binary_error: 0.2\n",
      "Training until validation scores don't improve for 10 rounds\n"
     ]
    },
    {
     "name": "stderr",
     "output_type": "stream",
     "text": [
      "[I 2024-01-25 09:33:35,315] Trial 10 finished with value: 0.804375 and parameters: {'lambda_l1': 1.904823934939492e-08, 'lambda_l2': 1.6114384284632214e-05, 'num_leaves': 252, 'feature_fraction': 0.8356517875695001, 'bagging_fraction': 0.9206022718490319, 'bagging_freq': 3, 'min_child_samples': 98}. Best is trial 10 with value: 0.804375.\n"
     ]
    },
    {
     "name": "stdout",
     "output_type": "stream",
     "text": [
      "Early stopping, best iteration is:\n",
      "[35]\tvalid_0's binary_error: 0.195625\n",
      "Training until validation scores don't improve for 10 rounds\n",
      "Early stopping, best iteration is:\n",
      "[15]\tvalid_0's binary_error: 0.2\n"
     ]
    },
    {
     "name": "stderr",
     "output_type": "stream",
     "text": [
      "[I 2024-01-25 09:33:35,511] Trial 11 finished with value: 0.8 and parameters: {'lambda_l1': 1.1101394257141946e-08, 'lambda_l2': 1.6918562422641235e-05, 'num_leaves': 249, 'feature_fraction': 0.8261652845195939, 'bagging_fraction': 0.9361524536542764, 'bagging_freq': 3, 'min_child_samples': 93}. Best is trial 10 with value: 0.804375.\n",
      "[I 2024-01-25 09:33:35,662] Trial 12 finished with value: 0.80125 and parameters: {'lambda_l1': 1.3228571689273202e-07, 'lambda_l2': 1.0881260640621146e-05, 'num_leaves': 194, 'feature_fraction': 0.9995720432674123, 'bagging_fraction': 0.9154528673854209, 'bagging_freq': 3, 'min_child_samples': 96}. Best is trial 10 with value: 0.804375.\n"
     ]
    },
    {
     "name": "stdout",
     "output_type": "stream",
     "text": [
      "Training until validation scores don't improve for 10 rounds\n",
      "Early stopping, best iteration is:\n",
      "[9]\tvalid_0's binary_error: 0.19875\n",
      "Training until validation scores don't improve for 10 rounds\n"
     ]
    },
    {
     "name": "stderr",
     "output_type": "stream",
     "text": [
      "[I 2024-01-25 09:33:35,896] Trial 13 finished with value: 0.810625 and parameters: {'lambda_l1': 5.691730889114138e-05, 'lambda_l2': 1.2401006806889136e-08, 'num_leaves': 254, 'feature_fraction': 0.8337582953134899, 'bagging_fraction': 0.8532786067864142, 'bagging_freq': 1, 'min_child_samples': 55}. Best is trial 13 with value: 0.810625.\n"
     ]
    },
    {
     "name": "stdout",
     "output_type": "stream",
     "text": [
      "Early stopping, best iteration is:\n",
      "[27]\tvalid_0's binary_error: 0.189375\n",
      "Training until validation scores don't improve for 10 rounds\n"
     ]
    },
    {
     "name": "stderr",
     "output_type": "stream",
     "text": [
      "[I 2024-01-25 09:33:36,223] Trial 14 finished with value: 0.803125 and parameters: {'lambda_l1': 1.1207023664196148e-05, 'lambda_l2': 1.643982852402987e-08, 'num_leaves': 131, 'feature_fraction': 0.8274410023356318, 'bagging_fraction': 0.9873940972071287, 'bagging_freq': 1, 'min_child_samples': 50}. Best is trial 13 with value: 0.810625.\n"
     ]
    },
    {
     "name": "stdout",
     "output_type": "stream",
     "text": [
      "Early stopping, best iteration is:\n",
      "[22]\tvalid_0's binary_error: 0.196875\n",
      "Training until validation scores don't improve for 10 rounds\n",
      "Early stopping, best iteration is:\n",
      "[17]\tvalid_0's binary_error: 0.191875\n"
     ]
    },
    {
     "name": "stderr",
     "output_type": "stream",
     "text": [
      "[I 2024-01-25 09:33:36,428] Trial 15 finished with value: 0.808125 and parameters: {'lambda_l1': 0.00034485640468928045, 'lambda_l2': 2.7000776484809504e-06, 'num_leaves': 209, 'feature_fraction': 0.7368209072121753, 'bagging_fraction': 0.8482228448898962, 'bagging_freq': 2, 'min_child_samples': 42}. Best is trial 13 with value: 0.810625.\n",
      "[I 2024-01-25 09:33:36,616] Trial 16 finished with value: 0.8 and parameters: {'lambda_l1': 0.0003426619424181332, 'lambda_l2': 1.113988196493842e-06, 'num_leaves': 208, 'feature_fraction': 0.7090582503931846, 'bagging_fraction': 0.41024657956764604, 'bagging_freq': 1, 'min_child_samples': 38}. Best is trial 13 with value: 0.810625.\n"
     ]
    },
    {
     "name": "stdout",
     "output_type": "stream",
     "text": [
      "Training until validation scores don't improve for 10 rounds\n",
      "Early stopping, best iteration is:\n",
      "[5]\tvalid_0's binary_error: 0.2\n",
      "Training until validation scores don't improve for 10 rounds\n"
     ]
    },
    {
     "name": "stderr",
     "output_type": "stream",
     "text": [
      "[I 2024-01-25 09:33:36,797] Trial 17 finished with value: 0.808125 and parameters: {'lambda_l1': 0.0003280288057997641, 'lambda_l2': 1.4194576306215221e-08, 'num_leaves': 149, 'feature_fraction': 0.6643429457282793, 'bagging_fraction': 0.8379198151368141, 'bagging_freq': 2, 'min_child_samples': 58}. Best is trial 13 with value: 0.810625.\n"
     ]
    },
    {
     "name": "stdout",
     "output_type": "stream",
     "text": [
      "Early stopping, best iteration is:\n",
      "[17]\tvalid_0's binary_error: 0.191875\n",
      "Training until validation scores don't improve for 10 rounds\n",
      "Early stopping, best iteration is:\n",
      "[14]\tvalid_0's binary_error: 0.194375\n"
     ]
    },
    {
     "name": "stderr",
     "output_type": "stream",
     "text": [
      "[I 2024-01-25 09:33:37,003] Trial 18 finished with value: 0.805625 and parameters: {'lambda_l1': 0.0021275883816292284, 'lambda_l2': 1.0413570345998133e-06, 'num_leaves': 92, 'feature_fraction': 0.7627024064734391, 'bagging_fraction': 0.8376305595819614, 'bagging_freq': 2, 'min_child_samples': 28}. Best is trial 13 with value: 0.810625.\n",
      "[I 2024-01-25 09:33:37,215] Trial 19 finished with value: 0.80375 and parameters: {'lambda_l1': 6.459191187509524e-05, 'lambda_l2': 5.015498025055155e-08, 'num_leaves': 218, 'feature_fraction': 0.8934411866662791, 'bagging_fraction': 0.8088518402054395, 'bagging_freq': 2, 'min_child_samples': 56}. Best is trial 13 with value: 0.810625.\n"
     ]
    },
    {
     "name": "stdout",
     "output_type": "stream",
     "text": [
      "Training until validation scores don't improve for 10 rounds\n",
      "Early stopping, best iteration is:\n",
      "[15]\tvalid_0's binary_error: 0.19625\n"
     ]
    },
    {
     "name": "stderr",
     "output_type": "stream",
     "text": [
      "[I 2024-01-25 09:33:37,522] Trial 20 finished with value: 0.805625 and parameters: {'lambda_l1': 0.0025680819894185096, 'lambda_l2': 1.8079071997632367e-07, 'num_leaves': 227, 'feature_fraction': 0.6378230275815742, 'bagging_fraction': 0.8693919784208555, 'bagging_freq': 4, 'min_child_samples': 50}. Best is trial 13 with value: 0.810625.\n"
     ]
    },
    {
     "name": "stdout",
     "output_type": "stream",
     "text": [
      "Training until validation scores don't improve for 10 rounds\n",
      "Early stopping, best iteration is:\n",
      "[25]\tvalid_0's binary_error: 0.194375\n"
     ]
    },
    {
     "name": "stderr",
     "output_type": "stream",
     "text": [
      "[I 2024-01-25 09:33:37,729] Trial 21 finished with value: 0.8075 and parameters: {'lambda_l1': 0.00017774394244965768, 'lambda_l2': 1.5001291266997894e-08, 'num_leaves': 152, 'feature_fraction': 0.6155986798014043, 'bagging_fraction': 0.871524975405227, 'bagging_freq': 2, 'min_child_samples': 61}. Best is trial 13 with value: 0.810625.\n"
     ]
    },
    {
     "name": "stdout",
     "output_type": "stream",
     "text": [
      "Training until validation scores don't improve for 10 rounds\n",
      "Early stopping, best iteration is:\n",
      "[12]\tvalid_0's binary_error: 0.1925\n"
     ]
    },
    {
     "name": "stderr",
     "output_type": "stream",
     "text": [
      "[I 2024-01-25 09:33:37,995] Trial 22 finished with value: 0.803125 and parameters: {'lambda_l1': 0.0005849662094259109, 'lambda_l2': 1.3863347179954948e-08, 'num_leaves': 182, 'feature_fraction': 0.6725888260722009, 'bagging_fraction': 0.8025726427570368, 'bagging_freq': 1, 'min_child_samples': 65}. Best is trial 13 with value: 0.810625.\n"
     ]
    },
    {
     "name": "stdout",
     "output_type": "stream",
     "text": [
      "Training until validation scores don't improve for 10 rounds\n",
      "Early stopping, best iteration is:\n",
      "[23]\tvalid_0's binary_error: 0.196875\n",
      "Training until validation scores don't improve for 10 rounds\n"
     ]
    },
    {
     "name": "stderr",
     "output_type": "stream",
     "text": [
      "[I 2024-01-25 09:33:38,244] Trial 23 finished with value: 0.80375 and parameters: {'lambda_l1': 6.310087564974271e-05, 'lambda_l2': 1.3145707885882455e-07, 'num_leaves': 142, 'feature_fraction': 0.7521226726830421, 'bagging_fraction': 0.9878449166275292, 'bagging_freq': 2, 'min_child_samples': 43}. Best is trial 13 with value: 0.810625.\n",
      "[I 2024-01-25 09:33:38,407] Trial 24 finished with value: 0.80125 and parameters: {'lambda_l1': 4.515163819278653e-05, 'lambda_l2': 4.328385206313392e-06, 'num_leaves': 110, 'feature_fraction': 0.7795795005015439, 'bagging_fraction': 0.8631976663612255, 'bagging_freq': 1, 'min_child_samples': 29}. Best is trial 13 with value: 0.810625.\n"
     ]
    },
    {
     "name": "stdout",
     "output_type": "stream",
     "text": [
      "Early stopping, best iteration is:\n",
      "[19]\tvalid_0's binary_error: 0.19625\n",
      "Training until validation scores don't improve for 10 rounds\n",
      "Early stopping, best iteration is:\n",
      "[6]\tvalid_0's binary_error: 0.19875\n"
     ]
    },
    {
     "name": "stderr",
     "output_type": "stream",
     "text": [
      "[I 2024-01-25 09:33:38,610] Trial 25 finished with value: 0.800625 and parameters: {'lambda_l1': 0.002400906537743979, 'lambda_l2': 7.415690736331922e-08, 'num_leaves': 194, 'feature_fraction': 0.8768200758367054, 'bagging_fraction': 0.7666376443361073, 'bagging_freq': 4, 'min_child_samples': 66}. Best is trial 13 with value: 0.810625.\n"
     ]
    },
    {
     "name": "stdout",
     "output_type": "stream",
     "text": [
      "Training until validation scores don't improve for 10 rounds\n",
      "Early stopping, best iteration is:\n",
      "[24]\tvalid_0's binary_error: 0.199375\n",
      "Training until validation scores don't improve for 10 rounds\n"
     ]
    },
    {
     "name": "stderr",
     "output_type": "stream",
     "text": [
      "[I 2024-01-25 09:33:38,757] Trial 26 finished with value: 0.81125 and parameters: {'lambda_l1': 2.7811733488532756e-06, 'lambda_l2': 3.549477891250769e-07, 'num_leaves': 153, 'feature_fraction': 0.6805161876148962, 'bagging_fraction': 0.7954080055881925, 'bagging_freq': 2, 'min_child_samples': 43}. Best is trial 26 with value: 0.81125.\n",
      "[I 2024-01-25 09:33:38,914] Trial 27 finished with value: 0.8075 and parameters: {'lambda_l1': 1.8288920467673955e-06, 'lambda_l2': 3.172748329713254e-06, 'num_leaves': 236, 'feature_fraction': 0.7173359984510624, 'bagging_fraction': 0.7796340912569986, 'bagging_freq': 1, 'min_child_samples': 46}. Best is trial 26 with value: 0.81125.\n"
     ]
    },
    {
     "name": "stdout",
     "output_type": "stream",
     "text": [
      "Early stopping, best iteration is:\n",
      "[14]\tvalid_0's binary_error: 0.18875\n",
      "Training until validation scores don't improve for 10 rounds\n",
      "Early stopping, best iteration is:\n",
      "[19]\tvalid_0's binary_error: 0.1925\n",
      "Training until validation scores don't improve for 10 rounds\n"
     ]
    },
    {
     "name": "stderr",
     "output_type": "stream",
     "text": [
      "[I 2024-01-25 09:33:39,311] Trial 28 finished with value: 0.806875 and parameters: {'lambda_l1': 2.419150720985028e-06, 'lambda_l2': 3.8717139947847074e-07, 'num_leaves': 206, 'feature_fraction': 0.7622815384868462, 'bagging_fraction': 0.8953542878146143, 'bagging_freq': 2, 'min_child_samples': 26}. Best is trial 26 with value: 0.81125.\n"
     ]
    },
    {
     "name": "stdout",
     "output_type": "stream",
     "text": [
      "Early stopping, best iteration is:\n",
      "[17]\tvalid_0's binary_error: 0.193125\n",
      "Training until validation scores don't improve for 10 rounds\n"
     ]
    },
    {
     "name": "stderr",
     "output_type": "stream",
     "text": [
      "[I 2024-01-25 09:33:39,814] Trial 29 finished with value: 0.8075 and parameters: {'lambda_l1': 1.1679125298713741e-05, 'lambda_l2': 0.0001504047111693953, 'num_leaves': 160, 'feature_fraction': 0.5791749838509195, 'bagging_fraction': 0.7984310729097345, 'bagging_freq': 1, 'min_child_samples': 39}. Best is trial 26 with value: 0.81125.\n"
     ]
    },
    {
     "name": "stdout",
     "output_type": "stream",
     "text": [
      "Early stopping, best iteration is:\n",
      "[34]\tvalid_0's binary_error: 0.1925\n",
      "Training until validation scores don't improve for 10 rounds\n"
     ]
    },
    {
     "name": "stderr",
     "output_type": "stream",
     "text": [
      "[I 2024-01-25 09:33:40,151] Trial 30 finished with value: 0.806875 and parameters: {'lambda_l1': 5.037711052932107e-07, 'lambda_l2': 5.614651316802546e-05, 'num_leaves': 167, 'feature_fraction': 0.8834844968658554, 'bagging_fraction': 0.94587738857261, 'bagging_freq': 4, 'min_child_samples': 34}. Best is trial 26 with value: 0.81125.\n",
      "[I 2024-01-25 09:33:40,307] Trial 31 finished with value: 0.810625 and parameters: {'lambda_l1': 2.650991621370205e-05, 'lambda_l2': 5.790094327657788e-08, 'num_leaves': 98, 'feature_fraction': 0.6738604102404371, 'bagging_fraction': 0.8365040734127086, 'bagging_freq': 2, 'min_child_samples': 57}. Best is trial 26 with value: 0.81125.\n"
     ]
    },
    {
     "name": "stdout",
     "output_type": "stream",
     "text": [
      "Early stopping, best iteration is:\n",
      "[10]\tvalid_0's binary_error: 0.193125\n",
      "Training until validation scores don't improve for 10 rounds\n",
      "Early stopping, best iteration is:\n",
      "[15]\tvalid_0's binary_error: 0.189375\n"
     ]
    },
    {
     "name": "stderr",
     "output_type": "stream",
     "text": [
      "[I 2024-01-25 09:33:40,515] Trial 32 finished with value: 0.8125 and parameters: {'lambda_l1': 2.9841598701806364e-05, 'lambda_l2': 2.771088120450409e-07, 'num_leaves': 87, 'feature_fraction': 0.679728111655173, 'bagging_fraction': 0.8867629857151818, 'bagging_freq': 2, 'min_child_samples': 45}. Best is trial 32 with value: 0.8125.\n"
     ]
    },
    {
     "name": "stdout",
     "output_type": "stream",
     "text": [
      "Training until validation scores don't improve for 10 rounds\n",
      "Early stopping, best iteration is:\n",
      "[17]\tvalid_0's binary_error: 0.1875\n",
      "Training until validation scores don't improve for 10 rounds\n"
     ]
    },
    {
     "name": "stderr",
     "output_type": "stream",
     "text": [
      "[I 2024-01-25 09:33:40,754] Trial 33 finished with value: 0.810625 and parameters: {'lambda_l1': 3.254113972764845e-05, 'lambda_l2': 2.138414102615579e-07, 'num_leaves': 77, 'feature_fraction': 0.6854928751166561, 'bagging_fraction': 0.8837139075722327, 'bagging_freq': 3, 'min_child_samples': 54}. Best is trial 32 with value: 0.8125.\n"
     ]
    },
    {
     "name": "stdout",
     "output_type": "stream",
     "text": [
      "Early stopping, best iteration is:\n",
      "[33]\tvalid_0's binary_error: 0.189375\n",
      "Training until validation scores don't improve for 10 rounds\n"
     ]
    },
    {
     "name": "stderr",
     "output_type": "stream",
     "text": [
      "[I 2024-01-25 09:33:41,038] Trial 34 finished with value: 0.808125 and parameters: {'lambda_l1': 3.877002153203045e-06, 'lambda_l2': 3.7380193054660856e-07, 'num_leaves': 47, 'feature_fraction': 0.613934740208894, 'bagging_fraction': 0.8051261086174477, 'bagging_freq': 1, 'min_child_samples': 47}. Best is trial 32 with value: 0.8125.\n",
      "[I 2024-01-25 09:33:41,188] Trial 35 finished with value: 0.7975 and parameters: {'lambda_l1': 1.1494225368970385e-05, 'lambda_l2': 6.12992891274148e-08, 'num_leaves': 98, 'feature_fraction': 0.6897816829568905, 'bagging_fraction': 0.7594798063299569, 'bagging_freq': 5, 'min_child_samples': 65}. Best is trial 32 with value: 0.8125.\n"
     ]
    },
    {
     "name": "stdout",
     "output_type": "stream",
     "text": [
      "Early stopping, best iteration is:\n",
      "[19]\tvalid_0's binary_error: 0.191875\n",
      "Training until validation scores don't improve for 10 rounds\n",
      "Early stopping, best iteration is:\n",
      "[12]\tvalid_0's binary_error: 0.2025\n"
     ]
    },
    {
     "name": "stderr",
     "output_type": "stream",
     "text": [
      "[I 2024-01-25 09:33:41,350] Trial 36 finished with value: 0.81125 and parameters: {'lambda_l1': 1.9930257936692666e-05, 'lambda_l2': 4.592136676032889e-08, 'num_leaves': 70, 'feature_fraction': 0.7898561700489196, 'bagging_fraction': 0.8951641968746599, 'bagging_freq': 2, 'min_child_samples': 33}. Best is trial 32 with value: 0.8125.\n",
      "[I 2024-01-25 09:33:41,496] Trial 37 finished with value: 0.80375 and parameters: {'lambda_l1': 1.0525699710771161e-06, 'lambda_l2': 3.9417441240661085e-08, 'num_leaves': 56, 'feature_fraction': 0.7938585188187444, 'bagging_fraction': 0.9040073184497627, 'bagging_freq': 3, 'min_child_samples': 21}. Best is trial 32 with value: 0.8125.\n"
     ]
    },
    {
     "name": "stdout",
     "output_type": "stream",
     "text": [
      "Training until validation scores don't improve for 10 rounds\n",
      "Early stopping, best iteration is:\n",
      "[11]\tvalid_0's binary_error: 0.18875\n",
      "Training until validation scores don't improve for 10 rounds\n",
      "Early stopping, best iteration is:\n",
      "[6]\tvalid_0's binary_error: 0.19625\n"
     ]
    },
    {
     "name": "stderr",
     "output_type": "stream",
     "text": [
      "[I 2024-01-25 09:33:41,659] Trial 38 finished with value: 0.806875 and parameters: {'lambda_l1': 4.884416085525912e-07, 'lambda_l2': 3.3590653939350884e-07, 'num_leaves': 75, 'feature_fraction': 0.7444794292896245, 'bagging_fraction': 0.9615257523164152, 'bagging_freq': 1, 'min_child_samples': 34}. Best is trial 32 with value: 0.8125.\n"
     ]
    },
    {
     "name": "stdout",
     "output_type": "stream",
     "text": [
      "Training until validation scores don't improve for 10 rounds\n",
      "Early stopping, best iteration is:\n",
      "[15]\tvalid_0's binary_error: 0.193125\n"
     ]
    },
    {
     "name": "stderr",
     "output_type": "stream",
     "text": [
      "[I 2024-01-25 09:33:41,876] Trial 39 finished with value: 0.805625 and parameters: {'lambda_l1': 4.923485378371823e-06, 'lambda_l2': 1.1434192420457542e-08, 'num_leaves': 35, 'feature_fraction': 0.7921163782649362, 'bagging_fraction': 0.8966313200992063, 'bagging_freq': 2, 'min_child_samples': 22}. Best is trial 32 with value: 0.8125.\n"
     ]
    },
    {
     "name": "stdout",
     "output_type": "stream",
     "text": [
      "Training until validation scores don't improve for 10 rounds\n",
      "Early stopping, best iteration is:\n",
      "[11]\tvalid_0's binary_error: 0.194375\n",
      "Training until validation scores don't improve for 10 rounds\n"
     ]
    },
    {
     "name": "stderr",
     "output_type": "stream",
     "text": [
      "[I 2024-01-25 09:33:42,040] Trial 40 finished with value: 0.795 and parameters: {'lambda_l1': 0.00014619071317743327, 'lambda_l2': 7.849422355732064e-07, 'num_leaves': 78, 'feature_fraction': 0.7130069591022427, 'bagging_fraction': 0.6853014694343836, 'bagging_freq': 5, 'min_child_samples': 11}. Best is trial 32 with value: 0.8125.\n",
      "[I 2024-01-25 09:33:42,228] Trial 41 finished with value: 0.800625 and parameters: {'lambda_l1': 2.425047380599894e-05, 'lambda_l2': 4.974454636413878e-08, 'num_leaves': 98, 'feature_fraction': 0.6551862293901711, 'bagging_fraction': 0.8238368876767987, 'bagging_freq': 2, 'min_child_samples': 51}. Best is trial 32 with value: 0.8125.\n"
     ]
    },
    {
     "name": "stdout",
     "output_type": "stream",
     "text": [
      "Early stopping, best iteration is:\n",
      "[14]\tvalid_0's binary_error: 0.205\n",
      "Training until validation scores don't improve for 10 rounds\n",
      "Early stopping, best iteration is:\n",
      "[18]\tvalid_0's binary_error: 0.199375\n"
     ]
    },
    {
     "name": "stderr",
     "output_type": "stream",
     "text": [
      "[I 2024-01-25 09:33:42,379] Trial 42 finished with value: 0.805 and parameters: {'lambda_l1': 2.1093899771987568e-05, 'lambda_l2': 1.347003708564793e-07, 'num_leaves': 114, 'feature_fraction': 0.6968443193939214, 'bagging_fraction': 0.8591041175640827, 'bagging_freq': 2, 'min_child_samples': 72}. Best is trial 32 with value: 0.8125.\n",
      "[I 2024-01-25 09:33:42,513] Trial 43 finished with value: 0.803125 and parameters: {'lambda_l1': 6.391664208567652e-06, 'lambda_l2': 3.0566947897837015e-08, 'num_leaves': 63, 'feature_fraction': 0.5818473807522175, 'bagging_fraction': 0.9331637353571414, 'bagging_freq': 3, 'min_child_samples': 60}. Best is trial 32 with value: 0.8125.\n"
     ]
    },
    {
     "name": "stdout",
     "output_type": "stream",
     "text": [
      "Training until validation scores don't improve for 10 rounds\n",
      "Early stopping, best iteration is:\n",
      "[16]\tvalid_0's binary_error: 0.195\n",
      "Training until validation scores don't improve for 10 rounds\n",
      "Early stopping, best iteration is:\n",
      "[10]\tvalid_0's binary_error: 0.196875\n"
     ]
    },
    {
     "name": "stderr",
     "output_type": "stream",
     "text": [
      "[I 2024-01-25 09:33:42,717] Trial 44 finished with value: 0.805625 and parameters: {'lambda_l1': 9.797619653931793e-05, 'lambda_l2': 8.911337324920097e-08, 'num_leaves': 87, 'feature_fraction': 0.735281373495377, 'bagging_fraction': 0.8890370888241758, 'bagging_freq': 1, 'min_child_samples': 85}. Best is trial 32 with value: 0.8125.\n"
     ]
    },
    {
     "name": "stdout",
     "output_type": "stream",
     "text": [
      "Training until validation scores don't improve for 10 rounds\n",
      "Early stopping, best iteration is:\n",
      "[26]\tvalid_0's binary_error: 0.194375\n",
      "Training until validation scores don't improve for 10 rounds\n"
     ]
    },
    {
     "name": "stderr",
     "output_type": "stream",
     "text": [
      "[I 2024-01-25 09:33:42,895] Trial 45 finished with value: 0.805625 and parameters: {'lambda_l1': 1.8776271389577228e-06, 'lambda_l2': 3.4523134628112855e-08, 'num_leaves': 127, 'feature_fraction': 0.8086322914981064, 'bagging_fraction': 0.8432732428640038, 'bagging_freq': 3, 'min_child_samples': 41}. Best is trial 32 with value: 0.8125.\n",
      "[I 2024-01-25 09:33:43,044] Trial 46 finished with value: 0.804375 and parameters: {'lambda_l1': 2.02278875277745e-05, 'lambda_l2': 1.697662335447156e-07, 'num_leaves': 32, 'feature_fraction': 0.8549250800470475, 'bagging_fraction': 0.7510038122849443, 'bagging_freq': 2, 'min_child_samples': 46}. Best is trial 32 with value: 0.8125.\n"
     ]
    },
    {
     "name": "stdout",
     "output_type": "stream",
     "text": [
      "Early stopping, best iteration is:\n",
      "[17]\tvalid_0's binary_error: 0.194375\n",
      "Training until validation scores don't improve for 10 rounds\n",
      "Early stopping, best iteration is:\n",
      "[20]\tvalid_0's binary_error: 0.195625\n"
     ]
    },
    {
     "name": "stderr",
     "output_type": "stream",
     "text": [
      "[I 2024-01-25 09:33:43,210] Trial 47 finished with value: 0.8025 and parameters: {'lambda_l1': 6.779399921257154e-06, 'lambda_l2': 1.0818197287030455e-08, 'num_leaves': 104, 'feature_fraction': 0.7608444088951982, 'bagging_fraction': 0.777710890675248, 'bagging_freq': 3, 'min_child_samples': 32}. Best is trial 32 with value: 0.8125.\n"
     ]
    },
    {
     "name": "stdout",
     "output_type": "stream",
     "text": [
      "Training until validation scores don't improve for 10 rounds\n",
      "Early stopping, best iteration is:\n",
      "[14]\tvalid_0's binary_error: 0.1975\n",
      "Training until validation scores don't improve for 10 rounds\n"
     ]
    },
    {
     "name": "stderr",
     "output_type": "stream",
     "text": [
      "[I 2024-01-25 09:33:43,358] Trial 48 finished with value: 0.808125 and parameters: {'lambda_l1': 5.145107674293576e-05, 'lambda_l2': 6.271865105871161e-07, 'num_leaves': 53, 'feature_fraction': 0.7808417946870557, 'bagging_fraction': 0.9081931902968088, 'bagging_freq': 7, 'min_child_samples': 55}. Best is trial 32 with value: 0.8125.\n",
      "[I 2024-01-25 09:33:43,530] Trial 49 finished with value: 0.808125 and parameters: {'lambda_l1': 2.6698967552386724e-07, 'lambda_l2': 1.242263913595168e-06, 'num_leaves': 137, 'feature_fraction': 0.9195982191253897, 'bagging_fraction': 0.8231111095501664, 'bagging_freq': 1, 'min_child_samples': 69}. Best is trial 32 with value: 0.8125.\n"
     ]
    },
    {
     "name": "stdout",
     "output_type": "stream",
     "text": [
      "Early stopping, best iteration is:\n",
      "[17]\tvalid_0's binary_error: 0.191875\n",
      "Training until validation scores don't improve for 10 rounds\n",
      "Early stopping, best iteration is:\n",
      "[32]\tvalid_0's binary_error: 0.191875\n"
     ]
    },
    {
     "name": "stderr",
     "output_type": "stream",
     "text": [
      "[I 2024-01-25 09:33:43,671] Trial 50 finished with value: 0.805625 and parameters: {'lambda_l1': 1.0853402884094072e-07, 'lambda_l2': 3.758290162103846e-08, 'num_leaves': 124, 'feature_fraction': 0.8506705872715634, 'bagging_fraction': 0.9574490612300334, 'bagging_freq': 2, 'min_child_samples': 46}. Best is trial 32 with value: 0.8125.\n",
      "[I 2024-01-25 09:33:43,819] Trial 51 finished with value: 0.805 and parameters: {'lambda_l1': 2.1427226136842318e-05, 'lambda_l2': 3.4576938230763637e-07, 'num_leaves': 78, 'feature_fraction': 0.6852494201408744, 'bagging_fraction': 0.8766144440425072, 'bagging_freq': 3, 'min_child_samples': 55}. Best is trial 32 with value: 0.8125.\n"
     ]
    },
    {
     "name": "stdout",
     "output_type": "stream",
     "text": [
      "Training until validation scores don't improve for 10 rounds\n",
      "Early stopping, best iteration is:\n",
      "[8]\tvalid_0's binary_error: 0.194375\n",
      "Training until validation scores don't improve for 10 rounds\n",
      "Early stopping, best iteration is:\n",
      "[17]\tvalid_0's binary_error: 0.195\n"
     ]
    },
    {
     "name": "stderr",
     "output_type": "stream",
     "text": [
      "[I 2024-01-25 09:33:44,037] Trial 52 finished with value: 0.80625 and parameters: {'lambda_l1': 2.7642524403664838e-05, 'lambda_l2': 1.9876287457536104e-07, 'num_leaves': 69, 'feature_fraction': 0.7076118917746902, 'bagging_fraction': 0.9213194483046581, 'bagging_freq': 3, 'min_child_samples': 52}. Best is trial 32 with value: 0.8125.\n"
     ]
    },
    {
     "name": "stdout",
     "output_type": "stream",
     "text": [
      "Training until validation scores don't improve for 10 rounds\n",
      "Early stopping, best iteration is:\n",
      "[18]\tvalid_0's binary_error: 0.19375\n"
     ]
    },
    {
     "name": "stderr",
     "output_type": "stream",
     "text": [
      "[I 2024-01-25 09:33:44,202] Trial 53 finished with value: 0.806875 and parameters: {'lambda_l1': 8.210684150656511e-06, 'lambda_l2': 8.215009585702251e-08, 'num_leaves': 86, 'feature_fraction': 0.6485863787358332, 'bagging_fraction': 0.8743952554135692, 'bagging_freq': 2, 'min_child_samples': 61}. Best is trial 32 with value: 0.8125.\n"
     ]
    },
    {
     "name": "stdout",
     "output_type": "stream",
     "text": [
      "Training until validation scores don't improve for 10 rounds\n",
      "Early stopping, best iteration is:\n",
      "[12]\tvalid_0's binary_error: 0.193125\n",
      "Training until validation scores don't improve for 10 rounds\n"
     ]
    },
    {
     "name": "stderr",
     "output_type": "stream",
     "text": [
      "[I 2024-01-25 09:33:44,407] Trial 54 finished with value: 0.805625 and parameters: {'lambda_l1': 0.00013815673725437152, 'lambda_l2': 3.1391201603432096e-08, 'num_leaves': 59, 'feature_fraction': 0.7296324686310718, 'bagging_fraction': 0.8497638758468633, 'bagging_freq': 2, 'min_child_samples': 37}. Best is trial 32 with value: 0.8125.\n",
      "[I 2024-01-25 09:33:44,606] Trial 55 finished with value: 0.806875 and parameters: {'lambda_l1': 3.680269989389113e-05, 'lambda_l2': 1.9797341254777764e-06, 'num_leaves': 92, 'feature_fraction': 0.6817326340387811, 'bagging_fraction': 0.8289835207441915, 'bagging_freq': 3, 'min_child_samples': 42}. Best is trial 32 with value: 0.8125.\n"
     ]
    },
    {
     "name": "stdout",
     "output_type": "stream",
     "text": [
      "Early stopping, best iteration is:\n",
      "[12]\tvalid_0's binary_error: 0.194375\n",
      "Training until validation scores don't improve for 10 rounds\n",
      "Early stopping, best iteration is:\n",
      "[17]\tvalid_0's binary_error: 0.193125\n"
     ]
    },
    {
     "name": "stderr",
     "output_type": "stream",
     "text": [
      "[I 2024-01-25 09:33:44,737] Trial 56 finished with value: 0.80625 and parameters: {'lambda_l1': 8.543529041276786e-05, 'lambda_l2': 2.0365839040325293e-07, 'num_leaves': 16, 'feature_fraction': 0.6717696666637663, 'bagging_fraction': 0.9257561671227834, 'bagging_freq': 2, 'min_child_samples': 54}. Best is trial 32 with value: 0.8125.\n",
      "[I 2024-01-25 09:33:44,862] Trial 57 finished with value: 0.80125 and parameters: {'lambda_l1': 0.0007334243125946052, 'lambda_l2': 2.0999904282570352e-08, 'num_leaves': 70, 'feature_fraction': 0.8167265390170985, 'bagging_fraction': 0.8851908135188133, 'bagging_freq': 2, 'min_child_samples': 49}. Best is trial 32 with value: 0.8125.\n"
     ]
    },
    {
     "name": "stdout",
     "output_type": "stream",
     "text": [
      "Training until validation scores don't improve for 10 rounds\n",
      "Early stopping, best iteration is:\n",
      "[16]\tvalid_0's binary_error: 0.19375\n",
      "Training until validation scores don't improve for 10 rounds\n",
      "Early stopping, best iteration is:\n",
      "[6]\tvalid_0's binary_error: 0.19875\n"
     ]
    },
    {
     "name": "stderr",
     "output_type": "stream",
     "text": [
      "[I 2024-01-25 09:33:45,041] Trial 58 finished with value: 0.803125 and parameters: {'lambda_l1': 2.7567959932103282e-06, 'lambda_l2': 6.2000445129567665e-06, 'num_leaves': 112, 'feature_fraction': 0.6307098539427799, 'bagging_fraction': 0.8572820529163404, 'bagging_freq': 3, 'min_child_samples': 59}. Best is trial 32 with value: 0.8125.\n"
     ]
    },
    {
     "name": "stdout",
     "output_type": "stream",
     "text": [
      "Training until validation scores don't improve for 10 rounds\n",
      "Early stopping, best iteration is:\n",
      "[11]\tvalid_0's binary_error: 0.196875\n",
      "Training until validation scores don't improve for 10 rounds\n"
     ]
    },
    {
     "name": "stderr",
     "output_type": "stream",
     "text": [
      "[I 2024-01-25 09:33:45,196] Trial 59 finished with value: 0.7975 and parameters: {'lambda_l1': 4.970439923862428e-05, 'lambda_l2': 6.275605666251796e-07, 'num_leaves': 35, 'feature_fraction': 0.7287469323589623, 'bagging_fraction': 0.7836872682198578, 'bagging_freq': 1, 'min_child_samples': 32}. Best is trial 32 with value: 0.8125.\n",
      "[I 2024-01-25 09:33:45,355] Trial 60 finished with value: 0.805625 and parameters: {'lambda_l1': 1.307865316956862e-05, 'lambda_l2': 1.1240449060552588e-07, 'num_leaves': 82, 'feature_fraction': 0.6987446228563531, 'bagging_fraction': 0.9067876417132741, 'bagging_freq': 6, 'min_child_samples': 45}. Best is trial 32 with value: 0.8125.\n"
     ]
    },
    {
     "name": "stdout",
     "output_type": "stream",
     "text": [
      "Early stopping, best iteration is:\n",
      "[13]\tvalid_0's binary_error: 0.2025\n",
      "Training until validation scores don't improve for 10 rounds\n",
      "Early stopping, best iteration is:\n",
      "[17]\tvalid_0's binary_error: 0.194375\n"
     ]
    },
    {
     "name": "stderr",
     "output_type": "stream",
     "text": [
      "[I 2024-01-25 09:33:45,595] Trial 61 finished with value: 0.809375 and parameters: {'lambda_l1': 0.00025751590865113105, 'lambda_l2': 1.9488316113505152e-06, 'num_leaves': 244, 'feature_fraction': 0.7447913425947758, 'bagging_fraction': 0.850748047612587, 'bagging_freq': 2, 'min_child_samples': 40}. Best is trial 32 with value: 0.8125.\n"
     ]
    },
    {
     "name": "stdout",
     "output_type": "stream",
     "text": [
      "Training until validation scores don't improve for 10 rounds\n",
      "Early stopping, best iteration is:\n",
      "[18]\tvalid_0's binary_error: 0.190625\n"
     ]
    },
    {
     "name": "stderr",
     "output_type": "stream",
     "text": [
      "[I 2024-01-25 09:33:45,826] Trial 62 finished with value: 0.803125 and parameters: {'lambda_l1': 0.00016056666266474074, 'lambda_l2': 1.8180832994754069e-06, 'num_leaves': 237, 'feature_fraction': 0.749595637921327, 'bagging_fraction': 0.8475248740716329, 'bagging_freq': 2, 'min_child_samples': 40}. Best is trial 32 with value: 0.8125.\n"
     ]
    },
    {
     "name": "stdout",
     "output_type": "stream",
     "text": [
      "Training until validation scores don't improve for 10 rounds\n",
      "Early stopping, best iteration is:\n",
      "[13]\tvalid_0's binary_error: 0.196875\n"
     ]
    },
    {
     "name": "stderr",
     "output_type": "stream",
     "text": [
      "[I 2024-01-25 09:33:46,063] Trial 63 finished with value: 0.806875 and parameters: {'lambda_l1': 0.00023468749636602668, 'lambda_l2': 8.358619774706132e-08, 'num_leaves': 253, 'feature_fraction': 0.662406820624622, 'bagging_fraction': 0.8833912742497355, 'bagging_freq': 2, 'min_child_samples': 49}. Best is trial 32 with value: 0.8125.\n"
     ]
    },
    {
     "name": "stdout",
     "output_type": "stream",
     "text": [
      "Training until validation scores don't improve for 10 rounds\n",
      "Early stopping, best iteration is:\n",
      "[12]\tvalid_0's binary_error: 0.193125\n"
     ]
    },
    {
     "name": "stderr",
     "output_type": "stream",
     "text": [
      "[I 2024-01-25 09:33:46,382] Trial 64 finished with value: 0.80625 and parameters: {'lambda_l1': 7.451528041562232e-05, 'lambda_l2': 2.8574599925846487e-07, 'num_leaves': 234, 'feature_fraction': 0.7748924816216535, 'bagging_fraction': 0.8234202693256407, 'bagging_freq': 4, 'min_child_samples': 36}. Best is trial 32 with value: 0.8125.\n"
     ]
    },
    {
     "name": "stdout",
     "output_type": "stream",
     "text": [
      "Training until validation scores don't improve for 10 rounds\n",
      "Early stopping, best iteration is:\n",
      "[16]\tvalid_0's binary_error: 0.19375\n"
     ]
    },
    {
     "name": "stderr",
     "output_type": "stream",
     "text": [
      "[I 2024-01-25 09:33:46,545] Trial 65 finished with value: 0.8025 and parameters: {'lambda_l1': 3.552369131488053e-05, 'lambda_l2': 5.654053064032479e-07, 'num_leaves': 182, 'feature_fraction': 0.7252850053510908, 'bagging_fraction': 0.795314558270249, 'bagging_freq': 1, 'min_child_samples': 57}. Best is trial 32 with value: 0.8125.\n",
      "[I 2024-01-25 09:33:46,692] Trial 66 finished with value: 0.81 and parameters: {'lambda_l1': 0.0005724294946225099, 'lambda_l2': 1.8294418559157014e-08, 'num_leaves': 244, 'feature_fraction': 0.7010253022592808, 'bagging_fraction': 0.8688257630672764, 'bagging_freq': 3, 'min_child_samples': 62}. Best is trial 32 with value: 0.8125.\n"
     ]
    },
    {
     "name": "stdout",
     "output_type": "stream",
     "text": [
      "Training until validation scores don't improve for 10 rounds\n",
      "Early stopping, best iteration is:\n",
      "[6]\tvalid_0's binary_error: 0.1975\n",
      "Training until validation scores don't improve for 10 rounds\n",
      "Early stopping, best iteration is:\n",
      "[10]\tvalid_0's binary_error: 0.19\n"
     ]
    },
    {
     "name": "stderr",
     "output_type": "stream",
     "text": [
      "[I 2024-01-25 09:33:46,849] Trial 67 finished with value: 0.805625 and parameters: {'lambda_l1': 0.0006213512235033551, 'lambda_l2': 2.5349552864981296e-08, 'num_leaves': 255, 'feature_fraction': 0.6880987062799986, 'bagging_fraction': 0.8684706209173462, 'bagging_freq': 3, 'min_child_samples': 64}. Best is trial 32 with value: 0.8125.\n"
     ]
    },
    {
     "name": "stdout",
     "output_type": "stream",
     "text": [
      "Training until validation scores don't improve for 10 rounds\n",
      "Early stopping, best iteration is:\n",
      "[10]\tvalid_0's binary_error: 0.194375\n",
      "Training until validation scores don't improve for 10 rounds\n"
     ]
    },
    {
     "name": "stderr",
     "output_type": "stream",
     "text": [
      "[I 2024-01-25 09:33:47,041] Trial 68 finished with value: 0.8075 and parameters: {'lambda_l1': 1.1316147781008264e-05, 'lambda_l2': 2.3032448882401643e-08, 'num_leaves': 222, 'feature_fraction': 0.6356091471999669, 'bagging_fraction': 0.8175557373149027, 'bagging_freq': 4, 'min_child_samples': 62}. Best is trial 32 with value: 0.8125.\n",
      "[I 2024-01-25 09:33:47,205] Trial 69 finished with value: 0.805 and parameters: {'lambda_l1': 4.330294443719797e-06, 'lambda_l2': 6.085864807204867e-08, 'num_leaves': 215, 'feature_fraction': 0.664857124815835, 'bagging_fraction': 0.9135726255127855, 'bagging_freq': 3, 'min_child_samples': 52}. Best is trial 32 with value: 0.8125.\n"
     ]
    },
    {
     "name": "stdout",
     "output_type": "stream",
     "text": [
      "Early stopping, best iteration is:\n",
      "[30]\tvalid_0's binary_error: 0.1925\n",
      "Training until validation scores don't improve for 10 rounds\n",
      "Early stopping, best iteration is:\n",
      "[11]\tvalid_0's binary_error: 0.195\n"
     ]
    },
    {
     "name": "stderr",
     "output_type": "stream",
     "text": [
      "[I 2024-01-25 09:33:47,340] Trial 70 finished with value: 0.8025 and parameters: {'lambda_l1': 7.430831703302008e-05, 'lambda_l2': 1.169004916124546e-08, 'num_leaves': 47, 'feature_fraction': 0.7078488472303383, 'bagging_fraction': 0.9443952964557031, 'bagging_freq': 1, 'min_child_samples': 68}. Best is trial 32 with value: 0.8125.\n",
      "[I 2024-01-25 09:33:47,505] Trial 71 finished with value: 0.808125 and parameters: {'lambda_l1': 0.0003546000894574932, 'lambda_l2': 1.1981280769498596e-07, 'num_leaves': 241, 'feature_fraction': 0.750077327208555, 'bagging_fraction': 0.849670093987988, 'bagging_freq': 2, 'min_child_samples': 43}. Best is trial 32 with value: 0.8125.\n"
     ]
    },
    {
     "name": "stdout",
     "output_type": "stream",
     "text": [
      "Training until validation scores don't improve for 10 rounds\n",
      "Early stopping, best iteration is:\n",
      "[6]\tvalid_0's binary_error: 0.1975\n",
      "Training until validation scores don't improve for 10 rounds\n",
      "Early stopping, best iteration is:\n",
      "[13]\tvalid_0's binary_error: 0.191875\n"
     ]
    },
    {
     "name": "stderr",
     "output_type": "stream",
     "text": [
      "[I 2024-01-25 09:33:47,693] Trial 72 finished with value: 0.805625 and parameters: {'lambda_l1': 1.859142256025057e-05, 'lambda_l2': 2.2342475752221918e-07, 'num_leaves': 249, 'feature_fraction': 0.7196266778870979, 'bagging_fraction': 0.837503980850563, 'bagging_freq': 2, 'min_child_samples': 57}. Best is trial 32 with value: 0.8125.\n"
     ]
    },
    {
     "name": "stdout",
     "output_type": "stream",
     "text": [
      "Training until validation scores don't improve for 10 rounds\n",
      "Early stopping, best iteration is:\n",
      "[19]\tvalid_0's binary_error: 0.194375\n"
     ]
    },
    {
     "name": "stderr",
     "output_type": "stream",
     "text": [
      "[I 2024-01-25 09:33:47,961] Trial 73 finished with value: 0.809375 and parameters: {'lambda_l1': 0.0011605571198106612, 'lambda_l2': 5.7260110563479086e-08, 'num_leaves': 201, 'feature_fraction': 0.6794899322328107, 'bagging_fraction': 0.8930472436180175, 'bagging_freq': 2, 'min_child_samples': 28}. Best is trial 32 with value: 0.8125.\n"
     ]
    },
    {
     "name": "stdout",
     "output_type": "stream",
     "text": [
      "Training until validation scores don't improve for 10 rounds\n",
      "Early stopping, best iteration is:\n",
      "[17]\tvalid_0's binary_error: 0.190625\n"
     ]
    },
    {
     "name": "stderr",
     "output_type": "stream",
     "text": [
      "[I 2024-01-25 09:33:48,151] Trial 74 finished with value: 0.803125 and parameters: {'lambda_l1': 0.00011884175478668793, 'lambda_l2': 1.8706833691792004e-08, 'num_leaves': 228, 'feature_fraction': 0.7404173233587864, 'bagging_fraction': 0.8624885871030803, 'bagging_freq': 3, 'min_child_samples': 48}. Best is trial 32 with value: 0.8125.\n"
     ]
    },
    {
     "name": "stdout",
     "output_type": "stream",
     "text": [
      "Training until validation scores don't improve for 10 rounds\n",
      "Early stopping, best iteration is:\n",
      "[14]\tvalid_0's binary_error: 0.196875\n",
      "Training until validation scores don't improve for 10 rounds\n"
     ]
    },
    {
     "name": "stderr",
     "output_type": "stream",
     "text": [
      "[I 2024-01-25 09:33:48,288] Trial 75 finished with value: 0.8025 and parameters: {'lambda_l1': 0.00019190027141433006, 'lambda_l2': 4.802256800331994e-07, 'num_leaves': 103, 'feature_fraction': 0.6988704778208547, 'bagging_fraction': 0.8099649644649314, 'bagging_freq': 1, 'min_child_samples': 44}. Best is trial 32 with value: 0.8125.\n"
     ]
    },
    {
     "name": "stdout",
     "output_type": "stream",
     "text": [
      "Early stopping, best iteration is:\n",
      "[7]\tvalid_0's binary_error: 0.1975\n",
      "Training until validation scores don't improve for 10 rounds\n"
     ]
    },
    {
     "name": "stderr",
     "output_type": "stream",
     "text": [
      "[I 2024-01-25 09:33:48,664] Trial 76 finished with value: 0.808125 and parameters: {'lambda_l1': 3.873432578985704e-05, 'lambda_l2': 1.4418451584147402e-06, 'num_leaves': 245, 'feature_fraction': 0.764727790923955, 'bagging_fraction': 0.8814300471893244, 'bagging_freq': 2, 'min_child_samples': 53}. Best is trial 32 with value: 0.8125.\n"
     ]
    },
    {
     "name": "stdout",
     "output_type": "stream",
     "text": [
      "Early stopping, best iteration is:\n",
      "[20]\tvalid_0's binary_error: 0.191875\n",
      "Training until validation scores don't improve for 10 rounds\n"
     ]
    },
    {
     "name": "stderr",
     "output_type": "stream",
     "text": [
      "[I 2024-01-25 09:33:49,020] Trial 77 finished with value: 0.80875 and parameters: {'lambda_l1': 0.000280056896570557, 'lambda_l2': 8.851033257887094e-07, 'num_leaves': 191, 'feature_fraction': 0.7961459502637174, 'bagging_fraction': 0.9005844227365506, 'bagging_freq': 4, 'min_child_samples': 25}. Best is trial 32 with value: 0.8125.\n"
     ]
    },
    {
     "name": "stdout",
     "output_type": "stream",
     "text": [
      "Early stopping, best iteration is:\n",
      "[9]\tvalid_0's binary_error: 0.19125\n",
      "Training until validation scores don't improve for 10 rounds\n"
     ]
    },
    {
     "name": "stderr",
     "output_type": "stream",
     "text": [
      "[I 2024-01-25 09:33:49,341] Trial 78 finished with value: 0.806875 and parameters: {'lambda_l1': 0.0061995478805482096, 'lambda_l2': 1.3346497354594753e-07, 'num_leaves': 65, 'feature_fraction': 0.8298730497777435, 'bagging_fraction': 0.8409519922160141, 'bagging_freq': 1, 'min_child_samples': 73}. Best is trial 32 with value: 0.8125.\n"
     ]
    },
    {
     "name": "stdout",
     "output_type": "stream",
     "text": [
      "Early stopping, best iteration is:\n",
      "[18]\tvalid_0's binary_error: 0.193125\n",
      "Training until validation scores don't improve for 10 rounds\n"
     ]
    },
    {
     "name": "stderr",
     "output_type": "stream",
     "text": [
      "[I 2024-01-25 09:33:49,705] Trial 79 finished with value: 0.808125 and parameters: {'lambda_l1': 1.302727270473352e-06, 'lambda_l2': 3.993998418642681e-08, 'num_leaves': 118, 'feature_fraction': 0.6563526638843671, 'bagging_fraction': 0.8677625528320668, 'bagging_freq': 2, 'min_child_samples': 32}. Best is trial 32 with value: 0.8125.\n"
     ]
    },
    {
     "name": "stdout",
     "output_type": "stream",
     "text": [
      "Early stopping, best iteration is:\n",
      "[16]\tvalid_0's binary_error: 0.191875\n",
      "Training until validation scores don't improve for 10 rounds\n"
     ]
    },
    {
     "name": "stderr",
     "output_type": "stream",
     "text": [
      "[I 2024-01-25 09:33:50,110] Trial 80 finished with value: 0.80375 and parameters: {'lambda_l1': 7.831099096828774e-06, 'lambda_l2': 2.33303722691965e-07, 'num_leaves': 243, 'feature_fraction': 0.608837053756104, 'bagging_fraction': 0.7995136205947424, 'bagging_freq': 3, 'min_child_samples': 62}. Best is trial 32 with value: 0.8125.\n"
     ]
    },
    {
     "name": "stdout",
     "output_type": "stream",
     "text": [
      "Early stopping, best iteration is:\n",
      "[42]\tvalid_0's binary_error: 0.19625\n",
      "Training until validation scores don't improve for 10 rounds\n"
     ]
    },
    {
     "name": "stderr",
     "output_type": "stream",
     "text": [
      "[I 2024-01-25 09:33:50,391] Trial 81 finished with value: 0.80125 and parameters: {'lambda_l1': 0.0012434109786129057, 'lambda_l2': 5.9250138391506604e-08, 'num_leaves': 200, 'feature_fraction': 0.6918697096686403, 'bagging_fraction': 0.8943925745952024, 'bagging_freq': 2, 'min_child_samples': 18}. Best is trial 32 with value: 0.8125.\n"
     ]
    },
    {
     "name": "stdout",
     "output_type": "stream",
     "text": [
      "Early stopping, best iteration is:\n",
      "[14]\tvalid_0's binary_error: 0.19875\n",
      "Training until validation scores don't improve for 10 rounds\n"
     ]
    },
    {
     "name": "stderr",
     "output_type": "stream",
     "text": [
      "[I 2024-01-25 09:33:50,732] Trial 82 finished with value: 0.805625 and parameters: {'lambda_l1': 0.0010213531099185617, 'lambda_l2': 1.805384888175728e-08, 'num_leaves': 230, 'feature_fraction': 0.716614163111694, 'bagging_fraction': 0.9244351697257588, 'bagging_freq': 2, 'min_child_samples': 27}. Best is trial 32 with value: 0.8125.\n"
     ]
    },
    {
     "name": "stdout",
     "output_type": "stream",
     "text": [
      "Early stopping, best iteration is:\n",
      "[12]\tvalid_0's binary_error: 0.194375\n",
      "Training until validation scores don't improve for 10 rounds\n"
     ]
    },
    {
     "name": "stderr",
     "output_type": "stream",
     "text": [
      "[I 2024-01-25 09:33:50,949] Trial 83 finished with value: 0.805 and parameters: {'lambda_l1': 0.0004198594974268731, 'lambda_l2': 7.99162585739904e-08, 'num_leaves': 157, 'feature_fraction': 0.676937743175081, 'bagging_fraction': 0.8924620916448126, 'bagging_freq': 2, 'min_child_samples': 39}. Best is trial 32 with value: 0.8125.\n"
     ]
    },
    {
     "name": "stdout",
     "output_type": "stream",
     "text": [
      "Early stopping, best iteration is:\n",
      "[6]\tvalid_0's binary_error: 0.195\n",
      "Training until validation scores don't improve for 10 rounds\n"
     ]
    },
    {
     "name": "stderr",
     "output_type": "stream",
     "text": [
      "[I 2024-01-25 09:33:51,206] Trial 84 finished with value: 0.809375 and parameters: {'lambda_l1': 8.590176426414064e-05, 'lambda_l2': 1.0075857545086708e-08, 'num_leaves': 213, 'feature_fraction': 0.6790121971544545, 'bagging_fraction': 0.9112650550131633, 'bagging_freq': 2, 'min_child_samples': 37}. Best is trial 32 with value: 0.8125.\n"
     ]
    },
    {
     "name": "stdout",
     "output_type": "stream",
     "text": [
      "Early stopping, best iteration is:\n",
      "[16]\tvalid_0's binary_error: 0.190625\n",
      "Training until validation scores don't improve for 10 rounds\n"
     ]
    },
    {
     "name": "stderr",
     "output_type": "stream",
     "text": [
      "[I 2024-01-25 09:33:51,501] Trial 85 finished with value: 0.808125 and parameters: {'lambda_l1': 0.0002325967993028313, 'lambda_l2': 4.229379536840536e-08, 'num_leaves': 168, 'feature_fraction': 0.6471970062186798, 'bagging_fraction': 0.8317984375641956, 'bagging_freq': 3, 'min_child_samples': 30}. Best is trial 32 with value: 0.8125.\n"
     ]
    },
    {
     "name": "stdout",
     "output_type": "stream",
     "text": [
      "Early stopping, best iteration is:\n",
      "[9]\tvalid_0's binary_error: 0.191875\n",
      "Training until validation scores don't improve for 10 rounds\n"
     ]
    },
    {
     "name": "stderr",
     "output_type": "stream",
     "text": [
      "[I 2024-01-25 09:33:51,979] Trial 86 finished with value: 0.8025 and parameters: {'lambda_l1': 4.535361030223736e-05, 'lambda_l2': 3.3845934241232433e-07, 'num_leaves': 222, 'feature_fraction': 0.7022447096475946, 'bagging_fraction': 0.8765764454617813, 'bagging_freq': 1, 'min_child_samples': 23}. Best is trial 32 with value: 0.8125.\n"
     ]
    },
    {
     "name": "stdout",
     "output_type": "stream",
     "text": [
      "Early stopping, best iteration is:\n",
      "[10]\tvalid_0's binary_error: 0.1975\n",
      "Training until validation scores don't improve for 10 rounds\n"
     ]
    },
    {
     "name": "stderr",
     "output_type": "stream",
     "text": [
      "[I 2024-01-25 09:33:52,402] Trial 87 finished with value: 0.81 and parameters: {'lambda_l1': 1.7095763114835674e-05, 'lambda_l2': 1.2232251900933936e-07, 'num_leaves': 174, 'feature_fraction': 0.7389971892399214, 'bagging_fraction': 0.854881867754315, 'bagging_freq': 2, 'min_child_samples': 35}. Best is trial 32 with value: 0.8125.\n"
     ]
    },
    {
     "name": "stdout",
     "output_type": "stream",
     "text": [
      "Early stopping, best iteration is:\n",
      "[22]\tvalid_0's binary_error: 0.19\n",
      "Training until validation scores don't improve for 10 rounds\n"
     ]
    },
    {
     "name": "stderr",
     "output_type": "stream",
     "text": [
      "[I 2024-01-25 09:33:52,750] Trial 88 finished with value: 0.805625 and parameters: {'lambda_l1': 1.6149092763582132e-05, 'lambda_l2': 1.4926645844079748e-07, 'num_leaves': 144, 'feature_fraction': 0.7378188075520505, 'bagging_fraction': 0.8571744125050919, 'bagging_freq': 2, 'min_child_samples': 34}. Best is trial 32 with value: 0.8125.\n"
     ]
    },
    {
     "name": "stdout",
     "output_type": "stream",
     "text": [
      "Early stopping, best iteration is:\n",
      "[16]\tvalid_0's binary_error: 0.194375\n",
      "Training until validation scores don't improve for 10 rounds\n"
     ]
    },
    {
     "name": "stderr",
     "output_type": "stream",
     "text": [
      "[I 2024-01-25 09:33:53,078] Trial 89 finished with value: 0.8075 and parameters: {'lambda_l1': 2.610454243350818e-05, 'lambda_l2': 2.9767630322000124e-08, 'num_leaves': 177, 'feature_fraction': 0.7181117953043341, 'bagging_fraction': 0.8164201992605484, 'bagging_freq': 4, 'min_child_samples': 50}. Best is trial 32 with value: 0.8125.\n"
     ]
    },
    {
     "name": "stdout",
     "output_type": "stream",
     "text": [
      "Early stopping, best iteration is:\n",
      "[13]\tvalid_0's binary_error: 0.1925\n",
      "Training until validation scores don't improve for 10 rounds\n"
     ]
    },
    {
     "name": "stderr",
     "output_type": "stream",
     "text": [
      "[I 2024-01-25 09:33:53,405] Trial 90 finished with value: 0.804375 and parameters: {'lambda_l1': 4.233782069839214e-06, 'lambda_l2': 9.95115619021859e-07, 'num_leaves': 155, 'feature_fraction': 0.7706269680024317, 'bagging_fraction': 0.8307294213724868, 'bagging_freq': 1, 'min_child_samples': 59}. Best is trial 32 with value: 0.8125.\n"
     ]
    },
    {
     "name": "stdout",
     "output_type": "stream",
     "text": [
      "Early stopping, best iteration is:\n",
      "[24]\tvalid_0's binary_error: 0.195625\n",
      "Training until validation scores don't improve for 10 rounds\n"
     ]
    },
    {
     "name": "stderr",
     "output_type": "stream",
     "text": [
      "[I 2024-01-25 09:33:53,814] Trial 91 finished with value: 0.791875 and parameters: {'lambda_l1': 8.852467119465124e-06, 'lambda_l2': 9.03386760471193e-08, 'num_leaves': 161, 'feature_fraction': 0.670025209124405, 'bagging_fraction': 0.8596629559183061, 'bagging_freq': 2, 'min_child_samples': 5}. Best is trial 32 with value: 0.8125.\n"
     ]
    },
    {
     "name": "stdout",
     "output_type": "stream",
     "text": [
      "Early stopping, best iteration is:\n",
      "[6]\tvalid_0's binary_error: 0.208125\n",
      "Training until validation scores don't improve for 10 rounds\n"
     ]
    },
    {
     "name": "stderr",
     "output_type": "stream",
     "text": [
      "[I 2024-01-25 09:33:54,352] Trial 92 finished with value: 0.8075 and parameters: {'lambda_l1': 0.00013156321508953628, 'lambda_l2': 4.969128871967533e-08, 'num_leaves': 134, 'feature_fraction': 0.6893663142330243, 'bagging_fraction': 0.880161557969395, 'bagging_freq': 2, 'min_child_samples': 29}. Best is trial 32 with value: 0.8125.\n"
     ]
    },
    {
     "name": "stdout",
     "output_type": "stream",
     "text": [
      "Early stopping, best iteration is:\n",
      "[18]\tvalid_0's binary_error: 0.1925\n",
      "Training until validation scores don't improve for 10 rounds\n"
     ]
    },
    {
     "name": "stderr",
     "output_type": "stream",
     "text": [
      "[I 2024-01-25 09:33:54,675] Trial 93 finished with value: 0.805 and parameters: {'lambda_l1': 5.770968765586309e-05, 'lambda_l2': 1.7942767693370354e-08, 'num_leaves': 92, 'feature_fraction': 0.7491784600419449, 'bagging_fraction': 0.8937469984630402, 'bagging_freq': 2, 'min_child_samples': 40}. Best is trial 32 with value: 0.8125.\n"
     ]
    },
    {
     "name": "stdout",
     "output_type": "stream",
     "text": [
      "Early stopping, best iteration is:\n",
      "[9]\tvalid_0's binary_error: 0.195\n",
      "Training until validation scores don't improve for 10 rounds\n"
     ]
    },
    {
     "name": "stderr",
     "output_type": "stream",
     "text": [
      "[I 2024-01-25 09:33:54,946] Trial 94 finished with value: 0.80625 and parameters: {'lambda_l1': 1.3869403749271792e-05, 'lambda_l2': 4.1603323933954226e-07, 'num_leaves': 175, 'feature_fraction': 0.7071024803753925, 'bagging_fraction': 0.8482773859074533, 'bagging_freq': 5, 'min_child_samples': 35}. Best is trial 32 with value: 0.8125.\n"
     ]
    },
    {
     "name": "stdout",
     "output_type": "stream",
     "text": [
      "Early stopping, best iteration is:\n",
      "[18]\tvalid_0's binary_error: 0.19375\n",
      "Training until validation scores don't improve for 10 rounds\n"
     ]
    },
    {
     "name": "stderr",
     "output_type": "stream",
     "text": [
      "[I 2024-01-25 09:33:55,230] Trial 95 finished with value: 0.804375 and parameters: {'lambda_l1': 3.100673463907035e-05, 'lambda_l2': 1.6571696806904347e-07, 'num_leaves': 189, 'feature_fraction': 0.7577021343631378, 'bagging_fraction': 0.8698593566898901, 'bagging_freq': 3, 'min_child_samples': 31}. Best is trial 32 with value: 0.8125.\n",
      "[I 2024-01-25 09:33:55,430] Trial 96 finished with value: 0.81125 and parameters: {'lambda_l1': 9.284219679634557e-05, 'lambda_l2': 6.76178160402507e-08, 'num_leaves': 202, 'feature_fraction': 0.7316670370367921, 'bagging_fraction': 0.9313318348832458, 'bagging_freq': 2, 'min_child_samples': 47}. Best is trial 32 with value: 0.8125.\n"
     ]
    },
    {
     "name": "stdout",
     "output_type": "stream",
     "text": [
      "Early stopping, best iteration is:\n",
      "[12]\tvalid_0's binary_error: 0.195625\n",
      "Training until validation scores don't improve for 10 rounds\n",
      "Early stopping, best iteration is:\n",
      "[12]\tvalid_0's binary_error: 0.18875\n"
     ]
    },
    {
     "name": "stderr",
     "output_type": "stream",
     "text": [
      "[I 2024-01-25 09:33:55,665] Trial 97 finished with value: 0.80125 and parameters: {'lambda_l1': 0.00010488922223018921, 'lambda_l2': 2.8005674500074653e-07, 'num_leaves': 256, 'feature_fraction': 0.7835585797815039, 'bagging_fraction': 0.9664996391896064, 'bagging_freq': 2, 'min_child_samples': 47}. Best is trial 32 with value: 0.8125.\n"
     ]
    },
    {
     "name": "stdout",
     "output_type": "stream",
     "text": [
      "Training until validation scores don't improve for 10 rounds\n",
      "Early stopping, best iteration is:\n",
      "[19]\tvalid_0's binary_error: 0.19875\n"
     ]
    },
    {
     "name": "stderr",
     "output_type": "stream",
     "text": [
      "[I 2024-01-25 09:33:55,930] Trial 98 finished with value: 0.805 and parameters: {'lambda_l1': 6.310037166717179e-06, 'lambda_l2': 2.6106366803763454e-08, 'num_leaves': 104, 'feature_fraction': 0.732144908156996, 'bagging_fraction': 0.9289499454825647, 'bagging_freq': 3, 'min_child_samples': 44}. Best is trial 32 with value: 0.8125.\n"
     ]
    },
    {
     "name": "stdout",
     "output_type": "stream",
     "text": [
      "Training until validation scores don't improve for 10 rounds\n",
      "Early stopping, best iteration is:\n",
      "[10]\tvalid_0's binary_error: 0.195\n"
     ]
    },
    {
     "name": "stderr",
     "output_type": "stream",
     "text": [
      "[I 2024-01-25 09:33:56,217] Trial 99 finished with value: 0.805 and parameters: {'lambda_l1': 5.6665852115356805e-05, 'lambda_l2': 9.97263939740236e-08, 'num_leaves': 73, 'feature_fraction': 0.8056044594497752, 'bagging_fraction': 0.9124868527029071, 'bagging_freq': 2, 'min_child_samples': 55}. Best is trial 32 with value: 0.8125.\n"
     ]
    },
    {
     "name": "stdout",
     "output_type": "stream",
     "text": [
      "Training until validation scores don't improve for 10 rounds\n",
      "Early stopping, best iteration is:\n",
      "[11]\tvalid_0's binary_error: 0.195\n"
     ]
    },
    {
     "name": "stderr",
     "output_type": "stream",
     "text": [
      "[I 2024-01-25 09:33:56,403] A new study created in memory with name: no-name-b35b5c17-4c47-4b83-8106-04a433fa66c9\n",
      "[I 2024-01-25 09:33:56,519] Trial 0 finished with value: 0.8025 and parameters: {'lambda_l1': 0.10207072757462032, 'lambda_l2': 0.0006333416144810222, 'num_leaves': 59, 'feature_fraction': 0.5266509181633368, 'bagging_fraction': 0.8270223446714605, 'bagging_freq': 4, 'min_child_samples': 77}. Best is trial 0 with value: 0.8025.\n",
      "[I 2024-01-25 09:33:56,594] Trial 1 finished with value: 0.805625 and parameters: {'lambda_l1': 0.8330858743303112, 'lambda_l2': 4.765410418872009e-06, 'num_leaves': 35, 'feature_fraction': 0.6450828333443043, 'bagging_fraction': 0.6567286009769389, 'bagging_freq': 3, 'min_child_samples': 51}. Best is trial 1 with value: 0.805625.\n"
     ]
    },
    {
     "name": "stdout",
     "output_type": "stream",
     "text": [
      "Training until validation scores don't improve for 10 rounds\n",
      "Early stopping, best iteration is:\n",
      "[26]\tvalid_0's binary_error: 0.1975\n",
      "Training until validation scores don't improve for 10 rounds\n",
      "Early stopping, best iteration is:\n",
      "[14]\tvalid_0's binary_error: 0.194375\n",
      "Training until validation scores don't improve for 10 rounds\n"
     ]
    },
    {
     "name": "stderr",
     "output_type": "stream",
     "text": [
      "[I 2024-01-25 09:33:56,692] Trial 2 finished with value: 0.801875 and parameters: {'lambda_l1': 1.2065981842773951e-07, 'lambda_l2': 0.6357302422747805, 'num_leaves': 124, 'feature_fraction': 0.5225032272806152, 'bagging_fraction': 0.4927501038164729, 'bagging_freq': 4, 'min_child_samples': 50}. Best is trial 1 with value: 0.805625.\n",
      "[I 2024-01-25 09:33:56,819] Trial 3 finished with value: 0.804375 and parameters: {'lambda_l1': 0.03241656103585685, 'lambda_l2': 2.2557000349262778e-08, 'num_leaves': 92, 'feature_fraction': 0.6493293971878282, 'bagging_fraction': 0.8672202227690802, 'bagging_freq': 4, 'min_child_samples': 80}. Best is trial 1 with value: 0.805625.\n"
     ]
    },
    {
     "name": "stdout",
     "output_type": "stream",
     "text": [
      "Early stopping, best iteration is:\n",
      "[28]\tvalid_0's binary_error: 0.198125\n",
      "Training until validation scores don't improve for 10 rounds\n",
      "Early stopping, best iteration is:\n",
      "[30]\tvalid_0's binary_error: 0.195625\n",
      "Training until validation scores don't improve for 10 rounds\n"
     ]
    },
    {
     "name": "stderr",
     "output_type": "stream",
     "text": [
      "[I 2024-01-25 09:33:56,898] Trial 4 finished with value: 0.80125 and parameters: {'lambda_l1': 2.522341113785603e-05, 'lambda_l2': 0.750060186221488, 'num_leaves': 167, 'feature_fraction': 0.6095601301287372, 'bagging_fraction': 0.9266078610987778, 'bagging_freq': 4, 'min_child_samples': 52}. Best is trial 1 with value: 0.805625.\n",
      "[I 2024-01-25 09:33:57,010] Trial 5 finished with value: 0.798125 and parameters: {'lambda_l1': 3.3674215635296125, 'lambda_l2': 1.6026451313427856e-07, 'num_leaves': 186, 'feature_fraction': 0.9262117513731862, 'bagging_fraction': 0.4843857073210643, 'bagging_freq': 1, 'min_child_samples': 24}. Best is trial 1 with value: 0.805625.\n"
     ]
    },
    {
     "name": "stdout",
     "output_type": "stream",
     "text": [
      "Early stopping, best iteration is:\n",
      "[8]\tvalid_0's binary_error: 0.19875\n",
      "Training until validation scores don't improve for 10 rounds\n",
      "Early stopping, best iteration is:\n",
      "[23]\tvalid_0's binary_error: 0.201875\n",
      "Training until validation scores don't improve for 10 rounds\n"
     ]
    },
    {
     "name": "stderr",
     "output_type": "stream",
     "text": [
      "[I 2024-01-25 09:33:57,117] Trial 6 finished with value: 0.8025 and parameters: {'lambda_l1': 0.054323532744173404, 'lambda_l2': 0.008128567058972068, 'num_leaves': 134, 'feature_fraction': 0.4815009358748429, 'bagging_fraction': 0.8644088228193818, 'bagging_freq': 7, 'min_child_samples': 76}. Best is trial 1 with value: 0.805625.\n"
     ]
    },
    {
     "name": "stdout",
     "output_type": "stream",
     "text": [
      "Early stopping, best iteration is:\n",
      "[22]\tvalid_0's binary_error: 0.1975\n",
      "Training until validation scores don't improve for 10 rounds\n"
     ]
    },
    {
     "name": "stderr",
     "output_type": "stream",
     "text": [
      "[I 2024-01-25 09:33:57,340] Trial 7 finished with value: 0.8025 and parameters: {'lambda_l1': 0.002954297223966163, 'lambda_l2': 1.3702746633372045, 'num_leaves': 174, 'feature_fraction': 0.6400394084203593, 'bagging_fraction': 0.5230734886376102, 'bagging_freq': 2, 'min_child_samples': 28}. Best is trial 1 with value: 0.805625.\n"
     ]
    },
    {
     "name": "stdout",
     "output_type": "stream",
     "text": [
      "Early stopping, best iteration is:\n",
      "[20]\tvalid_0's binary_error: 0.1975\n",
      "Training until validation scores don't improve for 10 rounds\n"
     ]
    },
    {
     "name": "stderr",
     "output_type": "stream",
     "text": [
      "[I 2024-01-25 09:33:57,615] Trial 8 finished with value: 0.795625 and parameters: {'lambda_l1': 0.00038397378362466577, 'lambda_l2': 0.5449446356674847, 'num_leaves': 229, 'feature_fraction': 0.7798169165751565, 'bagging_fraction': 0.9648463797746976, 'bagging_freq': 2, 'min_child_samples': 15}. Best is trial 1 with value: 0.805625.\n",
      "[I 2024-01-25 09:33:57,720] Trial 9 finished with value: 0.806875 and parameters: {'lambda_l1': 1.1448284387675273e-06, 'lambda_l2': 0.0005986787642754798, 'num_leaves': 50, 'feature_fraction': 0.7682222097678124, 'bagging_fraction': 0.9432068020479771, 'bagging_freq': 5, 'min_child_samples': 16}. Best is trial 9 with value: 0.806875.\n"
     ]
    },
    {
     "name": "stdout",
     "output_type": "stream",
     "text": [
      "Early stopping, best iteration is:\n",
      "[18]\tvalid_0's binary_error: 0.204375\n",
      "Training until validation scores don't improve for 10 rounds\n",
      "Early stopping, best iteration is:\n",
      "[15]\tvalid_0's binary_error: 0.193125\n"
     ]
    },
    {
     "name": "stderr",
     "output_type": "stream",
     "text": [
      "[I 2024-01-25 09:33:57,864] Trial 10 finished with value: 0.79625 and parameters: {'lambda_l1': 2.5055116942497404e-08, 'lambda_l2': 1.8478952628969905e-05, 'num_leaves': 9, 'feature_fraction': 0.4017494856749481, 'bagging_fraction': 0.9856533990128701, 'bagging_freq': 6, 'min_child_samples': 5}. Best is trial 9 with value: 0.806875.\n"
     ]
    },
    {
     "name": "stdout",
     "output_type": "stream",
     "text": [
      "Training until validation scores don't improve for 10 rounds\n",
      "Early stopping, best iteration is:\n",
      "[40]\tvalid_0's binary_error: 0.20375\n",
      "Training until validation scores don't improve for 10 rounds\n"
     ]
    },
    {
     "name": "stderr",
     "output_type": "stream",
     "text": [
      "[I 2024-01-25 09:33:58,106] Trial 11 finished with value: 0.78875 and parameters: {'lambda_l1': 8.457123959840148e-06, 'lambda_l2': 7.399266271988774e-06, 'num_leaves': 7, 'feature_fraction': 0.7672389850331979, 'bagging_fraction': 0.7206234628997215, 'bagging_freq': 6, 'min_child_samples': 36}. Best is trial 9 with value: 0.806875.\n",
      "[I 2024-01-25 09:33:58,224] Trial 12 finished with value: 0.78375 and parameters: {'lambda_l1': 8.34186705013559, 'lambda_l2': 4.909386401717816e-06, 'num_leaves': 62, 'feature_fraction': 0.7591415999879756, 'bagging_fraction': 0.6675684700554139, 'bagging_freq': 5, 'min_child_samples': 96}. Best is trial 9 with value: 0.806875.\n"
     ]
    },
    {
     "name": "stdout",
     "output_type": "stream",
     "text": [
      "Early stopping, best iteration is:\n",
      "[51]\tvalid_0's binary_error: 0.21125\n",
      "Training until validation scores don't improve for 10 rounds\n",
      "Early stopping, best iteration is:\n",
      "[24]\tvalid_0's binary_error: 0.21625\n"
     ]
    },
    {
     "name": "stderr",
     "output_type": "stream",
     "text": [
      "[I 2024-01-25 09:33:58,382] Trial 13 finished with value: 0.80125 and parameters: {'lambda_l1': 8.735072005113956e-07, 'lambda_l2': 0.0004633399896047518, 'num_leaves': 49, 'feature_fraction': 0.8713616382193228, 'bagging_fraction': 0.7177623166925238, 'bagging_freq': 3, 'min_child_samples': 42}. Best is trial 9 with value: 0.806875.\n",
      "[I 2024-01-25 09:33:58,514] Trial 14 finished with value: 0.798125 and parameters: {'lambda_l1': 2.2948034863135004e-05, 'lambda_l2': 0.00512948126549579, 'num_leaves': 34, 'feature_fraction': 0.8409519744384527, 'bagging_fraction': 0.613690875412906, 'bagging_freq': 5, 'min_child_samples': 62}. Best is trial 9 with value: 0.806875.\n"
     ]
    },
    {
     "name": "stdout",
     "output_type": "stream",
     "text": [
      "Training until validation scores don't improve for 10 rounds\n",
      "Early stopping, best iteration is:\n",
      "[17]\tvalid_0's binary_error: 0.19875\n",
      "Training until validation scores don't improve for 10 rounds\n",
      "Early stopping, best iteration is:\n",
      "[14]\tvalid_0's binary_error: 0.201875\n"
     ]
    },
    {
     "name": "stderr",
     "output_type": "stream",
     "text": [
      "[I 2024-01-25 09:33:58,653] Trial 15 finished with value: 0.8 and parameters: {'lambda_l1': 1.100240317094729e-06, 'lambda_l2': 7.40993749641416e-07, 'num_leaves': 86, 'feature_fraction': 0.6958343260575285, 'bagging_fraction': 0.7824036532065863, 'bagging_freq': 3, 'min_child_samples': 63}. Best is trial 9 with value: 0.806875.\n"
     ]
    },
    {
     "name": "stdout",
     "output_type": "stream",
     "text": [
      "Training until validation scores don't improve for 10 rounds\n",
      "Early stopping, best iteration is:\n",
      "[13]\tvalid_0's binary_error: 0.2\n",
      "Training until validation scores don't improve for 10 rounds\n"
     ]
    },
    {
     "name": "stderr",
     "output_type": "stream",
     "text": [
      "[I 2024-01-25 09:33:58,834] Trial 16 finished with value: 0.791875 and parameters: {'lambda_l1': 0.00036397838151713406, 'lambda_l2': 5.4900749102376246e-05, 'num_leaves': 90, 'feature_fraction': 0.9791927185877036, 'bagging_fraction': 0.41724201731396043, 'bagging_freq': 5, 'min_child_samples': 17}. Best is trial 9 with value: 0.806875.\n",
      "[I 2024-01-25 09:33:58,968] Trial 17 finished with value: 0.8025 and parameters: {'lambda_l1': 1.4384361133201802, 'lambda_l2': 6.088895076870433e-07, 'num_leaves': 27, 'feature_fraction': 0.7442043441438233, 'bagging_fraction': 0.7875625144811331, 'bagging_freq': 3, 'min_child_samples': 38}. Best is trial 9 with value: 0.806875.\n"
     ]
    },
    {
     "name": "stdout",
     "output_type": "stream",
     "text": [
      "Early stopping, best iteration is:\n",
      "[19]\tvalid_0's binary_error: 0.208125\n",
      "Training until validation scores don't improve for 10 rounds\n",
      "Early stopping, best iteration is:\n",
      "[16]\tvalid_0's binary_error: 0.1975\n"
     ]
    },
    {
     "name": "stderr",
     "output_type": "stream",
     "text": [
      "[I 2024-01-25 09:33:59,165] Trial 18 finished with value: 0.793125 and parameters: {'lambda_l1': 0.00558957320474041, 'lambda_l2': 8.433792387227117e-05, 'num_leaves': 130, 'feature_fraction': 0.6914232902308325, 'bagging_fraction': 0.6190546724507064, 'bagging_freq': 1, 'min_child_samples': 7}. Best is trial 9 with value: 0.806875.\n"
     ]
    },
    {
     "name": "stdout",
     "output_type": "stream",
     "text": [
      "Training until validation scores don't improve for 10 rounds\n",
      "Early stopping, best iteration is:\n",
      "[12]\tvalid_0's binary_error: 0.206875\n",
      "Training until validation scores don't improve for 10 rounds\n"
     ]
    },
    {
     "name": "stderr",
     "output_type": "stream",
     "text": [
      "[I 2024-01-25 09:33:59,303] Trial 19 finished with value: 0.796875 and parameters: {'lambda_l1': 0.5037720755770062, 'lambda_l2': 0.003671069351636045, 'num_leaves': 73, 'feature_fraction': 0.8366718763095006, 'bagging_fraction': 0.8957983556465425, 'bagging_freq': 7, 'min_child_samples': 95}. Best is trial 9 with value: 0.806875.\n",
      "[I 2024-01-25 09:33:59,472] Trial 20 finished with value: 0.805 and parameters: {'lambda_l1': 0.5723790272352105, 'lambda_l2': 0.07292587468833364, 'num_leaves': 250, 'feature_fraction': 0.5995734747626286, 'bagging_fraction': 0.990279546495893, 'bagging_freq': 6, 'min_child_samples': 66}. Best is trial 9 with value: 0.806875.\n"
     ]
    },
    {
     "name": "stdout",
     "output_type": "stream",
     "text": [
      "Early stopping, best iteration is:\n",
      "[17]\tvalid_0's binary_error: 0.203125\n",
      "Training until validation scores don't improve for 10 rounds\n",
      "Early stopping, best iteration is:\n",
      "[17]\tvalid_0's binary_error: 0.195\n"
     ]
    },
    {
     "name": "stderr",
     "output_type": "stream",
     "text": [
      "[I 2024-01-25 09:33:59,670] Trial 21 finished with value: 0.80625 and parameters: {'lambda_l1': 0.43693411989474223, 'lambda_l2': 0.060512958679131805, 'num_leaves': 223, 'feature_fraction': 0.5893029168895868, 'bagging_fraction': 0.9995508397995234, 'bagging_freq': 6, 'min_child_samples': 64}. Best is trial 9 with value: 0.806875.\n"
     ]
    },
    {
     "name": "stdout",
     "output_type": "stream",
     "text": [
      "Training until validation scores don't improve for 10 rounds\n",
      "Early stopping, best iteration is:\n",
      "[21]\tvalid_0's binary_error: 0.19375\n",
      "Training until validation scores don't improve for 10 rounds\n",
      "Early stopping, best iteration is:\n",
      "[11]\tvalid_0's binary_error: 0.2125\n"
     ]
    },
    {
     "name": "stderr",
     "output_type": "stream",
     "text": [
      "[I 2024-01-25 09:33:59,788] Trial 22 finished with value: 0.7875 and parameters: {'lambda_l1': 9.915820374589615, 'lambda_l2': 4.781037293410255, 'num_leaves': 109, 'feature_fraction': 0.6943592770012832, 'bagging_fraction': 0.9337021885408788, 'bagging_freq': 5, 'min_child_samples': 86}. Best is trial 9 with value: 0.806875.\n",
      "[I 2024-01-25 09:33:59,995] Trial 23 finished with value: 0.80625 and parameters: {'lambda_l1': 0.11140376295127677, 'lambda_l2': 0.021478560146331507, 'num_leaves': 215, 'feature_fraction': 0.5696198049392099, 'bagging_fraction': 0.9291207419037468, 'bagging_freq': 6, 'min_child_samples': 46}. Best is trial 9 with value: 0.806875.\n"
     ]
    },
    {
     "name": "stdout",
     "output_type": "stream",
     "text": [
      "Training until validation scores don't improve for 10 rounds\n",
      "Early stopping, best iteration is:\n",
      "[17]\tvalid_0's binary_error: 0.19375\n",
      "Training until validation scores don't improve for 10 rounds\n"
     ]
    },
    {
     "name": "stderr",
     "output_type": "stream",
     "text": [
      "[I 2024-01-25 09:34:00,255] Trial 24 finished with value: 0.80125 and parameters: {'lambda_l1': 0.0080721727154888, 'lambda_l2': 0.03707290567441787, 'num_leaves': 210, 'feature_fraction': 0.5947751536457833, 'bagging_fraction': 0.9982875539437056, 'bagging_freq': 6, 'min_child_samples': 30}. Best is trial 9 with value: 0.806875.\n"
     ]
    },
    {
     "name": "stdout",
     "output_type": "stream",
     "text": [
      "Early stopping, best iteration is:\n",
      "[13]\tvalid_0's binary_error: 0.19875\n",
      "Training until validation scores don't improve for 10 rounds\n",
      "Early stopping, best iteration is:\n",
      "[34]\tvalid_0's binary_error: 0.195625\n"
     ]
    },
    {
     "name": "stderr",
     "output_type": "stream",
     "text": [
      "[I 2024-01-25 09:34:00,466] Trial 25 finished with value: 0.804375 and parameters: {'lambda_l1': 0.1603786585119726, 'lambda_l2': 0.05967325658917129, 'num_leaves': 255, 'feature_fraction': 0.5553932189357372, 'bagging_fraction': 0.926020921491914, 'bagging_freq': 7, 'min_child_samples': 68}. Best is trial 9 with value: 0.806875.\n",
      "[I 2024-01-25 09:34:00,658] Trial 26 finished with value: 0.806875 and parameters: {'lambda_l1': 0.0013251984236432553, 'lambda_l2': 0.001712217186581466, 'num_leaves': 205, 'feature_fraction': 0.4759830899816523, 'bagging_fraction': 0.9581486772447763, 'bagging_freq': 6, 'min_child_samples': 45}. Best is trial 9 with value: 0.806875.\n"
     ]
    },
    {
     "name": "stdout",
     "output_type": "stream",
     "text": [
      "Training until validation scores don't improve for 10 rounds\n",
      "Early stopping, best iteration is:\n",
      "[18]\tvalid_0's binary_error: 0.193125\n",
      "Training until validation scores don't improve for 10 rounds\n"
     ]
    },
    {
     "name": "stderr",
     "output_type": "stream",
     "text": [
      "[I 2024-01-25 09:34:00,858] Trial 27 finished with value: 0.81 and parameters: {'lambda_l1': 0.0011808121924228887, 'lambda_l2': 0.0012510893384213792, 'num_leaves': 148, 'feature_fraction': 0.4782401456756021, 'bagging_fraction': 0.9984167600192262, 'bagging_freq': 5, 'min_child_samples': 59}. Best is trial 27 with value: 0.81.\n",
      "[I 2024-01-25 09:34:01,021] Trial 28 finished with value: 0.80625 and parameters: {'lambda_l1': 0.0010810380177588674, 'lambda_l2': 0.0010854493733424455, 'num_leaves': 158, 'feature_fraction': 0.43726882206333756, 'bagging_fraction': 0.8829680775953638, 'bagging_freq': 5, 'min_child_samples': 57}. Best is trial 27 with value: 0.81.\n"
     ]
    },
    {
     "name": "stdout",
     "output_type": "stream",
     "text": [
      "Early stopping, best iteration is:\n",
      "[25]\tvalid_0's binary_error: 0.19\n",
      "Training until validation scores don't improve for 10 rounds\n",
      "Early stopping, best iteration is:\n",
      "[16]\tvalid_0's binary_error: 0.19375\n"
     ]
    },
    {
     "name": "stderr",
     "output_type": "stream",
     "text": [
      "[I 2024-01-25 09:34:01,162] Trial 29 finished with value: 0.8 and parameters: {'lambda_l1': 0.00010892754591776399, 'lambda_l2': 0.00021290481495394692, 'num_leaves': 148, 'feature_fraction': 0.5026843331667417, 'bagging_fraction': 0.8404937027250142, 'bagging_freq': 5, 'min_child_samples': 72}. Best is trial 27 with value: 0.81.\n"
     ]
    },
    {
     "name": "stdout",
     "output_type": "stream",
     "text": [
      "Training until validation scores don't improve for 10 rounds\n",
      "Early stopping, best iteration is:\n",
      "[12]\tvalid_0's binary_error: 0.2\n",
      "Training until validation scores don't improve for 10 rounds\n"
     ]
    },
    {
     "name": "stderr",
     "output_type": "stream",
     "text": [
      "[I 2024-01-25 09:34:01,405] Trial 30 finished with value: 0.80375 and parameters: {'lambda_l1': 0.00011430429610361629, 'lambda_l2': 0.0010989422073476613, 'num_leaves': 194, 'feature_fraction': 0.4615522965386457, 'bagging_fraction': 0.9544135926468847, 'bagging_freq': 4, 'min_child_samples': 34}. Best is trial 27 with value: 0.81.\n"
     ]
    },
    {
     "name": "stdout",
     "output_type": "stream",
     "text": [
      "Early stopping, best iteration is:\n",
      "[27]\tvalid_0's binary_error: 0.19625\n",
      "Training until validation scores don't improve for 10 rounds\n"
     ]
    },
    {
     "name": "stderr",
     "output_type": "stream",
     "text": [
      "[I 2024-01-25 09:34:01,686] Trial 31 finished with value: 0.8025 and parameters: {'lambda_l1': 0.002441264041579823, 'lambda_l2': 0.0018726354044274957, 'num_leaves': 234, 'feature_fraction': 0.5379800980843858, 'bagging_fraction': 0.9607820733566484, 'bagging_freq': 6, 'min_child_samples': 55}. Best is trial 27 with value: 0.81.\n"
     ]
    },
    {
     "name": "stdout",
     "output_type": "stream",
     "text": [
      "Early stopping, best iteration is:\n",
      "[31]\tvalid_0's binary_error: 0.1975\n",
      "Training until validation scores don't improve for 10 rounds\n"
     ]
    },
    {
     "name": "stderr",
     "output_type": "stream",
     "text": [
      "[I 2024-01-25 09:34:01,866] Trial 32 finished with value: 0.808125 and parameters: {'lambda_l1': 0.02179031481335326, 'lambda_l2': 0.00043157533363803323, 'num_leaves': 207, 'feature_fraction': 0.5134220838466831, 'bagging_fraction': 0.9936091425056687, 'bagging_freq': 7, 'min_child_samples': 59}. Best is trial 27 with value: 0.81.\n"
     ]
    },
    {
     "name": "stdout",
     "output_type": "stream",
     "text": [
      "Early stopping, best iteration is:\n",
      "[15]\tvalid_0's binary_error: 0.191875\n",
      "Training until validation scores don't improve for 10 rounds\n"
     ]
    },
    {
     "name": "stderr",
     "output_type": "stream",
     "text": [
      "[I 2024-01-25 09:34:02,212] Trial 33 finished with value: 0.81125 and parameters: {'lambda_l1': 0.009170401673871825, 'lambda_l2': 0.000602216118560322, 'num_leaves': 207, 'feature_fraction': 0.5098805950011326, 'bagging_fraction': 0.9040804556944154, 'bagging_freq': 7, 'min_child_samples': 43}. Best is trial 33 with value: 0.81125.\n"
     ]
    },
    {
     "name": "stdout",
     "output_type": "stream",
     "text": [
      "Early stopping, best iteration is:\n",
      "[24]\tvalid_0's binary_error: 0.18875\n",
      "Training until validation scores don't improve for 10 rounds\n",
      "Early stopping, best iteration is:\n",
      "[33]\tvalid_0's binary_error: 0.190625\n"
     ]
    },
    {
     "name": "stderr",
     "output_type": "stream",
     "text": [
      "[I 2024-01-25 09:34:02,426] Trial 34 finished with value: 0.809375 and parameters: {'lambda_l1': 0.01490151771879988, 'lambda_l2': 0.00029270652874998395, 'num_leaves': 184, 'feature_fraction': 0.5131198067884967, 'bagging_fraction': 0.902089720749006, 'bagging_freq': 7, 'min_child_samples': 58}. Best is trial 33 with value: 0.81125.\n",
      "[I 2024-01-25 09:34:02,601] Trial 35 finished with value: 0.805625 and parameters: {'lambda_l1': 0.019452783470245132, 'lambda_l2': 0.00017919505325033586, 'num_leaves': 185, 'feature_fraction': 0.5190855764296138, 'bagging_fraction': 0.9038205427427832, 'bagging_freq': 7, 'min_child_samples': 49}. Best is trial 33 with value: 0.81125.\n"
     ]
    },
    {
     "name": "stdout",
     "output_type": "stream",
     "text": [
      "Training until validation scores don't improve for 10 rounds\n",
      "Early stopping, best iteration is:\n",
      "[18]\tvalid_0's binary_error: 0.194375\n",
      "Training until validation scores don't improve for 10 rounds\n"
     ]
    },
    {
     "name": "stderr",
     "output_type": "stream",
     "text": [
      "[I 2024-01-25 09:34:02,789] Trial 36 finished with value: 0.81 and parameters: {'lambda_l1': 0.017343013366361383, 'lambda_l2': 0.00024374409274133222, 'num_leaves': 157, 'feature_fraction': 0.5241409355973184, 'bagging_fraction': 0.8908352361035609, 'bagging_freq': 7, 'min_child_samples': 54}. Best is trial 33 with value: 0.81125.\n"
     ]
    },
    {
     "name": "stdout",
     "output_type": "stream",
     "text": [
      "Early stopping, best iteration is:\n",
      "[21]\tvalid_0's binary_error: 0.19\n",
      "Training until validation scores don't improve for 10 rounds\n",
      "Early stopping, best iteration is:\n",
      "[34]\tvalid_0's binary_error: 0.194375\n"
     ]
    },
    {
     "name": "stderr",
     "output_type": "stream",
     "text": [
      "[I 2024-01-25 09:34:02,986] Trial 37 finished with value: 0.805625 and parameters: {'lambda_l1': 0.01035529932396938, 'lambda_l2': 5.139917665370811e-05, 'num_leaves': 147, 'feature_fraction': 0.5482058973786457, 'bagging_fraction': 0.8434471674283865, 'bagging_freq': 7, 'min_child_samples': 52}. Best is trial 33 with value: 0.81125.\n",
      "[I 2024-01-25 09:34:03,157] Trial 38 finished with value: 0.804375 and parameters: {'lambda_l1': 0.05012353641216127, 'lambda_l2': 0.0001541729444380075, 'num_leaves': 167, 'feature_fraction': 0.446243708006436, 'bagging_fraction': 0.8674647843721162, 'bagging_freq': 7, 'min_child_samples': 82}. Best is trial 33 with value: 0.81125.\n"
     ]
    },
    {
     "name": "stdout",
     "output_type": "stream",
     "text": [
      "Training until validation scores don't improve for 10 rounds\n",
      "Early stopping, best iteration is:\n",
      "[25]\tvalid_0's binary_error: 0.195625\n",
      "Training until validation scores don't improve for 10 rounds\n"
     ]
    },
    {
     "name": "stderr",
     "output_type": "stream",
     "text": [
      "[I 2024-01-25 09:34:03,365] Trial 39 finished with value: 0.80125 and parameters: {'lambda_l1': 0.008884863619335043, 'lambda_l2': 2.2696031473937572e-05, 'num_leaves': 114, 'feature_fraction': 0.517327470767642, 'bagging_fraction': 0.8161369149334157, 'bagging_freq': 7, 'min_child_samples': 73}. Best is trial 33 with value: 0.81125.\n"
     ]
    },
    {
     "name": "stdout",
     "output_type": "stream",
     "text": [
      "Early stopping, best iteration is:\n",
      "[32]\tvalid_0's binary_error: 0.19875\n",
      "Training until validation scores don't improve for 10 rounds\n"
     ]
    },
    {
     "name": "stderr",
     "output_type": "stream",
     "text": [
      "[I 2024-01-25 09:34:03,565] Trial 40 finished with value: 0.805 and parameters: {'lambda_l1': 0.050481415019141336, 'lambda_l2': 0.0003840803630668475, 'num_leaves': 183, 'feature_fraction': 0.4761012572341122, 'bagging_fraction': 0.9196711874792632, 'bagging_freq': 7, 'min_child_samples': 40}. Best is trial 33 with value: 0.81125.\n"
     ]
    },
    {
     "name": "stdout",
     "output_type": "stream",
     "text": [
      "Early stopping, best iteration is:\n",
      "[21]\tvalid_0's binary_error: 0.195\n",
      "Training until validation scores don't improve for 10 rounds\n",
      "Early stopping, best iteration is:\n",
      "[23]\tvalid_0's binary_error: 0.19625\n"
     ]
    },
    {
     "name": "stderr",
     "output_type": "stream",
     "text": [
      "[I 2024-01-25 09:34:03,760] Trial 41 finished with value: 0.80375 and parameters: {'lambda_l1': 0.029511344881656194, 'lambda_l2': 0.000418184056518113, 'num_leaves': 199, 'feature_fraction': 0.49902873078516946, 'bagging_fraction': 0.8986505909899325, 'bagging_freq': 7, 'min_child_samples': 59}. Best is trial 33 with value: 0.81125.\n",
      "[I 2024-01-25 09:34:03,977] Trial 42 finished with value: 0.804375 and parameters: {'lambda_l1': 0.016255339921930644, 'lambda_l2': 0.011248557151206033, 'num_leaves': 172, 'feature_fraction': 0.5315819061198757, 'bagging_fraction': 0.9703684255017544, 'bagging_freq': 7, 'min_child_samples': 58}. Best is trial 33 with value: 0.81125.\n"
     ]
    },
    {
     "name": "stdout",
     "output_type": "stream",
     "text": [
      "Training until validation scores don't improve for 10 rounds\n",
      "Early stopping, best iteration is:\n",
      "[19]\tvalid_0's binary_error: 0.195625\n",
      "Training until validation scores don't improve for 10 rounds\n"
     ]
    },
    {
     "name": "stderr",
     "output_type": "stream",
     "text": [
      "[I 2024-01-25 09:34:04,231] Trial 43 finished with value: 0.805 and parameters: {'lambda_l1': 0.004531016448647899, 'lambda_l2': 0.0038049794412387955, 'num_leaves': 143, 'feature_fraction': 0.4207549964331207, 'bagging_fraction': 0.8794278489520464, 'bagging_freq': 7, 'min_child_samples': 49}. Best is trial 33 with value: 0.81125.\n"
     ]
    },
    {
     "name": "stdout",
     "output_type": "stream",
     "text": [
      "Early stopping, best iteration is:\n",
      "[21]\tvalid_0's binary_error: 0.195\n",
      "Training until validation scores don't improve for 10 rounds\n",
      "Early stopping, best iteration is:\n",
      "[25]\tvalid_0's binary_error: 0.196875\n"
     ]
    },
    {
     "name": "stderr",
     "output_type": "stream",
     "text": [
      "[I 2024-01-25 09:34:04,429] Trial 44 finished with value: 0.803125 and parameters: {'lambda_l1': 0.19003208882779524, 'lambda_l2': 0.0007962701241078471, 'num_leaves': 161, 'feature_fraction': 0.48895730023956024, 'bagging_fraction': 0.9702300234994518, 'bagging_freq': 6, 'min_child_samples': 69}. Best is trial 33 with value: 0.81125.\n",
      "[I 2024-01-25 09:34:04,607] Trial 45 finished with value: 0.80125 and parameters: {'lambda_l1': 0.0014691516901900739, 'lambda_l2': 0.00011473303640628374, 'num_leaves': 191, 'feature_fraction': 0.45296656351122605, 'bagging_fraction': 0.9113744499133364, 'bagging_freq': 2, 'min_child_samples': 54}. Best is trial 33 with value: 0.81125.\n"
     ]
    },
    {
     "name": "stdout",
     "output_type": "stream",
     "text": [
      "Training until validation scores don't improve for 10 rounds\n",
      "Early stopping, best iteration is:\n",
      "[11]\tvalid_0's binary_error: 0.19875\n",
      "Training until validation scores don't improve for 10 rounds\n"
     ]
    },
    {
     "name": "stderr",
     "output_type": "stream",
     "text": [
      "[I 2024-01-25 09:34:04,807] Trial 46 finished with value: 0.80875 and parameters: {'lambda_l1': 0.02243491672594726, 'lambda_l2': 0.00032180220640083744, 'num_leaves': 241, 'feature_fraction': 0.407305957807315, 'bagging_fraction': 0.9452795609586844, 'bagging_freq': 7, 'min_child_samples': 61}. Best is trial 33 with value: 0.81125.\n",
      "[I 2024-01-25 09:34:04,973] Trial 47 finished with value: 0.805 and parameters: {'lambda_l1': 0.003095615979806477, 'lambda_l2': 2.998751151820824e-05, 'num_leaves': 237, 'feature_fraction': 0.42376190412225334, 'bagging_fraction': 0.9352066793452058, 'bagging_freq': 6, 'min_child_samples': 45}. Best is trial 33 with value: 0.81125.\n"
     ]
    },
    {
     "name": "stdout",
     "output_type": "stream",
     "text": [
      "Early stopping, best iteration is:\n",
      "[19]\tvalid_0's binary_error: 0.19125\n",
      "Training until validation scores don't improve for 10 rounds\n",
      "Early stopping, best iteration is:\n",
      "[12]\tvalid_0's binary_error: 0.195\n"
     ]
    },
    {
     "name": "stderr",
     "output_type": "stream",
     "text": [
      "[I 2024-01-25 09:34:05,132] Trial 48 finished with value: 0.796875 and parameters: {'lambda_l1': 0.07107812044659884, 'lambda_l2': 1.0333541436488003e-05, 'num_leaves': 223, 'feature_fraction': 0.4514302376237953, 'bagging_fraction': 0.8579851013168929, 'bagging_freq': 4, 'min_child_samples': 76}. Best is trial 33 with value: 0.81125.\n",
      "[I 2024-01-25 09:34:05,282] Trial 49 finished with value: 0.805625 and parameters: {'lambda_l1': 0.0007092362284129019, 'lambda_l2': 7.318829015098281e-05, 'num_leaves': 178, 'feature_fraction': 0.40386072571916176, 'bagging_fraction': 0.8975833761660512, 'bagging_freq': 7, 'min_child_samples': 62}. Best is trial 33 with value: 0.81125.\n"
     ]
    },
    {
     "name": "stdout",
     "output_type": "stream",
     "text": [
      "Training until validation scores don't improve for 10 rounds\n",
      "Early stopping, best iteration is:\n",
      "[14]\tvalid_0's binary_error: 0.203125\n",
      "Training until validation scores don't improve for 10 rounds\n",
      "Early stopping, best iteration is:\n",
      "[19]\tvalid_0's binary_error: 0.194375\n"
     ]
    },
    {
     "name": "stderr",
     "output_type": "stream",
     "text": [
      "[I 2024-01-25 09:34:05,508] Trial 50 finished with value: 0.8075 and parameters: {'lambda_l1': 0.004384719231268899, 'lambda_l2': 0.002388882668819688, 'num_leaves': 247, 'feature_fraction': 0.47431332765372963, 'bagging_fraction': 0.9469384039307771, 'bagging_freq': 6, 'min_child_samples': 32}. Best is trial 33 with value: 0.81125.\n"
     ]
    },
    {
     "name": "stdout",
     "output_type": "stream",
     "text": [
      "Training until validation scores don't improve for 10 rounds\n",
      "Early stopping, best iteration is:\n",
      "[13]\tvalid_0's binary_error: 0.1925\n"
     ]
    },
    {
     "name": "stderr",
     "output_type": "stream",
     "text": [
      "[I 2024-01-25 09:34:05,677] Trial 51 finished with value: 0.804375 and parameters: {'lambda_l1': 0.026084122525651874, 'lambda_l2': 0.00024930408619188983, 'num_leaves': 216, 'feature_fraction': 0.5085324664450006, 'bagging_fraction': 0.9796144784386188, 'bagging_freq': 7, 'min_child_samples': 60}. Best is trial 33 with value: 0.81125.\n"
     ]
    },
    {
     "name": "stdout",
     "output_type": "stream",
     "text": [
      "Training until validation scores don't improve for 10 rounds\n",
      "Early stopping, best iteration is:\n",
      "[9]\tvalid_0's binary_error: 0.195625\n",
      "Training until validation scores don't improve for 10 rounds\n"
     ]
    },
    {
     "name": "stderr",
     "output_type": "stream",
     "text": [
      "[I 2024-01-25 09:34:05,906] Trial 52 finished with value: 0.80375 and parameters: {'lambda_l1': 0.014055957601136133, 'lambda_l2': 0.0003759365184362523, 'num_leaves': 201, 'feature_fraction': 0.5611419484364161, 'bagging_fraction': 0.9460774418029456, 'bagging_freq': 7, 'min_child_samples': 53}. Best is trial 33 with value: 0.81125.\n"
     ]
    },
    {
     "name": "stdout",
     "output_type": "stream",
     "text": [
      "Early stopping, best iteration is:\n",
      "[25]\tvalid_0's binary_error: 0.19625\n",
      "Training until validation scores don't improve for 10 rounds\n"
     ]
    },
    {
     "name": "stderr",
     "output_type": "stream",
     "text": [
      "[I 2024-01-25 09:34:06,147] Trial 53 finished with value: 0.805 and parameters: {'lambda_l1': 0.027641410887584327, 'lambda_l2': 0.0007651757329984334, 'num_leaves': 155, 'feature_fraction': 0.6274256801418039, 'bagging_fraction': 0.9766028662797916, 'bagging_freq': 7, 'min_child_samples': 49}. Best is trial 33 with value: 0.81125.\n"
     ]
    },
    {
     "name": "stdout",
     "output_type": "stream",
     "text": [
      "Early stopping, best iteration is:\n",
      "[13]\tvalid_0's binary_error: 0.195\n",
      "Training until validation scores don't improve for 10 rounds\n"
     ]
    },
    {
     "name": "stderr",
     "output_type": "stream",
     "text": [
      "[I 2024-01-25 09:34:06,476] Trial 54 finished with value: 0.806875 and parameters: {'lambda_l1': 0.0024073580190457668, 'lambda_l2': 0.006879303570119474, 'num_leaves': 122, 'feature_fraction': 0.5279022873777576, 'bagging_fraction': 0.9152741946191497, 'bagging_freq': 7, 'min_child_samples': 43}. Best is trial 33 with value: 0.81125.\n"
     ]
    },
    {
     "name": "stdout",
     "output_type": "stream",
     "text": [
      "Early stopping, best iteration is:\n",
      "[18]\tvalid_0's binary_error: 0.193125\n",
      "Training until validation scores don't improve for 10 rounds\n"
     ]
    },
    {
     "name": "stderr",
     "output_type": "stream",
     "text": [
      "[I 2024-01-25 09:34:06,735] Trial 55 finished with value: 0.805 and parameters: {'lambda_l1': 0.006922214743282653, 'lambda_l2': 0.00010429946184231093, 'num_leaves': 241, 'feature_fraction': 0.4953135683231495, 'bagging_fraction': 0.9937216267900619, 'bagging_freq': 6, 'min_child_samples': 69}. Best is trial 33 with value: 0.81125.\n",
      "[I 2024-01-25 09:34:06,921] Trial 56 finished with value: 0.805 and parameters: {'lambda_l1': 0.04484932228543857, 'lambda_l2': 0.0006630310361001337, 'num_leaves': 222, 'feature_fraction': 0.4315241734047476, 'bagging_fraction': 0.8790480152284137, 'bagging_freq': 7, 'min_child_samples': 24}. Best is trial 33 with value: 0.81125.\n"
     ]
    },
    {
     "name": "stdout",
     "output_type": "stream",
     "text": [
      "Early stopping, best iteration is:\n",
      "[33]\tvalid_0's binary_error: 0.195\n",
      "Training until validation scores don't improve for 10 rounds\n",
      "Early stopping, best iteration is:\n",
      "[11]\tvalid_0's binary_error: 0.195\n"
     ]
    },
    {
     "name": "stderr",
     "output_type": "stream",
     "text": [
      "[I 2024-01-25 09:34:07,056] Trial 57 finished with value: 0.799375 and parameters: {'lambda_l1': 0.21220261616765757, 'lambda_l2': 3.8098129824889744e-05, 'num_leaves': 136, 'feature_fraction': 0.570083838057964, 'bagging_fraction': 0.9520671726654265, 'bagging_freq': 6, 'min_child_samples': 64}. Best is trial 33 with value: 0.81125.\n"
     ]
    },
    {
     "name": "stdout",
     "output_type": "stream",
     "text": [
      "Training until validation scores don't improve for 10 rounds\n",
      "Early stopping, best iteration is:\n",
      "[6]\tvalid_0's binary_error: 0.200625\n",
      "Training until validation scores don't improve for 10 rounds\n"
     ]
    },
    {
     "name": "stderr",
     "output_type": "stream",
     "text": [
      "[I 2024-01-25 09:34:07,248] Trial 58 finished with value: 0.801875 and parameters: {'lambda_l1': 0.09635165931056394, 'lambda_l2': 0.00248906673564591, 'num_leaves': 169, 'feature_fraction': 0.4022753325554257, 'bagging_fraction': 0.9357446265673117, 'bagging_freq': 7, 'min_child_samples': 58}. Best is trial 33 with value: 0.81125.\n"
     ]
    },
    {
     "name": "stdout",
     "output_type": "stream",
     "text": [
      "Early stopping, best iteration is:\n",
      "[21]\tvalid_0's binary_error: 0.198125\n",
      "Training until validation scores don't improve for 10 rounds\n"
     ]
    },
    {
     "name": "stderr",
     "output_type": "stream",
     "text": [
      "[I 2024-01-25 09:34:07,465] Trial 59 finished with value: 0.8025 and parameters: {'lambda_l1': 0.01614082760728679, 'lambda_l2': 0.00022846055322030086, 'num_leaves': 207, 'feature_fraction': 0.4676362887763858, 'bagging_fraction': 0.9993826748034458, 'bagging_freq': 6, 'min_child_samples': 38}. Best is trial 33 with value: 0.81125.\n",
      "[I 2024-01-25 09:34:07,654] Trial 60 finished with value: 0.809375 and parameters: {'lambda_l1': 0.007244978145377778, 'lambda_l2': 1.3776716263621875e-05, 'num_leaves': 192, 'feature_fraction': 0.4922159592813973, 'bagging_fraction': 0.9730694933201853, 'bagging_freq': 5, 'min_child_samples': 66}. Best is trial 33 with value: 0.81125.\n"
     ]
    },
    {
     "name": "stdout",
     "output_type": "stream",
     "text": [
      "Early stopping, best iteration is:\n",
      "[13]\tvalid_0's binary_error: 0.1975\n",
      "Training until validation scores don't improve for 10 rounds\n",
      "Early stopping, best iteration is:\n",
      "[27]\tvalid_0's binary_error: 0.190625\n"
     ]
    },
    {
     "name": "stderr",
     "output_type": "stream",
     "text": [
      "[I 2024-01-25 09:34:07,825] Trial 61 finished with value: 0.801875 and parameters: {'lambda_l1': 0.0061773552631591904, 'lambda_l2': 1.6660041986683193e-05, 'num_leaves': 181, 'feature_fraction': 0.5123777131530021, 'bagging_fraction': 0.9669991397673657, 'bagging_freq': 5, 'min_child_samples': 55}. Best is trial 33 with value: 0.81125.\n"
     ]
    },
    {
     "name": "stdout",
     "output_type": "stream",
     "text": [
      "Training until validation scores don't improve for 10 rounds\n",
      "Early stopping, best iteration is:\n",
      "[15]\tvalid_0's binary_error: 0.198125\n",
      "Training until validation scores don't improve for 10 rounds\n"
     ]
    },
    {
     "name": "stderr",
     "output_type": "stream",
     "text": [
      "[I 2024-01-25 09:34:08,042] Trial 62 finished with value: 0.813125 and parameters: {'lambda_l1': 0.015137596872692123, 'lambda_l2': 6.209041375852219e-05, 'num_leaves': 194, 'feature_fraction': 0.4877826581554527, 'bagging_fraction': 0.9772429778318749, 'bagging_freq': 4, 'min_child_samples': 67}. Best is trial 62 with value: 0.813125.\n",
      "[I 2024-01-25 09:34:08,228] Trial 63 finished with value: 0.805 and parameters: {'lambda_l1': 0.012480743466668363, 'lambda_l2': 3.553234012704623e-06, 'num_leaves': 192, 'feature_fraction': 0.48757049613968845, 'bagging_fraction': 0.9155663598778858, 'bagging_freq': 4, 'min_child_samples': 73}. Best is trial 62 with value: 0.813125.\n"
     ]
    },
    {
     "name": "stdout",
     "output_type": "stream",
     "text": [
      "Early stopping, best iteration is:\n",
      "[28]\tvalid_0's binary_error: 0.186875\n",
      "Training until validation scores don't improve for 10 rounds\n",
      "Early stopping, best iteration is:\n",
      "[26]\tvalid_0's binary_error: 0.195\n"
     ]
    },
    {
     "name": "stderr",
     "output_type": "stream",
     "text": [
      "[I 2024-01-25 09:34:08,559] Trial 64 finished with value: 0.80625 and parameters: {'lambda_l1': 0.0006989038082959831, 'lambda_l2': 7.791712422680725e-05, 'num_leaves': 175, 'feature_fraction': 0.458674228034607, 'bagging_fraction': 0.9371057609322307, 'bagging_freq': 3, 'min_child_samples': 66}. Best is trial 62 with value: 0.813125.\n"
     ]
    },
    {
     "name": "stdout",
     "output_type": "stream",
     "text": [
      "Training until validation scores don't improve for 10 rounds\n",
      "Early stopping, best iteration is:\n",
      "[32]\tvalid_0's binary_error: 0.19375\n"
     ]
    },
    {
     "name": "stderr",
     "output_type": "stream",
     "text": [
      "[I 2024-01-25 09:34:08,782] Trial 65 finished with value: 0.808125 and parameters: {'lambda_l1': 0.00250733990224268, 'lambda_l2': 0.0001459997435670292, 'num_leaves': 162, 'feature_fraction': 0.43855030408390105, 'bagging_fraction': 0.9677698304469738, 'bagging_freq': 4, 'min_child_samples': 80}. Best is trial 62 with value: 0.813125.\n"
     ]
    },
    {
     "name": "stdout",
     "output_type": "stream",
     "text": [
      "Training until validation scores don't improve for 10 rounds\n",
      "Early stopping, best iteration is:\n",
      "[33]\tvalid_0's binary_error: 0.191875\n"
     ]
    },
    {
     "name": "stderr",
     "output_type": "stream",
     "text": [
      "[I 2024-01-25 09:34:08,981] Trial 66 finished with value: 0.80625 and parameters: {'lambda_l1': 0.07925377167579555, 'lambda_l2': 4.935866227667742e-05, 'num_leaves': 154, 'feature_fraction': 0.5378154677423402, 'bagging_fraction': 0.8930548811046184, 'bagging_freq': 5, 'min_child_samples': 66}. Best is trial 62 with value: 0.813125.\n"
     ]
    },
    {
     "name": "stdout",
     "output_type": "stream",
     "text": [
      "Training until validation scores don't improve for 10 rounds\n",
      "Early stopping, best iteration is:\n",
      "[19]\tvalid_0's binary_error: 0.19375\n"
     ]
    },
    {
     "name": "stderr",
     "output_type": "stream",
     "text": [
      "[I 2024-01-25 09:34:09,182] Trial 67 finished with value: 0.805625 and parameters: {'lambda_l1': 0.004629120801869346, 'lambda_l2': 0.0013968033685794296, 'num_leaves': 195, 'feature_fraction': 0.489956671464179, 'bagging_fraction': 0.9214650117107908, 'bagging_freq': 4, 'min_child_samples': 62}. Best is trial 62 with value: 0.813125.\n"
     ]
    },
    {
     "name": "stdout",
     "output_type": "stream",
     "text": [
      "Training until validation scores don't improve for 10 rounds\n",
      "Early stopping, best iteration is:\n",
      "[14]\tvalid_0's binary_error: 0.194375\n",
      "Training until validation scores don't improve for 10 rounds\n"
     ]
    },
    {
     "name": "stderr",
     "output_type": "stream",
     "text": [
      "[I 2024-01-25 09:34:09,462] Trial 68 finished with value: 0.804375 and parameters: {'lambda_l1': 0.009496259604408645, 'lambda_l2': 0.00026911585895959117, 'num_leaves': 229, 'feature_fraction': 0.5805155637286686, 'bagging_fraction': 0.9797367988085084, 'bagging_freq': 5, 'min_child_samples': 90}. Best is trial 62 with value: 0.813125.\n",
      "[I 2024-01-25 09:34:09,608] Trial 69 finished with value: 0.80625 and parameters: {'lambda_l1': 0.03797296015049903, 'lambda_l2': 0.0010497470578573244, 'num_leaves': 138, 'feature_fraction': 0.549133077578991, 'bagging_fraction': 0.9519087759742514, 'bagging_freq': 3, 'min_child_samples': 51}. Best is trial 62 with value: 0.813125.\n"
     ]
    },
    {
     "name": "stdout",
     "output_type": "stream",
     "text": [
      "Early stopping, best iteration is:\n",
      "[27]\tvalid_0's binary_error: 0.195625\n",
      "Training until validation scores don't improve for 10 rounds\n",
      "Early stopping, best iteration is:\n",
      "[4]\tvalid_0's binary_error: 0.19375\n"
     ]
    },
    {
     "name": "stderr",
     "output_type": "stream",
     "text": [
      "[I 2024-01-25 09:34:09,785] Trial 70 finished with value: 0.800625 and parameters: {'lambda_l1': 0.3183549280689499, 'lambda_l2': 3.0143138462705656e-05, 'num_leaves': 215, 'feature_fraction': 0.4620108811610244, 'bagging_fraction': 0.8636756187779557, 'bagging_freq': 4, 'min_child_samples': 70}. Best is trial 62 with value: 0.813125.\n"
     ]
    },
    {
     "name": "stdout",
     "output_type": "stream",
     "text": [
      "Training until validation scores don't improve for 10 rounds\n",
      "Early stopping, best iteration is:\n",
      "[24]\tvalid_0's binary_error: 0.199375\n",
      "Training until validation scores don't improve for 10 rounds\n"
     ]
    },
    {
     "name": "stderr",
     "output_type": "stream",
     "text": [
      "[I 2024-01-25 09:34:09,958] Trial 71 finished with value: 0.803125 and parameters: {'lambda_l1': 0.024437551408129515, 'lambda_l2': 0.0005317612966060413, 'num_leaves': 202, 'feature_fraction': 0.5195646611060016, 'bagging_fraction': 0.9871031930529784, 'bagging_freq': 7, 'min_child_samples': 60}. Best is trial 62 with value: 0.813125.\n"
     ]
    },
    {
     "name": "stdout",
     "output_type": "stream",
     "text": [
      "Early stopping, best iteration is:\n",
      "[8]\tvalid_0's binary_error: 0.196875\n",
      "Training until validation scores don't improve for 10 rounds\n"
     ]
    },
    {
     "name": "stderr",
     "output_type": "stream",
     "text": [
      "[I 2024-01-25 09:34:10,183] Trial 72 finished with value: 0.81 and parameters: {'lambda_l1': 0.013138894049699196, 'lambda_l2': 0.00012533620306327573, 'num_leaves': 186, 'feature_fraction': 0.48494859839359944, 'bagging_fraction': 0.9997997745248924, 'bagging_freq': 1, 'min_child_samples': 56}. Best is trial 62 with value: 0.813125.\n"
     ]
    },
    {
     "name": "stdout",
     "output_type": "stream",
     "text": [
      "Early stopping, best iteration is:\n",
      "[28]\tvalid_0's binary_error: 0.19\n",
      "Training until validation scores don't improve for 10 rounds\n"
     ]
    },
    {
     "name": "stderr",
     "output_type": "stream",
     "text": [
      "[I 2024-01-25 09:34:10,399] Trial 73 finished with value: 0.8075 and parameters: {'lambda_l1': 0.0118190980857792, 'lambda_l2': 0.00011622360722926935, 'num_leaves': 185, 'feature_fraction': 0.48603033660223055, 'bagging_fraction': 0.9598975897384332, 'bagging_freq': 1, 'min_child_samples': 55}. Best is trial 62 with value: 0.813125.\n"
     ]
    },
    {
     "name": "stdout",
     "output_type": "stream",
     "text": [
      "Early stopping, best iteration is:\n",
      "[13]\tvalid_0's binary_error: 0.1925\n",
      "Training until validation scores don't improve for 10 rounds\n"
     ]
    },
    {
     "name": "stderr",
     "output_type": "stream",
     "text": [
      "[I 2024-01-25 09:34:10,754] Trial 74 finished with value: 0.810625 and parameters: {'lambda_l1': 0.11358330182805251, 'lambda_l2': 5.247477457274277e-05, 'num_leaves': 167, 'feature_fraction': 0.44364624857176627, 'bagging_fraction': 0.9337688035484021, 'bagging_freq': 2, 'min_child_samples': 66}. Best is trial 62 with value: 0.813125.\n",
      "[I 2024-01-25 09:34:10,931] Trial 75 finished with value: 0.805 and parameters: {'lambda_l1': 0.07759978610207927, 'lambda_l2': 6.259500819753185e-05, 'num_leaves': 168, 'feature_fraction': 0.4746929661893211, 'bagging_fraction': 0.9793933662264624, 'bagging_freq': 2, 'min_child_samples': 77}. Best is trial 62 with value: 0.813125.\n"
     ]
    },
    {
     "name": "stdout",
     "output_type": "stream",
     "text": [
      "Early stopping, best iteration is:\n",
      "[30]\tvalid_0's binary_error: 0.189375\n",
      "Training until validation scores don't improve for 10 rounds\n",
      "Early stopping, best iteration is:\n",
      "[20]\tvalid_0's binary_error: 0.195\n"
     ]
    },
    {
     "name": "stderr",
     "output_type": "stream",
     "text": [
      "[I 2024-01-25 09:34:11,156] Trial 76 finished with value: 0.81125 and parameters: {'lambda_l1': 0.14720683669584536, 'lambda_l2': 0.00016701624351654287, 'num_leaves': 126, 'feature_fraction': 0.5024624182948425, 'bagging_fraction': 0.9272492410818518, 'bagging_freq': 2, 'min_child_samples': 47}. Best is trial 62 with value: 0.813125.\n"
     ]
    },
    {
     "name": "stdout",
     "output_type": "stream",
     "text": [
      "Training until validation scores don't improve for 10 rounds\n",
      "Early stopping, best iteration is:\n",
      "[22]\tvalid_0's binary_error: 0.18875\n"
     ]
    },
    {
     "name": "stderr",
     "output_type": "stream",
     "text": [
      "[I 2024-01-25 09:34:11,422] Trial 77 finished with value: 0.806875 and parameters: {'lambda_l1': 0.15134703692151735, 'lambda_l2': 0.0002083717584879746, 'num_leaves': 100, 'feature_fraction': 0.5458509276631738, 'bagging_fraction': 0.9267946219711665, 'bagging_freq': 2, 'min_child_samples': 46}. Best is trial 62 with value: 0.813125.\n"
     ]
    },
    {
     "name": "stdout",
     "output_type": "stream",
     "text": [
      "Training until validation scores don't improve for 10 rounds\n",
      "Early stopping, best iteration is:\n",
      "[28]\tvalid_0's binary_error: 0.193125\n"
     ]
    },
    {
     "name": "stderr",
     "output_type": "stream",
     "text": [
      "[I 2024-01-25 09:34:11,638] Trial 78 finished with value: 0.804375 and parameters: {'lambda_l1': 0.7403038906638814, 'lambda_l2': 0.00011700028588537693, 'num_leaves': 150, 'feature_fraction': 0.5042392339634946, 'bagging_fraction': 0.9074668548271463, 'bagging_freq': 2, 'min_child_samples': 40}. Best is trial 62 with value: 0.813125.\n"
     ]
    },
    {
     "name": "stdout",
     "output_type": "stream",
     "text": [
      "Training until validation scores don't improve for 10 rounds\n",
      "Early stopping, best iteration is:\n",
      "[17]\tvalid_0's binary_error: 0.195625\n",
      "Training until validation scores don't improve for 10 rounds\n"
     ]
    },
    {
     "name": "stderr",
     "output_type": "stream",
     "text": [
      "[I 2024-01-25 09:34:11,853] Trial 79 finished with value: 0.809375 and parameters: {'lambda_l1': 0.9780438207849819, 'lambda_l2': 4.20188174549275e-05, 'num_leaves': 120, 'feature_fraction': 0.4375766759565685, 'bagging_fraction': 0.8851102378373127, 'bagging_freq': 1, 'min_child_samples': 47}. Best is trial 62 with value: 0.813125.\n",
      "[I 2024-01-25 09:34:12,001] Trial 80 finished with value: 0.8075 and parameters: {'lambda_l1': 0.04462226996168146, 'lambda_l2': 0.0005014495099579206, 'num_leaves': 128, 'feature_fraction': 0.5296566212623551, 'bagging_fraction': 0.9026963681407674, 'bagging_freq': 1, 'min_child_samples': 56}. Best is trial 62 with value: 0.813125.\n"
     ]
    },
    {
     "name": "stdout",
     "output_type": "stream",
     "text": [
      "Early stopping, best iteration is:\n",
      "[26]\tvalid_0's binary_error: 0.190625\n",
      "Training until validation scores don't improve for 10 rounds\n",
      "Early stopping, best iteration is:\n",
      "[9]\tvalid_0's binary_error: 0.1925\n"
     ]
    },
    {
     "name": "stderr",
     "output_type": "stream",
     "text": [
      "[I 2024-01-25 09:34:12,305] Trial 81 finished with value: 0.808125 and parameters: {'lambda_l1': 0.007102208740205963, 'lambda_l2': 1.222493493905505e-05, 'num_leaves': 162, 'feature_fraction': 0.44979657735506784, 'bagging_fraction': 0.9593568687346664, 'bagging_freq': 3, 'min_child_samples': 66}. Best is trial 62 with value: 0.813125.\n"
     ]
    },
    {
     "name": "stdout",
     "output_type": "stream",
     "text": [
      "Training until validation scores don't improve for 10 rounds\n",
      "Early stopping, best iteration is:\n",
      "[37]\tvalid_0's binary_error: 0.191875\n"
     ]
    },
    {
     "name": "stderr",
     "output_type": "stream",
     "text": [
      "[I 2024-01-25 09:34:12,566] Trial 82 finished with value: 0.803125 and parameters: {'lambda_l1': 0.25647944638773534, 'lambda_l2': 1.6436127409536185e-05, 'num_leaves': 189, 'feature_fraction': 0.4706035513327019, 'bagging_fraction': 0.9318394451246463, 'bagging_freq': 2, 'min_child_samples': 53}. Best is trial 62 with value: 0.813125.\n"
     ]
    },
    {
     "name": "stdout",
     "output_type": "stream",
     "text": [
      "Training until validation scores don't improve for 10 rounds\n",
      "Early stopping, best iteration is:\n",
      "[7]\tvalid_0's binary_error: 0.196875\n"
     ]
    },
    {
     "name": "stderr",
     "output_type": "stream",
     "text": [
      "[I 2024-01-25 09:34:12,751] Trial 83 finished with value: 0.804375 and parameters: {'lambda_l1': 0.11650328772979521, 'lambda_l2': 7.700457834243431e-05, 'num_leaves': 173, 'feature_fraction': 0.4963555081303004, 'bagging_fraction': 0.9818117074697297, 'bagging_freq': 1, 'min_child_samples': 72}. Best is trial 62 with value: 0.813125.\n"
     ]
    },
    {
     "name": "stdout",
     "output_type": "stream",
     "text": [
      "Training until validation scores don't improve for 10 rounds\n",
      "Early stopping, best iteration is:\n",
      "[16]\tvalid_0's binary_error: 0.195625\n",
      "Training until validation scores don't improve for 10 rounds\n"
     ]
    },
    {
     "name": "stderr",
     "output_type": "stream",
     "text": [
      "[I 2024-01-25 09:34:13,022] Trial 84 finished with value: 0.80875 and parameters: {'lambda_l1': 0.05730039109574911, 'lambda_l2': 2.8934446833621168e-05, 'num_leaves': 178, 'feature_fraction': 0.521423634881542, 'bagging_fraction': 0.9980270850787609, 'bagging_freq': 2, 'min_child_samples': 42}. Best is trial 62 with value: 0.813125.\n",
      "[I 2024-01-25 09:34:13,153] Trial 85 finished with value: 0.800625 and parameters: {'lambda_l1': 0.0035513776499513728, 'lambda_l2': 0.00019627301554322356, 'num_leaves': 140, 'feature_fraction': 0.5035402451906055, 'bagging_fraction': 0.9403503419408757, 'bagging_freq': 1, 'min_child_samples': 51}. Best is trial 62 with value: 0.813125.\n"
     ]
    },
    {
     "name": "stdout",
     "output_type": "stream",
     "text": [
      "Early stopping, best iteration is:\n",
      "[17]\tvalid_0's binary_error: 0.19125\n",
      "Training until validation scores don't improve for 10 rounds\n",
      "Early stopping, best iteration is:\n",
      "[3]\tvalid_0's binary_error: 0.199375\n"
     ]
    },
    {
     "name": "stderr",
     "output_type": "stream",
     "text": [
      "[I 2024-01-25 09:34:13,346] Trial 86 finished with value: 0.808125 and parameters: {'lambda_l1': 0.002074161821608141, 'lambda_l2': 6.286416528195034e-06, 'num_leaves': 131, 'feature_fraction': 0.4783674504930851, 'bagging_fraction': 0.9668049209280385, 'bagging_freq': 3, 'min_child_samples': 57}. Best is trial 62 with value: 0.813125.\n"
     ]
    },
    {
     "name": "stdout",
     "output_type": "stream",
     "text": [
      "Training until validation scores don't improve for 10 rounds\n",
      "Early stopping, best iteration is:\n",
      "[21]\tvalid_0's binary_error: 0.191875\n",
      "Training until validation scores don't improve for 10 rounds\n"
     ]
    },
    {
     "name": "stderr",
     "output_type": "stream",
     "text": [
      "[I 2024-01-25 09:34:13,495] Trial 87 finished with value: 0.80375 and parameters: {'lambda_l1': 0.01730365920644878, 'lambda_l2': 0.0007963656368502872, 'num_leaves': 212, 'feature_fraction': 0.4562738071844871, 'bagging_fraction': 0.923075173313145, 'bagging_freq': 2, 'min_child_samples': 63}. Best is trial 62 with value: 0.813125.\n",
      "[I 2024-01-25 09:34:13,678] Trial 88 finished with value: 0.801875 and parameters: {'lambda_l1': 0.005487626413315948, 'lambda_l2': 0.0016354244540678232, 'num_leaves': 199, 'feature_fraction': 0.5379922810925257, 'bagging_fraction': 0.945971411520804, 'bagging_freq': 3, 'min_child_samples': 49}. Best is trial 62 with value: 0.813125.\n"
     ]
    },
    {
     "name": "stdout",
     "output_type": "stream",
     "text": [
      "Early stopping, best iteration is:\n",
      "[17]\tvalid_0's binary_error: 0.19625\n",
      "Training until validation scores don't improve for 10 rounds\n",
      "Early stopping, best iteration is:\n",
      "[21]\tvalid_0's binary_error: 0.198125\n"
     ]
    },
    {
     "name": "stderr",
     "output_type": "stream",
     "text": [
      "[I 2024-01-25 09:34:13,851] Trial 89 finished with value: 0.808125 and parameters: {'lambda_l1': 0.028899884172269824, 'lambda_l2': 0.00012317299370228932, 'num_leaves': 145, 'feature_fraction': 0.42074925158000476, 'bagging_fraction': 0.9831273689799963, 'bagging_freq': 5, 'min_child_samples': 75}. Best is trial 62 with value: 0.813125.\n"
     ]
    },
    {
     "name": "stdout",
     "output_type": "stream",
     "text": [
      "Training until validation scores don't improve for 10 rounds\n",
      "Early stopping, best iteration is:\n",
      "[36]\tvalid_0's binary_error: 0.191875\n",
      "Training until validation scores don't improve for 10 rounds\n"
     ]
    },
    {
     "name": "stderr",
     "output_type": "stream",
     "text": [
      "[I 2024-01-25 09:34:14,025] Trial 90 finished with value: 0.806875 and parameters: {'lambda_l1': 0.3495958974500503, 'lambda_l2': 5.7913447607628316e-05, 'num_leaves': 103, 'feature_fraction': 0.48408140294767, 'bagging_fraction': 0.9126955750339267, 'bagging_freq': 1, 'min_child_samples': 64}. Best is trial 62 with value: 0.813125.\n",
      "[I 2024-01-25 09:34:14,166] Trial 91 finished with value: 0.80375 and parameters: {'lambda_l1': 1.9125794335426365, 'lambda_l2': 3.651428587188406e-05, 'num_leaves': 123, 'feature_fraction': 0.4367465832712189, 'bagging_fraction': 0.8844662882139519, 'bagging_freq': 1, 'min_child_samples': 44}. Best is trial 62 with value: 0.813125.\n"
     ]
    },
    {
     "name": "stdout",
     "output_type": "stream",
     "text": [
      "Early stopping, best iteration is:\n",
      "[28]\tvalid_0's binary_error: 0.193125\n",
      "Training until validation scores don't improve for 10 rounds\n",
      "Early stopping, best iteration is:\n",
      "[25]\tvalid_0's binary_error: 0.19625\n"
     ]
    },
    {
     "name": "stderr",
     "output_type": "stream",
     "text": [
      "[I 2024-01-25 09:34:14,317] Trial 92 finished with value: 0.805 and parameters: {'lambda_l1': 0.009712521038171319, 'lambda_l2': 0.0002793233223365404, 'num_leaves': 113, 'feature_fraction': 0.44001004808677363, 'bagging_fraction': 0.8715476600191256, 'bagging_freq': 1, 'min_child_samples': 48}. Best is trial 62 with value: 0.813125.\n"
     ]
    },
    {
     "name": "stdout",
     "output_type": "stream",
     "text": [
      "Training until validation scores don't improve for 10 rounds\n",
      "Early stopping, best iteration is:\n",
      "[14]\tvalid_0's binary_error: 0.195\n",
      "Training until validation scores don't improve for 10 rounds\n"
     ]
    },
    {
     "name": "stderr",
     "output_type": "stream",
     "text": [
      "[I 2024-01-25 09:34:14,513] Trial 93 finished with value: 0.805625 and parameters: {'lambda_l1': 1.1867733081437488, 'lambda_l2': 4.10405890801777e-05, 'num_leaves': 154, 'feature_fraction': 0.4646348505748972, 'bagging_fraction': 0.8911327762342919, 'bagging_freq': 1, 'min_child_samples': 68}. Best is trial 62 with value: 0.813125.\n",
      "[I 2024-01-25 09:34:14,662] Trial 94 finished with value: 0.81125 and parameters: {'lambda_l1': 0.5127095001985285, 'lambda_l2': 0.00016812247601033384, 'num_leaves': 84, 'feature_fraction': 0.5109851784188818, 'bagging_fraction': 0.8522576298088712, 'bagging_freq': 1, 'min_child_samples': 47}. Best is trial 62 with value: 0.813125.\n"
     ]
    },
    {
     "name": "stdout",
     "output_type": "stream",
     "text": [
      "Early stopping, best iteration is:\n",
      "[38]\tvalid_0's binary_error: 0.194375\n",
      "Training until validation scores don't improve for 10 rounds\n",
      "Early stopping, best iteration is:\n",
      "[21]\tvalid_0's binary_error: 0.18875\n"
     ]
    },
    {
     "name": "stderr",
     "output_type": "stream",
     "text": [
      "[I 2024-01-25 09:34:14,804] Trial 95 finished with value: 0.80875 and parameters: {'lambda_l1': 0.13451083254521023, 'lambda_l2': 0.00016387602830397833, 'num_leaves': 50, 'feature_fraction': 0.508030249206124, 'bagging_fraction': 0.8435149702681829, 'bagging_freq': 1, 'min_child_samples': 40}. Best is trial 62 with value: 0.813125.\n",
      "[I 2024-01-25 09:34:14,904] Trial 96 finished with value: 0.80375 and parameters: {'lambda_l1': 0.4715107350756009, 'lambda_l2': 0.00032253769904023674, 'num_leaves': 78, 'feature_fraction': 0.5554923584650633, 'bagging_fraction': 0.9576709855364872, 'bagging_freq': 3, 'min_child_samples': 52}. Best is trial 62 with value: 0.813125.\n"
     ]
    },
    {
     "name": "stdout",
     "output_type": "stream",
     "text": [
      "Training until validation scores don't improve for 10 rounds\n",
      "Early stopping, best iteration is:\n",
      "[28]\tvalid_0's binary_error: 0.19125\n",
      "Training until validation scores don't improve for 10 rounds\n",
      "Early stopping, best iteration is:\n",
      "[4]\tvalid_0's binary_error: 0.19625\n"
     ]
    },
    {
     "name": "stderr",
     "output_type": "stream",
     "text": [
      "[I 2024-01-25 09:34:15,089] Trial 97 finished with value: 0.81 and parameters: {'lambda_l1': 0.06964378714446944, 'lambda_l2': 8.600390631982505e-05, 'num_leaves': 67, 'feature_fraction': 0.5257874837733624, 'bagging_fraction': 0.9337398526528831, 'bagging_freq': 2, 'min_child_samples': 35}. Best is trial 62 with value: 0.813125.\n"
     ]
    },
    {
     "name": "stdout",
     "output_type": "stream",
     "text": [
      "Training until validation scores don't improve for 10 rounds\n",
      "Early stopping, best iteration is:\n",
      "[17]\tvalid_0's binary_error: 0.19\n",
      "Training until validation scores don't improve for 10 rounds\n",
      "Early stopping, best iteration is:\n",
      "[12]\tvalid_0's binary_error: 0.19125\n"
     ]
    },
    {
     "name": "stderr",
     "output_type": "stream",
     "text": [
      "[I 2024-01-25 09:34:15,225] Trial 98 finished with value: 0.80875 and parameters: {'lambda_l1': 0.2004938880472836, 'lambda_l2': 9.045312857567674e-05, 'num_leaves': 58, 'feature_fraction': 0.5258018546863112, 'bagging_fraction': 0.910005634606297, 'bagging_freq': 2, 'min_child_samples': 28}. Best is trial 62 with value: 0.813125.\n",
      "[I 2024-01-25 09:34:15,358] Trial 99 finished with value: 0.809375 and parameters: {'lambda_l1': 0.06666236807566071, 'lambda_l2': 0.0004807017230501402, 'num_leaves': 56, 'feature_fraction': 0.5113914802268955, 'bagging_fraction': 0.897900627148904, 'bagging_freq': 2, 'min_child_samples': 42}. Best is trial 62 with value: 0.813125.\n",
      "[I 2024-01-25 09:34:15,499] A new study created in memory with name: no-name-7ffca50b-2604-43fc-acf6-732c1a3759cf\n"
     ]
    },
    {
     "name": "stdout",
     "output_type": "stream",
     "text": [
      "Training until validation scores don't improve for 10 rounds\n",
      "Early stopping, best iteration is:\n",
      "[16]\tvalid_0's binary_error: 0.190625\n"
     ]
    },
    {
     "name": "stderr",
     "output_type": "stream",
     "text": [
      "[I 2024-01-25 09:34:15,580] Trial 0 finished with value: 0.801875 and parameters: {'lambda_l1': 0.023403149526846554, 'lambda_l2': 5.7575227996824694e-06, 'num_leaves': 176, 'feature_fraction': 0.6891705831890276, 'bagging_fraction': 0.8444731666296791, 'bagging_freq': 6, 'min_child_samples': 97}. Best is trial 0 with value: 0.801875.\n",
      "[I 2024-01-25 09:34:15,680] Trial 1 finished with value: 0.805 and parameters: {'lambda_l1': 0.3568639776287749, 'lambda_l2': 3.182065400715836e-07, 'num_leaves': 70, 'feature_fraction': 0.49346209878936714, 'bagging_fraction': 0.8836411350027216, 'bagging_freq': 4, 'min_child_samples': 87}. Best is trial 1 with value: 0.805.\n"
     ]
    },
    {
     "name": "stdout",
     "output_type": "stream",
     "text": [
      "Training until validation scores don't improve for 10 rounds\n",
      "Early stopping, best iteration is:\n",
      "[20]\tvalid_0's binary_error: 0.198125\n",
      "Training until validation scores don't improve for 10 rounds\n",
      "Early stopping, best iteration is:\n",
      "[29]\tvalid_0's binary_error: 0.195\n",
      "Training until validation scores don't improve for 10 rounds\n"
     ]
    },
    {
     "name": "stderr",
     "output_type": "stream",
     "text": [
      "[I 2024-01-25 09:34:15,782] Trial 2 finished with value: 0.803125 and parameters: {'lambda_l1': 8.651424816186106e-07, 'lambda_l2': 4.269652934215609e-05, 'num_leaves': 99, 'feature_fraction': 0.4147837325351005, 'bagging_fraction': 0.949662072436754, 'bagging_freq': 7, 'min_child_samples': 13}. Best is trial 1 with value: 0.805.\n",
      "[I 2024-01-25 09:34:15,874] Trial 3 finished with value: 0.799375 and parameters: {'lambda_l1': 0.0072593127000509594, 'lambda_l2': 0.008223867231172287, 'num_leaves': 113, 'feature_fraction': 0.551829044256872, 'bagging_fraction': 0.749006498517734, 'bagging_freq': 5, 'min_child_samples': 75}. Best is trial 1 with value: 0.805.\n",
      "[I 2024-01-25 09:34:15,925] Trial 4 finished with value: 0.786875 and parameters: {'lambda_l1': 0.00918286287979658, 'lambda_l2': 0.001303893327581756, 'num_leaves': 88, 'feature_fraction': 0.758691397182178, 'bagging_fraction': 0.4007861682575561, 'bagging_freq': 6, 'min_child_samples': 68}. Best is trial 1 with value: 0.805.\n"
     ]
    },
    {
     "name": "stdout",
     "output_type": "stream",
     "text": [
      "Early stopping, best iteration is:\n",
      "[20]\tvalid_0's binary_error: 0.196875\n",
      "Training until validation scores don't improve for 10 rounds\n",
      "Early stopping, best iteration is:\n",
      "[37]\tvalid_0's binary_error: 0.200625\n",
      "Training until validation scores don't improve for 10 rounds\n",
      "Early stopping, best iteration is:\n",
      "[19]\tvalid_0's binary_error: 0.213125\n",
      "Training until validation scores don't improve for 10 rounds\n"
     ]
    },
    {
     "name": "stderr",
     "output_type": "stream",
     "text": [
      "[I 2024-01-25 09:34:16,028] Trial 5 finished with value: 0.80875 and parameters: {'lambda_l1': 0.000151045113321798, 'lambda_l2': 1.693810786323434e-08, 'num_leaves': 253, 'feature_fraction': 0.45243614977497204, 'bagging_fraction': 0.9388950289529344, 'bagging_freq': 7, 'min_child_samples': 40}. Best is trial 5 with value: 0.80875.\n",
      "[I 2024-01-25 09:34:16,115] Trial 6 finished with value: 0.80375 and parameters: {'lambda_l1': 0.03740255480123884, 'lambda_l2': 8.126278697226492e-07, 'num_leaves': 61, 'feature_fraction': 0.8130727248635796, 'bagging_fraction': 0.7752946471503195, 'bagging_freq': 7, 'min_child_samples': 20}. Best is trial 5 with value: 0.80875.\n",
      "[I 2024-01-25 09:34:16,187] Trial 7 finished with value: 0.79375 and parameters: {'lambda_l1': 0.057676488933948604, 'lambda_l2': 3.4485863650917636, 'num_leaves': 97, 'feature_fraction': 0.9352425573684273, 'bagging_fraction': 0.5006887247956294, 'bagging_freq': 1, 'min_child_samples': 12}. Best is trial 5 with value: 0.80875.\n"
     ]
    },
    {
     "name": "stdout",
     "output_type": "stream",
     "text": [
      "Early stopping, best iteration is:\n",
      "[19]\tvalid_0's binary_error: 0.19125\n",
      "Training until validation scores don't improve for 10 rounds\n",
      "Early stopping, best iteration is:\n",
      "[16]\tvalid_0's binary_error: 0.19625\n",
      "Training until validation scores don't improve for 10 rounds\n",
      "Early stopping, best iteration is:\n",
      "[15]\tvalid_0's binary_error: 0.20625\n"
     ]
    },
    {
     "name": "stderr",
     "output_type": "stream",
     "text": [
      "[I 2024-01-25 09:34:16,258] Trial 8 finished with value: 0.798125 and parameters: {'lambda_l1': 1.6573545267315577, 'lambda_l2': 1.1611909970551235e-08, 'num_leaves': 157, 'feature_fraction': 0.6472320915660554, 'bagging_fraction': 0.6037934215945592, 'bagging_freq': 5, 'min_child_samples': 55}. Best is trial 5 with value: 0.80875.\n",
      "[I 2024-01-25 09:34:16,378] Trial 9 finished with value: 0.78625 and parameters: {'lambda_l1': 5.163144155983102e-05, 'lambda_l2': 2.8712434180223205, 'num_leaves': 66, 'feature_fraction': 0.5998130063647271, 'bagging_fraction': 0.4131636119044239, 'bagging_freq': 7, 'min_child_samples': 98}. Best is trial 5 with value: 0.80875.\n"
     ]
    },
    {
     "name": "stdout",
     "output_type": "stream",
     "text": [
      "Training until validation scores don't improve for 10 rounds\n",
      "Early stopping, best iteration is:\n",
      "[22]\tvalid_0's binary_error: 0.201875\n",
      "Training until validation scores don't improve for 10 rounds\n",
      "Early stopping, best iteration is:\n",
      "[22]\tvalid_0's binary_error: 0.21375\n"
     ]
    },
    {
     "name": "stderr",
     "output_type": "stream",
     "text": [
      "[I 2024-01-25 09:34:16,542] Trial 10 finished with value: 0.805625 and parameters: {'lambda_l1': 5.1244078347433675e-08, 'lambda_l2': 1.0047810662502903e-08, 'num_leaves': 239, 'feature_fraction': 0.4018238171419078, 'bagging_fraction': 0.991526712430752, 'bagging_freq': 2, 'min_child_samples': 36}. Best is trial 5 with value: 0.80875.\n"
     ]
    },
    {
     "name": "stdout",
     "output_type": "stream",
     "text": [
      "Training until validation scores don't improve for 10 rounds\n",
      "Early stopping, best iteration is:\n",
      "[19]\tvalid_0's binary_error: 0.194375\n",
      "Training until validation scores don't improve for 10 rounds\n"
     ]
    },
    {
     "name": "stderr",
     "output_type": "stream",
     "text": [
      "[I 2024-01-25 09:34:16,713] Trial 11 finished with value: 0.8125 and parameters: {'lambda_l1': 1.359613268693795e-08, 'lambda_l2': 2.2266507949855797e-08, 'num_leaves': 255, 'feature_fraction': 0.4028041455365968, 'bagging_fraction': 0.9852454824587901, 'bagging_freq': 2, 'min_child_samples': 35}. Best is trial 11 with value: 0.8125.\n",
      "[I 2024-01-25 09:34:16,885] Trial 12 finished with value: 0.811875 and parameters: {'lambda_l1': 2.8151105581125655e-05, 'lambda_l2': 1.284930492503029e-07, 'num_leaves': 254, 'feature_fraction': 0.5121641342803546, 'bagging_fraction': 0.9724449993478065, 'bagging_freq': 3, 'min_child_samples': 32}. Best is trial 11 with value: 0.8125.\n"
     ]
    },
    {
     "name": "stdout",
     "output_type": "stream",
     "text": [
      "Early stopping, best iteration is:\n",
      "[19]\tvalid_0's binary_error: 0.1875\n",
      "Training until validation scores don't improve for 10 rounds\n",
      "Early stopping, best iteration is:\n",
      "[13]\tvalid_0's binary_error: 0.188125\n"
     ]
    },
    {
     "name": "stderr",
     "output_type": "stream",
     "text": [
      "[I 2024-01-25 09:34:17,037] Trial 13 finished with value: 0.803125 and parameters: {'lambda_l1': 1.4195030527552879e-08, 'lambda_l2': 5.106006591498502e-07, 'num_leaves': 210, 'feature_fraction': 0.5282409702460107, 'bagging_fraction': 0.9986004313482476, 'bagging_freq': 3, 'min_child_samples': 35}. Best is trial 11 with value: 0.8125.\n",
      "[I 2024-01-25 09:34:17,179] Trial 14 finished with value: 0.80625 and parameters: {'lambda_l1': 1.5112024966156868e-06, 'lambda_l2': 1.8894140398923483e-07, 'num_leaves': 208, 'feature_fraction': 0.510499242892154, 'bagging_fraction': 0.8587427389696574, 'bagging_freq': 2, 'min_child_samples': 51}. Best is trial 11 with value: 0.8125.\n"
     ]
    },
    {
     "name": "stdout",
     "output_type": "stream",
     "text": [
      "Training until validation scores don't improve for 10 rounds\n",
      "Early stopping, best iteration is:\n",
      "[17]\tvalid_0's binary_error: 0.196875\n",
      "Training until validation scores don't improve for 10 rounds\n",
      "Early stopping, best iteration is:\n",
      "[22]\tvalid_0's binary_error: 0.19375\n"
     ]
    },
    {
     "name": "stderr",
     "output_type": "stream",
     "text": [
      "[I 2024-01-25 09:34:17,273] Trial 15 finished with value: 0.76625 and parameters: {'lambda_l1': 8.94796533948088e-06, 'lambda_l2': 8.829491055274737e-06, 'num_leaves': 4, 'feature_fraction': 0.40236311576982947, 'bagging_fraction': 0.9012468108464978, 'bagging_freq': 3, 'min_child_samples': 25}. Best is trial 11 with value: 0.8125.\n"
     ]
    },
    {
     "name": "stdout",
     "output_type": "stream",
     "text": [
      "Training until validation scores don't improve for 10 rounds\n",
      "Early stopping, best iteration is:\n",
      "[6]\tvalid_0's binary_error: 0.23375\n",
      "Training until validation scores don't improve for 10 rounds\n"
     ]
    },
    {
     "name": "stderr",
     "output_type": "stream",
     "text": [
      "[I 2024-01-25 09:34:17,480] Trial 16 finished with value: 0.784375 and parameters: {'lambda_l1': 1.5869089237273543e-07, 'lambda_l2': 1.3961814191889378e-07, 'num_leaves': 218, 'feature_fraction': 0.5921539402419806, 'bagging_fraction': 0.8181616326266914, 'bagging_freq': 1, 'min_child_samples': 5}. Best is trial 11 with value: 0.8125.\n",
      "[I 2024-01-25 09:34:17,621] Trial 17 finished with value: 0.805 and parameters: {'lambda_l1': 1.0900945391232688e-08, 'lambda_l2': 9.731725936324554e-06, 'num_leaves': 168, 'feature_fraction': 0.4725347201954048, 'bagging_fraction': 0.7019177388692186, 'bagging_freq': 3, 'min_child_samples': 49}. Best is trial 11 with value: 0.8125.\n"
     ]
    },
    {
     "name": "stdout",
     "output_type": "stream",
     "text": [
      "Early stopping, best iteration is:\n",
      "[7]\tvalid_0's binary_error: 0.215625\n",
      "Training until validation scores don't improve for 10 rounds\n",
      "Early stopping, best iteration is:\n",
      "[28]\tvalid_0's binary_error: 0.195\n"
     ]
    },
    {
     "name": "stderr",
     "output_type": "stream",
     "text": [
      "[I 2024-01-25 09:34:17,832] Trial 18 finished with value: 0.810625 and parameters: {'lambda_l1': 2.1867169065903464e-05, 'lambda_l2': 6.622079242324092e-08, 'num_leaves': 254, 'feature_fraction': 0.4720258476027194, 'bagging_fraction': 0.9251247905466268, 'bagging_freq': 2, 'min_child_samples': 29}. Best is trial 11 with value: 0.8125.\n"
     ]
    },
    {
     "name": "stdout",
     "output_type": "stream",
     "text": [
      "Training until validation scores don't improve for 10 rounds\n",
      "Early stopping, best iteration is:\n",
      "[23]\tvalid_0's binary_error: 0.189375\n"
     ]
    },
    {
     "name": "stderr",
     "output_type": "stream",
     "text": [
      "[I 2024-01-25 09:34:18,034] Trial 19 finished with value: 0.809375 and parameters: {'lambda_l1': 0.0005130563408291481, 'lambda_l2': 1.0011281811279912e-06, 'num_leaves': 140, 'feature_fraction': 0.541132616294885, 'bagging_fraction': 0.996881986065483, 'bagging_freq': 4, 'min_child_samples': 44}. Best is trial 11 with value: 0.8125.\n"
     ]
    },
    {
     "name": "stdout",
     "output_type": "stream",
     "text": [
      "Training until validation scores don't improve for 10 rounds\n",
      "Early stopping, best iteration is:\n",
      "[19]\tvalid_0's binary_error: 0.190625\n",
      "Training until validation scores don't improve for 10 rounds\n"
     ]
    },
    {
     "name": "stderr",
     "output_type": "stream",
     "text": [
      "[I 2024-01-25 09:34:18,144] Trial 20 finished with value: 0.799375 and parameters: {'lambda_l1': 5.108225434401903e-07, 'lambda_l2': 8.033789510020652e-08, 'num_leaves': 192, 'feature_fraction': 0.5951659162797586, 'bagging_fraction': 0.8249979730623114, 'bagging_freq': 2, 'min_child_samples': 69}. Best is trial 11 with value: 0.8125.\n",
      "[I 2024-01-25 09:34:18,342] Trial 21 finished with value: 0.803125 and parameters: {'lambda_l1': 9.067102231276204e-06, 'lambda_l2': 4.738905150531993e-08, 'num_leaves': 236, 'feature_fraction': 0.4623127484618112, 'bagging_fraction': 0.9232460168177975, 'bagging_freq': 2, 'min_child_samples': 28}. Best is trial 11 with value: 0.8125.\n"
     ]
    },
    {
     "name": "stdout",
     "output_type": "stream",
     "text": [
      "Early stopping, best iteration is:\n",
      "[13]\tvalid_0's binary_error: 0.200625\n",
      "Training until validation scores don't improve for 10 rounds\n",
      "Early stopping, best iteration is:\n",
      "[23]\tvalid_0's binary_error: 0.196875\n"
     ]
    },
    {
     "name": "stderr",
     "output_type": "stream",
     "text": [
      "[I 2024-01-25 09:34:18,604] Trial 22 finished with value: 0.81 and parameters: {'lambda_l1': 0.0007775544948980864, 'lambda_l2': 5.306398585547366e-08, 'num_leaves': 256, 'feature_fraction': 0.46063862574828124, 'bagging_fraction': 0.9310244427557303, 'bagging_freq': 3, 'min_child_samples': 29}. Best is trial 11 with value: 0.8125.\n"
     ]
    },
    {
     "name": "stdout",
     "output_type": "stream",
     "text": [
      "Training until validation scores don't improve for 10 rounds\n",
      "Early stopping, best iteration is:\n",
      "[18]\tvalid_0's binary_error: 0.19\n"
     ]
    },
    {
     "name": "stderr",
     "output_type": "stream",
     "text": [
      "[I 2024-01-25 09:34:18,760] Trial 23 finished with value: 0.806875 and parameters: {'lambda_l1': 6.9997062059768395e-06, 'lambda_l2': 2.1541396952651047e-06, 'num_leaves': 226, 'feature_fraction': 0.4933860277286477, 'bagging_fraction': 0.8794405586753244, 'bagging_freq': 1, 'min_child_samples': 57}. Best is trial 11 with value: 0.8125.\n"
     ]
    },
    {
     "name": "stdout",
     "output_type": "stream",
     "text": [
      "Training until validation scores don't improve for 10 rounds\n",
      "Early stopping, best iteration is:\n",
      "[33]\tvalid_0's binary_error: 0.193125\n",
      "Training until validation scores don't improve for 10 rounds\n"
     ]
    },
    {
     "name": "stderr",
     "output_type": "stream",
     "text": [
      "[I 2024-01-25 09:34:18,973] Trial 24 finished with value: 0.805 and parameters: {'lambda_l1': 1.1545156841810078e-07, 'lambda_l2': 6.693319015469628e-08, 'num_leaves': 187, 'feature_fraction': 0.42308035243837583, 'bagging_fraction': 0.951530401187133, 'bagging_freq': 4, 'min_child_samples': 19}. Best is trial 11 with value: 0.8125.\n",
      "[I 2024-01-25 09:34:19,124] Trial 25 finished with value: 0.81 and parameters: {'lambda_l1': 4.0595671963574044e-05, 'lambda_l2': 2.2291575927704633e-07, 'num_leaves': 243, 'feature_fraction': 0.5312510124023764, 'bagging_fraction': 0.8914549119259452, 'bagging_freq': 2, 'min_child_samples': 35}. Best is trial 11 with value: 0.8125.\n"
     ]
    },
    {
     "name": "stdout",
     "output_type": "stream",
     "text": [
      "Early stopping, best iteration is:\n",
      "[21]\tvalid_0's binary_error: 0.195\n",
      "Training until validation scores don't improve for 10 rounds\n",
      "Early stopping, best iteration is:\n",
      "[12]\tvalid_0's binary_error: 0.19\n"
     ]
    },
    {
     "name": "stderr",
     "output_type": "stream",
     "text": [
      "[I 2024-01-25 09:34:19,297] Trial 26 finished with value: 0.810625 and parameters: {'lambda_l1': 3.410381227140255e-06, 'lambda_l2': 1.0417645343528514e-08, 'num_leaves': 206, 'feature_fraction': 0.4468569114002461, 'bagging_fraction': 0.9656178719271148, 'bagging_freq': 3, 'min_child_samples': 45}. Best is trial 11 with value: 0.8125.\n"
     ]
    },
    {
     "name": "stdout",
     "output_type": "stream",
     "text": [
      "Training until validation scores don't improve for 10 rounds\n",
      "Early stopping, best iteration is:\n",
      "[20]\tvalid_0's binary_error: 0.189375\n",
      "Training until validation scores don't improve for 10 rounds\n"
     ]
    },
    {
     "name": "stderr",
     "output_type": "stream",
     "text": [
      "[I 2024-01-25 09:34:19,463] Trial 27 finished with value: 0.80125 and parameters: {'lambda_l1': 5.685462006722569e-07, 'lambda_l2': 2.6091800445842117e-06, 'num_leaves': 230, 'feature_fraction': 0.48956069995425583, 'bagging_fraction': 0.9227168456849422, 'bagging_freq': 1, 'min_child_samples': 30}. Best is trial 11 with value: 0.8125.\n",
      "[I 2024-01-25 09:34:19,620] Trial 28 finished with value: 0.803125 and parameters: {'lambda_l1': 3.237199562318638e-05, 'lambda_l2': 6.523989932319855e-07, 'num_leaves': 254, 'feature_fraction': 0.5713407825243081, 'bagging_fraction': 0.9628245468724687, 'bagging_freq': 2, 'min_child_samples': 21}. Best is trial 11 with value: 0.8125.\n"
     ]
    },
    {
     "name": "stdout",
     "output_type": "stream",
     "text": [
      "Early stopping, best iteration is:\n",
      "[9]\tvalid_0's binary_error: 0.19875\n",
      "Training until validation scores don't improve for 10 rounds\n",
      "Early stopping, best iteration is:\n",
      "[3]\tvalid_0's binary_error: 0.196875\n"
     ]
    },
    {
     "name": "stderr",
     "output_type": "stream",
     "text": [
      "[I 2024-01-25 09:34:19,791] Trial 29 finished with value: 0.790625 and parameters: {'lambda_l1': 0.00140967749528768, 'lambda_l2': 4.013701520634701e-08, 'num_leaves': 191, 'feature_fraction': 0.6365744433040056, 'bagging_fraction': 0.8384947120273221, 'bagging_freq': 4, 'min_child_samples': 10}. Best is trial 11 with value: 0.8125.\n"
     ]
    },
    {
     "name": "stdout",
     "output_type": "stream",
     "text": [
      "Training until validation scores don't improve for 10 rounds\n",
      "Early stopping, best iteration is:\n",
      "[10]\tvalid_0's binary_error: 0.209375\n",
      "Training until validation scores don't improve for 10 rounds\n"
     ]
    },
    {
     "name": "stderr",
     "output_type": "stream",
     "text": [
      "[I 2024-01-25 09:34:19,963] Trial 30 finished with value: 0.805 and parameters: {'lambda_l1': 0.00015415623693323306, 'lambda_l2': 5.216245506735444e-05, 'num_leaves': 150, 'feature_fraction': 0.4398537615316034, 'bagging_fraction': 0.8576651829568479, 'bagging_freq': 3, 'min_child_samples': 60}. Best is trial 11 with value: 0.8125.\n",
      "[I 2024-01-25 09:34:20,137] Trial 31 finished with value: 0.809375 and parameters: {'lambda_l1': 2.6401870283725375e-06, 'lambda_l2': 1.6619958376784322e-08, 'num_leaves': 212, 'feature_fraction': 0.4433896584947983, 'bagging_fraction': 0.9964436061782121, 'bagging_freq': 3, 'min_child_samples': 43}. Best is trial 11 with value: 0.8125.\n"
     ]
    },
    {
     "name": "stdout",
     "output_type": "stream",
     "text": [
      "Early stopping, best iteration is:\n",
      "[27]\tvalid_0's binary_error: 0.195\n",
      "Training until validation scores don't improve for 10 rounds\n",
      "Early stopping, best iteration is:\n",
      "[29]\tvalid_0's binary_error: 0.190625\n"
     ]
    },
    {
     "name": "stderr",
     "output_type": "stream",
     "text": [
      "[I 2024-01-25 09:34:20,286] Trial 32 finished with value: 0.80375 and parameters: {'lambda_l1': 3.8962098500806325e-06, 'lambda_l2': 1.4651141504633006e-07, 'num_leaves': 228, 'feature_fraction': 0.4965757229250708, 'bagging_fraction': 0.9678816669303134, 'bagging_freq': 2, 'min_child_samples': 47}. Best is trial 11 with value: 0.8125.\n"
     ]
    },
    {
     "name": "stdout",
     "output_type": "stream",
     "text": [
      "Training until validation scores don't improve for 10 rounds\n",
      "Early stopping, best iteration is:\n",
      "[11]\tvalid_0's binary_error: 0.19625\n",
      "Training until validation scores don't improve for 10 rounds\n"
     ]
    },
    {
     "name": "stderr",
     "output_type": "stream",
     "text": [
      "[I 2024-01-25 09:34:20,428] Trial 33 finished with value: 0.8 and parameters: {'lambda_l1': 2.7519195049286454e-07, 'lambda_l2': 2.8733687066055216e-08, 'num_leaves': 200, 'feature_fraction': 0.5144216367104265, 'bagging_fraction': 0.9057893976604268, 'bagging_freq': 4, 'min_child_samples': 39}. Best is trial 11 with value: 0.8125.\n",
      "[I 2024-01-25 09:34:20,620] Trial 34 finished with value: 0.80625 and parameters: {'lambda_l1': 2.029011114827742e-06, 'lambda_l2': 2.358876763272553e-07, 'num_leaves': 175, 'feature_fraction': 0.40145698657727885, 'bagging_fraction': 0.9522257190825418, 'bagging_freq': 3, 'min_child_samples': 32}. Best is trial 11 with value: 0.8125.\n"
     ]
    },
    {
     "name": "stdout",
     "output_type": "stream",
     "text": [
      "Early stopping, best iteration is:\n",
      "[12]\tvalid_0's binary_error: 0.2\n",
      "Training until validation scores don't improve for 10 rounds\n",
      "Early stopping, best iteration is:\n",
      "[17]\tvalid_0's binary_error: 0.19375\n"
     ]
    },
    {
     "name": "stderr",
     "output_type": "stream",
     "text": [
      "[I 2024-01-25 09:34:20,802] Trial 35 finished with value: 0.80625 and parameters: {'lambda_l1': 4.8622803797591275e-08, 'lambda_l2': 3.8721207088976394e-08, 'num_leaves': 239, 'feature_fraction': 0.4415411586066042, 'bagging_fraction': 0.8938326152381559, 'bagging_freq': 5, 'min_child_samples': 25}. Best is trial 11 with value: 0.8125.\n"
     ]
    },
    {
     "name": "stdout",
     "output_type": "stream",
     "text": [
      "Training until validation scores don't improve for 10 rounds\n",
      "Early stopping, best iteration is:\n",
      "[15]\tvalid_0's binary_error: 0.19375\n",
      "Training until validation scores don't improve for 10 rounds\n"
     ]
    },
    {
     "name": "stderr",
     "output_type": "stream",
     "text": [
      "[I 2024-01-25 09:34:20,953] Trial 36 finished with value: 0.804375 and parameters: {'lambda_l1': 9.878611827471958e-07, 'lambda_l2': 1.0982821595519154e-08, 'num_leaves': 255, 'feature_fraction': 0.4783898939981456, 'bagging_fraction': 0.9569686288400627, 'bagging_freq': 2, 'min_child_samples': 88}. Best is trial 11 with value: 0.8125.\n",
      "[I 2024-01-25 09:34:21,075] Trial 37 finished with value: 0.801875 and parameters: {'lambda_l1': 1.747561033567721e-05, 'lambda_l2': 2.9134937544137254e-07, 'num_leaves': 223, 'feature_fraction': 0.5535283110036407, 'bagging_fraction': 0.8727429796689476, 'bagging_freq': 4, 'min_child_samples': 62}. Best is trial 11 with value: 0.8125.\n"
     ]
    },
    {
     "name": "stdout",
     "output_type": "stream",
     "text": [
      "Early stopping, best iteration is:\n",
      "[32]\tvalid_0's binary_error: 0.195625\n",
      "Training until validation scores don't improve for 10 rounds\n",
      "Early stopping, best iteration is:\n",
      "[7]\tvalid_0's binary_error: 0.198125\n"
     ]
    },
    {
     "name": "stderr",
     "output_type": "stream",
     "text": [
      "[I 2024-01-25 09:34:21,258] Trial 38 finished with value: 0.80125 and parameters: {'lambda_l1': 0.00017027808659294164, 'lambda_l2': 7.934928468714516e-08, 'num_leaves': 240, 'feature_fraction': 0.4283786341944186, 'bagging_fraction': 0.927701465814135, 'bagging_freq': 1, 'min_child_samples': 17}. Best is trial 11 with value: 0.8125.\n"
     ]
    },
    {
     "name": "stdout",
     "output_type": "stream",
     "text": [
      "Training until validation scores don't improve for 10 rounds\n",
      "Early stopping, best iteration is:\n",
      "[11]\tvalid_0's binary_error: 0.19875\n",
      "Training until validation scores don't improve for 10 rounds\n"
     ]
    },
    {
     "name": "stderr",
     "output_type": "stream",
     "text": [
      "[I 2024-01-25 09:34:21,388] Trial 39 finished with value: 0.809375 and parameters: {'lambda_l1': 7.805464585562259e-05, 'lambda_l2': 1.050514787412797e-06, 'num_leaves': 46, 'feature_fraction': 0.4534785465582558, 'bagging_fraction': 0.9752773762311, 'bagging_freq': 3, 'min_child_samples': 41}. Best is trial 11 with value: 0.8125.\n",
      "[I 2024-01-25 09:34:21,510] Trial 40 finished with value: 0.8075 and parameters: {'lambda_l1': 3.1025515789007446e-06, 'lambda_l2': 2.535601537476288e-08, 'num_leaves': 127, 'feature_fraction': 0.5051422452414028, 'bagging_fraction': 0.7923781371501044, 'bagging_freq': 2, 'min_child_samples': 47}. Best is trial 11 with value: 0.8125.\n"
     ]
    },
    {
     "name": "stdout",
     "output_type": "stream",
     "text": [
      "Early stopping, best iteration is:\n",
      "[25]\tvalid_0's binary_error: 0.190625\n",
      "Training until validation scores don't improve for 10 rounds\n",
      "Early stopping, best iteration is:\n",
      "[16]\tvalid_0's binary_error: 0.1925\n",
      "Training until validation scores don't improve for 10 rounds\n"
     ]
    },
    {
     "name": "stderr",
     "output_type": "stream",
     "text": [
      "[I 2024-01-25 09:34:21,733] Trial 41 finished with value: 0.810625 and parameters: {'lambda_l1': 0.0006548518984183365, 'lambda_l2': 6.456808715609762e-08, 'num_leaves': 253, 'feature_fraction': 0.4672623840432691, 'bagging_fraction': 0.9336141833390463, 'bagging_freq': 3, 'min_child_samples': 26}. Best is trial 11 with value: 0.8125.\n"
     ]
    },
    {
     "name": "stdout",
     "output_type": "stream",
     "text": [
      "Early stopping, best iteration is:\n",
      "[16]\tvalid_0's binary_error: 0.189375\n",
      "Training until validation scores don't improve for 10 rounds\n"
     ]
    },
    {
     "name": "stderr",
     "output_type": "stream",
     "text": [
      "[I 2024-01-25 09:34:21,965] Trial 42 finished with value: 0.8075 and parameters: {'lambda_l1': 1.5895228444545784e-05, 'lambda_l2': 1.0623602307947353e-08, 'num_leaves': 246, 'feature_fraction': 0.4281402331938572, 'bagging_fraction': 0.9336252764640588, 'bagging_freq': 3, 'min_child_samples': 24}. Best is trial 11 with value: 0.8125.\n",
      "[I 2024-01-25 09:34:22,157] Trial 43 finished with value: 0.796875 and parameters: {'lambda_l1': 0.00196915647723425, 'lambda_l2': 1.0645394374124044e-07, 'num_leaves': 220, 'feature_fraction': 0.4857726153645872, 'bagging_fraction': 0.9733815157707357, 'bagging_freq': 4, 'min_child_samples': 15}. Best is trial 11 with value: 0.8125.\n"
     ]
    },
    {
     "name": "stdout",
     "output_type": "stream",
     "text": [
      "Early stopping, best iteration is:\n",
      "[24]\tvalid_0's binary_error: 0.1925\n",
      "Training until validation scores don't improve for 10 rounds\n",
      "Early stopping, best iteration is:\n",
      "[15]\tvalid_0's binary_error: 0.203125\n"
     ]
    },
    {
     "name": "stderr",
     "output_type": "stream",
     "text": [
      "[I 2024-01-25 09:34:22,316] Trial 44 finished with value: 0.8125 and parameters: {'lambda_l1': 0.00010486424094769323, 'lambda_l2': 3.333027176240236e-07, 'num_leaves': 247, 'feature_fraction': 0.4691323623184505, 'bagging_fraction': 0.9070370933055037, 'bagging_freq': 3, 'min_child_samples': 38}. Best is trial 11 with value: 0.8125.\n"
     ]
    },
    {
     "name": "stdout",
     "output_type": "stream",
     "text": [
      "Training until validation scores don't improve for 10 rounds\n",
      "Early stopping, best iteration is:\n",
      "[18]\tvalid_0's binary_error: 0.1875\n",
      "Training until validation scores don't improve for 10 rounds\n"
     ]
    },
    {
     "name": "stderr",
     "output_type": "stream",
     "text": [
      "[I 2024-01-25 09:34:22,450] Trial 45 finished with value: 0.8125 and parameters: {'lambda_l1': 7.851737279405894e-05, 'lambda_l2': 3.9981851094311146e-07, 'num_leaves': 203, 'feature_fraction': 0.525611498641779, 'bagging_fraction': 0.912512237908748, 'bagging_freq': 2, 'min_child_samples': 38}. Best is trial 11 with value: 0.8125.\n"
     ]
    },
    {
     "name": "stdout",
     "output_type": "stream",
     "text": [
      "Early stopping, best iteration is:\n",
      "[12]\tvalid_0's binary_error: 0.1875\n",
      "Training until validation scores don't improve for 10 rounds\n",
      "Early stopping, best iteration is:\n",
      "[14]\tvalid_0's binary_error: 0.19\n"
     ]
    },
    {
     "name": "stderr",
     "output_type": "stream",
     "text": [
      "[I 2024-01-25 09:34:22,668] Trial 46 finished with value: 0.81 and parameters: {'lambda_l1': 8.54086090301039e-05, 'lambda_l2': 5.129884625078687e-07, 'num_leaves': 233, 'feature_fraction': 0.5512140202897498, 'bagging_fraction': 0.8632253733163651, 'bagging_freq': 2, 'min_child_samples': 37}. Best is trial 11 with value: 0.8125.\n",
      "[I 2024-01-25 09:34:22,843] Trial 47 finished with value: 0.80625 and parameters: {'lambda_l1': 0.00028137953374816926, 'lambda_l2': 3.701375871735201e-07, 'num_leaves': 248, 'feature_fraction': 0.5262092791008139, 'bagging_fraction': 0.9003108497250968, 'bagging_freq': 1, 'min_child_samples': 33}. Best is trial 11 with value: 0.8125.\n"
     ]
    },
    {
     "name": "stdout",
     "output_type": "stream",
     "text": [
      "Training until validation scores don't improve for 10 rounds\n",
      "Early stopping, best iteration is:\n",
      "[21]\tvalid_0's binary_error: 0.19375\n",
      "Training until validation scores don't improve for 10 rounds\n"
     ]
    },
    {
     "name": "stderr",
     "output_type": "stream",
     "text": [
      "[I 2024-01-25 09:34:22,965] Trial 48 finished with value: 0.80125 and parameters: {'lambda_l1': 2.2884625810280668e-05, 'lambda_l2': 1.2551578024340554e-06, 'num_leaves': 200, 'feature_fraction': 0.4144559485011997, 'bagging_fraction': 0.8463339216669955, 'bagging_freq': 2, 'min_child_samples': 54}. Best is trial 11 with value: 0.8125.\n",
      "[I 2024-01-25 09:34:23,089] Trial 49 finished with value: 0.808125 and parameters: {'lambda_l1': 7.913913865300579e-05, 'lambda_l2': 2.247785243635042e-06, 'num_leaves': 219, 'feature_fraction': 0.5704060140458838, 'bagging_fraction': 0.9984047919657035, 'bagging_freq': 1, 'min_child_samples': 38}. Best is trial 11 with value: 0.8125.\n"
     ]
    },
    {
     "name": "stdout",
     "output_type": "stream",
     "text": [
      "Early stopping, best iteration is:\n",
      "[15]\tvalid_0's binary_error: 0.19875\n",
      "Training until validation scores don't improve for 10 rounds\n",
      "Early stopping, best iteration is:\n",
      "[6]\tvalid_0's binary_error: 0.191875\n"
     ]
    },
    {
     "name": "stderr",
     "output_type": "stream",
     "text": [
      "[I 2024-01-25 09:34:23,241] Trial 50 finished with value: 0.80625 and parameters: {'lambda_l1': 0.011147900606301322, 'lambda_l2': 5.764819372958382e-06, 'num_leaves': 182, 'feature_fraction': 0.5041702493728234, 'bagging_fraction': 0.9120737268795601, 'bagging_freq': 6, 'min_child_samples': 32}. Best is trial 11 with value: 0.8125.\n"
     ]
    },
    {
     "name": "stdout",
     "output_type": "stream",
     "text": [
      "Training until validation scores don't improve for 10 rounds\n",
      "Early stopping, best iteration is:\n",
      "[15]\tvalid_0's binary_error: 0.19375\n",
      "Training until validation scores don't improve for 10 rounds\n"
     ]
    },
    {
     "name": "stderr",
     "output_type": "stream",
     "text": [
      "[I 2024-01-25 09:34:23,393] Trial 51 finished with value: 0.80625 and parameters: {'lambda_l1': 9.679696611590218e-06, 'lambda_l2': 2.3283812614865996e-08, 'num_leaves': 202, 'feature_fraction': 0.46941162394556213, 'bagging_fraction': 0.9704346464856368, 'bagging_freq': 3, 'min_child_samples': 44}. Best is trial 11 with value: 0.8125.\n",
      "[I 2024-01-25 09:34:23,563] Trial 52 finished with value: 0.808125 and parameters: {'lambda_l1': 1.1451561922903694e-06, 'lambda_l2': 1.2259758476456568e-07, 'num_leaves': 234, 'feature_fraction': 0.42806090852024903, 'bagging_fraction': 0.953333078727713, 'bagging_freq': 5, 'min_child_samples': 40}. Best is trial 11 with value: 0.8125.\n"
     ]
    },
    {
     "name": "stdout",
     "output_type": "stream",
     "text": [
      "Early stopping, best iteration is:\n",
      "[23]\tvalid_0's binary_error: 0.19375\n",
      "Training until validation scores don't improve for 10 rounds\n",
      "Early stopping, best iteration is:\n",
      "[19]\tvalid_0's binary_error: 0.191875\n"
     ]
    },
    {
     "name": "stderr",
     "output_type": "stream",
     "text": [
      "[I 2024-01-25 09:34:23,707] Trial 53 finished with value: 0.804375 and parameters: {'lambda_l1': 0.00025349983393133796, 'lambda_l2': 2.36474468255853e-08, 'num_leaves': 166, 'feature_fraction': 0.45535009339421856, 'bagging_fraction': 0.8867186740009746, 'bagging_freq': 3, 'min_child_samples': 51}. Best is trial 11 with value: 0.8125.\n"
     ]
    },
    {
     "name": "stdout",
     "output_type": "stream",
     "text": [
      "Training until validation scores don't improve for 10 rounds\n",
      "Early stopping, best iteration is:\n",
      "[23]\tvalid_0's binary_error: 0.195625\n",
      "Training until validation scores don't improve for 10 rounds\n"
     ]
    },
    {
     "name": "stderr",
     "output_type": "stream",
     "text": [
      "[I 2024-01-25 09:34:23,866] Trial 54 finished with value: 0.809375 and parameters: {'lambda_l1': 5.236761129626263e-06, 'lambda_l2': 3.021694046998179e-07, 'num_leaves': 111, 'feature_fraction': 0.514015155494292, 'bagging_fraction': 0.9429855459074966, 'bagging_freq': 2, 'min_child_samples': 46}. Best is trial 11 with value: 0.8125.\n",
      "[I 2024-01-25 09:34:24,040] Trial 55 finished with value: 0.8025 and parameters: {'lambda_l1': 2.681037497187569e-05, 'lambda_l2': 1.2979746471266295e-07, 'num_leaves': 213, 'feature_fraction': 0.4033723023723793, 'bagging_fraction': 0.9119634986965705, 'bagging_freq': 2, 'min_child_samples': 22}. Best is trial 11 with value: 0.8125.\n"
     ]
    },
    {
     "name": "stdout",
     "output_type": "stream",
     "text": [
      "Early stopping, best iteration is:\n",
      "[9]\tvalid_0's binary_error: 0.190625\n",
      "Training until validation scores don't improve for 10 rounds\n",
      "Early stopping, best iteration is:\n",
      "[13]\tvalid_0's binary_error: 0.1975\n"
     ]
    },
    {
     "name": "stderr",
     "output_type": "stream",
     "text": [
      "[I 2024-01-25 09:34:24,205] Trial 56 finished with value: 0.80625 and parameters: {'lambda_l1': 6.0691191482175777e-05, 'lambda_l2': 1.1267387847476134e-08, 'num_leaves': 244, 'feature_fraction': 0.48786844108026, 'bagging_fraction': 0.8742229811113419, 'bagging_freq': 3, 'min_child_samples': 34}. Best is trial 11 with value: 0.8125.\n"
     ]
    },
    {
     "name": "stdout",
     "output_type": "stream",
     "text": [
      "Training until validation scores don't improve for 10 rounds\n",
      "Early stopping, best iteration is:\n",
      "[16]\tvalid_0's binary_error: 0.19375\n",
      "Training until validation scores don't improve for 10 rounds\n"
     ]
    },
    {
     "name": "stderr",
     "output_type": "stream",
     "text": [
      "[I 2024-01-25 09:34:24,357] Trial 57 finished with value: 0.803125 and parameters: {'lambda_l1': 1.4092424174970207e-05, 'lambda_l2': 6.267316278379417e-08, 'num_leaves': 84, 'feature_fraction': 0.5367562943735976, 'bagging_fraction': 0.9833936528915758, 'bagging_freq': 2, 'min_child_samples': 28}. Best is trial 11 with value: 0.8125.\n",
      "[I 2024-01-25 09:34:24,547] Trial 58 finished with value: 0.804375 and parameters: {'lambda_l1': 3.306982653840662e-05, 'lambda_l2': 3.641577995778709e-07, 'num_leaves': 256, 'feature_fraction': 0.45176577274287555, 'bagging_fraction': 0.9453053875872731, 'bagging_freq': 4, 'min_child_samples': 41}. Best is trial 11 with value: 0.8125.\n"
     ]
    },
    {
     "name": "stdout",
     "output_type": "stream",
     "text": [
      "Early stopping, best iteration is:\n",
      "[20]\tvalid_0's binary_error: 0.196875\n",
      "Training until validation scores don't improve for 10 rounds\n",
      "Early stopping, best iteration is:\n",
      "[17]\tvalid_0's binary_error: 0.195625\n"
     ]
    },
    {
     "name": "stderr",
     "output_type": "stream",
     "text": [
      "[I 2024-01-25 09:34:24,696] Trial 59 finished with value: 0.804375 and parameters: {'lambda_l1': 5.141501973390589e-06, 'lambda_l2': 2.0823683908437962e-08, 'num_leaves': 227, 'feature_fraction': 0.4751687109580878, 'bagging_fraction': 0.9824770920136146, 'bagging_freq': 2, 'min_child_samples': 36}. Best is trial 11 with value: 0.8125.\n",
      "[I 2024-01-25 09:34:24,844] Trial 60 finished with value: 0.80875 and parameters: {'lambda_l1': 0.0001468219749937419, 'lambda_l2': 7.788552001107302e-07, 'num_leaves': 245, 'feature_fraction': 0.4235636933648186, 'bagging_fraction': 0.9242530197471015, 'bagging_freq': 3, 'min_child_samples': 30}. Best is trial 11 with value: 0.8125.\n"
     ]
    },
    {
     "name": "stdout",
     "output_type": "stream",
     "text": [
      "Training until validation scores don't improve for 10 rounds\n",
      "Early stopping, best iteration is:\n",
      "[12]\tvalid_0's binary_error: 0.195625\n",
      "Training until validation scores don't improve for 10 rounds\n",
      "Early stopping, best iteration is:\n",
      "[12]\tvalid_0's binary_error: 0.19125\n"
     ]
    },
    {
     "name": "stderr",
     "output_type": "stream",
     "text": [
      "[I 2024-01-25 09:34:25,002] Trial 61 finished with value: 0.81125 and parameters: {'lambda_l1': 0.0006242054240874488, 'lambda_l2': 5.23037893547846e-08, 'num_leaves': 246, 'feature_fraction': 0.46993309779881776, 'bagging_fraction': 0.9423426635287574, 'bagging_freq': 3, 'min_child_samples': 24}. Best is trial 11 with value: 0.8125.\n"
     ]
    },
    {
     "name": "stdout",
     "output_type": "stream",
     "text": [
      "Training until validation scores don't improve for 10 rounds\n",
      "Early stopping, best iteration is:\n",
      "[13]\tvalid_0's binary_error: 0.18875\n",
      "Training until validation scores don't improve for 10 rounds\n"
     ]
    },
    {
     "name": "stderr",
     "output_type": "stream",
     "text": [
      "[I 2024-01-25 09:34:25,216] Trial 62 finished with value: 0.795 and parameters: {'lambda_l1': 4.394878270423535e-05, 'lambda_l2': 3.569179650292709e-08, 'num_leaves': 236, 'feature_fraction': 0.44534533056248077, 'bagging_fraction': 0.9659266823412791, 'bagging_freq': 3, 'min_child_samples': 10}. Best is trial 11 with value: 0.8125.\n",
      "[I 2024-01-25 09:34:25,408] Trial 63 finished with value: 0.805 and parameters: {'lambda_l1': 0.0004607535315356702, 'lambda_l2': 1.1895256414369097e-07, 'num_leaves': 208, 'feature_fraction': 0.47482957911009543, 'bagging_fraction': 0.9122878632520179, 'bagging_freq': 3, 'min_child_samples': 28}. Best is trial 11 with value: 0.8125.\n"
     ]
    },
    {
     "name": "stdout",
     "output_type": "stream",
     "text": [
      "Early stopping, best iteration is:\n",
      "[13]\tvalid_0's binary_error: 0.205\n",
      "Training until validation scores don't improve for 10 rounds\n",
      "Early stopping, best iteration is:\n",
      "[19]\tvalid_0's binary_error: 0.195\n"
     ]
    },
    {
     "name": "stderr",
     "output_type": "stream",
     "text": [
      "[I 2024-01-25 09:34:25,551] Trial 64 finished with value: 0.80875 and parameters: {'lambda_l1': 8.973025068562227e-06, 'lambda_l2': 1.885763450196153e-07, 'num_leaves': 247, 'feature_fraction': 0.5243188354991879, 'bagging_fraction': 0.9429201097345569, 'bagging_freq': 4, 'min_child_samples': 50}. Best is trial 11 with value: 0.8125.\n"
     ]
    },
    {
     "name": "stdout",
     "output_type": "stream",
     "text": [
      "Training until validation scores don't improve for 10 rounds\n",
      "Early stopping, best iteration is:\n",
      "[17]\tvalid_0's binary_error: 0.19125\n",
      "Training until validation scores don't improve for 10 rounds\n"
     ]
    },
    {
     "name": "stderr",
     "output_type": "stream",
     "text": [
      "[I 2024-01-25 09:34:25,762] Trial 65 finished with value: 0.805 and parameters: {'lambda_l1': 2.0157987144348605e-08, 'lambda_l2': 4.791560957696959e-08, 'num_leaves': 229, 'feature_fraction': 0.4998157925373276, 'bagging_fraction': 0.9965318941570496, 'bagging_freq': 2, 'min_child_samples': 21}. Best is trial 11 with value: 0.8125.\n",
      "[I 2024-01-25 09:34:25,944] Trial 66 finished with value: 0.80375 and parameters: {'lambda_l1': 2.783179471213643e-07, 'lambda_l2': 2.4141144649246417e-08, 'num_leaves': 215, 'feature_fraction': 0.4119143595746438, 'bagging_fraction': 0.8967735993091158, 'bagging_freq': 1, 'min_child_samples': 32}. Best is trial 11 with value: 0.8125.\n"
     ]
    },
    {
     "name": "stdout",
     "output_type": "stream",
     "text": [
      "Early stopping, best iteration is:\n",
      "[19]\tvalid_0's binary_error: 0.195\n",
      "Training until validation scores don't improve for 10 rounds\n",
      "Early stopping, best iteration is:\n",
      "[28]\tvalid_0's binary_error: 0.19625\n"
     ]
    },
    {
     "name": "stderr",
     "output_type": "stream",
     "text": [
      "[I 2024-01-25 09:34:26,159] Trial 67 finished with value: 0.8125 and parameters: {'lambda_l1': 1.9141393772126803e-06, 'lambda_l2': 7.743058216814045e-08, 'num_leaves': 249, 'feature_fraction': 0.46176713104879363, 'bagging_fraction': 0.9781304649130309, 'bagging_freq': 3, 'min_child_samples': 43}. Best is trial 11 with value: 0.8125.\n"
     ]
    },
    {
     "name": "stdout",
     "output_type": "stream",
     "text": [
      "Training until validation scores don't improve for 10 rounds\n",
      "Early stopping, best iteration is:\n",
      "[22]\tvalid_0's binary_error: 0.1875\n"
     ]
    },
    {
     "name": "stderr",
     "output_type": "stream",
     "text": [
      "[I 2024-01-25 09:34:26,340] Trial 68 finished with value: 0.805 and parameters: {'lambda_l1': 0.0010500125896232546, 'lambda_l2': 4.874291729151706e-07, 'num_leaves': 250, 'feature_fraction': 0.518042280346858, 'bagging_fraction': 0.9849431502733166, 'bagging_freq': 4, 'min_child_samples': 36}. Best is trial 11 with value: 0.8125.\n"
     ]
    },
    {
     "name": "stdout",
     "output_type": "stream",
     "text": [
      "Training until validation scores don't improve for 10 rounds\n",
      "Early stopping, best iteration is:\n",
      "[20]\tvalid_0's binary_error: 0.195\n",
      "Training until validation scores don't improve for 10 rounds\n"
     ]
    },
    {
     "name": "stderr",
     "output_type": "stream",
     "text": [
      "[I 2024-01-25 09:34:26,490] Trial 69 finished with value: 0.80375 and parameters: {'lambda_l1': 1.4520334752054388e-06, 'lambda_l2': 1.8581206207935426e-07, 'num_leaves': 234, 'feature_fraction': 0.46331357764176995, 'bagging_fraction': 0.8785298851078389, 'bagging_freq': 2, 'min_child_samples': 42}. Best is trial 11 with value: 0.8125.\n",
      "[I 2024-01-25 09:34:26,673] Trial 70 finished with value: 0.808125 and parameters: {'lambda_l1': 0.0018227748419988392, 'lambda_l2': 7.559275477126478e-08, 'num_leaves': 241, 'feature_fraction': 0.4889860012979106, 'bagging_fraction': 0.9537005293199391, 'bagging_freq': 3, 'min_child_samples': 23}. Best is trial 11 with value: 0.8125.\n"
     ]
    },
    {
     "name": "stdout",
     "output_type": "stream",
     "text": [
      "Early stopping, best iteration is:\n",
      "[20]\tvalid_0's binary_error: 0.19625\n",
      "Training until validation scores don't improve for 10 rounds\n",
      "Early stopping, best iteration is:\n",
      "[15]\tvalid_0's binary_error: 0.191875\n"
     ]
    },
    {
     "name": "stderr",
     "output_type": "stream",
     "text": [
      "[I 2024-01-25 09:34:26,863] Trial 71 finished with value: 0.8025 and parameters: {'lambda_l1': 3.3961640325016465e-06, 'lambda_l2': 3.8101944805282774e-08, 'num_leaves': 222, 'feature_fraction': 0.44647188082599154, 'bagging_fraction': 0.964718757541991, 'bagging_freq': 3, 'min_child_samples': 45}. Best is trial 11 with value: 0.8125.\n"
     ]
    },
    {
     "name": "stdout",
     "output_type": "stream",
     "text": [
      "Training until validation scores don't improve for 10 rounds\n",
      "Early stopping, best iteration is:\n",
      "[19]\tvalid_0's binary_error: 0.1975\n",
      "Training until validation scores don't improve for 10 rounds\n"
     ]
    },
    {
     "name": "stderr",
     "output_type": "stream",
     "text": [
      "[I 2024-01-25 09:34:27,023] Trial 72 finished with value: 0.81 and parameters: {'lambda_l1': 6.135867409351714e-07, 'lambda_l2': 1.5993938241503325e-08, 'num_leaves': 250, 'feature_fraction': 0.4260620635134682, 'bagging_fraction': 0.9239710643257587, 'bagging_freq': 3, 'min_child_samples': 39}. Best is trial 11 with value: 0.8125.\n",
      "[I 2024-01-25 09:34:27,157] Trial 73 finished with value: 0.806875 and parameters: {'lambda_l1': 1.7750182460751746e-05, 'lambda_l2': 6.716562450418132e-08, 'num_leaves': 256, 'feature_fraction': 0.4388397642394365, 'bagging_fraction': 0.9784326111599331, 'bagging_freq': 2, 'min_child_samples': 48}. Best is trial 11 with value: 0.8125.\n"
     ]
    },
    {
     "name": "stdout",
     "output_type": "stream",
     "text": [
      "Early stopping, best iteration is:\n",
      "[20]\tvalid_0's binary_error: 0.19\n",
      "Training until validation scores don't improve for 10 rounds\n",
      "Early stopping, best iteration is:\n",
      "[11]\tvalid_0's binary_error: 0.193125\n"
     ]
    },
    {
     "name": "stderr",
     "output_type": "stream",
     "text": [
      "[I 2024-01-25 09:34:27,320] Trial 74 finished with value: 0.800625 and parameters: {'lambda_l1': 0.0001159789047443591, 'lambda_l2': 2.127348757815877e-07, 'num_leaves': 240, 'feature_fraction': 0.4641995658460415, 'bagging_fraction': 0.9394789189220539, 'bagging_freq': 3, 'min_child_samples': 26}. Best is trial 11 with value: 0.8125.\n",
      "[I 2024-01-25 09:34:27,431] Trial 75 finished with value: 0.80625 and parameters: {'lambda_l1': 4.6532661258466855e-05, 'lambda_l2': 1.0169727856690572e-08, 'num_leaves': 48, 'feature_fraction': 0.4858874474031383, 'bagging_fraction': 0.9582978659015513, 'bagging_freq': 3, 'min_child_samples': 58}. Best is trial 11 with value: 0.8125.\n"
     ]
    },
    {
     "name": "stdout",
     "output_type": "stream",
     "text": [
      "Training until validation scores don't improve for 10 rounds\n",
      "Early stopping, best iteration is:\n",
      "[12]\tvalid_0's binary_error: 0.199375\n",
      "Training until validation scores don't improve for 10 rounds\n",
      "Early stopping, best iteration is:\n",
      "[10]\tvalid_0's binary_error: 0.19375\n"
     ]
    },
    {
     "name": "stderr",
     "output_type": "stream",
     "text": [
      "[I 2024-01-25 09:34:27,574] Trial 76 finished with value: 0.80375 and parameters: {'lambda_l1': 6.141361728750619e-06, 'lambda_l2': 3.935420486190392e-08, 'num_leaves': 204, 'feature_fraction': 0.4007263726989854, 'bagging_fraction': 0.9987338698557495, 'bagging_freq': 2, 'min_child_samples': 30}. Best is trial 11 with value: 0.8125.\n",
      "[I 2024-01-25 09:34:27,705] Trial 77 finished with value: 0.805 and parameters: {'lambda_l1': 0.0002364898154920951, 'lambda_l2': 8.309813447584717e-08, 'num_leaves': 193, 'feature_fraction': 0.5007397570320733, 'bagging_fraction': 0.9152595843170026, 'bagging_freq': 4, 'min_child_samples': 43}. Best is trial 11 with value: 0.8125.\n"
     ]
    },
    {
     "name": "stdout",
     "output_type": "stream",
     "text": [
      "Training until validation scores don't improve for 10 rounds\n",
      "Early stopping, best iteration is:\n",
      "[10]\tvalid_0's binary_error: 0.19625\n",
      "Training until validation scores don't improve for 10 rounds\n",
      "Early stopping, best iteration is:\n",
      "[12]\tvalid_0's binary_error: 0.195\n"
     ]
    },
    {
     "name": "stderr",
     "output_type": "stream",
     "text": [
      "[I 2024-01-25 09:34:27,826] Trial 78 finished with value: 0.806875 and parameters: {'lambda_l1': 1.8742989727056548e-06, 'lambda_l2': 1.741725591825129e-08, 'num_leaves': 18, 'feature_fraction': 0.43770544058768995, 'bagging_fraction': 0.8912115368321727, 'bagging_freq': 2, 'min_child_samples': 18}. Best is trial 11 with value: 0.8125.\n"
     ]
    },
    {
     "name": "stdout",
     "output_type": "stream",
     "text": [
      "Training until validation scores don't improve for 10 rounds\n",
      "Early stopping, best iteration is:\n",
      "[37]\tvalid_0's binary_error: 0.193125\n",
      "Training until validation scores don't improve for 10 rounds\n"
     ]
    },
    {
     "name": "stderr",
     "output_type": "stream",
     "text": [
      "[I 2024-01-25 09:34:28,007] Trial 79 finished with value: 0.803125 and parameters: {'lambda_l1': 0.000414461364917911, 'lambda_l2': 1.2108335962736776e-06, 'num_leaves': 151, 'feature_fraction': 0.5433198313574032, 'bagging_fraction': 0.9364545747769784, 'bagging_freq': 3, 'min_child_samples': 35}. Best is trial 11 with value: 0.8125.\n",
      "[I 2024-01-25 09:34:28,146] Trial 80 finished with value: 0.803125 and parameters: {'lambda_l1': 1.1572610550630854e-05, 'lambda_l2': 5.099239536862352e-07, 'num_leaves': 227, 'feature_fraction': 0.4164465705113745, 'bagging_fraction': 0.9758600918770276, 'bagging_freq': 1, 'min_child_samples': 54}. Best is trial 11 with value: 0.8125.\n"
     ]
    },
    {
     "name": "stdout",
     "output_type": "stream",
     "text": [
      "Early stopping, best iteration is:\n",
      "[18]\tvalid_0's binary_error: 0.196875\n",
      "Training until validation scores don't improve for 10 rounds\n",
      "Early stopping, best iteration is:\n",
      "[17]\tvalid_0's binary_error: 0.196875\n"
     ]
    },
    {
     "name": "stderr",
     "output_type": "stream",
     "text": [
      "[I 2024-01-25 09:34:28,389] Trial 81 finished with value: 0.80875 and parameters: {'lambda_l1': 0.0006959633267123809, 'lambda_l2': 5.024937594054154e-08, 'num_leaves': 252, 'feature_fraction': 0.47483442876040155, 'bagging_fraction': 0.9299963102950207, 'bagging_freq': 3, 'min_child_samples': 26}. Best is trial 11 with value: 0.8125.\n"
     ]
    },
    {
     "name": "stdout",
     "output_type": "stream",
     "text": [
      "Training until validation scores don't improve for 10 rounds\n",
      "Early stopping, best iteration is:\n",
      "[19]\tvalid_0's binary_error: 0.19125\n"
     ]
    },
    {
     "name": "stderr",
     "output_type": "stream",
     "text": [
      "[I 2024-01-25 09:34:28,561] Trial 82 finished with value: 0.806875 and parameters: {'lambda_l1': 2.3467798005849427e-05, 'lambda_l2': 9.798237140455918e-08, 'num_leaves': 242, 'feature_fraction': 0.45556387061368886, 'bagging_fraction': 0.9039233234430295, 'bagging_freq': 3, 'min_child_samples': 38}. Best is trial 11 with value: 0.8125.\n"
     ]
    },
    {
     "name": "stdout",
     "output_type": "stream",
     "text": [
      "Training until validation scores don't improve for 10 rounds\n",
      "Early stopping, best iteration is:\n",
      "[22]\tvalid_0's binary_error: 0.193125\n"
     ]
    },
    {
     "name": "stderr",
     "output_type": "stream",
     "text": [
      "[I 2024-01-25 09:34:28,771] Trial 83 finished with value: 0.8 and parameters: {'lambda_l1': 0.00011662476074429547, 'lambda_l2': 2.5894775480611e-07, 'num_leaves': 249, 'feature_fraction': 0.46439056275554047, 'bagging_fraction': 0.9618595634950794, 'bagging_freq': 4, 'min_child_samples': 33}. Best is trial 11 with value: 0.8125.\n",
      "[I 2024-01-25 09:34:28,885] Trial 84 finished with value: 0.798125 and parameters: {'lambda_l1': 6.094687173925023e-05, 'lambda_l2': 1.738849211381583e-07, 'num_leaves': 235, 'feature_fraction': 0.5053742030543744, 'bagging_fraction': 0.9458426420957035, 'bagging_freq': 3, 'min_child_samples': 79}. Best is trial 11 with value: 0.8125.\n"
     ]
    },
    {
     "name": "stdout",
     "output_type": "stream",
     "text": [
      "Training until validation scores don't improve for 10 rounds\n",
      "Early stopping, best iteration is:\n",
      "[15]\tvalid_0's binary_error: 0.2\n",
      "Training until validation scores don't improve for 10 rounds\n",
      "Early stopping, best iteration is:\n",
      "[9]\tvalid_0's binary_error: 0.201875\n"
     ]
    },
    {
     "name": "stderr",
     "output_type": "stream",
     "text": [
      "[I 2024-01-25 09:34:29,106] Trial 85 finished with value: 0.794375 and parameters: {'lambda_l1': 0.0028738084745632444, 'lambda_l2': 2.8743749103647983e-08, 'num_leaves': 256, 'feature_fraction': 0.4844914352028594, 'bagging_fraction': 0.981059634243295, 'bagging_freq': 3, 'min_child_samples': 15}. Best is trial 11 with value: 0.8125.\n"
     ]
    },
    {
     "name": "stdout",
     "output_type": "stream",
     "text": [
      "Training until validation scores don't improve for 10 rounds\n",
      "Early stopping, best iteration is:\n",
      "[16]\tvalid_0's binary_error: 0.205625\n"
     ]
    },
    {
     "name": "stderr",
     "output_type": "stream",
     "text": [
      "[I 2024-01-25 09:34:29,276] Trial 86 finished with value: 0.8125 and parameters: {'lambda_l1': 0.0002160936675968346, 'lambda_l2': 1.7275671659444597e-08, 'num_leaves': 244, 'feature_fraction': 0.5198775900145045, 'bagging_fraction': 0.9303770313614493, 'bagging_freq': 2, 'min_child_samples': 30}. Best is trial 11 with value: 0.8125.\n"
     ]
    },
    {
     "name": "stdout",
     "output_type": "stream",
     "text": [
      "Training until validation scores don't improve for 10 rounds\n",
      "Early stopping, best iteration is:\n",
      "[12]\tvalid_0's binary_error: 0.1875\n",
      "Training until validation scores don't improve for 10 rounds\n"
     ]
    },
    {
     "name": "stderr",
     "output_type": "stream",
     "text": [
      "[I 2024-01-25 09:34:29,419] Trial 87 finished with value: 0.805625 and parameters: {'lambda_l1': 0.00032373329173304873, 'lambda_l2': 1.697796489719801e-08, 'num_leaves': 224, 'feature_fraction': 0.5365374186576417, 'bagging_fraction': 0.9241913760523969, 'bagging_freq': 2, 'min_child_samples': 31}. Best is trial 11 with value: 0.8125.\n",
      "[I 2024-01-25 09:34:29,562] Trial 88 finished with value: 0.80125 and parameters: {'lambda_l1': 0.00019500854770340066, 'lambda_l2': 1.2239241644281758e-07, 'num_leaves': 239, 'feature_fraction': 0.5157366112058608, 'bagging_fraction': 0.8654532937949676, 'bagging_freq': 2, 'min_child_samples': 41}. Best is trial 11 with value: 0.8125.\n"
     ]
    },
    {
     "name": "stdout",
     "output_type": "stream",
     "text": [
      "Early stopping, best iteration is:\n",
      "[12]\tvalid_0's binary_error: 0.194375\n",
      "Training until validation scores don't improve for 10 rounds\n",
      "Early stopping, best iteration is:\n",
      "[14]\tvalid_0's binary_error: 0.19875\n"
     ]
    },
    {
     "name": "stderr",
     "output_type": "stream",
     "text": [
      "[I 2024-01-25 09:34:29,784] Trial 89 finished with value: 0.805 and parameters: {'lambda_l1': 2.4130197114091174e-06, 'lambda_l2': 3.301051710944455e-08, 'num_leaves': 232, 'feature_fraction': 0.4352026170133664, 'bagging_fraction': 0.8840969644166042, 'bagging_freq': 1, 'min_child_samples': 34}. Best is trial 11 with value: 0.8125.\n"
     ]
    },
    {
     "name": "stdout",
     "output_type": "stream",
     "text": [
      "Training until validation scores don't improve for 10 rounds\n",
      "Early stopping, best iteration is:\n",
      "[20]\tvalid_0's binary_error: 0.195\n"
     ]
    },
    {
     "name": "stderr",
     "output_type": "stream",
     "text": [
      "[I 2024-01-25 09:34:29,965] Trial 90 finished with value: 0.803125 and parameters: {'lambda_l1': 4.061607065375544e-05, 'lambda_l2': 1.787054866513484e-08, 'num_leaves': 245, 'feature_fraction': 0.56363338888065, 'bagging_fraction': 0.9569936640459513, 'bagging_freq': 2, 'min_child_samples': 29}. Best is trial 11 with value: 0.8125.\n"
     ]
    },
    {
     "name": "stdout",
     "output_type": "stream",
     "text": [
      "Training until validation scores don't improve for 10 rounds\n",
      "Early stopping, best iteration is:\n",
      "[15]\tvalid_0's binary_error: 0.196875\n",
      "Training until validation scores don't improve for 10 rounds\n"
     ]
    },
    {
     "name": "stderr",
     "output_type": "stream",
     "text": [
      "[I 2024-01-25 09:34:30,136] Trial 91 finished with value: 0.81125 and parameters: {'lambda_l1': 0.000555341392124032, 'lambda_l2': 5.96554477584238e-08, 'num_leaves': 136, 'feature_fraction': 0.4709821265091784, 'bagging_fraction': 0.9313638039411442, 'bagging_freq': 2, 'min_child_samples': 24}. Best is trial 11 with value: 0.8125.\n",
      "[I 2024-01-25 09:34:30,283] Trial 92 finished with value: 0.80375 and parameters: {'lambda_l1': 7.319539232985851e-05, 'lambda_l2': 6.512516523231951e-08, 'num_leaves': 117, 'feature_fraction': 0.5257857090397535, 'bagging_fraction': 0.911741701363318, 'bagging_freq': 2, 'min_child_samples': 23}. Best is trial 11 with value: 0.8125.\n"
     ]
    },
    {
     "name": "stdout",
     "output_type": "stream",
     "text": [
      "Early stopping, best iteration is:\n",
      "[17]\tvalid_0's binary_error: 0.18875\n",
      "Training until validation scores don't improve for 10 rounds\n",
      "Early stopping, best iteration is:\n",
      "[13]\tvalid_0's binary_error: 0.19625\n"
     ]
    },
    {
     "name": "stderr",
     "output_type": "stream",
     "text": [
      "[I 2024-01-25 09:34:30,451] Trial 93 finished with value: 0.804375 and parameters: {'lambda_l1': 0.00012604776000951946, 'lambda_l2': 9.85690327725998e-08, 'num_leaves': 134, 'feature_fraction': 0.4939452076607422, 'bagging_fraction': 0.9873243416427098, 'bagging_freq': 2, 'min_child_samples': 37}. Best is trial 11 with value: 0.8125.\n"
     ]
    },
    {
     "name": "stdout",
     "output_type": "stream",
     "text": [
      "Training until validation scores don't improve for 10 rounds\n",
      "Early stopping, best iteration is:\n",
      "[13]\tvalid_0's binary_error: 0.195625\n",
      "Training until validation scores don't improve for 10 rounds\n"
     ]
    },
    {
     "name": "stderr",
     "output_type": "stream",
     "text": [
      "[I 2024-01-25 09:34:30,732] Trial 94 finished with value: 0.80125 and parameters: {'lambda_l1': 0.0004749103171377046, 'lambda_l2': 4.701176118138544e-08, 'num_leaves': 173, 'feature_fraction': 0.452463847414625, 'bagging_fraction': 0.9693652111253668, 'bagging_freq': 2, 'min_child_samples': 20}. Best is trial 11 with value: 0.8125.\n",
      "[I 2024-01-25 09:34:30,906] Trial 95 finished with value: 0.805625 and parameters: {'lambda_l1': 2.343021563888652e-05, 'lambda_l2': 3.304429279281527e-07, 'num_leaves': 161, 'feature_fraction': 0.47478104438835456, 'bagging_fraction': 0.9440492905846025, 'bagging_freq': 2, 'min_child_samples': 27}. Best is trial 11 with value: 0.8125.\n"
     ]
    },
    {
     "name": "stdout",
     "output_type": "stream",
     "text": [
      "Early stopping, best iteration is:\n",
      "[19]\tvalid_0's binary_error: 0.19875\n",
      "Training until validation scores don't improve for 10 rounds\n",
      "Early stopping, best iteration is:\n",
      "[13]\tvalid_0's binary_error: 0.194375\n"
     ]
    },
    {
     "name": "stderr",
     "output_type": "stream",
     "text": [
      "[I 2024-01-25 09:34:31,046] Trial 96 finished with value: 0.803125 and parameters: {'lambda_l1': 8.36111936533909e-06, 'lambda_l2': 1.0359633332276197e-08, 'num_leaves': 182, 'feature_fraction': 0.5107821729589594, 'bagging_fraction': 0.8987009479299473, 'bagging_freq': 1, 'min_child_samples': 45}. Best is trial 11 with value: 0.8125.\n"
     ]
    },
    {
     "name": "stdout",
     "output_type": "stream",
     "text": [
      "Training until validation scores don't improve for 10 rounds\n",
      "Early stopping, best iteration is:\n",
      "[10]\tvalid_0's binary_error: 0.196875\n",
      "Training until validation scores don't improve for 10 rounds\n"
     ]
    },
    {
     "name": "stderr",
     "output_type": "stream",
     "text": [
      "[I 2024-01-25 09:34:31,249] Trial 97 finished with value: 0.805 and parameters: {'lambda_l1': 0.00020924573907534088, 'lambda_l2': 2.9164637644852364e-08, 'num_leaves': 217, 'feature_fraction': 0.41287471077611204, 'bagging_fraction': 0.9339997662612614, 'bagging_freq': 2, 'min_child_samples': 24}. Best is trial 11 with value: 0.8125.\n"
     ]
    },
    {
     "name": "stdout",
     "output_type": "stream",
     "text": [
      "Early stopping, best iteration is:\n",
      "[19]\tvalid_0's binary_error: 0.195\n",
      "Training until validation scores don't improve for 10 rounds\n"
     ]
    },
    {
     "name": "stderr",
     "output_type": "stream",
     "text": [
      "[I 2024-01-25 09:34:31,442] Trial 98 finished with value: 0.811875 and parameters: {'lambda_l1': 8.40663045981894e-07, 'lambda_l2': 1.375847806653118e-07, 'num_leaves': 246, 'feature_fraction': 0.43370271799382554, 'bagging_fraction': 0.9177989561223486, 'bagging_freq': 3, 'min_child_samples': 39}. Best is trial 11 with value: 0.8125.\n",
      "[I 2024-01-25 09:34:31,583] Trial 99 finished with value: 0.798125 and parameters: {'lambda_l1': 7.216625641066607e-08, 'lambda_l2': 1.7325685957573522e-07, 'num_leaves': 80, 'feature_fraction': 0.5859114174053406, 'bagging_fraction': 0.9194759385648581, 'bagging_freq': 3, 'min_child_samples': 94}. Best is trial 11 with value: 0.8125.\n"
     ]
    },
    {
     "name": "stdout",
     "output_type": "stream",
     "text": [
      "Early stopping, best iteration is:\n",
      "[21]\tvalid_0's binary_error: 0.188125\n",
      "Training until validation scores don't improve for 10 rounds\n",
      "Early stopping, best iteration is:\n",
      "[11]\tvalid_0's binary_error: 0.201875\n",
      "Average accuracy across all folds: 0.78275\n"
     ]
    }
   ],
   "source": [
    "\n",
    "\n",
    "# データの準備\n",
    "X = train.drop(['blueWins', 'gameId'], axis=1)\n",
    "y = train['blueWins']\n",
    "X_train, X_val, y_train, y_val = train_test_split(X, y, test_size=0.2, random_state=0)\n",
    "\n",
    "test_drop_gameId = test.drop('gameId', axis=1)\n",
    "\n",
    "\n",
    "# KFoldの設定\n",
    "n_splits = 5\n",
    "kf = KFold(n_splits=n_splits, shuffle=True, random_state=0)\n",
    "\n",
    "# 各フォールドでのスコアを保存するリスト\n",
    "fold_scores = []\n",
    "\n",
    "# testを保存するリスト\n",
    "test_predictions = []\n",
    "\n",
    "for train_index, val_index in kf.split(X):\n",
    "    X_train_fold, X_val_fold = X.iloc[train_index], X.iloc[val_index]\n",
    "    y_train_fold, y_val_fold = y[train_index], y[val_index]\n",
    "\n",
    "    # Optunaでのハイパーパラメータチューニング\n",
    "    def objective(trial):\n",
    "        param = {\n",
    "            'objective': 'binary',\n",
    "            'metric': 'binary_error',\n",
    "            'verbosity': -1,\n",
    "            'boosting_type': 'gbdt',\n",
    "            'lambda_l1': trial.suggest_float('lambda_l1', 1e-8, 10.0, log=True),\n",
    "            'lambda_l2': trial.suggest_float('lambda_l2', 1e-8, 10.0, log=True),\n",
    "            'num_leaves': trial.suggest_int('num_leaves', 2, 256),\n",
    "            'feature_fraction': trial.suggest_float('feature_fraction', 0.4, 1.0),\n",
    "            'bagging_fraction': trial.suggest_float('bagging_fraction', 0.4, 1.0),\n",
    "            'bagging_freq': trial.suggest_int('bagging_freq', 1, 7),\n",
    "            'min_child_samples': trial.suggest_int('min_child_samples', 5, 100)\n",
    "        }\n",
    "\n",
    "        lgb_train = lgb.Dataset(X_train, y_train)\n",
    "        lgb_val = lgb.Dataset(X_val, y_val, reference=lgb_train)\n",
    "\n",
    "        verbose_eval = 0\n",
    "        verbose = lgb.log_evaluation(verbose_eval)\n",
    "\n",
    "        # 早期停止の設定\n",
    "        early_stopping = lgb.early_stopping(stopping_rounds=10, verbose=True)\n",
    "        model = lgb.train(param, lgb_train, num_boost_round=1000, valid_sets=[lgb_val], callbacks=[early_stopping, verbose])\n",
    "        y_pred = model.predict(X_val, num_iteration=model.best_iteration)\n",
    "        y_pred = (y_pred > 0.5).astype(int)\n",
    "        accuracy = accuracy_score(y_val, y_pred)\n",
    "\n",
    "        return accuracy\n",
    "\n",
    "    # Optunaでのハイパーパラメータチューニング\n",
    "    study = optuna.create_study(direction='maximize')\n",
    "    study.optimize(objective, n_trials=100)\n",
    "\n",
    "    # 各フォールドの最適パラメータでモデルを再学習\n",
    "    best_params = study.best_params\n",
    "    best_params['objective'] = 'binary'\n",
    "    best_params['metric'] = 'binary_error'\n",
    "    best_params['verbosity'] = -1\n",
    "\n",
    "    lgb_train_fold = lgb.Dataset(X_train_fold, y_train_fold)\n",
    "    model_fold = lgb.train(best_params, lgb_train_fold, num_boost_round=study.best_trial.number)\n",
    "\n",
    "    # 各フォールドのモデル性能を評価\n",
    "    y_val_pred = model_fold.predict(X_val_fold)\n",
    "    y_val_pred_int = (y_val_pred > 0.5).astype(int)\n",
    "    fold_accuracy = accuracy_score(y_val_fold, y_val_pred_int)\n",
    "    fold_scores.append(fold_accuracy)\n",
    "\n",
    "    # テストデータセットでの予測\n",
    "    y_test_pred_fold = model_fold.predict(test_drop_gameId)\n",
    "    test_predictions.append(y_test_pred_fold)\n",
    "\n",
    "# 全フォールドの平均スコアを計算\n",
    "average_score = sum(fold_scores) / n_splits\n",
    "print(f\"Average accuracy across all folds: {average_score}\")\n"
   ]
  },
  {
   "cell_type": "markdown",
   "metadata": {},
   "source": [
    "- KFoldの結果確認"
   ]
  },
  {
   "cell_type": "code",
   "execution_count": 8,
   "metadata": {},
   "outputs": [
    {
     "name": "stdout",
     "output_type": "stream",
     "text": [
      "Average accuracy across all folds: 0.78275\n"
     ]
    }
   ],
   "source": [
    "# 全フォールドの平均スコアを計算\n",
    "average_score = sum(fold_scores) / n_splits\n",
    "print(f\"Average accuracy across all folds: {average_score}\")"
   ]
  },
  {
   "cell_type": "markdown",
   "metadata": {},
   "source": [
    "- testの平均を計算"
   ]
  },
  {
   "cell_type": "code",
   "execution_count": 9,
   "metadata": {},
   "outputs": [],
   "source": [
    "# 予測の平均を計算\n",
    "y_test_pred_avg = np.mean(test_predictions, axis=0)\n",
    "\n",
    "# 最終的な予測結果を整数に変換\n",
    "y_test_pred_int = (y_test_pred_avg > 0.5).astype(int)"
   ]
  },
  {
   "cell_type": "markdown",
   "metadata": {},
   "source": [
    "- testにy_test_pred結合"
   ]
  },
  {
   "cell_type": "code",
   "execution_count": 10,
   "metadata": {},
   "outputs": [],
   "source": [
    "output = f'../data/output/KFold_val{average_score:.4f}.csv'"
   ]
  },
  {
   "cell_type": "code",
   "execution_count": 11,
   "metadata": {},
   "outputs": [],
   "source": [
    "submit = pd.DataFrame({\n",
    "    '0': test['gameId'],\n",
    "    '1': y_test_pred_int\n",
    "})\n",
    "\n",
    "# カラムヘッダー消去して出力\n",
    "# ヘッダーなしでCSVファイルとして保存\n",
    "submit.to_csv(output, header=False, index=False)"
   ]
  },
  {
   "cell_type": "markdown",
   "metadata": {},
   "source": [
    "- 出力csvチェック"
   ]
  },
  {
   "cell_type": "code",
   "execution_count": 12,
   "metadata": {},
   "outputs": [],
   "source": [
    "check = pd.read_csv(output)"
   ]
  },
  {
   "cell_type": "code",
   "execution_count": 13,
   "metadata": {},
   "outputs": [
    {
     "data": {
      "text/html": [
       "<div>\n",
       "<style scoped>\n",
       "    .dataframe tbody tr th:only-of-type {\n",
       "        vertical-align: middle;\n",
       "    }\n",
       "\n",
       "    .dataframe tbody tr th {\n",
       "        vertical-align: top;\n",
       "    }\n",
       "\n",
       "    .dataframe thead th {\n",
       "        text-align: right;\n",
       "    }\n",
       "</style>\n",
       "<table border=\"1\" class=\"dataframe\">\n",
       "  <thead>\n",
       "    <tr style=\"text-align: right;\">\n",
       "      <th></th>\n",
       "      <th>9</th>\n",
       "      <th>1</th>\n",
       "    </tr>\n",
       "  </thead>\n",
       "  <tbody>\n",
       "    <tr>\n",
       "      <th>0</th>\n",
       "      <td>15</td>\n",
       "      <td>1</td>\n",
       "    </tr>\n",
       "    <tr>\n",
       "      <th>1</th>\n",
       "      <td>18</td>\n",
       "      <td>0</td>\n",
       "    </tr>\n",
       "    <tr>\n",
       "      <th>2</th>\n",
       "      <td>23</td>\n",
       "      <td>0</td>\n",
       "    </tr>\n",
       "    <tr>\n",
       "      <th>3</th>\n",
       "      <td>31</td>\n",
       "      <td>0</td>\n",
       "    </tr>\n",
       "    <tr>\n",
       "      <th>4</th>\n",
       "      <td>32</td>\n",
       "      <td>1</td>\n",
       "    </tr>\n",
       "    <tr>\n",
       "      <th>...</th>\n",
       "      <td>...</td>\n",
       "      <td>...</td>\n",
       "    </tr>\n",
       "    <tr>\n",
       "      <th>1994</th>\n",
       "      <td>9971</td>\n",
       "      <td>0</td>\n",
       "    </tr>\n",
       "    <tr>\n",
       "      <th>1995</th>\n",
       "      <td>9980</td>\n",
       "      <td>0</td>\n",
       "    </tr>\n",
       "    <tr>\n",
       "      <th>1996</th>\n",
       "      <td>9983</td>\n",
       "      <td>1</td>\n",
       "    </tr>\n",
       "    <tr>\n",
       "      <th>1997</th>\n",
       "      <td>9996</td>\n",
       "      <td>1</td>\n",
       "    </tr>\n",
       "    <tr>\n",
       "      <th>1998</th>\n",
       "      <td>9999</td>\n",
       "      <td>0</td>\n",
       "    </tr>\n",
       "  </tbody>\n",
       "</table>\n",
       "<p>1999 rows × 2 columns</p>\n",
       "</div>"
      ],
      "text/plain": [
       "         9  1\n",
       "0       15  1\n",
       "1       18  0\n",
       "2       23  0\n",
       "3       31  0\n",
       "4       32  1\n",
       "...    ... ..\n",
       "1994  9971  0\n",
       "1995  9980  0\n",
       "1996  9983  1\n",
       "1997  9996  1\n",
       "1998  9999  0\n",
       "\n",
       "[1999 rows x 2 columns]"
      ]
     },
     "execution_count": 13,
     "metadata": {},
     "output_type": "execute_result"
    }
   ],
   "source": [
    "check"
   ]
  },
  {
   "cell_type": "code",
   "execution_count": null,
   "metadata": {},
   "outputs": [],
   "source": []
  }
 ],
 "metadata": {
  "kernelspec": {
   "display_name": "Python 3",
   "language": "python",
   "name": "python3"
  },
  "language_info": {
   "codemirror_mode": {
    "name": "ipython",
    "version": 3
   },
   "file_extension": ".py",
   "mimetype": "text/x-python",
   "name": "python",
   "nbconvert_exporter": "python",
   "pygments_lexer": "ipython3",
   "version": "3.10.11"
  }
 },
 "nbformat": 4,
 "nbformat_minor": 2
}
