{
 "cells": [
  {
   "cell_type": "markdown",
   "metadata": {},
   "source": [
    "# Library"
   ]
  },
  {
   "cell_type": "code",
   "execution_count": 1,
   "metadata": {},
   "outputs": [],
   "source": [
    "import numpy as np\n",
    "import pandas as pd\n",
    "import seaborn as sns\n",
    "import matplotlib.pyplot as plt\n",
    "import optuna\n",
    "\n",
    "\n",
    "from sklearn.metrics import confusion_matrix\n",
    "from sklearn.linear_model import LogisticRegression\n",
    "from sklearn.model_selection import train_test_split, KFold\n",
    "from sklearn.metrics import f1_score\n",
    "\n",
    "import lightgbm as lgb\n",
    "from sklearn.model_selection import train_test_split\n",
    "from sklearn.metrics import accuracy_score"
   ]
  },
  {
   "cell_type": "markdown",
   "metadata": {},
   "source": [
    "# Data Loading"
   ]
  },
  {
   "cell_type": "code",
   "execution_count": 2,
   "metadata": {},
   "outputs": [],
   "source": [
    "train = pd.read_csv('../data/train.csv')\n",
    "test = pd.read_csv('../data/test.csv')"
   ]
  },
  {
   "cell_type": "code",
   "execution_count": 3,
   "metadata": {},
   "outputs": [
    {
     "data": {
      "text/html": [
       "<div>\n",
       "<style scoped>\n",
       "    .dataframe tbody tr th:only-of-type {\n",
       "        vertical-align: middle;\n",
       "    }\n",
       "\n",
       "    .dataframe tbody tr th {\n",
       "        vertical-align: top;\n",
       "    }\n",
       "\n",
       "    .dataframe thead th {\n",
       "        text-align: right;\n",
       "    }\n",
       "</style>\n",
       "<table border=\"1\" class=\"dataframe\">\n",
       "  <thead>\n",
       "    <tr style=\"text-align: right;\">\n",
       "      <th></th>\n",
       "      <th>gameId</th>\n",
       "      <th>blueFirstBlood</th>\n",
       "      <th>blueKills</th>\n",
       "      <th>blueDeaths</th>\n",
       "      <th>blueAssists</th>\n",
       "      <th>blueEliteMonsters</th>\n",
       "      <th>blueDragons</th>\n",
       "      <th>blueTotalGold</th>\n",
       "      <th>blueTotalExperience</th>\n",
       "      <th>blueWins</th>\n",
       "    </tr>\n",
       "  </thead>\n",
       "  <tbody>\n",
       "    <tr>\n",
       "      <th>0</th>\n",
       "      <td>0</td>\n",
       "      <td>0</td>\n",
       "      <td>5</td>\n",
       "      <td>8</td>\n",
       "      <td>6</td>\n",
       "      <td>0</td>\n",
       "      <td>0</td>\n",
       "      <td>14536</td>\n",
       "      <td>17256</td>\n",
       "      <td>0</td>\n",
       "    </tr>\n",
       "    <tr>\n",
       "      <th>1</th>\n",
       "      <td>1</td>\n",
       "      <td>1</td>\n",
       "      <td>10</td>\n",
       "      <td>1</td>\n",
       "      <td>5</td>\n",
       "      <td>0</td>\n",
       "      <td>0</td>\n",
       "      <td>14536</td>\n",
       "      <td>17863</td>\n",
       "      <td>0</td>\n",
       "    </tr>\n",
       "    <tr>\n",
       "      <th>2</th>\n",
       "      <td>2</td>\n",
       "      <td>0</td>\n",
       "      <td>3</td>\n",
       "      <td>10</td>\n",
       "      <td>2</td>\n",
       "      <td>0</td>\n",
       "      <td>0</td>\n",
       "      <td>17409</td>\n",
       "      <td>17256</td>\n",
       "      <td>0</td>\n",
       "    </tr>\n",
       "    <tr>\n",
       "      <th>3</th>\n",
       "      <td>3</td>\n",
       "      <td>1</td>\n",
       "      <td>7</td>\n",
       "      <td>10</td>\n",
       "      <td>8</td>\n",
       "      <td>0</td>\n",
       "      <td>0</td>\n",
       "      <td>19558</td>\n",
       "      <td>18201</td>\n",
       "      <td>0</td>\n",
       "    </tr>\n",
       "    <tr>\n",
       "      <th>4</th>\n",
       "      <td>4</td>\n",
       "      <td>0</td>\n",
       "      <td>4</td>\n",
       "      <td>9</td>\n",
       "      <td>4</td>\n",
       "      <td>0</td>\n",
       "      <td>0</td>\n",
       "      <td>17409</td>\n",
       "      <td>17256</td>\n",
       "      <td>0</td>\n",
       "    </tr>\n",
       "    <tr>\n",
       "      <th>...</th>\n",
       "      <td>...</td>\n",
       "      <td>...</td>\n",
       "      <td>...</td>\n",
       "      <td>...</td>\n",
       "      <td>...</td>\n",
       "      <td>...</td>\n",
       "      <td>...</td>\n",
       "      <td>...</td>\n",
       "      <td>...</td>\n",
       "      <td>...</td>\n",
       "    </tr>\n",
       "    <tr>\n",
       "      <th>7995</th>\n",
       "      <td>9993</td>\n",
       "      <td>1</td>\n",
       "      <td>9</td>\n",
       "      <td>6</td>\n",
       "      <td>14</td>\n",
       "      <td>0</td>\n",
       "      <td>0</td>\n",
       "      <td>18513</td>\n",
       "      <td>18201</td>\n",
       "      <td>1</td>\n",
       "    </tr>\n",
       "    <tr>\n",
       "      <th>7996</th>\n",
       "      <td>9994</td>\n",
       "      <td>0</td>\n",
       "      <td>3</td>\n",
       "      <td>10</td>\n",
       "      <td>4</td>\n",
       "      <td>0</td>\n",
       "      <td>0</td>\n",
       "      <td>17381</td>\n",
       "      <td>19797</td>\n",
       "      <td>0</td>\n",
       "    </tr>\n",
       "    <tr>\n",
       "      <th>7997</th>\n",
       "      <td>9995</td>\n",
       "      <td>1</td>\n",
       "      <td>9</td>\n",
       "      <td>3</td>\n",
       "      <td>9</td>\n",
       "      <td>2</td>\n",
       "      <td>1</td>\n",
       "      <td>18274</td>\n",
       "      <td>18491</td>\n",
       "      <td>1</td>\n",
       "    </tr>\n",
       "    <tr>\n",
       "      <th>7998</th>\n",
       "      <td>9997</td>\n",
       "      <td>0</td>\n",
       "      <td>5</td>\n",
       "      <td>10</td>\n",
       "      <td>6</td>\n",
       "      <td>1</td>\n",
       "      <td>1</td>\n",
       "      <td>18274</td>\n",
       "      <td>18491</td>\n",
       "      <td>1</td>\n",
       "    </tr>\n",
       "    <tr>\n",
       "      <th>7999</th>\n",
       "      <td>9998</td>\n",
       "      <td>0</td>\n",
       "      <td>6</td>\n",
       "      <td>4</td>\n",
       "      <td>5</td>\n",
       "      <td>0</td>\n",
       "      <td>0</td>\n",
       "      <td>17409</td>\n",
       "      <td>17256</td>\n",
       "      <td>0</td>\n",
       "    </tr>\n",
       "  </tbody>\n",
       "</table>\n",
       "<p>8000 rows × 10 columns</p>\n",
       "</div>"
      ],
      "text/plain": [
       "      gameId  blueFirstBlood  blueKills  blueDeaths  blueAssists   \n",
       "0          0               0          5           8            6  \\\n",
       "1          1               1         10           1            5   \n",
       "2          2               0          3          10            2   \n",
       "3          3               1          7          10            8   \n",
       "4          4               0          4           9            4   \n",
       "...      ...             ...        ...         ...          ...   \n",
       "7995    9993               1          9           6           14   \n",
       "7996    9994               0          3          10            4   \n",
       "7997    9995               1          9           3            9   \n",
       "7998    9997               0          5          10            6   \n",
       "7999    9998               0          6           4            5   \n",
       "\n",
       "      blueEliteMonsters  blueDragons  blueTotalGold  blueTotalExperience   \n",
       "0                     0            0          14536                17256  \\\n",
       "1                     0            0          14536                17863   \n",
       "2                     0            0          17409                17256   \n",
       "3                     0            0          19558                18201   \n",
       "4                     0            0          17409                17256   \n",
       "...                 ...          ...            ...                  ...   \n",
       "7995                  0            0          18513                18201   \n",
       "7996                  0            0          17381                19797   \n",
       "7997                  2            1          18274                18491   \n",
       "7998                  1            1          18274                18491   \n",
       "7999                  0            0          17409                17256   \n",
       "\n",
       "      blueWins  \n",
       "0            0  \n",
       "1            0  \n",
       "2            0  \n",
       "3            0  \n",
       "4            0  \n",
       "...        ...  \n",
       "7995         1  \n",
       "7996         0  \n",
       "7997         1  \n",
       "7998         1  \n",
       "7999         0  \n",
       "\n",
       "[8000 rows x 10 columns]"
      ]
     },
     "execution_count": 3,
     "metadata": {},
     "output_type": "execute_result"
    }
   ],
   "source": [
    "train"
   ]
  },
  {
   "cell_type": "code",
   "execution_count": 4,
   "metadata": {},
   "outputs": [
    {
     "data": {
      "text/html": [
       "<div>\n",
       "<style scoped>\n",
       "    .dataframe tbody tr th:only-of-type {\n",
       "        vertical-align: middle;\n",
       "    }\n",
       "\n",
       "    .dataframe tbody tr th {\n",
       "        vertical-align: top;\n",
       "    }\n",
       "\n",
       "    .dataframe thead th {\n",
       "        text-align: right;\n",
       "    }\n",
       "</style>\n",
       "<table border=\"1\" class=\"dataframe\">\n",
       "  <thead>\n",
       "    <tr style=\"text-align: right;\">\n",
       "      <th></th>\n",
       "      <th>gameId</th>\n",
       "      <th>blueFirstBlood</th>\n",
       "      <th>blueKills</th>\n",
       "      <th>blueDeaths</th>\n",
       "      <th>blueAssists</th>\n",
       "      <th>blueEliteMonsters</th>\n",
       "      <th>blueDragons</th>\n",
       "      <th>blueTotalGold</th>\n",
       "      <th>blueTotalExperience</th>\n",
       "    </tr>\n",
       "  </thead>\n",
       "  <tbody>\n",
       "    <tr>\n",
       "      <th>0</th>\n",
       "      <td>9</td>\n",
       "      <td>0</td>\n",
       "      <td>7</td>\n",
       "      <td>6</td>\n",
       "      <td>6</td>\n",
       "      <td>0</td>\n",
       "      <td>0</td>\n",
       "      <td>16961</td>\n",
       "      <td>18201</td>\n",
       "    </tr>\n",
       "    <tr>\n",
       "      <th>1</th>\n",
       "      <td>15</td>\n",
       "      <td>0</td>\n",
       "      <td>6</td>\n",
       "      <td>6</td>\n",
       "      <td>6</td>\n",
       "      <td>2</td>\n",
       "      <td>1</td>\n",
       "      <td>18513</td>\n",
       "      <td>18021</td>\n",
       "    </tr>\n",
       "    <tr>\n",
       "      <th>2</th>\n",
       "      <td>18</td>\n",
       "      <td>1</td>\n",
       "      <td>6</td>\n",
       "      <td>4</td>\n",
       "      <td>3</td>\n",
       "      <td>0</td>\n",
       "      <td>0</td>\n",
       "      <td>13475</td>\n",
       "      <td>17256</td>\n",
       "    </tr>\n",
       "    <tr>\n",
       "      <th>3</th>\n",
       "      <td>23</td>\n",
       "      <td>0</td>\n",
       "      <td>5</td>\n",
       "      <td>4</td>\n",
       "      <td>7</td>\n",
       "      <td>0</td>\n",
       "      <td>0</td>\n",
       "      <td>17409</td>\n",
       "      <td>17256</td>\n",
       "    </tr>\n",
       "    <tr>\n",
       "      <th>4</th>\n",
       "      <td>31</td>\n",
       "      <td>0</td>\n",
       "      <td>10</td>\n",
       "      <td>8</td>\n",
       "      <td>9</td>\n",
       "      <td>0</td>\n",
       "      <td>0</td>\n",
       "      <td>18117</td>\n",
       "      <td>18472</td>\n",
       "    </tr>\n",
       "    <tr>\n",
       "      <th>...</th>\n",
       "      <td>...</td>\n",
       "      <td>...</td>\n",
       "      <td>...</td>\n",
       "      <td>...</td>\n",
       "      <td>...</td>\n",
       "      <td>...</td>\n",
       "      <td>...</td>\n",
       "      <td>...</td>\n",
       "      <td>...</td>\n",
       "    </tr>\n",
       "    <tr>\n",
       "      <th>1995</th>\n",
       "      <td>9971</td>\n",
       "      <td>0</td>\n",
       "      <td>6</td>\n",
       "      <td>3</td>\n",
       "      <td>7</td>\n",
       "      <td>0</td>\n",
       "      <td>0</td>\n",
       "      <td>17409</td>\n",
       "      <td>17256</td>\n",
       "    </tr>\n",
       "    <tr>\n",
       "      <th>1996</th>\n",
       "      <td>9980</td>\n",
       "      <td>0</td>\n",
       "      <td>4</td>\n",
       "      <td>4</td>\n",
       "      <td>4</td>\n",
       "      <td>0</td>\n",
       "      <td>0</td>\n",
       "      <td>17409</td>\n",
       "      <td>17256</td>\n",
       "    </tr>\n",
       "    <tr>\n",
       "      <th>1997</th>\n",
       "      <td>9983</td>\n",
       "      <td>1</td>\n",
       "      <td>6</td>\n",
       "      <td>3</td>\n",
       "      <td>3</td>\n",
       "      <td>1</td>\n",
       "      <td>1</td>\n",
       "      <td>18513</td>\n",
       "      <td>18201</td>\n",
       "    </tr>\n",
       "    <tr>\n",
       "      <th>1998</th>\n",
       "      <td>9996</td>\n",
       "      <td>1</td>\n",
       "      <td>10</td>\n",
       "      <td>9</td>\n",
       "      <td>9</td>\n",
       "      <td>1</td>\n",
       "      <td>1</td>\n",
       "      <td>18513</td>\n",
       "      <td>18201</td>\n",
       "    </tr>\n",
       "    <tr>\n",
       "      <th>1999</th>\n",
       "      <td>9999</td>\n",
       "      <td>0</td>\n",
       "      <td>7</td>\n",
       "      <td>11</td>\n",
       "      <td>8</td>\n",
       "      <td>0</td>\n",
       "      <td>0</td>\n",
       "      <td>18117</td>\n",
       "      <td>18201</td>\n",
       "    </tr>\n",
       "  </tbody>\n",
       "</table>\n",
       "<p>2000 rows × 9 columns</p>\n",
       "</div>"
      ],
      "text/plain": [
       "      gameId  blueFirstBlood  blueKills  blueDeaths  blueAssists   \n",
       "0          9               0          7           6            6  \\\n",
       "1         15               0          6           6            6   \n",
       "2         18               1          6           4            3   \n",
       "3         23               0          5           4            7   \n",
       "4         31               0         10           8            9   \n",
       "...      ...             ...        ...         ...          ...   \n",
       "1995    9971               0          6           3            7   \n",
       "1996    9980               0          4           4            4   \n",
       "1997    9983               1          6           3            3   \n",
       "1998    9996               1         10           9            9   \n",
       "1999    9999               0          7          11            8   \n",
       "\n",
       "      blueEliteMonsters  blueDragons  blueTotalGold  blueTotalExperience  \n",
       "0                     0            0          16961                18201  \n",
       "1                     2            1          18513                18021  \n",
       "2                     0            0          13475                17256  \n",
       "3                     0            0          17409                17256  \n",
       "4                     0            0          18117                18472  \n",
       "...                 ...          ...            ...                  ...  \n",
       "1995                  0            0          17409                17256  \n",
       "1996                  0            0          17409                17256  \n",
       "1997                  1            1          18513                18201  \n",
       "1998                  1            1          18513                18201  \n",
       "1999                  0            0          18117                18201  \n",
       "\n",
       "[2000 rows x 9 columns]"
      ]
     },
     "execution_count": 4,
     "metadata": {},
     "output_type": "execute_result"
    }
   ],
   "source": [
    "test"
   ]
  },
  {
   "cell_type": "markdown",
   "metadata": {},
   "source": [
    "# Feature"
   ]
  },
  {
   "cell_type": "markdown",
   "metadata": {},
   "source": [
    "- 各特長量の説明\n",
    "\n",
    "| ヘッダ名称            | データ型 | 説明                                                       |\n",
    "|---------------------|-------|----------------------------------------------------------|\n",
    "| gameId             | int   | ゲームID                                                    |\n",
    "| blueFirstBlood      | int   | ゲームの最初のキル。青チームが最初のキルを行った場合は1、それ以外の場合は0 |\n",
    "| blueKills           | int   | 青チームによって殺された敵の数                                     |\n",
    "| blueDeaths          | int   | 青チームの死亡者数                                            |\n",
    "| blueAssists         | int   | 青チームのキルアシストの数                                      |\n",
    "| blueEliteMonsters   | int   | 青チームによって殺されたエリートモンスターの数（ドラゴンとヘラルド）       |\n",
    "| blueDragons         | int   | 青チームによって殺されたドラゴンの数                               |\n",
    "| blueTotalGold       | int   | 青チームの得たゴールド合計                                       |\n",
    "| blueTotalExperience | int   | 青チームの得た経験値合計                                       |\n",
    "| blueWins            | int   | 目的変数（青チームが勝った場合は1、それ以外の場合は0。）                |\n"
   ]
  },
  {
   "cell_type": "markdown",
   "metadata": {},
   "source": [
    "# Feature Engineering"
   ]
  },
  {
   "cell_type": "markdown",
   "metadata": {},
   "source": [
    "- Add new feature"
   ]
  },
  {
   "cell_type": "code",
   "execution_count": 5,
   "metadata": {},
   "outputs": [],
   "source": [
    "def create_features(df):\n",
    "    \"\"\"\n",
    "    与えられたデータフレームに対して特徴量エンジニアリングを行う関数。\n",
    "\n",
    "    Args:\n",
    "    df (DataFrame): 特徴量エンジニアリングを行うデータフレーム\n",
    "\n",
    "    Returns:\n",
    "    DataFrame: 新しい特徴量が追加されたデータフレーム\n",
    "    \"\"\"\n",
    "    # キルとデスの比率\n",
    "    df['killDeathRatio'] = df['blueKills'] / (df['blueDeaths'] + 1)  # ゼロ除算を防ぐために+1\n",
    "\n",
    "    # アシストの割合\n",
    "    df['assistRate'] = df['blueAssists'] / (df['blueKills'] + 1)\n",
    "\n",
    "    # ヘラルドの討伐数\n",
    "    df['blueHerald'] = df['blueEliteMonsters'] - df['blueDragons']\n",
    "    # blueHerald列の負の値を0で置き換え\n",
    "    df['blueHerald'] = df['blueHerald'].clip(lower=0)\n",
    "\n",
    "    # エリートモンスターとドラゴンの比率\n",
    "    df['eliteMonsterDragonRatio'] = df['blueEliteMonsters'] / (df['blueDragons'] + 1)\n",
    "    # エリートモンスターとヘラルドの比率\n",
    "    df['eliteMonsterHeraldRatio'] = df['blueEliteMonsters'] / (df['blueHerald'] + 1)\n",
    "\n",
    "    # ゴールドと経験値の対数変換\n",
    "    df['logTotalGold'] = np.log1p(df['blueTotalGold'])\n",
    "    df['logTotalExperience'] = np.log1p(df['blueTotalExperience'])\n",
    "\n",
    "    # ゴールドと経験値の相互作用\n",
    "    df['goldXexperience'] = df['blueTotalGold'] * df['blueTotalExperience']\n",
    "\n",
    "    # 初期キルの影響\n",
    "    df['firstBloodKillRatio'] = df['blueFirstBlood'] * df['blueKills']\n",
    "    \n",
    "    # キル、デス、アシストの合計\n",
    "    df['totalCombatPoints'] = df['blueKills'] + df['blueDeaths'] + df['blueAssists']\n",
    "\n",
    "    # キル・デス・アシスト比率\n",
    "    total_combat_actions = df['blueKills'] + df['blueDeaths'] + df['blueAssists']\n",
    "    df['killRatio'] = df['blueKills'] / total_combat_actions\n",
    "    df['deathRatio'] = df['blueDeaths'] / total_combat_actions\n",
    "    df['assistRatio'] = df['blueAssists'] / total_combat_actions\n",
    "\n",
    "    # 効率的なリソース利用\n",
    "    df['goldPerKill'] = df['blueTotalGold'] / (df['blueKills'] + 1)  # ゼロ除算を防ぐために+1\n",
    "    df['experiencePerKill'] = df['blueTotalExperience'] / (df['blueKills'] + 1)  # ゼロ除算を防ぐために+1\n",
    "\n",
    "    # エリートモンスターの討伐効率\n",
    "    df['eliteMonstersPerGold'] = df['blueEliteMonsters'] / df['blueTotalGold']\n",
    "    df['eliteMonstersPerExperience'] = df['blueEliteMonsters'] / df['blueTotalExperience']\n",
    "\n",
    "    # チームの総合力\n",
    "    df['teamStrength'] = df['blueKills'] + df['blueAssists'] + df['blueEliteMonsters']\n",
    "\n",
    "    return df"
   ]
  },
  {
   "cell_type": "markdown",
   "metadata": {},
   "source": [
    "- Apply data"
   ]
  },
  {
   "cell_type": "code",
   "execution_count": 6,
   "metadata": {},
   "outputs": [],
   "source": [
    "train = create_features(train)\n",
    "test = create_features(test)"
   ]
  },
  {
   "cell_type": "markdown",
   "metadata": {},
   "source": [
    "# model"
   ]
  },
  {
   "cell_type": "markdown",
   "metadata": {},
   "source": [
    "- LightGBM ensemble"
   ]
  },
  {
   "cell_type": "code",
   "execution_count": 7,
   "metadata": {},
   "outputs": [
    {
     "name": "stderr",
     "output_type": "stream",
     "text": [
      "[I 2024-01-18 10:39:19,439] A new study created in memory with name: no-name-4892e430-f6f2-4fe1-a975-807fa287b63f\n"
     ]
    },
    {
     "name": "stdout",
     "output_type": "stream",
     "text": [
      "Training until validation scores don't improve for 10 rounds\n"
     ]
    },
    {
     "name": "stderr",
     "output_type": "stream",
     "text": [
      "[I 2024-01-18 10:39:19,908] Trial 0 finished with value: 0.80125 and parameters: {'lambda_l1': 3.596268891592326e-08, 'lambda_l2': 4.381936415107103e-07, 'num_leaves': 212, 'feature_fraction': 0.8852619892867073, 'bagging_fraction': 0.6035258740978366, 'bagging_freq': 5, 'min_child_samples': 57}. Best is trial 0 with value: 0.80125.\n",
      "[I 2024-01-18 10:39:20,083] Trial 1 finished with value: 0.8025 and parameters: {'lambda_l1': 0.011681521469291387, 'lambda_l2': 1.317808717028151e-07, 'num_leaves': 154, 'feature_fraction': 0.7788883097979246, 'bagging_fraction': 0.9655404574652269, 'bagging_freq': 3, 'min_child_samples': 46}. Best is trial 1 with value: 0.8025.\n"
     ]
    },
    {
     "name": "stdout",
     "output_type": "stream",
     "text": [
      "Early stopping, best iteration is:\n",
      "[24]\tvalid_0's binary_error: 0.19875\n",
      "Training until validation scores don't improve for 10 rounds\n",
      "Early stopping, best iteration is:\n",
      "[14]\tvalid_0's binary_error: 0.1975\n"
     ]
    },
    {
     "name": "stderr",
     "output_type": "stream",
     "text": [
      "[I 2024-01-18 10:39:20,198] Trial 2 finished with value: 0.8 and parameters: {'lambda_l1': 0.08874929339329661, 'lambda_l2': 2.77486118310611e-05, 'num_leaves': 228, 'feature_fraction': 0.8064820943243312, 'bagging_fraction': 0.5213179023640181, 'bagging_freq': 6, 'min_child_samples': 27}. Best is trial 1 with value: 0.8025.\n",
      "[I 2024-01-18 10:39:20,286] Trial 3 finished with value: 0.798125 and parameters: {'lambda_l1': 0.0009441495548301185, 'lambda_l2': 2.4621004505398014e-08, 'num_leaves': 253, 'feature_fraction': 0.7530540067963869, 'bagging_fraction': 0.5495263814129833, 'bagging_freq': 2, 'min_child_samples': 45}. Best is trial 1 with value: 0.8025.\n"
     ]
    },
    {
     "name": "stdout",
     "output_type": "stream",
     "text": [
      "Training until validation scores don't improve for 10 rounds\n",
      "Early stopping, best iteration is:\n",
      "[25]\tvalid_0's binary_error: 0.2\n",
      "Training until validation scores don't improve for 10 rounds\n",
      "Early stopping, best iteration is:\n",
      "[22]\tvalid_0's binary_error: 0.201875\n",
      "Training until validation scores don't improve for 10 rounds\n"
     ]
    },
    {
     "name": "stderr",
     "output_type": "stream",
     "text": [
      "[I 2024-01-18 10:39:20,482] Trial 4 finished with value: 0.796875 and parameters: {'lambda_l1': 2.4935927925900727e-08, 'lambda_l2': 1.4801399817931516e-07, 'num_leaves': 222, 'feature_fraction': 0.6555583219448022, 'bagging_fraction': 0.6665093713655027, 'bagging_freq': 6, 'min_child_samples': 8}. Best is trial 1 with value: 0.8025.\n",
      "[I 2024-01-18 10:39:20,642] Trial 5 finished with value: 0.8075 and parameters: {'lambda_l1': 0.00013939993056259707, 'lambda_l2': 0.3816676447603598, 'num_leaves': 229, 'feature_fraction': 0.7376701680918134, 'bagging_fraction': 0.732683948274619, 'bagging_freq': 7, 'min_child_samples': 81}. Best is trial 5 with value: 0.8075.\n"
     ]
    },
    {
     "name": "stdout",
     "output_type": "stream",
     "text": [
      "Early stopping, best iteration is:\n",
      "[13]\tvalid_0's binary_error: 0.203125\n",
      "Training until validation scores don't improve for 10 rounds\n",
      "Early stopping, best iteration is:\n",
      "[36]\tvalid_0's binary_error: 0.1925\n",
      "Training until validation scores don't improve for 10 rounds\n"
     ]
    },
    {
     "name": "stderr",
     "output_type": "stream",
     "text": [
      "[I 2024-01-18 10:39:20,733] Trial 6 finished with value: 0.8 and parameters: {'lambda_l1': 1.9478458127226953e-06, 'lambda_l2': 2.0447198513948097e-05, 'num_leaves': 111, 'feature_fraction': 0.9511748124629317, 'bagging_fraction': 0.9091002818535869, 'bagging_freq': 5, 'min_child_samples': 31}. Best is trial 5 with value: 0.8075.\n",
      "[I 2024-01-18 10:39:20,849] Trial 7 finished with value: 0.805625 and parameters: {'lambda_l1': 2.2625585058102172e-08, 'lambda_l2': 0.014258077991138375, 'num_leaves': 103, 'feature_fraction': 0.4601971668694933, 'bagging_fraction': 0.7951980885517664, 'bagging_freq': 6, 'min_child_samples': 87}. Best is trial 5 with value: 0.8075.\n",
      "[I 2024-01-18 10:39:20,915] Trial 8 finished with value: 0.803125 and parameters: {'lambda_l1': 1.223634635055711e-07, 'lambda_l2': 1.413679555744287e-06, 'num_leaves': 203, 'feature_fraction': 0.6311829394135086, 'bagging_fraction': 0.6627047256655514, 'bagging_freq': 2, 'min_child_samples': 58}. Best is trial 5 with value: 0.8075.\n"
     ]
    },
    {
     "name": "stdout",
     "output_type": "stream",
     "text": [
      "Early stopping, best iteration is:\n",
      "[10]\tvalid_0's binary_error: 0.2\n",
      "Training until validation scores don't improve for 10 rounds\n",
      "Early stopping, best iteration is:\n",
      "[34]\tvalid_0's binary_error: 0.194375\n",
      "Training until validation scores don't improve for 10 rounds\n",
      "Early stopping, best iteration is:\n",
      "[19]\tvalid_0's binary_error: 0.196875\n"
     ]
    },
    {
     "name": "stderr",
     "output_type": "stream",
     "text": [
      "[I 2024-01-18 10:39:20,987] Trial 9 finished with value: 0.804375 and parameters: {'lambda_l1': 1.1539158826826663e-07, 'lambda_l2': 1.0095704167574596e-05, 'num_leaves': 18, 'feature_fraction': 0.8645899837046243, 'bagging_fraction': 0.9531251171753172, 'bagging_freq': 3, 'min_child_samples': 86}. Best is trial 5 with value: 0.8075.\n",
      "[I 2024-01-18 10:39:21,085] Trial 10 finished with value: 0.803125 and parameters: {'lambda_l1': 3.329831057028664e-05, 'lambda_l2': 3.4390777799279544, 'num_leaves': 154, 'feature_fraction': 0.5739386415990599, 'bagging_fraction': 0.42131901486844836, 'bagging_freq': 7, 'min_child_samples': 73}. Best is trial 5 with value: 0.8075.\n"
     ]
    },
    {
     "name": "stdout",
     "output_type": "stream",
     "text": [
      "Training until validation scores don't improve for 10 rounds\n",
      "Early stopping, best iteration is:\n",
      "[46]\tvalid_0's binary_error: 0.195625\n",
      "Training until validation scores don't improve for 10 rounds\n",
      "Early stopping, best iteration is:\n",
      "[35]\tvalid_0's binary_error: 0.196875\n"
     ]
    },
    {
     "name": "stderr",
     "output_type": "stream",
     "text": [
      "[I 2024-01-18 10:39:21,175] Trial 11 finished with value: 0.796875 and parameters: {'lambda_l1': 9.454760961199753, 'lambda_l2': 0.046717414255634034, 'num_leaves': 66, 'feature_fraction': 0.41563138047863896, 'bagging_fraction': 0.8035292171508331, 'bagging_freq': 7, 'min_child_samples': 100}. Best is trial 5 with value: 0.8075.\n"
     ]
    },
    {
     "name": "stdout",
     "output_type": "stream",
     "text": [
      "Training until validation scores don't improve for 10 rounds\n",
      "Early stopping, best iteration is:\n",
      "[28]\tvalid_0's binary_error: 0.203125\n",
      "Training until validation scores don't improve for 10 rounds\n",
      "Early stopping, best iteration is:\n",
      "[26]\tvalid_0's binary_error: 0.2\n"
     ]
    },
    {
     "name": "stderr",
     "output_type": "stream",
     "text": [
      "[I 2024-01-18 10:39:21,357] Trial 12 finished with value: 0.8 and parameters: {'lambda_l1': 1.1529820396331792e-05, 'lambda_l2': 0.02949297450685404, 'num_leaves': 101, 'feature_fraction': 0.5203673506871264, 'bagging_fraction': 0.7841534596073928, 'bagging_freq': 7, 'min_child_samples': 79}. Best is trial 5 with value: 0.8075.\n",
      "[I 2024-01-18 10:39:21,466] Trial 13 finished with value: 0.79875 and parameters: {'lambda_l1': 1.8732084099276487e-06, 'lambda_l2': 0.007778619805306773, 'num_leaves': 71, 'feature_fraction': 0.7178788259563712, 'bagging_fraction': 0.7679066960586433, 'bagging_freq': 5, 'min_child_samples': 97}. Best is trial 5 with value: 0.8075.\n",
      "[I 2024-01-18 10:39:21,564] Trial 14 finished with value: 0.80625 and parameters: {'lambda_l1': 0.00011413084112086265, 'lambda_l2': 4.1917396706461245, 'num_leaves': 169, 'feature_fraction': 0.410784080408422, 'bagging_fraction': 0.8580536341050116, 'bagging_freq': 6, 'min_child_samples': 69}. Best is trial 5 with value: 0.8075.\n"
     ]
    },
    {
     "name": "stdout",
     "output_type": "stream",
     "text": [
      "Training until validation scores don't improve for 10 rounds\n",
      "Early stopping, best iteration is:\n",
      "[12]\tvalid_0's binary_error: 0.20125\n",
      "Training until validation scores don't improve for 10 rounds\n",
      "Early stopping, best iteration is:\n",
      "[36]\tvalid_0's binary_error: 0.19375\n"
     ]
    },
    {
     "name": "stderr",
     "output_type": "stream",
     "text": [
      "[I 2024-01-18 10:39:21,703] Trial 15 finished with value: 0.803125 and parameters: {'lambda_l1': 0.0002509711666059614, 'lambda_l2': 6.313380367447521, 'num_leaves': 179, 'feature_fraction': 0.5685998941612505, 'bagging_fraction': 0.858231719157474, 'bagging_freq': 4, 'min_child_samples': 68}. Best is trial 5 with value: 0.8075.\n"
     ]
    },
    {
     "name": "stdout",
     "output_type": "stream",
     "text": [
      "Training until validation scores don't improve for 10 rounds\n",
      "Early stopping, best iteration is:\n",
      "[39]\tvalid_0's binary_error: 0.196875\n",
      "Training until validation scores don't improve for 10 rounds\n",
      "Early stopping, best iteration is:\n",
      "[32]\tvalid_0's binary_error: 0.19\n"
     ]
    },
    {
     "name": "stderr",
     "output_type": "stream",
     "text": [
      "[I 2024-01-18 10:39:21,833] Trial 16 finished with value: 0.81 and parameters: {'lambda_l1': 0.0002854541784898056, 'lambda_l2': 0.6188640773072542, 'num_leaves': 181, 'feature_fraction': 0.6560786972562374, 'bagging_fraction': 0.7260481383865607, 'bagging_freq': 6, 'min_child_samples': 65}. Best is trial 16 with value: 0.81.\n",
      "[I 2024-01-18 10:39:21,983] Trial 17 finished with value: 0.808125 and parameters: {'lambda_l1': 0.0005705322820068046, 'lambda_l2': 0.37601983135158673, 'num_leaves': 252, 'feature_fraction': 0.6815508264332041, 'bagging_fraction': 0.7287795634579008, 'bagging_freq': 7, 'min_child_samples': 60}. Best is trial 16 with value: 0.81.\n",
      "[I 2024-01-18 10:39:22,092] Trial 18 finished with value: 0.80375 and parameters: {'lambda_l1': 0.0019153206836502222, 'lambda_l2': 0.0007610623840517397, 'num_leaves': 185, 'feature_fraction': 0.667251954083393, 'bagging_fraction': 0.698458464473971, 'bagging_freq': 1, 'min_child_samples': 37}. Best is trial 16 with value: 0.81.\n"
     ]
    },
    {
     "name": "stdout",
     "output_type": "stream",
     "text": [
      "Training until validation scores don't improve for 10 rounds\n",
      "Early stopping, best iteration is:\n",
      "[42]\tvalid_0's binary_error: 0.191875\n",
      "Training until validation scores don't improve for 10 rounds\n",
      "Early stopping, best iteration is:\n",
      "[15]\tvalid_0's binary_error: 0.19625\n"
     ]
    },
    {
     "name": "stderr",
     "output_type": "stream",
     "text": [
      "[I 2024-01-18 10:39:22,212] Trial 19 finished with value: 0.800625 and parameters: {'lambda_l1': 0.007343029811535223, 'lambda_l2': 0.3594719159498523, 'num_leaves': 251, 'feature_fraction': 0.6947462637010815, 'bagging_fraction': 0.7267329046705862, 'bagging_freq': 4, 'min_child_samples': 63}. Best is trial 16 with value: 0.81.\n",
      "[I 2024-01-18 10:39:22,322] Trial 20 finished with value: 0.805 and parameters: {'lambda_l1': 1.545136212192968e-05, 'lambda_l2': 0.0007967887249405404, 'num_leaves': 136, 'feature_fraction': 0.6342476007090194, 'bagging_fraction': 0.6288810552749635, 'bagging_freq': 5, 'min_child_samples': 49}. Best is trial 16 with value: 0.81.\n"
     ]
    },
    {
     "name": "stdout",
     "output_type": "stream",
     "text": [
      "Training until validation scores don't improve for 10 rounds\n",
      "Early stopping, best iteration is:\n",
      "[23]\tvalid_0's binary_error: 0.199375\n",
      "Training until validation scores don't improve for 10 rounds\n",
      "Early stopping, best iteration is:\n",
      "[21]\tvalid_0's binary_error: 0.195\n"
     ]
    },
    {
     "name": "stderr",
     "output_type": "stream",
     "text": [
      "[I 2024-01-18 10:39:22,432] Trial 21 finished with value: 0.800625 and parameters: {'lambda_l1': 0.0001325931012601556, 'lambda_l2': 0.2933331692078038, 'num_leaves': 237, 'feature_fraction': 0.7243018266024841, 'bagging_fraction': 0.7126977576425991, 'bagging_freq': 7, 'min_child_samples': 79}. Best is trial 16 with value: 0.81.\n",
      "[I 2024-01-18 10:39:22,570] Trial 22 finished with value: 0.80125 and parameters: {'lambda_l1': 0.0010068952897339086, 'lambda_l2': 0.5066648995621537, 'num_leaves': 200, 'feature_fraction': 0.7860932144740189, 'bagging_fraction': 0.7235469301738782, 'bagging_freq': 7, 'min_child_samples': 88}. Best is trial 16 with value: 0.81.\n"
     ]
    },
    {
     "name": "stdout",
     "output_type": "stream",
     "text": [
      "Training until validation scores don't improve for 10 rounds\n",
      "Early stopping, best iteration is:\n",
      "[18]\tvalid_0's binary_error: 0.199375\n",
      "Training until validation scores don't improve for 10 rounds\n",
      "Early stopping, best iteration is:\n",
      "[28]\tvalid_0's binary_error: 0.19875\n"
     ]
    },
    {
     "name": "stderr",
     "output_type": "stream",
     "text": [
      "[I 2024-01-18 10:39:22,667] Trial 23 finished with value: 0.79375 and parameters: {'lambda_l1': 0.00013047697295070522, 'lambda_l2': 0.6934559119483275, 'num_leaves': 237, 'feature_fraction': 0.7018224967143578, 'bagging_fraction': 0.7495700038028772, 'bagging_freq': 6, 'min_child_samples': 77}. Best is trial 16 with value: 0.81.\n"
     ]
    },
    {
     "name": "stdout",
     "output_type": "stream",
     "text": [
      "Training until validation scores don't improve for 10 rounds\n",
      "Early stopping, best iteration is:\n",
      "[13]\tvalid_0's binary_error: 0.20625\n",
      "Training until validation scores don't improve for 10 rounds\n"
     ]
    },
    {
     "name": "stderr",
     "output_type": "stream",
     "text": [
      "[I 2024-01-18 10:39:22,915] Trial 24 finished with value: 0.805 and parameters: {'lambda_l1': 0.004841377256455578, 'lambda_l2': 0.0765307372197078, 'num_leaves': 199, 'feature_fraction': 0.6103121742049331, 'bagging_fraction': 0.841099949608123, 'bagging_freq': 7, 'min_child_samples': 64}. Best is trial 16 with value: 0.81.\n",
      "[I 2024-01-18 10:39:23,047] Trial 25 finished with value: 0.806875 and parameters: {'lambda_l1': 0.036554761309902505, 'lambda_l2': 0.004068212055786329, 'num_leaves': 251, 'feature_fraction': 0.6832162010001648, 'bagging_fraction': 0.6870223285285929, 'bagging_freq': 6, 'min_child_samples': 56}. Best is trial 16 with value: 0.81.\n"
     ]
    },
    {
     "name": "stdout",
     "output_type": "stream",
     "text": [
      "Early stopping, best iteration is:\n",
      "[21]\tvalid_0's binary_error: 0.195\n",
      "Training until validation scores don't improve for 10 rounds\n",
      "Early stopping, best iteration is:\n",
      "[19]\tvalid_0's binary_error: 0.193125\n",
      "Training until validation scores don't improve for 10 rounds\n"
     ]
    },
    {
     "name": "stderr",
     "output_type": "stream",
     "text": [
      "[I 2024-01-18 10:39:23,189] Trial 26 finished with value: 0.800625 and parameters: {'lambda_l1': 0.000540623360731964, 'lambda_l2': 1.3406543628266672, 'num_leaves': 223, 'feature_fraction': 0.7400165025629651, 'bagging_fraction': 0.7439897067409681, 'bagging_freq': 7, 'min_child_samples': 91}. Best is trial 16 with value: 0.81.\n",
      "[I 2024-01-18 10:39:23,331] Trial 27 finished with value: 0.800625 and parameters: {'lambda_l1': 3.596080048123979e-05, 'lambda_l2': 9.54396712799495, 'num_leaves': 188, 'feature_fraction': 0.6000111311809332, 'bagging_fraction': 0.8172259441329115, 'bagging_freq': 6, 'min_child_samples': 40}. Best is trial 16 with value: 0.81.\n"
     ]
    },
    {
     "name": "stdout",
     "output_type": "stream",
     "text": [
      "Early stopping, best iteration is:\n",
      "[32]\tvalid_0's binary_error: 0.199375\n",
      "Training until validation scores don't improve for 10 rounds\n",
      "Early stopping, best iteration is:\n",
      "[38]\tvalid_0's binary_error: 0.199375\n"
     ]
    },
    {
     "name": "stderr",
     "output_type": "stream",
     "text": [
      "[I 2024-01-18 10:39:23,498] Trial 28 finished with value: 0.805625 and parameters: {'lambda_l1': 0.00036545953416473523, 'lambda_l2': 0.1578111890809971, 'num_leaves': 165, 'feature_fraction': 0.6546820475618135, 'bagging_fraction': 0.7679997383778047, 'bagging_freq': 5, 'min_child_samples': 62}. Best is trial 16 with value: 0.81.\n"
     ]
    },
    {
     "name": "stdout",
     "output_type": "stream",
     "text": [
      "Training until validation scores don't improve for 10 rounds\n",
      "Early stopping, best iteration is:\n",
      "[31]\tvalid_0's binary_error: 0.194375\n",
      "Training until validation scores don't improve for 10 rounds\n"
     ]
    },
    {
     "name": "stderr",
     "output_type": "stream",
     "text": [
      "[I 2024-01-18 10:39:23,639] Trial 29 finished with value: 0.7975 and parameters: {'lambda_l1': 4.254344606019011e-06, 'lambda_l2': 0.10557161206584094, 'num_leaves': 212, 'feature_fraction': 0.8039211729622879, 'bagging_fraction': 0.6282889608344224, 'bagging_freq': 5, 'min_child_samples': 54}. Best is trial 16 with value: 0.81.\n",
      "[I 2024-01-18 10:39:23,740] Trial 30 finished with value: 0.798125 and parameters: {'lambda_l1': 0.0022605231643313874, 'lambda_l2': 2.0211211533050566, 'num_leaves': 214, 'feature_fraction': 0.8379538690496771, 'bagging_fraction': 0.6776461357772762, 'bagging_freq': 7, 'min_child_samples': 81}. Best is trial 16 with value: 0.81.\n"
     ]
    },
    {
     "name": "stdout",
     "output_type": "stream",
     "text": [
      "Early stopping, best iteration is:\n",
      "[22]\tvalid_0's binary_error: 0.2025\n",
      "Training until validation scores don't improve for 10 rounds\n",
      "Early stopping, best iteration is:\n",
      "[21]\tvalid_0's binary_error: 0.201875\n",
      "Training until validation scores don't improve for 10 rounds\n"
     ]
    },
    {
     "name": "stderr",
     "output_type": "stream",
     "text": [
      "[I 2024-01-18 10:39:23,866] Trial 31 finished with value: 0.804375 and parameters: {'lambda_l1': 0.033758353033295524, 'lambda_l2': 0.006441824599196129, 'num_leaves': 254, 'feature_fraction': 0.6906384241716655, 'bagging_fraction': 0.6859420489897444, 'bagging_freq': 6, 'min_child_samples': 56}. Best is trial 16 with value: 0.81.\n",
      "[I 2024-01-18 10:39:23,983] Trial 32 finished with value: 0.80625 and parameters: {'lambda_l1': 0.02403873573471302, 'lambda_l2': 0.8799922965658133, 'num_leaves': 240, 'feature_fraction': 0.7546521059065233, 'bagging_fraction': 0.7385562280084191, 'bagging_freq': 6, 'min_child_samples': 70}. Best is trial 16 with value: 0.81.\n"
     ]
    },
    {
     "name": "stdout",
     "output_type": "stream",
     "text": [
      "Early stopping, best iteration is:\n",
      "[27]\tvalid_0's binary_error: 0.195625\n",
      "Training until validation scores don't improve for 10 rounds\n",
      "Early stopping, best iteration is:\n",
      "[30]\tvalid_0's binary_error: 0.19375\n"
     ]
    },
    {
     "name": "stderr",
     "output_type": "stream",
     "text": [
      "[I 2024-01-18 10:39:24,123] Trial 33 finished with value: 0.805625 and parameters: {'lambda_l1': 0.2347529699782313, 'lambda_l2': 0.0030839553461762524, 'num_leaves': 238, 'feature_fraction': 0.6855258919263322, 'bagging_fraction': 0.638047380206604, 'bagging_freq': 6, 'min_child_samples': 49}. Best is trial 16 with value: 0.81.\n"
     ]
    },
    {
     "name": "stdout",
     "output_type": "stream",
     "text": [
      "Training until validation scores don't improve for 10 rounds\n",
      "Early stopping, best iteration is:\n",
      "[25]\tvalid_0's binary_error: 0.194375\n",
      "Training until validation scores don't improve for 10 rounds\n"
     ]
    },
    {
     "name": "stderr",
     "output_type": "stream",
     "text": [
      "[I 2024-01-18 10:39:24,303] Trial 34 finished with value: 0.795625 and parameters: {'lambda_l1': 0.0029993089150851778, 'lambda_l2': 0.036544812489035544, 'num_leaves': 255, 'feature_fraction': 0.7409292645931818, 'bagging_fraction': 0.6047837885440945, 'bagging_freq': 7, 'min_child_samples': 59}. Best is trial 16 with value: 0.81.\n",
      "[I 2024-01-18 10:39:24,481] Trial 35 finished with value: 0.7975 and parameters: {'lambda_l1': 0.0007557525063289775, 'lambda_l2': 0.17439899288337868, 'num_leaves': 225, 'feature_fraction': 0.7655285931331115, 'bagging_fraction': 0.701361498476792, 'bagging_freq': 6, 'min_child_samples': 16}. Best is trial 16 with value: 0.81.\n"
     ]
    },
    {
     "name": "stdout",
     "output_type": "stream",
     "text": [
      "Early stopping, best iteration is:\n",
      "[27]\tvalid_0's binary_error: 0.204375\n",
      "Training until validation scores don't improve for 10 rounds\n",
      "Early stopping, best iteration is:\n",
      "[19]\tvalid_0's binary_error: 0.2025\n"
     ]
    },
    {
     "name": "stderr",
     "output_type": "stream",
     "text": [
      "[I 2024-01-18 10:39:24,614] Trial 36 finished with value: 0.806875 and parameters: {'lambda_l1': 0.0062261856942975305, 'lambda_l2': 0.02326267245603742, 'num_leaves': 147, 'feature_fraction': 0.6731380420344748, 'bagging_fraction': 0.6650243352003727, 'bagging_freq': 5, 'min_child_samples': 44}. Best is trial 16 with value: 0.81.\n",
      "[I 2024-01-18 10:39:24,712] Trial 37 finished with value: 0.793125 and parameters: {'lambda_l1': 0.14442527784013673, 'lambda_l2': 0.7969947383667428, 'num_leaves': 213, 'feature_fraction': 0.7807122001995489, 'bagging_fraction': 0.5867003067816368, 'bagging_freq': 3, 'min_child_samples': 73}. Best is trial 16 with value: 0.81.\n"
     ]
    },
    {
     "name": "stdout",
     "output_type": "stream",
     "text": [
      "Training until validation scores don't improve for 10 rounds\n",
      "Early stopping, best iteration is:\n",
      "[17]\tvalid_0's binary_error: 0.193125\n",
      "Training until validation scores don't improve for 10 rounds\n",
      "Early stopping, best iteration is:\n",
      "[23]\tvalid_0's binary_error: 0.206875\n"
     ]
    },
    {
     "name": "stderr",
     "output_type": "stream",
     "text": [
      "[I 2024-01-18 10:39:24,848] Trial 38 finished with value: 0.810625 and parameters: {'lambda_l1': 0.015141617698842535, 'lambda_l2': 0.07964636712315518, 'num_leaves': 232, 'feature_fraction': 0.7126076351626047, 'bagging_fraction': 0.7590541279298323, 'bagging_freq': 4, 'min_child_samples': 53}. Best is trial 38 with value: 0.810625.\n"
     ]
    },
    {
     "name": "stdout",
     "output_type": "stream",
     "text": [
      "Training until validation scores don't improve for 10 rounds\n",
      "Early stopping, best iteration is:\n",
      "[18]\tvalid_0's binary_error: 0.189375\n",
      "Training until validation scores don't improve for 10 rounds\n"
     ]
    },
    {
     "name": "stderr",
     "output_type": "stream",
     "text": [
      "[I 2024-01-18 10:39:25,063] Trial 39 finished with value: 0.806875 and parameters: {'lambda_l1': 0.0010886569889849197, 'lambda_l2': 0.10792624594399772, 'num_leaves': 196, 'feature_fraction': 0.8205986690550856, 'bagging_fraction': 0.7739996890708825, 'bagging_freq': 4, 'min_child_samples': 30}. Best is trial 38 with value: 0.810625.\n",
      "[I 2024-01-18 10:39:25,215] Trial 40 finished with value: 0.80625 and parameters: {'lambda_l1': 0.00032923104672196937, 'lambda_l2': 1.9665869401540401, 'num_leaves': 170, 'feature_fraction': 0.7133516482458641, 'bagging_fraction': 0.8159414337010301, 'bagging_freq': 2, 'min_child_samples': 50}. Best is trial 38 with value: 0.810625.\n"
     ]
    },
    {
     "name": "stdout",
     "output_type": "stream",
     "text": [
      "Early stopping, best iteration is:\n",
      "[16]\tvalid_0's binary_error: 0.193125\n",
      "Training until validation scores don't improve for 10 rounds\n",
      "Early stopping, best iteration is:\n",
      "[34]\tvalid_0's binary_error: 0.19375\n"
     ]
    },
    {
     "name": "stderr",
     "output_type": "stream",
     "text": [
      "[I 2024-01-18 10:39:25,368] Trial 41 finished with value: 0.801875 and parameters: {'lambda_l1': 0.019543060124418234, 'lambda_l2': 0.28543292525196384, 'num_leaves': 230, 'feature_fraction': 0.6530364290067948, 'bagging_fraction': 0.7146975879410333, 'bagging_freq': 4, 'min_child_samples': 65}. Best is trial 38 with value: 0.810625.\n",
      "[I 2024-01-18 10:39:25,497] Trial 42 finished with value: 0.8 and parameters: {'lambda_l1': 0.0663026231822979, 'lambda_l2': 0.01315914617284746, 'num_leaves': 243, 'feature_fraction': 0.7272521327993094, 'bagging_fraction': 0.7578819152182277, 'bagging_freq': 3, 'min_child_samples': 54}. Best is trial 38 with value: 0.810625.\n"
     ]
    },
    {
     "name": "stdout",
     "output_type": "stream",
     "text": [
      "Training until validation scores don't improve for 10 rounds\n",
      "Early stopping, best iteration is:\n",
      "[27]\tvalid_0's binary_error: 0.198125\n",
      "Training until validation scores don't improve for 10 rounds\n",
      "Early stopping, best iteration is:\n",
      "[20]\tvalid_0's binary_error: 0.2\n"
     ]
    },
    {
     "name": "stderr",
     "output_type": "stream",
     "text": [
      "[I 2024-01-18 10:39:25,613] Trial 43 finished with value: 0.809375 and parameters: {'lambda_l1': 0.009979488322321957, 'lambda_l2': 0.035881133053930814, 'num_leaves': 221, 'feature_fraction': 0.7556028412037089, 'bagging_fraction': 0.6855540765402875, 'bagging_freq': 6, 'min_child_samples': 43}. Best is trial 38 with value: 0.810625.\n"
     ]
    },
    {
     "name": "stdout",
     "output_type": "stream",
     "text": [
      "Training until validation scores don't improve for 10 rounds\n",
      "Early stopping, best iteration is:\n",
      "[20]\tvalid_0's binary_error: 0.190625\n",
      "Training until validation scores don't improve for 10 rounds\n"
     ]
    },
    {
     "name": "stderr",
     "output_type": "stream",
     "text": [
      "[I 2024-01-18 10:39:25,799] Trial 44 finished with value: 0.79875 and parameters: {'lambda_l1': 0.01064929312296294, 'lambda_l2': 0.08004010200451488, 'num_leaves': 220, 'feature_fraction': 0.7796349272577316, 'bagging_fraction': 0.7314066057982465, 'bagging_freq': 4, 'min_child_samples': 36}. Best is trial 38 with value: 0.810625.\n",
      "[I 2024-01-18 10:39:25,948] Trial 45 finished with value: 0.801875 and parameters: {'lambda_l1': 0.002137793228344457, 'lambda_l2': 2.655053811012533, 'num_leaves': 207, 'feature_fraction': 0.854495750299944, 'bagging_fraction': 0.653697372568773, 'bagging_freq': 7, 'min_child_samples': 19}. Best is trial 38 with value: 0.810625.\n"
     ]
    },
    {
     "name": "stdout",
     "output_type": "stream",
     "text": [
      "Early stopping, best iteration is:\n",
      "[16]\tvalid_0's binary_error: 0.20125\n",
      "Training until validation scores don't improve for 10 rounds\n",
      "Early stopping, best iteration is:\n",
      "[24]\tvalid_0's binary_error: 0.198125\n"
     ]
    },
    {
     "name": "stderr",
     "output_type": "stream",
     "text": [
      "[I 2024-01-18 10:39:26,094] Trial 46 finished with value: 0.805625 and parameters: {'lambda_l1': 0.004480945073204991, 'lambda_l2': 0.039013012398361524, 'num_leaves': 229, 'feature_fraction': 0.9062944104787807, 'bagging_fraction': 0.7942894617051053, 'bagging_freq': 5, 'min_child_samples': 41}. Best is trial 38 with value: 0.810625.\n"
     ]
    },
    {
     "name": "stdout",
     "output_type": "stream",
     "text": [
      "Training until validation scores don't improve for 10 rounds\n",
      "Early stopping, best iteration is:\n",
      "[20]\tvalid_0's binary_error: 0.194375\n",
      "Training until validation scores don't improve for 10 rounds\n",
      "Early stopping, best iteration is:\n",
      "[15]\tvalid_0's binary_error: 0.19\n"
     ]
    },
    {
     "name": "stderr",
     "output_type": "stream",
     "text": [
      "[I 2024-01-18 10:39:26,197] Trial 47 finished with value: 0.81 and parameters: {'lambda_l1': 6.602435736417153e-05, 'lambda_l2': 0.31058918714577116, 'num_leaves': 125, 'feature_fraction': 0.7519994150533797, 'bagging_fraction': 0.7561861960602758, 'bagging_freq': 7, 'min_child_samples': 45}. Best is trial 38 with value: 0.810625.\n",
      "[I 2024-01-18 10:39:26,339] Trial 48 finished with value: 0.80875 and parameters: {'lambda_l1': 0.0009308243147694731, 'lambda_l2': 0.2234976920829839, 'num_leaves': 120, 'feature_fraction': 0.7538047547987318, 'bagging_fraction': 0.7573125918086244, 'bagging_freq': 6, 'min_child_samples': 45}. Best is trial 38 with value: 0.810625.\n",
      "[I 2024-01-18 10:39:26,483] Trial 49 finished with value: 0.801875 and parameters: {'lambda_l1': 5.98571959791776e-05, 'lambda_l2': 0.015756296571141713, 'num_leaves': 119, 'feature_fraction': 0.7642353545498266, 'bagging_fraction': 0.7887495651140728, 'bagging_freq': 5, 'min_child_samples': 25}. Best is trial 38 with value: 0.810625.\n"
     ]
    },
    {
     "name": "stdout",
     "output_type": "stream",
     "text": [
      "Training until validation scores don't improve for 10 rounds\n",
      "Early stopping, best iteration is:\n",
      "[14]\tvalid_0's binary_error: 0.19125\n",
      "Training until validation scores don't improve for 10 rounds\n",
      "Early stopping, best iteration is:\n",
      "[16]\tvalid_0's binary_error: 0.198125\n"
     ]
    },
    {
     "name": "stderr",
     "output_type": "stream",
     "text": [
      "[I 2024-01-18 10:39:26,570] Trial 50 finished with value: 0.79 and parameters: {'lambda_l1': 0.00019518082851254702, 'lambda_l2': 4.957023618967171, 'num_leaves': 92, 'feature_fraction': 0.8182734060901149, 'bagging_fraction': 0.760448816477723, 'bagging_freq': 6, 'min_child_samples': 44}. Best is trial 38 with value: 0.810625.\n",
      "[I 2024-01-18 10:39:26,694] Trial 51 finished with value: 0.801875 and parameters: {'lambda_l1': 0.0007637708768207324, 'lambda_l2': 0.27199388685224934, 'num_leaves': 129, 'feature_fraction': 0.7109898594833235, 'bagging_fraction': 0.7034603752750261, 'bagging_freq': 7, 'min_child_samples': 35}. Best is trial 38 with value: 0.810625.\n"
     ]
    },
    {
     "name": "stdout",
     "output_type": "stream",
     "text": [
      "Training until validation scores don't improve for 10 rounds\n",
      "Early stopping, best iteration is:\n",
      "[2]\tvalid_0's binary_error: 0.21\n",
      "Training until validation scores don't improve for 10 rounds\n",
      "Early stopping, best iteration is:\n",
      "[23]\tvalid_0's binary_error: 0.198125\n"
     ]
    },
    {
     "name": "stderr",
     "output_type": "stream",
     "text": [
      "[I 2024-01-18 10:39:26,862] Trial 52 finished with value: 0.8075 and parameters: {'lambda_l1': 0.00043656682520628313, 'lambda_l2': 1.1996932135013725, 'num_leaves': 80, 'feature_fraction': 0.7450843335805134, 'bagging_fraction': 0.7566539408961892, 'bagging_freq': 6, 'min_child_samples': 47}. Best is trial 38 with value: 0.810625.\n"
     ]
    },
    {
     "name": "stdout",
     "output_type": "stream",
     "text": [
      "Training until validation scores don't improve for 10 rounds\n",
      "Early stopping, best iteration is:\n",
      "[26]\tvalid_0's binary_error: 0.1925\n",
      "Training until validation scores don't improve for 10 rounds\n"
     ]
    },
    {
     "name": "stderr",
     "output_type": "stream",
     "text": [
      "[I 2024-01-18 10:39:27,010] Trial 53 finished with value: 0.8075 and parameters: {'lambda_l1': 0.0014675890275951365, 'lambda_l2': 0.4938097110338373, 'num_leaves': 143, 'feature_fraction': 0.7966759880835188, 'bagging_fraction': 0.723889763006734, 'bagging_freq': 7, 'min_child_samples': 60}. Best is trial 38 with value: 0.810625.\n"
     ]
    },
    {
     "name": "stdout",
     "output_type": "stream",
     "text": [
      "Early stopping, best iteration is:\n",
      "[32]\tvalid_0's binary_error: 0.1925\n",
      "Training until validation scores don't improve for 10 rounds\n"
     ]
    },
    {
     "name": "stderr",
     "output_type": "stream",
     "text": [
      "[I 2024-01-18 10:39:27,263] Trial 54 finished with value: 0.8025 and parameters: {'lambda_l1': 0.010593513458627989, 'lambda_l2': 0.06104593180056741, 'num_leaves': 118, 'feature_fraction': 0.7172772202539051, 'bagging_fraction': 0.6922922735080406, 'bagging_freq': 7, 'min_child_samples': 51}. Best is trial 38 with value: 0.810625.\n",
      "[I 2024-01-18 10:39:27,379] Trial 55 finished with value: 0.800625 and parameters: {'lambda_l1': 5.9460558539624365e-05, 'lambda_l2': 0.1746334157100306, 'num_leaves': 155, 'feature_fraction': 0.7617929822744383, 'bagging_fraction': 0.7768210703912836, 'bagging_freq': 6, 'min_child_samples': 41}. Best is trial 38 with value: 0.810625.\n"
     ]
    },
    {
     "name": "stdout",
     "output_type": "stream",
     "text": [
      "Early stopping, best iteration is:\n",
      "[37]\tvalid_0's binary_error: 0.1975\n",
      "Training until validation scores don't improve for 10 rounds\n",
      "Early stopping, best iteration is:\n",
      "[5]\tvalid_0's binary_error: 0.199375\n",
      "Training until validation scores don't improve for 10 rounds\n"
     ]
    },
    {
     "name": "stderr",
     "output_type": "stream",
     "text": [
      "[I 2024-01-18 10:39:27,462] Trial 56 finished with value: 0.80125 and parameters: {'lambda_l1': 0.0002793931702679911, 'lambda_l2': 0.4572334538890081, 'num_leaves': 40, 'feature_fraction': 0.6678686197641803, 'bagging_fraction': 0.6683876114435626, 'bagging_freq': 3, 'min_child_samples': 46}. Best is trial 38 with value: 0.810625.\n",
      "[I 2024-01-18 10:39:27,612] Trial 57 finished with value: 0.8 and parameters: {'lambda_l1': 8.822647187193765e-05, 'lambda_l2': 0.0521132845922875, 'num_leaves': 126, 'feature_fraction': 0.7345997031570517, 'bagging_fraction': 0.748656919319686, 'bagging_freq': 5, 'min_child_samples': 32}. Best is trial 38 with value: 0.810625.\n"
     ]
    },
    {
     "name": "stdout",
     "output_type": "stream",
     "text": [
      "Early stopping, best iteration is:\n",
      "[8]\tvalid_0's binary_error: 0.19875\n",
      "Training until validation scores don't improve for 10 rounds\n",
      "Early stopping, best iteration is:\n",
      "[12]\tvalid_0's binary_error: 0.2\n"
     ]
    },
    {
     "name": "stderr",
     "output_type": "stream",
     "text": [
      "[I 2024-01-18 10:39:27,733] Trial 58 finished with value: 0.8025 and parameters: {'lambda_l1': 0.003410929957844443, 'lambda_l2': 1.7493439613332316, 'num_leaves': 138, 'feature_fraction': 0.6969283181013588, 'bagging_fraction': 0.7097507608441357, 'bagging_freq': 4, 'min_child_samples': 67}. Best is trial 38 with value: 0.810625.\n",
      "[I 2024-01-18 10:39:27,864] Trial 59 finished with value: 0.805625 and parameters: {'lambda_l1': 0.00021292548796920417, 'lambda_l2': 0.19824320548789406, 'num_leaves': 179, 'feature_fraction': 0.637157121710817, 'bagging_fraction': 0.736152727644425, 'bagging_freq': 7, 'min_child_samples': 58}. Best is trial 38 with value: 0.810625.\n"
     ]
    },
    {
     "name": "stdout",
     "output_type": "stream",
     "text": [
      "Training until validation scores don't improve for 10 rounds\n",
      "Early stopping, best iteration is:\n",
      "[21]\tvalid_0's binary_error: 0.1975\n",
      "Training until validation scores don't improve for 10 rounds\n",
      "Early stopping, best iteration is:\n",
      "[16]\tvalid_0's binary_error: 0.194375\n"
     ]
    },
    {
     "name": "stderr",
     "output_type": "stream",
     "text": [
      "[I 2024-01-18 10:39:28,009] Trial 60 finished with value: 0.804375 and parameters: {'lambda_l1': 0.001157237999008279, 'lambda_l2': 0.7957429476664047, 'num_leaves': 98, 'feature_fraction': 0.7037403180858048, 'bagging_fraction': 0.8093560284712175, 'bagging_freq': 6, 'min_child_samples': 39}. Best is trial 38 with value: 0.810625.\n",
      "[I 2024-01-18 10:39:28,116] Trial 61 finished with value: 0.804375 and parameters: {'lambda_l1': 0.0001410987723526793, 'lambda_l2': 3.425971014938022, 'num_leaves': 111, 'feature_fraction': 0.7315222627194665, 'bagging_fraction': 0.723069481929863, 'bagging_freq': 7, 'min_child_samples': 52}. Best is trial 38 with value: 0.810625.\n"
     ]
    },
    {
     "name": "stdout",
     "output_type": "stream",
     "text": [
      "Training until validation scores don't improve for 10 rounds\n",
      "Early stopping, best iteration is:\n",
      "[18]\tvalid_0's binary_error: 0.195625\n",
      "Training until validation scores don't improve for 10 rounds\n",
      "Early stopping, best iteration is:\n",
      "[15]\tvalid_0's binary_error: 0.195625\n"
     ]
    },
    {
     "name": "stderr",
     "output_type": "stream",
     "text": [
      "[I 2024-01-18 10:39:28,236] Trial 62 finished with value: 0.799375 and parameters: {'lambda_l1': 3.4940656782904844e-05, 'lambda_l2': 0.4365332481409267, 'num_leaves': 195, 'feature_fraction': 0.7700990719218207, 'bagging_fraction': 0.7797193666939256, 'bagging_freq': 7, 'min_child_samples': 85}. Best is trial 38 with value: 0.810625.\n",
      "[I 2024-01-18 10:39:28,365] Trial 63 finished with value: 0.81125 and parameters: {'lambda_l1': 0.0005259008223188583, 'lambda_l2': 0.10813164269960812, 'num_leaves': 244, 'feature_fraction': 0.7493929334612254, 'bagging_fraction': 0.6893527206328537, 'bagging_freq': 6, 'min_child_samples': 75}. Best is trial 63 with value: 0.81125.\n"
     ]
    },
    {
     "name": "stdout",
     "output_type": "stream",
     "text": [
      "Training until validation scores don't improve for 10 rounds\n",
      "Early stopping, best iteration is:\n",
      "[15]\tvalid_0's binary_error: 0.200625\n",
      "Training until validation scores don't improve for 10 rounds\n",
      "Early stopping, best iteration is:\n",
      "[35]\tvalid_0's binary_error: 0.18875\n"
     ]
    },
    {
     "name": "stderr",
     "output_type": "stream",
     "text": [
      "[I 2024-01-18 10:39:28,493] Trial 64 finished with value: 0.80375 and parameters: {'lambda_l1': 0.0005257215624716869, 'lambda_l2': 0.09417223752878259, 'num_leaves': 245, 'feature_fraction': 0.7971519357282628, 'bagging_fraction': 0.6852483661467379, 'bagging_freq': 6, 'min_child_samples': 74}. Best is trial 63 with value: 0.81125.\n",
      "[I 2024-01-18 10:39:28,646] Trial 65 finished with value: 0.800625 and parameters: {'lambda_l1': 0.002521469900563651, 'lambda_l2': 0.029892566559234935, 'num_leaves': 246, 'feature_fraction': 0.6799653728843361, 'bagging_fraction': 0.6543580239384666, 'bagging_freq': 5, 'min_child_samples': 61}. Best is trial 63 with value: 0.81125.\n"
     ]
    },
    {
     "name": "stdout",
     "output_type": "stream",
     "text": [
      "Training until validation scores don't improve for 10 rounds\n",
      "Early stopping, best iteration is:\n",
      "[22]\tvalid_0's binary_error: 0.19625\n",
      "Training until validation scores don't improve for 10 rounds\n",
      "Early stopping, best iteration is:\n",
      "[29]\tvalid_0's binary_error: 0.199375\n"
     ]
    },
    {
     "name": "stderr",
     "output_type": "stream",
     "text": [
      "[I 2024-01-18 10:39:28,831] Trial 66 finished with value: 0.8025 and parameters: {'lambda_l1': 0.0006185209031575541, 'lambda_l2': 0.20415978164251405, 'num_leaves': 233, 'feature_fraction': 0.7517129194981753, 'bagging_fraction': 0.7465022138699835, 'bagging_freq': 6, 'min_child_samples': 67}. Best is trial 63 with value: 0.81125.\n"
     ]
    },
    {
     "name": "stdout",
     "output_type": "stream",
     "text": [
      "Training until validation scores don't improve for 10 rounds\n",
      "Early stopping, best iteration is:\n",
      "[29]\tvalid_0's binary_error: 0.1975\n",
      "Training until validation scores don't improve for 10 rounds\n"
     ]
    },
    {
     "name": "stderr",
     "output_type": "stream",
     "text": [
      "[I 2024-01-18 10:39:28,981] Trial 67 finished with value: 0.806875 and parameters: {'lambda_l1': 0.001376372573902261, 'lambda_l2': 1.2326085181452144, 'num_leaves': 222, 'feature_fraction': 0.7185234912688205, 'bagging_fraction': 0.6944294435131283, 'bagging_freq': 6, 'min_child_samples': 71}. Best is trial 63 with value: 0.81125.\n",
      "[I 2024-01-18 10:39:29,131] Trial 68 finished with value: 0.8075 and parameters: {'lambda_l1': 1.8565557874372192e-05, 'lambda_l2': 9.682324760547866, 'num_leaves': 109, 'feature_fraction': 0.6550835909125594, 'bagging_fraction': 0.8332415365636057, 'bagging_freq': 1, 'min_child_samples': 46}. Best is trial 63 with value: 0.81125.\n"
     ]
    },
    {
     "name": "stdout",
     "output_type": "stream",
     "text": [
      "Early stopping, best iteration is:\n",
      "[35]\tvalid_0's binary_error: 0.193125\n",
      "Training until validation scores don't improve for 10 rounds\n",
      "Early stopping, best iteration is:\n",
      "[35]\tvalid_0's binary_error: 0.1925\n"
     ]
    },
    {
     "name": "stderr",
     "output_type": "stream",
     "text": [
      "[I 2024-01-18 10:39:29,259] Trial 69 finished with value: 0.8 and parameters: {'lambda_l1': 0.005968969818181118, 'lambda_l2': 0.11213329822189433, 'num_leaves': 206, 'feature_fraction': 0.7481094757639597, 'bagging_fraction': 0.7125025411338788, 'bagging_freq': 5, 'min_child_samples': 55}. Best is trial 63 with value: 0.81125.\n"
     ]
    },
    {
     "name": "stdout",
     "output_type": "stream",
     "text": [
      "Training until validation scores don't improve for 10 rounds\n",
      "Early stopping, best iteration is:\n",
      "[24]\tvalid_0's binary_error: 0.2\n",
      "Training until validation scores don't improve for 10 rounds\n"
     ]
    },
    {
     "name": "stderr",
     "output_type": "stream",
     "text": [
      "[I 2024-01-18 10:39:29,544] Trial 70 finished with value: 0.81 and parameters: {'lambda_l1': 0.00025904528579538536, 'lambda_l2': 0.05912253662800788, 'num_leaves': 163, 'feature_fraction': 0.6957534309799346, 'bagging_fraction': 0.7712723298207933, 'bagging_freq': 6, 'min_child_samples': 42}. Best is trial 63 with value: 0.81125.\n",
      "[I 2024-01-18 10:39:29,698] Trial 71 finished with value: 0.80375 and parameters: {'lambda_l1': 0.00022456456084288818, 'lambda_l2': 0.06221234481134207, 'num_leaves': 163, 'feature_fraction': 0.6966101738658672, 'bagging_fraction': 0.7905999989786741, 'bagging_freq': 6, 'min_child_samples': 43}. Best is trial 63 with value: 0.81125.\n"
     ]
    },
    {
     "name": "stdout",
     "output_type": "stream",
     "text": [
      "Early stopping, best iteration is:\n",
      "[31]\tvalid_0's binary_error: 0.19\n",
      "Training until validation scores don't improve for 10 rounds\n",
      "Early stopping, best iteration is:\n",
      "[22]\tvalid_0's binary_error: 0.19625\n"
     ]
    },
    {
     "name": "stderr",
     "output_type": "stream",
     "text": [
      "[I 2024-01-18 10:39:29,895] Trial 72 finished with value: 0.81125 and parameters: {'lambda_l1': 0.0004186711512051722, 'lambda_l2': 0.3468306929809623, 'num_leaves': 151, 'feature_fraction': 0.6842265444676633, 'bagging_fraction': 0.7667081784906145, 'bagging_freq': 6, 'min_child_samples': 38}. Best is trial 63 with value: 0.81125.\n"
     ]
    },
    {
     "name": "stdout",
     "output_type": "stream",
     "text": [
      "Training until validation scores don't improve for 10 rounds\n",
      "Early stopping, best iteration is:\n",
      "[32]\tvalid_0's binary_error: 0.18875\n",
      "Training until validation scores don't improve for 10 rounds\n"
     ]
    },
    {
     "name": "stderr",
     "output_type": "stream",
     "text": [
      "[I 2024-01-18 10:39:30,157] Trial 73 finished with value: 0.80875 and parameters: {'lambda_l1': 0.00011418955169862752, 'lambda_l2': 0.016781012224212372, 'num_leaves': 153, 'feature_fraction': 0.7289027022919202, 'bagging_fraction': 0.7637393517707021, 'bagging_freq': 6, 'min_child_samples': 33}. Best is trial 63 with value: 0.81125.\n",
      "[I 2024-01-18 10:39:30,272] Trial 74 finished with value: 0.80125 and parameters: {'lambda_l1': 0.00035943110668333855, 'lambda_l2': 0.1371705699088089, 'num_leaves': 174, 'feature_fraction': 0.7825457578282571, 'bagging_fraction': 0.7348015116575873, 'bagging_freq': 5, 'min_child_samples': 38}. Best is trial 63 with value: 0.81125.\n"
     ]
    },
    {
     "name": "stdout",
     "output_type": "stream",
     "text": [
      "Early stopping, best iteration is:\n",
      "[32]\tvalid_0's binary_error: 0.19125\n",
      "Training until validation scores don't improve for 10 rounds\n",
      "Early stopping, best iteration is:\n",
      "[8]\tvalid_0's binary_error: 0.19875\n"
     ]
    },
    {
     "name": "stderr",
     "output_type": "stream",
     "text": [
      "[I 2024-01-18 10:39:30,396] Trial 75 finished with value: 0.7975 and parameters: {'lambda_l1': 0.0009337305630387962, 'lambda_l2': 0.3207741896285808, 'num_leaves': 137, 'feature_fraction': 0.7039351074144655, 'bagging_fraction': 0.7731603753957086, 'bagging_freq': 6, 'min_child_samples': 28}. Best is trial 63 with value: 0.81125.\n",
      "[I 2024-01-18 10:39:30,508] Trial 76 finished with value: 0.806875 and parameters: {'lambda_l1': 0.0019138884795023101, 'lambda_l2': 0.6073332199484426, 'num_leaves': 160, 'feature_fraction': 0.6800655571879869, 'bagging_fraction': 0.8081184045895854, 'bagging_freq': 6, 'min_child_samples': 48}. Best is trial 63 with value: 0.81125.\n"
     ]
    },
    {
     "name": "stdout",
     "output_type": "stream",
     "text": [
      "Training until validation scores don't improve for 10 rounds\n",
      "Early stopping, best iteration is:\n",
      "[7]\tvalid_0's binary_error: 0.2025\n",
      "Training until validation scores don't improve for 10 rounds\n",
      "Early stopping, best iteration is:\n",
      "[13]\tvalid_0's binary_error: 0.193125\n"
     ]
    },
    {
     "name": "stderr",
     "output_type": "stream",
     "text": [
      "[I 2024-01-18 10:39:30,675] Trial 77 finished with value: 0.80625 and parameters: {'lambda_l1': 7.8108546964332e-05, 'lambda_l2': 0.06139106191474341, 'num_leaves': 186, 'feature_fraction': 0.7617481986358262, 'bagging_fraction': 0.7462629938768152, 'bagging_freq': 5, 'min_child_samples': 42}. Best is trial 63 with value: 0.81125.\n"
     ]
    },
    {
     "name": "stdout",
     "output_type": "stream",
     "text": [
      "Training until validation scores don't improve for 10 rounds\n",
      "Early stopping, best iteration is:\n",
      "[31]\tvalid_0's binary_error: 0.19375\n",
      "Training until validation scores don't improve for 10 rounds\n"
     ]
    },
    {
     "name": "stderr",
     "output_type": "stream",
     "text": [
      "[I 2024-01-18 10:39:30,926] Trial 78 finished with value: 0.799375 and parameters: {'lambda_l1': 0.0001541214786927519, 'lambda_l2': 0.03004976235620637, 'num_leaves': 123, 'feature_fraction': 0.7415992753604786, 'bagging_fraction': 0.6770169120177967, 'bagging_freq': 6, 'min_child_samples': 35}. Best is trial 63 with value: 0.81125.\n",
      "[I 2024-01-18 10:39:31,050] Trial 79 finished with value: 0.805625 and parameters: {'lambda_l1': 0.0004590823263496279, 'lambda_l2': 0.2422436543366378, 'num_leaves': 150, 'feature_fraction': 0.6663169560441874, 'bagging_fraction': 0.7996347659038534, 'bagging_freq': 4, 'min_child_samples': 77}. Best is trial 63 with value: 0.81125.\n"
     ]
    },
    {
     "name": "stdout",
     "output_type": "stream",
     "text": [
      "Early stopping, best iteration is:\n",
      "[36]\tvalid_0's binary_error: 0.200625\n",
      "Training until validation scores don't improve for 10 rounds\n",
      "Early stopping, best iteration is:\n",
      "[27]\tvalid_0's binary_error: 0.194375\n"
     ]
    },
    {
     "name": "stderr",
     "output_type": "stream",
     "text": [
      "[I 2024-01-18 10:39:31,211] Trial 80 finished with value: 0.808125 and parameters: {'lambda_l1': 0.003574876179851107, 'lambda_l2': 0.009041580276736265, 'num_leaves': 134, 'feature_fraction': 0.7213575409659434, 'bagging_fraction': 0.8277800205265589, 'bagging_freq': 5, 'min_child_samples': 52}. Best is trial 63 with value: 0.81125.\n"
     ]
    },
    {
     "name": "stdout",
     "output_type": "stream",
     "text": [
      "Training until validation scores don't improve for 10 rounds\n",
      "Early stopping, best iteration is:\n",
      "[28]\tvalid_0's binary_error: 0.191875\n",
      "Training until validation scores don't improve for 10 rounds\n"
     ]
    },
    {
     "name": "stderr",
     "output_type": "stream",
     "text": [
      "[I 2024-01-18 10:39:31,467] Trial 81 finished with value: 0.80625 and parameters: {'lambda_l1': 0.00010820338371809268, 'lambda_l2': 0.12037120042545997, 'num_leaves': 155, 'feature_fraction': 0.7331304082358868, 'bagging_fraction': 0.7609713329010428, 'bagging_freq': 6, 'min_child_samples': 24}. Best is trial 63 with value: 0.81125.\n"
     ]
    },
    {
     "name": "stdout",
     "output_type": "stream",
     "text": [
      "Early stopping, best iteration is:\n",
      "[30]\tvalid_0's binary_error: 0.19375\n",
      "Training until validation scores don't improve for 10 rounds\n"
     ]
    },
    {
     "name": "stderr",
     "output_type": "stream",
     "text": [
      "[I 2024-01-18 10:39:31,771] Trial 82 finished with value: 0.809375 and parameters: {'lambda_l1': 4.645852189896853e-05, 'lambda_l2': 0.019159768916670674, 'num_leaves': 178, 'feature_fraction': 0.7081883552422628, 'bagging_fraction': 0.7706861149098766, 'bagging_freq': 6, 'min_child_samples': 33}. Best is trial 63 with value: 0.81125.\n"
     ]
    },
    {
     "name": "stdout",
     "output_type": "stream",
     "text": [
      "Early stopping, best iteration is:\n",
      "[28]\tvalid_0's binary_error: 0.190625\n",
      "Training until validation scores don't improve for 10 rounds\n"
     ]
    },
    {
     "name": "stderr",
     "output_type": "stream",
     "text": [
      "[I 2024-01-18 10:39:32,009] Trial 83 finished with value: 0.8075 and parameters: {'lambda_l1': 2.5179872310607432e-05, 'lambda_l2': 0.03463945327157301, 'num_leaves': 176, 'feature_fraction': 0.6874073983414055, 'bagging_fraction': 0.779726389570075, 'bagging_freq': 6, 'min_child_samples': 38}. Best is trial 63 with value: 0.81125.\n",
      "[I 2024-01-18 10:39:32,169] Trial 84 finished with value: 0.808125 and parameters: {'lambda_l1': 4.282001922379759e-05, 'lambda_l2': 0.017976090774917155, 'num_leaves': 218, 'feature_fraction': 0.7064938443329672, 'bagging_fraction': 0.7134378979403438, 'bagging_freq': 6, 'min_child_samples': 34}. Best is trial 63 with value: 0.81125.\n"
     ]
    },
    {
     "name": "stdout",
     "output_type": "stream",
     "text": [
      "Early stopping, best iteration is:\n",
      "[36]\tvalid_0's binary_error: 0.1925\n",
      "Training until validation scores don't improve for 10 rounds\n",
      "Early stopping, best iteration is:\n",
      "[28]\tvalid_0's binary_error: 0.191875\n"
     ]
    },
    {
     "name": "stderr",
     "output_type": "stream",
     "text": [
      "[I 2024-01-18 10:39:32,307] Trial 85 finished with value: 0.80625 and parameters: {'lambda_l1': 0.0002554339175495642, 'lambda_l2': 0.8254908949314986, 'num_leaves': 193, 'feature_fraction': 0.7727994820421101, 'bagging_fraction': 0.7333643346515225, 'bagging_freq': 6, 'min_child_samples': 44}. Best is trial 63 with value: 0.81125.\n"
     ]
    },
    {
     "name": "stdout",
     "output_type": "stream",
     "text": [
      "Training until validation scores don't improve for 10 rounds\n",
      "Early stopping, best iteration is:\n",
      "[21]\tvalid_0's binary_error: 0.19375\n",
      "Training until validation scores don't improve for 10 rounds\n"
     ]
    },
    {
     "name": "stderr",
     "output_type": "stream",
     "text": [
      "[I 2024-01-18 10:39:32,557] Trial 86 finished with value: 0.8075 and parameters: {'lambda_l1': 6.5091611506843876e-06, 'lambda_l2': 0.0544683542162277, 'num_leaves': 184, 'feature_fraction': 0.6433527691727237, 'bagging_fraction': 0.795881607104536, 'bagging_freq': 7, 'min_child_samples': 29}. Best is trial 63 with value: 0.81125.\n",
      "[I 2024-01-18 10:39:32,707] Trial 87 finished with value: 0.806875 and parameters: {'lambda_l1': 0.0007732451106484214, 'lambda_l2': 0.345067968478502, 'num_leaves': 143, 'feature_fraction': 0.6147113380890351, 'bagging_fraction': 0.7525954280187819, 'bagging_freq': 6, 'min_child_samples': 49}. Best is trial 63 with value: 0.81125.\n"
     ]
    },
    {
     "name": "stdout",
     "output_type": "stream",
     "text": [
      "Early stopping, best iteration is:\n",
      "[24]\tvalid_0's binary_error: 0.1925\n",
      "Training until validation scores don't improve for 10 rounds\n",
      "Early stopping, best iteration is:\n",
      "[22]\tvalid_0's binary_error: 0.193125\n"
     ]
    },
    {
     "name": "stderr",
     "output_type": "stream",
     "text": [
      "[I 2024-01-18 10:39:32,863] Trial 88 finished with value: 0.808125 and parameters: {'lambda_l1': 5.878288837793079e-05, 'lambda_l2': 0.16700035421001208, 'num_leaves': 167, 'feature_fraction': 0.6681619826647631, 'bagging_fraction': 0.8547746551792927, 'bagging_freq': 4, 'min_child_samples': 41}. Best is trial 63 with value: 0.81125.\n"
     ]
    },
    {
     "name": "stdout",
     "output_type": "stream",
     "text": [
      "Training until validation scores don't improve for 10 rounds\n",
      "Early stopping, best iteration is:\n",
      "[14]\tvalid_0's binary_error: 0.191875\n",
      "Training until validation scores don't improve for 10 rounds\n",
      "Early stopping, best iteration is:\n",
      "[11]\tvalid_0's binary_error: 0.1975\n"
     ]
    },
    {
     "name": "stderr",
     "output_type": "stream",
     "text": [
      "[I 2024-01-18 10:39:33,011] Trial 89 finished with value: 0.8025 and parameters: {'lambda_l1': 1.1304093250147049e-05, 'lambda_l2': 0.07683635263309097, 'num_leaves': 205, 'feature_fraction': 0.751978076789491, 'bagging_fraction': 0.7036224523974701, 'bagging_freq': 5, 'min_child_samples': 37}. Best is trial 63 with value: 0.81125.\n",
      "[I 2024-01-18 10:39:33,180] Trial 90 finished with value: 0.803125 and parameters: {'lambda_l1': 0.00017724390117523572, 'lambda_l2': 0.00908163415622744, 'num_leaves': 131, 'feature_fraction': 0.7879993643958325, 'bagging_fraction': 0.7235911561007446, 'bagging_freq': 6, 'min_child_samples': 31}. Best is trial 63 with value: 0.81125.\n"
     ]
    },
    {
     "name": "stdout",
     "output_type": "stream",
     "text": [
      "Training until validation scores don't improve for 10 rounds\n",
      "Early stopping, best iteration is:\n",
      "[23]\tvalid_0's binary_error: 0.196875\n",
      "Training until validation scores don't improve for 10 rounds\n"
     ]
    },
    {
     "name": "stderr",
     "output_type": "stream",
     "text": [
      "[I 2024-01-18 10:39:33,427] Trial 91 finished with value: 0.80875 and parameters: {'lambda_l1': 9.494725817884302e-05, 'lambda_l2': 0.0035661306211551857, 'num_leaves': 146, 'feature_fraction': 0.7246218555209493, 'bagging_fraction': 0.745496536690599, 'bagging_freq': 6, 'min_child_samples': 33}. Best is trial 63 with value: 0.81125.\n",
      "[I 2024-01-18 10:39:33,595] Trial 92 finished with value: 0.799375 and parameters: {'lambda_l1': 0.00033801274232773287, 'lambda_l2': 0.01613163460925354, 'num_leaves': 157, 'feature_fraction': 0.7146059111746004, 'bagging_fraction': 0.7602051389178331, 'bagging_freq': 6, 'min_child_samples': 24}. Best is trial 63 with value: 0.81125.\n"
     ]
    },
    {
     "name": "stdout",
     "output_type": "stream",
     "text": [
      "Early stopping, best iteration is:\n",
      "[35]\tvalid_0's binary_error: 0.19125\n",
      "Training until validation scores don't improve for 10 rounds\n",
      "Early stopping, best iteration is:\n",
      "[11]\tvalid_0's binary_error: 0.200625\n"
     ]
    },
    {
     "name": "stderr",
     "output_type": "stream",
     "text": [
      "[I 2024-01-18 10:39:33,849] Trial 93 finished with value: 0.809375 and parameters: {'lambda_l1': 0.0001332617270594226, 'lambda_l2': 0.02515064935575638, 'num_leaves': 150, 'feature_fraction': 0.6938950277974401, 'bagging_fraction': 0.7623764117904378, 'bagging_freq': 6, 'min_child_samples': 40}. Best is trial 63 with value: 0.81125.\n"
     ]
    },
    {
     "name": "stdout",
     "output_type": "stream",
     "text": [
      "Training until validation scores don't improve for 10 rounds\n",
      "Early stopping, best iteration is:\n",
      "[35]\tvalid_0's binary_error: 0.190625\n"
     ]
    },
    {
     "name": "stderr",
     "output_type": "stream",
     "text": [
      "[I 2024-01-18 10:39:34,075] Trial 94 finished with value: 0.79125 and parameters: {'lambda_l1': 5.783361681384015e-05, 'lambda_l2': 0.04095481687579887, 'num_leaves': 172, 'feature_fraction': 0.692368577099514, 'bagging_fraction': 0.7761989948225734, 'bagging_freq': 6, 'min_child_samples': 6}. Best is trial 63 with value: 0.81125.\n"
     ]
    },
    {
     "name": "stdout",
     "output_type": "stream",
     "text": [
      "Training until validation scores don't improve for 10 rounds\n",
      "Early stopping, best iteration is:\n",
      "[10]\tvalid_0's binary_error: 0.20875\n"
     ]
    },
    {
     "name": "stderr",
     "output_type": "stream",
     "text": [
      "[I 2024-01-18 10:39:34,207] Trial 95 finished with value: 0.755625 and parameters: {'lambda_l1': 0.0005071032166689389, 'lambda_l2': 0.08822098134331957, 'num_leaves': 2, 'feature_fraction': 0.743186680434988, 'bagging_fraction': 0.7846012868776614, 'bagging_freq': 7, 'min_child_samples': 45}. Best is trial 63 with value: 0.81125.\n",
      "[I 2024-01-18 10:39:34,340] Trial 96 finished with value: 0.803125 and parameters: {'lambda_l1': 0.001265018257348484, 'lambda_l2': 0.5413746545193172, 'num_leaves': 117, 'feature_fraction': 0.7038510880043225, 'bagging_fraction': 0.7699987037552277, 'bagging_freq': 6, 'min_child_samples': 83}. Best is trial 63 with value: 0.81125.\n"
     ]
    },
    {
     "name": "stdout",
     "output_type": "stream",
     "text": [
      "Training until validation scores don't improve for 10 rounds\n",
      "Early stopping, best iteration is:\n",
      "[1]\tvalid_0's binary_error: 0.244375\n",
      "Training until validation scores don't improve for 10 rounds\n",
      "Early stopping, best iteration is:\n",
      "[32]\tvalid_0's binary_error: 0.196875\n"
     ]
    },
    {
     "name": "stderr",
     "output_type": "stream",
     "text": [
      "[I 2024-01-18 10:39:34,479] Trial 97 finished with value: 0.805625 and parameters: {'lambda_l1': 0.0001539449269127103, 'lambda_l2': 0.024166791687048397, 'num_leaves': 141, 'feature_fraction': 0.68645652886251, 'bagging_fraction': 0.7374071137434364, 'bagging_freq': 7, 'min_child_samples': 40}. Best is trial 63 with value: 0.81125.\n",
      "[I 2024-01-18 10:39:34,612] Trial 98 finished with value: 0.804375 and parameters: {'lambda_l1': 0.00027316001097564714, 'lambda_l2': 0.28392612225737585, 'num_leaves': 181, 'feature_fraction': 0.6631307193788936, 'bagging_fraction': 0.7205969155367762, 'bagging_freq': 5, 'min_child_samples': 47}. Best is trial 63 with value: 0.81125.\n"
     ]
    },
    {
     "name": "stdout",
     "output_type": "stream",
     "text": [
      "Training until validation scores don't improve for 10 rounds\n",
      "Early stopping, best iteration is:\n",
      "[12]\tvalid_0's binary_error: 0.194375\n",
      "Training until validation scores don't improve for 10 rounds\n",
      "Early stopping, best iteration is:\n",
      "[20]\tvalid_0's binary_error: 0.195625\n"
     ]
    },
    {
     "name": "stderr",
     "output_type": "stream",
     "text": [
      "[I 2024-01-18 10:39:34,788] Trial 99 finished with value: 0.808125 and parameters: {'lambda_l1': 0.0007774803451182426, 'lambda_l2': 0.14902583363818095, 'num_leaves': 163, 'feature_fraction': 0.7573584510855974, 'bagging_fraction': 0.818268704167259, 'bagging_freq': 7, 'min_child_samples': 36}. Best is trial 63 with value: 0.81125.\n"
     ]
    },
    {
     "name": "stdout",
     "output_type": "stream",
     "text": [
      "Training until validation scores don't improve for 10 rounds\n",
      "Early stopping, best iteration is:\n",
      "[26]\tvalid_0's binary_error: 0.191875\n"
     ]
    },
    {
     "name": "stderr",
     "output_type": "stream",
     "text": [
      "[I 2024-01-18 10:39:34,991] A new study created in memory with name: no-name-3e439999-8f44-4051-aa0e-12169ae3ba96\n",
      "[I 2024-01-18 10:39:35,059] Trial 0 finished with value: 0.7725 and parameters: {'lambda_l1': 7.994582833793727e-07, 'lambda_l2': 1.4970579009072208e-07, 'num_leaves': 232, 'feature_fraction': 0.9498153648681952, 'bagging_fraction': 0.7754545758037342, 'bagging_freq': 2, 'min_child_samples': 87}. Best is trial 0 with value: 0.7725.\n",
      "[I 2024-01-18 10:39:35,188] Trial 1 finished with value: 0.79625 and parameters: {'lambda_l1': 1.2261046879778927e-05, 'lambda_l2': 0.00010024089996757983, 'num_leaves': 65, 'feature_fraction': 0.9863659768163393, 'bagging_fraction': 0.7669392180065963, 'bagging_freq': 4, 'min_child_samples': 26}. Best is trial 1 with value: 0.79625.\n"
     ]
    },
    {
     "name": "stdout",
     "output_type": "stream",
     "text": [
      "Training until validation scores don't improve for 10 rounds\n",
      "Early stopping, best iteration is:\n",
      "[7]\tvalid_0's binary_error: 0.2275\n",
      "Training until validation scores don't improve for 10 rounds\n",
      "Early stopping, best iteration is:\n",
      "[45]\tvalid_0's binary_error: 0.20375\n",
      "Training until validation scores don't improve for 10 rounds\n"
     ]
    },
    {
     "name": "stderr",
     "output_type": "stream",
     "text": [
      "[I 2024-01-18 10:39:35,228] Trial 2 finished with value: 0.76125 and parameters: {'lambda_l1': 0.18093395197610132, 'lambda_l2': 0.03487148794088508, 'num_leaves': 5, 'feature_fraction': 0.5287102881227386, 'bagging_fraction': 0.43943852894796936, 'bagging_freq': 2, 'min_child_samples': 25}. Best is trial 1 with value: 0.79625.\n",
      "[I 2024-01-18 10:39:35,332] Trial 3 finished with value: 0.77625 and parameters: {'lambda_l1': 3.791369887540896e-05, 'lambda_l2': 0.0008804661416458175, 'num_leaves': 50, 'feature_fraction': 0.8248741225981586, 'bagging_fraction': 0.5788934945393416, 'bagging_freq': 4, 'min_child_samples': 40}. Best is trial 1 with value: 0.79625.\n",
      "[I 2024-01-18 10:39:35,389] Trial 4 finished with value: 0.781875 and parameters: {'lambda_l1': 8.335489421079434e-06, 'lambda_l2': 3.6163153721616324e-07, 'num_leaves': 202, 'feature_fraction': 0.4820989794483029, 'bagging_fraction': 0.8224698616025325, 'bagging_freq': 7, 'min_child_samples': 74}. Best is trial 1 with value: 0.79625.\n"
     ]
    },
    {
     "name": "stdout",
     "output_type": "stream",
     "text": [
      "Early stopping, best iteration is:\n",
      "[16]\tvalid_0's binary_error: 0.23875\n",
      "Training until validation scores don't improve for 10 rounds\n",
      "Early stopping, best iteration is:\n",
      "[20]\tvalid_0's binary_error: 0.22375\n",
      "Training until validation scores don't improve for 10 rounds\n",
      "Early stopping, best iteration is:\n",
      "[14]\tvalid_0's binary_error: 0.218125\n",
      "Training until validation scores don't improve for 10 rounds\n"
     ]
    },
    {
     "name": "stderr",
     "output_type": "stream",
     "text": [
      "[I 2024-01-18 10:39:35,494] Trial 5 finished with value: 0.783125 and parameters: {'lambda_l1': 1.4942069682637075e-05, 'lambda_l2': 0.016097567693664612, 'num_leaves': 56, 'feature_fraction': 0.67464332801802, 'bagging_fraction': 0.7608257799815381, 'bagging_freq': 5, 'min_child_samples': 62}. Best is trial 1 with value: 0.79625.\n",
      "[I 2024-01-18 10:39:35,597] Trial 6 finished with value: 0.779375 and parameters: {'lambda_l1': 0.0007459857364843807, 'lambda_l2': 9.438894898017002e-08, 'num_leaves': 66, 'feature_fraction': 0.9138935163743328, 'bagging_fraction': 0.6238176024549734, 'bagging_freq': 4, 'min_child_samples': 78}. Best is trial 1 with value: 0.79625.\n",
      "[I 2024-01-18 10:39:35,662] Trial 7 finished with value: 0.784375 and parameters: {'lambda_l1': 3.455628528121484, 'lambda_l2': 1.223385666928707e-07, 'num_leaves': 63, 'feature_fraction': 0.448146332795968, 'bagging_fraction': 0.9362825405163251, 'bagging_freq': 1, 'min_child_samples': 18}. Best is trial 1 with value: 0.79625.\n"
     ]
    },
    {
     "name": "stdout",
     "output_type": "stream",
     "text": [
      "Early stopping, best iteration is:\n",
      "[32]\tvalid_0's binary_error: 0.216875\n",
      "Training until validation scores don't improve for 10 rounds\n",
      "Early stopping, best iteration is:\n",
      "[36]\tvalid_0's binary_error: 0.220625\n",
      "Training until validation scores don't improve for 10 rounds\n",
      "Early stopping, best iteration is:\n",
      "[25]\tvalid_0's binary_error: 0.215625\n"
     ]
    },
    {
     "name": "stderr",
     "output_type": "stream",
     "text": [
      "[I 2024-01-18 10:39:35,764] Trial 8 finished with value: 0.788125 and parameters: {'lambda_l1': 4.8868308716675806e-05, 'lambda_l2': 0.14744198816421733, 'num_leaves': 240, 'feature_fraction': 0.9706118625933559, 'bagging_fraction': 0.7474488040063838, 'bagging_freq': 6, 'min_child_samples': 94}. Best is trial 1 with value: 0.79625.\n",
      "[I 2024-01-18 10:39:35,862] Trial 9 finished with value: 0.785 and parameters: {'lambda_l1': 1.3859580705959826e-08, 'lambda_l2': 1.7775765593454642e-07, 'num_leaves': 175, 'feature_fraction': 0.8485490569751162, 'bagging_fraction': 0.4188229820996253, 'bagging_freq': 6, 'min_child_samples': 71}. Best is trial 1 with value: 0.79625.\n"
     ]
    },
    {
     "name": "stdout",
     "output_type": "stream",
     "text": [
      "Training until validation scores don't improve for 10 rounds\n",
      "Early stopping, best iteration is:\n",
      "[36]\tvalid_0's binary_error: 0.211875\n",
      "Training until validation scores don't improve for 10 rounds\n",
      "Early stopping, best iteration is:\n",
      "[41]\tvalid_0's binary_error: 0.215\n"
     ]
    },
    {
     "name": "stderr",
     "output_type": "stream",
     "text": [
      "[I 2024-01-18 10:39:36,061] Trial 10 finished with value: 0.780625 and parameters: {'lambda_l1': 0.0016971195644729618, 'lambda_l2': 3.992289049476397, 'num_leaves': 124, 'feature_fraction': 0.7348079471153852, 'bagging_fraction': 0.9963236759117012, 'bagging_freq': 3, 'min_child_samples': 6}. Best is trial 1 with value: 0.79625.\n"
     ]
    },
    {
     "name": "stdout",
     "output_type": "stream",
     "text": [
      "Training until validation scores don't improve for 10 rounds\n",
      "Early stopping, best iteration is:\n",
      "[14]\tvalid_0's binary_error: 0.219375\n",
      "Training until validation scores don't improve for 10 rounds\n"
     ]
    },
    {
     "name": "stderr",
     "output_type": "stream",
     "text": [
      "[I 2024-01-18 10:39:36,217] Trial 11 finished with value: 0.780625 and parameters: {'lambda_l1': 0.0075168615357146485, 'lambda_l2': 2.9926011544146093e-05, 'num_leaves': 129, 'feature_fraction': 0.9886258209906116, 'bagging_fraction': 0.6816245310725119, 'bagging_freq': 6, 'min_child_samples': 97}. Best is trial 1 with value: 0.79625.\n"
     ]
    },
    {
     "name": "stdout",
     "output_type": "stream",
     "text": [
      "Early stopping, best iteration is:\n",
      "[32]\tvalid_0's binary_error: 0.219375\n",
      "Training until validation scores don't improve for 10 rounds\n"
     ]
    },
    {
     "name": "stderr",
     "output_type": "stream",
     "text": [
      "[I 2024-01-18 10:39:36,481] Trial 12 finished with value: 0.7925 and parameters: {'lambda_l1': 5.765986597900544e-07, 'lambda_l2': 3.621546946744025e-05, 'num_leaves': 254, 'feature_fraction': 0.964421995054587, 'bagging_fraction': 0.8767486743818621, 'bagging_freq': 5, 'min_child_samples': 45}. Best is trial 1 with value: 0.79625.\n"
     ]
    },
    {
     "name": "stdout",
     "output_type": "stream",
     "text": [
      "Early stopping, best iteration is:\n",
      "[31]\tvalid_0's binary_error: 0.2075\n",
      "Training until validation scores don't improve for 10 rounds\n"
     ]
    },
    {
     "name": "stderr",
     "output_type": "stream",
     "text": [
      "[I 2024-01-18 10:39:36,811] Trial 13 finished with value: 0.785 and parameters: {'lambda_l1': 2.640235681644213e-07, 'lambda_l2': 1.651803353681877e-05, 'num_leaves': 99, 'feature_fraction': 0.9989288040458453, 'bagging_fraction': 0.8794302397216839, 'bagging_freq': 5, 'min_child_samples': 44}. Best is trial 1 with value: 0.79625.\n"
     ]
    },
    {
     "name": "stdout",
     "output_type": "stream",
     "text": [
      "Early stopping, best iteration is:\n",
      "[25]\tvalid_0's binary_error: 0.215\n",
      "Training until validation scores don't improve for 10 rounds\n"
     ]
    },
    {
     "name": "stderr",
     "output_type": "stream",
     "text": [
      "[I 2024-01-18 10:39:37,043] Trial 14 finished with value: 0.786875 and parameters: {'lambda_l1': 6.469499929277574e-07, 'lambda_l2': 9.996763819227362e-05, 'num_leaves': 171, 'feature_fraction': 0.8684285370405924, 'bagging_fraction': 0.8689351869546009, 'bagging_freq': 3, 'min_child_samples': 33}. Best is trial 1 with value: 0.79625.\n",
      "[I 2024-01-18 10:39:37,127] Trial 15 finished with value: 0.75375 and parameters: {'lambda_l1': 1.0443956437405897e-08, 'lambda_l2': 2.5070092586099758e-06, 'num_leaves': 7, 'feature_fraction': 0.9020592052428601, 'bagging_fraction': 0.8797722741149495, 'bagging_freq': 5, 'min_child_samples': 54}. Best is trial 1 with value: 0.79625.\n"
     ]
    },
    {
     "name": "stdout",
     "output_type": "stream",
     "text": [
      "Early stopping, best iteration is:\n",
      "[21]\tvalid_0's binary_error: 0.213125\n",
      "Training until validation scores don't improve for 10 rounds\n",
      "Early stopping, best iteration is:\n",
      "[1]\tvalid_0's binary_error: 0.24625\n",
      "Training until validation scores don't improve for 10 rounds\n"
     ]
    },
    {
     "name": "stderr",
     "output_type": "stream",
     "text": [
      "[I 2024-01-18 10:39:37,325] Trial 16 finished with value: 0.784375 and parameters: {'lambda_l1': 0.00019121658920753304, 'lambda_l2': 0.00107761450940178, 'num_leaves': 98, 'feature_fraction': 0.7923316732116508, 'bagging_fraction': 0.9967281299779387, 'bagging_freq': 3, 'min_child_samples': 15}. Best is trial 1 with value: 0.79625.\n",
      "[I 2024-01-18 10:39:37,488] Trial 17 finished with value: 0.7725 and parameters: {'lambda_l1': 3.474051968743099e-06, 'lambda_l2': 3.6717998683037453e-06, 'num_leaves': 158, 'feature_fraction': 0.9170482839028572, 'bagging_fraction': 0.8259012205718048, 'bagging_freq': 7, 'min_child_samples': 31}. Best is trial 1 with value: 0.79625.\n"
     ]
    },
    {
     "name": "stdout",
     "output_type": "stream",
     "text": [
      "Early stopping, best iteration is:\n",
      "[26]\tvalid_0's binary_error: 0.215625\n",
      "Training until validation scores don't improve for 10 rounds\n",
      "Early stopping, best iteration is:\n",
      "[10]\tvalid_0's binary_error: 0.2275\n"
     ]
    },
    {
     "name": "stderr",
     "output_type": "stream",
     "text": [
      "[I 2024-01-18 10:39:37,654] Trial 18 finished with value: 0.7825 and parameters: {'lambda_l1': 1.1046859769305174e-07, 'lambda_l2': 0.00020726884101386096, 'num_leaves': 213, 'feature_fraction': 0.7935526979763141, 'bagging_fraction': 0.7201986005110999, 'bagging_freq': 4, 'min_child_samples': 51}. Best is trial 1 with value: 0.79625.\n"
     ]
    },
    {
     "name": "stdout",
     "output_type": "stream",
     "text": [
      "Training until validation scores don't improve for 10 rounds\n",
      "Early stopping, best iteration is:\n",
      "[27]\tvalid_0's binary_error: 0.2175\n",
      "Training until validation scores don't improve for 10 rounds\n"
     ]
    },
    {
     "name": "stderr",
     "output_type": "stream",
     "text": [
      "[I 2024-01-18 10:39:37,959] Trial 19 finished with value: 0.79 and parameters: {'lambda_l1': 4.886382223268775e-06, 'lambda_l2': 1.8241699392830578e-06, 'num_leaves': 253, 'feature_fraction': 0.9297123929576765, 'bagging_fraction': 0.9213998842152392, 'bagging_freq': 5, 'min_child_samples': 62}. Best is trial 1 with value: 0.79625.\n"
     ]
    },
    {
     "name": "stdout",
     "output_type": "stream",
     "text": [
      "Early stopping, best iteration is:\n",
      "[40]\tvalid_0's binary_error: 0.21\n",
      "Training until validation scores don't improve for 10 rounds\n"
     ]
    },
    {
     "name": "stderr",
     "output_type": "stream",
     "text": [
      "[I 2024-01-18 10:39:38,331] Trial 20 finished with value: 0.78 and parameters: {'lambda_l1': 9.714327291169367e-05, 'lambda_l2': 2.2152264831097594e-08, 'num_leaves': 97, 'feature_fraction': 0.9879324566349356, 'bagging_fraction': 0.7949028106034383, 'bagging_freq': 2, 'min_child_samples': 40}. Best is trial 1 with value: 0.79625.\n"
     ]
    },
    {
     "name": "stdout",
     "output_type": "stream",
     "text": [
      "Early stopping, best iteration is:\n",
      "[18]\tvalid_0's binary_error: 0.22\n",
      "Training until validation scores don't improve for 10 rounds\n"
     ]
    },
    {
     "name": "stderr",
     "output_type": "stream",
     "text": [
      "[I 2024-01-18 10:39:38,638] Trial 21 finished with value: 0.7875 and parameters: {'lambda_l1': 2.9685504940612867e-06, 'lambda_l2': 3.6029561079505355e-06, 'num_leaves': 252, 'feature_fraction': 0.941303425229821, 'bagging_fraction': 0.9268847452762585, 'bagging_freq': 5, 'min_child_samples': 63}. Best is trial 1 with value: 0.79625.\n"
     ]
    },
    {
     "name": "stdout",
     "output_type": "stream",
     "text": [
      "Early stopping, best iteration is:\n",
      "[42]\tvalid_0's binary_error: 0.2125\n",
      "Training until validation scores don't improve for 10 rounds\n"
     ]
    },
    {
     "name": "stderr",
     "output_type": "stream",
     "text": [
      "[I 2024-01-18 10:39:38,927] Trial 22 finished with value: 0.789375 and parameters: {'lambda_l1': 3.536989418983939e-06, 'lambda_l2': 3.7114241000304386e-05, 'num_leaves': 209, 'feature_fraction': 0.8864198310521955, 'bagging_fraction': 0.8390098605690521, 'bagging_freq': 5, 'min_child_samples': 51}. Best is trial 1 with value: 0.79625.\n"
     ]
    },
    {
     "name": "stdout",
     "output_type": "stream",
     "text": [
      "Early stopping, best iteration is:\n",
      "[32]\tvalid_0's binary_error: 0.210625\n",
      "Training until validation scores don't improve for 10 rounds\n"
     ]
    },
    {
     "name": "stderr",
     "output_type": "stream",
     "text": [
      "[I 2024-01-18 10:39:39,193] Trial 23 finished with value: 0.785 and parameters: {'lambda_l1': 1.0231090304802138e-07, 'lambda_l2': 0.00039732200048327886, 'num_leaves': 255, 'feature_fraction': 0.940027039605046, 'bagging_fraction': 0.940571589292246, 'bagging_freq': 4, 'min_child_samples': 60}. Best is trial 1 with value: 0.79625.\n"
     ]
    },
    {
     "name": "stdout",
     "output_type": "stream",
     "text": [
      "Early stopping, best iteration is:\n",
      "[36]\tvalid_0's binary_error: 0.215\n",
      "Training until validation scores don't improve for 10 rounds\n"
     ]
    },
    {
     "name": "stderr",
     "output_type": "stream",
     "text": [
      "[I 2024-01-18 10:39:39,510] Trial 24 finished with value: 0.78375 and parameters: {'lambda_l1': 1.4971637246704572e-05, 'lambda_l2': 2.1528757335921685e-06, 'num_leaves': 226, 'feature_fraction': 0.9985130537029056, 'bagging_fraction': 0.9007337418210444, 'bagging_freq': 6, 'min_child_samples': 28}. Best is trial 1 with value: 0.79625.\n",
      "[I 2024-01-18 10:39:39,686] Trial 25 finished with value: 0.780625 and parameters: {'lambda_l1': 1.1289322283688711e-06, 'lambda_l2': 1.05010228082254e-05, 'num_leaves': 34, 'feature_fraction': 0.8819579172586702, 'bagging_fraction': 0.8183021622800378, 'bagging_freq': 4, 'min_child_samples': 44}. Best is trial 1 with value: 0.79625.\n"
     ]
    },
    {
     "name": "stdout",
     "output_type": "stream",
     "text": [
      "Early stopping, best iteration is:\n",
      "[35]\tvalid_0's binary_error: 0.21625\n",
      "Training until validation scores don't improve for 10 rounds\n",
      "Early stopping, best iteration is:\n",
      "[9]\tvalid_0's binary_error: 0.219375\n"
     ]
    },
    {
     "name": "stderr",
     "output_type": "stream",
     "text": [
      "[I 2024-01-18 10:39:39,927] Trial 26 finished with value: 0.786875 and parameters: {'lambda_l1': 0.00017989408512856137, 'lambda_l2': 7.458044371166784e-05, 'num_leaves': 148, 'feature_fraction': 0.9237613472841864, 'bagging_fraction': 0.8511450150043055, 'bagging_freq': 5, 'min_child_samples': 16}. Best is trial 1 with value: 0.79625.\n"
     ]
    },
    {
     "name": "stdout",
     "output_type": "stream",
     "text": [
      "Training until validation scores don't improve for 10 rounds\n",
      "Early stopping, best iteration is:\n",
      "[21]\tvalid_0's binary_error: 0.213125\n"
     ]
    },
    {
     "name": "stderr",
     "output_type": "stream",
     "text": [
      "[I 2024-01-18 10:39:40,154] Trial 27 finished with value: 0.781875 and parameters: {'lambda_l1': 2.3335955911527623e-05, 'lambda_l2': 0.0015498713243577871, 'num_leaves': 189, 'feature_fraction': 0.9564813086392583, 'bagging_fraction': 0.7977705812930709, 'bagging_freq': 3, 'min_child_samples': 37}. Best is trial 1 with value: 0.79625.\n"
     ]
    },
    {
     "name": "stdout",
     "output_type": "stream",
     "text": [
      "Training until validation scores don't improve for 10 rounds\n",
      "Early stopping, best iteration is:\n",
      "[24]\tvalid_0's binary_error: 0.218125\n",
      "Training until validation scores don't improve for 10 rounds\n"
     ]
    },
    {
     "name": "stderr",
     "output_type": "stream",
     "text": [
      "[I 2024-01-18 10:39:40,874] Trial 28 finished with value: 0.785 and parameters: {'lambda_l1': 4.726642467276007e-06, 'lambda_l2': 8.359294916880984e-07, 'num_leaves': 221, 'feature_fraction': 0.8559440466433639, 'bagging_fraction': 0.9562649368053984, 'bagging_freq': 6, 'min_child_samples': 6}. Best is trial 1 with value: 0.79625.\n"
     ]
    },
    {
     "name": "stdout",
     "output_type": "stream",
     "text": [
      "Early stopping, best iteration is:\n",
      "[38]\tvalid_0's binary_error: 0.215\n",
      "Training until validation scores don't improve for 10 rounds\n"
     ]
    },
    {
     "name": "stderr",
     "output_type": "stream",
     "text": [
      "[I 2024-01-18 10:39:41,055] Trial 29 finished with value: 0.786875 and parameters: {'lambda_l1': 1.1769419696440233e-06, 'lambda_l2': 1.7677060620456914e-05, 'num_leaves': 238, 'feature_fraction': 0.9456410940445842, 'bagging_fraction': 0.9057664054282096, 'bagging_freq': 4, 'min_child_samples': 82}. Best is trial 1 with value: 0.79625.\n",
      "[I 2024-01-18 10:39:41,235] Trial 30 finished with value: 0.784375 and parameters: {'lambda_l1': 3.112630025804238e-07, 'lambda_l2': 7.914542183171381e-07, 'num_leaves': 80, 'feature_fraction': 0.9478429140977653, 'bagging_fraction': 0.7766630333440604, 'bagging_freq': 7, 'min_child_samples': 56}. Best is trial 1 with value: 0.79625.\n"
     ]
    },
    {
     "name": "stdout",
     "output_type": "stream",
     "text": [
      "Early stopping, best iteration is:\n",
      "[31]\tvalid_0's binary_error: 0.213125\n",
      "Training until validation scores don't improve for 10 rounds\n",
      "Early stopping, best iteration is:\n",
      "[23]\tvalid_0's binary_error: 0.215625\n"
     ]
    },
    {
     "name": "stderr",
     "output_type": "stream",
     "text": [
      "[I 2024-01-18 10:39:41,453] Trial 31 finished with value: 0.7875 and parameters: {'lambda_l1': 1.941832218341489e-06, 'lambda_l2': 4.2400445395538384e-05, 'num_leaves': 203, 'feature_fraction': 0.8890517884089398, 'bagging_fraction': 0.8493353461805282, 'bagging_freq': 5, 'min_child_samples': 49}. Best is trial 1 with value: 0.79625.\n"
     ]
    },
    {
     "name": "stdout",
     "output_type": "stream",
     "text": [
      "Training until validation scores don't improve for 10 rounds\n",
      "Early stopping, best iteration is:\n",
      "[33]\tvalid_0's binary_error: 0.2125\n"
     ]
    },
    {
     "name": "stderr",
     "output_type": "stream",
     "text": [
      "[I 2024-01-18 10:39:41,641] Trial 32 finished with value: 0.78375 and parameters: {'lambda_l1': 5.1041821929062846e-06, 'lambda_l2': 9.361009371188613e-06, 'num_leaves': 240, 'feature_fraction': 0.8925711450223257, 'bagging_fraction': 0.851027510699949, 'bagging_freq': 5, 'min_child_samples': 69}. Best is trial 1 with value: 0.79625.\n"
     ]
    },
    {
     "name": "stdout",
     "output_type": "stream",
     "text": [
      "Training until validation scores don't improve for 10 rounds\n",
      "Early stopping, best iteration is:\n",
      "[12]\tvalid_0's binary_error: 0.21625\n",
      "Training until validation scores don't improve for 10 rounds\n"
     ]
    },
    {
     "name": "stderr",
     "output_type": "stream",
     "text": [
      "[I 2024-01-18 10:39:42,014] Trial 33 finished with value: 0.785 and parameters: {'lambda_l1': 5.9778178444602366e-05, 'lambda_l2': 0.00015831100421296703, 'num_leaves': 253, 'feature_fraction': 0.9672011923244679, 'bagging_fraction': 0.8910973667982558, 'bagging_freq': 5, 'min_child_samples': 46}. Best is trial 1 with value: 0.79625.\n",
      "[I 2024-01-18 10:39:42,175] Trial 34 finished with value: 0.781875 and parameters: {'lambda_l1': 1.1014661511226842e-05, 'lambda_l2': 4.900103290223625e-05, 'num_leaves': 192, 'feature_fraction': 0.8241894162941524, 'bagging_fraction': 0.7948339826061744, 'bagging_freq': 4, 'min_child_samples': 66}. Best is trial 1 with value: 0.79625.\n"
     ]
    },
    {
     "name": "stdout",
     "output_type": "stream",
     "text": [
      "Early stopping, best iteration is:\n",
      "[27]\tvalid_0's binary_error: 0.215\n",
      "Training until validation scores don't improve for 10 rounds\n",
      "Early stopping, best iteration is:\n",
      "[22]\tvalid_0's binary_error: 0.218125\n",
      "Training until validation scores don't improve for 10 rounds\n",
      "Early stopping, best iteration is:\n",
      "[17]\tvalid_0's binary_error: 0.221875\n"
     ]
    },
    {
     "name": "stderr",
     "output_type": "stream",
     "text": [
      "[I 2024-01-18 10:39:42,522] Trial 35 finished with value: 0.778125 and parameters: {'lambda_l1': 4.014550643031728e-05, 'lambda_l2': 0.00041705428211867004, 'num_leaves': 229, 'feature_fraction': 0.9174679881644633, 'bagging_fraction': 0.8239221232451271, 'bagging_freq': 6, 'min_child_samples': 24}. Best is trial 1 with value: 0.79625.\n",
      "[I 2024-01-18 10:39:42,730] Trial 36 finished with value: 0.7825 and parameters: {'lambda_l1': 7.499470373568332e-06, 'lambda_l2': 7.793070133351932e-06, 'num_leaves': 33, 'feature_fraction': 0.9626568708512654, 'bagging_fraction': 0.7515097399756405, 'bagging_freq': 4, 'min_child_samples': 57}. Best is trial 1 with value: 0.79625.\n"
     ]
    },
    {
     "name": "stdout",
     "output_type": "stream",
     "text": [
      "Training until validation scores don't improve for 10 rounds\n",
      "Early stopping, best iteration is:\n",
      "[25]\tvalid_0's binary_error: 0.2175\n",
      "Training until validation scores don't improve for 10 rounds\n"
     ]
    },
    {
     "name": "stderr",
     "output_type": "stream",
     "text": [
      "[I 2024-01-18 10:39:42,995] Trial 37 finished with value: 0.788125 and parameters: {'lambda_l1': 1.0925268100013525e-06, 'lambda_l2': 0.003413806110021565, 'num_leaves': 216, 'feature_fraction': 0.6160681358690527, 'bagging_fraction': 0.9175284070545864, 'bagging_freq': 5, 'min_child_samples': 36}. Best is trial 1 with value: 0.79625.\n"
     ]
    },
    {
     "name": "stdout",
     "output_type": "stream",
     "text": [
      "Early stopping, best iteration is:\n",
      "[26]\tvalid_0's binary_error: 0.211875\n",
      "Training until validation scores don't improve for 10 rounds\n"
     ]
    },
    {
     "name": "stderr",
     "output_type": "stream",
     "text": [
      "[I 2024-01-18 10:39:43,368] Trial 38 finished with value: 0.789375 and parameters: {'lambda_l1': 2.235890308786985e-05, 'lambda_l2': 5.867627903489176e-05, 'num_leaves': 206, 'feature_fraction': 0.9087833381664718, 'bagging_fraction': 0.9610071500307339, 'bagging_freq': 1, 'min_child_samples': 87}. Best is trial 1 with value: 0.79625.\n"
     ]
    },
    {
     "name": "stdout",
     "output_type": "stream",
     "text": [
      "Early stopping, best iteration is:\n",
      "[46]\tvalid_0's binary_error: 0.210625\n",
      "Training until validation scores don't improve for 10 rounds\n"
     ]
    },
    {
     "name": "stderr",
     "output_type": "stream",
     "text": [
      "[I 2024-01-18 10:39:43,653] Trial 39 finished with value: 0.78875 and parameters: {'lambda_l1': 0.0004060852306174951, 'lambda_l2': 0.0001605319965653228, 'num_leaves': 124, 'feature_fraction': 0.8409776772792067, 'bagging_fraction': 0.7097909711582711, 'bagging_freq': 3, 'min_child_samples': 24}. Best is trial 1 with value: 0.79625.\n"
     ]
    },
    {
     "name": "stdout",
     "output_type": "stream",
     "text": [
      "Early stopping, best iteration is:\n",
      "[27]\tvalid_0's binary_error: 0.21125\n",
      "Training until validation scores don't improve for 10 rounds\n"
     ]
    },
    {
     "name": "stderr",
     "output_type": "stream",
     "text": [
      "[I 2024-01-18 10:39:43,952] Trial 40 finished with value: 0.785625 and parameters: {'lambda_l1': 8.371817653011064e-06, 'lambda_l2': 8.459788120053279e-07, 'num_leaves': 242, 'feature_fraction': 0.8689252244173451, 'bagging_fraction': 0.8595968263840524, 'bagging_freq': 6, 'min_child_samples': 75}. Best is trial 1 with value: 0.79625.\n"
     ]
    },
    {
     "name": "stdout",
     "output_type": "stream",
     "text": [
      "Early stopping, best iteration is:\n",
      "[30]\tvalid_0's binary_error: 0.214375\n",
      "Training until validation scores don't improve for 10 rounds\n"
     ]
    },
    {
     "name": "stderr",
     "output_type": "stream",
     "text": [
      "[I 2024-01-18 10:39:44,202] Trial 41 finished with value: 0.78 and parameters: {'lambda_l1': 2.7824191738912165e-05, 'lambda_l2': 2.593628135892009e-05, 'num_leaves': 202, 'feature_fraction': 0.9187300459149345, 'bagging_fraction': 0.954689795348109, 'bagging_freq': 5, 'min_child_samples': 91}. Best is trial 1 with value: 0.79625.\n"
     ]
    },
    {
     "name": "stdout",
     "output_type": "stream",
     "text": [
      "Early stopping, best iteration is:\n",
      "[21]\tvalid_0's binary_error: 0.22\n",
      "Training until validation scores don't improve for 10 rounds\n"
     ]
    },
    {
     "name": "stderr",
     "output_type": "stream",
     "text": [
      "[I 2024-01-18 10:39:44,441] Trial 42 finished with value: 0.778125 and parameters: {'lambda_l1': 2.343740155407421e-06, 'lambda_l2': 6.989992482678784e-05, 'num_leaves': 174, 'feature_fraction': 0.8923796877278528, 'bagging_fraction': 0.9648122788629403, 'bagging_freq': 1, 'min_child_samples': 83}. Best is trial 1 with value: 0.79625.\n"
     ]
    },
    {
     "name": "stdout",
     "output_type": "stream",
     "text": [
      "Early stopping, best iteration is:\n",
      "[23]\tvalid_0's binary_error: 0.221875\n",
      "Training until validation scores don't improve for 10 rounds\n"
     ]
    },
    {
     "name": "stderr",
     "output_type": "stream",
     "text": [
      "[I 2024-01-18 10:39:44,678] Trial 43 finished with value: 0.78125 and parameters: {'lambda_l1': 2.0841333035782355e-05, 'lambda_l2': 5.98012552210476e-06, 'num_leaves': 144, 'feature_fraction': 0.9619415053108255, 'bagging_fraction': 0.9124700530825804, 'bagging_freq': 2, 'min_child_samples': 88}. Best is trial 1 with value: 0.79625.\n"
     ]
    },
    {
     "name": "stdout",
     "output_type": "stream",
     "text": [
      "Early stopping, best iteration is:\n",
      "[27]\tvalid_0's binary_error: 0.21875\n",
      "Training until validation scores don't improve for 10 rounds\n"
     ]
    },
    {
     "name": "stderr",
     "output_type": "stream",
     "text": [
      "[I 2024-01-18 10:39:45,129] Trial 44 finished with value: 0.78625 and parameters: {'lambda_l1': 5.716054074115881e-07, 'lambda_l2': 2.4046373850860245e-05, 'num_leaves': 208, 'feature_fraction': 0.9741177114352525, 'bagging_fraction': 0.9656035516883013, 'bagging_freq': 1, 'min_child_samples': 42}. Best is trial 1 with value: 0.79625.\n"
     ]
    },
    {
     "name": "stdout",
     "output_type": "stream",
     "text": [
      "Early stopping, best iteration is:\n",
      "[36]\tvalid_0's binary_error: 0.21375\n",
      "Training until validation scores don't improve for 10 rounds\n"
     ]
    },
    {
     "name": "stderr",
     "output_type": "stream",
     "text": [
      "[I 2024-01-18 10:39:45,522] Trial 45 finished with value: 0.785625 and parameters: {'lambda_l1': 7.77601516111624e-05, 'lambda_l2': 0.000492315857569589, 'num_leaves': 185, 'feature_fraction': 0.9331665079227249, 'bagging_fraction': 0.9196991659976339, 'bagging_freq': 1, 'min_child_samples': 11}. Best is trial 1 with value: 0.79625.\n"
     ]
    },
    {
     "name": "stdout",
     "output_type": "stream",
     "text": [
      "Early stopping, best iteration is:\n",
      "[25]\tvalid_0's binary_error: 0.214375\n",
      "Training until validation scores don't improve for 10 rounds\n"
     ]
    },
    {
     "name": "stderr",
     "output_type": "stream",
     "text": [
      "[I 2024-01-18 10:39:46,107] Trial 46 finished with value: 0.78375 and parameters: {'lambda_l1': 1.166081900906789e-05, 'lambda_l2': 0.00010260570020584243, 'num_leaves': 230, 'feature_fraction': 0.991666657511862, 'bagging_fraction': 0.8873402649284663, 'bagging_freq': 6, 'min_child_samples': 21}. Best is trial 1 with value: 0.79625.\n"
     ]
    },
    {
     "name": "stdout",
     "output_type": "stream",
     "text": [
      "Early stopping, best iteration is:\n",
      "[36]\tvalid_0's binary_error: 0.21625\n",
      "Training until validation scores don't improve for 10 rounds\n"
     ]
    },
    {
     "name": "stderr",
     "output_type": "stream",
     "text": [
      "[I 2024-01-18 10:39:46,440] Trial 47 finished with value: 0.784375 and parameters: {'lambda_l1': 3.1415723064803844e-06, 'lambda_l2': 3.5319975436216004e-05, 'num_leaves': 245, 'feature_fraction': 0.9078532471095693, 'bagging_fraction': 0.9802272331377457, 'bagging_freq': 2, 'min_child_samples': 48}. Best is trial 1 with value: 0.79625.\n",
      "[I 2024-01-18 10:39:46,603] Trial 48 finished with value: 0.78 and parameters: {'lambda_l1': 0.0020317684957214498, 'lambda_l2': 1.0013881342033134e-05, 'num_leaves': 162, 'feature_fraction': 0.8693965560521414, 'bagging_fraction': 0.8788049221204015, 'bagging_freq': 7, 'min_child_samples': 73}. Best is trial 1 with value: 0.79625.\n"
     ]
    },
    {
     "name": "stdout",
     "output_type": "stream",
     "text": [
      "Early stopping, best iteration is:\n",
      "[33]\tvalid_0's binary_error: 0.215625\n",
      "Training until validation scores don't improve for 10 rounds\n",
      "Early stopping, best iteration is:\n",
      "[15]\tvalid_0's binary_error: 0.22\n"
     ]
    },
    {
     "name": "stderr",
     "output_type": "stream",
     "text": [
      "[I 2024-01-18 10:39:46,787] Trial 49 finished with value: 0.78625 and parameters: {'lambda_l1': 2.3380010901317678e-07, 'lambda_l2': 1.668809848584729e-06, 'num_leaves': 80, 'feature_fraction': 0.9995170582834227, 'bagging_fraction': 0.9981382186067302, 'bagging_freq': 3, 'min_child_samples': 80}. Best is trial 1 with value: 0.79625.\n"
     ]
    },
    {
     "name": "stdout",
     "output_type": "stream",
     "text": [
      "Training until validation scores don't improve for 10 rounds\n",
      "Early stopping, best iteration is:\n",
      "[30]\tvalid_0's binary_error: 0.21375\n",
      "Training until validation scores don't improve for 10 rounds\n"
     ]
    },
    {
     "name": "stderr",
     "output_type": "stream",
     "text": [
      "[I 2024-01-18 10:39:47,196] Trial 50 finished with value: 0.79 and parameters: {'lambda_l1': 4.272809660084489e-05, 'lambda_l2': 2.223631052225439e-07, 'num_leaves': 113, 'feature_fraction': 0.8245134722789079, 'bagging_fraction': 0.9392031429713229, 'bagging_freq': 4, 'min_child_samples': 60}. Best is trial 1 with value: 0.79625.\n"
     ]
    },
    {
     "name": "stdout",
     "output_type": "stream",
     "text": [
      "Early stopping, best iteration is:\n",
      "[44]\tvalid_0's binary_error: 0.21\n",
      "Training until validation scores don't improve for 10 rounds\n"
     ]
    },
    {
     "name": "stderr",
     "output_type": "stream",
     "text": [
      "[I 2024-01-18 10:39:47,525] Trial 51 finished with value: 0.7875 and parameters: {'lambda_l1': 3.470470003535831e-05, 'lambda_l2': 2.961962836081527e-07, 'num_leaves': 112, 'feature_fraction': 0.8243949421851733, 'bagging_fraction': 0.9421540205685629, 'bagging_freq': 4, 'min_child_samples': 60}. Best is trial 1 with value: 0.79625.\n"
     ]
    },
    {
     "name": "stdout",
     "output_type": "stream",
     "text": [
      "Early stopping, best iteration is:\n",
      "[34]\tvalid_0's binary_error: 0.2125\n",
      "Training until validation scores don't improve for 10 rounds\n"
     ]
    },
    {
     "name": "stderr",
     "output_type": "stream",
     "text": [
      "[I 2024-01-18 10:39:47,819] Trial 52 finished with value: 0.781875 and parameters: {'lambda_l1': 0.00011385767106401029, 'lambda_l2': 5.8354279000738494e-08, 'num_leaves': 137, 'feature_fraction': 0.9046256718981249, 'bagging_fraction': 0.9321128989538906, 'bagging_freq': 5, 'min_child_samples': 100}. Best is trial 1 with value: 0.79625.\n"
     ]
    },
    {
     "name": "stdout",
     "output_type": "stream",
     "text": [
      "Early stopping, best iteration is:\n",
      "[33]\tvalid_0's binary_error: 0.218125\n",
      "Training until validation scores don't improve for 10 rounds\n"
     ]
    },
    {
     "name": "stderr",
     "output_type": "stream",
     "text": [
      "[I 2024-01-18 10:39:48,092] Trial 53 finished with value: 0.780625 and parameters: {'lambda_l1': 7.853557865159198e-06, 'lambda_l2': 2.1993012755384053e-07, 'num_leaves': 42, 'feature_fraction': 0.9317900280920202, 'bagging_fraction': 0.9706161441976844, 'bagging_freq': 4, 'min_child_samples': 66}. Best is trial 1 with value: 0.79625.\n"
     ]
    },
    {
     "name": "stdout",
     "output_type": "stream",
     "text": [
      "Early stopping, best iteration is:\n",
      "[13]\tvalid_0's binary_error: 0.219375\n",
      "Training until validation scores don't improve for 10 rounds\n"
     ]
    },
    {
     "name": "stderr",
     "output_type": "stream",
     "text": [
      "[I 2024-01-18 10:39:48,408] Trial 54 finished with value: 0.788125 and parameters: {'lambda_l1': 2.174411593664935e-05, 'lambda_l2': 5.233870028055318e-06, 'num_leaves': 70, 'feature_fraction': 0.8441894464307429, 'bagging_fraction': 0.8704281684922416, 'bagging_freq': 5, 'min_child_samples': 53}. Best is trial 1 with value: 0.79625.\n"
     ]
    },
    {
     "name": "stdout",
     "output_type": "stream",
     "text": [
      "Early stopping, best iteration is:\n",
      "[19]\tvalid_0's binary_error: 0.211875\n",
      "Training until validation scores don't improve for 10 rounds\n"
     ]
    },
    {
     "name": "stderr",
     "output_type": "stream",
     "text": [
      "[I 2024-01-18 10:39:48,728] Trial 55 finished with value: 0.785625 and parameters: {'lambda_l1': 1.761387969312099e-06, 'lambda_l2': 1.6919524517408123e-05, 'num_leaves': 108, 'feature_fraction': 0.874262317528638, 'bagging_fraction': 0.9061652353408527, 'bagging_freq': 3, 'min_child_samples': 65}. Best is trial 1 with value: 0.79625.\n",
      "[I 2024-01-18 10:39:48,874] Trial 56 finished with value: 0.770625 and parameters: {'lambda_l1': 4.498443176694268e-06, 'lambda_l2': 0.00022332973464581765, 'num_leaves': 14, 'feature_fraction': 0.9636638807678134, 'bagging_fraction': 0.9414216833972152, 'bagging_freq': 4, 'min_child_samples': 58}. Best is trial 1 with value: 0.79625.\n"
     ]
    },
    {
     "name": "stdout",
     "output_type": "stream",
     "text": [
      "Early stopping, best iteration is:\n",
      "[20]\tvalid_0's binary_error: 0.214375\n",
      "Training until validation scores don't improve for 10 rounds\n",
      "Early stopping, best iteration is:\n",
      "[4]\tvalid_0's binary_error: 0.229375\n"
     ]
    },
    {
     "name": "stderr",
     "output_type": "stream",
     "text": [
      "[I 2024-01-18 10:39:49,211] Trial 57 finished with value: 0.791875 and parameters: {'lambda_l1': 4.921851476158662e-05, 'lambda_l2': 4.768574516836683e-07, 'num_leaves': 162, 'feature_fraction': 0.9297139360340191, 'bagging_fraction': 0.8293650856962521, 'bagging_freq': 5, 'min_child_samples': 33}. Best is trial 1 with value: 0.79625.\n"
     ]
    },
    {
     "name": "stdout",
     "output_type": "stream",
     "text": [
      "Training until validation scores don't improve for 10 rounds\n",
      "Early stopping, best iteration is:\n",
      "[29]\tvalid_0's binary_error: 0.208125\n",
      "Training until validation scores don't improve for 10 rounds\n",
      "Early stopping, best iteration is:\n",
      "[11]\tvalid_0's binary_error: 0.225625\n"
     ]
    },
    {
     "name": "stderr",
     "output_type": "stream",
     "text": [
      "[I 2024-01-18 10:39:49,614] Trial 58 finished with value: 0.774375 and parameters: {'lambda_l1': 0.00021402973377199696, 'lambda_l2': 7.462936229990013e-08, 'num_leaves': 160, 'feature_fraction': 0.9814181349764948, 'bagging_fraction': 0.8347328725504795, 'bagging_freq': 5, 'min_child_samples': 28}. Best is trial 1 with value: 0.79625.\n",
      "[I 2024-01-18 10:39:49,926] Trial 59 finished with value: 0.778125 and parameters: {'lambda_l1': 5.699087773280783e-05, 'lambda_l2': 4.3428014812545834e-07, 'num_leaves': 87, 'feature_fraction': 0.9344152014061924, 'bagging_fraction': 0.8167367045739278, 'bagging_freq': 4, 'min_child_samples': 33}. Best is trial 1 with value: 0.79625.\n"
     ]
    },
    {
     "name": "stdout",
     "output_type": "stream",
     "text": [
      "Training until validation scores don't improve for 10 rounds\n",
      "Early stopping, best iteration is:\n",
      "[12]\tvalid_0's binary_error: 0.221875\n"
     ]
    },
    {
     "name": "stderr",
     "output_type": "stream",
     "text": [
      "[I 2024-01-18 10:39:50,253] Trial 60 finished with value: 0.785625 and parameters: {'lambda_l1': 0.00044860692702624135, 'lambda_l2': 1.8062958769505254e-06, 'num_leaves': 61, 'feature_fraction': 0.9792360615332999, 'bagging_fraction': 0.7749711871666575, 'bagging_freq': 5, 'min_child_samples': 51}. Best is trial 1 with value: 0.79625.\n"
     ]
    },
    {
     "name": "stdout",
     "output_type": "stream",
     "text": [
      "Training until validation scores don't improve for 10 rounds\n",
      "Early stopping, best iteration is:\n",
      "[31]\tvalid_0's binary_error: 0.214375\n",
      "Training until validation scores don't improve for 10 rounds\n",
      "Early stopping, best iteration is:\n",
      "[29]\tvalid_0's binary_error: 0.214375\n"
     ]
    },
    {
     "name": "stderr",
     "output_type": "stream",
     "text": [
      "[I 2024-01-18 10:39:50,585] Trial 61 finished with value: 0.785625 and parameters: {'lambda_l1': 1.4655645520951201e-05, 'lambda_l2': 3.1403890839155113e-06, 'num_leaves': 195, 'feature_fraction': 0.8994348249739494, 'bagging_fraction': 0.8712656625975864, 'bagging_freq': 6, 'min_child_samples': 37}. Best is trial 1 with value: 0.79625.\n"
     ]
    },
    {
     "name": "stdout",
     "output_type": "stream",
     "text": [
      "Training until validation scores don't improve for 10 rounds\n"
     ]
    },
    {
     "name": "stderr",
     "output_type": "stream",
     "text": [
      "[I 2024-01-18 10:39:50,959] Trial 62 finished with value: 0.78125 and parameters: {'lambda_l1': 0.00011671640118170931, 'lambda_l2': 1.0035917043002595e-07, 'num_leaves': 180, 'feature_fraction': 0.9507201128495246, 'bagging_fraction': 0.8932606341613297, 'bagging_freq': 5, 'min_child_samples': 29}. Best is trial 1 with value: 0.79625.\n"
     ]
    },
    {
     "name": "stdout",
     "output_type": "stream",
     "text": [
      "Early stopping, best iteration is:\n",
      "[27]\tvalid_0's binary_error: 0.21875\n",
      "Training until validation scores don't improve for 10 rounds\n"
     ]
    },
    {
     "name": "stderr",
     "output_type": "stream",
     "text": [
      "[I 2024-01-18 10:39:51,265] Trial 63 finished with value: 0.78625 and parameters: {'lambda_l1': 3.2640195311029976e-05, 'lambda_l2': 7.373310727127138e-05, 'num_leaves': 222, 'feature_fraction': 0.922829102935555, 'bagging_fraction': 0.8311677062215147, 'bagging_freq': 4, 'min_child_samples': 40}. Best is trial 1 with value: 0.79625.\n"
     ]
    },
    {
     "name": "stdout",
     "output_type": "stream",
     "text": [
      "Early stopping, best iteration is:\n",
      "[31]\tvalid_0's binary_error: 0.21375\n",
      "Training until validation scores don't improve for 10 rounds\n"
     ]
    },
    {
     "name": "stderr",
     "output_type": "stream",
     "text": [
      "[I 2024-01-18 10:39:51,557] Trial 64 finished with value: 0.786875 and parameters: {'lambda_l1': 4.588905504849106e-06, 'lambda_l2': 4.88972664587387e-07, 'num_leaves': 168, 'feature_fraction': 0.8859510210064511, 'bagging_fraction': 0.8508079428121715, 'bagging_freq': 5, 'min_child_samples': 46}. Best is trial 1 with value: 0.79625.\n"
     ]
    },
    {
     "name": "stdout",
     "output_type": "stream",
     "text": [
      "Early stopping, best iteration is:\n",
      "[27]\tvalid_0's binary_error: 0.213125\n",
      "Training until validation scores don't improve for 10 rounds\n"
     ]
    },
    {
     "name": "stderr",
     "output_type": "stream",
     "text": [
      "[I 2024-01-18 10:39:51,883] Trial 65 finished with value: 0.785625 and parameters: {'lambda_l1': 1.401793953814399e-05, 'lambda_l2': 1.3936815370611475e-05, 'num_leaves': 249, 'feature_fraction': 0.9484583846674656, 'bagging_fraction': 0.981640964370243, 'bagging_freq': 6, 'min_child_samples': 34}. Best is trial 1 with value: 0.79625.\n"
     ]
    },
    {
     "name": "stdout",
     "output_type": "stream",
     "text": [
      "Early stopping, best iteration is:\n",
      "[11]\tvalid_0's binary_error: 0.214375\n",
      "Training until validation scores don't improve for 10 rounds\n",
      "Early stopping, best iteration is:\n",
      "[30]\tvalid_0's binary_error: 0.219375\n"
     ]
    },
    {
     "name": "stderr",
     "output_type": "stream",
     "text": [
      "[I 2024-01-18 10:39:52,055] Trial 66 finished with value: 0.780625 and parameters: {'lambda_l1': 6.316309873290302e-05, 'lambda_l2': 1.777450631312935e-07, 'num_leaves': 237, 'feature_fraction': 0.9130852275775271, 'bagging_fraction': 0.7312315891568829, 'bagging_freq': 4, 'min_child_samples': 62}. Best is trial 1 with value: 0.79625.\n",
      "[I 2024-01-18 10:39:52,279] Trial 67 finished with value: 0.784375 and parameters: {'lambda_l1': 2.032162204780389e-06, 'lambda_l2': 1.3006209439553816e-08, 'num_leaves': 213, 'feature_fraction': 0.9773107136632165, 'bagging_fraction': 0.9004554298368198, 'bagging_freq': 5, 'min_child_samples': 54}. Best is trial 1 with value: 0.79625.\n"
     ]
    },
    {
     "name": "stdout",
     "output_type": "stream",
     "text": [
      "Training until validation scores don't improve for 10 rounds\n",
      "Early stopping, best iteration is:\n",
      "[31]\tvalid_0's binary_error: 0.215625\n",
      "Training until validation scores don't improve for 10 rounds\n"
     ]
    },
    {
     "name": "stderr",
     "output_type": "stream",
     "text": [
      "[I 2024-01-18 10:39:52,431] Trial 68 finished with value: 0.78125 and parameters: {'lambda_l1': 6.242693553273257e-07, 'lambda_l2': 4.540951011919935e-06, 'num_leaves': 112, 'feature_fraction': 0.8553213692668388, 'bagging_fraction': 0.9234551337655028, 'bagging_freq': 6, 'min_child_samples': 69}. Best is trial 1 with value: 0.79625.\n"
     ]
    },
    {
     "name": "stdout",
     "output_type": "stream",
     "text": [
      "Early stopping, best iteration is:\n",
      "[23]\tvalid_0's binary_error: 0.21875\n",
      "Training until validation scores don't improve for 10 rounds\n",
      "Early stopping, best iteration is:\n",
      "[21]\tvalid_0's binary_error: 0.214375\n"
     ]
    },
    {
     "name": "stderr",
     "output_type": "stream",
     "text": [
      "[I 2024-01-18 10:39:52,647] Trial 69 finished with value: 0.785625 and parameters: {'lambda_l1': 8.327064523196966e-06, 'lambda_l2': 1.2820395527492261e-06, 'num_leaves': 134, 'feature_fraction': 0.9371858377970071, 'bagging_fraction': 0.8064127961588899, 'bagging_freq': 3, 'min_child_samples': 12}. Best is trial 1 with value: 0.79625.\n",
      "[I 2024-01-18 10:39:52,913] Trial 70 finished with value: 0.7875 and parameters: {'lambda_l1': 3.825380927683079e-05, 'lambda_l2': 3.931322263162144e-05, 'num_leaves': 124, 'feature_fraction': 0.8004109973174323, 'bagging_fraction': 0.8616369425501432, 'bagging_freq': 2, 'min_child_samples': 20}. Best is trial 1 with value: 0.79625.\n"
     ]
    },
    {
     "name": "stdout",
     "output_type": "stream",
     "text": [
      "Training until validation scores don't improve for 10 rounds\n",
      "Early stopping, best iteration is:\n",
      "[26]\tvalid_0's binary_error: 0.2125\n"
     ]
    },
    {
     "name": "stderr",
     "output_type": "stream",
     "text": [
      "[I 2024-01-18 10:39:53,186] Trial 71 finished with value: 0.783125 and parameters: {'lambda_l1': 0.00043976626553040064, 'lambda_l2': 0.00011138257028872722, 'num_leaves': 121, 'feature_fraction': 0.8828160421911024, 'bagging_fraction': 0.660063320591061, 'bagging_freq': 3, 'min_child_samples': 24}. Best is trial 1 with value: 0.79625.\n"
     ]
    },
    {
     "name": "stdout",
     "output_type": "stream",
     "text": [
      "Training until validation scores don't improve for 10 rounds\n",
      "Early stopping, best iteration is:\n",
      "[13]\tvalid_0's binary_error: 0.216875\n",
      "Training until validation scores don't improve for 10 rounds\n",
      "Early stopping, best iteration is:\n",
      "[21]\tvalid_0's binary_error: 0.213125\n"
     ]
    },
    {
     "name": "stderr",
     "output_type": "stream",
     "text": [
      "[I 2024-01-18 10:39:53,547] Trial 72 finished with value: 0.786875 and parameters: {'lambda_l1': 0.00016241138133549413, 'lambda_l2': 0.00018993810037701197, 'num_leaves': 148, 'feature_fraction': 0.83622646495267, 'bagging_fraction': 0.7710840166438419, 'bagging_freq': 4, 'min_child_samples': 27}. Best is trial 1 with value: 0.79625.\n",
      "[I 2024-01-18 10:39:53,794] Trial 73 finished with value: 0.783125 and parameters: {'lambda_l1': 2.0058144674571978e-05, 'lambda_l2': 0.0005948285872985533, 'num_leaves': 104, 'feature_fraction': 0.8606252122833334, 'bagging_fraction': 0.7195203380002101, 'bagging_freq': 3, 'min_child_samples': 31}. Best is trial 1 with value: 0.79625.\n"
     ]
    },
    {
     "name": "stdout",
     "output_type": "stream",
     "text": [
      "Training until validation scores don't improve for 10 rounds\n",
      "Early stopping, best iteration is:\n",
      "[34]\tvalid_0's binary_error: 0.216875\n"
     ]
    },
    {
     "name": "stderr",
     "output_type": "stream",
     "text": [
      "[I 2024-01-18 10:39:54,185] Trial 74 finished with value: 0.778125 and parameters: {'lambda_l1': 0.00032892641986557536, 'lambda_l2': 0.00022639764097408038, 'num_leaves': 94, 'feature_fraction': 0.9024802406685082, 'bagging_fraction': 0.8405876212459577, 'bagging_freq': 5, 'min_child_samples': 43}. Best is trial 1 with value: 0.79625.\n"
     ]
    },
    {
     "name": "stdout",
     "output_type": "stream",
     "text": [
      "Training until validation scores don't improve for 10 rounds\n",
      "Early stopping, best iteration is:\n",
      "[11]\tvalid_0's binary_error: 0.221875\n",
      "Training until validation scores don't improve for 10 rounds\n"
     ]
    },
    {
     "name": "stderr",
     "output_type": "stream",
     "text": [
      "[I 2024-01-18 10:39:54,518] Trial 75 finished with value: 0.790625 and parameters: {'lambda_l1': 0.00010664683953259696, 'lambda_l2': 6.417302859199808e-05, 'num_leaves': 256, 'feature_fraction': 0.7604090718058931, 'bagging_fraction': 0.7856328392851513, 'bagging_freq': 1, 'min_child_samples': 22}. Best is trial 1 with value: 0.79625.\n"
     ]
    },
    {
     "name": "stdout",
     "output_type": "stream",
     "text": [
      "Early stopping, best iteration is:\n",
      "[37]\tvalid_0's binary_error: 0.209375\n",
      "Training until validation scores don't improve for 10 rounds\n"
     ]
    },
    {
     "name": "stderr",
     "output_type": "stream",
     "text": [
      "[I 2024-01-18 10:39:54,844] Trial 76 finished with value: 0.78375 and parameters: {'lambda_l1': 9.151327567083953e-05, 'lambda_l2': 5.7663474980070805e-05, 'num_leaves': 254, 'feature_fraction': 0.7454740983540287, 'bagging_fraction': 0.7966095879317276, 'bagging_freq': 1, 'min_child_samples': 21}. Best is trial 1 with value: 0.79625.\n"
     ]
    },
    {
     "name": "stdout",
     "output_type": "stream",
     "text": [
      "Early stopping, best iteration is:\n",
      "[13]\tvalid_0's binary_error: 0.21625\n",
      "Training until validation scores don't improve for 10 rounds\n"
     ]
    },
    {
     "name": "stderr",
     "output_type": "stream",
     "text": [
      "[I 2024-01-18 10:39:55,284] Trial 77 finished with value: 0.7875 and parameters: {'lambda_l1': 4.587718050898853e-06, 'lambda_l2': 2.1353633219600283e-05, 'num_leaves': 233, 'feature_fraction': 0.9558979214450526, 'bagging_fraction': 0.8125314903112374, 'bagging_freq': 1, 'min_child_samples': 39}. Best is trial 1 with value: 0.79625.\n"
     ]
    },
    {
     "name": "stdout",
     "output_type": "stream",
     "text": [
      "Early stopping, best iteration is:\n",
      "[39]\tvalid_0's binary_error: 0.2125\n",
      "Training until validation scores don't improve for 10 rounds\n"
     ]
    },
    {
     "name": "stderr",
     "output_type": "stream",
     "text": [
      "[I 2024-01-18 10:39:55,585] Trial 78 finished with value: 0.780625 and parameters: {'lambda_l1': 4.667276745826642e-05, 'lambda_l2': 8.106633489667575e-06, 'num_leaves': 247, 'feature_fraction': 0.9278306954972724, 'bagging_fraction': 0.8869274393352495, 'bagging_freq': 1, 'min_child_samples': 18}. Best is trial 1 with value: 0.79625.\n"
     ]
    },
    {
     "name": "stdout",
     "output_type": "stream",
     "text": [
      "Early stopping, best iteration is:\n",
      "[9]\tvalid_0's binary_error: 0.219375\n",
      "Training until validation scores don't improve for 10 rounds\n"
     ]
    },
    {
     "name": "stderr",
     "output_type": "stream",
     "text": [
      "[I 2024-01-18 10:39:55,793] Trial 79 finished with value: 0.780625 and parameters: {'lambda_l1': 6.935411913696841e-06, 'lambda_l2': 3.249616388293639e-06, 'num_leaves': 223, 'feature_fraction': 0.8810957977547235, 'bagging_fraction': 0.7552785183785875, 'bagging_freq': 2, 'min_child_samples': 94}. Best is trial 1 with value: 0.79625.\n"
     ]
    },
    {
     "name": "stdout",
     "output_type": "stream",
     "text": [
      "Early stopping, best iteration is:\n",
      "[32]\tvalid_0's binary_error: 0.219375\n",
      "Training until validation scores don't improve for 10 rounds\n"
     ]
    },
    {
     "name": "stderr",
     "output_type": "stream",
     "text": [
      "[I 2024-01-18 10:39:56,146] Trial 80 finished with value: 0.781875 and parameters: {'lambda_l1': 2.8174600975571115e-06, 'lambda_l2': 3.3161000438483176e-05, 'num_leaves': 256, 'feature_fraction': 0.9174017305747246, 'bagging_fraction': 0.8395208951068928, 'bagging_freq': 1, 'min_child_samples': 48}. Best is trial 1 with value: 0.79625.\n"
     ]
    },
    {
     "name": "stdout",
     "output_type": "stream",
     "text": [
      "Early stopping, best iteration is:\n",
      "[25]\tvalid_0's binary_error: 0.218125\n",
      "Training until validation scores don't improve for 10 rounds\n"
     ]
    },
    {
     "name": "stderr",
     "output_type": "stream",
     "text": [
      "[I 2024-01-18 10:39:56,712] Trial 81 finished with value: 0.789375 and parameters: {'lambda_l1': 0.0006508305950294925, 'lambda_l2': 0.0001331701294946942, 'num_leaves': 234, 'feature_fraction': 0.811301485506811, 'bagging_fraction': 0.7832339043779888, 'bagging_freq': 2, 'min_child_samples': 23}. Best is trial 1 with value: 0.79625.\n"
     ]
    },
    {
     "name": "stdout",
     "output_type": "stream",
     "text": [
      "Early stopping, best iteration is:\n",
      "[31]\tvalid_0's binary_error: 0.210625\n",
      "Training until validation scores don't improve for 10 rounds\n"
     ]
    },
    {
     "name": "stderr",
     "output_type": "stream",
     "text": [
      "[I 2024-01-18 10:39:57,048] Trial 82 finished with value: 0.781875 and parameters: {'lambda_l1': 0.0010485138752037025, 'lambda_l2': 0.00038280883270589696, 'num_leaves': 232, 'feature_fraction': 0.8012998321191331, 'bagging_fraction': 0.7805112097873147, 'bagging_freq': 1, 'min_child_samples': 12}. Best is trial 1 with value: 0.79625.\n"
     ]
    },
    {
     "name": "stdout",
     "output_type": "stream",
     "text": [
      "Early stopping, best iteration is:\n",
      "[9]\tvalid_0's binary_error: 0.218125\n",
      "Training until validation scores don't improve for 10 rounds\n"
     ]
    },
    {
     "name": "stderr",
     "output_type": "stream",
     "text": [
      "[I 2024-01-18 10:39:57,352] Trial 83 finished with value: 0.7925 and parameters: {'lambda_l1': 2.3748593722232027e-05, 'lambda_l2': 9.759624352947548e-05, 'num_leaves': 242, 'feature_fraction': 0.7838480991307892, 'bagging_fraction': 0.7370670270780422, 'bagging_freq': 2, 'min_child_samples': 17}. Best is trial 1 with value: 0.79625.\n"
     ]
    },
    {
     "name": "stdout",
     "output_type": "stream",
     "text": [
      "Early stopping, best iteration is:\n",
      "[9]\tvalid_0's binary_error: 0.2075\n",
      "Training until validation scores don't improve for 10 rounds\n"
     ]
    },
    {
     "name": "stderr",
     "output_type": "stream",
     "text": [
      "[I 2024-01-18 10:39:58,076] Trial 84 finished with value: 0.790625 and parameters: {'lambda_l1': 1.7643805657637213e-05, 'lambda_l2': 6.083424573856579e-05, 'num_leaves': 242, 'feature_fraction': 0.7700946909502465, 'bagging_fraction': 0.7398986347478909, 'bagging_freq': 1, 'min_child_samples': 17}. Best is trial 1 with value: 0.79625.\n"
     ]
    },
    {
     "name": "stdout",
     "output_type": "stream",
     "text": [
      "Early stopping, best iteration is:\n",
      "[46]\tvalid_0's binary_error: 0.209375\n",
      "Training until validation scores don't improve for 10 rounds\n"
     ]
    },
    {
     "name": "stderr",
     "output_type": "stream",
     "text": [
      "[I 2024-01-18 10:39:59,899] Trial 85 finished with value: 0.77875 and parameters: {'lambda_l1': 1.2406361527487268e-05, 'lambda_l2': 1.369790683816339e-05, 'num_leaves': 244, 'feature_fraction': 0.7596262573671858, 'bagging_fraction': 0.736473660446563, 'bagging_freq': 2, 'min_child_samples': 8}. Best is trial 1 with value: 0.79625.\n"
     ]
    },
    {
     "name": "stdout",
     "output_type": "stream",
     "text": [
      "Early stopping, best iteration is:\n",
      "[44]\tvalid_0's binary_error: 0.22125\n",
      "Training until validation scores don't improve for 10 rounds\n"
     ]
    },
    {
     "name": "stderr",
     "output_type": "stream",
     "text": [
      "[I 2024-01-18 10:40:00,694] Trial 86 finished with value: 0.786875 and parameters: {'lambda_l1': 7.000349069654488e-05, 'lambda_l2': 0.00011133571861142993, 'num_leaves': 239, 'feature_fraction': 0.7142294857510451, 'bagging_fraction': 0.7442360279013949, 'bagging_freq': 5, 'min_child_samples': 16}. Best is trial 1 with value: 0.79625.\n"
     ]
    },
    {
     "name": "stdout",
     "output_type": "stream",
     "text": [
      "Early stopping, best iteration is:\n",
      "[19]\tvalid_0's binary_error: 0.213125\n",
      "Training until validation scores don't improve for 10 rounds\n"
     ]
    },
    {
     "name": "stderr",
     "output_type": "stream",
     "text": [
      "[I 2024-01-18 10:40:01,633] Trial 87 finished with value: 0.7875 and parameters: {'lambda_l1': 1.9445098846506414e-05, 'lambda_l2': 5.38156940784209e-05, 'num_leaves': 247, 'feature_fraction': 0.7775246090323329, 'bagging_fraction': 0.7619975830061171, 'bagging_freq': 1, 'min_child_samples': 14}. Best is trial 1 with value: 0.79625.\n"
     ]
    },
    {
     "name": "stdout",
     "output_type": "stream",
     "text": [
      "Early stopping, best iteration is:\n",
      "[27]\tvalid_0's binary_error: 0.2125\n",
      "Training until validation scores don't improve for 10 rounds\n"
     ]
    },
    {
     "name": "stderr",
     "output_type": "stream",
     "text": [
      "[I 2024-01-18 10:40:02,031] Trial 88 finished with value: 0.781875 and parameters: {'lambda_l1': 3.862566740571504e-05, 'lambda_l2': 3.2636981826702456e-05, 'num_leaves': 216, 'feature_fraction': 0.7792155150918735, 'bagging_fraction': 0.691267404691216, 'bagging_freq': 5, 'min_child_samples': 56}. Best is trial 1 with value: 0.79625.\n"
     ]
    },
    {
     "name": "stdout",
     "output_type": "stream",
     "text": [
      "Early stopping, best iteration is:\n",
      "[40]\tvalid_0's binary_error: 0.218125\n",
      "Training until validation scores don't improve for 10 rounds\n"
     ]
    },
    {
     "name": "stderr",
     "output_type": "stream",
     "text": [
      "[I 2024-01-18 10:40:03,021] Trial 89 finished with value: 0.78625 and parameters: {'lambda_l1': 1.3093138021674643e-06, 'lambda_l2': 0.0008310730118094844, 'num_leaves': 227, 'feature_fraction': 0.8287543376111662, 'bagging_fraction': 0.8011366136707982, 'bagging_freq': 4, 'min_child_samples': 18}. Best is trial 1 with value: 0.79625.\n"
     ]
    },
    {
     "name": "stdout",
     "output_type": "stream",
     "text": [
      "Early stopping, best iteration is:\n",
      "[42]\tvalid_0's binary_error: 0.21375\n",
      "Training until validation scores don't improve for 10 rounds\n"
     ]
    },
    {
     "name": "stderr",
     "output_type": "stream",
     "text": [
      "[I 2024-01-18 10:40:03,679] Trial 90 finished with value: 0.788125 and parameters: {'lambda_l1': 6.553300004946547e-06, 'lambda_l2': 2.1458377199505714e-05, 'num_leaves': 250, 'feature_fraction': 0.848681326918643, 'bagging_fraction': 0.7883898020147905, 'bagging_freq': 5, 'min_child_samples': 31}. Best is trial 1 with value: 0.79625.\n"
     ]
    },
    {
     "name": "stdout",
     "output_type": "stream",
     "text": [
      "Early stopping, best iteration is:\n",
      "[31]\tvalid_0's binary_error: 0.211875\n",
      "Training until validation scores don't improve for 10 rounds\n"
     ]
    },
    {
     "name": "stderr",
     "output_type": "stream",
     "text": [
      "[I 2024-01-18 10:40:04,614] Trial 91 finished with value: 0.784375 and parameters: {'lambda_l1': 2.5162727692926005e-05, 'lambda_l2': 0.00027584500345566944, 'num_leaves': 201, 'feature_fraction': 0.782793689026654, 'bagging_fraction': 0.8137131159688175, 'bagging_freq': 1, 'min_child_samples': 9}. Best is trial 1 with value: 0.79625.\n"
     ]
    },
    {
     "name": "stdout",
     "output_type": "stream",
     "text": [
      "Early stopping, best iteration is:\n",
      "[21]\tvalid_0's binary_error: 0.215625\n",
      "Training until validation scores don't improve for 10 rounds\n"
     ]
    },
    {
     "name": "stderr",
     "output_type": "stream",
     "text": [
      "[I 2024-01-18 10:40:06,693] Trial 92 finished with value: 0.789375 and parameters: {'lambda_l1': 1.4820199861340953e-05, 'lambda_l2': 7.414664574452692e-05, 'num_leaves': 241, 'feature_fraction': 0.9715452978779336, 'bagging_fraction': 0.9499195735034862, 'bagging_freq': 1, 'min_child_samples': 26}. Best is trial 1 with value: 0.79625.\n"
     ]
    },
    {
     "name": "stdout",
     "output_type": "stream",
     "text": [
      "Early stopping, best iteration is:\n",
      "[48]\tvalid_0's binary_error: 0.210625\n",
      "Training until validation scores don't improve for 10 rounds\n"
     ]
    },
    {
     "name": "stderr",
     "output_type": "stream",
     "text": [
      "[I 2024-01-18 10:40:06,990] Trial 93 finished with value: 0.77625 and parameters: {'lambda_l1': 3.1964244910583835e-06, 'lambda_l2': 0.00014619466360449757, 'num_leaves': 256, 'feature_fraction': 0.945112696615518, 'bagging_fraction': 0.7648132133962213, 'bagging_freq': 1, 'min_child_samples': 59}. Best is trial 1 with value: 0.79625.\n"
     ]
    },
    {
     "name": "stdout",
     "output_type": "stream",
     "text": [
      "Early stopping, best iteration is:\n",
      "[11]\tvalid_0's binary_error: 0.22375\n",
      "Training until validation scores don't improve for 10 rounds\n"
     ]
    },
    {
     "name": "stderr",
     "output_type": "stream",
     "text": [
      "[I 2024-01-18 10:40:07,742] Trial 94 finished with value: 0.7925 and parameters: {'lambda_l1': 0.00011143432749886625, 'lambda_l2': 5.3311284180020226e-05, 'num_leaves': 196, 'feature_fraction': 0.7604304878199245, 'bagging_fraction': 0.9232996796472746, 'bagging_freq': 1, 'min_child_samples': 18}. Best is trial 1 with value: 0.79625.\n"
     ]
    },
    {
     "name": "stdout",
     "output_type": "stream",
     "text": [
      "Early stopping, best iteration is:\n",
      "[40]\tvalid_0's binary_error: 0.2075\n",
      "Training until validation scores don't improve for 10 rounds\n"
     ]
    },
    {
     "name": "stderr",
     "output_type": "stream",
     "text": [
      "[I 2024-01-18 10:40:10,194] Trial 95 finished with value: 0.78625 and parameters: {'lambda_l1': 0.00016284842637621818, 'lambda_l2': 4.792917771018865e-05, 'num_leaves': 188, 'feature_fraction': 0.7529820709064963, 'bagging_fraction': 0.931330864823663, 'bagging_freq': 2, 'min_child_samples': 19}. Best is trial 1 with value: 0.79625.\n"
     ]
    },
    {
     "name": "stdout",
     "output_type": "stream",
     "text": [
      "Early stopping, best iteration is:\n",
      "[19]\tvalid_0's binary_error: 0.21375\n",
      "Training until validation scores don't improve for 10 rounds\n"
     ]
    },
    {
     "name": "stderr",
     "output_type": "stream",
     "text": [
      "[I 2024-01-18 10:40:12,555] Trial 96 finished with value: 0.785 and parameters: {'lambda_l1': 9.570852515457113e-05, 'lambda_l2': 6.2104580282752475e-06, 'num_leaves': 153, 'feature_fraction': 0.8113580588208755, 'bagging_fraction': 0.910052658872965, 'bagging_freq': 1, 'min_child_samples': 15}. Best is trial 1 with value: 0.79625.\n"
     ]
    },
    {
     "name": "stdout",
     "output_type": "stream",
     "text": [
      "Early stopping, best iteration is:\n",
      "[41]\tvalid_0's binary_error: 0.215\n",
      "Training until validation scores don't improve for 10 rounds\n"
     ]
    },
    {
     "name": "stderr",
     "output_type": "stream",
     "text": [
      "[I 2024-01-18 10:40:13,309] Trial 97 finished with value: 0.7875 and parameters: {'lambda_l1': 1.0199584979892834e-05, 'lambda_l2': 1.152386627087668e-05, 'num_leaves': 221, 'feature_fraction': 0.728183649565757, 'bagging_fraction': 0.825466437396747, 'bagging_freq': 4, 'min_child_samples': 23}. Best is trial 1 with value: 0.79625.\n"
     ]
    },
    {
     "name": "stdout",
     "output_type": "stream",
     "text": [
      "Early stopping, best iteration is:\n",
      "[34]\tvalid_0's binary_error: 0.2125\n",
      "Training until validation scores don't improve for 10 rounds\n"
     ]
    },
    {
     "name": "stderr",
     "output_type": "stream",
     "text": [
      "[I 2024-01-18 10:40:13,527] Trial 98 finished with value: 0.78125 and parameters: {'lambda_l1': 4.519938522401783e-05, 'lambda_l2': 9.984738484845906e-05, 'num_leaves': 180, 'feature_fraction': 0.7678626550612128, 'bagging_fraction': 0.8631034198874964, 'bagging_freq': 2, 'min_child_samples': 63}. Best is trial 1 with value: 0.79625.\n"
     ]
    },
    {
     "name": "stdout",
     "output_type": "stream",
     "text": [
      "Early stopping, best iteration is:\n",
      "[22]\tvalid_0's binary_error: 0.21875\n",
      "Training until validation scores don't improve for 10 rounds\n"
     ]
    },
    {
     "name": "stderr",
     "output_type": "stream",
     "text": [
      "[I 2024-01-18 10:40:13,763] Trial 99 finished with value: 0.77875 and parameters: {'lambda_l1': 0.0002231753949098957, 'lambda_l2': 1.8532445296181217e-05, 'num_leaves': 216, 'feature_fraction': 0.7409928042258723, 'bagging_fraction': 0.8782210867008743, 'bagging_freq': 5, 'min_child_samples': 22}. Best is trial 1 with value: 0.79625.\n",
      "[I 2024-01-18 10:40:13,793] A new study created in memory with name: no-name-fc60ee1a-d2da-4565-8c95-b888a52f4bd6\n",
      "[I 2024-01-18 10:40:13,923] Trial 0 finished with value: 0.78875 and parameters: {'lambda_l1': 0.0002764907428131291, 'lambda_l2': 0.0005039486346197444, 'num_leaves': 150, 'feature_fraction': 0.7378936005564958, 'bagging_fraction': 0.9855950941240086, 'bagging_freq': 7, 'min_child_samples': 39}. Best is trial 0 with value: 0.78875.\n"
     ]
    },
    {
     "name": "stdout",
     "output_type": "stream",
     "text": [
      "Early stopping, best iteration is:\n",
      "[8]\tvalid_0's binary_error: 0.22125\n",
      "Training until validation scores don't improve for 10 rounds\n",
      "Early stopping, best iteration is:\n",
      "[11]\tvalid_0's binary_error: 0.21125\n",
      "Training until validation scores don't improve for 10 rounds\n"
     ]
    },
    {
     "name": "stderr",
     "output_type": "stream",
     "text": [
      "[I 2024-01-18 10:40:13,975] Trial 1 finished with value: 0.77125 and parameters: {'lambda_l1': 0.04218861246782908, 'lambda_l2': 0.10948268745497597, 'num_leaves': 187, 'feature_fraction': 0.672423151680196, 'bagging_fraction': 0.408140508046893, 'bagging_freq': 3, 'min_child_samples': 46}. Best is trial 0 with value: 0.78875.\n",
      "[I 2024-01-18 10:40:14,100] Trial 2 finished with value: 0.77875 and parameters: {'lambda_l1': 5.476359717241389e-05, 'lambda_l2': 3.8979466748182707, 'num_leaves': 161, 'feature_fraction': 0.9857390369300039, 'bagging_fraction': 0.5808352210020452, 'bagging_freq': 2, 'min_child_samples': 96}. Best is trial 0 with value: 0.78875.\n"
     ]
    },
    {
     "name": "stdout",
     "output_type": "stream",
     "text": [
      "Early stopping, best iteration is:\n",
      "[8]\tvalid_0's binary_error: 0.22875\n",
      "Training until validation scores don't improve for 10 rounds\n",
      "Early stopping, best iteration is:\n",
      "[11]\tvalid_0's binary_error: 0.22125\n",
      "Training until validation scores don't improve for 10 rounds\n"
     ]
    },
    {
     "name": "stderr",
     "output_type": "stream",
     "text": [
      "[I 2024-01-18 10:40:14,318] Trial 3 finished with value: 0.780625 and parameters: {'lambda_l1': 0.24440990174569008, 'lambda_l2': 7.201105154815313e-05, 'num_leaves': 51, 'feature_fraction': 0.9380654817180518, 'bagging_fraction': 0.6138603258780312, 'bagging_freq': 6, 'min_child_samples': 45}. Best is trial 0 with value: 0.78875.\n",
      "[I 2024-01-18 10:40:14,417] Trial 4 finished with value: 0.786875 and parameters: {'lambda_l1': 0.012050617508104816, 'lambda_l2': 2.5173658057859582e-06, 'num_leaves': 58, 'feature_fraction': 0.610776125132159, 'bagging_fraction': 0.6164085571820807, 'bagging_freq': 1, 'min_child_samples': 90}. Best is trial 0 with value: 0.78875.\n",
      "[I 2024-01-18 10:40:14,476] Trial 5 finished with value: 0.7825 and parameters: {'lambda_l1': 0.0015566026553335429, 'lambda_l2': 0.06477021677250762, 'num_leaves': 47, 'feature_fraction': 0.8019389568566544, 'bagging_fraction': 0.7802060739364864, 'bagging_freq': 7, 'min_child_samples': 91}. Best is trial 0 with value: 0.78875.\n"
     ]
    },
    {
     "name": "stdout",
     "output_type": "stream",
     "text": [
      "Early stopping, best iteration is:\n",
      "[10]\tvalid_0's binary_error: 0.219375\n",
      "Training until validation scores don't improve for 10 rounds\n",
      "Early stopping, best iteration is:\n",
      "[9]\tvalid_0's binary_error: 0.213125\n",
      "Training until validation scores don't improve for 10 rounds\n",
      "Early stopping, best iteration is:\n",
      "[8]\tvalid_0's binary_error: 0.2175\n",
      "Training until validation scores don't improve for 10 rounds\n"
     ]
    },
    {
     "name": "stderr",
     "output_type": "stream",
     "text": [
      "[I 2024-01-18 10:40:14,611] Trial 6 finished with value: 0.786875 and parameters: {'lambda_l1': 0.6497135177024402, 'lambda_l2': 2.7041575107406827e-07, 'num_leaves': 158, 'feature_fraction': 0.6498294337464526, 'bagging_fraction': 0.8516588580033815, 'bagging_freq': 4, 'min_child_samples': 25}. Best is trial 0 with value: 0.78875.\n",
      "[I 2024-01-18 10:40:14,709] Trial 7 finished with value: 0.78 and parameters: {'lambda_l1': 2.300241382459199e-05, 'lambda_l2': 0.030110105184924473, 'num_leaves': 10, 'feature_fraction': 0.6205631908165011, 'bagging_fraction': 0.8500938980074693, 'bagging_freq': 4, 'min_child_samples': 67}. Best is trial 0 with value: 0.78875.\n"
     ]
    },
    {
     "name": "stdout",
     "output_type": "stream",
     "text": [
      "Early stopping, best iteration is:\n",
      "[11]\tvalid_0's binary_error: 0.213125\n",
      "Training until validation scores don't improve for 10 rounds\n",
      "Early stopping, best iteration is:\n",
      "[36]\tvalid_0's binary_error: 0.22\n",
      "Training until validation scores don't improve for 10 rounds\n"
     ]
    },
    {
     "name": "stderr",
     "output_type": "stream",
     "text": [
      "[I 2024-01-18 10:40:14,921] Trial 8 finished with value: 0.788125 and parameters: {'lambda_l1': 0.00016282008818995798, 'lambda_l2': 0.0001960682553519768, 'num_leaves': 210, 'feature_fraction': 0.47958434286034285, 'bagging_fraction': 0.8181007481169924, 'bagging_freq': 5, 'min_child_samples': 49}. Best is trial 0 with value: 0.78875.\n"
     ]
    },
    {
     "name": "stdout",
     "output_type": "stream",
     "text": [
      "Early stopping, best iteration is:\n",
      "[8]\tvalid_0's binary_error: 0.211875\n",
      "Training until validation scores don't improve for 10 rounds\n"
     ]
    },
    {
     "name": "stderr",
     "output_type": "stream",
     "text": [
      "[I 2024-01-18 10:40:15,473] Trial 9 finished with value: 0.790625 and parameters: {'lambda_l1': 0.00037215365699117626, 'lambda_l2': 1.4187514298351253e-05, 'num_leaves': 159, 'feature_fraction': 0.8756173667493117, 'bagging_fraction': 0.9751182356310875, 'bagging_freq': 1, 'min_child_samples': 21}. Best is trial 9 with value: 0.790625.\n"
     ]
    },
    {
     "name": "stdout",
     "output_type": "stream",
     "text": [
      "Early stopping, best iteration is:\n",
      "[27]\tvalid_0's binary_error: 0.209375\n",
      "Training until validation scores don't improve for 10 rounds\n"
     ]
    },
    {
     "name": "stderr",
     "output_type": "stream",
     "text": [
      "[I 2024-01-18 10:40:16,502] Trial 10 finished with value: 0.79 and parameters: {'lambda_l1': 8.101934329713478e-08, 'lambda_l2': 1.678872542550002e-08, 'num_leaves': 243, 'feature_fraction': 0.8644060774046394, 'bagging_fraction': 0.9796507303240322, 'bagging_freq': 1, 'min_child_samples': 8}. Best is trial 9 with value: 0.790625.\n"
     ]
    },
    {
     "name": "stdout",
     "output_type": "stream",
     "text": [
      "Early stopping, best iteration is:\n",
      "[14]\tvalid_0's binary_error: 0.21\n",
      "Training until validation scores don't improve for 10 rounds\n"
     ]
    },
    {
     "name": "stderr",
     "output_type": "stream",
     "text": [
      "[I 2024-01-18 10:40:16,973] Trial 11 finished with value: 0.78 and parameters: {'lambda_l1': 1.4120458488705809e-07, 'lambda_l2': 9.427598066833091e-08, 'num_leaves': 244, 'feature_fraction': 0.8537204435606833, 'bagging_fraction': 0.9576614319993977, 'bagging_freq': 1, 'min_child_samples': 5}. Best is trial 9 with value: 0.790625.\n"
     ]
    },
    {
     "name": "stdout",
     "output_type": "stream",
     "text": [
      "Early stopping, best iteration is:\n",
      "[5]\tvalid_0's binary_error: 0.22\n",
      "Training until validation scores don't improve for 10 rounds\n"
     ]
    },
    {
     "name": "stderr",
     "output_type": "stream",
     "text": [
      "[I 2024-01-18 10:40:17,456] Trial 12 finished with value: 0.789375 and parameters: {'lambda_l1': 1.3286910358665416e-08, 'lambda_l2': 2.0485177382233197e-08, 'num_leaves': 256, 'feature_fraction': 0.8866608948243763, 'bagging_fraction': 0.9509037135659316, 'bagging_freq': 2, 'min_child_samples': 7}. Best is trial 9 with value: 0.790625.\n"
     ]
    },
    {
     "name": "stdout",
     "output_type": "stream",
     "text": [
      "Early stopping, best iteration is:\n",
      "[18]\tvalid_0's binary_error: 0.210625\n",
      "Training until validation scores don't improve for 10 rounds\n"
     ]
    },
    {
     "name": "stderr",
     "output_type": "stream",
     "text": [
      "[I 2024-01-18 10:40:17,680] Trial 13 finished with value: 0.785625 and parameters: {'lambda_l1': 9.6137458649557, 'lambda_l2': 1.6209005470690668e-08, 'num_leaves': 104, 'feature_fraction': 0.9924976816169621, 'bagging_fraction': 0.9938965342256627, 'bagging_freq': 2, 'min_child_samples': 22}. Best is trial 9 with value: 0.790625.\n"
     ]
    },
    {
     "name": "stdout",
     "output_type": "stream",
     "text": [
      "Early stopping, best iteration is:\n",
      "[48]\tvalid_0's binary_error: 0.214375\n",
      "Training until validation scores don't improve for 10 rounds\n"
     ]
    },
    {
     "name": "stderr",
     "output_type": "stream",
     "text": [
      "[I 2024-01-18 10:40:17,990] Trial 14 finished with value: 0.789375 and parameters: {'lambda_l1': 1.8444177575355497e-06, 'lambda_l2': 1.2752475166395517e-06, 'num_leaves': 113, 'feature_fraction': 0.7794515529876699, 'bagging_fraction': 0.8918631523175733, 'bagging_freq': 1, 'min_child_samples': 22}. Best is trial 9 with value: 0.790625.\n"
     ]
    },
    {
     "name": "stdout",
     "output_type": "stream",
     "text": [
      "Early stopping, best iteration is:\n",
      "[11]\tvalid_0's binary_error: 0.210625\n",
      "Training until validation scores don't improve for 10 rounds\n",
      "Early stopping, best iteration is:\n",
      "[19]\tvalid_0's binary_error: 0.2075\n"
     ]
    },
    {
     "name": "stderr",
     "output_type": "stream",
     "text": [
      "[I 2024-01-18 10:40:18,189] Trial 15 finished with value: 0.7925 and parameters: {'lambda_l1': 3.830012707656266e-06, 'lambda_l2': 5.326010672240822e-06, 'num_leaves': 219, 'feature_fraction': 0.8708107889941396, 'bagging_fraction': 0.9031008341647265, 'bagging_freq': 3, 'min_child_samples': 66}. Best is trial 15 with value: 0.7925.\n",
      "[I 2024-01-18 10:40:18,441] Trial 16 finished with value: 0.791875 and parameters: {'lambda_l1': 6.715166690345678e-06, 'lambda_l2': 1.1196777249742106e-05, 'num_leaves': 213, 'feature_fraction': 0.891263204499366, 'bagging_fraction': 0.9031369758274698, 'bagging_freq': 3, 'min_child_samples': 74}. Best is trial 15 with value: 0.7925.\n"
     ]
    },
    {
     "name": "stdout",
     "output_type": "stream",
     "text": [
      "Training until validation scores don't improve for 10 rounds\n",
      "Early stopping, best iteration is:\n",
      "[32]\tvalid_0's binary_error: 0.208125\n"
     ]
    },
    {
     "name": "stderr",
     "output_type": "stream",
     "text": [
      "[I 2024-01-18 10:40:18,582] Trial 17 finished with value: 0.78125 and parameters: {'lambda_l1': 8.423500671997272e-06, 'lambda_l2': 6.332456632191141e-06, 'num_leaves': 208, 'feature_fraction': 0.9181831352916298, 'bagging_fraction': 0.732902231704019, 'bagging_freq': 3, 'min_child_samples': 72}. Best is trial 15 with value: 0.7925.\n"
     ]
    },
    {
     "name": "stdout",
     "output_type": "stream",
     "text": [
      "Training until validation scores don't improve for 10 rounds\n",
      "Early stopping, best iteration is:\n",
      "[7]\tvalid_0's binary_error: 0.21875\n",
      "Training until validation scores don't improve for 10 rounds\n"
     ]
    },
    {
     "name": "stderr",
     "output_type": "stream",
     "text": [
      "[I 2024-01-18 10:40:18,793] Trial 18 finished with value: 0.7825 and parameters: {'lambda_l1': 1.0034997660623209e-06, 'lambda_l2': 5.908662264033765e-07, 'num_leaves': 212, 'feature_fraction': 0.8083110188747733, 'bagging_fraction': 0.9036130605263607, 'bagging_freq': 3, 'min_child_samples': 73}. Best is trial 15 with value: 0.7925.\n"
     ]
    },
    {
     "name": "stdout",
     "output_type": "stream",
     "text": [
      "Early stopping, best iteration is:\n",
      "[2]\tvalid_0's binary_error: 0.2175\n",
      "Training until validation scores don't improve for 10 rounds\n"
     ]
    },
    {
     "name": "stderr",
     "output_type": "stream",
     "text": [
      "[I 2024-01-18 10:40:18,994] Trial 19 finished with value: 0.791875 and parameters: {'lambda_l1': 4.998015265623868e-06, 'lambda_l2': 3.520221161562263e-05, 'num_leaves': 185, 'feature_fraction': 0.7261414531095367, 'bagging_fraction': 0.9064833290493944, 'bagging_freq': 5, 'min_child_samples': 61}. Best is trial 15 with value: 0.7925.\n"
     ]
    },
    {
     "name": "stdout",
     "output_type": "stream",
     "text": [
      "Early stopping, best iteration is:\n",
      "[6]\tvalid_0's binary_error: 0.208125\n",
      "Training until validation scores don't improve for 10 rounds\n"
     ]
    },
    {
     "name": "stderr",
     "output_type": "stream",
     "text": [
      "[I 2024-01-18 10:40:19,222] Trial 20 finished with value: 0.7825 and parameters: {'lambda_l1': 5.45766468251844e-07, 'lambda_l2': 0.0007027226086427527, 'num_leaves': 222, 'feature_fraction': 0.9427257178052819, 'bagging_fraction': 0.755384780238195, 'bagging_freq': 5, 'min_child_samples': 78}. Best is trial 15 with value: 0.7925.\n",
      "[I 2024-01-18 10:40:19,402] Trial 21 finished with value: 0.785 and parameters: {'lambda_l1': 6.949161492404077e-06, 'lambda_l2': 2.6959850154183153e-05, 'num_leaves': 178, 'feature_fraction': 0.7360267133807421, 'bagging_fraction': 0.9122999654243177, 'bagging_freq': 5, 'min_child_samples': 57}. Best is trial 15 with value: 0.7925.\n"
     ]
    },
    {
     "name": "stdout",
     "output_type": "stream",
     "text": [
      "Early stopping, best iteration is:\n",
      "[11]\tvalid_0's binary_error: 0.2175\n",
      "Training until validation scores don't improve for 10 rounds\n",
      "Early stopping, best iteration is:\n",
      "[10]\tvalid_0's binary_error: 0.215\n"
     ]
    },
    {
     "name": "stderr",
     "output_type": "stream",
     "text": [
      "[I 2024-01-18 10:40:19,594] Trial 22 finished with value: 0.783125 and parameters: {'lambda_l1': 4.9658717779153146e-06, 'lambda_l2': 5.664821258768659e-06, 'num_leaves': 189, 'feature_fraction': 0.8321540772537606, 'bagging_fraction': 0.8288601053222332, 'bagging_freq': 4, 'min_child_samples': 60}. Best is trial 15 with value: 0.7925.\n"
     ]
    },
    {
     "name": "stdout",
     "output_type": "stream",
     "text": [
      "Training until validation scores don't improve for 10 rounds\n",
      "Early stopping, best iteration is:\n",
      "[14]\tvalid_0's binary_error: 0.216875\n"
     ]
    },
    {
     "name": "stderr",
     "output_type": "stream",
     "text": [
      "[I 2024-01-18 10:40:19,818] Trial 23 finished with value: 0.784375 and parameters: {'lambda_l1': 2.5370159453858093e-05, 'lambda_l2': 4.6752263963387026e-05, 'num_leaves': 230, 'feature_fraction': 0.7748028199305081, 'bagging_fraction': 0.9062794326641533, 'bagging_freq': 3, 'min_child_samples': 80}. Best is trial 15 with value: 0.7925.\n"
     ]
    },
    {
     "name": "stdout",
     "output_type": "stream",
     "text": [
      "Training until validation scores don't improve for 10 rounds\n",
      "Early stopping, best iteration is:\n",
      "[10]\tvalid_0's binary_error: 0.215625\n",
      "Training until validation scores don't improve for 10 rounds\n"
     ]
    },
    {
     "name": "stderr",
     "output_type": "stream",
     "text": [
      "[I 2024-01-18 10:40:20,420] Trial 24 finished with value: 0.788125 and parameters: {'lambda_l1': 1.8061032434346477e-06, 'lambda_l2': 2.0236337788244522e-06, 'num_leaves': 131, 'feature_fraction': 0.9033747719113466, 'bagging_fraction': 0.8738589201626762, 'bagging_freq': 6, 'min_child_samples': 63}. Best is trial 15 with value: 0.7925.\n",
      "[I 2024-01-18 10:40:20,589] Trial 25 finished with value: 0.781875 and parameters: {'lambda_l1': 6.524738485919595e-05, 'lambda_l2': 1.4617779613083748e-05, 'num_leaves': 196, 'feature_fraction': 0.828550454044103, 'bagging_fraction': 0.8133379014639142, 'bagging_freq': 4, 'min_child_samples': 82}. Best is trial 15 with value: 0.7925.\n"
     ]
    },
    {
     "name": "stdout",
     "output_type": "stream",
     "text": [
      "Early stopping, best iteration is:\n",
      "[30]\tvalid_0's binary_error: 0.211875\n",
      "Training until validation scores don't improve for 10 rounds\n",
      "Early stopping, best iteration is:\n",
      "[7]\tvalid_0's binary_error: 0.218125\n"
     ]
    },
    {
     "name": "stderr",
     "output_type": "stream",
     "text": [
      "[I 2024-01-18 10:40:20,894] Trial 26 finished with value: 0.78625 and parameters: {'lambda_l1': 2.5875308945536893e-07, 'lambda_l2': 3.9020062087273596e-07, 'num_leaves': 232, 'feature_fraction': 0.7211800437529726, 'bagging_fraction': 0.9248480732753467, 'bagging_freq': 6, 'min_child_samples': 55}. Best is trial 15 with value: 0.7925.\n"
     ]
    },
    {
     "name": "stdout",
     "output_type": "stream",
     "text": [
      "Training until validation scores don't improve for 10 rounds\n",
      "Early stopping, best iteration is:\n",
      "[20]\tvalid_0's binary_error: 0.21375\n"
     ]
    },
    {
     "name": "stderr",
     "output_type": "stream",
     "text": [
      "[I 2024-01-18 10:40:21,119] Trial 27 finished with value: 0.783125 and parameters: {'lambda_l1': 4.786745156347902e-06, 'lambda_l2': 8.495000036499679e-05, 'num_leaves': 175, 'feature_fraction': 0.7712484419936637, 'bagging_fraction': 0.9336295842642, 'bagging_freq': 5, 'min_child_samples': 67}. Best is trial 15 with value: 0.7925.\n"
     ]
    },
    {
     "name": "stdout",
     "output_type": "stream",
     "text": [
      "Training until validation scores don't improve for 10 rounds\n",
      "Early stopping, best iteration is:\n",
      "[10]\tvalid_0's binary_error: 0.216875\n",
      "Training until validation scores don't improve for 10 rounds\n"
     ]
    },
    {
     "name": "stderr",
     "output_type": "stream",
     "text": [
      "[I 2024-01-18 10:40:21,478] Trial 28 finished with value: 0.79625 and parameters: {'lambda_l1': 8.038377630489448e-07, 'lambda_l2': 0.0017836117046296776, 'num_leaves': 135, 'feature_fraction': 0.8496711354005261, 'bagging_fraction': 0.8716224303093301, 'bagging_freq': 2, 'min_child_samples': 38}. Best is trial 28 with value: 0.79625.\n"
     ]
    },
    {
     "name": "stdout",
     "output_type": "stream",
     "text": [
      "Early stopping, best iteration is:\n",
      "[17]\tvalid_0's binary_error: 0.20375\n",
      "Training until validation scores don't improve for 10 rounds\n"
     ]
    },
    {
     "name": "stderr",
     "output_type": "stream",
     "text": [
      "[I 2024-01-18 10:40:21,835] Trial 29 finished with value: 0.79125 and parameters: {'lambda_l1': 4.136571762356232e-08, 'lambda_l2': 0.0017114331243343276, 'num_leaves': 141, 'feature_fraction': 0.9362034083043586, 'bagging_fraction': 0.8657957982094622, 'bagging_freq': 2, 'min_child_samples': 38}. Best is trial 28 with value: 0.79625.\n"
     ]
    },
    {
     "name": "stdout",
     "output_type": "stream",
     "text": [
      "Early stopping, best iteration is:\n",
      "[17]\tvalid_0's binary_error: 0.20875\n",
      "Training until validation scores don't improve for 10 rounds\n"
     ]
    },
    {
     "name": "stderr",
     "output_type": "stream",
     "text": [
      "[I 2024-01-18 10:40:22,330] Trial 30 finished with value: 0.798125 and parameters: {'lambda_l1': 2.921215776359514e-07, 'lambda_l2': 0.00033341700417016126, 'num_leaves': 100, 'feature_fraction': 0.8513087233040457, 'bagging_fraction': 0.7933910212500287, 'bagging_freq': 3, 'min_child_samples': 34}. Best is trial 30 with value: 0.798125.\n"
     ]
    },
    {
     "name": "stdout",
     "output_type": "stream",
     "text": [
      "Early stopping, best iteration is:\n",
      "[29]\tvalid_0's binary_error: 0.201875\n",
      "Training until validation scores don't improve for 10 rounds\n"
     ]
    },
    {
     "name": "stderr",
     "output_type": "stream",
     "text": [
      "[I 2024-01-18 10:40:22,754] Trial 31 finished with value: 0.791875 and parameters: {'lambda_l1': 4.2870473082065907e-07, 'lambda_l2': 0.0001877085257239232, 'num_leaves': 86, 'feature_fraction': 0.8504768531473205, 'bagging_fraction': 0.8002888703884615, 'bagging_freq': 3, 'min_child_samples': 33}. Best is trial 30 with value: 0.798125.\n"
     ]
    },
    {
     "name": "stdout",
     "output_type": "stream",
     "text": [
      "Early stopping, best iteration is:\n",
      "[26]\tvalid_0's binary_error: 0.208125\n",
      "Training until validation scores don't improve for 10 rounds\n"
     ]
    },
    {
     "name": "stderr",
     "output_type": "stream",
     "text": [
      "[I 2024-01-18 10:40:23,063] Trial 32 finished with value: 0.793125 and parameters: {'lambda_l1': 6.513718110314238e-07, 'lambda_l2': 0.002036581370882631, 'num_leaves': 85, 'feature_fraction': 0.8757853802621844, 'bagging_fraction': 0.8568052708391305, 'bagging_freq': 2, 'min_child_samples': 31}. Best is trial 30 with value: 0.798125.\n"
     ]
    },
    {
     "name": "stdout",
     "output_type": "stream",
     "text": [
      "Early stopping, best iteration is:\n",
      "[22]\tvalid_0's binary_error: 0.206875\n",
      "Training until validation scores don't improve for 10 rounds\n"
     ]
    },
    {
     "name": "stderr",
     "output_type": "stream",
     "text": [
      "[I 2024-01-18 10:40:23,290] Trial 33 finished with value: 0.79 and parameters: {'lambda_l1': 1.9429841477170088e-07, 'lambda_l2': 0.004945825891552885, 'num_leaves': 79, 'feature_fraction': 0.8261331435590469, 'bagging_fraction': 0.7805791175557198, 'bagging_freq': 2, 'min_child_samples': 31}. Best is trial 30 with value: 0.798125.\n"
     ]
    },
    {
     "name": "stdout",
     "output_type": "stream",
     "text": [
      "Early stopping, best iteration is:\n",
      "[21]\tvalid_0's binary_error: 0.21\n",
      "Training until validation scores don't improve for 10 rounds\n"
     ]
    },
    {
     "name": "stderr",
     "output_type": "stream",
     "text": [
      "[I 2024-01-18 10:40:23,597] Trial 34 finished with value: 0.793125 and parameters: {'lambda_l1': 3.4515718849884966e-08, 'lambda_l2': 0.000798899952044265, 'num_leaves': 120, 'feature_fraction': 0.9705800942809786, 'bagging_fraction': 0.8555354418013802, 'bagging_freq': 2, 'min_child_samples': 38}. Best is trial 30 with value: 0.798125.\n"
     ]
    },
    {
     "name": "stdout",
     "output_type": "stream",
     "text": [
      "Early stopping, best iteration is:\n",
      "[21]\tvalid_0's binary_error: 0.206875\n",
      "Training until validation scores don't improve for 10 rounds\n"
     ]
    },
    {
     "name": "stderr",
     "output_type": "stream",
     "text": [
      "[I 2024-01-18 10:40:23,918] Trial 35 finished with value: 0.791875 and parameters: {'lambda_l1': 3.602317424278561e-08, 'lambda_l2': 0.004531960022123914, 'num_leaves': 108, 'feature_fraction': 0.9679646168831929, 'bagging_fraction': 0.8434029980716294, 'bagging_freq': 2, 'min_child_samples': 39}. Best is trial 30 with value: 0.798125.\n"
     ]
    },
    {
     "name": "stdout",
     "output_type": "stream",
     "text": [
      "Early stopping, best iteration is:\n",
      "[28]\tvalid_0's binary_error: 0.208125\n",
      "Training until validation scores don't improve for 10 rounds\n"
     ]
    },
    {
     "name": "stderr",
     "output_type": "stream",
     "text": [
      "[I 2024-01-18 10:40:24,148] Trial 36 finished with value: 0.784375 and parameters: {'lambda_l1': 1.9294920812363875e-08, 'lambda_l2': 0.0005851539512378967, 'num_leaves': 87, 'feature_fraction': 0.9575917347652125, 'bagging_fraction': 0.7212752171277894, 'bagging_freq': 2, 'min_child_samples': 43}. Best is trial 30 with value: 0.798125.\n"
     ]
    },
    {
     "name": "stdout",
     "output_type": "stream",
     "text": [
      "Early stopping, best iteration is:\n",
      "[17]\tvalid_0's binary_error: 0.215625\n",
      "Training until validation scores don't improve for 10 rounds\n"
     ]
    },
    {
     "name": "stderr",
     "output_type": "stream",
     "text": [
      "[I 2024-01-18 10:40:24,426] Trial 37 finished with value: 0.7925 and parameters: {'lambda_l1': 7.904997637325932e-08, 'lambda_l2': 0.0017977581092588559, 'num_leaves': 125, 'feature_fraction': 0.9272956390429171, 'bagging_fraction': 0.7860407720027516, 'bagging_freq': 2, 'min_child_samples': 14}. Best is trial 30 with value: 0.798125.\n",
      "[I 2024-01-18 10:40:24,561] Trial 38 finished with value: 0.785 and parameters: {'lambda_l1': 1.0244028186504626e-08, 'lambda_l2': 0.01378554135780175, 'num_leaves': 69, 'feature_fraction': 0.9899323066872503, 'bagging_fraction': 0.6744978229127462, 'bagging_freq': 1, 'min_child_samples': 50}. Best is trial 30 with value: 0.798125.\n"
     ]
    },
    {
     "name": "stdout",
     "output_type": "stream",
     "text": [
      "Early stopping, best iteration is:\n",
      "[12]\tvalid_0's binary_error: 0.2075\n",
      "Training until validation scores don't improve for 10 rounds\n",
      "Early stopping, best iteration is:\n",
      "[9]\tvalid_0's binary_error: 0.215\n"
     ]
    },
    {
     "name": "stderr",
     "output_type": "stream",
     "text": [
      "[I 2024-01-18 10:40:24,808] Trial 39 finished with value: 0.795 and parameters: {'lambda_l1': 5.919854560883814e-07, 'lambda_l2': 0.3201680940634949, 'num_leaves': 46, 'feature_fraction': 0.9068713319612391, 'bagging_fraction': 0.8348051841820682, 'bagging_freq': 2, 'min_child_samples': 32}. Best is trial 30 with value: 0.798125.\n"
     ]
    },
    {
     "name": "stdout",
     "output_type": "stream",
     "text": [
      "Training until validation scores don't improve for 10 rounds\n",
      "Early stopping, best iteration is:\n",
      "[20]\tvalid_0's binary_error: 0.205\n"
     ]
    },
    {
     "name": "stderr",
     "output_type": "stream",
     "text": [
      "[I 2024-01-18 10:40:25,000] Trial 40 finished with value: 0.795 and parameters: {'lambda_l1': 3.5751533969888706e-07, 'lambda_l2': 0.4090269249976651, 'num_leaves': 38, 'feature_fraction': 0.90847440645109, 'bagging_fraction': 0.8219984972295541, 'bagging_freq': 3, 'min_child_samples': 29}. Best is trial 30 with value: 0.798125.\n"
     ]
    },
    {
     "name": "stdout",
     "output_type": "stream",
     "text": [
      "Training until validation scores don't improve for 10 rounds\n",
      "Early stopping, best iteration is:\n",
      "[22]\tvalid_0's binary_error: 0.205\n",
      "Training until validation scores don't improve for 10 rounds\n",
      "Early stopping, best iteration is:\n",
      "[18]\tvalid_0's binary_error: 0.2125\n"
     ]
    },
    {
     "name": "stderr",
     "output_type": "stream",
     "text": [
      "[I 2024-01-18 10:40:25,131] Trial 41 finished with value: 0.7875 and parameters: {'lambda_l1': 4.886382261159384e-07, 'lambda_l2': 0.3280328646180978, 'num_leaves': 19, 'feature_fraction': 0.8892886229882062, 'bagging_fraction': 0.8230411700780161, 'bagging_freq': 3, 'min_child_samples': 28}. Best is trial 30 with value: 0.798125.\n",
      "[I 2024-01-18 10:40:25,266] Trial 42 finished with value: 0.785 and parameters: {'lambda_l1': 7.386896550724963e-07, 'lambda_l2': 0.2799240785011794, 'num_leaves': 36, 'feature_fraction': 0.9319081295491487, 'bagging_fraction': 0.7674995582841445, 'bagging_freq': 3, 'min_child_samples': 34}. Best is trial 30 with value: 0.798125.\n"
     ]
    },
    {
     "name": "stdout",
     "output_type": "stream",
     "text": [
      "Training until validation scores don't improve for 10 rounds\n",
      "Early stopping, best iteration is:\n",
      "[8]\tvalid_0's binary_error: 0.215\n",
      "Training until validation scores don't improve for 10 rounds\n"
     ]
    },
    {
     "name": "stderr",
     "output_type": "stream",
     "text": [
      "[I 2024-01-18 10:40:25,490] Trial 43 finished with value: 0.795 and parameters: {'lambda_l1': 1.1753356215983602e-07, 'lambda_l2': 5.821707459743269, 'num_leaves': 36, 'feature_fraction': 0.9198955343178057, 'bagging_fraction': 0.8765397586997193, 'bagging_freq': 2, 'min_child_samples': 44}. Best is trial 30 with value: 0.798125.\n",
      "[I 2024-01-18 10:40:25,649] Trial 44 finished with value: 0.7875 and parameters: {'lambda_l1': 1.066075759426932e-07, 'lambda_l2': 6.9099909717767165, 'num_leaves': 34, 'feature_fraction': 0.9131206403304374, 'bagging_fraction': 0.8047838660571873, 'bagging_freq': 4, 'min_child_samples': 44}. Best is trial 30 with value: 0.798125.\n"
     ]
    },
    {
     "name": "stdout",
     "output_type": "stream",
     "text": [
      "Early stopping, best iteration is:\n",
      "[22]\tvalid_0's binary_error: 0.205\n",
      "Training until validation scores don't improve for 10 rounds\n",
      "Early stopping, best iteration is:\n",
      "[15]\tvalid_0's binary_error: 0.2125\n"
     ]
    },
    {
     "name": "stderr",
     "output_type": "stream",
     "text": [
      "[I 2024-01-18 10:40:25,834] Trial 45 finished with value: 0.794375 and parameters: {'lambda_l1': 1.3908785728934822e-07, 'lambda_l2': 1.791433655314815, 'num_leaves': 59, 'feature_fraction': 0.9587335224795865, 'bagging_fraction': 0.8292813783582241, 'bagging_freq': 2, 'min_child_samples': 15}. Best is trial 30 with value: 0.798125.\n",
      "[I 2024-01-18 10:40:25,958] Trial 46 finished with value: 0.774375 and parameters: {'lambda_l1': 3.009313959443229e-07, 'lambda_l2': 2.21113872132034, 'num_leaves': 9, 'feature_fraction': 0.9062955120426767, 'bagging_fraction': 0.8777149304778398, 'bagging_freq': 3, 'min_child_samples': 47}. Best is trial 30 with value: 0.798125.\n"
     ]
    },
    {
     "name": "stdout",
     "output_type": "stream",
     "text": [
      "Training until validation scores don't improve for 10 rounds\n",
      "Early stopping, best iteration is:\n",
      "[16]\tvalid_0's binary_error: 0.205625\n",
      "Training until validation scores don't improve for 10 rounds\n",
      "Early stopping, best iteration is:\n",
      "[11]\tvalid_0's binary_error: 0.225625\n"
     ]
    },
    {
     "name": "stderr",
     "output_type": "stream",
     "text": [
      "[I 2024-01-18 10:40:26,099] Trial 47 finished with value: 0.790625 and parameters: {'lambda_l1': 1.6857363744544946e-06, 'lambda_l2': 0.06959887313053321, 'num_leaves': 26, 'feature_fraction': 0.8465883884031166, 'bagging_fraction': 0.8739481103048974, 'bagging_freq': 1, 'min_child_samples': 27}. Best is trial 30 with value: 0.798125.\n",
      "[I 2024-01-18 10:40:26,232] Trial 48 finished with value: 0.793125 and parameters: {'lambda_l1': 5.742747327750346e-08, 'lambda_l2': 0.5718855176330467, 'num_leaves': 49, 'feature_fraction': 0.8034053599478631, 'bagging_fraction': 0.8382985997618546, 'bagging_freq': 2, 'min_child_samples': 17}. Best is trial 30 with value: 0.798125.\n"
     ]
    },
    {
     "name": "stdout",
     "output_type": "stream",
     "text": [
      "Training until validation scores don't improve for 10 rounds\n",
      "Early stopping, best iteration is:\n",
      "[11]\tvalid_0's binary_error: 0.209375\n",
      "Training until validation scores don't improve for 10 rounds\n",
      "Early stopping, best iteration is:\n",
      "[4]\tvalid_0's binary_error: 0.206875\n"
     ]
    },
    {
     "name": "stderr",
     "output_type": "stream",
     "text": [
      "[I 2024-01-18 10:40:26,403] Trial 49 finished with value: 0.793125 and parameters: {'lambda_l1': 1.4122077584560707e-07, 'lambda_l2': 7.233701582566636, 'num_leaves': 69, 'feature_fraction': 0.8822076483060707, 'bagging_fraction': 0.9480522484293097, 'bagging_freq': 3, 'min_child_samples': 42}. Best is trial 30 with value: 0.798125.\n"
     ]
    },
    {
     "name": "stdout",
     "output_type": "stream",
     "text": [
      "Training until validation scores don't improve for 10 rounds\n",
      "Early stopping, best iteration is:\n",
      "[17]\tvalid_0's binary_error: 0.206875\n",
      "Training until validation scores don't improve for 10 rounds\n"
     ]
    },
    {
     "name": "stderr",
     "output_type": "stream",
     "text": [
      "[I 2024-01-18 10:40:26,569] Trial 50 finished with value: 0.79625 and parameters: {'lambda_l1': 1.6599471984416577e-06, 'lambda_l2': 0.14761870423859777, 'num_leaves': 37, 'feature_fraction': 0.8567286361814266, 'bagging_fraction': 0.8020523633811213, 'bagging_freq': 1, 'min_child_samples': 52}. Best is trial 30 with value: 0.798125.\n"
     ]
    },
    {
     "name": "stdout",
     "output_type": "stream",
     "text": [
      "Early stopping, best iteration is:\n",
      "[40]\tvalid_0's binary_error: 0.20375\n",
      "Training until validation scores don't improve for 10 rounds\n",
      "Early stopping, best iteration is:\n",
      "[4]\tvalid_0's binary_error: 0.211875\n"
     ]
    },
    {
     "name": "stderr",
     "output_type": "stream",
     "text": [
      "[I 2024-01-18 10:40:26,766] Trial 51 finished with value: 0.788125 and parameters: {'lambda_l1': 3.077644750343582e-07, 'lambda_l2': 0.033812071112746644, 'num_leaves': 39, 'feature_fraction': 0.8640830059761454, 'bagging_fraction': 0.7969093359343931, 'bagging_freq': 1, 'min_child_samples': 53}. Best is trial 30 with value: 0.798125.\n",
      "[I 2024-01-18 10:40:26,957] Trial 52 finished with value: 0.793125 and parameters: {'lambda_l1': 1.3308766574018743e-06, 'lambda_l2': 0.11160560634859577, 'num_leaves': 23, 'feature_fraction': 0.9047196957430124, 'bagging_fraction': 0.7534645820315526, 'bagging_freq': 1, 'min_child_samples': 34}. Best is trial 30 with value: 0.798125.\n"
     ]
    },
    {
     "name": "stdout",
     "output_type": "stream",
     "text": [
      "Training until validation scores don't improve for 10 rounds\n",
      "Early stopping, best iteration is:\n",
      "[21]\tvalid_0's binary_error: 0.206875\n",
      "Training until validation scores don't improve for 10 rounds\n",
      "Early stopping, best iteration is:\n",
      "[2]\tvalid_0's binary_error: 0.215\n"
     ]
    },
    {
     "name": "stderr",
     "output_type": "stream",
     "text": [
      "[I 2024-01-18 10:40:27,087] Trial 53 finished with value: 0.785 and parameters: {'lambda_l1': 9.76200809470339e-07, 'lambda_l2': 1.1368742169318546, 'num_leaves': 96, 'feature_fraction': 0.8545210595796203, 'bagging_fraction': 0.8098922552412839, 'bagging_freq': 1, 'min_child_samples': 48}. Best is trial 30 with value: 0.798125.\n",
      "[I 2024-01-18 10:40:27,317] Trial 54 finished with value: 0.791875 and parameters: {'lambda_l1': 2.6332938653029794e-06, 'lambda_l2': 0.16586388749004768, 'num_leaves': 57, 'feature_fraction': 0.94754753315625, 'bagging_fraction': 0.8469458525636668, 'bagging_freq': 2, 'min_child_samples': 24}. Best is trial 30 with value: 0.798125.\n"
     ]
    },
    {
     "name": "stdout",
     "output_type": "stream",
     "text": [
      "Training until validation scores don't improve for 10 rounds\n",
      "Early stopping, best iteration is:\n",
      "[26]\tvalid_0's binary_error: 0.208125\n"
     ]
    },
    {
     "name": "stderr",
     "output_type": "stream",
     "text": [
      "[I 2024-01-18 10:40:27,506] Trial 55 finished with value: 0.78625 and parameters: {'lambda_l1': 2.5693096820724443e-07, 'lambda_l2': 2.9837086882221957, 'num_leaves': 147, 'feature_fraction': 0.920829087974246, 'bagging_fraction': 0.7816648101445838, 'bagging_freq': 4, 'min_child_samples': 36}. Best is trial 30 with value: 0.798125.\n"
     ]
    },
    {
     "name": "stdout",
     "output_type": "stream",
     "text": [
      "Training until validation scores don't improve for 10 rounds\n",
      "Early stopping, best iteration is:\n",
      "[9]\tvalid_0's binary_error: 0.21375\n",
      "Training until validation scores don't improve for 10 rounds\n"
     ]
    },
    {
     "name": "stderr",
     "output_type": "stream",
     "text": [
      "[I 2024-01-18 10:40:27,682] Trial 56 finished with value: 0.789375 and parameters: {'lambda_l1': 1.0763693744695434e-05, 'lambda_l2': 0.9893090987935875, 'num_leaves': 44, 'feature_fraction': 0.9963102079624735, 'bagging_fraction': 0.880693006734141, 'bagging_freq': 1, 'min_child_samples': 41}. Best is trial 30 with value: 0.798125.\n",
      "[I 2024-01-18 10:40:27,793] Trial 57 finished with value: 0.76625 and parameters: {'lambda_l1': 8.034438539526508e-08, 'lambda_l2': 0.3805629413299423, 'num_leaves': 5, 'feature_fraction': 0.8937261640170827, 'bagging_fraction': 0.8272371088040187, 'bagging_freq': 2, 'min_child_samples': 51}. Best is trial 30 with value: 0.798125.\n"
     ]
    },
    {
     "name": "stdout",
     "output_type": "stream",
     "text": [
      "Early stopping, best iteration is:\n",
      "[20]\tvalid_0's binary_error: 0.210625\n",
      "Training until validation scores don't improve for 10 rounds\n",
      "Early stopping, best iteration is:\n",
      "[6]\tvalid_0's binary_error: 0.23375\n"
     ]
    },
    {
     "name": "stderr",
     "output_type": "stream",
     "text": [
      "[I 2024-01-18 10:40:27,953] Trial 58 finished with value: 0.78875 and parameters: {'lambda_l1': 2.7134616323857935e-06, 'lambda_l2': 3.946034191752715, 'num_leaves': 18, 'feature_fraction': 0.8338959535503734, 'bagging_fraction': 0.8819886248921113, 'bagging_freq': 3, 'min_child_samples': 19}. Best is trial 30 with value: 0.798125.\n"
     ]
    },
    {
     "name": "stdout",
     "output_type": "stream",
     "text": [
      "Training until validation scores don't improve for 10 rounds\n",
      "Early stopping, best iteration is:\n",
      "[26]\tvalid_0's binary_error: 0.21125\n",
      "Training until validation scores don't improve for 10 rounds\n"
     ]
    },
    {
     "name": "stderr",
     "output_type": "stream",
     "text": [
      "[I 2024-01-18 10:40:28,229] Trial 59 finished with value: 0.795 and parameters: {'lambda_l1': 9.146250857811511e-07, 'lambda_l2': 0.5786598549060827, 'num_leaves': 69, 'feature_fraction': 0.8762778501213059, 'bagging_fraction': 0.8628383080709131, 'bagging_freq': 2, 'min_child_samples': 27}. Best is trial 30 with value: 0.798125.\n"
     ]
    },
    {
     "name": "stdout",
     "output_type": "stream",
     "text": [
      "Early stopping, best iteration is:\n",
      "[15]\tvalid_0's binary_error: 0.205\n",
      "Training until validation scores don't improve for 10 rounds\n"
     ]
    },
    {
     "name": "stderr",
     "output_type": "stream",
     "text": [
      "[I 2024-01-18 10:40:28,469] Trial 60 finished with value: 0.783125 and parameters: {'lambda_l1': 2.6019592978312674e-08, 'lambda_l2': 0.16898561993969036, 'num_leaves': 31, 'feature_fraction': 0.7920490729788312, 'bagging_fraction': 0.9665530070859325, 'bagging_freq': 3, 'min_child_samples': 100}. Best is trial 30 with value: 0.798125.\n"
     ]
    },
    {
     "name": "stdout",
     "output_type": "stream",
     "text": [
      "Early stopping, best iteration is:\n",
      "[21]\tvalid_0's binary_error: 0.216875\n",
      "Training until validation scores don't improve for 10 rounds\n"
     ]
    },
    {
     "name": "stderr",
     "output_type": "stream",
     "text": [
      "[I 2024-01-18 10:40:28,682] Trial 61 finished with value: 0.795 and parameters: {'lambda_l1': 9.075932612258076e-07, 'lambda_l2': 0.716745385668621, 'num_leaves': 51, 'feature_fraction': 0.8771649738076762, 'bagging_fraction': 0.850617336811546, 'bagging_freq': 2, 'min_child_samples': 29}. Best is trial 30 with value: 0.798125.\n"
     ]
    },
    {
     "name": "stdout",
     "output_type": "stream",
     "text": [
      "Early stopping, best iteration is:\n",
      "[20]\tvalid_0's binary_error: 0.205\n",
      "Training until validation scores don't improve for 10 rounds\n"
     ]
    },
    {
     "name": "stderr",
     "output_type": "stream",
     "text": [
      "[I 2024-01-18 10:40:28,892] Trial 62 finished with value: 0.8 and parameters: {'lambda_l1': 5.02310493390708e-07, 'lambda_l2': 1.4693833519311328, 'num_leaves': 66, 'feature_fraction': 0.8678740185830318, 'bagging_fraction': 0.8908088614655446, 'bagging_freq': 2, 'min_child_samples': 24}. Best is trial 62 with value: 0.8.\n",
      "[I 2024-01-18 10:40:29,058] Trial 63 finished with value: 0.793125 and parameters: {'lambda_l1': 1.771023329125351e-07, 'lambda_l2': 1.294053906919894, 'num_leaves': 62, 'feature_fraction': 0.815876962413482, 'bagging_fraction': 0.895047668376501, 'bagging_freq': 1, 'min_child_samples': 23}. Best is trial 62 with value: 0.8.\n"
     ]
    },
    {
     "name": "stdout",
     "output_type": "stream",
     "text": [
      "Early stopping, best iteration is:\n",
      "[15]\tvalid_0's binary_error: 0.2\n",
      "Training until validation scores don't improve for 10 rounds\n",
      "Early stopping, best iteration is:\n",
      "[4]\tvalid_0's binary_error: 0.206875\n"
     ]
    },
    {
     "name": "stderr",
     "output_type": "stream",
     "text": [
      "[I 2024-01-18 10:40:29,299] Trial 64 finished with value: 0.790625 and parameters: {'lambda_l1': 4.354002056137021e-07, 'lambda_l2': 3.4846220738268543, 'num_leaves': 134, 'feature_fraction': 0.854377687584805, 'bagging_fraction': 0.9259979434982678, 'bagging_freq': 4, 'min_child_samples': 37}. Best is trial 62 with value: 0.8.\n"
     ]
    },
    {
     "name": "stdout",
     "output_type": "stream",
     "text": [
      "Training until validation scores don't improve for 10 rounds\n",
      "Early stopping, best iteration is:\n",
      "[5]\tvalid_0's binary_error: 0.209375\n",
      "Training until validation scores don't improve for 10 rounds\n"
     ]
    },
    {
     "name": "stderr",
     "output_type": "stream",
     "text": [
      "[I 2024-01-18 10:40:29,595] Trial 65 finished with value: 0.799375 and parameters: {'lambda_l1': 6.946301401863698e-08, 'lambda_l2': 0.05693206365121258, 'num_leaves': 98, 'feature_fraction': 0.9195221196099312, 'bagging_fraction': 0.8183631590306386, 'bagging_freq': 2, 'min_child_samples': 32}. Best is trial 62 with value: 0.8.\n",
      "[I 2024-01-18 10:40:29,769] Trial 66 finished with value: 0.795625 and parameters: {'lambda_l1': 5.548013865006528e-08, 'lambda_l2': 0.04372136267719492, 'num_leaves': 101, 'feature_fraction': 0.8396528058075027, 'bagging_fraction': 0.8067207758176389, 'bagging_freq': 7, 'min_child_samples': 10}. Best is trial 62 with value: 0.8.\n"
     ]
    },
    {
     "name": "stdout",
     "output_type": "stream",
     "text": [
      "Early stopping, best iteration is:\n",
      "[18]\tvalid_0's binary_error: 0.200625\n",
      "Training until validation scores don't improve for 10 rounds\n",
      "Early stopping, best iteration is:\n",
      "[12]\tvalid_0's binary_error: 0.204375\n"
     ]
    },
    {
     "name": "stderr",
     "output_type": "stream",
     "text": [
      "[I 2024-01-18 10:40:29,979] Trial 67 finished with value: 0.7925 and parameters: {'lambda_l1': 5.450298243503101e-08, 'lambda_l2': 0.03630154915396755, 'num_leaves': 99, 'feature_fraction': 0.7631009092533368, 'bagging_fraction': 0.7984889236347269, 'bagging_freq': 7, 'min_child_samples': 11}. Best is trial 62 with value: 0.8.\n"
     ]
    },
    {
     "name": "stdout",
     "output_type": "stream",
     "text": [
      "Training until validation scores don't improve for 10 rounds\n",
      "Early stopping, best iteration is:\n",
      "[12]\tvalid_0's binary_error: 0.2075\n"
     ]
    },
    {
     "name": "stderr",
     "output_type": "stream",
     "text": [
      "[I 2024-01-18 10:40:30,182] Trial 68 finished with value: 0.791875 and parameters: {'lambda_l1': 1.377872877037807e-08, 'lambda_l2': 0.0751845438995507, 'num_leaves': 114, 'feature_fraction': 0.8130526850225896, 'bagging_fraction': 0.7561024717600724, 'bagging_freq': 7, 'min_child_samples': 10}. Best is trial 62 with value: 0.8.\n"
     ]
    },
    {
     "name": "stdout",
     "output_type": "stream",
     "text": [
      "Training until validation scores don't improve for 10 rounds\n",
      "Early stopping, best iteration is:\n",
      "[7]\tvalid_0's binary_error: 0.208125\n"
     ]
    },
    {
     "name": "stderr",
     "output_type": "stream",
     "text": [
      "[I 2024-01-18 10:40:30,406] Trial 69 finished with value: 0.790625 and parameters: {'lambda_l1': 2.0275381816309445e-08, 'lambda_l2': 0.026553504633511395, 'num_leaves': 95, 'feature_fraction': 0.8432665441405792, 'bagging_fraction': 0.8134940597868706, 'bagging_freq': 6, 'min_child_samples': 20}. Best is trial 62 with value: 0.8.\n"
     ]
    },
    {
     "name": "stdout",
     "output_type": "stream",
     "text": [
      "Training until validation scores don't improve for 10 rounds\n",
      "Early stopping, best iteration is:\n",
      "[10]\tvalid_0's binary_error: 0.209375\n"
     ]
    },
    {
     "name": "stderr",
     "output_type": "stream",
     "text": [
      "[I 2024-01-18 10:40:30,648] Trial 70 finished with value: 0.785 and parameters: {'lambda_l1': 2.308635375194116e-06, 'lambda_l2': 0.14971467648265985, 'num_leaves': 76, 'feature_fraction': 0.8638384781231804, 'bagging_fraction': 0.8431489860490472, 'bagging_freq': 1, 'min_child_samples': 6}. Best is trial 62 with value: 0.8.\n"
     ]
    },
    {
     "name": "stdout",
     "output_type": "stream",
     "text": [
      "Training until validation scores don't improve for 10 rounds\n",
      "Early stopping, best iteration is:\n",
      "[22]\tvalid_0's binary_error: 0.215\n",
      "Training until validation scores don't improve for 10 rounds\n",
      "Early stopping, best iteration is:\n",
      "[24]\tvalid_0's binary_error: 0.20125\n"
     ]
    },
    {
     "name": "stderr",
     "output_type": "stream",
     "text": [
      "[I 2024-01-18 10:40:30,955] Trial 71 finished with value: 0.79875 and parameters: {'lambda_l1': 4.1812011185827484e-07, 'lambda_l2': 0.2814732237918765, 'num_leaves': 105, 'feature_fraction': 0.8904373715959967, 'bagging_fraction': 0.826226869794457, 'bagging_freq': 3, 'min_child_samples': 32}. Best is trial 62 with value: 0.8.\n",
      "[I 2024-01-18 10:40:31,125] Trial 72 finished with value: 0.78875 and parameters: {'lambda_l1': 6.378694988078877e-08, 'lambda_l2': 0.2795678216408537, 'num_leaves': 119, 'feature_fraction': 0.8325375671259635, 'bagging_fraction': 0.7879607857916409, 'bagging_freq': 2, 'min_child_samples': 32}. Best is trial 62 with value: 0.8.\n"
     ]
    },
    {
     "name": "stdout",
     "output_type": "stream",
     "text": [
      "Training until validation scores don't improve for 10 rounds\n",
      "Early stopping, best iteration is:\n",
      "[12]\tvalid_0's binary_error: 0.21125\n",
      "Training until validation scores don't improve for 10 rounds\n"
     ]
    },
    {
     "name": "stderr",
     "output_type": "stream",
     "text": [
      "[I 2024-01-18 10:40:31,287] Trial 73 finished with value: 0.78875 and parameters: {'lambda_l1': 2.0208369382455735e-07, 'lambda_l2': 0.05901518508802165, 'num_leaves': 106, 'feature_fraction': 0.8910465478408779, 'bagging_fraction': 0.8394197149157652, 'bagging_freq': 4, 'min_child_samples': 35}. Best is trial 62 with value: 0.8.\n"
     ]
    },
    {
     "name": "stdout",
     "output_type": "stream",
     "text": [
      "Early stopping, best iteration is:\n",
      "[14]\tvalid_0's binary_error: 0.21125\n",
      "Training until validation scores don't improve for 10 rounds\n"
     ]
    },
    {
     "name": "stderr",
     "output_type": "stream",
     "text": [
      "[I 2024-01-18 10:40:31,631] Trial 74 finished with value: 0.784375 and parameters: {'lambda_l1': 5.50252436986137e-07, 'lambda_l2': 0.020915810847526254, 'num_leaves': 92, 'feature_fraction': 0.9404401482164972, 'bagging_fraction': 0.8573674670918902, 'bagging_freq': 3, 'min_child_samples': 40}. Best is trial 62 with value: 0.8.\n"
     ]
    },
    {
     "name": "stdout",
     "output_type": "stream",
     "text": [
      "Early stopping, best iteration is:\n",
      "[17]\tvalid_0's binary_error: 0.215625\n",
      "Training until validation scores don't improve for 10 rounds\n"
     ]
    },
    {
     "name": "stderr",
     "output_type": "stream",
     "text": [
      "[I 2024-01-18 10:40:31,935] Trial 75 finished with value: 0.788125 and parameters: {'lambda_l1': 1.5244659228532142e-06, 'lambda_l2': 0.010810089378386378, 'num_leaves': 139, 'feature_fraction': 0.8630854093566425, 'bagging_fraction': 0.7722020637504365, 'bagging_freq': 2, 'min_child_samples': 25}. Best is trial 62 with value: 0.8.\n"
     ]
    },
    {
     "name": "stdout",
     "output_type": "stream",
     "text": [
      "Early stopping, best iteration is:\n",
      "[9]\tvalid_0's binary_error: 0.211875\n",
      "Training until validation scores don't improve for 10 rounds\n"
     ]
    },
    {
     "name": "stderr",
     "output_type": "stream",
     "text": [
      "[I 2024-01-18 10:40:32,156] Trial 76 finished with value: 0.7975 and parameters: {'lambda_l1': 3.69403300529383e-08, 'lambda_l2': 0.1905666524373911, 'num_leaves': 166, 'feature_fraction': 0.7954490611886029, 'bagging_fraction': 0.8145519767087888, 'bagging_freq': 1, 'min_child_samples': 31}. Best is trial 62 with value: 0.8.\n",
      "[I 2024-01-18 10:40:32,339] Trial 77 finished with value: 0.79125 and parameters: {'lambda_l1': 2.929122755593584e-08, 'lambda_l2': 0.09777246686445706, 'num_leaves': 152, 'feature_fraction': 0.8187177540595375, 'bagging_fraction': 0.8123029834540159, 'bagging_freq': 1, 'min_child_samples': 26}. Best is trial 62 with value: 0.8.\n"
     ]
    },
    {
     "name": "stdout",
     "output_type": "stream",
     "text": [
      "Early stopping, best iteration is:\n",
      "[17]\tvalid_0's binary_error: 0.2025\n",
      "Training until validation scores don't improve for 10 rounds\n",
      "Early stopping, best iteration is:\n",
      "[8]\tvalid_0's binary_error: 0.20875\n"
     ]
    },
    {
     "name": "stderr",
     "output_type": "stream",
     "text": [
      "[I 2024-01-18 10:40:32,679] Trial 78 finished with value: 0.796875 and parameters: {'lambda_l1': 4.5869598664294196e-08, 'lambda_l2': 0.18983071151677516, 'num_leaves': 103, 'feature_fraction': 0.797210479876539, 'bagging_fraction': 0.8962023878858686, 'bagging_freq': 1, 'min_child_samples': 18}. Best is trial 62 with value: 0.8.\n"
     ]
    },
    {
     "name": "stdout",
     "output_type": "stream",
     "text": [
      "Training until validation scores don't improve for 10 rounds\n",
      "Early stopping, best iteration is:\n",
      "[14]\tvalid_0's binary_error: 0.203125\n"
     ]
    },
    {
     "name": "stderr",
     "output_type": "stream",
     "text": [
      "[I 2024-01-18 10:40:32,991] Trial 79 finished with value: 0.791875 and parameters: {'lambda_l1': 9.599637548480244e-08, 'lambda_l2': 0.15610885472335317, 'num_leaves': 162, 'feature_fraction': 0.8001412064335764, 'bagging_fraction': 0.9423666685478883, 'bagging_freq': 1, 'min_child_samples': 18}. Best is trial 62 with value: 0.8.\n"
     ]
    },
    {
     "name": "stdout",
     "output_type": "stream",
     "text": [
      "Training until validation scores don't improve for 10 rounds\n",
      "Early stopping, best iteration is:\n",
      "[18]\tvalid_0's binary_error: 0.208125\n"
     ]
    },
    {
     "name": "stderr",
     "output_type": "stream",
     "text": [
      "[I 2024-01-18 10:40:33,151] Trial 80 finished with value: 0.784375 and parameters: {'lambda_l1': 1.690036751757314e-08, 'lambda_l2': 0.7737437839290705, 'num_leaves': 166, 'feature_fraction': 0.7857585065583932, 'bagging_fraction': 0.9158719108505492, 'bagging_freq': 1, 'min_child_samples': 22}. Best is trial 62 with value: 0.8.\n"
     ]
    },
    {
     "name": "stdout",
     "output_type": "stream",
     "text": [
      "Training until validation scores don't improve for 10 rounds\n",
      "Early stopping, best iteration is:\n",
      "[2]\tvalid_0's binary_error: 0.215625\n",
      "Training until validation scores don't improve for 10 rounds\n"
     ]
    },
    {
     "name": "stderr",
     "output_type": "stream",
     "text": [
      "[I 2024-01-18 10:40:33,475] Trial 81 finished with value: 0.790625 and parameters: {'lambda_l1': 1.0732864796557321e-08, 'lambda_l2': 0.05027392460157405, 'num_leaves': 102, 'feature_fraction': 0.8351669378990358, 'bagging_fraction': 0.8925508006545804, 'bagging_freq': 1, 'min_child_samples': 13}. Best is trial 62 with value: 0.8.\n",
      "[I 2024-01-18 10:40:33,638] Trial 82 finished with value: 0.7875 and parameters: {'lambda_l1': 3.956565801900076e-08, 'lambda_l2': 0.23338642291234982, 'num_leaves': 114, 'feature_fraction': 0.7588287252069247, 'bagging_fraction': 0.8618329020739054, 'bagging_freq': 1, 'min_child_samples': 16}. Best is trial 62 with value: 0.8.\n"
     ]
    },
    {
     "name": "stdout",
     "output_type": "stream",
     "text": [
      "Early stopping, best iteration is:\n",
      "[8]\tvalid_0's binary_error: 0.209375\n",
      "Training until validation scores don't improve for 10 rounds\n",
      "Early stopping, best iteration is:\n",
      "[2]\tvalid_0's binary_error: 0.2125\n",
      "Training until validation scores don't improve for 10 rounds\n"
     ]
    },
    {
     "name": "stderr",
     "output_type": "stream",
     "text": [
      "[I 2024-01-18 10:40:34,289] Trial 83 finished with value: 0.796875 and parameters: {'lambda_l1': 5.275006383542627e-08, 'lambda_l2': 0.10015119135663365, 'num_leaves': 80, 'feature_fraction': 0.8484203144089126, 'bagging_fraction': 0.8213712926603318, 'bagging_freq': 1, 'min_child_samples': 9}. Best is trial 62 with value: 0.8.\n"
     ]
    },
    {
     "name": "stdout",
     "output_type": "stream",
     "text": [
      "Early stopping, best iteration is:\n",
      "[12]\tvalid_0's binary_error: 0.203125\n",
      "Training until validation scores don't improve for 10 rounds\n"
     ]
    },
    {
     "name": "stderr",
     "output_type": "stream",
     "text": [
      "[I 2024-01-18 10:40:34,633] Trial 84 finished with value: 0.79375 and parameters: {'lambda_l1': 1.9847561741281005e-07, 'lambda_l2': 0.0896853365280235, 'num_leaves': 80, 'feature_fraction': 0.8208090330653354, 'bagging_fraction': 0.8884686255177762, 'bagging_freq': 1, 'min_child_samples': 30}. Best is trial 62 with value: 0.8.\n"
     ]
    },
    {
     "name": "stdout",
     "output_type": "stream",
     "text": [
      "Early stopping, best iteration is:\n",
      "[15]\tvalid_0's binary_error: 0.20625\n",
      "Training until validation scores don't improve for 10 rounds\n"
     ]
    },
    {
     "name": "stderr",
     "output_type": "stream",
     "text": [
      "[I 2024-01-18 10:40:35,780] Trial 85 finished with value: 0.791875 and parameters: {'lambda_l1': 1.0290555653171992e-07, 'lambda_l2': 1.386563373322455, 'num_leaves': 122, 'feature_fraction': 0.8646020779805678, 'bagging_fraction': 0.9064808425311603, 'bagging_freq': 1, 'min_child_samples': 46}. Best is trial 62 with value: 0.8.\n"
     ]
    },
    {
     "name": "stdout",
     "output_type": "stream",
     "text": [
      "Early stopping, best iteration is:\n",
      "[14]\tvalid_0's binary_error: 0.208125\n",
      "Training until validation scores don't improve for 10 rounds\n"
     ]
    },
    {
     "name": "stderr",
     "output_type": "stream",
     "text": [
      "[I 2024-01-18 10:40:36,292] Trial 86 finished with value: 0.793125 and parameters: {'lambda_l1': 2.5730094030441967e-08, 'lambda_l2': 0.4959641598429509, 'num_leaves': 91, 'feature_fraction': 0.7933938520958472, 'bagging_fraction': 0.8250959369242062, 'bagging_freq': 1, 'min_child_samples': 21}. Best is trial 62 with value: 0.8.\n"
     ]
    },
    {
     "name": "stdout",
     "output_type": "stream",
     "text": [
      "Early stopping, best iteration is:\n",
      "[8]\tvalid_0's binary_error: 0.206875\n"
     ]
    },
    {
     "name": "stderr",
     "output_type": "stream",
     "text": [
      "[I 2024-01-18 10:40:36,758] Trial 87 finished with value: 0.7925 and parameters: {'lambda_l1': 1.5271165660117843e-07, 'lambda_l2': 0.0003023346372932061, 'num_leaves': 127, 'feature_fraction': 0.8889730134584841, 'bagging_fraction': 0.789250719196159, 'bagging_freq': 1, 'min_child_samples': 36}. Best is trial 62 with value: 0.8.\n"
     ]
    },
    {
     "name": "stdout",
     "output_type": "stream",
     "text": [
      "Training until validation scores don't improve for 10 rounds\n",
      "Early stopping, best iteration is:\n",
      "[4]\tvalid_0's binary_error: 0.2075\n"
     ]
    },
    {
     "name": "stderr",
     "output_type": "stream",
     "text": [
      "[I 2024-01-18 10:40:37,057] Trial 88 finished with value: 0.793125 and parameters: {'lambda_l1': 2.9974540168113806e-07, 'lambda_l2': 0.239408911701593, 'num_leaves': 83, 'feature_fraction': 0.8056877237084185, 'bagging_fraction': 0.8676078065874006, 'bagging_freq': 2, 'min_child_samples': 25}. Best is trial 62 with value: 0.8.\n"
     ]
    },
    {
     "name": "stdout",
     "output_type": "stream",
     "text": [
      "Training until validation scores don't improve for 10 rounds\n",
      "Early stopping, best iteration is:\n",
      "[7]\tvalid_0's binary_error: 0.206875\n"
     ]
    },
    {
     "name": "stderr",
     "output_type": "stream",
     "text": [
      "[I 2024-01-18 10:40:37,462] Trial 89 finished with value: 0.793125 and parameters: {'lambda_l1': 5.022964473464112e-08, 'lambda_l2': 0.10488924840447929, 'num_leaves': 111, 'feature_fraction': 0.842900171034624, 'bagging_fraction': 0.8358264066475329, 'bagging_freq': 1, 'min_child_samples': 8}. Best is trial 62 with value: 0.8.\n"
     ]
    },
    {
     "name": "stdout",
     "output_type": "stream",
     "text": [
      "Training until validation scores don't improve for 10 rounds\n",
      "Early stopping, best iteration is:\n",
      "[11]\tvalid_0's binary_error: 0.206875\n"
     ]
    },
    {
     "name": "stderr",
     "output_type": "stream",
     "text": [
      "[I 2024-01-18 10:40:37,813] Trial 90 finished with value: 0.794375 and parameters: {'lambda_l1': 4.0852378118215074e-07, 'lambda_l2': 0.01721388425618341, 'num_leaves': 171, 'feature_fraction': 0.8742412893382339, 'bagging_fraction': 0.8201479027006324, 'bagging_freq': 2, 'min_child_samples': 13}. Best is trial 62 with value: 0.8.\n"
     ]
    },
    {
     "name": "stdout",
     "output_type": "stream",
     "text": [
      "Training until validation scores don't improve for 10 rounds\n",
      "Early stopping, best iteration is:\n",
      "[8]\tvalid_0's binary_error: 0.205625\n"
     ]
    },
    {
     "name": "stderr",
     "output_type": "stream",
     "text": [
      "[I 2024-01-18 10:40:38,161] Trial 91 finished with value: 0.785625 and parameters: {'lambda_l1': 7.519743242561473e-08, 'lambda_l2': 0.04909039665916734, 'num_leaves': 104, 'feature_fraction': 0.8484116832661538, 'bagging_fraction': 0.8039561624529502, 'bagging_freq': 5, 'min_child_samples': 9}. Best is trial 62 with value: 0.8.\n"
     ]
    },
    {
     "name": "stdout",
     "output_type": "stream",
     "text": [
      "Training until validation scores don't improve for 10 rounds\n",
      "Early stopping, best iteration is:\n",
      "[31]\tvalid_0's binary_error: 0.214375\n"
     ]
    },
    {
     "name": "stderr",
     "output_type": "stream",
     "text": [
      "[I 2024-01-18 10:40:38,379] Trial 92 finished with value: 0.786875 and parameters: {'lambda_l1': 4.279609415411535e-08, 'lambda_l2': 0.010078280184451742, 'num_leaves': 75, 'feature_fraction': 0.8249066422120959, 'bagging_fraction': 0.8510190570681979, 'bagging_freq': 3, 'min_child_samples': 12}. Best is trial 62 with value: 0.8.\n"
     ]
    },
    {
     "name": "stdout",
     "output_type": "stream",
     "text": [
      "Training until validation scores don't improve for 10 rounds\n",
      "Early stopping, best iteration is:\n",
      "[6]\tvalid_0's binary_error: 0.213125\n"
     ]
    },
    {
     "name": "stderr",
     "output_type": "stream",
     "text": [
      "[I 2024-01-18 10:40:38,714] Trial 93 finished with value: 0.7925 and parameters: {'lambda_l1': 1.1685403077151054e-07, 'lambda_l2': 0.02809949765816339, 'num_leaves': 89, 'feature_fraction': 0.8573615728513481, 'bagging_fraction': 0.7712229296535815, 'bagging_freq': 2, 'min_child_samples': 6}. Best is trial 62 with value: 0.8.\n"
     ]
    },
    {
     "name": "stdout",
     "output_type": "stream",
     "text": [
      "Training until validation scores don't improve for 10 rounds\n",
      "Early stopping, best iteration is:\n",
      "[12]\tvalid_0's binary_error: 0.2075\n"
     ]
    },
    {
     "name": "stderr",
     "output_type": "stream",
     "text": [
      "[I 2024-01-18 10:40:38,903] Trial 94 finished with value: 0.791875 and parameters: {'lambda_l1': 2.0960358500866535e-08, 'lambda_l2': 0.19031899030056884, 'num_leaves': 117, 'feature_fraction': 0.8977402569950602, 'bagging_fraction': 0.8012441332806276, 'bagging_freq': 1, 'min_child_samples': 32}. Best is trial 62 with value: 0.8.\n"
     ]
    },
    {
     "name": "stdout",
     "output_type": "stream",
     "text": [
      "Training until validation scores don't improve for 10 rounds\n",
      "Early stopping, best iteration is:\n",
      "[6]\tvalid_0's binary_error: 0.208125\n",
      "Training until validation scores don't improve for 10 rounds\n"
     ]
    },
    {
     "name": "stderr",
     "output_type": "stream",
     "text": [
      "[I 2024-01-18 10:40:39,197] Trial 95 finished with value: 0.7925 and parameters: {'lambda_l1': 6.242723953090945e-08, 'lambda_l2': 0.4512949440625412, 'num_leaves': 99, 'feature_fraction': 0.7796865754455757, 'bagging_fraction': 0.8285601981490465, 'bagging_freq': 1, 'min_child_samples': 15}. Best is trial 62 with value: 0.8.\n"
     ]
    },
    {
     "name": "stdout",
     "output_type": "stream",
     "text": [
      "Early stopping, best iteration is:\n",
      "[11]\tvalid_0's binary_error: 0.2075\n",
      "Training until validation scores don't improve for 10 rounds\n",
      "Early stopping, best iteration is:\n",
      "[17]\tvalid_0's binary_error: 0.22\n"
     ]
    },
    {
     "name": "stderr",
     "output_type": "stream",
     "text": [
      "[I 2024-01-18 10:40:39,695] Trial 96 finished with value: 0.78 and parameters: {'lambda_l1': 2.3948671402163717e-07, 'lambda_l2': 0.06397177657478047, 'num_leaves': 109, 'feature_fraction': 0.8799147325430271, 'bagging_fraction': 0.8750661861719801, 'bagging_freq': 4, 'min_child_samples': 89}. Best is trial 62 with value: 0.8.\n"
     ]
    },
    {
     "name": "stdout",
     "output_type": "stream",
     "text": [
      "Training until validation scores don't improve for 10 rounds\n"
     ]
    },
    {
     "name": "stderr",
     "output_type": "stream",
     "text": [
      "[I 2024-01-18 10:40:40,049] Trial 97 finished with value: 0.795625 and parameters: {'lambda_l1': 6.169154163040258e-07, 'lambda_l2': 0.04225381301301767, 'num_leaves': 132, 'feature_fraction': 0.840211334815166, 'bagging_fraction': 0.8182620785174113, 'bagging_freq': 2, 'min_child_samples': 29}. Best is trial 62 with value: 0.8.\n"
     ]
    },
    {
     "name": "stdout",
     "output_type": "stream",
     "text": [
      "Early stopping, best iteration is:\n",
      "[17]\tvalid_0's binary_error: 0.204375\n",
      "Training until validation scores don't improve for 10 rounds\n"
     ]
    },
    {
     "name": "stderr",
     "output_type": "stream",
     "text": [
      "[I 2024-01-18 10:40:41,006] Trial 98 finished with value: 0.785 and parameters: {'lambda_l1': 3.018068818616338e-08, 'lambda_l2': 0.8097710858585351, 'num_leaves': 72, 'feature_fraction': 0.8078914422247585, 'bagging_fraction': 0.789953031157408, 'bagging_freq': 3, 'min_child_samples': 59}. Best is trial 62 with value: 0.8.\n"
     ]
    },
    {
     "name": "stdout",
     "output_type": "stream",
     "text": [
      "Early stopping, best iteration is:\n",
      "[32]\tvalid_0's binary_error: 0.215\n",
      "Training until validation scores don't improve for 10 rounds\n"
     ]
    },
    {
     "name": "stderr",
     "output_type": "stream",
     "text": [
      "[I 2024-01-18 10:40:41,465] Trial 99 finished with value: 0.789375 and parameters: {'lambda_l1': 1.141035488999006e-06, 'lambda_l2': 0.12756295457856215, 'num_leaves': 61, 'feature_fraction': 0.9004251935627653, 'bagging_fraction': 0.8637115026324047, 'bagging_freq': 1, 'min_child_samples': 39}. Best is trial 62 with value: 0.8.\n"
     ]
    },
    {
     "name": "stdout",
     "output_type": "stream",
     "text": [
      "Early stopping, best iteration is:\n",
      "[24]\tvalid_0's binary_error: 0.210625\n"
     ]
    },
    {
     "name": "stderr",
     "output_type": "stream",
     "text": [
      "[I 2024-01-18 10:40:41,949] A new study created in memory with name: no-name-8beade1b-e262-48d3-a3e1-af263375793a\n",
      "[I 2024-01-18 10:40:42,100] Trial 0 finished with value: 0.77375 and parameters: {'lambda_l1': 7.816969704047598e-08, 'lambda_l2': 1.7630801876485671e-06, 'num_leaves': 10, 'feature_fraction': 0.8390727445584494, 'bagging_fraction': 0.7076796835685653, 'bagging_freq': 6, 'min_child_samples': 96}. Best is trial 0 with value: 0.77375.\n"
     ]
    },
    {
     "name": "stdout",
     "output_type": "stream",
     "text": [
      "Training until validation scores don't improve for 10 rounds\n",
      "Early stopping, best iteration is:\n",
      "[14]\tvalid_0's binary_error: 0.22625\n",
      "Training until validation scores don't improve for 10 rounds\n"
     ]
    },
    {
     "name": "stderr",
     "output_type": "stream",
     "text": [
      "[I 2024-01-18 10:40:42,241] Trial 1 finished with value: 0.784375 and parameters: {'lambda_l1': 3.814881323759146e-06, 'lambda_l2': 1.0121579035515886e-08, 'num_leaves': 44, 'feature_fraction': 0.5034700476091022, 'bagging_fraction': 0.5727947504424139, 'bagging_freq': 5, 'min_child_samples': 97}. Best is trial 1 with value: 0.784375.\n"
     ]
    },
    {
     "name": "stdout",
     "output_type": "stream",
     "text": [
      "Early stopping, best iteration is:\n",
      "[37]\tvalid_0's binary_error: 0.215625\n",
      "Training until validation scores don't improve for 10 rounds\n"
     ]
    },
    {
     "name": "stderr",
     "output_type": "stream",
     "text": [
      "[I 2024-01-18 10:40:42,545] Trial 2 finished with value: 0.77875 and parameters: {'lambda_l1': 0.12477122750379245, 'lambda_l2': 0.3139248962083103, 'num_leaves': 23, 'feature_fraction': 0.8686270514842857, 'bagging_fraction': 0.9314721686055513, 'bagging_freq': 2, 'min_child_samples': 89}. Best is trial 1 with value: 0.784375.\n",
      "[I 2024-01-18 10:40:42,691] Trial 3 finished with value: 0.78375 and parameters: {'lambda_l1': 1.077455862264654e-06, 'lambda_l2': 0.054395349898331, 'num_leaves': 145, 'feature_fraction': 0.6110679992021327, 'bagging_fraction': 0.5519771671192488, 'bagging_freq': 3, 'min_child_samples': 83}. Best is trial 1 with value: 0.784375.\n"
     ]
    },
    {
     "name": "stdout",
     "output_type": "stream",
     "text": [
      "Early stopping, best iteration is:\n",
      "[24]\tvalid_0's binary_error: 0.22125\n",
      "Training until validation scores don't improve for 10 rounds\n",
      "Early stopping, best iteration is:\n",
      "[17]\tvalid_0's binary_error: 0.21625\n"
     ]
    },
    {
     "name": "stderr",
     "output_type": "stream",
     "text": [
      "[I 2024-01-18 10:40:42,905] Trial 4 finished with value: 0.780625 and parameters: {'lambda_l1': 0.1650486348243435, 'lambda_l2': 0.5942552667923878, 'num_leaves': 19, 'feature_fraction': 0.7455040750550095, 'bagging_fraction': 0.9961973452017339, 'bagging_freq': 7, 'min_child_samples': 60}. Best is trial 1 with value: 0.784375.\n"
     ]
    },
    {
     "name": "stdout",
     "output_type": "stream",
     "text": [
      "Training until validation scores don't improve for 10 rounds\n",
      "Early stopping, best iteration is:\n",
      "[19]\tvalid_0's binary_error: 0.219375\n",
      "Training until validation scores don't improve for 10 rounds\n"
     ]
    },
    {
     "name": "stderr",
     "output_type": "stream",
     "text": [
      "[I 2024-01-18 10:40:43,515] Trial 5 finished with value: 0.79 and parameters: {'lambda_l1': 8.061382979240133e-06, 'lambda_l2': 0.0001462209282993093, 'num_leaves': 140, 'feature_fraction': 0.8095785440751204, 'bagging_fraction': 0.8335410230688951, 'bagging_freq': 3, 'min_child_samples': 35}. Best is trial 5 with value: 0.79.\n",
      "[I 2024-01-18 10:40:43,637] Trial 6 finished with value: 0.77875 and parameters: {'lambda_l1': 0.000271413712915147, 'lambda_l2': 0.00019091962854959985, 'num_leaves': 199, 'feature_fraction': 0.6100413168509707, 'bagging_fraction': 0.4379825051892697, 'bagging_freq': 7, 'min_child_samples': 63}. Best is trial 5 with value: 0.79.\n"
     ]
    },
    {
     "name": "stdout",
     "output_type": "stream",
     "text": [
      "Early stopping, best iteration is:\n",
      "[22]\tvalid_0's binary_error: 0.21\n",
      "Training until validation scores don't improve for 10 rounds\n",
      "Early stopping, best iteration is:\n",
      "[14]\tvalid_0's binary_error: 0.22125\n",
      "Training until validation scores don't improve for 10 rounds\n"
     ]
    },
    {
     "name": "stderr",
     "output_type": "stream",
     "text": [
      "[I 2024-01-18 10:40:43,931] Trial 7 finished with value: 0.786875 and parameters: {'lambda_l1': 4.937356002559198e-08, 'lambda_l2': 2.323938289559056e-08, 'num_leaves': 189, 'feature_fraction': 0.751354622594443, 'bagging_fraction': 0.8757705544510873, 'bagging_freq': 7, 'min_child_samples': 39}. Best is trial 5 with value: 0.79.\n"
     ]
    },
    {
     "name": "stdout",
     "output_type": "stream",
     "text": [
      "Early stopping, best iteration is:\n",
      "[7]\tvalid_0's binary_error: 0.213125\n",
      "Training until validation scores don't improve for 10 rounds\n",
      "Early stopping, best iteration is:\n",
      "[22]\tvalid_0's binary_error: 0.21125\n"
     ]
    },
    {
     "name": "stderr",
     "output_type": "stream",
     "text": [
      "[I 2024-01-18 10:40:44,122] Trial 8 finished with value: 0.78875 and parameters: {'lambda_l1': 1.659833635320742e-08, 'lambda_l2': 8.380584799843085e-08, 'num_leaves': 104, 'feature_fraction': 0.9875568031799659, 'bagging_fraction': 0.6877239403103312, 'bagging_freq': 7, 'min_child_samples': 70}. Best is trial 5 with value: 0.79.\n"
     ]
    },
    {
     "name": "stdout",
     "output_type": "stream",
     "text": [
      "Training until validation scores don't improve for 10 rounds\n"
     ]
    },
    {
     "name": "stderr",
     "output_type": "stream",
     "text": [
      "[I 2024-01-18 10:40:44,389] Trial 9 finished with value: 0.791875 and parameters: {'lambda_l1': 2.7925319479055217e-06, 'lambda_l2': 8.686627623853887e-06, 'num_leaves': 247, 'feature_fraction': 0.9119839048367616, 'bagging_fraction': 0.616420381503326, 'bagging_freq': 7, 'min_child_samples': 50}. Best is trial 9 with value: 0.791875.\n"
     ]
    },
    {
     "name": "stdout",
     "output_type": "stream",
     "text": [
      "Early stopping, best iteration is:\n",
      "[32]\tvalid_0's binary_error: 0.208125\n",
      "Training until validation scores don't improve for 10 rounds\n"
     ]
    },
    {
     "name": "stderr",
     "output_type": "stream",
     "text": [
      "[I 2024-01-18 10:40:44,881] Trial 10 finished with value: 0.76875 and parameters: {'lambda_l1': 0.0015357255266985298, 'lambda_l2': 3.845323316626519e-06, 'num_leaves': 242, 'feature_fraction': 0.980934284607143, 'bagging_fraction': 0.4046399740252179, 'bagging_freq': 1, 'min_child_samples': 5}. Best is trial 9 with value: 0.791875.\n",
      "[I 2024-01-18 10:40:45,043] Trial 11 finished with value: 0.780625 and parameters: {'lambda_l1': 3.205337000458355e-05, 'lambda_l2': 0.0009812129481437306, 'num_leaves': 101, 'feature_fraction': 0.8580297312359318, 'bagging_fraction': 0.813881130502805, 'bagging_freq': 3, 'min_child_samples': 37}. Best is trial 9 with value: 0.791875.\n"
     ]
    },
    {
     "name": "stdout",
     "output_type": "stream",
     "text": [
      "Early stopping, best iteration is:\n",
      "[5]\tvalid_0's binary_error: 0.23125\n",
      "Training until validation scores don't improve for 10 rounds\n",
      "Early stopping, best iteration is:\n",
      "[3]\tvalid_0's binary_error: 0.219375\n"
     ]
    },
    {
     "name": "stderr",
     "output_type": "stream",
     "text": [
      "[I 2024-01-18 10:40:45,338] Trial 12 finished with value: 0.791875 and parameters: {'lambda_l1': 3.855357799877978e-06, 'lambda_l2': 0.0001697460220108358, 'num_leaves': 254, 'feature_fraction': 0.40975652464130047, 'bagging_fraction': 0.7783907790284086, 'bagging_freq': 4, 'min_child_samples': 32}. Best is trial 9 with value: 0.791875.\n"
     ]
    },
    {
     "name": "stdout",
     "output_type": "stream",
     "text": [
      "Training until validation scores don't improve for 10 rounds\n",
      "Early stopping, best iteration is:\n",
      "[22]\tvalid_0's binary_error: 0.208125\n",
      "Training until validation scores don't improve for 10 rounds\n"
     ]
    },
    {
     "name": "stderr",
     "output_type": "stream",
     "text": [
      "[I 2024-01-18 10:40:45,917] Trial 13 finished with value: 0.785625 and parameters: {'lambda_l1': 6.277878579155067e-07, 'lambda_l2': 0.004885426769651653, 'num_leaves': 256, 'feature_fraction': 0.44780773685312425, 'bagging_fraction': 0.7211302716813071, 'bagging_freq': 5, 'min_child_samples': 19}. Best is trial 9 with value: 0.791875.\n"
     ]
    },
    {
     "name": "stdout",
     "output_type": "stream",
     "text": [
      "Early stopping, best iteration is:\n",
      "[7]\tvalid_0's binary_error: 0.214375\n",
      "Training until validation scores don't improve for 10 rounds\n"
     ]
    },
    {
     "name": "stderr",
     "output_type": "stream",
     "text": [
      "[I 2024-01-18 10:40:46,332] Trial 14 finished with value: 0.781875 and parameters: {'lambda_l1': 0.00014641233683758146, 'lambda_l2': 1.4828819718050043e-05, 'num_leaves': 211, 'feature_fraction': 0.40599304087664645, 'bagging_fraction': 0.7770739442344162, 'bagging_freq': 5, 'min_child_samples': 47}. Best is trial 9 with value: 0.791875.\n"
     ]
    },
    {
     "name": "stdout",
     "output_type": "stream",
     "text": [
      "Early stopping, best iteration is:\n",
      "[2]\tvalid_0's binary_error: 0.218125\n",
      "Training until validation scores don't improve for 10 rounds\n"
     ]
    },
    {
     "name": "stderr",
     "output_type": "stream",
     "text": [
      "[I 2024-01-18 10:40:46,630] Trial 15 finished with value: 0.784375 and parameters: {'lambda_l1': 0.004100625218099656, 'lambda_l2': 3.3428457209174863e-05, 'num_leaves': 222, 'feature_fraction': 0.6503833177123691, 'bagging_fraction': 0.6346966405139666, 'bagging_freq': 4, 'min_child_samples': 25}. Best is trial 9 with value: 0.791875.\n"
     ]
    },
    {
     "name": "stdout",
     "output_type": "stream",
     "text": [
      "Early stopping, best iteration is:\n",
      "[9]\tvalid_0's binary_error: 0.215625\n",
      "Training until validation scores don't improve for 10 rounds\n"
     ]
    },
    {
     "name": "stderr",
     "output_type": "stream",
     "text": [
      "[I 2024-01-18 10:40:47,051] Trial 16 finished with value: 0.79625 and parameters: {'lambda_l1': 4.110650356881804e-07, 'lambda_l2': 5.633504809480185, 'num_leaves': 173, 'feature_fraction': 0.5217341747783724, 'bagging_fraction': 0.7518732096770273, 'bagging_freq': 4, 'min_child_samples': 51}. Best is trial 16 with value: 0.79625.\n"
     ]
    },
    {
     "name": "stdout",
     "output_type": "stream",
     "text": [
      "Early stopping, best iteration is:\n",
      "[39]\tvalid_0's binary_error: 0.20375\n",
      "Training until validation scores don't improve for 10 rounds\n"
     ]
    },
    {
     "name": "stderr",
     "output_type": "stream",
     "text": [
      "[I 2024-01-18 10:40:48,166] Trial 17 finished with value: 0.783125 and parameters: {'lambda_l1': 1.7660935441455442e-07, 'lambda_l2': 2.822208817035675, 'num_leaves': 167, 'feature_fraction': 0.5572702954689173, 'bagging_fraction': 0.6565033633307016, 'bagging_freq': 6, 'min_child_samples': 52}. Best is trial 16 with value: 0.79625.\n"
     ]
    },
    {
     "name": "stdout",
     "output_type": "stream",
     "text": [
      "Early stopping, best iteration is:\n",
      "[9]\tvalid_0's binary_error: 0.216875\n",
      "Training until validation scores don't improve for 10 rounds\n"
     ]
    },
    {
     "name": "stderr",
     "output_type": "stream",
     "text": [
      "[I 2024-01-18 10:40:48,392] Trial 18 finished with value: 0.780625 and parameters: {'lambda_l1': 1.100119856412537e-08, 'lambda_l2': 9.601704051390598, 'num_leaves': 171, 'feature_fraction': 0.6855358994371947, 'bagging_fraction': 0.5917680627034998, 'bagging_freq': 6, 'min_child_samples': 73}. Best is trial 16 with value: 0.79625.\n"
     ]
    },
    {
     "name": "stdout",
     "output_type": "stream",
     "text": [
      "Early stopping, best iteration is:\n",
      "[12]\tvalid_0's binary_error: 0.219375\n"
     ]
    },
    {
     "name": "stderr",
     "output_type": "stream",
     "text": [
      "[I 2024-01-18 10:40:48,767] Trial 19 finished with value: 0.784375 and parameters: {'lambda_l1': 3.786549203513317e-07, 'lambda_l2': 0.011736360954376395, 'num_leaves': 78, 'feature_fraction': 0.5136603412333012, 'bagging_fraction': 0.4935887801152009, 'bagging_freq': 2, 'min_child_samples': 49}. Best is trial 16 with value: 0.79625.\n"
     ]
    },
    {
     "name": "stdout",
     "output_type": "stream",
     "text": [
      "Training until validation scores don't improve for 10 rounds\n",
      "Early stopping, best iteration is:\n",
      "[20]\tvalid_0's binary_error: 0.215625\n"
     ]
    },
    {
     "name": "stderr",
     "output_type": "stream",
     "text": [
      "[I 2024-01-18 10:40:48,992] Trial 20 finished with value: 0.791875 and parameters: {'lambda_l1': 1.6366859459613872e-05, 'lambda_l2': 0.0022035477306870826, 'num_leaves': 231, 'feature_fraction': 0.912431498436334, 'bagging_fraction': 0.7328835920478699, 'bagging_freq': 4, 'min_child_samples': 60}. Best is trial 16 with value: 0.79625.\n"
     ]
    },
    {
     "name": "stdout",
     "output_type": "stream",
     "text": [
      "Training until validation scores don't improve for 10 rounds\n",
      "Early stopping, best iteration is:\n",
      "[25]\tvalid_0's binary_error: 0.208125\n",
      "Training until validation scores don't improve for 10 rounds\n"
     ]
    },
    {
     "name": "stderr",
     "output_type": "stream",
     "text": [
      "[I 2024-01-18 10:40:49,339] Trial 21 finished with value: 0.788125 and parameters: {'lambda_l1': 2.6737677494026993e-06, 'lambda_l2': 0.0004265844495205948, 'num_leaves': 254, 'feature_fraction': 0.4145436792319994, 'bagging_fraction': 0.7613700908594543, 'bagging_freq': 4, 'min_child_samples': 21}. Best is trial 16 with value: 0.79625.\n",
      "[I 2024-01-18 10:40:49,512] Trial 22 finished with value: 0.7925 and parameters: {'lambda_l1': 8.193867991660406e-07, 'lambda_l2': 0.01480881392323932, 'num_leaves': 180, 'feature_fraction': 0.4600997648983033, 'bagging_fraction': 0.6580502450732296, 'bagging_freq': 5, 'min_child_samples': 31}. Best is trial 16 with value: 0.79625.\n"
     ]
    },
    {
     "name": "stdout",
     "output_type": "stream",
     "text": [
      "Early stopping, best iteration is:\n",
      "[24]\tvalid_0's binary_error: 0.211875\n",
      "Training until validation scores don't improve for 10 rounds\n",
      "Early stopping, best iteration is:\n",
      "[12]\tvalid_0's binary_error: 0.2075\n"
     ]
    },
    {
     "name": "stderr",
     "output_type": "stream",
     "text": [
      "[I 2024-01-18 10:40:49,737] Trial 23 finished with value: 0.790625 and parameters: {'lambda_l1': 3.192917759101662e-07, 'lambda_l2': 0.03770408710354685, 'num_leaves': 165, 'feature_fraction': 0.48643881620323476, 'bagging_fraction': 0.6395784470680762, 'bagging_freq': 5, 'min_child_samples': 42}. Best is trial 16 with value: 0.79625.\n"
     ]
    },
    {
     "name": "stdout",
     "output_type": "stream",
     "text": [
      "Training until validation scores don't improve for 10 rounds\n",
      "Early stopping, best iteration is:\n",
      "[28]\tvalid_0's binary_error: 0.209375\n",
      "Training until validation scores don't improve for 10 rounds\n",
      "Early stopping, best iteration is:\n",
      "[20]\tvalid_0's binary_error: 0.210625\n"
     ]
    },
    {
     "name": "stderr",
     "output_type": "stream",
     "text": [
      "[I 2024-01-18 10:40:50,061] Trial 24 finished with value: 0.789375 and parameters: {'lambda_l1': 1.0435095544716885e-06, 'lambda_l2': 0.1865680407326023, 'num_leaves': 182, 'feature_fraction': 0.5343483269758372, 'bagging_fraction': 0.6734288764277366, 'bagging_freq': 6, 'min_child_samples': 28}. Best is trial 16 with value: 0.79625.\n"
     ]
    },
    {
     "name": "stdout",
     "output_type": "stream",
     "text": [
      "Training until validation scores don't improve for 10 rounds\n"
     ]
    },
    {
     "name": "stderr",
     "output_type": "stream",
     "text": [
      "[I 2024-01-18 10:40:50,922] Trial 25 finished with value: 0.788125 and parameters: {'lambda_l1': 2.972390087627142e-05, 'lambda_l2': 0.012710114985196027, 'num_leaves': 213, 'feature_fraction': 0.574999774487149, 'bagging_fraction': 0.6108458886199895, 'bagging_freq': 5, 'min_child_samples': 9}. Best is trial 16 with value: 0.79625.\n"
     ]
    },
    {
     "name": "stdout",
     "output_type": "stream",
     "text": [
      "Early stopping, best iteration is:\n",
      "[34]\tvalid_0's binary_error: 0.211875\n",
      "Training until validation scores don't improve for 10 rounds\n"
     ]
    },
    {
     "name": "stderr",
     "output_type": "stream",
     "text": [
      "[I 2024-01-18 10:40:51,324] Trial 26 finished with value: 0.795625 and parameters: {'lambda_l1': 8.953671417284567e-08, 'lambda_l2': 0.7679146200750588, 'num_leaves': 128, 'feature_fraction': 0.4863984294557367, 'bagging_fraction': 0.5319135031785431, 'bagging_freq': 3, 'min_child_samples': 44}. Best is trial 16 with value: 0.79625.\n"
     ]
    },
    {
     "name": "stdout",
     "output_type": "stream",
     "text": [
      "Early stopping, best iteration is:\n",
      "[39]\tvalid_0's binary_error: 0.204375\n",
      "Training until validation scores don't improve for 10 rounds\n"
     ]
    },
    {
     "name": "stderr",
     "output_type": "stream",
     "text": [
      "[I 2024-01-18 10:40:51,621] Trial 27 finished with value: 0.78625 and parameters: {'lambda_l1': 5.3571720959597626e-08, 'lambda_l2': 1.085790910396346, 'num_leaves': 119, 'feature_fraction': 0.47377848429060737, 'bagging_fraction': 0.5453892302437864, 'bagging_freq': 2, 'min_child_samples': 16}. Best is trial 16 with value: 0.79625.\n",
      "[I 2024-01-18 10:40:51,791] Trial 28 finished with value: 0.78125 and parameters: {'lambda_l1': 1.23186817989468e-07, 'lambda_l2': 9.667746681954604, 'num_leaves': 150, 'feature_fraction': 0.46203472522704936, 'bagging_fraction': 0.5017101579374044, 'bagging_freq': 3, 'min_child_samples': 43}. Best is trial 16 with value: 0.79625.\n"
     ]
    },
    {
     "name": "stdout",
     "output_type": "stream",
     "text": [
      "Early stopping, best iteration is:\n",
      "[9]\tvalid_0's binary_error: 0.21375\n",
      "Training until validation scores don't improve for 10 rounds\n",
      "Early stopping, best iteration is:\n",
      "[6]\tvalid_0's binary_error: 0.21875\n"
     ]
    },
    {
     "name": "stderr",
     "output_type": "stream",
     "text": [
      "[I 2024-01-18 10:40:51,998] Trial 29 finished with value: 0.78625 and parameters: {'lambda_l1': 5.090060455675126e-08, 'lambda_l2': 0.09716003266559058, 'num_leaves': 124, 'feature_fraction': 0.5319934719066925, 'bagging_fraction': 0.6992224590168863, 'bagging_freq': 1, 'min_child_samples': 30}. Best is trial 16 with value: 0.79625.\n"
     ]
    },
    {
     "name": "stdout",
     "output_type": "stream",
     "text": [
      "Training until validation scores don't improve for 10 rounds\n",
      "Early stopping, best iteration is:\n",
      "[21]\tvalid_0's binary_error: 0.21375\n",
      "Training until validation scores don't improve for 10 rounds\n"
     ]
    },
    {
     "name": "stderr",
     "output_type": "stream",
     "text": [
      "[I 2024-01-18 10:40:52,196] Trial 30 finished with value: 0.78 and parameters: {'lambda_l1': 2.737101867702107e-07, 'lambda_l2': 2.073620248192109, 'num_leaves': 73, 'feature_fraction': 0.4496779260782825, 'bagging_fraction': 0.6576629141928649, 'bagging_freq': 3, 'min_child_samples': 55}. Best is trial 16 with value: 0.79625.\n"
     ]
    },
    {
     "name": "stdout",
     "output_type": "stream",
     "text": [
      "Early stopping, best iteration is:\n",
      "[6]\tvalid_0's binary_error: 0.22\n",
      "Training until validation scores don't improve for 10 rounds\n"
     ]
    },
    {
     "name": "stderr",
     "output_type": "stream",
     "text": [
      "[I 2024-01-18 10:40:52,466] Trial 31 finished with value: 0.79375 and parameters: {'lambda_l1': 1.3644709493018978e-06, 'lambda_l2': 0.1255611437832245, 'num_leaves': 203, 'feature_fraction': 0.5702891219024468, 'bagging_fraction': 0.5905082465529766, 'bagging_freq': 4, 'min_child_samples': 46}. Best is trial 16 with value: 0.79625.\n"
     ]
    },
    {
     "name": "stdout",
     "output_type": "stream",
     "text": [
      "Early stopping, best iteration is:\n",
      "[25]\tvalid_0's binary_error: 0.20625\n",
      "Training until validation scores don't improve for 10 rounds\n"
     ]
    },
    {
     "name": "stderr",
     "output_type": "stream",
     "text": [
      "[I 2024-01-18 10:40:52,837] Trial 32 finished with value: 0.79625 and parameters: {'lambda_l1': 1.3146079831331992e-06, 'lambda_l2': 0.3189184518227134, 'num_leaves': 197, 'feature_fraction': 0.517494377500512, 'bagging_fraction': 0.5879491001319781, 'bagging_freq': 4, 'min_child_samples': 43}. Best is trial 16 with value: 0.79625.\n",
      "[I 2024-01-18 10:40:53,025] Trial 33 finished with value: 0.790625 and parameters: {'lambda_l1': 1.1987247100433137e-07, 'lambda_l2': 0.30676501218332897, 'num_leaves': 195, 'feature_fraction': 0.5089819871136839, 'bagging_fraction': 0.5780258355351854, 'bagging_freq': 4, 'min_child_samples': 45}. Best is trial 16 with value: 0.79625.\n"
     ]
    },
    {
     "name": "stdout",
     "output_type": "stream",
     "text": [
      "Early stopping, best iteration is:\n",
      "[24]\tvalid_0's binary_error: 0.20375\n",
      "Training until validation scores don't improve for 10 rounds\n",
      "Early stopping, best iteration is:\n",
      "[20]\tvalid_0's binary_error: 0.209375\n"
     ]
    },
    {
     "name": "stderr",
     "output_type": "stream",
     "text": [
      "[I 2024-01-18 10:40:53,177] Trial 34 finished with value: 0.785 and parameters: {'lambda_l1': 1.5876325771058996e-06, 'lambda_l2': 0.5388735417888616, 'num_leaves': 152, 'feature_fraction': 0.573340270825684, 'bagging_fraction': 0.5350936723813812, 'bagging_freq': 4, 'min_child_samples': 56}. Best is trial 16 with value: 0.79625.\n"
     ]
    },
    {
     "name": "stdout",
     "output_type": "stream",
     "text": [
      "Training until validation scores don't improve for 10 rounds\n",
      "Early stopping, best iteration is:\n",
      "[7]\tvalid_0's binary_error: 0.215\n"
     ]
    },
    {
     "name": "stderr",
     "output_type": "stream",
     "text": [
      "[I 2024-01-18 10:40:53,656] Trial 35 finished with value: 0.78 and parameters: {'lambda_l1': 2.3686498135330455e-08, 'lambda_l2': 0.10778912055530644, 'num_leaves': 201, 'feature_fraction': 0.49971658260929674, 'bagging_fraction': 0.5677963326037351, 'bagging_freq': 3, 'min_child_samples': 68}. Best is trial 16 with value: 0.79625.\n"
     ]
    },
    {
     "name": "stdout",
     "output_type": "stream",
     "text": [
      "Training until validation scores don't improve for 10 rounds\n",
      "Early stopping, best iteration is:\n",
      "[14]\tvalid_0's binary_error: 0.22\n"
     ]
    },
    {
     "name": "stderr",
     "output_type": "stream",
     "text": [
      "[I 2024-01-18 10:40:53,880] Trial 36 finished with value: 0.7775 and parameters: {'lambda_l1': 4.582377695348855e-06, 'lambda_l2': 1.7097332836537031, 'num_leaves': 134, 'feature_fraction': 0.6052456496404428, 'bagging_fraction': 0.5077256452067328, 'bagging_freq': 2, 'min_child_samples': 79}. Best is trial 16 with value: 0.79625.\n"
     ]
    },
    {
     "name": "stdout",
     "output_type": "stream",
     "text": [
      "Training until validation scores don't improve for 10 rounds\n",
      "Early stopping, best iteration is:\n",
      "[11]\tvalid_0's binary_error: 0.2225\n",
      "Training until validation scores don't improve for 10 rounds\n"
     ]
    },
    {
     "name": "stderr",
     "output_type": "stream",
     "text": [
      "[I 2024-01-18 10:40:54,190] Trial 37 finished with value: 0.785625 and parameters: {'lambda_l1': 6.10201710475107e-07, 'lambda_l2': 0.37196897023598324, 'num_leaves': 156, 'feature_fraction': 0.5400856339885568, 'bagging_fraction': 0.6135201481659082, 'bagging_freq': 3, 'min_child_samples': 38}. Best is trial 16 with value: 0.79625.\n"
     ]
    },
    {
     "name": "stdout",
     "output_type": "stream",
     "text": [
      "Early stopping, best iteration is:\n",
      "[11]\tvalid_0's binary_error: 0.214375\n",
      "Training until validation scores don't improve for 10 rounds\n"
     ]
    },
    {
     "name": "stderr",
     "output_type": "stream",
     "text": [
      "[I 2024-01-18 10:40:54,467] Trial 38 finished with value: 0.796875 and parameters: {'lambda_l1': 1.2103335283217885e-07, 'lambda_l2': 0.04144522558146948, 'num_leaves': 228, 'feature_fraction': 0.5805091178716717, 'bagging_fraction': 0.5913884351724215, 'bagging_freq': 4, 'min_child_samples': 62}. Best is trial 38 with value: 0.796875.\n",
      "[I 2024-01-18 10:40:54,613] Trial 39 finished with value: 0.78125 and parameters: {'lambda_l1': 3.037483119999013e-08, 'lambda_l2': 3.889631002200238, 'num_leaves': 220, 'feature_fraction': 0.6289863102869553, 'bagging_fraction': 0.5390785158727636, 'bagging_freq': 3, 'min_child_samples': 64}. Best is trial 38 with value: 0.796875.\n"
     ]
    },
    {
     "name": "stdout",
     "output_type": "stream",
     "text": [
      "Early stopping, best iteration is:\n",
      "[45]\tvalid_0's binary_error: 0.203125\n",
      "Training until validation scores don't improve for 10 rounds\n",
      "Early stopping, best iteration is:\n",
      "[10]\tvalid_0's binary_error: 0.21875\n"
     ]
    },
    {
     "name": "stderr",
     "output_type": "stream",
     "text": [
      "[I 2024-01-18 10:40:54,899] Trial 40 finished with value: 0.791875 and parameters: {'lambda_l1': 1.0016822124068882e-08, 'lambda_l2': 0.5044051964959887, 'num_leaves': 232, 'feature_fraction': 0.4977660673271428, 'bagging_fraction': 0.48548685025314453, 'bagging_freq': 2, 'min_child_samples': 91}. Best is trial 38 with value: 0.796875.\n"
     ]
    },
    {
     "name": "stdout",
     "output_type": "stream",
     "text": [
      "Training until validation scores don't improve for 10 rounds\n",
      "Early stopping, best iteration is:\n",
      "[36]\tvalid_0's binary_error: 0.208125\n"
     ]
    },
    {
     "name": "stderr",
     "output_type": "stream",
     "text": [
      "[I 2024-01-18 10:40:55,103] Trial 41 finished with value: 0.78375 and parameters: {'lambda_l1': 8.297766679838449e-08, 'lambda_l2': 0.04565575490290522, 'num_leaves': 207, 'feature_fraction': 0.5762917025371275, 'bagging_fraction': 0.599740059900036, 'bagging_freq': 4, 'min_child_samples': 57}. Best is trial 38 with value: 0.796875.\n"
     ]
    },
    {
     "name": "stdout",
     "output_type": "stream",
     "text": [
      "Training until validation scores don't improve for 10 rounds\n",
      "Early stopping, best iteration is:\n",
      "[11]\tvalid_0's binary_error: 0.21625\n",
      "Training until validation scores don't improve for 10 rounds\n"
     ]
    },
    {
     "name": "stderr",
     "output_type": "stream",
     "text": [
      "[I 2024-01-18 10:40:55,257] Trial 42 finished with value: 0.786875 and parameters: {'lambda_l1': 1.5633229590308957e-07, 'lambda_l2': 0.710655604604608, 'num_leaves': 234, 'feature_fraction': 0.5373288818592347, 'bagging_fraction': 0.574622455148859, 'bagging_freq': 4, 'min_child_samples': 51}. Best is trial 38 with value: 0.796875.\n",
      "[I 2024-01-18 10:40:55,402] Trial 43 finished with value: 0.781875 and parameters: {'lambda_l1': 1.8272493346651789e-06, 'lambda_l2': 0.17200305773238123, 'num_leaves': 178, 'feature_fraction': 0.6003399598090218, 'bagging_fraction': 0.4686125797206636, 'bagging_freq': 4, 'min_child_samples': 65}. Best is trial 38 with value: 0.796875.\n"
     ]
    },
    {
     "name": "stdout",
     "output_type": "stream",
     "text": [
      "Early stopping, best iteration is:\n",
      "[24]\tvalid_0's binary_error: 0.213125\n",
      "Training until validation scores don't improve for 10 rounds\n",
      "Early stopping, best iteration is:\n",
      "[6]\tvalid_0's binary_error: 0.218125\n"
     ]
    },
    {
     "name": "stderr",
     "output_type": "stream",
     "text": [
      "[I 2024-01-18 10:40:55,552] Trial 44 finished with value: 0.78375 and parameters: {'lambda_l1': 3.187715843833667e-07, 'lambda_l2': 0.06796208018534279, 'num_leaves': 194, 'feature_fraction': 0.57140774912325, 'bagging_fraction': 0.5253128496878341, 'bagging_freq': 5, 'min_child_samples': 45}. Best is trial 38 with value: 0.796875.\n"
     ]
    },
    {
     "name": "stdout",
     "output_type": "stream",
     "text": [
      "Training until validation scores don't improve for 10 rounds\n",
      "Early stopping, best iteration is:\n",
      "[17]\tvalid_0's binary_error: 0.21625\n",
      "Training until validation scores don't improve for 10 rounds\n"
     ]
    },
    {
     "name": "stderr",
     "output_type": "stream",
     "text": [
      "[I 2024-01-18 10:40:55,740] Trial 45 finished with value: 0.79 and parameters: {'lambda_l1': 6.226853989098934e-06, 'lambda_l2': 1.1387251221106256, 'num_leaves': 94, 'feature_fraction': 0.517443248224626, 'bagging_fraction': 0.5650208283431661, 'bagging_freq': 3, 'min_child_samples': 35}. Best is trial 38 with value: 0.796875.\n",
      "[I 2024-01-18 10:40:55,915] Trial 46 finished with value: 0.79625 and parameters: {'lambda_l1': 4.654219276004214e-08, 'lambda_l2': 3.5067536208123737, 'num_leaves': 142, 'feature_fraction': 0.5498103441196182, 'bagging_fraction': 0.6977828718329435, 'bagging_freq': 4, 'min_child_samples': 74}. Best is trial 38 with value: 0.796875.\n"
     ]
    },
    {
     "name": "stdout",
     "output_type": "stream",
     "text": [
      "Early stopping, best iteration is:\n",
      "[29]\tvalid_0's binary_error: 0.21\n",
      "Training until validation scores don't improve for 10 rounds\n",
      "Early stopping, best iteration is:\n",
      "[34]\tvalid_0's binary_error: 0.20375\n"
     ]
    },
    {
     "name": "stderr",
     "output_type": "stream",
     "text": [
      "[I 2024-01-18 10:40:56,123] Trial 47 finished with value: 0.79375 and parameters: {'lambda_l1': 3.154040936662758e-08, 'lambda_l2': 3.741263715034864, 'num_leaves': 112, 'feature_fraction': 0.48622094824816847, 'bagging_fraction': 0.6913813433313661, 'bagging_freq': 5, 'min_child_samples': 78}. Best is trial 38 with value: 0.796875.\n"
     ]
    },
    {
     "name": "stdout",
     "output_type": "stream",
     "text": [
      "Training until validation scores don't improve for 10 rounds\n",
      "Early stopping, best iteration is:\n",
      "[45]\tvalid_0's binary_error: 0.20625\n",
      "Training until validation scores don't improve for 10 rounds\n"
     ]
    },
    {
     "name": "stderr",
     "output_type": "stream",
     "text": [
      "[I 2024-01-18 10:40:56,317] Trial 48 finished with value: 0.798125 and parameters: {'lambda_l1': 9.147156062957385e-08, 'lambda_l2': 0.8575410537307758, 'num_leaves': 138, 'feature_fraction': 0.6352514109518604, 'bagging_fraction': 0.7164937822028707, 'bagging_freq': 3, 'min_child_samples': 73}. Best is trial 48 with value: 0.798125.\n"
     ]
    },
    {
     "name": "stdout",
     "output_type": "stream",
     "text": [
      "Early stopping, best iteration is:\n",
      "[45]\tvalid_0's binary_error: 0.201875\n",
      "Training until validation scores don't improve for 10 rounds\n"
     ]
    },
    {
     "name": "stderr",
     "output_type": "stream",
     "text": [
      "[I 2024-01-18 10:40:56,529] Trial 49 finished with value: 0.784375 and parameters: {'lambda_l1': 2.832462013564424e-08, 'lambda_l2': 4.380896588300942, 'num_leaves': 157, 'feature_fraction': 0.615109298436908, 'bagging_fraction': 0.7167655597958196, 'bagging_freq': 5, 'min_child_samples': 85}. Best is trial 48 with value: 0.798125.\n",
      "[I 2024-01-18 10:40:56,701] Trial 50 finished with value: 0.785625 and parameters: {'lambda_l1': 4.513450389284655e-07, 'lambda_l2': 1.2921367323397253, 'num_leaves': 143, 'feature_fraction': 0.6569434674890848, 'bagging_fraction': 0.822809075444747, 'bagging_freq': 4, 'min_child_samples': 75}. Best is trial 48 with value: 0.798125.\n"
     ]
    },
    {
     "name": "stdout",
     "output_type": "stream",
     "text": [
      "Early stopping, best iteration is:\n",
      "[20]\tvalid_0's binary_error: 0.215625\n",
      "Training until validation scores don't improve for 10 rounds\n",
      "Early stopping, best iteration is:\n",
      "[36]\tvalid_0's binary_error: 0.214375\n"
     ]
    },
    {
     "name": "stderr",
     "output_type": "stream",
     "text": [
      "[I 2024-01-18 10:40:56,923] Trial 51 finished with value: 0.794375 and parameters: {'lambda_l1': 1.1060982156292524e-07, 'lambda_l2': 0.29879039208761937, 'num_leaves': 130, 'feature_fraction': 0.5557531253905195, 'bagging_fraction': 0.735500630111381, 'bagging_freq': 3, 'min_child_samples': 72}. Best is trial 48 with value: 0.798125.\n"
     ]
    },
    {
     "name": "stdout",
     "output_type": "stream",
     "text": [
      "Training until validation scores don't improve for 10 rounds\n",
      "Early stopping, best iteration is:\n",
      "[36]\tvalid_0's binary_error: 0.205625\n"
     ]
    },
    {
     "name": "stderr",
     "output_type": "stream",
     "text": [
      "[I 2024-01-18 10:40:57,114] Trial 52 finished with value: 0.79 and parameters: {'lambda_l1': 6.732259614526279e-08, 'lambda_l2': 0.9848008885439719, 'num_leaves': 137, 'feature_fraction': 0.597962015061583, 'bagging_fraction': 0.6794333319519872, 'bagging_freq': 3, 'min_child_samples': 60}. Best is trial 48 with value: 0.798125.\n"
     ]
    },
    {
     "name": "stdout",
     "output_type": "stream",
     "text": [
      "Training until validation scores don't improve for 10 rounds\n",
      "Early stopping, best iteration is:\n",
      "[19]\tvalid_0's binary_error: 0.21\n",
      "Training until validation scores don't improve for 10 rounds\n"
     ]
    },
    {
     "name": "stderr",
     "output_type": "stream",
     "text": [
      "[I 2024-01-18 10:40:57,254] Trial 53 finished with value: 0.784375 and parameters: {'lambda_l1': 1.8036820278804184e-08, 'lambda_l2': 5.6985663269698135, 'num_leaves': 88, 'feature_fraction': 0.5471873761160195, 'bagging_fraction': 0.6243928505832796, 'bagging_freq': 4, 'min_child_samples': 81}. Best is trial 48 with value: 0.798125.\n"
     ]
    },
    {
     "name": "stdout",
     "output_type": "stream",
     "text": [
      "Early stopping, best iteration is:\n",
      "[6]\tvalid_0's binary_error: 0.215625\n",
      "Training until validation scores don't improve for 10 rounds\n"
     ]
    },
    {
     "name": "stderr",
     "output_type": "stream",
     "text": [
      "[I 2024-01-18 10:40:57,538] Trial 54 finished with value: 0.8 and parameters: {'lambda_l1': 2.0603574847409214e-07, 'lambda_l2': 2.3720382539371174, 'num_leaves': 49, 'feature_fraction': 0.5272780892000206, 'bagging_fraction': 0.7421789199427911, 'bagging_freq': 4, 'min_child_samples': 67}. Best is trial 54 with value: 0.8.\n",
      "[I 2024-01-18 10:40:57,654] Trial 55 finished with value: 0.763125 and parameters: {'lambda_l1': 6.865218278433504e-07, 'lambda_l2': 2.3269080923573107, 'num_leaves': 5, 'feature_fraction': 0.5167879598584179, 'bagging_fraction': 0.7502382011185423, 'bagging_freq': 4, 'min_child_samples': 69}. Best is trial 54 with value: 0.8.\n"
     ]
    },
    {
     "name": "stdout",
     "output_type": "stream",
     "text": [
      "Early stopping, best iteration is:\n",
      "[58]\tvalid_0's binary_error: 0.2\n",
      "Training until validation scores don't improve for 10 rounds\n",
      "Early stopping, best iteration is:\n",
      "[3]\tvalid_0's binary_error: 0.236875\n"
     ]
    },
    {
     "name": "stderr",
     "output_type": "stream",
     "text": [
      "[I 2024-01-18 10:40:57,844] Trial 56 finished with value: 0.776875 and parameters: {'lambda_l1': 2.1608100021625388e-07, 'lambda_l2': 9.757431766519165, 'num_leaves': 41, 'feature_fraction': 0.6540098717539257, 'bagging_fraction': 0.7954226927774848, 'bagging_freq': 4, 'min_child_samples': 66}. Best is trial 54 with value: 0.8.\n"
     ]
    },
    {
     "name": "stdout",
     "output_type": "stream",
     "text": [
      "Training until validation scores don't improve for 10 rounds\n",
      "Early stopping, best iteration is:\n",
      "[13]\tvalid_0's binary_error: 0.223125\n",
      "Training until validation scores don't improve for 10 rounds\n"
     ]
    },
    {
     "name": "stderr",
     "output_type": "stream",
     "text": [
      "[I 2024-01-18 10:40:58,095] Trial 57 finished with value: 0.790625 and parameters: {'lambda_l1': 2.488062653970258e-07, 'lambda_l2': 2.2347081716141832, 'num_leaves': 58, 'feature_fraction': 0.589813438546323, 'bagging_fraction': 0.7054233314083138, 'bagging_freq': 4, 'min_child_samples': 86}. Best is trial 54 with value: 0.8.\n"
     ]
    },
    {
     "name": "stdout",
     "output_type": "stream",
     "text": [
      "Early stopping, best iteration is:\n",
      "[35]\tvalid_0's binary_error: 0.209375\n",
      "Training until validation scores don't improve for 10 rounds\n"
     ]
    },
    {
     "name": "stderr",
     "output_type": "stream",
     "text": [
      "[I 2024-01-18 10:40:58,417] Trial 58 finished with value: 0.793125 and parameters: {'lambda_l1': 2.489670703807126e-06, 'lambda_l2': 4.662885277952566, 'num_leaves': 27, 'feature_fraction': 0.6276686549360894, 'bagging_fraction': 0.7591632659028201, 'bagging_freq': 5, 'min_child_samples': 96}. Best is trial 54 with value: 0.8.\n",
      "[I 2024-01-18 10:40:58,541] Trial 59 finished with value: 0.78375 and parameters: {'lambda_l1': 1.0687076799921331e-05, 'lambda_l2': 0.25278358905191106, 'num_leaves': 187, 'feature_fraction': 0.5556405258639888, 'bagging_fraction': 0.8484720341202016, 'bagging_freq': 5, 'min_child_samples': 75}. Best is trial 54 with value: 0.8.\n"
     ]
    },
    {
     "name": "stdout",
     "output_type": "stream",
     "text": [
      "Early stopping, best iteration is:\n",
      "[46]\tvalid_0's binary_error: 0.206875\n",
      "Training until validation scores don't improve for 10 rounds\n",
      "Early stopping, best iteration is:\n",
      "[6]\tvalid_0's binary_error: 0.21625\n"
     ]
    },
    {
     "name": "stderr",
     "output_type": "stream",
     "text": [
      "[I 2024-01-18 10:40:58,711] Trial 60 finished with value: 0.790625 and parameters: {'lambda_l1': 4.631006278568469e-08, 'lambda_l2': 0.5111084462472333, 'num_leaves': 167, 'feature_fraction': 0.6902450260596834, 'bagging_fraction': 0.7205584046863307, 'bagging_freq': 4, 'min_child_samples': 61}. Best is trial 54 with value: 0.8.\n"
     ]
    },
    {
     "name": "stdout",
     "output_type": "stream",
     "text": [
      "Training until validation scores don't improve for 10 rounds\n",
      "Early stopping, best iteration is:\n",
      "[20]\tvalid_0's binary_error: 0.209375\n",
      "Training until validation scores don't improve for 10 rounds\n"
     ]
    },
    {
     "name": "stderr",
     "output_type": "stream",
     "text": [
      "[I 2024-01-18 10:40:58,836] Trial 61 finished with value: 0.78375 and parameters: {'lambda_l1': 8.178087154741989e-08, 'lambda_l2': 0.9463128701626184, 'num_leaves': 116, 'feature_fraction': 0.5253267160610015, 'bagging_fraction': 0.7889017115949364, 'bagging_freq': 3, 'min_child_samples': 55}. Best is trial 54 with value: 0.8.\n",
      "[I 2024-01-18 10:40:58,977] Trial 62 finished with value: 0.79125 and parameters: {'lambda_l1': 1.4793296961487106e-07, 'lambda_l2': 1.7751651842890186, 'num_leaves': 107, 'feature_fraction': 0.4873573124099691, 'bagging_fraction': 0.6418720378772044, 'bagging_freq': 3, 'min_child_samples': 40}. Best is trial 54 with value: 0.8.\n"
     ]
    },
    {
     "name": "stdout",
     "output_type": "stream",
     "text": [
      "Early stopping, best iteration is:\n",
      "[5]\tvalid_0's binary_error: 0.21625\n",
      "Training until validation scores don't improve for 10 rounds\n",
      "Early stopping, best iteration is:\n",
      "[12]\tvalid_0's binary_error: 0.20875\n"
     ]
    },
    {
     "name": "stderr",
     "output_type": "stream",
     "text": [
      "[I 2024-01-18 10:40:59,292] Trial 63 finished with value: 0.796875 and parameters: {'lambda_l1': 4.274711904297727e-07, 'lambda_l2': 0.2159617181266945, 'num_leaves': 176, 'feature_fraction': 0.47026786671189624, 'bagging_fraction': 0.737568594642566, 'bagging_freq': 3, 'min_child_samples': 49}. Best is trial 54 with value: 0.8.\n"
     ]
    },
    {
     "name": "stdout",
     "output_type": "stream",
     "text": [
      "Training until validation scores don't improve for 10 rounds\n",
      "Early stopping, best iteration is:\n",
      "[49]\tvalid_0's binary_error: 0.203125\n"
     ]
    },
    {
     "name": "stderr",
     "output_type": "stream",
     "text": [
      "[I 2024-01-18 10:40:59,579] Trial 64 finished with value: 0.795625 and parameters: {'lambda_l1': 7.677216579031547e-07, 'lambda_l2': 0.028313792089261974, 'num_leaves': 177, 'feature_fraction': 0.44762795911818076, 'bagging_fraction': 0.7377879724902187, 'bagging_freq': 4, 'min_child_samples': 48}. Best is trial 54 with value: 0.8.\n"
     ]
    },
    {
     "name": "stdout",
     "output_type": "stream",
     "text": [
      "Training until validation scores don't improve for 10 rounds\n",
      "Early stopping, best iteration is:\n",
      "[30]\tvalid_0's binary_error: 0.204375\n"
     ]
    },
    {
     "name": "stderr",
     "output_type": "stream",
     "text": [
      "[I 2024-01-18 10:40:59,750] Trial 65 finished with value: 0.79 and parameters: {'lambda_l1': 4.408269154530977e-07, 'lambda_l2': 0.1738747207981156, 'num_leaves': 217, 'feature_fraction': 0.5270025082639475, 'bagging_fraction': 0.6979360904703252, 'bagging_freq': 3, 'min_child_samples': 53}. Best is trial 54 with value: 0.8.\n"
     ]
    },
    {
     "name": "stdout",
     "output_type": "stream",
     "text": [
      "Training until validation scores don't improve for 10 rounds\n",
      "Early stopping, best iteration is:\n",
      "[19]\tvalid_0's binary_error: 0.21\n",
      "Training until validation scores don't improve for 10 rounds\n"
     ]
    },
    {
     "name": "stderr",
     "output_type": "stream",
     "text": [
      "[I 2024-01-18 10:40:59,886] Trial 66 finished with value: 0.78375 and parameters: {'lambda_l1': 9.847844754264241e-07, 'lambda_l2': 0.07305656738267736, 'num_leaves': 186, 'feature_fraction': 0.5526919152100501, 'bagging_fraction': 0.6772993485998818, 'bagging_freq': 4, 'min_child_samples': 58}. Best is trial 54 with value: 0.8.\n"
     ]
    },
    {
     "name": "stdout",
     "output_type": "stream",
     "text": [
      "Early stopping, best iteration is:\n",
      "[7]\tvalid_0's binary_error: 0.21625\n",
      "Training until validation scores don't improve for 10 rounds\n"
     ]
    },
    {
     "name": "stderr",
     "output_type": "stream",
     "text": [
      "[I 2024-01-18 10:41:00,141] Trial 67 finished with value: 0.791875 and parameters: {'lambda_l1': 1.535808925304195e-08, 'lambda_l2': 5.940401793263784, 'num_leaves': 160, 'feature_fraction': 0.5850266171380746, 'bagging_fraction': 0.7600777767246044, 'bagging_freq': 2, 'min_child_samples': 71}. Best is trial 54 with value: 0.8.\n"
     ]
    },
    {
     "name": "stdout",
     "output_type": "stream",
     "text": [
      "Early stopping, best iteration is:\n",
      "[46]\tvalid_0's binary_error: 0.208125\n",
      "Training until validation scores don't improve for 10 rounds\n"
     ]
    },
    {
     "name": "stderr",
     "output_type": "stream",
     "text": [
      "[I 2024-01-18 10:41:00,328] Trial 68 finished with value: 0.77625 and parameters: {'lambda_l1': 2.3333624537361076e-07, 'lambda_l2': 0.4885465980663372, 'num_leaves': 144, 'feature_fraction': 0.4720512062788272, 'bagging_fraction': 0.7707304908332755, 'bagging_freq': 3, 'min_child_samples': 67}. Best is trial 54 with value: 0.8.\n",
      "[I 2024-01-18 10:41:00,439] Trial 69 finished with value: 0.7775 and parameters: {'lambda_l1': 4.717311168173731e-08, 'lambda_l2': 2.376153222492778, 'num_leaves': 149, 'feature_fraction': 0.5024567534674287, 'bagging_fraction': 0.7156130151334625, 'bagging_freq': 5, 'min_child_samples': 62}. Best is trial 54 with value: 0.8.\n"
     ]
    },
    {
     "name": "stdout",
     "output_type": "stream",
     "text": [
      "Early stopping, best iteration is:\n",
      "[10]\tvalid_0's binary_error: 0.22375\n",
      "Training until validation scores don't improve for 10 rounds\n",
      "Early stopping, best iteration is:\n",
      "[4]\tvalid_0's binary_error: 0.2225\n"
     ]
    },
    {
     "name": "stderr",
     "output_type": "stream",
     "text": [
      "[I 2024-01-18 10:41:00,679] Trial 70 finished with value: 0.78875 and parameters: {'lambda_l1': 2.9701240857688837e-06, 'lambda_l2': 0.17037206588761, 'num_leaves': 190, 'feature_fraction': 0.43479524443287393, 'bagging_fraction': 0.7423705002251344, 'bagging_freq': 4, 'min_child_samples': 49}. Best is trial 54 with value: 0.8.\n"
     ]
    },
    {
     "name": "stdout",
     "output_type": "stream",
     "text": [
      "Training until validation scores don't improve for 10 rounds\n",
      "Early stopping, best iteration is:\n",
      "[44]\tvalid_0's binary_error: 0.21125\n"
     ]
    },
    {
     "name": "stderr",
     "output_type": "stream",
     "text": [
      "[I 2024-01-18 10:41:00,825] Trial 71 finished with value: 0.789375 and parameters: {'lambda_l1': 8.82222921072666e-08, 'lambda_l2': 0.6841123092934746, 'num_leaves': 17, 'feature_fraction': 0.5115765616151255, 'bagging_fraction': 0.730676092739954, 'bagging_freq': 2, 'min_child_samples': 53}. Best is trial 54 with value: 0.8.\n",
      "[I 2024-01-18 10:41:00,956] Trial 72 finished with value: 0.788125 and parameters: {'lambda_l1': 4.4867462110325595e-07, 'lambda_l2': 1.6837443984359661, 'num_leaves': 171, 'feature_fraction': 0.4768653859308528, 'bagging_fraction': 0.6623656343715641, 'bagging_freq': 3, 'min_child_samples': 35}. Best is trial 54 with value: 0.8.\n"
     ]
    },
    {
     "name": "stdout",
     "output_type": "stream",
     "text": [
      "Training until validation scores don't improve for 10 rounds\n",
      "Early stopping, best iteration is:\n",
      "[32]\tvalid_0's binary_error: 0.210625\n",
      "Training until validation scores don't improve for 10 rounds\n",
      "Early stopping, best iteration is:\n",
      "[7]\tvalid_0's binary_error: 0.211875\n"
     ]
    },
    {
     "name": "stderr",
     "output_type": "stream",
     "text": [
      "[I 2024-01-18 10:41:01,111] Trial 73 finished with value: 0.795 and parameters: {'lambda_l1': 1.3809161204624113e-07, 'lambda_l2': 0.2707259925011045, 'num_leaves': 243, 'feature_fraction': 0.5386873953073327, 'bagging_fraction': 0.6898632114738551, 'bagging_freq': 4, 'min_child_samples': 41}. Best is trial 54 with value: 0.8.\n",
      "[I 2024-01-18 10:41:01,229] Trial 74 finished with value: 0.775 and parameters: {'lambda_l1': 4.0062551421430846e-08, 'lambda_l2': 0.7204139533684747, 'num_leaves': 124, 'feature_fraction': 0.49846448218295564, 'bagging_fraction': 0.7778760643726154, 'bagging_freq': 3, 'min_child_samples': 75}. Best is trial 54 with value: 0.8.\n"
     ]
    },
    {
     "name": "stdout",
     "output_type": "stream",
     "text": [
      "Training until validation scores don't improve for 10 rounds\n",
      "Early stopping, best iteration is:\n",
      "[27]\tvalid_0's binary_error: 0.205\n",
      "Training until validation scores don't improve for 10 rounds\n",
      "Early stopping, best iteration is:\n",
      "[4]\tvalid_0's binary_error: 0.225\n"
     ]
    },
    {
     "name": "stderr",
     "output_type": "stream",
     "text": [
      "[I 2024-01-18 10:41:01,431] Trial 75 finished with value: 0.7875 and parameters: {'lambda_l1': 1.449999775188498e-06, 'lambda_l2': 0.10603025901981165, 'num_leaves': 163, 'feature_fraction': 0.5651080376678185, 'bagging_fraction': 0.6406428189386353, 'bagging_freq': 2, 'min_child_samples': 43}. Best is trial 54 with value: 0.8.\n",
      "[I 2024-01-18 10:41:01,549] Trial 76 finished with value: 0.7875 and parameters: {'lambda_l1': 2.064387499994931e-08, 'lambda_l2': 2.975021424797192, 'num_leaves': 206, 'feature_fraction': 0.43212395105493484, 'bagging_fraction': 0.7076281592095812, 'bagging_freq': 3, 'min_child_samples': 58}. Best is trial 54 with value: 0.8.\n"
     ]
    },
    {
     "name": "stdout",
     "output_type": "stream",
     "text": [
      "Training until validation scores don't improve for 10 rounds\n",
      "Early stopping, best iteration is:\n",
      "[29]\tvalid_0's binary_error: 0.2125\n",
      "Training until validation scores don't improve for 10 rounds\n",
      "Early stopping, best iteration is:\n",
      "[2]\tvalid_0's binary_error: 0.2125\n"
     ]
    },
    {
     "name": "stderr",
     "output_type": "stream",
     "text": [
      "[I 2024-01-18 10:41:01,701] Trial 77 finished with value: 0.784375 and parameters: {'lambda_l1': 2.2048063027090153e-07, 'lambda_l2': 1.234338000974243, 'num_leaves': 229, 'feature_fraction': 0.46614932725621144, 'bagging_fraction': 0.5589376865612554, 'bagging_freq': 4, 'min_child_samples': 63}. Best is trial 54 with value: 0.8.\n",
      "[I 2024-01-18 10:41:01,831] Trial 78 finished with value: 0.78125 and parameters: {'lambda_l1': 8.431458546989478e-08, 'lambda_l2': 0.369006720466928, 'num_leaves': 62, 'feature_fraction': 0.526246911971108, 'bagging_fraction': 0.6008660444084711, 'bagging_freq': 3, 'min_child_samples': 51}. Best is trial 54 with value: 0.8.\n"
     ]
    },
    {
     "name": "stdout",
     "output_type": "stream",
     "text": [
      "Training until validation scores don't improve for 10 rounds\n",
      "Early stopping, best iteration is:\n",
      "[6]\tvalid_0's binary_error: 0.215625\n",
      "Training until validation scores don't improve for 10 rounds\n",
      "Early stopping, best iteration is:\n",
      "[4]\tvalid_0's binary_error: 0.21875\n"
     ]
    },
    {
     "name": "stderr",
     "output_type": "stream",
     "text": [
      "[I 2024-01-18 10:41:02,014] Trial 79 finished with value: 0.791875 and parameters: {'lambda_l1': 1.0619149705272508e-08, 'lambda_l2': 5.576945348307783, 'num_leaves': 172, 'feature_fraction': 0.4883206326573038, 'bagging_fraction': 0.8011065355952637, 'bagging_freq': 1, 'min_child_samples': 45}. Best is trial 54 with value: 0.8.\n",
      "[I 2024-01-18 10:41:02,126] Trial 80 finished with value: 0.7825 and parameters: {'lambda_l1': 3.897261029662618e-07, 'lambda_l2': 0.034393343087220446, 'num_leaves': 132, 'feature_fraction': 0.547072161957645, 'bagging_fraction': 0.7478279473230135, 'bagging_freq': 4, 'min_child_samples': 79}. Best is trial 54 with value: 0.8.\n"
     ]
    },
    {
     "name": "stdout",
     "output_type": "stream",
     "text": [
      "Training until validation scores don't improve for 10 rounds\n",
      "Early stopping, best iteration is:\n",
      "[38]\tvalid_0's binary_error: 0.208125\n",
      "Training until validation scores don't improve for 10 rounds\n",
      "Early stopping, best iteration is:\n",
      "[7]\tvalid_0's binary_error: 0.2175\n"
     ]
    },
    {
     "name": "stderr",
     "output_type": "stream",
     "text": [
      "[I 2024-01-18 10:41:02,348] Trial 81 finished with value: 0.7925 and parameters: {'lambda_l1': 8.004362729449104e-07, 'lambda_l2': 0.053056822637712824, 'num_leaves': 176, 'feature_fraction': 0.4528727364544534, 'bagging_fraction': 0.725799648810511, 'bagging_freq': 4, 'min_child_samples': 37}. Best is trial 54 with value: 0.8.\n"
     ]
    },
    {
     "name": "stdout",
     "output_type": "stream",
     "text": [
      "Training until validation scores don't improve for 10 rounds\n",
      "Early stopping, best iteration is:\n",
      "[24]\tvalid_0's binary_error: 0.2075\n",
      "Training until validation scores don't improve for 10 rounds\n"
     ]
    },
    {
     "name": "stderr",
     "output_type": "stream",
     "text": [
      "[I 2024-01-18 10:41:02,499] Trial 82 finished with value: 0.788125 and parameters: {'lambda_l1': 7.022130044055026e-07, 'lambda_l2': 0.029603318101613516, 'num_leaves': 154, 'feature_fraction': 0.428431203868701, 'bagging_fraction': 0.7369363941096939, 'bagging_freq': 4, 'min_child_samples': 48}. Best is trial 54 with value: 0.8.\n"
     ]
    },
    {
     "name": "stdout",
     "output_type": "stream",
     "text": [
      "Early stopping, best iteration is:\n",
      "[23]\tvalid_0's binary_error: 0.211875\n",
      "Training until validation scores don't improve for 10 rounds\n"
     ]
    },
    {
     "name": "stderr",
     "output_type": "stream",
     "text": [
      "[I 2024-01-18 10:41:02,721] Trial 83 finished with value: 0.79375 and parameters: {'lambda_l1': 1.566463959641115e-07, 'lambda_l2': 0.017037479601187674, 'num_leaves': 182, 'feature_fraction': 0.46543474171765487, 'bagging_fraction': 0.6668830892648169, 'bagging_freq': 4, 'min_child_samples': 49}. Best is trial 54 with value: 0.8.\n",
      "[I 2024-01-18 10:41:02,877] Trial 84 finished with value: 0.78875 and parameters: {'lambda_l1': 1.0436837843666131e-06, 'lambda_l2': 0.8085077603056395, 'num_leaves': 213, 'feature_fraction': 0.5100795156854055, 'bagging_fraction': 0.6841158297511104, 'bagging_freq': 4, 'min_child_samples': 47}. Best is trial 54 with value: 0.8.\n"
     ]
    },
    {
     "name": "stdout",
     "output_type": "stream",
     "text": [
      "Early stopping, best iteration is:\n",
      "[43]\tvalid_0's binary_error: 0.20625\n",
      "Training until validation scores don't improve for 10 rounds\n",
      "Early stopping, best iteration is:\n",
      "[18]\tvalid_0's binary_error: 0.21125\n"
     ]
    },
    {
     "name": "stderr",
     "output_type": "stream",
     "text": [
      "[I 2024-01-18 10:41:03,055] Trial 85 finished with value: 0.796875 and parameters: {'lambda_l1': 5.6205889868668526e-08, 'lambda_l2': 0.007303836506281707, 'num_leaves': 194, 'feature_fraction': 0.4524324571806596, 'bagging_fraction': 0.7534137113158452, 'bagging_freq': 3, 'min_child_samples': 53}. Best is trial 54 with value: 0.8.\n"
     ]
    },
    {
     "name": "stdout",
     "output_type": "stream",
     "text": [
      "Training until validation scores don't improve for 10 rounds\n",
      "Early stopping, best iteration is:\n",
      "[33]\tvalid_0's binary_error: 0.203125\n",
      "Training until validation scores don't improve for 10 rounds\n"
     ]
    },
    {
     "name": "stderr",
     "output_type": "stream",
     "text": [
      "[I 2024-01-18 10:41:03,231] Trial 86 finished with value: 0.794375 and parameters: {'lambda_l1': 6.581038073728439e-08, 'lambda_l2': 0.09743445692080033, 'num_leaves': 193, 'feature_fraction': 0.4804517690558875, 'bagging_fraction': 0.763539825434192, 'bagging_freq': 3, 'min_child_samples': 53}. Best is trial 54 with value: 0.8.\n",
      "[I 2024-01-18 10:41:03,355] Trial 87 finished with value: 0.7875 and parameters: {'lambda_l1': 2.928013778106979e-08, 'lambda_l2': 0.0036737297314448736, 'num_leaves': 200, 'feature_fraction': 0.5812341193439471, 'bagging_fraction': 0.5863023279624464, 'bagging_freq': 3, 'min_child_samples': 69}. Best is trial 54 with value: 0.8.\n"
     ]
    },
    {
     "name": "stdout",
     "output_type": "stream",
     "text": [
      "Early stopping, best iteration is:\n",
      "[25]\tvalid_0's binary_error: 0.205625\n",
      "Training until validation scores don't improve for 10 rounds\n",
      "Early stopping, best iteration is:\n",
      "[13]\tvalid_0's binary_error: 0.2125\n"
     ]
    },
    {
     "name": "stderr",
     "output_type": "stream",
     "text": [
      "[I 2024-01-18 10:41:03,469] Trial 88 finished with value: 0.78375 and parameters: {'lambda_l1': 4.849668807851537e-08, 'lambda_l2': 0.2282065959848237, 'num_leaves': 223, 'feature_fraction': 0.4087334888361511, 'bagging_fraction': 0.5534884556941525, 'bagging_freq': 2, 'min_child_samples': 56}. Best is trial 54 with value: 0.8.\n",
      "[I 2024-01-18 10:41:03,594] Trial 89 finished with value: 0.78625 and parameters: {'lambda_l1': 1.1910891604129276e-07, 'lambda_l2': 1.4798040340381615, 'num_leaves': 121, 'feature_fraction': 0.56152673737241, 'bagging_fraction': 0.7115150630646264, 'bagging_freq': 3, 'min_child_samples': 65}. Best is trial 54 with value: 0.8.\n"
     ]
    },
    {
     "name": "stdout",
     "output_type": "stream",
     "text": [
      "Training until validation scores don't improve for 10 rounds\n",
      "Early stopping, best iteration is:\n",
      "[7]\tvalid_0's binary_error: 0.21625\n",
      "Training until validation scores don't improve for 10 rounds\n",
      "Early stopping, best iteration is:\n",
      "[12]\tvalid_0's binary_error: 0.21375\n"
     ]
    },
    {
     "name": "stderr",
     "output_type": "stream",
     "text": [
      "[I 2024-01-18 10:41:03,730] Trial 90 finished with value: 0.78125 and parameters: {'lambda_l1': 3.285800870733886e-07, 'lambda_l2': 0.41926417737277166, 'num_leaves': 140, 'feature_fraction': 0.49347189200897557, 'bagging_fraction': 0.7798552983774091, 'bagging_freq': 3, 'min_child_samples': 43}. Best is trial 54 with value: 0.8.\n"
     ]
    },
    {
     "name": "stdout",
     "output_type": "stream",
     "text": [
      "Training until validation scores don't improve for 10 rounds\n",
      "Early stopping, best iteration is:\n",
      "[12]\tvalid_0's binary_error: 0.21875\n",
      "Training until validation scores don't improve for 10 rounds\n",
      "Early stopping, best iteration is:\n",
      "[7]\tvalid_0's binary_error: 0.208125\n"
     ]
    },
    {
     "name": "stderr",
     "output_type": "stream",
     "text": [
      "[I 2024-01-18 10:41:03,873] Trial 91 finished with value: 0.791875 and parameters: {'lambda_l1': 5.458383119623974e-07, 'lambda_l2': 0.008776013688524398, 'num_leaves': 175, 'feature_fraction': 0.46100487645518307, 'bagging_fraction': 0.7470777349066271, 'bagging_freq': 4, 'min_child_samples': 73}. Best is trial 54 with value: 0.8.\n",
      "[I 2024-01-18 10:41:04,143] Trial 92 finished with value: 0.796875 and parameters: {'lambda_l1': 2.060043348601419e-07, 'lambda_l2': 0.02176075882532055, 'num_leaves': 182, 'feature_fraction': 0.44811465174031007, 'bagging_fraction': 0.7325991530083932, 'bagging_freq': 4, 'min_child_samples': 51}. Best is trial 54 with value: 0.8.\n"
     ]
    },
    {
     "name": "stdout",
     "output_type": "stream",
     "text": [
      "Training until validation scores don't improve for 10 rounds\n",
      "Early stopping, best iteration is:\n",
      "[32]\tvalid_0's binary_error: 0.203125\n",
      "Training until validation scores don't improve for 10 rounds\n"
     ]
    },
    {
     "name": "stderr",
     "output_type": "stream",
     "text": [
      "[I 2024-01-18 10:41:04,347] Trial 93 finished with value: 0.79625 and parameters: {'lambda_l1': 1.9229695329622225e-07, 'lambda_l2': 3.1932469117479987, 'num_leaves': 185, 'feature_fraction': 0.5144665447605098, 'bagging_fraction': 0.7553393779825756, 'bagging_freq': 4, 'min_child_samples': 60}. Best is trial 54 with value: 0.8.\n"
     ]
    },
    {
     "name": "stdout",
     "output_type": "stream",
     "text": [
      "Early stopping, best iteration is:\n",
      "[35]\tvalid_0's binary_error: 0.20375\n",
      "Training until validation scores don't improve for 10 rounds\n"
     ]
    },
    {
     "name": "stderr",
     "output_type": "stream",
     "text": [
      "[I 2024-01-18 10:41:04,676] Trial 94 finished with value: 0.79375 and parameters: {'lambda_l1': 2.247391344945925e-07, 'lambda_l2': 3.3114212887631616, 'num_leaves': 196, 'feature_fraction': 0.5200728266267471, 'bagging_fraction': 0.7521496312265038, 'bagging_freq': 5, 'min_child_samples': 59}. Best is trial 54 with value: 0.8.\n"
     ]
    },
    {
     "name": "stdout",
     "output_type": "stream",
     "text": [
      "Early stopping, best iteration is:\n",
      "[41]\tvalid_0's binary_error: 0.20625\n",
      "Training until validation scores don't improve for 10 rounds\n"
     ]
    },
    {
     "name": "stderr",
     "output_type": "stream",
     "text": [
      "[I 2024-01-18 10:41:04,897] Trial 95 finished with value: 0.78875 and parameters: {'lambda_l1': 1.7374009503245594e-07, 'lambda_l2': 6.954528101835005, 'num_leaves': 185, 'feature_fraction': 0.5323457712730255, 'bagging_fraction': 0.7004316926526759, 'bagging_freq': 4, 'min_child_samples': 54}. Best is trial 54 with value: 0.8.\n",
      "[I 2024-01-18 10:41:05,050] Trial 96 finished with value: 0.78375 and parameters: {'lambda_l1': 7.223532371443211e-08, 'lambda_l2': 2.99620789169091, 'num_leaves': 168, 'feature_fraction': 0.5083415017888894, 'bagging_fraction': 0.7245467444840622, 'bagging_freq': 4, 'min_child_samples': 62}. Best is trial 54 with value: 0.8.\n"
     ]
    },
    {
     "name": "stdout",
     "output_type": "stream",
     "text": [
      "Early stopping, best iteration is:\n",
      "[33]\tvalid_0's binary_error: 0.21125\n",
      "Training until validation scores don't improve for 10 rounds\n",
      "Early stopping, best iteration is:\n",
      "[6]\tvalid_0's binary_error: 0.21625\n",
      "Training until validation scores don't improve for 10 rounds\n"
     ]
    },
    {
     "name": "stderr",
     "output_type": "stream",
     "text": [
      "[I 2024-01-18 10:41:05,401] Trial 97 finished with value: 0.7925 and parameters: {'lambda_l1': 1.7756483524728816e-08, 'lambda_l2': 0.1486820012322754, 'num_leaves': 208, 'feature_fraction': 0.5004551244562992, 'bagging_fraction': 0.7707763124808826, 'bagging_freq': 4, 'min_child_samples': 60}. Best is trial 54 with value: 0.8.\n",
      "[I 2024-01-18 10:41:05,566] Trial 98 finished with value: 0.790625 and parameters: {'lambda_l1': 3.570752602039228e-08, 'lambda_l2': 0.05411263552140831, 'num_leaves': 159, 'feature_fraction': 0.5470697577569467, 'bagging_fraction': 0.8079458491298552, 'bagging_freq': 5, 'min_child_samples': 51}. Best is trial 54 with value: 0.8.\n"
     ]
    },
    {
     "name": "stdout",
     "output_type": "stream",
     "text": [
      "Early stopping, best iteration is:\n",
      "[29]\tvalid_0's binary_error: 0.2075\n",
      "Training until validation scores don't improve for 10 rounds\n",
      "Early stopping, best iteration is:\n",
      "[4]\tvalid_0's binary_error: 0.209375\n"
     ]
    },
    {
     "name": "stderr",
     "output_type": "stream",
     "text": [
      "[I 2024-01-18 10:41:05,691] Trial 99 finished with value: 0.77625 and parameters: {'lambda_l1': 3.3422234120404326e-07, 'lambda_l2': 1.2246661429641676, 'num_leaves': 249, 'feature_fraction': 0.4768232902097311, 'bagging_fraction': 0.783172048381091, 'bagging_freq': 4, 'min_child_samples': 70}. Best is trial 54 with value: 0.8.\n",
      "[I 2024-01-18 10:41:05,808] A new study created in memory with name: no-name-a1fc0042-959f-4b02-a89b-6033e0e342ec\n"
     ]
    },
    {
     "name": "stdout",
     "output_type": "stream",
     "text": [
      "Training until validation scores don't improve for 10 rounds\n",
      "Early stopping, best iteration is:\n",
      "[7]\tvalid_0's binary_error: 0.22375\n",
      "Training until validation scores don't improve for 10 rounds\n"
     ]
    },
    {
     "name": "stderr",
     "output_type": "stream",
     "text": [
      "[I 2024-01-18 10:41:05,962] Trial 0 finished with value: 0.78 and parameters: {'lambda_l1': 1.4505952946167965e-06, 'lambda_l2': 1.448395434027914e-05, 'num_leaves': 167, 'feature_fraction': 0.570438171151874, 'bagging_fraction': 0.7968192812952828, 'bagging_freq': 4, 'min_child_samples': 18}. Best is trial 0 with value: 0.78.\n",
      "[I 2024-01-18 10:41:06,055] Trial 1 finished with value: 0.775 and parameters: {'lambda_l1': 0.20271919414390382, 'lambda_l2': 0.18093352278820207, 'num_leaves': 146, 'feature_fraction': 0.9725911186683027, 'bagging_fraction': 0.7354050791160335, 'bagging_freq': 5, 'min_child_samples': 92}. Best is trial 0 with value: 0.78.\n"
     ]
    },
    {
     "name": "stdout",
     "output_type": "stream",
     "text": [
      "Early stopping, best iteration is:\n",
      "[11]\tvalid_0's binary_error: 0.22\n",
      "Training until validation scores don't improve for 10 rounds\n",
      "Early stopping, best iteration is:\n",
      "[20]\tvalid_0's binary_error: 0.225\n",
      "Training until validation scores don't improve for 10 rounds\n"
     ]
    },
    {
     "name": "stderr",
     "output_type": "stream",
     "text": [
      "[I 2024-01-18 10:41:06,329] Trial 2 finished with value: 0.789375 and parameters: {'lambda_l1': 0.16745445895979497, 'lambda_l2': 1.755127262533925e-06, 'num_leaves': 67, 'feature_fraction': 0.9577437273329418, 'bagging_fraction': 0.7178372193032928, 'bagging_freq': 6, 'min_child_samples': 13}. Best is trial 2 with value: 0.789375.\n",
      "[I 2024-01-18 10:41:06,456] Trial 3 finished with value: 0.776875 and parameters: {'lambda_l1': 2.300422300237424e-08, 'lambda_l2': 0.008891115359074468, 'num_leaves': 223, 'feature_fraction': 0.623371493576796, 'bagging_fraction': 0.565938239516435, 'bagging_freq': 7, 'min_child_samples': 57}. Best is trial 2 with value: 0.789375.\n"
     ]
    },
    {
     "name": "stdout",
     "output_type": "stream",
     "text": [
      "Early stopping, best iteration is:\n",
      "[28]\tvalid_0's binary_error: 0.210625\n",
      "Training until validation scores don't improve for 10 rounds\n",
      "Early stopping, best iteration is:\n",
      "[19]\tvalid_0's binary_error: 0.223125\n",
      "Training until validation scores don't improve for 10 rounds\n"
     ]
    },
    {
     "name": "stderr",
     "output_type": "stream",
     "text": [
      "[I 2024-01-18 10:41:06,551] Trial 4 finished with value: 0.771875 and parameters: {'lambda_l1': 1.9535324073272298e-07, 'lambda_l2': 3.484630896750229e-06, 'num_leaves': 41, 'feature_fraction': 0.6535723979367745, 'bagging_fraction': 0.4625871535019588, 'bagging_freq': 1, 'min_child_samples': 36}. Best is trial 2 with value: 0.789375.\n",
      "[I 2024-01-18 10:41:06,612] Trial 5 finished with value: 0.76625 and parameters: {'lambda_l1': 0.9289372978501751, 'lambda_l2': 3.4314999937179076e-07, 'num_leaves': 45, 'feature_fraction': 0.571568953560834, 'bagging_fraction': 0.6250780290420048, 'bagging_freq': 2, 'min_child_samples': 80}. Best is trial 2 with value: 0.789375.\n",
      "[I 2024-01-18 10:41:06,657] Trial 6 finished with value: 0.759375 and parameters: {'lambda_l1': 2.362389902020361, 'lambda_l2': 4.465485460411801e-07, 'num_leaves': 107, 'feature_fraction': 0.9977450314328647, 'bagging_fraction': 0.5087973919806188, 'bagging_freq': 1, 'min_child_samples': 74}. Best is trial 2 with value: 0.789375.\n",
      "[I 2024-01-18 10:41:06,744] Trial 7 finished with value: 0.77875 and parameters: {'lambda_l1': 0.005603853406773583, 'lambda_l2': 0.7634590427639198, 'num_leaves': 140, 'feature_fraction': 0.6142603869236059, 'bagging_fraction': 0.8838759530311204, 'bagging_freq': 2, 'min_child_samples': 68}. Best is trial 2 with value: 0.789375.\n"
     ]
    },
    {
     "name": "stdout",
     "output_type": "stream",
     "text": [
      "Early stopping, best iteration is:\n",
      "[21]\tvalid_0's binary_error: 0.228125\n",
      "Training until validation scores don't improve for 10 rounds\n",
      "Early stopping, best iteration is:\n",
      "[6]\tvalid_0's binary_error: 0.23375\n",
      "Training until validation scores don't improve for 10 rounds\n",
      "Early stopping, best iteration is:\n",
      "[3]\tvalid_0's binary_error: 0.240625\n",
      "Training until validation scores don't improve for 10 rounds\n",
      "Early stopping, best iteration is:\n",
      "[14]\tvalid_0's binary_error: 0.22125\n"
     ]
    },
    {
     "name": "stderr",
     "output_type": "stream",
     "text": [
      "[I 2024-01-18 10:41:06,827] Trial 8 finished with value: 0.77875 and parameters: {'lambda_l1': 4.313235824036102e-07, 'lambda_l2': 5.797687999689659e-06, 'num_leaves': 73, 'feature_fraction': 0.5499648829811052, 'bagging_fraction': 0.8431615081897921, 'bagging_freq': 1, 'min_child_samples': 48}. Best is trial 2 with value: 0.789375.\n",
      "[I 2024-01-18 10:41:06,913] Trial 9 finished with value: 0.76625 and parameters: {'lambda_l1': 1.328277649604071e-05, 'lambda_l2': 0.37715091691077296, 'num_leaves': 61, 'feature_fraction': 0.619134621534973, 'bagging_fraction': 0.4046491791748609, 'bagging_freq': 2, 'min_child_samples': 21}. Best is trial 2 with value: 0.789375.\n"
     ]
    },
    {
     "name": "stdout",
     "output_type": "stream",
     "text": [
      "Training until validation scores don't improve for 10 rounds\n",
      "Early stopping, best iteration is:\n",
      "[5]\tvalid_0's binary_error: 0.22125\n",
      "Training until validation scores don't improve for 10 rounds\n",
      "Early stopping, best iteration is:\n",
      "[12]\tvalid_0's binary_error: 0.23375\n"
     ]
    },
    {
     "name": "stderr",
     "output_type": "stream",
     "text": [
      "[I 2024-01-18 10:41:07,006] Trial 10 finished with value: 0.73625 and parameters: {'lambda_l1': 0.0011972963496044283, 'lambda_l2': 1.614388446120958e-08, 'num_leaves': 2, 'feature_fraction': 0.8230382262548741, 'bagging_fraction': 0.9708014364602837, 'bagging_freq': 7, 'min_child_samples': 5}. Best is trial 2 with value: 0.789375.\n"
     ]
    },
    {
     "name": "stdout",
     "output_type": "stream",
     "text": [
      "Training until validation scores don't improve for 10 rounds\n",
      "Early stopping, best iteration is:\n",
      "[1]\tvalid_0's binary_error: 0.26375\n",
      "Training until validation scores don't improve for 10 rounds\n"
     ]
    },
    {
     "name": "stderr",
     "output_type": "stream",
     "text": [
      "[I 2024-01-18 10:41:07,273] Trial 11 finished with value: 0.769375 and parameters: {'lambda_l1': 8.320008850777734e-05, 'lambda_l2': 0.00013603222978403285, 'num_leaves': 212, 'feature_fraction': 0.48458169005213975, 'bagging_fraction': 0.6984652652514449, 'bagging_freq': 5, 'min_child_samples': 6}. Best is trial 2 with value: 0.789375.\n"
     ]
    },
    {
     "name": "stdout",
     "output_type": "stream",
     "text": [
      "Early stopping, best iteration is:\n",
      "[15]\tvalid_0's binary_error: 0.230625\n",
      "Training until validation scores don't improve for 10 rounds\n"
     ]
    },
    {
     "name": "stderr",
     "output_type": "stream",
     "text": [
      "[I 2024-01-18 10:41:07,496] Trial 12 finished with value: 0.778125 and parameters: {'lambda_l1': 0.02891001545769766, 'lambda_l2': 0.0006943089648899481, 'num_leaves': 177, 'feature_fraction': 0.43390597695318245, 'bagging_fraction': 0.7606320424439283, 'bagging_freq': 4, 'min_child_samples': 26}. Best is trial 2 with value: 0.789375.\n"
     ]
    },
    {
     "name": "stdout",
     "output_type": "stream",
     "text": [
      "Early stopping, best iteration is:\n",
      "[23]\tvalid_0's binary_error: 0.221875\n",
      "Training until validation scores don't improve for 10 rounds\n"
     ]
    },
    {
     "name": "stderr",
     "output_type": "stream",
     "text": [
      "[I 2024-01-18 10:41:07,722] Trial 13 finished with value: 0.780625 and parameters: {'lambda_l1': 2.6300407529532624e-05, 'lambda_l2': 1.0240108382306346e-05, 'num_leaves': 256, 'feature_fraction': 0.7448498985060684, 'bagging_fraction': 0.6715377385666643, 'bagging_freq': 4, 'min_child_samples': 21}. Best is trial 2 with value: 0.789375.\n"
     ]
    },
    {
     "name": "stdout",
     "output_type": "stream",
     "text": [
      "Early stopping, best iteration is:\n",
      "[18]\tvalid_0's binary_error: 0.219375\n",
      "Training until validation scores don't improve for 10 rounds\n",
      "Early stopping, best iteration is:\n",
      "[27]\tvalid_0's binary_error: 0.225\n"
     ]
    },
    {
     "name": "stderr",
     "output_type": "stream",
     "text": [
      "[I 2024-01-18 10:41:07,925] Trial 14 finished with value: 0.775 and parameters: {'lambda_l1': 0.0001505970515515509, 'lambda_l2': 9.378415237704556e-05, 'num_leaves': 95, 'feature_fraction': 0.7517521431463057, 'bagging_fraction': 0.6656268342041548, 'bagging_freq': 6, 'min_child_samples': 42}. Best is trial 2 with value: 0.789375.\n",
      "[I 2024-01-18 10:41:08,040] Trial 15 finished with value: 0.75875 and parameters: {'lambda_l1': 7.819566474856631, 'lambda_l2': 1.205267106901787e-08, 'num_leaves': 250, 'feature_fraction': 0.8914884105143739, 'bagging_fraction': 0.6203740829747506, 'bagging_freq': 5, 'min_child_samples': 31}. Best is trial 2 with value: 0.789375.\n",
      "[I 2024-01-18 10:41:08,164] Trial 16 finished with value: 0.778125 and parameters: {'lambda_l1': 0.03974014879515509, 'lambda_l2': 0.0017862654162831878, 'num_leaves': 10, 'feature_fraction': 0.7465413130301847, 'bagging_fraction': 0.6930998859737245, 'bagging_freq': 3, 'min_child_samples': 19}. Best is trial 2 with value: 0.789375.\n"
     ]
    },
    {
     "name": "stdout",
     "output_type": "stream",
     "text": [
      "Training until validation scores don't improve for 10 rounds\n",
      "Early stopping, best iteration is:\n",
      "[17]\tvalid_0's binary_error: 0.24125\n",
      "Training until validation scores don't improve for 10 rounds\n",
      "Early stopping, best iteration is:\n",
      "[28]\tvalid_0's binary_error: 0.221875\n"
     ]
    },
    {
     "name": "stderr",
     "output_type": "stream",
     "text": [
      "[I 2024-01-18 10:41:08,304] Trial 17 finished with value: 0.775 and parameters: {'lambda_l1': 0.0020996932569808382, 'lambda_l2': 5.486789328879723e-05, 'num_leaves': 108, 'feature_fraction': 0.8905032845663063, 'bagging_fraction': 0.5848566670549791, 'bagging_freq': 6, 'min_child_samples': 56}. Best is trial 2 with value: 0.789375.\n"
     ]
    },
    {
     "name": "stdout",
     "output_type": "stream",
     "text": [
      "Training until validation scores don't improve for 10 rounds\n",
      "Early stopping, best iteration is:\n",
      "[19]\tvalid_0's binary_error: 0.225\n",
      "Training until validation scores don't improve for 10 rounds\n"
     ]
    },
    {
     "name": "stderr",
     "output_type": "stream",
     "text": [
      "[I 2024-01-18 10:41:08,684] Trial 18 finished with value: 0.771875 and parameters: {'lambda_l1': 1.3006851332836455e-05, 'lambda_l2': 5.476780916164594, 'num_leaves': 254, 'feature_fraction': 0.7337628394062802, 'bagging_fraction': 0.7699895386475027, 'bagging_freq': 3, 'min_child_samples': 11}. Best is trial 2 with value: 0.789375.\n"
     ]
    },
    {
     "name": "stdout",
     "output_type": "stream",
     "text": [
      "Early stopping, best iteration is:\n",
      "[11]\tvalid_0's binary_error: 0.228125\n",
      "Training until validation scores don't improve for 10 rounds\n",
      "Early stopping, best iteration is:\n",
      "[26]\tvalid_0's binary_error: 0.22375\n"
     ]
    },
    {
     "name": "stderr",
     "output_type": "stream",
     "text": [
      "[I 2024-01-18 10:41:08,899] Trial 19 finished with value: 0.77625 and parameters: {'lambda_l1': 0.0005789755423478618, 'lambda_l2': 6.947274162135307e-07, 'num_leaves': 208, 'feature_fraction': 0.8036068837879674, 'bagging_fraction': 0.6433605389956933, 'bagging_freq': 6, 'min_child_samples': 37}. Best is trial 2 with value: 0.789375.\n",
      "[I 2024-01-18 10:41:09,110] Trial 20 finished with value: 0.7775 and parameters: {'lambda_l1': 0.01126550456663926, 'lambda_l2': 3.3216931243589134e-05, 'num_leaves': 184, 'feature_fraction': 0.7025079205500151, 'bagging_fraction': 0.7208209642703977, 'bagging_freq': 3, 'min_child_samples': 14}. Best is trial 2 with value: 0.789375.\n"
     ]
    },
    {
     "name": "stdout",
     "output_type": "stream",
     "text": [
      "Training until validation scores don't improve for 10 rounds\n",
      "Early stopping, best iteration is:\n",
      "[7]\tvalid_0's binary_error: 0.2225\n"
     ]
    },
    {
     "name": "stderr",
     "output_type": "stream",
     "text": [
      "[I 2024-01-18 10:41:09,366] Trial 21 finished with value: 0.77875 and parameters: {'lambda_l1': 1.4238377193711466e-05, 'lambda_l2': 9.50692836450589e-06, 'num_leaves': 166, 'feature_fraction': 0.7032322132823573, 'bagging_fraction': 0.809782443180805, 'bagging_freq': 4, 'min_child_samples': 25}. Best is trial 2 with value: 0.789375.\n"
     ]
    },
    {
     "name": "stdout",
     "output_type": "stream",
     "text": [
      "Training until validation scores don't improve for 10 rounds\n",
      "Early stopping, best iteration is:\n",
      "[6]\tvalid_0's binary_error: 0.22125\n"
     ]
    },
    {
     "name": "stderr",
     "output_type": "stream",
     "text": [
      "[I 2024-01-18 10:41:09,630] Trial 22 finished with value: 0.77375 and parameters: {'lambda_l1': 2.0892974214635565e-06, 'lambda_l2': 2.092532445376418e-05, 'num_leaves': 126, 'feature_fraction': 0.519629643965785, 'bagging_fraction': 0.8204165832125007, 'bagging_freq': 4, 'min_child_samples': 16}. Best is trial 2 with value: 0.789375.\n"
     ]
    },
    {
     "name": "stdout",
     "output_type": "stream",
     "text": [
      "Training until validation scores don't improve for 10 rounds\n",
      "Early stopping, best iteration is:\n",
      "[11]\tvalid_0's binary_error: 0.22625\n"
     ]
    },
    {
     "name": "stderr",
     "output_type": "stream",
     "text": [
      "[I 2024-01-18 10:41:09,998] Trial 23 finished with value: 0.778125 and parameters: {'lambda_l1': 0.00010500203990540652, 'lambda_l2': 2.0672616185975178e-06, 'num_leaves': 226, 'feature_fraction': 0.6592534531653533, 'bagging_fraction': 0.6848494363337883, 'bagging_freq': 4, 'min_child_samples': 27}. Best is trial 2 with value: 0.789375.\n"
     ]
    },
    {
     "name": "stdout",
     "output_type": "stream",
     "text": [
      "Training until validation scores don't improve for 10 rounds\n",
      "Early stopping, best iteration is:\n",
      "[29]\tvalid_0's binary_error: 0.221875\n"
     ]
    },
    {
     "name": "stderr",
     "output_type": "stream",
     "text": [
      "[I 2024-01-18 10:41:10,202] Trial 24 finished with value: 0.78 and parameters: {'lambda_l1': 0.0003288777659034986, 'lambda_l2': 0.00029304155789874496, 'num_leaves': 84, 'feature_fraction': 0.9266069822210938, 'bagging_fraction': 0.7745626751610704, 'bagging_freq': 5, 'min_child_samples': 11}. Best is trial 2 with value: 0.789375.\n"
     ]
    },
    {
     "name": "stdout",
     "output_type": "stream",
     "text": [
      "Training until validation scores don't improve for 10 rounds\n",
      "Early stopping, best iteration is:\n",
      "[14]\tvalid_0's binary_error: 0.22\n"
     ]
    },
    {
     "name": "stderr",
     "output_type": "stream",
     "text": [
      "[I 2024-01-18 10:41:10,362] Trial 25 finished with value: 0.7725 and parameters: {'lambda_l1': 0.34296595991257817, 'lambda_l2': 1.0743890268375546e-07, 'num_leaves': 164, 'feature_fraction': 0.816006434949768, 'bagging_fraction': 0.7278682950011824, 'bagging_freq': 3, 'min_child_samples': 33}. Best is trial 2 with value: 0.789375.\n"
     ]
    },
    {
     "name": "stdout",
     "output_type": "stream",
     "text": [
      "Training until validation scores don't improve for 10 rounds\n",
      "Early stopping, best iteration is:\n",
      "[9]\tvalid_0's binary_error: 0.2275\n",
      "Training until validation scores don't improve for 10 rounds\n"
     ]
    },
    {
     "name": "stderr",
     "output_type": "stream",
     "text": [
      "[I 2024-01-18 10:41:10,516] Trial 26 finished with value: 0.774375 and parameters: {'lambda_l1': 2.077257354786689e-06, 'lambda_l2': 1.4177723460559418e-05, 'num_leaves': 201, 'feature_fraction': 0.8575132312420918, 'bagging_fraction': 0.873242531045576, 'bagging_freq': 6, 'min_child_samples': 46}. Best is trial 2 with value: 0.789375.\n"
     ]
    },
    {
     "name": "stdout",
     "output_type": "stream",
     "text": [
      "Early stopping, best iteration is:\n",
      "[2]\tvalid_0's binary_error: 0.225625\n",
      "Training until validation scores don't improve for 10 rounds\n"
     ]
    },
    {
     "name": "stderr",
     "output_type": "stream",
     "text": [
      "[I 2024-01-18 10:41:10,855] Trial 27 finished with value: 0.778125 and parameters: {'lambda_l1': 0.003168401809397509, 'lambda_l2': 4.323484859154788e-06, 'num_leaves': 31, 'feature_fraction': 0.952910786640333, 'bagging_fraction': 0.66707534362979, 'bagging_freq': 5, 'min_child_samples': 21}. Best is trial 2 with value: 0.789375.\n"
     ]
    },
    {
     "name": "stdout",
     "output_type": "stream",
     "text": [
      "Early stopping, best iteration is:\n",
      "[24]\tvalid_0's binary_error: 0.221875\n",
      "Training until validation scores don't improve for 10 rounds\n"
     ]
    },
    {
     "name": "stderr",
     "output_type": "stream",
     "text": [
      "[I 2024-01-18 10:41:11,077] Trial 28 finished with value: 0.76625 and parameters: {'lambda_l1': 3.3916398295560594e-05, 'lambda_l2': 1.2153860617571142e-06, 'num_leaves': 123, 'feature_fraction': 0.9302140810222255, 'bagging_fraction': 0.792256799328262, 'bagging_freq': 4, 'min_child_samples': 6}. Best is trial 2 with value: 0.789375.\n",
      "[I 2024-01-18 10:41:11,240] Trial 29 finished with value: 0.77875 and parameters: {'lambda_l1': 0.1315864943335809, 'lambda_l2': 1.5412129648759097e-07, 'num_leaves': 148, 'feature_fraction': 0.7755617228574938, 'bagging_fraction': 0.7397002382280682, 'bagging_freq': 7, 'min_child_samples': 91}. Best is trial 2 with value: 0.789375.\n"
     ]
    },
    {
     "name": "stdout",
     "output_type": "stream",
     "text": [
      "Early stopping, best iteration is:\n",
      "[7]\tvalid_0's binary_error: 0.23375\n",
      "Training until validation scores don't improve for 10 rounds\n",
      "Early stopping, best iteration is:\n",
      "[29]\tvalid_0's binary_error: 0.22125\n"
     ]
    },
    {
     "name": "stderr",
     "output_type": "stream",
     "text": [
      "[I 2024-01-18 10:41:11,378] Trial 30 finished with value: 0.77 and parameters: {'lambda_l1': 0.0002907089924800157, 'lambda_l2': 4.180225171937167e-05, 'num_leaves': 232, 'feature_fraction': 0.990521338207708, 'bagging_fraction': 0.7280563001130409, 'bagging_freq': 4, 'min_child_samples': 98}. Best is trial 2 with value: 0.789375.\n"
     ]
    },
    {
     "name": "stdout",
     "output_type": "stream",
     "text": [
      "Training until validation scores don't improve for 10 rounds\n",
      "Early stopping, best iteration is:\n",
      "[18]\tvalid_0's binary_error: 0.23\n",
      "Training until validation scores don't improve for 10 rounds\n"
     ]
    },
    {
     "name": "stderr",
     "output_type": "stream",
     "text": [
      "[I 2024-01-18 10:41:11,553] Trial 31 finished with value: 0.775 and parameters: {'lambda_l1': 0.0006054870698635858, 'lambda_l2': 0.00037174133197130497, 'num_leaves': 78, 'feature_fraction': 0.9346164582690688, 'bagging_fraction': 0.7717744561292816, 'bagging_freq': 5, 'min_child_samples': 12}. Best is trial 2 with value: 0.789375.\n"
     ]
    },
    {
     "name": "stdout",
     "output_type": "stream",
     "text": [
      "Early stopping, best iteration is:\n",
      "[10]\tvalid_0's binary_error: 0.225\n",
      "Training until validation scores don't improve for 10 rounds\n",
      "Early stopping, best iteration is:\n",
      "[14]\tvalid_0's binary_error: 0.215625\n"
     ]
    },
    {
     "name": "stderr",
     "output_type": "stream",
     "text": [
      "[I 2024-01-18 10:41:11,749] Trial 32 finished with value: 0.784375 and parameters: {'lambda_l1': 0.008982912468774343, 'lambda_l2': 0.006031011275540977, 'num_leaves': 88, 'feature_fraction': 0.9605121065386308, 'bagging_fraction': 0.7684169960320997, 'bagging_freq': 5, 'min_child_samples': 11}. Best is trial 2 with value: 0.789375.\n",
      "[I 2024-01-18 10:41:11,904] Trial 33 finished with value: 0.7675 and parameters: {'lambda_l1': 0.08538126474988869, 'lambda_l2': 0.018694503829403502, 'num_leaves': 61, 'feature_fraction': 0.9716417893870746, 'bagging_fraction': 0.7328257408328649, 'bagging_freq': 5, 'min_child_samples': 18}. Best is trial 2 with value: 0.789375.\n"
     ]
    },
    {
     "name": "stdout",
     "output_type": "stream",
     "text": [
      "Training until validation scores don't improve for 10 rounds\n",
      "Early stopping, best iteration is:\n",
      "[8]\tvalid_0's binary_error: 0.2325\n",
      "Training until validation scores don't improve for 10 rounds\n"
     ]
    },
    {
     "name": "stderr",
     "output_type": "stream",
     "text": [
      "[I 2024-01-18 10:41:12,069] Trial 34 finished with value: 0.7725 and parameters: {'lambda_l1': 0.01599979929521391, 'lambda_l2': 1.9297932423234535e-06, 'num_leaves': 110, 'feature_fraction': 0.8563444248580286, 'bagging_fraction': 0.5956385763671519, 'bagging_freq': 6, 'min_child_samples': 29}. Best is trial 2 with value: 0.789375.\n",
      "[I 2024-01-18 10:41:12,200] Trial 35 finished with value: 0.77875 and parameters: {'lambda_l1': 0.6207215290688656, 'lambda_l2': 0.007451422484901054, 'num_leaves': 34, 'feature_fraction': 0.9957658213883065, 'bagging_fraction': 0.6480295831975555, 'bagging_freq': 7, 'min_child_samples': 36}. Best is trial 2 with value: 0.789375.\n"
     ]
    },
    {
     "name": "stdout",
     "output_type": "stream",
     "text": [
      "Early stopping, best iteration is:\n",
      "[12]\tvalid_0's binary_error: 0.2275\n",
      "Training until validation scores don't improve for 10 rounds\n",
      "Early stopping, best iteration is:\n",
      "[15]\tvalid_0's binary_error: 0.22125\n"
     ]
    },
    {
     "name": "stderr",
     "output_type": "stream",
     "text": [
      "[I 2024-01-18 10:41:12,361] Trial 36 finished with value: 0.771875 and parameters: {'lambda_l1': 1.0274347595196845e-08, 'lambda_l2': 1.7190448408298177e-05, 'num_leaves': 58, 'feature_fraction': 0.6703785181573441, 'bagging_fraction': 0.5522111680638127, 'bagging_freq': 5, 'min_child_samples': 66}. Best is trial 2 with value: 0.789375.\n"
     ]
    },
    {
     "name": "stdout",
     "output_type": "stream",
     "text": [
      "Training until validation scores don't improve for 10 rounds\n",
      "Early stopping, best iteration is:\n",
      "[12]\tvalid_0's binary_error: 0.228125\n",
      "Training until validation scores don't improve for 10 rounds\n"
     ]
    },
    {
     "name": "stderr",
     "output_type": "stream",
     "text": [
      "[I 2024-01-18 10:41:12,498] Trial 37 finished with value: 0.78 and parameters: {'lambda_l1': 0.145939661314927, 'lambda_l2': 5.231748475366025e-06, 'num_leaves': 93, 'feature_fraction': 0.5941119455138513, 'bagging_fraction': 0.7006329579109448, 'bagging_freq': 3, 'min_child_samples': 23}. Best is trial 2 with value: 0.789375.\n",
      "[I 2024-01-18 10:41:12,675] Trial 38 finished with value: 0.771875 and parameters: {'lambda_l1': 6.097736137514131e-08, 'lambda_l2': 0.00011604540303403315, 'num_leaves': 145, 'feature_fraction': 0.5804165518218892, 'bagging_fraction': 0.8331510277886656, 'bagging_freq': 6, 'min_child_samples': 11}. Best is trial 2 with value: 0.789375.\n"
     ]
    },
    {
     "name": "stdout",
     "output_type": "stream",
     "text": [
      "Early stopping, best iteration is:\n",
      "[6]\tvalid_0's binary_error: 0.22\n",
      "Training until validation scores don't improve for 10 rounds\n",
      "Early stopping, best iteration is:\n",
      "[8]\tvalid_0's binary_error: 0.228125\n"
     ]
    },
    {
     "name": "stderr",
     "output_type": "stream",
     "text": [
      "[I 2024-01-18 10:41:12,828] Trial 39 finished with value: 0.778125 and parameters: {'lambda_l1': 0.007046870492280109, 'lambda_l2': 7.292780283725266e-06, 'num_leaves': 49, 'feature_fraction': 0.6305881911059805, 'bagging_fraction': 0.791766556644914, 'bagging_freq': 4, 'min_child_samples': 40}. Best is trial 2 with value: 0.789375.\n"
     ]
    },
    {
     "name": "stdout",
     "output_type": "stream",
     "text": [
      "Training until validation scores don't improve for 10 rounds\n",
      "Early stopping, best iteration is:\n",
      "[14]\tvalid_0's binary_error: 0.221875\n",
      "Training until validation scores don't improve for 10 rounds\n"
     ]
    },
    {
     "name": "stderr",
     "output_type": "stream",
     "text": [
      "[I 2024-01-18 10:41:13,062] Trial 40 finished with value: 0.7675 and parameters: {'lambda_l1': 0.7502141410480306, 'lambda_l2': 3.7495284722918844e-07, 'num_leaves': 236, 'feature_fraction': 0.9584547208157878, 'bagging_fraction': 0.8420220784870159, 'bagging_freq': 2, 'min_child_samples': 16}. Best is trial 2 with value: 0.789375.\n"
     ]
    },
    {
     "name": "stdout",
     "output_type": "stream",
     "text": [
      "Early stopping, best iteration is:\n",
      "[11]\tvalid_0's binary_error: 0.2325\n",
      "Training until validation scores don't improve for 10 rounds\n"
     ]
    },
    {
     "name": "stderr",
     "output_type": "stream",
     "text": [
      "[I 2024-01-18 10:41:13,273] Trial 41 finished with value: 0.775625 and parameters: {'lambda_l1': 0.0018631132468364983, 'lambda_l2': 0.00033858981751107216, 'num_leaves': 80, 'feature_fraction': 0.9213512139483857, 'bagging_fraction': 0.7534458411258915, 'bagging_freq': 5, 'min_child_samples': 9}. Best is trial 2 with value: 0.789375.\n"
     ]
    },
    {
     "name": "stdout",
     "output_type": "stream",
     "text": [
      "Early stopping, best iteration is:\n",
      "[13]\tvalid_0's binary_error: 0.224375\n",
      "Training until validation scores don't improve for 10 rounds\n"
     ]
    },
    {
     "name": "stderr",
     "output_type": "stream",
     "text": [
      "[I 2024-01-18 10:41:13,497] Trial 42 finished with value: 0.775625 and parameters: {'lambda_l1': 0.05149690880856238, 'lambda_l2': 0.0008834857956453256, 'num_leaves': 93, 'feature_fraction': 0.9689266192519137, 'bagging_fraction': 0.7807772824588477, 'bagging_freq': 5, 'min_child_samples': 5}. Best is trial 2 with value: 0.789375.\n",
      "[I 2024-01-18 10:41:13,634] Trial 43 finished with value: 0.779375 and parameters: {'lambda_l1': 0.007226452401287439, 'lambda_l2': 0.0001674992183789682, 'num_leaves': 72, 'feature_fraction': 0.9041482505166496, 'bagging_fraction': 0.8050165585937333, 'bagging_freq': 4, 'min_child_samples': 15}. Best is trial 2 with value: 0.789375.\n"
     ]
    },
    {
     "name": "stdout",
     "output_type": "stream",
     "text": [
      "Early stopping, best iteration is:\n",
      "[9]\tvalid_0's binary_error: 0.224375\n",
      "Training until validation scores don't improve for 10 rounds\n",
      "Early stopping, best iteration is:\n",
      "[8]\tvalid_0's binary_error: 0.220625\n"
     ]
    },
    {
     "name": "stderr",
     "output_type": "stream",
     "text": [
      "[I 2024-01-18 10:41:13,862] Trial 44 finished with value: 0.769375 and parameters: {'lambda_l1': 0.0011688727179498815, 'lambda_l2': 4.524481629565383e-05, 'num_leaves': 113, 'feature_fraction': 0.930365533369993, 'bagging_fraction': 0.751830954240838, 'bagging_freq': 6, 'min_child_samples': 22}. Best is trial 2 with value: 0.789375.\n"
     ]
    },
    {
     "name": "stdout",
     "output_type": "stream",
     "text": [
      "Training until validation scores don't improve for 10 rounds\n",
      "Early stopping, best iteration is:\n",
      "[21]\tvalid_0's binary_error: 0.230625\n"
     ]
    },
    {
     "name": "stderr",
     "output_type": "stream",
     "text": [
      "[I 2024-01-18 10:41:14,008] Trial 45 finished with value: 0.775 and parameters: {'lambda_l1': 0.019160679852929626, 'lambda_l2': 0.0025191601993288797, 'num_leaves': 20, 'feature_fraction': 0.870521964260045, 'bagging_fraction': 0.8829803453568987, 'bagging_freq': 5, 'min_child_samples': 9}. Best is trial 2 with value: 0.789375.\n"
     ]
    },
    {
     "name": "stdout",
     "output_type": "stream",
     "text": [
      "Training until validation scores don't improve for 10 rounds\n",
      "Early stopping, best iteration is:\n",
      "[14]\tvalid_0's binary_error: 0.225\n",
      "Training until validation scores don't improve for 10 rounds\n",
      "Early stopping, best iteration is:\n",
      "[5]\tvalid_0's binary_error: 0.2275\n"
     ]
    },
    {
     "name": "stderr",
     "output_type": "stream",
     "text": [
      "[I 2024-01-18 10:41:14,171] Trial 46 finished with value: 0.7725 and parameters: {'lambda_l1': 0.0002575300753401989, 'lambda_l2': 3.906828867594678e-06, 'num_leaves': 89, 'feature_fraction': 0.8391392545997085, 'bagging_fraction': 0.7044534573906551, 'bagging_freq': 4, 'min_child_samples': 19}. Best is trial 2 with value: 0.789375.\n",
      "[I 2024-01-18 10:41:14,472] Trial 47 finished with value: 0.775625 and parameters: {'lambda_l1': 1.7009270753022796, 'lambda_l2': 0.00017444562423371795, 'num_leaves': 136, 'feature_fraction': 0.9004235735614039, 'bagging_fraction': 0.766342131260935, 'bagging_freq': 5, 'min_child_samples': 30}. Best is trial 2 with value: 0.789375.\n"
     ]
    },
    {
     "name": "stdout",
     "output_type": "stream",
     "text": [
      "Training until validation scores don't improve for 10 rounds\n",
      "Early stopping, best iteration is:\n",
      "[28]\tvalid_0's binary_error: 0.224375\n"
     ]
    },
    {
     "name": "stderr",
     "output_type": "stream",
     "text": [
      "[I 2024-01-18 10:41:14,670] Trial 48 finished with value: 0.774375 and parameters: {'lambda_l1': 5.2820056044337823e-05, 'lambda_l2': 0.06064681828374116, 'num_leaves': 47, 'feature_fraction': 0.7925398861291328, 'bagging_fraction': 0.8548403153442767, 'bagging_freq': 7, 'min_child_samples': 10}. Best is trial 2 with value: 0.789375.\n"
     ]
    },
    {
     "name": "stdout",
     "output_type": "stream",
     "text": [
      "Training until validation scores don't improve for 10 rounds\n",
      "Early stopping, best iteration is:\n",
      "[11]\tvalid_0's binary_error: 0.225625\n",
      "Training until validation scores don't improve for 10 rounds\n"
     ]
    },
    {
     "name": "stderr",
     "output_type": "stream",
     "text": [
      "[I 2024-01-18 10:41:14,886] Trial 49 finished with value: 0.77375 and parameters: {'lambda_l1': 0.2876779147505122, 'lambda_l2': 6.698895274768179e-05, 'num_leaves': 69, 'feature_fraction': 0.8340401482705914, 'bagging_fraction': 0.6756344351612504, 'bagging_freq': 6, 'min_child_samples': 51}. Best is trial 2 with value: 0.789375.\n"
     ]
    },
    {
     "name": "stdout",
     "output_type": "stream",
     "text": [
      "Early stopping, best iteration is:\n",
      "[23]\tvalid_0's binary_error: 0.22625\n",
      "Training until validation scores don't improve for 10 rounds\n"
     ]
    },
    {
     "name": "stderr",
     "output_type": "stream",
     "text": [
      "[I 2024-01-18 10:41:15,284] Trial 50 finished with value: 0.779375 and parameters: {'lambda_l1': 0.044699864250718306, 'lambda_l2': 1.9823975283773114e-05, 'num_leaves': 187, 'feature_fraction': 0.8736183622791023, 'bagging_fraction': 0.710912825639354, 'bagging_freq': 5, 'min_child_samples': 24}. Best is trial 2 with value: 0.789375.\n"
     ]
    },
    {
     "name": "stdout",
     "output_type": "stream",
     "text": [
      "Early stopping, best iteration is:\n",
      "[29]\tvalid_0's binary_error: 0.220625\n",
      "Training until validation scores don't improve for 10 rounds\n"
     ]
    },
    {
     "name": "stderr",
     "output_type": "stream",
     "text": [
      "[I 2024-01-18 10:41:15,536] Trial 51 finished with value: 0.785625 and parameters: {'lambda_l1': 0.10908248393181776, 'lambda_l2': 4.004772923099595e-06, 'num_leaves': 102, 'feature_fraction': 0.5396972823933639, 'bagging_fraction': 0.6979135000439978, 'bagging_freq': 3, 'min_child_samples': 22}. Best is trial 2 with value: 0.789375.\n",
      "[I 2024-01-18 10:41:15,688] Trial 52 finished with value: 0.775625 and parameters: {'lambda_l1': 0.028865731682073917, 'lambda_l2': 2.3133951377615095e-06, 'num_leaves': 85, 'feature_fraction': 0.5545249680711806, 'bagging_fraction': 0.7403715585189632, 'bagging_freq': 2, 'min_child_samples': 15}. Best is trial 2 with value: 0.789375.\n"
     ]
    },
    {
     "name": "stdout",
     "output_type": "stream",
     "text": [
      "Early stopping, best iteration is:\n",
      "[15]\tvalid_0's binary_error: 0.214375\n",
      "Training until validation scores don't improve for 10 rounds\n",
      "Early stopping, best iteration is:\n",
      "[5]\tvalid_0's binary_error: 0.224375\n"
     ]
    },
    {
     "name": "stderr",
     "output_type": "stream",
     "text": [
      "[I 2024-01-18 10:41:15,917] Trial 53 finished with value: 0.78375 and parameters: {'lambda_l1': 0.003328007957025157, 'lambda_l2': 9.025439033566243e-07, 'num_leaves': 102, 'feature_fraction': 0.5146174102729225, 'bagging_fraction': 0.6947750755919094, 'bagging_freq': 3, 'min_child_samples': 19}. Best is trial 2 with value: 0.789375.\n"
     ]
    },
    {
     "name": "stdout",
     "output_type": "stream",
     "text": [
      "Training until validation scores don't improve for 10 rounds\n",
      "Early stopping, best iteration is:\n",
      "[24]\tvalid_0's binary_error: 0.21625\n"
     ]
    },
    {
     "name": "stderr",
     "output_type": "stream",
     "text": [
      "[I 2024-01-18 10:41:16,134] Trial 54 finished with value: 0.774375 and parameters: {'lambda_l1': 0.005646369127498774, 'lambda_l2': 1.0161629332834672e-06, 'num_leaves': 120, 'feature_fraction': 0.5168650582866928, 'bagging_fraction': 0.6453363774866098, 'bagging_freq': 3, 'min_child_samples': 27}. Best is trial 2 with value: 0.789375.\n"
     ]
    },
    {
     "name": "stdout",
     "output_type": "stream",
     "text": [
      "Training until validation scores don't improve for 10 rounds\n",
      "Early stopping, best iteration is:\n",
      "[8]\tvalid_0's binary_error: 0.225625\n",
      "Training until validation scores don't improve for 10 rounds\n"
     ]
    },
    {
     "name": "stderr",
     "output_type": "stream",
     "text": [
      "[I 2024-01-18 10:41:16,335] Trial 55 finished with value: 0.77375 and parameters: {'lambda_l1': 0.08186439926313453, 'lambda_l2': 9.166866000023145e-06, 'num_leaves': 97, 'feature_fraction': 0.4828003296737999, 'bagging_fraction': 0.6758925111151436, 'bagging_freq': 3, 'min_child_samples': 32}. Best is trial 2 with value: 0.789375.\n",
      "[I 2024-01-18 10:41:16,499] Trial 56 finished with value: 0.7725 and parameters: {'lambda_l1': 0.016245344500203752, 'lambda_l2': 6.592385602708002e-07, 'num_leaves': 157, 'feature_fraction': 0.5954756722658183, 'bagging_fraction': 0.6986497192656909, 'bagging_freq': 2, 'min_child_samples': 19}. Best is trial 2 with value: 0.789375.\n"
     ]
    },
    {
     "name": "stdout",
     "output_type": "stream",
     "text": [
      "Early stopping, best iteration is:\n",
      "[12]\tvalid_0's binary_error: 0.22625\n",
      "Training until validation scores don't improve for 10 rounds\n",
      "Early stopping, best iteration is:\n",
      "[4]\tvalid_0's binary_error: 0.2275\n"
     ]
    },
    {
     "name": "stderr",
     "output_type": "stream",
     "text": [
      "[I 2024-01-18 10:41:16,677] Trial 57 finished with value: 0.778125 and parameters: {'lambda_l1': 0.36168305153189406, 'lambda_l2': 2.79118798314135e-06, 'num_leaves': 102, 'feature_fraction': 0.635677847371759, 'bagging_fraction': 0.7159636081496384, 'bagging_freq': 3, 'min_child_samples': 24}. Best is trial 2 with value: 0.789375.\n"
     ]
    },
    {
     "name": "stdout",
     "output_type": "stream",
     "text": [
      "Training until validation scores don't improve for 10 rounds\n",
      "Early stopping, best iteration is:\n",
      "[8]\tvalid_0's binary_error: 0.221875\n",
      "Training until validation scores don't improve for 10 rounds\n"
     ]
    },
    {
     "name": "stderr",
     "output_type": "stream",
     "text": [
      "[I 2024-01-18 10:41:16,831] Trial 58 finished with value: 0.7775 and parameters: {'lambda_l1': 0.002962625567088285, 'lambda_l2': 2.293884755724816e-07, 'num_leaves': 137, 'feature_fraction': 0.40698362982465663, 'bagging_fraction': 0.6271687776773206, 'bagging_freq': 2, 'min_child_samples': 62}. Best is trial 2 with value: 0.789375.\n",
      "[I 2024-01-18 10:41:16,998] Trial 59 finished with value: 0.765 and parameters: {'lambda_l1': 5.298154613088208, 'lambda_l2': 1.1231245473541643e-06, 'num_leaves': 114, 'feature_fraction': 0.5576348743977758, 'bagging_fraction': 0.6863292803285541, 'bagging_freq': 4, 'min_child_samples': 7}. Best is trial 2 with value: 0.789375.\n"
     ]
    },
    {
     "name": "stdout",
     "output_type": "stream",
     "text": [
      "Early stopping, best iteration is:\n",
      "[14]\tvalid_0's binary_error: 0.2225\n",
      "Training until validation scores don't improve for 10 rounds\n",
      "Early stopping, best iteration is:\n",
      "[6]\tvalid_0's binary_error: 0.235\n"
     ]
    },
    {
     "name": "stderr",
     "output_type": "stream",
     "text": [
      "[I 2024-01-18 10:41:17,150] Trial 60 finished with value: 0.7725 and parameters: {'lambda_l1': 0.18438796669358232, 'lambda_l2': 8.650109826808189e-08, 'num_leaves': 246, 'feature_fraction': 0.6801607075708286, 'bagging_fraction': 0.6600426155330588, 'bagging_freq': 1, 'min_child_samples': 77}. Best is trial 2 with value: 0.789375.\n",
      "[I 2024-01-18 10:41:17,302] Trial 61 finished with value: 0.779375 and parameters: {'lambda_l1': 0.00011266582972219699, 'lambda_l2': 7.005069296089799e-06, 'num_leaves': 67, 'feature_fraction': 0.9472274037551509, 'bagging_fraction': 0.752438025552853, 'bagging_freq': 4, 'min_child_samples': 13}. Best is trial 2 with value: 0.789375.\n"
     ]
    },
    {
     "name": "stdout",
     "output_type": "stream",
     "text": [
      "Training until validation scores don't improve for 10 rounds\n",
      "Early stopping, best iteration is:\n",
      "[2]\tvalid_0's binary_error: 0.2275\n",
      "Training until validation scores don't improve for 10 rounds\n",
      "Early stopping, best iteration is:\n",
      "[13]\tvalid_0's binary_error: 0.220625\n"
     ]
    },
    {
     "name": "stderr",
     "output_type": "stream",
     "text": [
      "[I 2024-01-18 10:41:17,464] Trial 62 finished with value: 0.77625 and parameters: {'lambda_l1': 0.0007605148974809931, 'lambda_l2': 2.977589044644255e-05, 'num_leaves': 80, 'feature_fraction': 0.9843958081076668, 'bagging_fraction': 0.7913762255110306, 'bagging_freq': 3, 'min_child_samples': 17}. Best is trial 2 with value: 0.789375.\n"
     ]
    },
    {
     "name": "stdout",
     "output_type": "stream",
     "text": [
      "Training until validation scores don't improve for 10 rounds\n",
      "Early stopping, best iteration is:\n",
      "[17]\tvalid_0's binary_error: 0.22375\n",
      "Training until validation scores don't improve for 10 rounds\n"
     ]
    },
    {
     "name": "stderr",
     "output_type": "stream",
     "text": [
      "[I 2024-01-18 10:41:17,707] Trial 63 finished with value: 0.778125 and parameters: {'lambda_l1': 0.0035119252289927036, 'lambda_l2': 1.0007131686658969e-05, 'num_leaves': 104, 'feature_fraction': 0.5310025395743982, 'bagging_fraction': 0.7278100795859447, 'bagging_freq': 3, 'min_child_samples': 21}. Best is trial 2 with value: 0.789375.\n"
     ]
    },
    {
     "name": "stdout",
     "output_type": "stream",
     "text": [
      "Early stopping, best iteration is:\n",
      "[8]\tvalid_0's binary_error: 0.221875\n"
     ]
    },
    {
     "name": "stderr",
     "output_type": "stream",
     "text": [
      "[I 2024-01-18 10:41:18,104] Trial 64 finished with value: 0.7775 and parameters: {'lambda_l1': 0.0002090858605331465, 'lambda_l2': 6.213902733531077e-05, 'num_leaves': 57, 'feature_fraction': 0.7314289162693465, 'bagging_fraction': 0.7710769500258611, 'bagging_freq': 4, 'min_child_samples': 13}. Best is trial 2 with value: 0.789375.\n"
     ]
    },
    {
     "name": "stdout",
     "output_type": "stream",
     "text": [
      "Training until validation scores don't improve for 10 rounds\n",
      "Early stopping, best iteration is:\n",
      "[14]\tvalid_0's binary_error: 0.2225\n"
     ]
    },
    {
     "name": "stderr",
     "output_type": "stream",
     "text": [
      "[I 2024-01-18 10:41:18,348] Trial 65 finished with value: 0.76875 and parameters: {'lambda_l1': 0.00040322363674259726, 'lambda_l2': 1.9538265646728673e-05, 'num_leaves': 128, 'feature_fraction': 0.9091817118457017, 'bagging_fraction': 0.8091318543221016, 'bagging_freq': 4, 'min_child_samples': 8}. Best is trial 2 with value: 0.789375.\n"
     ]
    },
    {
     "name": "stdout",
     "output_type": "stream",
     "text": [
      "Training until validation scores don't improve for 10 rounds\n",
      "Early stopping, best iteration is:\n",
      "[15]\tvalid_0's binary_error: 0.23125\n"
     ]
    },
    {
     "name": "stderr",
     "output_type": "stream",
     "text": [
      "[I 2024-01-18 10:41:18,590] Trial 66 finished with value: 0.77625 and parameters: {'lambda_l1': 4.352639453613304e-06, 'lambda_l2': 3.887146834069331e-06, 'num_leaves': 217, 'feature_fraction': 0.9481223488987081, 'bagging_fraction': 0.7449743146621619, 'bagging_freq': 5, 'min_child_samples': 27}. Best is trial 2 with value: 0.789375.\n"
     ]
    },
    {
     "name": "stdout",
     "output_type": "stream",
     "text": [
      "Training until validation scores don't improve for 10 rounds\n",
      "Early stopping, best iteration is:\n",
      "[22]\tvalid_0's binary_error: 0.22375\n",
      "Training until validation scores don't improve for 10 rounds\n",
      "Early stopping, best iteration is:\n",
      "[22]\tvalid_0's binary_error: 0.23125\n"
     ]
    },
    {
     "name": "stderr",
     "output_type": "stream",
     "text": [
      "[I 2024-01-18 10:41:18,907] Trial 67 finished with value: 0.76875 and parameters: {'lambda_l1': 0.0008341050437665743, 'lambda_l2': 5.086546828225159e-07, 'num_leaves': 100, 'feature_fraction': 0.9995749453247388, 'bagging_fraction': 0.7117977607141189, 'bagging_freq': 6, 'min_child_samples': 5}. Best is trial 2 with value: 0.789375.\n",
      "[I 2024-01-18 10:41:19,090] Trial 68 finished with value: 0.775625 and parameters: {'lambda_l1': 0.0015642650726507307, 'lambda_l2': 1.6500036638869485e-06, 'num_leaves': 199, 'feature_fraction': 0.6067531238906402, 'bagging_fraction': 0.6886177677804944, 'bagging_freq': 3, 'min_child_samples': 21}. Best is trial 2 with value: 0.789375.\n"
     ]
    },
    {
     "name": "stdout",
     "output_type": "stream",
     "text": [
      "Training until validation scores don't improve for 10 rounds\n",
      "Early stopping, best iteration is:\n",
      "[7]\tvalid_0's binary_error: 0.224375\n",
      "Training until validation scores don't improve for 10 rounds\n"
     ]
    },
    {
     "name": "stderr",
     "output_type": "stream",
     "text": [
      "[I 2024-01-18 10:41:19,229] Trial 69 finished with value: 0.779375 and parameters: {'lambda_l1': 2.7545005595318484e-05, 'lambda_l2': 1.2167245080513123e-05, 'num_leaves': 81, 'feature_fraction': 0.6471519749517181, 'bagging_fraction': 0.6625176636729813, 'bagging_freq': 4, 'min_child_samples': 13}. Best is trial 2 with value: 0.789375.\n",
      "[I 2024-01-18 10:41:19,408] Trial 70 finished with value: 0.7775 and parameters: {'lambda_l1': 0.00045069295354108186, 'lambda_l2': 3.3167376141286713e-06, 'num_leaves': 38, 'feature_fraction': 0.9811923194702676, 'bagging_fraction': 0.7226245675844125, 'bagging_freq': 3, 'min_child_samples': 85}. Best is trial 2 with value: 0.789375.\n"
     ]
    },
    {
     "name": "stdout",
     "output_type": "stream",
     "text": [
      "Early stopping, best iteration is:\n",
      "[14]\tvalid_0's binary_error: 0.220625\n",
      "Training until validation scores don't improve for 10 rounds\n",
      "Early stopping, best iteration is:\n",
      "[32]\tvalid_0's binary_error: 0.2225\n"
     ]
    },
    {
     "name": "stderr",
     "output_type": "stream",
     "text": [
      "[I 2024-01-18 10:41:19,534] Trial 71 finished with value: 0.7825 and parameters: {'lambda_l1': 0.08712507242887431, 'lambda_l2': 1.1858198059179422e-06, 'num_leaves': 93, 'feature_fraction': 0.5927208269614259, 'bagging_fraction': 0.7069314871463778, 'bagging_freq': 3, 'min_child_samples': 17}. Best is trial 2 with value: 0.789375.\n",
      "[I 2024-01-18 10:41:19,698] Trial 72 finished with value: 0.781875 and parameters: {'lambda_l1': 0.026730398074306477, 'lambda_l2': 1.065419619103633e-06, 'num_leaves': 92, 'feature_fraction': 0.5728605553049817, 'bagging_fraction': 0.7615416435293151, 'bagging_freq': 3, 'min_child_samples': 17}. Best is trial 2 with value: 0.789375.\n"
     ]
    },
    {
     "name": "stdout",
     "output_type": "stream",
     "text": [
      "Training until validation scores don't improve for 10 rounds\n",
      "Early stopping, best iteration is:\n",
      "[3]\tvalid_0's binary_error: 0.2175\n",
      "Training until validation scores don't improve for 10 rounds\n",
      "Early stopping, best iteration is:\n",
      "[8]\tvalid_0's binary_error: 0.218125\n"
     ]
    },
    {
     "name": "stderr",
     "output_type": "stream",
     "text": [
      "[I 2024-01-18 10:41:19,942] Trial 73 finished with value: 0.780625 and parameters: {'lambda_l1': 0.07507592886356775, 'lambda_l2': 9.44666127834543e-07, 'num_leaves': 116, 'feature_fraction': 0.616204779631178, 'bagging_fraction': 0.6881765797563094, 'bagging_freq': 2, 'min_child_samples': 19}. Best is trial 2 with value: 0.789375.\n"
     ]
    },
    {
     "name": "stdout",
     "output_type": "stream",
     "text": [
      "Training until validation scores don't improve for 10 rounds\n",
      "Early stopping, best iteration is:\n",
      "[12]\tvalid_0's binary_error: 0.219375\n"
     ]
    },
    {
     "name": "stderr",
     "output_type": "stream",
     "text": [
      "[I 2024-01-18 10:41:20,149] Trial 74 finished with value: 0.780625 and parameters: {'lambda_l1': 0.07522091778793376, 'lambda_l2': 7.616365676185847e-07, 'num_leaves': 108, 'feature_fraction': 0.6155856547277614, 'bagging_fraction': 0.6841679539634578, 'bagging_freq': 2, 'min_child_samples': 18}. Best is trial 2 with value: 0.789375.\n"
     ]
    },
    {
     "name": "stdout",
     "output_type": "stream",
     "text": [
      "Training until validation scores don't improve for 10 rounds\n",
      "Early stopping, best iteration is:\n",
      "[14]\tvalid_0's binary_error: 0.219375\n",
      "Training until validation scores don't improve for 10 rounds\n"
     ]
    },
    {
     "name": "stderr",
     "output_type": "stream",
     "text": [
      "[I 2024-01-18 10:41:20,385] Trial 75 finished with value: 0.78125 and parameters: {'lambda_l1': 0.037701189388938086, 'lambda_l2': 1.4995722597228379e-06, 'num_leaves': 119, 'feature_fraction': 0.5796854041222648, 'bagging_fraction': 0.701646736691001, 'bagging_freq': 2, 'min_child_samples': 34}. Best is trial 2 with value: 0.789375.\n",
      "[I 2024-01-18 10:41:20,524] Trial 76 finished with value: 0.77625 and parameters: {'lambda_l1': 0.031214044496587948, 'lambda_l2': 1.6977871685307097e-06, 'num_leaves': 89, 'feature_fraction': 0.5739886319304033, 'bagging_fraction': 0.7329774059183916, 'bagging_freq': 3, 'min_child_samples': 34}. Best is trial 2 with value: 0.789375.\n"
     ]
    },
    {
     "name": "stdout",
     "output_type": "stream",
     "text": [
      "Early stopping, best iteration is:\n",
      "[19]\tvalid_0's binary_error: 0.21875\n",
      "Training until validation scores don't improve for 10 rounds\n",
      "Early stopping, best iteration is:\n",
      "[6]\tvalid_0's binary_error: 0.22375\n"
     ]
    },
    {
     "name": "stderr",
     "output_type": "stream",
     "text": [
      "[I 2024-01-18 10:41:20,751] Trial 77 finished with value: 0.7775 and parameters: {'lambda_l1': 0.015455442098499028, 'lambda_l2': 2.548551228797396e-07, 'num_leaves': 130, 'feature_fraction': 0.5847628855277387, 'bagging_fraction': 0.7094237124758753, 'bagging_freq': 3, 'min_child_samples': 40}. Best is trial 2 with value: 0.789375.\n"
     ]
    },
    {
     "name": "stdout",
     "output_type": "stream",
     "text": [
      "Training until validation scores don't improve for 10 rounds\n",
      "Early stopping, best iteration is:\n",
      "[18]\tvalid_0's binary_error: 0.2225\n",
      "Training until validation scores don't improve for 10 rounds\n"
     ]
    },
    {
     "name": "stderr",
     "output_type": "stream",
     "text": [
      "[I 2024-01-18 10:41:20,957] Trial 78 finished with value: 0.778125 and parameters: {'lambda_l1': 0.10942606556600677, 'lambda_l2': 4.739243308686937e-07, 'num_leaves': 66, 'feature_fraction': 0.49936808383723036, 'bagging_fraction': 0.6644733104671621, 'bagging_freq': 1, 'min_child_samples': 28}. Best is trial 2 with value: 0.789375.\n",
      "[I 2024-01-18 10:41:21,117] Trial 79 finished with value: 0.778125 and parameters: {'lambda_l1': 0.012218977354377986, 'lambda_l2': 5.020752651699929e-06, 'num_leaves': 120, 'feature_fraction': 0.5614034318653291, 'bagging_fraction': 0.7562450067607558, 'bagging_freq': 2, 'min_child_samples': 44}. Best is trial 2 with value: 0.789375.\n"
     ]
    },
    {
     "name": "stdout",
     "output_type": "stream",
     "text": [
      "Early stopping, best iteration is:\n",
      "[24]\tvalid_0's binary_error: 0.221875\n",
      "Training until validation scores don't improve for 10 rounds\n",
      "Early stopping, best iteration is:\n",
      "[13]\tvalid_0's binary_error: 0.221875\n"
     ]
    },
    {
     "name": "stderr",
     "output_type": "stream",
     "text": [
      "[I 2024-01-18 10:41:21,271] Trial 80 finished with value: 0.77875 and parameters: {'lambda_l1': 0.20272553977326008, 'lambda_l2': 1.3833612509285114e-06, 'num_leaves': 74, 'feature_fraction': 0.5959865143963715, 'bagging_fraction': 0.6981205258999271, 'bagging_freq': 3, 'min_child_samples': 24}. Best is trial 2 with value: 0.789375.\n"
     ]
    },
    {
     "name": "stdout",
     "output_type": "stream",
     "text": [
      "Training until validation scores don't improve for 10 rounds\n",
      "Early stopping, best iteration is:\n",
      "[5]\tvalid_0's binary_error: 0.22125\n",
      "Training until validation scores don't improve for 10 rounds\n",
      "Early stopping, best iteration is:\n",
      "[15]\tvalid_0's binary_error: 0.216875\n"
     ]
    },
    {
     "name": "stderr",
     "output_type": "stream",
     "text": [
      "[I 2024-01-18 10:41:21,421] Trial 81 finished with value: 0.783125 and parameters: {'lambda_l1': 0.050860505509537246, 'lambda_l2': 6.261209693426673e-07, 'num_leaves': 113, 'feature_fraction': 0.5425390660699633, 'bagging_fraction': 0.6825474266274825, 'bagging_freq': 2, 'min_child_samples': 15}. Best is trial 2 with value: 0.789375.\n",
      "[I 2024-01-18 10:41:21,544] Trial 82 finished with value: 0.779375 and parameters: {'lambda_l1': 0.02619749680843653, 'lambda_l2': 4.4549972097203294e-07, 'num_leaves': 96, 'feature_fraction': 0.5399255922242154, 'bagging_fraction': 0.7202273507766399, 'bagging_freq': 2, 'min_child_samples': 16}. Best is trial 2 with value: 0.789375.\n",
      "[I 2024-01-18 10:41:21,688] Trial 83 finished with value: 0.77375 and parameters: {'lambda_l1': 0.05418366112058886, 'lambda_l2': 2.9032687545949315e-06, 'num_leaves': 107, 'feature_fraction': 0.5736123565741968, 'bagging_fraction': 0.6341880006757812, 'bagging_freq': 1, 'min_child_samples': 11}. Best is trial 2 with value: 0.789375.\n"
     ]
    },
    {
     "name": "stdout",
     "output_type": "stream",
     "text": [
      "Training until validation scores don't improve for 10 rounds\n",
      "Early stopping, best iteration is:\n",
      "[6]\tvalid_0's binary_error: 0.220625\n",
      "Training until validation scores don't improve for 10 rounds\n",
      "Early stopping, best iteration is:\n",
      "[8]\tvalid_0's binary_error: 0.22625\n"
     ]
    },
    {
     "name": "stderr",
     "output_type": "stream",
     "text": [
      "[I 2024-01-18 10:41:21,879] Trial 84 finished with value: 0.78 and parameters: {'lambda_l1': 0.010708046086403715, 'lambda_l2': 1.8031143142258054e-06, 'num_leaves': 89, 'feature_fraction': 0.5317091910864121, 'bagging_fraction': 0.6535671266949584, 'bagging_freq': 2, 'min_child_samples': 14}. Best is trial 2 with value: 0.789375.\n"
     ]
    },
    {
     "name": "stdout",
     "output_type": "stream",
     "text": [
      "Training until validation scores don't improve for 10 rounds\n",
      "Early stopping, best iteration is:\n",
      "[27]\tvalid_0's binary_error: 0.22\n",
      "Training until validation scores don't improve for 10 rounds\n"
     ]
    },
    {
     "name": "stderr",
     "output_type": "stream",
     "text": [
      "[I 2024-01-18 10:41:22,110] Trial 85 finished with value: 0.78 and parameters: {'lambda_l1': 0.04710556390497709, 'lambda_l2': 7.981577202802557e-07, 'num_leaves': 100, 'feature_fraction': 0.5460989356411914, 'bagging_fraction': 0.7459513967555796, 'bagging_freq': 2, 'min_child_samples': 20}. Best is trial 2 with value: 0.789375.\n"
     ]
    },
    {
     "name": "stdout",
     "output_type": "stream",
     "text": [
      "Early stopping, best iteration is:\n",
      "[15]\tvalid_0's binary_error: 0.22\n",
      "Training until validation scores don't improve for 10 rounds\n",
      "Early stopping, best iteration is:\n",
      "[20]\tvalid_0's binary_error: 0.22375\n"
     ]
    },
    {
     "name": "stderr",
     "output_type": "stream",
     "text": [
      "[I 2024-01-18 10:41:22,315] Trial 86 finished with value: 0.77625 and parameters: {'lambda_l1': 0.13007908187275738, 'lambda_l2': 2.6279500610391965e-07, 'num_leaves': 132, 'feature_fraction': 0.5711668153272167, 'bagging_fraction': 0.6727565489011641, 'bagging_freq': 3, 'min_child_samples': 17}. Best is trial 2 with value: 0.789375.\n",
      "[I 2024-01-18 10:41:22,456] Trial 87 finished with value: 0.7775 and parameters: {'lambda_l1': 0.02831827526743724, 'lambda_l2': 1.474710987336392e-07, 'num_leaves': 121, 'feature_fraction': 0.5622711903748682, 'bagging_fraction': 0.6972944360136542, 'bagging_freq': 3, 'min_child_samples': 8}. Best is trial 2 with value: 0.789375.\n"
     ]
    },
    {
     "name": "stdout",
     "output_type": "stream",
     "text": [
      "Training until validation scores don't improve for 10 rounds\n",
      "Early stopping, best iteration is:\n",
      "[7]\tvalid_0's binary_error: 0.2225\n",
      "Training until validation scores don't improve for 10 rounds\n"
     ]
    },
    {
     "name": "stderr",
     "output_type": "stream",
     "text": [
      "[I 2024-01-18 10:41:22,631] Trial 88 finished with value: 0.7825 and parameters: {'lambda_l1': 0.0075071782256656144, 'lambda_l2': 6.628844366919564e-06, 'num_leaves': 86, 'feature_fraction': 0.5106787838243724, 'bagging_fraction': 0.7354819850859746, 'bagging_freq': 2, 'min_child_samples': 22}. Best is trial 2 with value: 0.789375.\n",
      "[I 2024-01-18 10:41:22,795] Trial 89 finished with value: 0.7725 and parameters: {'lambda_l1': 0.008916079116442332, 'lambda_l2': 6.042469962448742e-06, 'num_leaves': 88, 'feature_fraction': 0.5042698970833569, 'bagging_fraction': 0.7815020893103447, 'bagging_freq': 2, 'min_child_samples': 30}. Best is trial 2 with value: 0.789375.\n"
     ]
    },
    {
     "name": "stdout",
     "output_type": "stream",
     "text": [
      "Early stopping, best iteration is:\n",
      "[11]\tvalid_0's binary_error: 0.2175\n",
      "Training until validation scores don't improve for 10 rounds\n",
      "Early stopping, best iteration is:\n",
      "[14]\tvalid_0's binary_error: 0.2275\n"
     ]
    },
    {
     "name": "stderr",
     "output_type": "stream",
     "text": [
      "[I 2024-01-18 10:41:22,927] Trial 90 finished with value: 0.781875 and parameters: {'lambda_l1': 0.005946044967644291, 'lambda_l2': 7.116432075313629e-08, 'num_leaves': 56, 'feature_fraction': 0.47469097118057657, 'bagging_fraction': 0.7381856946988103, 'bagging_freq': 1, 'min_child_samples': 26}. Best is trial 2 with value: 0.789375.\n",
      "[I 2024-01-18 10:41:23,049] Trial 91 finished with value: 0.7875 and parameters: {'lambda_l1': 0.005932007757286921, 'lambda_l2': 3.2068716132236835e-08, 'num_leaves': 53, 'feature_fraction': 0.46490120284108577, 'bagging_fraction': 0.7340490559604215, 'bagging_freq': 1, 'min_child_samples': 25}. Best is trial 2 with value: 0.789375.\n"
     ]
    },
    {
     "name": "stdout",
     "output_type": "stream",
     "text": [
      "Training until validation scores don't improve for 10 rounds\n",
      "Early stopping, best iteration is:\n",
      "[7]\tvalid_0's binary_error: 0.218125\n",
      "Training until validation scores don't improve for 10 rounds\n",
      "Early stopping, best iteration is:\n",
      "[7]\tvalid_0's binary_error: 0.2125\n"
     ]
    },
    {
     "name": "stderr",
     "output_type": "stream",
     "text": [
      "[I 2024-01-18 10:41:23,207] Trial 92 finished with value: 0.7775 and parameters: {'lambda_l1': 0.00973969911691236, 'lambda_l2': 1.0979792631907592e-07, 'num_leaves': 49, 'feature_fraction': 0.477134080745519, 'bagging_fraction': 0.7429910124658151, 'bagging_freq': 1, 'min_child_samples': 23}. Best is trial 2 with value: 0.789375.\n",
      "[I 2024-01-18 10:41:23,334] Trial 93 finished with value: 0.778125 and parameters: {'lambda_l1': 0.004881081143056323, 'lambda_l2': 5.511359185082305e-08, 'num_leaves': 58, 'feature_fraction': 0.46907010985383313, 'bagging_fraction': 0.7576418137061708, 'bagging_freq': 1, 'min_child_samples': 25}. Best is trial 2 with value: 0.789375.\n"
     ]
    },
    {
     "name": "stdout",
     "output_type": "stream",
     "text": [
      "Training until validation scores don't improve for 10 rounds\n",
      "Early stopping, best iteration is:\n",
      "[16]\tvalid_0's binary_error: 0.2225\n",
      "Training until validation scores don't improve for 10 rounds\n",
      "Early stopping, best iteration is:\n",
      "[6]\tvalid_0's binary_error: 0.221875\n"
     ]
    },
    {
     "name": "stderr",
     "output_type": "stream",
     "text": [
      "[I 2024-01-18 10:41:23,479] Trial 94 finished with value: 0.78375 and parameters: {'lambda_l1': 0.02052725551403125, 'lambda_l2': 2.9269646668453987e-08, 'num_leaves': 77, 'feature_fraction': 0.4551166217464896, 'bagging_fraction': 0.7358106893484764, 'bagging_freq': 1, 'min_child_samples': 15}. Best is trial 2 with value: 0.789375.\n",
      "[I 2024-01-18 10:41:23,651] Trial 95 finished with value: 0.77875 and parameters: {'lambda_l1': 0.01984273744361971, 'lambda_l2': 3.653306961988984e-08, 'num_leaves': 75, 'feature_fraction': 0.46255471119728203, 'bagging_fraction': 0.7266296408877166, 'bagging_freq': 1, 'min_child_samples': 15}. Best is trial 2 with value: 0.789375.\n"
     ]
    },
    {
     "name": "stdout",
     "output_type": "stream",
     "text": [
      "Training until validation scores don't improve for 10 rounds\n",
      "Early stopping, best iteration is:\n",
      "[7]\tvalid_0's binary_error: 0.21625\n",
      "Training until validation scores don't improve for 10 rounds\n",
      "Early stopping, best iteration is:\n",
      "[20]\tvalid_0's binary_error: 0.22125\n"
     ]
    },
    {
     "name": "stderr",
     "output_type": "stream",
     "text": [
      "[I 2024-01-18 10:41:23,779] Trial 96 finished with value: 0.77375 and parameters: {'lambda_l1': 0.06094173212949016, 'lambda_l2': 1.560105233358597e-08, 'num_leaves': 83, 'feature_fraction': 0.4936869093889352, 'bagging_fraction': 0.7648648696316149, 'bagging_freq': 1, 'min_child_samples': 11}. Best is trial 2 with value: 0.789375.\n",
      "[I 2024-01-18 10:41:23,911] Trial 97 finished with value: 0.780625 and parameters: {'lambda_l1': 0.024657112825956975, 'lambda_l2': 2.5642978740014013e-08, 'num_leaves': 65, 'feature_fraction': 0.5253884318965334, 'bagging_fraction': 0.7163291682174385, 'bagging_freq': 1, 'min_child_samples': 22}. Best is trial 2 with value: 0.789375.\n"
     ]
    },
    {
     "name": "stdout",
     "output_type": "stream",
     "text": [
      "Training until validation scores don't improve for 10 rounds\n",
      "Early stopping, best iteration is:\n",
      "[8]\tvalid_0's binary_error: 0.22625\n",
      "Training until validation scores don't improve for 10 rounds\n",
      "Early stopping, best iteration is:\n",
      "[8]\tvalid_0's binary_error: 0.219375\n"
     ]
    },
    {
     "name": "stderr",
     "output_type": "stream",
     "text": [
      "[I 2024-01-18 10:41:24,106] Trial 98 finished with value: 0.780625 and parameters: {'lambda_l1': 0.002944398351856965, 'lambda_l2': 1.9707066970224282e-07, 'num_leaves': 92, 'feature_fraction': 0.5152574517482118, 'bagging_fraction': 0.7837964580539393, 'bagging_freq': 1, 'min_child_samples': 17}. Best is trial 2 with value: 0.789375.\n"
     ]
    },
    {
     "name": "stdout",
     "output_type": "stream",
     "text": [
      "Training until validation scores don't improve for 10 rounds\n",
      "Early stopping, best iteration is:\n",
      "[25]\tvalid_0's binary_error: 0.219375\n",
      "Training until validation scores don't improve for 10 rounds\n"
     ]
    },
    {
     "name": "stderr",
     "output_type": "stream",
     "text": [
      "[I 2024-01-18 10:41:24,470] Trial 99 finished with value: 0.77875 and parameters: {'lambda_l1': 0.01437226741758982, 'lambda_l2': 1.2813420749582267e-08, 'num_leaves': 75, 'feature_fraction': 0.4484488637609031, 'bagging_fraction': 0.7658677702233918, 'bagging_freq': 7, 'min_child_samples': 13}. Best is trial 2 with value: 0.789375.\n"
     ]
    },
    {
     "name": "stdout",
     "output_type": "stream",
     "text": [
      "Early stopping, best iteration is:\n",
      "[37]\tvalid_0's binary_error: 0.22125\n",
      "[1 1 0 ... 1 1 0]\n"
     ]
    }
   ],
   "source": [
    "# データの準備\n",
    "X = train.drop('blueWins', axis=1)\n",
    "y = train['blueWins']\n",
    "X_train, X_val, y_train, y_val = train_test_split(X, y, test_size=0.2, random_state=0)\n",
    "\n",
    "def objective(trial, X_train_fold, y_train_fold, X_val_fold, y_val_fold):\n",
    "    param = {\n",
    "        'objective': 'binary',\n",
    "        'metric': 'binary_error',\n",
    "        'verbosity': -1,\n",
    "        'boosting_type': 'gbdt',\n",
    "        'lambda_l1': trial.suggest_float('lambda_l1', 1e-8, 10.0, log=True),\n",
    "        'lambda_l2': trial.suggest_float('lambda_l2', 1e-8, 10.0, log=True),\n",
    "        'num_leaves': trial.suggest_int('num_leaves', 2, 256),\n",
    "        'feature_fraction': trial.suggest_float('feature_fraction', 0.4, 1.0),\n",
    "        'bagging_fraction': trial.suggest_float('bagging_fraction', 0.4, 1.0),\n",
    "        'bagging_freq': trial.suggest_int('bagging_freq', 1, 7),\n",
    "        'min_child_samples': trial.suggest_int('min_child_samples', 5, 100)\n",
    "    }\n",
    "\n",
    "    lgb_train = lgb.Dataset(X_train_fold, y_train_fold)\n",
    "    lgb_val = lgb.Dataset(X_val_fold, y_val_fold, reference=lgb_train)\n",
    "\n",
    "    early_stopping = lgb.early_stopping(stopping_rounds=10)\n",
    "    model = lgb.train(param, lgb_train, num_boost_round=1000, valid_sets=[lgb_val], callbacks=[early_stopping])\n",
    "\n",
    "    y_pred = model.predict(X_val_fold, num_iteration=model.best_iteration)\n",
    "    y_pred = (y_pred > 0.5).astype(int)\n",
    "    accuracy = accuracy_score(y_val_fold, y_pred)\n",
    "\n",
    "    return accuracy\n",
    "\n",
    "def train_and_predict_with_optuna(X_train, y_train, X_test, n_splits=5):\n",
    "    predictions = np.zeros(len(X_test))\n",
    "    kf = KFold(n_splits=n_splits, shuffle=True, random_state=0)\n",
    "\n",
    "    for train_index, val_index in kf.split(X_train):\n",
    "        X_train_fold, X_val_fold = X_train.iloc[train_index], X_train.iloc[val_index]\n",
    "        y_train_fold, y_val_fold = y_train.iloc[train_index], y_train.iloc[val_index]\n",
    "\n",
    "        study = optuna.create_study(direction='maximize')\n",
    "        study.optimize(lambda trial: objective(trial, X_train_fold, y_train_fold, X_val_fold, y_val_fold), n_trials=100)\n",
    "\n",
    "        best_params = study.best_params\n",
    "        best_params['objective'] = 'binary'\n",
    "        best_params['metric'] = 'binary_error'\n",
    "        best_params['verbosity'] = -1\n",
    "\n",
    "        lgb_train = lgb.Dataset(X_train_fold, y_train_fold)\n",
    "        model = lgb.train(best_params, lgb_train, num_boost_round=study.best_trial.number)\n",
    "\n",
    "        predictions += model.predict(X_test, num_iteration=model.best_iteration) / n_splits\n",
    "    \n",
    "    return (predictions > 0.5).astype(int)\n",
    "\n",
    "# アンサンブル学習による予測\n",
    "y_test_pred_ensemble = train_and_predict_with_optuna(X, y, test)\n",
    "\n",
    "# 予測結果の表示\n",
    "print(y_test_pred_ensemble)"
   ]
  },
  {
   "cell_type": "markdown",
   "metadata": {},
   "source": [
    "- testにy_test_pred結合"
   ]
  },
  {
   "cell_type": "code",
   "execution_count": 8,
   "metadata": {},
   "outputs": [],
   "source": [
    "output = '../data/output/submit_cv_oputuna_ensemble.csv'"
   ]
  },
  {
   "cell_type": "code",
   "execution_count": 9,
   "metadata": {},
   "outputs": [],
   "source": [
    "submit = pd.DataFrame({\n",
    "    '0': test['gameId'],\n",
    "    '1': y_test_pred_ensemble\n",
    "})\n",
    "\n",
    "# カラムヘッダー消去して出力\n",
    "# ヘッダーなしでCSVファイルとして保存\n",
    "submit.to_csv(output, header=False, index=False)"
   ]
  },
  {
   "cell_type": "markdown",
   "metadata": {},
   "source": [
    "- 出力csvチェック"
   ]
  },
  {
   "cell_type": "code",
   "execution_count": 10,
   "metadata": {},
   "outputs": [],
   "source": [
    "check = pd.read_csv(output)"
   ]
  },
  {
   "cell_type": "code",
   "execution_count": 11,
   "metadata": {},
   "outputs": [
    {
     "data": {
      "text/html": [
       "<div>\n",
       "<style scoped>\n",
       "    .dataframe tbody tr th:only-of-type {\n",
       "        vertical-align: middle;\n",
       "    }\n",
       "\n",
       "    .dataframe tbody tr th {\n",
       "        vertical-align: top;\n",
       "    }\n",
       "\n",
       "    .dataframe thead th {\n",
       "        text-align: right;\n",
       "    }\n",
       "</style>\n",
       "<table border=\"1\" class=\"dataframe\">\n",
       "  <thead>\n",
       "    <tr style=\"text-align: right;\">\n",
       "      <th></th>\n",
       "      <th>9</th>\n",
       "      <th>1</th>\n",
       "    </tr>\n",
       "  </thead>\n",
       "  <tbody>\n",
       "    <tr>\n",
       "      <th>0</th>\n",
       "      <td>15</td>\n",
       "      <td>1</td>\n",
       "    </tr>\n",
       "    <tr>\n",
       "      <th>1</th>\n",
       "      <td>18</td>\n",
       "      <td>0</td>\n",
       "    </tr>\n",
       "    <tr>\n",
       "      <th>2</th>\n",
       "      <td>23</td>\n",
       "      <td>0</td>\n",
       "    </tr>\n",
       "    <tr>\n",
       "      <th>3</th>\n",
       "      <td>31</td>\n",
       "      <td>0</td>\n",
       "    </tr>\n",
       "    <tr>\n",
       "      <th>4</th>\n",
       "      <td>32</td>\n",
       "      <td>1</td>\n",
       "    </tr>\n",
       "    <tr>\n",
       "      <th>...</th>\n",
       "      <td>...</td>\n",
       "      <td>...</td>\n",
       "    </tr>\n",
       "    <tr>\n",
       "      <th>1994</th>\n",
       "      <td>9971</td>\n",
       "      <td>0</td>\n",
       "    </tr>\n",
       "    <tr>\n",
       "      <th>1995</th>\n",
       "      <td>9980</td>\n",
       "      <td>0</td>\n",
       "    </tr>\n",
       "    <tr>\n",
       "      <th>1996</th>\n",
       "      <td>9983</td>\n",
       "      <td>1</td>\n",
       "    </tr>\n",
       "    <tr>\n",
       "      <th>1997</th>\n",
       "      <td>9996</td>\n",
       "      <td>1</td>\n",
       "    </tr>\n",
       "    <tr>\n",
       "      <th>1998</th>\n",
       "      <td>9999</td>\n",
       "      <td>0</td>\n",
       "    </tr>\n",
       "  </tbody>\n",
       "</table>\n",
       "<p>1999 rows × 2 columns</p>\n",
       "</div>"
      ],
      "text/plain": [
       "         9  1\n",
       "0       15  1\n",
       "1       18  0\n",
       "2       23  0\n",
       "3       31  0\n",
       "4       32  1\n",
       "...    ... ..\n",
       "1994  9971  0\n",
       "1995  9980  0\n",
       "1996  9983  1\n",
       "1997  9996  1\n",
       "1998  9999  0\n",
       "\n",
       "[1999 rows x 2 columns]"
      ]
     },
     "execution_count": 11,
     "metadata": {},
     "output_type": "execute_result"
    }
   ],
   "source": [
    "check"
   ]
  },
  {
   "cell_type": "code",
   "execution_count": null,
   "metadata": {},
   "outputs": [],
   "source": []
  }
 ],
 "metadata": {
  "kernelspec": {
   "display_name": "Python 3",
   "language": "python",
   "name": "python3"
  },
  "language_info": {
   "codemirror_mode": {
    "name": "ipython",
    "version": 3
   },
   "file_extension": ".py",
   "mimetype": "text/x-python",
   "name": "python",
   "nbconvert_exporter": "python",
   "pygments_lexer": "ipython3",
   "version": "3.10.11"
  }
 },
 "nbformat": 4,
 "nbformat_minor": 2
}
