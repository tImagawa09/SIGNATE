{
 "cells": [
  {
   "cell_type": "markdown",
   "metadata": {},
   "source": [
    "# Library"
   ]
  },
  {
   "cell_type": "code",
   "execution_count": 24,
   "metadata": {},
   "outputs": [],
   "source": [
    "import numpy as np\n",
    "import pandas as pd\n",
    "import seaborn as sns\n",
    "import matplotlib.pyplot as plt\n",
    "import optuna\n",
    "\n",
    "\n",
    "from sklearn.metrics import confusion_matrix\n",
    "from sklearn.linear_model import LogisticRegression\n",
    "from sklearn.model_selection import train_test_split\n",
    "from sklearn.metrics import f1_score\n",
    "\n",
    "import lightgbm as lgb\n",
    "from sklearn.model_selection import train_test_split\n",
    "from sklearn.metrics import accuracy_score"
   ]
  },
  {
   "cell_type": "markdown",
   "metadata": {},
   "source": [
    "# Data Loading"
   ]
  },
  {
   "cell_type": "code",
   "execution_count": 25,
   "metadata": {},
   "outputs": [],
   "source": [
    "train = pd.read_csv('../data/train.csv')\n",
    "test = pd.read_csv('../data/test.csv')"
   ]
  },
  {
   "cell_type": "code",
   "execution_count": 26,
   "metadata": {},
   "outputs": [
    {
     "data": {
      "text/html": [
       "<div>\n",
       "<style scoped>\n",
       "    .dataframe tbody tr th:only-of-type {\n",
       "        vertical-align: middle;\n",
       "    }\n",
       "\n",
       "    .dataframe tbody tr th {\n",
       "        vertical-align: top;\n",
       "    }\n",
       "\n",
       "    .dataframe thead th {\n",
       "        text-align: right;\n",
       "    }\n",
       "</style>\n",
       "<table border=\"1\" class=\"dataframe\">\n",
       "  <thead>\n",
       "    <tr style=\"text-align: right;\">\n",
       "      <th></th>\n",
       "      <th>gameId</th>\n",
       "      <th>blueFirstBlood</th>\n",
       "      <th>blueKills</th>\n",
       "      <th>blueDeaths</th>\n",
       "      <th>blueAssists</th>\n",
       "      <th>blueEliteMonsters</th>\n",
       "      <th>blueDragons</th>\n",
       "      <th>blueTotalGold</th>\n",
       "      <th>blueTotalExperience</th>\n",
       "      <th>blueWins</th>\n",
       "    </tr>\n",
       "  </thead>\n",
       "  <tbody>\n",
       "    <tr>\n",
       "      <th>0</th>\n",
       "      <td>0</td>\n",
       "      <td>0</td>\n",
       "      <td>5</td>\n",
       "      <td>8</td>\n",
       "      <td>6</td>\n",
       "      <td>0</td>\n",
       "      <td>0</td>\n",
       "      <td>14536</td>\n",
       "      <td>17256</td>\n",
       "      <td>0</td>\n",
       "    </tr>\n",
       "    <tr>\n",
       "      <th>1</th>\n",
       "      <td>1</td>\n",
       "      <td>1</td>\n",
       "      <td>10</td>\n",
       "      <td>1</td>\n",
       "      <td>5</td>\n",
       "      <td>0</td>\n",
       "      <td>0</td>\n",
       "      <td>14536</td>\n",
       "      <td>17863</td>\n",
       "      <td>0</td>\n",
       "    </tr>\n",
       "    <tr>\n",
       "      <th>2</th>\n",
       "      <td>2</td>\n",
       "      <td>0</td>\n",
       "      <td>3</td>\n",
       "      <td>10</td>\n",
       "      <td>2</td>\n",
       "      <td>0</td>\n",
       "      <td>0</td>\n",
       "      <td>17409</td>\n",
       "      <td>17256</td>\n",
       "      <td>0</td>\n",
       "    </tr>\n",
       "    <tr>\n",
       "      <th>3</th>\n",
       "      <td>3</td>\n",
       "      <td>1</td>\n",
       "      <td>7</td>\n",
       "      <td>10</td>\n",
       "      <td>8</td>\n",
       "      <td>0</td>\n",
       "      <td>0</td>\n",
       "      <td>19558</td>\n",
       "      <td>18201</td>\n",
       "      <td>0</td>\n",
       "    </tr>\n",
       "    <tr>\n",
       "      <th>4</th>\n",
       "      <td>4</td>\n",
       "      <td>0</td>\n",
       "      <td>4</td>\n",
       "      <td>9</td>\n",
       "      <td>4</td>\n",
       "      <td>0</td>\n",
       "      <td>0</td>\n",
       "      <td>17409</td>\n",
       "      <td>17256</td>\n",
       "      <td>0</td>\n",
       "    </tr>\n",
       "    <tr>\n",
       "      <th>...</th>\n",
       "      <td>...</td>\n",
       "      <td>...</td>\n",
       "      <td>...</td>\n",
       "      <td>...</td>\n",
       "      <td>...</td>\n",
       "      <td>...</td>\n",
       "      <td>...</td>\n",
       "      <td>...</td>\n",
       "      <td>...</td>\n",
       "      <td>...</td>\n",
       "    </tr>\n",
       "    <tr>\n",
       "      <th>7995</th>\n",
       "      <td>9993</td>\n",
       "      <td>1</td>\n",
       "      <td>9</td>\n",
       "      <td>6</td>\n",
       "      <td>14</td>\n",
       "      <td>0</td>\n",
       "      <td>0</td>\n",
       "      <td>18513</td>\n",
       "      <td>18201</td>\n",
       "      <td>1</td>\n",
       "    </tr>\n",
       "    <tr>\n",
       "      <th>7996</th>\n",
       "      <td>9994</td>\n",
       "      <td>0</td>\n",
       "      <td>3</td>\n",
       "      <td>10</td>\n",
       "      <td>4</td>\n",
       "      <td>0</td>\n",
       "      <td>0</td>\n",
       "      <td>17381</td>\n",
       "      <td>19797</td>\n",
       "      <td>0</td>\n",
       "    </tr>\n",
       "    <tr>\n",
       "      <th>7997</th>\n",
       "      <td>9995</td>\n",
       "      <td>1</td>\n",
       "      <td>9</td>\n",
       "      <td>3</td>\n",
       "      <td>9</td>\n",
       "      <td>2</td>\n",
       "      <td>1</td>\n",
       "      <td>18274</td>\n",
       "      <td>18491</td>\n",
       "      <td>1</td>\n",
       "    </tr>\n",
       "    <tr>\n",
       "      <th>7998</th>\n",
       "      <td>9997</td>\n",
       "      <td>0</td>\n",
       "      <td>5</td>\n",
       "      <td>10</td>\n",
       "      <td>6</td>\n",
       "      <td>1</td>\n",
       "      <td>1</td>\n",
       "      <td>18274</td>\n",
       "      <td>18491</td>\n",
       "      <td>1</td>\n",
       "    </tr>\n",
       "    <tr>\n",
       "      <th>7999</th>\n",
       "      <td>9998</td>\n",
       "      <td>0</td>\n",
       "      <td>6</td>\n",
       "      <td>4</td>\n",
       "      <td>5</td>\n",
       "      <td>0</td>\n",
       "      <td>0</td>\n",
       "      <td>17409</td>\n",
       "      <td>17256</td>\n",
       "      <td>0</td>\n",
       "    </tr>\n",
       "  </tbody>\n",
       "</table>\n",
       "<p>8000 rows × 10 columns</p>\n",
       "</div>"
      ],
      "text/plain": [
       "      gameId  blueFirstBlood  blueKills  blueDeaths  blueAssists   \n",
       "0          0               0          5           8            6  \\\n",
       "1          1               1         10           1            5   \n",
       "2          2               0          3          10            2   \n",
       "3          3               1          7          10            8   \n",
       "4          4               0          4           9            4   \n",
       "...      ...             ...        ...         ...          ...   \n",
       "7995    9993               1          9           6           14   \n",
       "7996    9994               0          3          10            4   \n",
       "7997    9995               1          9           3            9   \n",
       "7998    9997               0          5          10            6   \n",
       "7999    9998               0          6           4            5   \n",
       "\n",
       "      blueEliteMonsters  blueDragons  blueTotalGold  blueTotalExperience   \n",
       "0                     0            0          14536                17256  \\\n",
       "1                     0            0          14536                17863   \n",
       "2                     0            0          17409                17256   \n",
       "3                     0            0          19558                18201   \n",
       "4                     0            0          17409                17256   \n",
       "...                 ...          ...            ...                  ...   \n",
       "7995                  0            0          18513                18201   \n",
       "7996                  0            0          17381                19797   \n",
       "7997                  2            1          18274                18491   \n",
       "7998                  1            1          18274                18491   \n",
       "7999                  0            0          17409                17256   \n",
       "\n",
       "      blueWins  \n",
       "0            0  \n",
       "1            0  \n",
       "2            0  \n",
       "3            0  \n",
       "4            0  \n",
       "...        ...  \n",
       "7995         1  \n",
       "7996         0  \n",
       "7997         1  \n",
       "7998         1  \n",
       "7999         0  \n",
       "\n",
       "[8000 rows x 10 columns]"
      ]
     },
     "execution_count": 26,
     "metadata": {},
     "output_type": "execute_result"
    }
   ],
   "source": [
    "train"
   ]
  },
  {
   "cell_type": "code",
   "execution_count": 27,
   "metadata": {},
   "outputs": [
    {
     "data": {
      "text/html": [
       "<div>\n",
       "<style scoped>\n",
       "    .dataframe tbody tr th:only-of-type {\n",
       "        vertical-align: middle;\n",
       "    }\n",
       "\n",
       "    .dataframe tbody tr th {\n",
       "        vertical-align: top;\n",
       "    }\n",
       "\n",
       "    .dataframe thead th {\n",
       "        text-align: right;\n",
       "    }\n",
       "</style>\n",
       "<table border=\"1\" class=\"dataframe\">\n",
       "  <thead>\n",
       "    <tr style=\"text-align: right;\">\n",
       "      <th></th>\n",
       "      <th>gameId</th>\n",
       "      <th>blueFirstBlood</th>\n",
       "      <th>blueKills</th>\n",
       "      <th>blueDeaths</th>\n",
       "      <th>blueAssists</th>\n",
       "      <th>blueEliteMonsters</th>\n",
       "      <th>blueDragons</th>\n",
       "      <th>blueTotalGold</th>\n",
       "      <th>blueTotalExperience</th>\n",
       "    </tr>\n",
       "  </thead>\n",
       "  <tbody>\n",
       "    <tr>\n",
       "      <th>0</th>\n",
       "      <td>9</td>\n",
       "      <td>0</td>\n",
       "      <td>7</td>\n",
       "      <td>6</td>\n",
       "      <td>6</td>\n",
       "      <td>0</td>\n",
       "      <td>0</td>\n",
       "      <td>16961</td>\n",
       "      <td>18201</td>\n",
       "    </tr>\n",
       "    <tr>\n",
       "      <th>1</th>\n",
       "      <td>15</td>\n",
       "      <td>0</td>\n",
       "      <td>6</td>\n",
       "      <td>6</td>\n",
       "      <td>6</td>\n",
       "      <td>2</td>\n",
       "      <td>1</td>\n",
       "      <td>18513</td>\n",
       "      <td>18021</td>\n",
       "    </tr>\n",
       "    <tr>\n",
       "      <th>2</th>\n",
       "      <td>18</td>\n",
       "      <td>1</td>\n",
       "      <td>6</td>\n",
       "      <td>4</td>\n",
       "      <td>3</td>\n",
       "      <td>0</td>\n",
       "      <td>0</td>\n",
       "      <td>13475</td>\n",
       "      <td>17256</td>\n",
       "    </tr>\n",
       "    <tr>\n",
       "      <th>3</th>\n",
       "      <td>23</td>\n",
       "      <td>0</td>\n",
       "      <td>5</td>\n",
       "      <td>4</td>\n",
       "      <td>7</td>\n",
       "      <td>0</td>\n",
       "      <td>0</td>\n",
       "      <td>17409</td>\n",
       "      <td>17256</td>\n",
       "    </tr>\n",
       "    <tr>\n",
       "      <th>4</th>\n",
       "      <td>31</td>\n",
       "      <td>0</td>\n",
       "      <td>10</td>\n",
       "      <td>8</td>\n",
       "      <td>9</td>\n",
       "      <td>0</td>\n",
       "      <td>0</td>\n",
       "      <td>18117</td>\n",
       "      <td>18472</td>\n",
       "    </tr>\n",
       "    <tr>\n",
       "      <th>...</th>\n",
       "      <td>...</td>\n",
       "      <td>...</td>\n",
       "      <td>...</td>\n",
       "      <td>...</td>\n",
       "      <td>...</td>\n",
       "      <td>...</td>\n",
       "      <td>...</td>\n",
       "      <td>...</td>\n",
       "      <td>...</td>\n",
       "    </tr>\n",
       "    <tr>\n",
       "      <th>1995</th>\n",
       "      <td>9971</td>\n",
       "      <td>0</td>\n",
       "      <td>6</td>\n",
       "      <td>3</td>\n",
       "      <td>7</td>\n",
       "      <td>0</td>\n",
       "      <td>0</td>\n",
       "      <td>17409</td>\n",
       "      <td>17256</td>\n",
       "    </tr>\n",
       "    <tr>\n",
       "      <th>1996</th>\n",
       "      <td>9980</td>\n",
       "      <td>0</td>\n",
       "      <td>4</td>\n",
       "      <td>4</td>\n",
       "      <td>4</td>\n",
       "      <td>0</td>\n",
       "      <td>0</td>\n",
       "      <td>17409</td>\n",
       "      <td>17256</td>\n",
       "    </tr>\n",
       "    <tr>\n",
       "      <th>1997</th>\n",
       "      <td>9983</td>\n",
       "      <td>1</td>\n",
       "      <td>6</td>\n",
       "      <td>3</td>\n",
       "      <td>3</td>\n",
       "      <td>1</td>\n",
       "      <td>1</td>\n",
       "      <td>18513</td>\n",
       "      <td>18201</td>\n",
       "    </tr>\n",
       "    <tr>\n",
       "      <th>1998</th>\n",
       "      <td>9996</td>\n",
       "      <td>1</td>\n",
       "      <td>10</td>\n",
       "      <td>9</td>\n",
       "      <td>9</td>\n",
       "      <td>1</td>\n",
       "      <td>1</td>\n",
       "      <td>18513</td>\n",
       "      <td>18201</td>\n",
       "    </tr>\n",
       "    <tr>\n",
       "      <th>1999</th>\n",
       "      <td>9999</td>\n",
       "      <td>0</td>\n",
       "      <td>7</td>\n",
       "      <td>11</td>\n",
       "      <td>8</td>\n",
       "      <td>0</td>\n",
       "      <td>0</td>\n",
       "      <td>18117</td>\n",
       "      <td>18201</td>\n",
       "    </tr>\n",
       "  </tbody>\n",
       "</table>\n",
       "<p>2000 rows × 9 columns</p>\n",
       "</div>"
      ],
      "text/plain": [
       "      gameId  blueFirstBlood  blueKills  blueDeaths  blueAssists   \n",
       "0          9               0          7           6            6  \\\n",
       "1         15               0          6           6            6   \n",
       "2         18               1          6           4            3   \n",
       "3         23               0          5           4            7   \n",
       "4         31               0         10           8            9   \n",
       "...      ...             ...        ...         ...          ...   \n",
       "1995    9971               0          6           3            7   \n",
       "1996    9980               0          4           4            4   \n",
       "1997    9983               1          6           3            3   \n",
       "1998    9996               1         10           9            9   \n",
       "1999    9999               0          7          11            8   \n",
       "\n",
       "      blueEliteMonsters  blueDragons  blueTotalGold  blueTotalExperience  \n",
       "0                     0            0          16961                18201  \n",
       "1                     2            1          18513                18021  \n",
       "2                     0            0          13475                17256  \n",
       "3                     0            0          17409                17256  \n",
       "4                     0            0          18117                18472  \n",
       "...                 ...          ...            ...                  ...  \n",
       "1995                  0            0          17409                17256  \n",
       "1996                  0            0          17409                17256  \n",
       "1997                  1            1          18513                18201  \n",
       "1998                  1            1          18513                18201  \n",
       "1999                  0            0          18117                18201  \n",
       "\n",
       "[2000 rows x 9 columns]"
      ]
     },
     "execution_count": 27,
     "metadata": {},
     "output_type": "execute_result"
    }
   ],
   "source": [
    "test"
   ]
  },
  {
   "cell_type": "markdown",
   "metadata": {},
   "source": [
    "# Feature"
   ]
  },
  {
   "cell_type": "markdown",
   "metadata": {},
   "source": [
    "- 各特長量の説明\n",
    "\n",
    "| ヘッダ名称            | データ型 | 説明                                                       |\n",
    "|---------------------|-------|----------------------------------------------------------|\n",
    "| gameId             | int   | ゲームID                                                    |\n",
    "| blueFirstBlood      | int   | ゲームの最初のキル。青チームが最初のキルを行った場合は1、それ以外の場合は0 |\n",
    "| blueKills           | int   | 青チームによって殺された敵の数                                     |\n",
    "| blueDeaths          | int   | 青チームの死亡者数                                            |\n",
    "| blueAssists         | int   | 青チームのキルアシストの数                                      |\n",
    "| blueEliteMonsters   | int   | 青チームによって殺されたエリートモンスターの数（ドラゴンとヘラルド）       |\n",
    "| blueDragons         | int   | 青チームによって殺されたドラゴンの数                               |\n",
    "| blueTotalGold       | int   | 青チームの得たゴールド合計                                       |\n",
    "| blueTotalExperience | int   | 青チームの得た経験値合計                                       |\n",
    "| blueWins            | int   | 目的変数（青チームが勝った場合は1、それ以外の場合は0。）                |\n"
   ]
  },
  {
   "cell_type": "markdown",
   "metadata": {},
   "source": [
    "# Feature Engineering"
   ]
  },
  {
   "cell_type": "markdown",
   "metadata": {},
   "source": [
    "- Add new feature"
   ]
  },
  {
   "cell_type": "code",
   "execution_count": 28,
   "metadata": {},
   "outputs": [],
   "source": [
    "def create_features(df):\n",
    "    \"\"\"\n",
    "    与えられたデータフレームに対して特徴量エンジニアリングを行う関数。\n",
    "\n",
    "    Args:\n",
    "    df (DataFrame): 特徴量エンジニアリングを行うデータフレーム\n",
    "\n",
    "    Returns:\n",
    "    DataFrame: 新しい特徴量が追加されたデータフレーム\n",
    "    \"\"\"\n",
    "    # キルとデスの比率\n",
    "    df['killDeathRatio'] = df['blueKills'] / (df['blueDeaths'] + 1)  # ゼロ除算を防ぐために+1\n",
    "\n",
    "    # アシストの割合\n",
    "    df['assistRate'] = df['blueAssists'] / (df['blueKills'] + 1)\n",
    "\n",
    "    # ヘラルドの討伐数\n",
    "    df['blueHerald'] = df['blueEliteMonsters'] - df['blueDragons']\n",
    "\n",
    "    # エリートモンスターとドラゴンの比率\n",
    "    df['eliteMonsterDragonRatio'] = df['blueEliteMonsters'] / (df['blueDragons'] + 1)\n",
    "    # エリートモンスターとヘラルドの比率\n",
    "    df['eliteMonsterHeraldRatio'] = df['blueEliteMonsters'] / (df['blueHerald'] + 1)\n",
    "\n",
    "    # ゴールドと経験値の対数変換\n",
    "    df['logTotalGold'] = np.log1p(df['blueTotalGold'])\n",
    "    df['logTotalExperience'] = np.log1p(df['blueTotalExperience'])\n",
    "\n",
    "    # ゴールドと経験値の相互作用\n",
    "    df['goldXexperience'] = df['blueTotalGold'] * df['blueTotalExperience']\n",
    "    \n",
    "    return df"
   ]
  },
  {
   "cell_type": "markdown",
   "metadata": {},
   "source": [
    "- Apply data"
   ]
  },
  {
   "cell_type": "code",
   "execution_count": 29,
   "metadata": {},
   "outputs": [],
   "source": [
    "train = create_features(train)\n",
    "test = create_features(test)"
   ]
  },
  {
   "cell_type": "markdown",
   "metadata": {},
   "source": [
    "# model"
   ]
  },
  {
   "cell_type": "markdown",
   "metadata": {},
   "source": [
    "- LightGBM"
   ]
  },
  {
   "cell_type": "code",
   "execution_count": 30,
   "metadata": {},
   "outputs": [
    {
     "name": "stderr",
     "output_type": "stream",
     "text": [
      "[I 2024-01-17 11:49:10,405] A new study created in memory with name: no-name-60c2ffd7-8e66-4c57-834d-e397d6a61735\n"
     ]
    },
    {
     "name": "stdout",
     "output_type": "stream",
     "text": [
      "Training until validation scores don't improve for 10 rounds\n"
     ]
    },
    {
     "name": "stderr",
     "output_type": "stream",
     "text": [
      "[I 2024-01-17 11:49:10,939] Trial 0 finished with value: 0.804375 and parameters: {'lambda_l1': 0.00017624738908589123, 'lambda_l2': 1.314521679732859, 'num_leaves': 124, 'feature_fraction': 0.5635342262257073, 'bagging_fraction': 0.6429817274535997, 'bagging_freq': 1, 'min_child_samples': 59}. Best is trial 0 with value: 0.804375.\n",
      "[I 2024-01-17 11:49:11,060] Trial 1 finished with value: 0.791875 and parameters: {'lambda_l1': 0.00967584315752473, 'lambda_l2': 8.936247966836342e-06, 'num_leaves': 72, 'feature_fraction': 0.4919130316281304, 'bagging_fraction': 0.4944569157819766, 'bagging_freq': 3, 'min_child_samples': 38}. Best is trial 0 with value: 0.804375.\n"
     ]
    },
    {
     "name": "stdout",
     "output_type": "stream",
     "text": [
      "Early stopping, best iteration is:\n",
      "[45]\tvalid_0's binary_error: 0.195625\n",
      "Training until validation scores don't improve for 10 rounds\n",
      "Early stopping, best iteration is:\n",
      "[21]\tvalid_0's binary_error: 0.208125\n",
      "Training until validation scores don't improve for 10 rounds\n"
     ]
    },
    {
     "name": "stderr",
     "output_type": "stream",
     "text": [
      "[I 2024-01-17 11:49:11,176] Trial 2 finished with value: 0.804375 and parameters: {'lambda_l1': 5.647284739516784e-08, 'lambda_l2': 0.10870273192407653, 'num_leaves': 22, 'feature_fraction': 0.8036250542582613, 'bagging_fraction': 0.40803139182262405, 'bagging_freq': 5, 'min_child_samples': 51}. Best is trial 0 with value: 0.804375.\n",
      "[I 2024-01-17 11:49:11,287] Trial 3 finished with value: 0.805625 and parameters: {'lambda_l1': 2.7250975553601304e-08, 'lambda_l2': 9.7090131286385e-07, 'num_leaves': 159, 'feature_fraction': 0.9146531391285586, 'bagging_fraction': 0.8538850536497055, 'bagging_freq': 3, 'min_child_samples': 91}. Best is trial 3 with value: 0.805625.\n",
      "[I 2024-01-17 11:49:11,348] Trial 4 finished with value: 0.799375 and parameters: {'lambda_l1': 3.622613942656888, 'lambda_l2': 3.723663473696467, 'num_leaves': 24, 'feature_fraction': 0.7782517314399702, 'bagging_fraction': 0.8999454541822157, 'bagging_freq': 3, 'min_child_samples': 16}. Best is trial 3 with value: 0.805625.\n"
     ]
    },
    {
     "name": "stdout",
     "output_type": "stream",
     "text": [
      "Early stopping, best iteration is:\n",
      "[57]\tvalid_0's binary_error: 0.195625\n",
      "Training until validation scores don't improve for 10 rounds\n",
      "Early stopping, best iteration is:\n",
      "[46]\tvalid_0's binary_error: 0.194375\n",
      "Training until validation scores don't improve for 10 rounds\n",
      "Early stopping, best iteration is:\n",
      "[46]\tvalid_0's binary_error: 0.200625\n"
     ]
    },
    {
     "name": "stderr",
     "output_type": "stream",
     "text": [
      "[I 2024-01-17 11:49:11,419] Trial 5 finished with value: 0.80375 and parameters: {'lambda_l1': 2.105429835619465e-07, 'lambda_l2': 0.0873416589594576, 'num_leaves': 222, 'feature_fraction': 0.6367349570314802, 'bagging_fraction': 0.7234717828220996, 'bagging_freq': 3, 'min_child_samples': 55}. Best is trial 3 with value: 0.805625.\n",
      "[I 2024-01-17 11:49:11,535] Trial 6 finished with value: 0.8075 and parameters: {'lambda_l1': 9.832226248682886e-06, 'lambda_l2': 4.202260697089909e-05, 'num_leaves': 108, 'feature_fraction': 0.6359923207563366, 'bagging_fraction': 0.8300219249910779, 'bagging_freq': 3, 'min_child_samples': 36}. Best is trial 6 with value: 0.8075.\n"
     ]
    },
    {
     "name": "stdout",
     "output_type": "stream",
     "text": [
      "Training until validation scores don't improve for 10 rounds\n",
      "Early stopping, best iteration is:\n",
      "[19]\tvalid_0's binary_error: 0.19625\n",
      "Training until validation scores don't improve for 10 rounds\n",
      "Early stopping, best iteration is:\n",
      "[32]\tvalid_0's binary_error: 0.1925\n",
      "Training until validation scores don't improve for 10 rounds\n"
     ]
    },
    {
     "name": "stderr",
     "output_type": "stream",
     "text": [
      "[I 2024-01-17 11:49:11,674] Trial 7 finished with value: 0.80125 and parameters: {'lambda_l1': 1.8679076905036767, 'lambda_l2': 3.691932802981764e-05, 'num_leaves': 145, 'feature_fraction': 0.6051653030490312, 'bagging_fraction': 0.7486593814030149, 'bagging_freq': 4, 'min_child_samples': 9}. Best is trial 6 with value: 0.8075.\n",
      "[I 2024-01-17 11:49:11,774] Trial 8 finished with value: 0.794375 and parameters: {'lambda_l1': 9.45287170735278e-06, 'lambda_l2': 0.2665967036190099, 'num_leaves': 214, 'feature_fraction': 0.6255978079852852, 'bagging_fraction': 0.5635455063012115, 'bagging_freq': 5, 'min_child_samples': 17}. Best is trial 6 with value: 0.8075.\n",
      "[I 2024-01-17 11:49:11,814] Trial 9 finished with value: 0.79125 and parameters: {'lambda_l1': 0.007255084151060077, 'lambda_l2': 3.2671417142688615e-08, 'num_leaves': 66, 'feature_fraction': 0.9372740403388312, 'bagging_fraction': 0.48630641943449143, 'bagging_freq': 2, 'min_child_samples': 38}. Best is trial 6 with value: 0.8075.\n"
     ]
    },
    {
     "name": "stdout",
     "output_type": "stream",
     "text": [
      "Early stopping, best iteration is:\n",
      "[29]\tvalid_0's binary_error: 0.19875\n",
      "Training until validation scores don't improve for 10 rounds\n",
      "Early stopping, best iteration is:\n",
      "[13]\tvalid_0's binary_error: 0.205625\n",
      "Training until validation scores don't improve for 10 rounds\n",
      "Early stopping, best iteration is:\n",
      "[7]\tvalid_0's binary_error: 0.20875\n",
      "Training until validation scores don't improve for 10 rounds\n"
     ]
    },
    {
     "name": "stderr",
     "output_type": "stream",
     "text": [
      "[I 2024-01-17 11:49:11,972] Trial 10 finished with value: 0.81 and parameters: {'lambda_l1': 9.636974519465923e-06, 'lambda_l2': 0.001623620402326471, 'num_leaves': 97, 'feature_fraction': 0.43402370441754806, 'bagging_fraction': 0.9864482003282555, 'bagging_freq': 7, 'min_child_samples': 84}. Best is trial 10 with value: 0.81.\n",
      "[I 2024-01-17 11:49:12,089] Trial 11 finished with value: 0.79875 and parameters: {'lambda_l1': 4.0531338771057565e-06, 'lambda_l2': 0.0013515030662172522, 'num_leaves': 99, 'feature_fraction': 0.42290668304868156, 'bagging_fraction': 0.9724403681131553, 'bagging_freq': 7, 'min_child_samples': 100}. Best is trial 10 with value: 0.81.\n"
     ]
    },
    {
     "name": "stdout",
     "output_type": "stream",
     "text": [
      "Early stopping, best iteration is:\n",
      "[41]\tvalid_0's binary_error: 0.19\n",
      "Training until validation scores don't improve for 10 rounds\n",
      "Early stopping, best iteration is:\n",
      "[32]\tvalid_0's binary_error: 0.20125\n",
      "Training until validation scores don't improve for 10 rounds\n"
     ]
    },
    {
     "name": "stderr",
     "output_type": "stream",
     "text": [
      "[I 2024-01-17 11:49:12,207] Trial 12 finished with value: 0.81 and parameters: {'lambda_l1': 3.31060819894141e-06, 'lambda_l2': 0.001346509232923419, 'num_leaves': 186, 'feature_fraction': 0.40329902269982343, 'bagging_fraction': 0.9808714325086791, 'bagging_freq': 7, 'min_child_samples': 76}. Best is trial 10 with value: 0.81.\n",
      "[I 2024-01-17 11:49:12,390] Trial 13 finished with value: 0.809375 and parameters: {'lambda_l1': 7.6918450930106e-07, 'lambda_l2': 0.0014103069255929517, 'num_leaves': 179, 'feature_fraction': 0.42373168201520434, 'bagging_fraction': 0.995737675092992, 'bagging_freq': 7, 'min_child_samples': 77}. Best is trial 10 with value: 0.81.\n"
     ]
    },
    {
     "name": "stdout",
     "output_type": "stream",
     "text": [
      "Early stopping, best iteration is:\n",
      "[39]\tvalid_0's binary_error: 0.19\n",
      "Training until validation scores don't improve for 10 rounds\n",
      "Early stopping, best iteration is:\n",
      "[39]\tvalid_0's binary_error: 0.190625\n"
     ]
    },
    {
     "name": "stderr",
     "output_type": "stream",
     "text": [
      "[I 2024-01-17 11:49:12,489] Trial 14 finished with value: 0.800625 and parameters: {'lambda_l1': 1.2530665200467707e-08, 'lambda_l2': 0.004976305824702688, 'num_leaves': 246, 'feature_fraction': 0.47540142770465443, 'bagging_fraction': 0.9389794127063239, 'bagging_freq': 6, 'min_child_samples': 76}. Best is trial 10 with value: 0.81.\n"
     ]
    },
    {
     "name": "stdout",
     "output_type": "stream",
     "text": [
      "Training until validation scores don't improve for 10 rounds\n",
      "Early stopping, best iteration is:\n",
      "[22]\tvalid_0's binary_error: 0.199375\n",
      "Training until validation scores don't improve for 10 rounds\n",
      "Early stopping, best iteration is:\n",
      "[46]\tvalid_0's binary_error: 0.1925\n"
     ]
    },
    {
     "name": "stderr",
     "output_type": "stream",
     "text": [
      "[I 2024-01-17 11:49:12,654] Trial 15 finished with value: 0.8075 and parameters: {'lambda_l1': 8.356705173954145e-05, 'lambda_l2': 0.01140464400192465, 'num_leaves': 179, 'feature_fraction': 0.41049871972241864, 'bagging_fraction': 0.9999546055581111, 'bagging_freq': 6, 'min_child_samples': 80}. Best is trial 10 with value: 0.81.\n",
      "[I 2024-01-17 11:49:12,805] Trial 16 finished with value: 0.794375 and parameters: {'lambda_l1': 1.0780205369786596e-06, 'lambda_l2': 0.00026962819562250637, 'num_leaves': 65, 'feature_fraction': 0.5154163000384838, 'bagging_fraction': 0.9053312827384448, 'bagging_freq': 7, 'min_child_samples': 69}. Best is trial 10 with value: 0.81.\n",
      "[I 2024-01-17 11:49:12,884] Trial 17 finished with value: 0.781875 and parameters: {'lambda_l1': 2.743354352285054e-07, 'lambda_l2': 0.010614956971623141, 'num_leaves': 199, 'feature_fraction': 0.4014433490581611, 'bagging_fraction': 0.8105311658259166, 'bagging_freq': 6, 'min_child_samples': 90}. Best is trial 10 with value: 0.81.\n"
     ]
    },
    {
     "name": "stdout",
     "output_type": "stream",
     "text": [
      "Training until validation scores don't improve for 10 rounds\n",
      "Early stopping, best iteration is:\n",
      "[13]\tvalid_0's binary_error: 0.205625\n",
      "Training until validation scores don't improve for 10 rounds\n",
      "Early stopping, best iteration is:\n",
      "[2]\tvalid_0's binary_error: 0.218125\n",
      "Training until validation scores don't improve for 10 rounds\n",
      "Early stopping, best iteration is:\n",
      "[17]\tvalid_0's binary_error: 0.20625\n"
     ]
    },
    {
     "name": "stderr",
     "output_type": "stream",
     "text": [
      "[I 2024-01-17 11:49:12,999] Trial 18 finished with value: 0.79375 and parameters: {'lambda_l1': 1.6967361676506617e-05, 'lambda_l2': 0.00028611923739695365, 'num_leaves': 249, 'feature_fraction': 0.5345334185221793, 'bagging_fraction': 0.9085625357767848, 'bagging_freq': 5, 'min_child_samples': 67}. Best is trial 10 with value: 0.81.\n",
      "[I 2024-01-17 11:49:13,076] Trial 19 finished with value: 0.783125 and parameters: {'lambda_l1': 0.0011128239952498302, 'lambda_l2': 0.024071562269864805, 'num_leaves': 149, 'feature_fraction': 0.4885413814015129, 'bagging_fraction': 0.7727652477188941, 'bagging_freq': 7, 'min_child_samples': 88}. Best is trial 10 with value: 0.81.\n",
      "[I 2024-01-17 11:49:13,196] Trial 20 finished with value: 0.80875 and parameters: {'lambda_l1': 1.186432463903895e-06, 'lambda_l2': 0.0013983881122711201, 'num_leaves': 93, 'feature_fraction': 0.5636669749490318, 'bagging_fraction': 0.8613894415060006, 'bagging_freq': 6, 'min_child_samples': 98}. Best is trial 10 with value: 0.81.\n"
     ]
    },
    {
     "name": "stdout",
     "output_type": "stream",
     "text": [
      "Training until validation scores don't improve for 10 rounds\n",
      "Early stopping, best iteration is:\n",
      "[1]\tvalid_0's binary_error: 0.216875\n",
      "Training until validation scores don't improve for 10 rounds\n",
      "Early stopping, best iteration is:\n",
      "[44]\tvalid_0's binary_error: 0.19125\n",
      "Training until validation scores don't improve for 10 rounds\n",
      "Early stopping, best iteration is:\n",
      "[17]\tvalid_0's binary_error: 0.20375\n"
     ]
    },
    {
     "name": "stderr",
     "output_type": "stream",
     "text": [
      "[I 2024-01-17 11:49:13,287] Trial 21 finished with value: 0.79625 and parameters: {'lambda_l1': 8.623734413703858e-07, 'lambda_l2': 0.0012822779637786707, 'num_leaves': 181, 'feature_fraction': 0.4536504709567136, 'bagging_fraction': 0.9825118689799136, 'bagging_freq': 7, 'min_child_samples': 80}. Best is trial 10 with value: 0.81.\n",
      "[I 2024-01-17 11:49:13,470] Trial 22 finished with value: 0.8075 and parameters: {'lambda_l1': 4.349107724125027e-05, 'lambda_l2': 0.0025110896916259394, 'num_leaves': 177, 'feature_fraction': 0.46278009967954903, 'bagging_fraction': 0.9506473804550272, 'bagging_freq': 7, 'min_child_samples': 69}. Best is trial 10 with value: 0.81.\n"
     ]
    },
    {
     "name": "stdout",
     "output_type": "stream",
     "text": [
      "Training until validation scores don't improve for 10 rounds\n",
      "Early stopping, best iteration is:\n",
      "[33]\tvalid_0's binary_error: 0.1925\n",
      "Training until validation scores don't improve for 10 rounds\n"
     ]
    },
    {
     "name": "stderr",
     "output_type": "stream",
     "text": [
      "[I 2024-01-17 11:49:13,620] Trial 23 finished with value: 0.81125 and parameters: {'lambda_l1': 3.1418499032942724e-06, 'lambda_l2': 0.00023066329126747058, 'num_leaves': 136, 'feature_fraction': 0.40308481767601967, 'bagging_fraction': 0.9874908370508948, 'bagging_freq': 6, 'min_child_samples': 84}. Best is trial 23 with value: 0.81125.\n",
      "[I 2024-01-17 11:49:13,764] Trial 24 finished with value: 0.81 and parameters: {'lambda_l1': 4.6473006779632715e-06, 'lambda_l2': 0.00017019869602989487, 'num_leaves': 116, 'feature_fraction': 0.4050742764790506, 'bagging_fraction': 0.939098353731216, 'bagging_freq': 6, 'min_child_samples': 86}. Best is trial 23 with value: 0.81125.\n"
     ]
    },
    {
     "name": "stdout",
     "output_type": "stream",
     "text": [
      "Early stopping, best iteration is:\n",
      "[44]\tvalid_0's binary_error: 0.18875\n",
      "Training until validation scores don't improve for 10 rounds\n",
      "Early stopping, best iteration is:\n",
      "[46]\tvalid_0's binary_error: 0.19\n"
     ]
    },
    {
     "name": "stderr",
     "output_type": "stream",
     "text": [
      "[I 2024-01-17 11:49:13,930] Trial 25 finished with value: 0.811875 and parameters: {'lambda_l1': 3.050450470441209e-05, 'lambda_l2': 0.029500445005123672, 'num_leaves': 135, 'feature_fraction': 0.4559922516118421, 'bagging_fraction': 0.8748753881984026, 'bagging_freq': 5, 'min_child_samples': 63}. Best is trial 25 with value: 0.811875.\n"
     ]
    },
    {
     "name": "stdout",
     "output_type": "stream",
     "text": [
      "Training until validation scores don't improve for 10 rounds\n",
      "Early stopping, best iteration is:\n",
      "[44]\tvalid_0's binary_error: 0.188125\n",
      "Training until validation scores don't improve for 10 rounds\n"
     ]
    },
    {
     "name": "stderr",
     "output_type": "stream",
     "text": [
      "[I 2024-01-17 11:49:14,083] Trial 26 finished with value: 0.806875 and parameters: {'lambda_l1': 3.157131865467672e-05, 'lambda_l2': 0.03664308758184199, 'num_leaves': 136, 'feature_fraction': 0.529426476314318, 'bagging_fraction': 0.8752737052109412, 'bagging_freq': 4, 'min_child_samples': 48}. Best is trial 25 with value: 0.811875.\n",
      "[I 2024-01-17 11:49:14,232] Trial 27 finished with value: 0.798125 and parameters: {'lambda_l1': 0.00044774072589206783, 'lambda_l2': 8.488449587640634, 'num_leaves': 78, 'feature_fraction': 0.4658258284585116, 'bagging_fraction': 0.8092082854105846, 'bagging_freq': 5, 'min_child_samples': 61}. Best is trial 25 with value: 0.811875.\n"
     ]
    },
    {
     "name": "stdout",
     "output_type": "stream",
     "text": [
      "Early stopping, best iteration is:\n",
      "[17]\tvalid_0's binary_error: 0.193125\n",
      "Training until validation scores don't improve for 10 rounds\n",
      "Early stopping, best iteration is:\n",
      "[55]\tvalid_0's binary_error: 0.201875\n"
     ]
    },
    {
     "name": "stderr",
     "output_type": "stream",
     "text": [
      "[I 2024-01-17 11:49:14,349] Trial 28 finished with value: 0.80625 and parameters: {'lambda_l1': 5.678868070153903e-05, 'lambda_l2': 0.45095386053043407, 'num_leaves': 157, 'feature_fraction': 0.4565866145774382, 'bagging_fraction': 0.9268148001785687, 'bagging_freq': 4, 'min_child_samples': 66}. Best is trial 25 with value: 0.811875.\n",
      "[I 2024-01-17 11:49:14,454] Trial 29 finished with value: 0.79 and parameters: {'lambda_l1': 0.000343570711444541, 'lambda_l2': 2.0466658466529837, 'num_leaves': 43, 'feature_fraction': 0.5587131728067796, 'bagging_fraction': 0.6998662161798653, 'bagging_freq': 6, 'min_child_samples': 96}. Best is trial 25 with value: 0.811875.\n"
     ]
    },
    {
     "name": "stdout",
     "output_type": "stream",
     "text": [
      "Training until validation scores don't improve for 10 rounds\n",
      "Early stopping, best iteration is:\n",
      "[24]\tvalid_0's binary_error: 0.19375\n",
      "Training until validation scores don't improve for 10 rounds\n",
      "Early stopping, best iteration is:\n",
      "[5]\tvalid_0's binary_error: 0.21\n"
     ]
    },
    {
     "name": "stderr",
     "output_type": "stream",
     "text": [
      "[I 2024-01-17 11:49:14,594] Trial 30 finished with value: 0.80375 and parameters: {'lambda_l1': 1.3666711454701605e-07, 'lambda_l2': 0.0070719381734343145, 'num_leaves': 127, 'feature_fraction': 0.5069820074018234, 'bagging_fraction': 0.8816784237392246, 'bagging_freq': 1, 'min_child_samples': 59}. Best is trial 25 with value: 0.811875.\n",
      "[I 2024-01-17 11:49:14,713] Trial 31 finished with value: 0.81 and parameters: {'lambda_l1': 2.3821513680142035e-06, 'lambda_l2': 0.0468338548087496, 'num_leaves': 119, 'feature_fraction': 0.4391206300426074, 'bagging_fraction': 0.9606511158337956, 'bagging_freq': 6, 'min_child_samples': 74}. Best is trial 25 with value: 0.811875.\n"
     ]
    },
    {
     "name": "stdout",
     "output_type": "stream",
     "text": [
      "Training until validation scores don't improve for 10 rounds\n",
      "Early stopping, best iteration is:\n",
      "[28]\tvalid_0's binary_error: 0.19625\n",
      "Training until validation scores don't improve for 10 rounds\n",
      "Early stopping, best iteration is:\n",
      "[36]\tvalid_0's binary_error: 0.19\n"
     ]
    },
    {
     "name": "stderr",
     "output_type": "stream",
     "text": [
      "[I 2024-01-17 11:49:14,827] Trial 32 finished with value: 0.805625 and parameters: {'lambda_l1': 8.84060889824335e-06, 'lambda_l2': 0.0006962024632313545, 'num_leaves': 89, 'feature_fraction': 0.40148807526716107, 'bagging_fraction': 0.9611001017081555, 'bagging_freq': 5, 'min_child_samples': 85}. Best is trial 25 with value: 0.811875.\n",
      "[I 2024-01-17 11:49:14,920] Trial 33 finished with value: 0.7975 and parameters: {'lambda_l1': 0.00012924081155245572, 'lambda_l2': 0.009251612342980229, 'num_leaves': 135, 'feature_fraction': 0.49190760803813033, 'bagging_fraction': 0.9945990728018059, 'bagging_freq': 7, 'min_child_samples': 82}. Best is trial 25 with value: 0.811875.\n"
     ]
    },
    {
     "name": "stdout",
     "output_type": "stream",
     "text": [
      "Training until validation scores don't improve for 10 rounds\n",
      "Early stopping, best iteration is:\n",
      "[33]\tvalid_0's binary_error: 0.194375\n",
      "Training until validation scores don't improve for 10 rounds\n",
      "Early stopping, best iteration is:\n",
      "[17]\tvalid_0's binary_error: 0.2025\n",
      "Training until validation scores don't improve for 10 rounds\n"
     ]
    },
    {
     "name": "stderr",
     "output_type": "stream",
     "text": [
      "[I 2024-01-17 11:49:15,061] Trial 34 finished with value: 0.8075 and parameters: {'lambda_l1': 1.6570437944559702e-05, 'lambda_l2': 0.19183533283829537, 'num_leaves': 161, 'feature_fraction': 0.4517572271514687, 'bagging_fraction': 0.9260558928350252, 'bagging_freq': 5, 'min_child_samples': 73}. Best is trial 25 with value: 0.811875.\n",
      "[I 2024-01-17 11:49:15,182] Trial 35 finished with value: 0.81125 and parameters: {'lambda_l1': 3.3452036702255455e-06, 'lambda_l2': 0.00010792432341539994, 'num_leaves': 49, 'feature_fraction': 0.4427864986447463, 'bagging_fraction': 0.8950951441193582, 'bagging_freq': 6, 'min_child_samples': 94}. Best is trial 25 with value: 0.811875.\n"
     ]
    },
    {
     "name": "stdout",
     "output_type": "stream",
     "text": [
      "Early stopping, best iteration is:\n",
      "[43]\tvalid_0's binary_error: 0.1925\n",
      "Training until validation scores don't improve for 10 rounds\n",
      "Early stopping, best iteration is:\n",
      "[42]\tvalid_0's binary_error: 0.18875\n",
      "Training until validation scores don't improve for 10 rounds\n",
      "Early stopping, best iteration is:\n",
      "[12]\tvalid_0's binary_error: 0.2075\n"
     ]
    },
    {
     "name": "stderr",
     "output_type": "stream",
     "text": [
      "[I 2024-01-17 11:49:15,266] Trial 36 finished with value: 0.7925 and parameters: {'lambda_l1': 3.5822335959954215e-07, 'lambda_l2': 9.098706103931703e-05, 'num_leaves': 35, 'feature_fraction': 0.5049973453989124, 'bagging_fraction': 0.8872444065233824, 'bagging_freq': 6, 'min_child_samples': 92}. Best is trial 25 with value: 0.811875.\n",
      "[I 2024-01-17 11:49:15,389] Trial 37 finished with value: 0.809375 and parameters: {'lambda_l1': 6.274917755242923e-08, 'lambda_l2': 5.541558419680627e-06, 'num_leaves': 50, 'feature_fraction': 0.4404098452697217, 'bagging_fraction': 0.8530276920348991, 'bagging_freq': 5, 'min_child_samples': 45}. Best is trial 25 with value: 0.811875.\n",
      "[I 2024-01-17 11:49:15,449] Trial 38 finished with value: 0.759375 and parameters: {'lambda_l1': 3.0133509234701913e-05, 'lambda_l2': 0.00046572889005807135, 'num_leaves': 3, 'feature_fraction': 0.4786919098395808, 'bagging_fraction': 0.8352363990683692, 'bagging_freq': 4, 'min_child_samples': 93}. Best is trial 25 with value: 0.811875.\n"
     ]
    },
    {
     "name": "stdout",
     "output_type": "stream",
     "text": [
      "Training until validation scores don't improve for 10 rounds\n",
      "Early stopping, best iteration is:\n",
      "[34]\tvalid_0's binary_error: 0.190625\n",
      "Training until validation scores don't improve for 10 rounds\n",
      "Early stopping, best iteration is:\n",
      "[2]\tvalid_0's binary_error: 0.240625\n",
      "Training until validation scores don't improve for 10 rounds\n"
     ]
    },
    {
     "name": "stderr",
     "output_type": "stream",
     "text": [
      "[I 2024-01-17 11:49:15,567] Trial 39 finished with value: 0.805 and parameters: {'lambda_l1': 2.397372037599914e-06, 'lambda_l2': 1.841932876786955e-05, 'num_leaves': 105, 'feature_fraction': 0.6811010536222033, 'bagging_fraction': 0.9124876811473539, 'bagging_freq': 6, 'min_child_samples': 30}. Best is trial 25 with value: 0.811875.\n",
      "[I 2024-01-17 11:49:15,683] Trial 40 finished with value: 0.804375 and parameters: {'lambda_l1': 8.891417750010837e-08, 'lambda_l2': 0.00010828827552672404, 'num_leaves': 56, 'feature_fraction': 0.5647630579866326, 'bagging_fraction': 0.9472834329834187, 'bagging_freq': 5, 'min_child_samples': 55}. Best is trial 25 with value: 0.811875.\n"
     ]
    },
    {
     "name": "stdout",
     "output_type": "stream",
     "text": [
      "Early stopping, best iteration is:\n",
      "[13]\tvalid_0's binary_error: 0.195\n",
      "Training until validation scores don't improve for 10 rounds\n",
      "Early stopping, best iteration is:\n",
      "[24]\tvalid_0's binary_error: 0.195625\n",
      "Training until validation scores don't improve for 10 rounds\n"
     ]
    },
    {
     "name": "stderr",
     "output_type": "stream",
     "text": [
      "[I 2024-01-17 11:49:15,802] Trial 41 finished with value: 0.8075 and parameters: {'lambda_l1': 6.61965404463327e-06, 'lambda_l2': 0.00038770747830570244, 'num_leaves': 80, 'feature_fraction': 0.42973528248465764, 'bagging_fraction': 0.9651887157331591, 'bagging_freq': 7, 'min_child_samples': 81}. Best is trial 25 with value: 0.811875.\n",
      "[I 2024-01-17 11:49:15,980] Trial 42 finished with value: 0.8075 and parameters: {'lambda_l1': 2.763625137466543e-06, 'lambda_l2': 0.0037507121041961823, 'num_leaves': 192, 'feature_fraction': 0.4317290842039823, 'bagging_fraction': 0.9082646545259443, 'bagging_freq': 7, 'min_child_samples': 64}. Best is trial 25 with value: 0.811875.\n"
     ]
    },
    {
     "name": "stdout",
     "output_type": "stream",
     "text": [
      "Early stopping, best iteration is:\n",
      "[37]\tvalid_0's binary_error: 0.1925\n",
      "Training until validation scores don't improve for 10 rounds\n",
      "Early stopping, best iteration is:\n",
      "[43]\tvalid_0's binary_error: 0.1925\n"
     ]
    },
    {
     "name": "stderr",
     "output_type": "stream",
     "text": [
      "[I 2024-01-17 11:49:16,090] Trial 43 finished with value: 0.80125 and parameters: {'lambda_l1': 1.7107518232353217e-05, 'lambda_l2': 6.71240619238632e-05, 'num_leaves': 23, 'feature_fraction': 0.4870672952022453, 'bagging_fraction': 0.9989495925405318, 'bagging_freq': 6, 'min_child_samples': 85}. Best is trial 25 with value: 0.811875.\n"
     ]
    },
    {
     "name": "stdout",
     "output_type": "stream",
     "text": [
      "Training until validation scores don't improve for 10 rounds\n",
      "Early stopping, best iteration is:\n",
      "[42]\tvalid_0's binary_error: 0.19875\n",
      "Training until validation scores don't improve for 10 rounds\n",
      "Early stopping, best iteration is:\n",
      "[43]\tvalid_0's binary_error: 0.196875\n"
     ]
    },
    {
     "name": "stderr",
     "output_type": "stream",
     "text": [
      "[I 2024-01-17 11:49:16,255] Trial 44 finished with value: 0.803125 and parameters: {'lambda_l1': 3.654287336420246e-07, 'lambda_l2': 0.003787343882544059, 'num_leaves': 166, 'feature_fraction': 0.4013594429112663, 'bagging_fraction': 0.968681178506677, 'bagging_freq': 7, 'min_child_samples': 72}. Best is trial 25 with value: 0.811875.\n",
      "[I 2024-01-17 11:49:16,405] Trial 45 finished with value: 0.8125 and parameters: {'lambda_l1': 6.418190206079034e-06, 'lambda_l2': 0.0006966710276518298, 'num_leaves': 225, 'feature_fraction': 0.4310446076022939, 'bagging_fraction': 0.9373018653170333, 'bagging_freq': 6, 'min_child_samples': 96}. Best is trial 45 with value: 0.8125.\n",
      "[I 2024-01-17 11:49:16,533] Trial 46 finished with value: 0.80875 and parameters: {'lambda_l1': 0.0001804720957661745, 'lambda_l2': 1.9336422672270264e-05, 'num_leaves': 211, 'feature_fraction': 0.440739563596922, 'bagging_fraction': 0.8880155899209353, 'bagging_freq': 5, 'min_child_samples': 97}. Best is trial 45 with value: 0.8125.\n"
     ]
    },
    {
     "name": "stdout",
     "output_type": "stream",
     "text": [
      "Training until validation scores don't improve for 10 rounds\n",
      "Early stopping, best iteration is:\n",
      "[55]\tvalid_0's binary_error: 0.1875\n",
      "Training until validation scores don't improve for 10 rounds\n",
      "Early stopping, best iteration is:\n",
      "[56]\tvalid_0's binary_error: 0.19125\n"
     ]
    },
    {
     "name": "stderr",
     "output_type": "stream",
     "text": [
      "[I 2024-01-17 11:49:16,676] Trial 47 finished with value: 0.809375 and parameters: {'lambda_l1': 8.061901848413343e-06, 'lambda_l2': 0.00019398785944613339, 'num_leaves': 236, 'feature_fraction': 0.4677729183821205, 'bagging_fraction': 0.9160821840440129, 'bagging_freq': 6, 'min_child_samples': 94}. Best is trial 45 with value: 0.8125.\n",
      "[I 2024-01-17 11:49:16,758] Trial 48 finished with value: 0.7725 and parameters: {'lambda_l1': 1.4985158342075307e-06, 'lambda_l2': 0.018655232849651558, 'num_leaves': 7, 'feature_fraction': 0.5220498966563679, 'bagging_fraction': 0.9379965834628182, 'bagging_freq': 6, 'min_child_samples': 90}. Best is trial 45 with value: 0.8125.\n"
     ]
    },
    {
     "name": "stdout",
     "output_type": "stream",
     "text": [
      "Training until validation scores don't improve for 10 rounds\n",
      "Early stopping, best iteration is:\n",
      "[47]\tvalid_0's binary_error: 0.190625\n",
      "Training until validation scores don't improve for 10 rounds\n",
      "Early stopping, best iteration is:\n",
      "[14]\tvalid_0's binary_error: 0.2275\n"
     ]
    },
    {
     "name": "stderr",
     "output_type": "stream",
     "text": [
      "[I 2024-01-17 11:49:16,912] Trial 49 finished with value: 0.814375 and parameters: {'lambda_l1': 5.719267759691701e-05, 'lambda_l2': 0.0005301893910723011, 'num_leaves': 145, 'feature_fraction': 0.4256796023876183, 'bagging_fraction': 0.856849880140468, 'bagging_freq': 5, 'min_child_samples': 99}. Best is trial 49 with value: 0.814375.\n",
      "[I 2024-01-17 11:49:17,000] Trial 50 finished with value: 0.78875 and parameters: {'lambda_l1': 9.148830405341012e-05, 'lambda_l2': 4.3147736491603054e-05, 'num_leaves': 146, 'feature_fraction': 0.5937487965540436, 'bagging_fraction': 0.8646211063283589, 'bagging_freq': 4, 'min_child_samples': 99}. Best is trial 49 with value: 0.814375.\n"
     ]
    },
    {
     "name": "stdout",
     "output_type": "stream",
     "text": [
      "Training until validation scores don't improve for 10 rounds\n",
      "Early stopping, best iteration is:\n",
      "[74]\tvalid_0's binary_error: 0.185625\n",
      "Training until validation scores don't improve for 10 rounds\n",
      "Early stopping, best iteration is:\n",
      "[8]\tvalid_0's binary_error: 0.21125\n"
     ]
    },
    {
     "name": "stderr",
     "output_type": "stream",
     "text": [
      "[I 2024-01-17 11:49:17,148] Trial 51 finished with value: 0.80875 and parameters: {'lambda_l1': 6.092910008456605e-06, 'lambda_l2': 0.0010621972004837385, 'num_leaves': 113, 'feature_fraction': 0.4282940315267788, 'bagging_fraction': 0.8944207995339551, 'bagging_freq': 5, 'min_child_samples': 100}. Best is trial 49 with value: 0.814375.\n",
      "[I 2024-01-17 11:49:17,236] Trial 52 finished with value: 0.786875 and parameters: {'lambda_l1': 1.6411236224812846e-05, 'lambda_l2': 0.0003622325194020781, 'num_leaves': 129, 'feature_fraction': 0.42286693561424626, 'bagging_fraction': 0.8399600215260621, 'bagging_freq': 6, 'min_child_samples': 94}. Best is trial 49 with value: 0.814375.\n"
     ]
    },
    {
     "name": "stdout",
     "output_type": "stream",
     "text": [
      "Training until validation scores don't improve for 10 rounds\n",
      "Early stopping, best iteration is:\n",
      "[53]\tvalid_0's binary_error: 0.19125\n",
      "Training until validation scores don't improve for 10 rounds\n",
      "Early stopping, best iteration is:\n",
      "[5]\tvalid_0's binary_error: 0.213125\n"
     ]
    },
    {
     "name": "stderr",
     "output_type": "stream",
     "text": [
      "[I 2024-01-17 11:49:17,419] Trial 53 finished with value: 0.805 and parameters: {'lambda_l1': 5.862384999241123e-07, 'lambda_l2': 0.002598327287163223, 'num_leaves': 100, 'feature_fraction': 0.4859536666582431, 'bagging_fraction': 0.9740105554469929, 'bagging_freq': 5, 'min_child_samples': 88}. Best is trial 49 with value: 0.814375.\n"
     ]
    },
    {
     "name": "stdout",
     "output_type": "stream",
     "text": [
      "Training until validation scores don't improve for 10 rounds\n",
      "Early stopping, best iteration is:\n",
      "[37]\tvalid_0's binary_error: 0.195\n",
      "Training until validation scores don't improve for 10 rounds\n"
     ]
    },
    {
     "name": "stderr",
     "output_type": "stream",
     "text": [
      "[I 2024-01-17 11:49:17,550] Trial 54 finished with value: 0.8075 and parameters: {'lambda_l1': 3.8049262417249187e-05, 'lambda_l2': 0.0007508412169622217, 'num_leaves': 167, 'feature_fraction': 0.4530430972936438, 'bagging_fraction': 0.9401782699034716, 'bagging_freq': 5, 'min_child_samples': 84}. Best is trial 49 with value: 0.814375.\n",
      "[I 2024-01-17 11:49:17,662] Trial 55 finished with value: 0.80125 and parameters: {'lambda_l1': 2.017598875333575e-06, 'lambda_l2': 0.00015482876691877073, 'num_leaves': 229, 'feature_fraction': 0.42234164447332523, 'bagging_fraction': 0.9207266116487186, 'bagging_freq': 6, 'min_child_samples': 79}. Best is trial 49 with value: 0.814375.\n",
      "[I 2024-01-17 11:49:17,757] Trial 56 finished with value: 0.80375 and parameters: {'lambda_l1': 3.711448736439453e-06, 'lambda_l2': 0.00042910842709383424, 'num_leaves': 142, 'feature_fraction': 0.4691066190397793, 'bagging_fraction': 0.8663685179235456, 'bagging_freq': 3, 'min_child_samples': 91}. Best is trial 49 with value: 0.814375.\n"
     ]
    },
    {
     "name": "stdout",
     "output_type": "stream",
     "text": [
      "Early stopping, best iteration is:\n",
      "[32]\tvalid_0's binary_error: 0.1925\n",
      "Training until validation scores don't improve for 10 rounds\n",
      "Early stopping, best iteration is:\n",
      "[22]\tvalid_0's binary_error: 0.19875\n",
      "Training until validation scores don't improve for 10 rounds\n",
      "Early stopping, best iteration is:\n",
      "[25]\tvalid_0's binary_error: 0.19625\n"
     ]
    },
    {
     "name": "stderr",
     "output_type": "stream",
     "text": [
      "[I 2024-01-17 11:49:17,900] Trial 57 finished with value: 0.8075 and parameters: {'lambda_l1': 7.672399514446915e-05, 'lambda_l2': 0.001954808986192615, 'num_leaves': 87, 'feature_fraction': 0.5029442859679301, 'bagging_fraction': 0.8082790669527188, 'bagging_freq': 6, 'min_child_samples': 29}. Best is trial 49 with value: 0.814375.\n"
     ]
    },
    {
     "name": "stdout",
     "output_type": "stream",
     "text": [
      "Training until validation scores don't improve for 10 rounds\n",
      "Early stopping, best iteration is:\n",
      "[27]\tvalid_0's binary_error: 0.1925\n",
      "Training until validation scores don't improve for 10 rounds\n"
     ]
    },
    {
     "name": "stderr",
     "output_type": "stream",
     "text": [
      "[I 2024-01-17 11:49:18,043] Trial 58 finished with value: 0.80375 and parameters: {'lambda_l1': 7.594875235657581e-07, 'lambda_l2': 0.005808709613541378, 'num_leaves': 68, 'feature_fraction': 0.40028036266975114, 'bagging_fraction': 0.9791357917765554, 'bagging_freq': 4, 'min_child_samples': 95}. Best is trial 49 with value: 0.814375.\n",
      "[I 2024-01-17 11:49:18,223] Trial 59 finished with value: 0.808125 and parameters: {'lambda_l1': 1.0189400872025904e-05, 'lambda_l2': 0.0006144310609601171, 'num_leaves': 153, 'feature_fraction': 0.44949672227251364, 'bagging_fraction': 0.8994206754058165, 'bagging_freq': 7, 'min_child_samples': 88}. Best is trial 49 with value: 0.814375.\n"
     ]
    },
    {
     "name": "stdout",
     "output_type": "stream",
     "text": [
      "Early stopping, best iteration is:\n",
      "[36]\tvalid_0's binary_error: 0.19625\n",
      "Training until validation scores don't improve for 10 rounds\n",
      "Early stopping, best iteration is:\n",
      "[61]\tvalid_0's binary_error: 0.191875\n"
     ]
    },
    {
     "name": "stderr",
     "output_type": "stream",
     "text": [
      "[I 2024-01-17 11:49:18,314] Trial 60 finished with value: 0.7875 and parameters: {'lambda_l1': 3.341267446250026e-05, 'lambda_l2': 0.00022519762159090213, 'num_leaves': 122, 'feature_fraction': 0.5308333597505029, 'bagging_fraction': 0.9511342486086817, 'bagging_freq': 5, 'min_child_samples': 100}. Best is trial 49 with value: 0.814375.\n",
      "[I 2024-01-17 11:49:18,476] Trial 61 finished with value: 0.809375 and parameters: {'lambda_l1': 3.931710475255206e-06, 'lambda_l2': 0.0014985525480196162, 'num_leaves': 198, 'feature_fraction': 0.41555092181879294, 'bagging_fraction': 0.9950812205462414, 'bagging_freq': 7, 'min_child_samples': 77}. Best is trial 49 with value: 0.814375.\n"
     ]
    },
    {
     "name": "stdout",
     "output_type": "stream",
     "text": [
      "Training until validation scores don't improve for 10 rounds\n",
      "Early stopping, best iteration is:\n",
      "[7]\tvalid_0's binary_error: 0.2125\n",
      "Training until validation scores don't improve for 10 rounds\n",
      "Early stopping, best iteration is:\n",
      "[41]\tvalid_0's binary_error: 0.190625\n"
     ]
    },
    {
     "name": "stderr",
     "output_type": "stream",
     "text": [
      "[I 2024-01-17 11:49:18,674] Trial 62 finished with value: 0.8025 and parameters: {'lambda_l1': 1.5065385929910647e-06, 'lambda_l2': 0.0008849785886281241, 'num_leaves': 208, 'feature_fraction': 0.4716207914784625, 'bagging_fraction': 0.9783908438682034, 'bagging_freq': 7, 'min_child_samples': 83}. Best is trial 49 with value: 0.814375.\n"
     ]
    },
    {
     "name": "stdout",
     "output_type": "stream",
     "text": [
      "Training until validation scores don't improve for 10 rounds\n",
      "Early stopping, best iteration is:\n",
      "[38]\tvalid_0's binary_error: 0.1975\n",
      "Training until validation scores don't improve for 10 rounds\n",
      "Early stopping, best iteration is:\n",
      "[53]\tvalid_0's binary_error: 0.19125\n"
     ]
    },
    {
     "name": "stderr",
     "output_type": "stream",
     "text": [
      "[I 2024-01-17 11:49:18,827] Trial 63 finished with value: 0.80875 and parameters: {'lambda_l1': 4.493823792164264e-06, 'lambda_l2': 0.014181234969544515, 'num_leaves': 189, 'feature_fraction': 0.4242456050031277, 'bagging_fraction': 0.9306919730212639, 'bagging_freq': 7, 'min_child_samples': 77}. Best is trial 49 with value: 0.814375.\n",
      "[I 2024-01-17 11:49:19,015] Trial 64 finished with value: 0.805625 and parameters: {'lambda_l1': 1.6763918779658107e-05, 'lambda_l2': 0.004286473331062739, 'num_leaves': 220, 'feature_fraction': 0.4436086018773625, 'bagging_fraction': 0.9622923523594055, 'bagging_freq': 6, 'min_child_samples': 70}. Best is trial 49 with value: 0.814375.\n"
     ]
    },
    {
     "name": "stdout",
     "output_type": "stream",
     "text": [
      "Training until validation scores don't improve for 10 rounds\n",
      "Early stopping, best iteration is:\n",
      "[43]\tvalid_0's binary_error: 0.194375\n",
      "Training until validation scores don't improve for 10 rounds\n",
      "Early stopping, best iteration is:\n",
      "[39]\tvalid_0's binary_error: 0.190625\n"
     ]
    },
    {
     "name": "stderr",
     "output_type": "stream",
     "text": [
      "[I 2024-01-17 11:49:19,133] Trial 65 finished with value: 0.809375 and parameters: {'lambda_l1': 0.00016177562704623244, 'lambda_l2': 0.06453560713041008, 'num_leaves': 137, 'feature_fraction': 0.400079884488531, 'bagging_fraction': 0.9472007729120694, 'bagging_freq': 6, 'min_child_samples': 88}. Best is trial 49 with value: 0.814375.\n",
      "[I 2024-01-17 11:49:19,285] Trial 66 finished with value: 0.804375 and parameters: {'lambda_l1': 1.1561347500573743e-06, 'lambda_l2': 0.002117955899070683, 'num_leaves': 165, 'feature_fraction': 0.46052838627966464, 'bagging_fraction': 0.9022393049457568, 'bagging_freq': 7, 'min_child_samples': 96}. Best is trial 49 with value: 0.814375.\n",
      "[I 2024-01-17 11:49:19,423] Trial 67 finished with value: 0.804375 and parameters: {'lambda_l1': 1.7034500441374862e-07, 'lambda_l2': 8.809710306068196e-05, 'num_leaves': 244, 'feature_fraction': 0.41818693718861916, 'bagging_fraction': 0.9828088559815983, 'bagging_freq': 6, 'min_child_samples': 91}. Best is trial 49 with value: 0.814375.\n"
     ]
    },
    {
     "name": "stdout",
     "output_type": "stream",
     "text": [
      "Training until validation scores don't improve for 10 rounds\n",
      "Early stopping, best iteration is:\n",
      "[32]\tvalid_0's binary_error: 0.195625\n",
      "Training until validation scores don't improve for 10 rounds\n",
      "Early stopping, best iteration is:\n",
      "[38]\tvalid_0's binary_error: 0.195625\n"
     ]
    },
    {
     "name": "stderr",
     "output_type": "stream",
     "text": [
      "[I 2024-01-17 11:49:19,548] Trial 68 finished with value: 0.8025 and parameters: {'lambda_l1': 5.480091169395743e-05, 'lambda_l2': 0.0071603048650167025, 'num_leaves': 108, 'feature_fraction': 0.4842702557301132, 'bagging_fraction': 0.928170577320403, 'bagging_freq': 1, 'min_child_samples': 61}. Best is trial 49 with value: 0.814375.\n"
     ]
    },
    {
     "name": "stdout",
     "output_type": "stream",
     "text": [
      "Training until validation scores don't improve for 10 rounds\n",
      "Early stopping, best iteration is:\n",
      "[17]\tvalid_0's binary_error: 0.1975\n",
      "Training until validation scores don't improve for 10 rounds\n",
      "Early stopping, best iteration is:\n",
      "[37]\tvalid_0's binary_error: 0.193125\n"
     ]
    },
    {
     "name": "stderr",
     "output_type": "stream",
     "text": [
      "[I 2024-01-17 11:49:19,671] Trial 69 finished with value: 0.806875 and parameters: {'lambda_l1': 4.4314294839025453e-07, 'lambda_l2': 0.00023370353370620245, 'num_leaves': 135, 'feature_fraction': 0.44047627996515143, 'bagging_fraction': 0.851824717017069, 'bagging_freq': 7, 'min_child_samples': 75}. Best is trial 49 with value: 0.814375.\n",
      "[I 2024-01-17 11:49:19,860] Trial 70 finished with value: 0.798125 and parameters: {'lambda_l1': 2.8318766166332717e-06, 'lambda_l2': 0.033745752866019656, 'num_leaves': 173, 'feature_fraction': 0.5092318355665109, 'bagging_fraction': 0.8759672936789946, 'bagging_freq': 2, 'min_child_samples': 6}. Best is trial 49 with value: 0.814375.\n"
     ]
    },
    {
     "name": "stdout",
     "output_type": "stream",
     "text": [
      "Training until validation scores don't improve for 10 rounds\n",
      "Early stopping, best iteration is:\n",
      "[20]\tvalid_0's binary_error: 0.201875\n",
      "Training until validation scores don't improve for 10 rounds\n",
      "Early stopping, best iteration is:\n",
      "[40]\tvalid_0's binary_error: 0.190625\n"
     ]
    },
    {
     "name": "stderr",
     "output_type": "stream",
     "text": [
      "[I 2024-01-17 11:49:19,979] Trial 71 finished with value: 0.809375 and parameters: {'lambda_l1': 6.373426439452532e-06, 'lambda_l2': 0.00014940426144419508, 'num_leaves': 118, 'feature_fraction': 0.41474100324865315, 'bagging_fraction': 0.9517559164479131, 'bagging_freq': 6, 'min_child_samples': 85}. Best is trial 49 with value: 0.814375.\n",
      "[I 2024-01-17 11:49:20,118] Trial 72 finished with value: 0.8075 and parameters: {'lambda_l1': 1.3040294739601532e-05, 'lambda_l2': 0.0007163103725335156, 'num_leaves': 153, 'feature_fraction': 0.4525274316778289, 'bagging_fraction': 0.9270282205914714, 'bagging_freq': 6, 'min_child_samples': 87}. Best is trial 49 with value: 0.814375.\n",
      "[I 2024-01-17 11:49:20,248] Trial 73 finished with value: 0.80875 and parameters: {'lambda_l1': 2.624749670136067e-05, 'lambda_l2': 0.00028298755114418943, 'num_leaves': 256, 'feature_fraction': 0.41390228658200134, 'bagging_fraction': 0.9843941819621368, 'bagging_freq': 6, 'min_child_samples': 79}. Best is trial 49 with value: 0.814375.\n"
     ]
    },
    {
     "name": "stdout",
     "output_type": "stream",
     "text": [
      "Training until validation scores don't improve for 10 rounds\n",
      "Early stopping, best iteration is:\n",
      "[34]\tvalid_0's binary_error: 0.1925\n",
      "Training until validation scores don't improve for 10 rounds\n",
      "Early stopping, best iteration is:\n",
      "[42]\tvalid_0's binary_error: 0.19125\n"
     ]
    },
    {
     "name": "stderr",
     "output_type": "stream",
     "text": [
      "[I 2024-01-17 11:49:20,356] Trial 74 finished with value: 0.7975 and parameters: {'lambda_l1': 4.799600152635513e-06, 'lambda_l2': 0.00012540126455864845, 'num_leaves': 128, 'feature_fraction': 0.43462907095284053, 'bagging_fraction': 0.9620704591757668, 'bagging_freq': 5, 'min_child_samples': 82}. Best is trial 49 with value: 0.814375.\n",
      "[I 2024-01-17 11:49:20,481] Trial 75 finished with value: 0.80875 and parameters: {'lambda_l1': 8.84851537358008e-07, 'lambda_l2': 5.581386995159533e-05, 'num_leaves': 79, 'feature_fraction': 0.4687039637910858, 'bagging_fraction': 0.9996765278131977, 'bagging_freq': 7, 'min_child_samples': 97}. Best is trial 49 with value: 0.814375.\n"
     ]
    },
    {
     "name": "stdout",
     "output_type": "stream",
     "text": [
      "Training until validation scores don't improve for 10 rounds\n",
      "Early stopping, best iteration is:\n",
      "[17]\tvalid_0's binary_error: 0.2025\n",
      "Training until validation scores don't improve for 10 rounds\n",
      "Early stopping, best iteration is:\n",
      "[38]\tvalid_0's binary_error: 0.19125\n"
     ]
    },
    {
     "name": "stderr",
     "output_type": "stream",
     "text": [
      "[I 2024-01-17 11:49:20,707] Trial 76 finished with value: 0.8075 and parameters: {'lambda_l1': 2.0570163414035907e-06, 'lambda_l2': 0.0012028570246908372, 'num_leaves': 116, 'feature_fraction': 0.40214567022881176, 'bagging_fraction': 0.9090031074985511, 'bagging_freq': 6, 'min_child_samples': 53}. Best is trial 49 with value: 0.814375.\n"
     ]
    },
    {
     "name": "stdout",
     "output_type": "stream",
     "text": [
      "Training until validation scores don't improve for 10 rounds\n",
      "Early stopping, best iteration is:\n",
      "[29]\tvalid_0's binary_error: 0.1925\n"
     ]
    },
    {
     "name": "stderr",
     "output_type": "stream",
     "text": [
      "[I 2024-01-17 11:49:20,852] Trial 77 finished with value: 0.809375 and parameters: {'lambda_l1': 8.56888190274964e-06, 'lambda_l2': 0.0004927562977579952, 'num_leaves': 32, 'feature_fraction': 0.43858296560810595, 'bagging_fraction': 0.8846122227986298, 'bagging_freq': 5, 'min_child_samples': 93}. Best is trial 49 with value: 0.814375.\n"
     ]
    },
    {
     "name": "stdout",
     "output_type": "stream",
     "text": [
      "Training until validation scores don't improve for 10 rounds\n",
      "Early stopping, best iteration is:\n",
      "[54]\tvalid_0's binary_error: 0.190625\n",
      "Training until validation scores don't improve for 10 rounds\n"
     ]
    },
    {
     "name": "stderr",
     "output_type": "stream",
     "text": [
      "[I 2024-01-17 11:49:21,040] Trial 78 finished with value: 0.806875 and parameters: {'lambda_l1': 2.452623931163984e-05, 'lambda_l2': 0.0027944169982458307, 'num_leaves': 96, 'feature_fraction': 0.49901152988810155, 'bagging_fraction': 0.943778693205727, 'bagging_freq': 7, 'min_child_samples': 86}. Best is trial 49 with value: 0.814375.\n",
      "[I 2024-01-17 11:49:21,218] Trial 79 finished with value: 0.8125 and parameters: {'lambda_l1': 1.2457229699769892e-05, 'lambda_l2': 2.6001701924562996e-05, 'num_leaves': 143, 'feature_fraction': 0.45579202226554727, 'bagging_fraction': 0.9152077376839239, 'bagging_freq': 4, 'min_child_samples': 90}. Best is trial 49 with value: 0.814375.\n"
     ]
    },
    {
     "name": "stdout",
     "output_type": "stream",
     "text": [
      "Early stopping, best iteration is:\n",
      "[47]\tvalid_0's binary_error: 0.193125\n",
      "Training until validation scores don't improve for 10 rounds\n",
      "Early stopping, best iteration is:\n",
      "[51]\tvalid_0's binary_error: 0.1875\n"
     ]
    },
    {
     "name": "stderr",
     "output_type": "stream",
     "text": [
      "[I 2024-01-17 11:49:21,360] Trial 80 finished with value: 0.801875 and parameters: {'lambda_l1': 5.267879754037393e-05, 'lambda_l2': 2.8859942968081785e-05, 'num_leaves': 184, 'feature_fraction': 0.4827910471065407, 'bagging_fraction': 0.9150486695885602, 'bagging_freq': 4, 'min_child_samples': 89}. Best is trial 49 with value: 0.814375.\n",
      "[I 2024-01-17 11:49:21,493] Trial 81 finished with value: 0.810625 and parameters: {'lambda_l1': 9.675555422267162e-06, 'lambda_l2': 9.665613554774427e-05, 'num_leaves': 146, 'feature_fraction': 0.4556574962028691, 'bagging_fraction': 0.8941527737375761, 'bagging_freq': 4, 'min_child_samples': 93}. Best is trial 49 with value: 0.814375.\n"
     ]
    },
    {
     "name": "stdout",
     "output_type": "stream",
     "text": [
      "Training until validation scores don't improve for 10 rounds\n",
      "Early stopping, best iteration is:\n",
      "[27]\tvalid_0's binary_error: 0.198125\n",
      "Training until validation scores don't improve for 10 rounds\n",
      "Early stopping, best iteration is:\n",
      "[44]\tvalid_0's binary_error: 0.189375\n"
     ]
    },
    {
     "name": "stderr",
     "output_type": "stream",
     "text": [
      "[I 2024-01-17 11:49:21,635] Trial 82 finished with value: 0.806875 and parameters: {'lambda_l1': 1.1350332112458031e-05, 'lambda_l2': 0.00010653706274379323, 'num_leaves': 141, 'feature_fraction': 0.4559014769213151, 'bagging_fraction': 0.8877494557970363, 'bagging_freq': 3, 'min_child_samples': 97}. Best is trial 49 with value: 0.814375.\n"
     ]
    },
    {
     "name": "stdout",
     "output_type": "stream",
     "text": [
      "Training until validation scores don't improve for 10 rounds\n",
      "Early stopping, best iteration is:\n",
      "[34]\tvalid_0's binary_error: 0.193125\n",
      "Training until validation scores don't improve for 10 rounds\n",
      "Early stopping, best iteration is:\n",
      "[40]\tvalid_0's binary_error: 0.1925\n"
     ]
    },
    {
     "name": "stderr",
     "output_type": "stream",
     "text": [
      "[I 2024-01-17 11:49:21,780] Trial 83 finished with value: 0.8075 and parameters: {'lambda_l1': 6.330822375251877e-06, 'lambda_l2': 6.277902492122507e-05, 'num_leaves': 152, 'feature_fraction': 0.43643703341244494, 'bagging_fraction': 0.8721975545149349, 'bagging_freq': 4, 'min_child_samples': 92}. Best is trial 49 with value: 0.814375.\n",
      "[I 2024-01-17 11:49:21,912] Trial 84 finished with value: 0.80125 and parameters: {'lambda_l1': 2.278757019670192e-05, 'lambda_l2': 0.0002939128735854683, 'num_leaves': 146, 'feature_fraction': 0.47247893551125486, 'bagging_fraction': 0.9656940254964061, 'bagging_freq': 4, 'min_child_samples': 95}. Best is trial 49 with value: 0.814375.\n",
      "[I 2024-01-17 11:49:22,040] Trial 85 finished with value: 0.80625 and parameters: {'lambda_l1': 3.088064109707384e-06, 'lambda_l2': 1.0783240972215054e-05, 'num_leaves': 161, 'feature_fraction': 0.4218331256484696, 'bagging_fraction': 0.8945817261759758, 'bagging_freq': 4, 'min_child_samples': 91}. Best is trial 49 with value: 0.814375.\n"
     ]
    },
    {
     "name": "stdout",
     "output_type": "stream",
     "text": [
      "Training until validation scores don't improve for 10 rounds\n",
      "Early stopping, best iteration is:\n",
      "[34]\tvalid_0's binary_error: 0.19875\n",
      "Training until validation scores don't improve for 10 rounds\n",
      "Early stopping, best iteration is:\n",
      "[39]\tvalid_0's binary_error: 0.19375\n"
     ]
    },
    {
     "name": "stderr",
     "output_type": "stream",
     "text": [
      "[I 2024-01-17 11:49:22,242] Trial 86 finished with value: 0.804375 and parameters: {'lambda_l1': 1.2183803536206093e-05, 'lambda_l2': 4.2925042261804475e-05, 'num_leaves': 58, 'feature_fraction': 0.493901398651853, 'bagging_fraction': 0.919278325253433, 'bagging_freq': 3, 'min_child_samples': 72}. Best is trial 49 with value: 0.814375.\n"
     ]
    },
    {
     "name": "stdout",
     "output_type": "stream",
     "text": [
      "Training until validation scores don't improve for 10 rounds\n",
      "Early stopping, best iteration is:\n",
      "[30]\tvalid_0's binary_error: 0.195625\n",
      "Training until validation scores don't improve for 10 rounds\n"
     ]
    },
    {
     "name": "stderr",
     "output_type": "stream",
     "text": [
      "[I 2024-01-17 11:49:22,417] Trial 87 finished with value: 0.81125 and parameters: {'lambda_l1': 1.6043181961176323e-06, 'lambda_l2': 0.0010872802952754917, 'num_leaves': 170, 'feature_fraction': 0.45717236732908045, 'bagging_fraction': 0.8254368006316021, 'bagging_freq': 4, 'min_child_samples': 99}. Best is trial 49 with value: 0.814375.\n",
      "[I 2024-01-17 11:49:22,558] Trial 88 finished with value: 0.805 and parameters: {'lambda_l1': 1.6218864584550715e-06, 'lambda_l2': 0.0009023839933497706, 'num_leaves': 132, 'feature_fraction': 0.5169897045175825, 'bagging_fraction': 0.8534298115193621, 'bagging_freq': 4, 'min_child_samples': 100}. Best is trial 49 with value: 0.814375.\n"
     ]
    },
    {
     "name": "stdout",
     "output_type": "stream",
     "text": [
      "Early stopping, best iteration is:\n",
      "[55]\tvalid_0's binary_error: 0.18875\n",
      "Training until validation scores don't improve for 10 rounds\n",
      "Early stopping, best iteration is:\n",
      "[43]\tvalid_0's binary_error: 0.195\n"
     ]
    },
    {
     "name": "stderr",
     "output_type": "stream",
     "text": [
      "[I 2024-01-17 11:49:22,706] Trial 89 finished with value: 0.803125 and parameters: {'lambda_l1': 3.945363295351475e-05, 'lambda_l2': 0.0004499904408101756, 'num_leaves': 140, 'feature_fraction': 0.45395774960465873, 'bagging_fraction': 0.8725164994930201, 'bagging_freq': 4, 'min_child_samples': 98}. Best is trial 49 with value: 0.814375.\n"
     ]
    },
    {
     "name": "stdout",
     "output_type": "stream",
     "text": [
      "Training until validation scores don't improve for 10 rounds\n",
      "Early stopping, best iteration is:\n",
      "[33]\tvalid_0's binary_error: 0.196875\n",
      "Training until validation scores don't improve for 10 rounds\n"
     ]
    },
    {
     "name": "stderr",
     "output_type": "stream",
     "text": [
      "[I 2024-01-17 11:49:22,923] Trial 90 finished with value: 0.8125 and parameters: {'lambda_l1': 6.452644301732225e-07, 'lambda_l2': 0.000212441540488481, 'num_leaves': 171, 'feature_fraction': 0.476430672579074, 'bagging_fraction': 0.8193896401918087, 'bagging_freq': 4, 'min_child_samples': 93}. Best is trial 49 with value: 0.814375.\n",
      "[I 2024-01-17 11:49:23,044] Trial 91 finished with value: 0.809375 and parameters: {'lambda_l1': 2.544221421356585e-07, 'lambda_l2': 0.00015356146663226012, 'num_leaves': 169, 'feature_fraction': 0.47956269989276834, 'bagging_fraction': 0.822301881499579, 'bagging_freq': 4, 'min_child_samples': 94}. Best is trial 49 with value: 0.814375.\n"
     ]
    },
    {
     "name": "stdout",
     "output_type": "stream",
     "text": [
      "Early stopping, best iteration is:\n",
      "[59]\tvalid_0's binary_error: 0.1875\n",
      "Training until validation scores don't improve for 10 rounds\n",
      "Early stopping, best iteration is:\n",
      "[42]\tvalid_0's binary_error: 0.190625\n"
     ]
    },
    {
     "name": "stderr",
     "output_type": "stream",
     "text": [
      "[I 2024-01-17 11:49:23,204] Trial 92 finished with value: 0.805 and parameters: {'lambda_l1': 1.078880290090933e-06, 'lambda_l2': 6.717677715854408e-05, 'num_leaves': 176, 'feature_fraction': 0.46353739345854716, 'bagging_fraction': 0.8418564014577347, 'bagging_freq': 4, 'min_child_samples': 90}. Best is trial 49 with value: 0.814375.\n"
     ]
    },
    {
     "name": "stdout",
     "output_type": "stream",
     "text": [
      "Training until validation scores don't improve for 10 rounds\n",
      "Early stopping, best iteration is:\n",
      "[45]\tvalid_0's binary_error: 0.195\n",
      "Training until validation scores don't improve for 10 rounds\n"
     ]
    },
    {
     "name": "stderr",
     "output_type": "stream",
     "text": [
      "[I 2024-01-17 11:49:23,349] Trial 93 finished with value: 0.805625 and parameters: {'lambda_l1': 5.38488701050603e-07, 'lambda_l2': 0.0002555443729917673, 'num_leaves': 157, 'feature_fraction': 0.43297239199057075, 'bagging_fraction': 0.79213453732992, 'bagging_freq': 4, 'min_child_samples': 40}. Best is trial 49 with value: 0.814375.\n",
      "[I 2024-01-17 11:49:23,462] Trial 94 finished with value: 0.785 and parameters: {'lambda_l1': 5.1366955168394974e-06, 'lambda_l2': 0.0005470540001949907, 'num_leaves': 149, 'feature_fraction': 0.4478323192483485, 'bagging_fraction': 0.8543893609429563, 'bagging_freq': 3, 'min_child_samples': 98}. Best is trial 49 with value: 0.814375.\n"
     ]
    },
    {
     "name": "stdout",
     "output_type": "stream",
     "text": [
      "Early stopping, best iteration is:\n",
      "[30]\tvalid_0's binary_error: 0.194375\n",
      "Training until validation scores don't improve for 10 rounds\n",
      "Early stopping, best iteration is:\n",
      "[4]\tvalid_0's binary_error: 0.215\n"
     ]
    },
    {
     "name": "stderr",
     "output_type": "stream",
     "text": [
      "[I 2024-01-17 11:49:23,665] Trial 95 finished with value: 0.809375 and parameters: {'lambda_l1': 9.066694474305299e-06, 'lambda_l2': 0.0017665057173406114, 'num_leaves': 124, 'feature_fraction': 0.4965451601619051, 'bagging_fraction': 0.8990168830765274, 'bagging_freq': 4, 'min_child_samples': 93}. Best is trial 49 with value: 0.814375.\n",
      "[I 2024-01-17 11:49:23,761] Trial 96 finished with value: 0.783125 and parameters: {'lambda_l1': 2.5807947659516096e-06, 'lambda_l2': 9.190222262853498e-05, 'num_leaves': 103, 'feature_fraction': 0.46348197815614295, 'bagging_fraction': 0.8291113776591896, 'bagging_freq': 5, 'min_child_samples': 95}. Best is trial 49 with value: 0.814375.\n"
     ]
    },
    {
     "name": "stdout",
     "output_type": "stream",
     "text": [
      "Training until validation scores don't improve for 10 rounds\n",
      "Early stopping, best iteration is:\n",
      "[41]\tvalid_0's binary_error: 0.190625\n",
      "Training until validation scores don't improve for 10 rounds\n",
      "Early stopping, best iteration is:\n",
      "[1]\tvalid_0's binary_error: 0.216875\n"
     ]
    },
    {
     "name": "stderr",
     "output_type": "stream",
     "text": [
      "[I 2024-01-17 11:49:23,869] Trial 97 finished with value: 0.7925 and parameters: {'lambda_l1': 2.0879208828619884e-05, 'lambda_l2': 2.5285838882922413e-05, 'num_leaves': 160, 'feature_fraction': 0.5430742270168446, 'bagging_fraction': 0.8742010356845074, 'bagging_freq': 5, 'min_child_samples': 89}. Best is trial 49 with value: 0.814375.\n",
      "[I 2024-01-17 11:49:24,027] Trial 98 finished with value: 0.803125 and parameters: {'lambda_l1': 1.535302800387085e-06, 'lambda_l2': 0.0001881032921221775, 'num_leaves': 203, 'feature_fraction': 0.4163065722258043, 'bagging_fraction': 0.9373236516841488, 'bagging_freq': 4, 'min_child_samples': 100}. Best is trial 49 with value: 0.814375.\n"
     ]
    },
    {
     "name": "stdout",
     "output_type": "stream",
     "text": [
      "Training until validation scores don't improve for 10 rounds\n",
      "Early stopping, best iteration is:\n",
      "[12]\tvalid_0's binary_error: 0.2075\n",
      "Training until validation scores don't improve for 10 rounds\n",
      "Early stopping, best iteration is:\n",
      "[33]\tvalid_0's binary_error: 0.196875\n"
     ]
    },
    {
     "name": "stderr",
     "output_type": "stream",
     "text": [
      "[I 2024-01-17 11:49:24,209] Trial 99 finished with value: 0.804375 and parameters: {'lambda_l1': 3.949605374603884e-06, 'lambda_l2': 0.0007845597414152589, 'num_leaves': 131, 'feature_fraction': 0.4757035549952813, 'bagging_fraction': 0.8402071222281411, 'bagging_freq': 5, 'min_child_samples': 17}. Best is trial 49 with value: 0.814375.\n"
     ]
    },
    {
     "name": "stdout",
     "output_type": "stream",
     "text": [
      "Training until validation scores don't improve for 10 rounds\n",
      "Early stopping, best iteration is:\n",
      "[31]\tvalid_0's binary_error: 0.195625\n",
      "[1 1 0 ... 1 1 0]\n"
     ]
    }
   ],
   "source": [
    "\n",
    "\n",
    "# データの準備\n",
    "X = train.drop('blueWins', axis=1)\n",
    "y = train['blueWins']\n",
    "X_train, X_val, y_train, y_val = train_test_split(X, y, test_size=0.2, random_state=0)\n",
    "\n",
    "# Optunaでのハイパーパラメータチューニング\n",
    "def objective(trial):\n",
    "    param = {\n",
    "        'objective': 'binary',\n",
    "        'metric': 'binary_error',\n",
    "        'verbosity': -1,\n",
    "        'boosting_type': 'gbdt',\n",
    "        'lambda_l1': trial.suggest_float('lambda_l1', 1e-8, 10.0, log=True),\n",
    "        'lambda_l2': trial.suggest_float('lambda_l2', 1e-8, 10.0, log=True),\n",
    "        'num_leaves': trial.suggest_int('num_leaves', 2, 256),\n",
    "        'feature_fraction': trial.suggest_float('feature_fraction', 0.4, 1.0),\n",
    "        'bagging_fraction': trial.suggest_float('bagging_fraction', 0.4, 1.0),\n",
    "        'bagging_freq': trial.suggest_int('bagging_freq', 1, 7),\n",
    "        'min_child_samples': trial.suggest_int('min_child_samples', 5, 100)\n",
    "    }\n",
    "\n",
    "    lgb_train = lgb.Dataset(X_train, y_train)\n",
    "    lgb_val = lgb.Dataset(X_val, y_val, reference=lgb_train)\n",
    "\n",
    "    verbose_eval = 0\n",
    "    verbose = lgb.log_evaluation(verbose_eval)\n",
    "\n",
    "    # 早期停止の設定\n",
    "    early_stopping = lgb.early_stopping(stopping_rounds=10, verbose=True)\n",
    "    model = lgb.train(param, lgb_train, num_boost_round=1000, valid_sets=[lgb_val], callbacks=[early_stopping, verbose])\n",
    "    y_pred = model.predict(X_val, num_iteration=model.best_iteration)\n",
    "    y_pred = (y_pred > 0.5).astype(int)\n",
    "    accuracy = accuracy_score(y_val, y_pred)\n",
    "\n",
    "    return accuracy\n",
    "\n",
    "study = optuna.create_study(direction='maximize')\n",
    "study.optimize(objective, n_trials=100)\n",
    "\n",
    "# 最適なハイパーパラメータでモデルを再学習\n",
    "best_params = study.best_params\n",
    "best_params['objective'] = 'binary'\n",
    "best_params['metric'] = 'binary_error'\n",
    "best_params['verbosity'] = -1\n",
    "\n",
    "lgb_train = lgb.Dataset(X, y)\n",
    "model = lgb.train(best_params, lgb_train, num_boost_round=study.best_trial.number)\n",
    "\n",
    "# テストデータに対する予測\n",
    "y_test_pred = model.predict(test)\n",
    "y_test_pred_int = (y_test_pred > 0.5).astype(int)\n",
    "\n",
    "# 予測結果の表示\n",
    "print(y_test_pred_int)\n"
   ]
  },
  {
   "cell_type": "markdown",
   "metadata": {},
   "source": [
    "- testにy_test_pred結合"
   ]
  },
  {
   "cell_type": "code",
   "execution_count": 31,
   "metadata": {},
   "outputs": [],
   "source": [
    "output = '../data/output/submit_cv_oputuna.csv'"
   ]
  },
  {
   "cell_type": "code",
   "execution_count": 32,
   "metadata": {},
   "outputs": [],
   "source": [
    "submit = pd.DataFrame({\n",
    "    '0': test['gameId'],\n",
    "    '1': y_test_pred_int\n",
    "})\n",
    "\n",
    "# カラムヘッダー消去して出力\n",
    "# ヘッダーなしでCSVファイルとして保存\n",
    "submit.to_csv(output, header=False, index=False)"
   ]
  },
  {
   "cell_type": "markdown",
   "metadata": {},
   "source": [
    "- 出力csvチェック"
   ]
  },
  {
   "cell_type": "code",
   "execution_count": 33,
   "metadata": {},
   "outputs": [],
   "source": [
    "check = pd.read_csv(output)"
   ]
  },
  {
   "cell_type": "code",
   "execution_count": 34,
   "metadata": {},
   "outputs": [
    {
     "data": {
      "text/html": [
       "<div>\n",
       "<style scoped>\n",
       "    .dataframe tbody tr th:only-of-type {\n",
       "        vertical-align: middle;\n",
       "    }\n",
       "\n",
       "    .dataframe tbody tr th {\n",
       "        vertical-align: top;\n",
       "    }\n",
       "\n",
       "    .dataframe thead th {\n",
       "        text-align: right;\n",
       "    }\n",
       "</style>\n",
       "<table border=\"1\" class=\"dataframe\">\n",
       "  <thead>\n",
       "    <tr style=\"text-align: right;\">\n",
       "      <th></th>\n",
       "      <th>9</th>\n",
       "      <th>1</th>\n",
       "    </tr>\n",
       "  </thead>\n",
       "  <tbody>\n",
       "    <tr>\n",
       "      <th>0</th>\n",
       "      <td>15</td>\n",
       "      <td>1</td>\n",
       "    </tr>\n",
       "    <tr>\n",
       "      <th>1</th>\n",
       "      <td>18</td>\n",
       "      <td>0</td>\n",
       "    </tr>\n",
       "    <tr>\n",
       "      <th>2</th>\n",
       "      <td>23</td>\n",
       "      <td>0</td>\n",
       "    </tr>\n",
       "    <tr>\n",
       "      <th>3</th>\n",
       "      <td>31</td>\n",
       "      <td>1</td>\n",
       "    </tr>\n",
       "    <tr>\n",
       "      <th>4</th>\n",
       "      <td>32</td>\n",
       "      <td>1</td>\n",
       "    </tr>\n",
       "    <tr>\n",
       "      <th>...</th>\n",
       "      <td>...</td>\n",
       "      <td>...</td>\n",
       "    </tr>\n",
       "    <tr>\n",
       "      <th>1994</th>\n",
       "      <td>9971</td>\n",
       "      <td>0</td>\n",
       "    </tr>\n",
       "    <tr>\n",
       "      <th>1995</th>\n",
       "      <td>9980</td>\n",
       "      <td>0</td>\n",
       "    </tr>\n",
       "    <tr>\n",
       "      <th>1996</th>\n",
       "      <td>9983</td>\n",
       "      <td>1</td>\n",
       "    </tr>\n",
       "    <tr>\n",
       "      <th>1997</th>\n",
       "      <td>9996</td>\n",
       "      <td>1</td>\n",
       "    </tr>\n",
       "    <tr>\n",
       "      <th>1998</th>\n",
       "      <td>9999</td>\n",
       "      <td>0</td>\n",
       "    </tr>\n",
       "  </tbody>\n",
       "</table>\n",
       "<p>1999 rows × 2 columns</p>\n",
       "</div>"
      ],
      "text/plain": [
       "         9  1\n",
       "0       15  1\n",
       "1       18  0\n",
       "2       23  0\n",
       "3       31  1\n",
       "4       32  1\n",
       "...    ... ..\n",
       "1994  9971  0\n",
       "1995  9980  0\n",
       "1996  9983  1\n",
       "1997  9996  1\n",
       "1998  9999  0\n",
       "\n",
       "[1999 rows x 2 columns]"
      ]
     },
     "execution_count": 34,
     "metadata": {},
     "output_type": "execute_result"
    }
   ],
   "source": [
    "check"
   ]
  },
  {
   "cell_type": "code",
   "execution_count": null,
   "metadata": {},
   "outputs": [],
   "source": []
  }
 ],
 "metadata": {
  "kernelspec": {
   "display_name": "Python 3",
   "language": "python",
   "name": "python3"
  },
  "language_info": {
   "codemirror_mode": {
    "name": "ipython",
    "version": 3
   },
   "file_extension": ".py",
   "mimetype": "text/x-python",
   "name": "python",
   "nbconvert_exporter": "python",
   "pygments_lexer": "ipython3",
   "version": "3.10.11"
  }
 },
 "nbformat": 4,
 "nbformat_minor": 2
}
